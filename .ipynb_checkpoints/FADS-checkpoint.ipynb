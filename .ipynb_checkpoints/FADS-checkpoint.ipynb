{
 "cells": [
  {
   "cell_type": "markdown",
   "metadata": {},
   "source": [
    "# FORT Atom Dynamics Simulator (FADS) #\n",
    "Preston Huft, July 2019\n",
    "\n",
    "For simulating atom dynamics in a far-off resonance trap (FORT), including\n",
    "- chopped cooling\n",
    "- release recapture temperature measurements\n",
    "- power modulation resonance searches (parametric heating)"
   ]
  },
  {
   "cell_type": "markdown",
   "metadata": {},
   "source": [
    "# notes and todo\n",
    "\n",
    "- all methods added so far work\n",
    "- do single atom case studies to test functionality\n",
    "- make experiment class in which FORT on/off times, chopping phases,\n",
    "    and drops are set, following our experiment cycle design\n",
    "    - plot the waveform to check\n",
    "    - do atom exp with 100% single atom loading and simulated \"second\"\n",
    "        readout checking whether the atom position is within the FORT\n",
    "        radius\n",
    "\n",
    "\n",
    "# pseudocode here\n",
    "\n",
    "do this with objects. have an atom class, an experiment class to set FORT on off times, etc. \n",
    "do this for several atoms, say 100: \n",
    "capture an atom with a random velocity corresponding to a given T, say 25 uK\n",
    "integrate the differential eq for the FORT being on either continuously or chopped (state machine it?)\n",
    "the eq should use the dipole force given a gaussian intensity profile in r, and whatever shape the focus is\n",
    "calculate things like mean squared velocity in the FORT to track temp, kinetic energy"
   ]
  },
  {
   "cell_type": "code",
   "execution_count": 299,
   "metadata": {},
   "outputs": [],
   "source": [
    "# %matplotlib notebook\n",
    "from matplotlib import pyplot as plt\n",
    "import numpy as np\n",
    "from numpy import linspace,sin,cos,log,exp\n",
    "import math as m\n",
    "from math import sqrt,pi,e,exp\n",
    "from random import random as rand\n",
    "from scipy.integrate import solve_ivp"
   ]
  },
  {
   "cell_type": "code",
   "execution_count": 300,
   "metadata": {},
   "outputs": [],
   "source": [
    "## physical constants\n",
    "ee = 1.60217662e-19 # [C]\n",
    "a0 = 5.22e-11 # [m]\n",
    "hbar = 1.0545718e-34 # [J s]\n",
    "c = 299792458 # [m/s]\n",
    "e0 = 8.85418782e-12 # [m^-3 kg^-1 s^4 A^2]\n",
    "u0 = 1.25663706e-6 # [m kg s^-2 A^-2]\n",
    "me = 9.10938356e-31 # [kg]\n",
    "uB = 9.274e-24 # [J/T]\n",
    "kB = 1.3807e-23 # [J/K]\n",
    "\n",
    "## Rb87 constants\n",
    "mRb = 1.4192261e-25 # [kg]\n",
    "I = 3/2 # nuclear spin\n",
    "nu_hf = 6.83468261090429 # [GHz]\n",
    "gamma_D2 =2*pi*6.0659e6 ; # [rad/s]\n",
    "lambda_D2 = 7.8e-7 # [m]\n",
    "omega_D2 = 2*pi*c/lambda_D2\n",
    "gS = 2.00023\n",
    "gL = 1 # for ground state?\n",
    "gI = -0.000995\n",
    "Isat = (5/7)*(hbar*gamma_D2*omega_D2**3\n",
    "             /(12*pi*c**2)) \n",
    "    # saturation intensity for D2 cooling W/m^2\n",
    "\n",
    "## reduced matrix elements from Steck\n",
    "D2_MatElem = 3.584e-29 # <J=1/2||er||J'=3/2> [C*m]\n",
    "D1_MatElem = 2.537e-29 # <J=1/2||er||J'=1/2> [C*m]"
   ]
  },
  {
   "cell_type": "code",
   "execution_count": 301,
   "metadata": {},
   "outputs": [],
   "source": [
    "## methods\n",
    "\n",
    "# could sampling a class. can get normalization, max, etc\n",
    "# via object properties\n",
    "def maxboltzv(T,v,normalization=False):\n",
    "    \"\"\" Maxwell-Boltzmann distribution of speeds for 3-dimensional\n",
    "        gas. Returns f(v) for T. \"\"\"\n",
    "    global kB,mRb\n",
    "    m = mRb\n",
    "    \n",
    "    A = 4*pi*(m/(2*pi*kB*T))**(3/2) # normalization consts\n",
    "    meanv = sqrt(2*kB*T/m) # the maximum occurs at the mean\n",
    "    \n",
    "    if normalization is True:\n",
    "        return A\n",
    "    else:\n",
    "        return A*v**2*exp(-m*v**2/(2*kB*T))\n",
    "\n",
    "def sampling_maxboltzv(size,domain,T,vectorial=False,showplot=False):\n",
    "    \"\"\" Sample random speeds with a Maxwell-Boltzmann dist. \n",
    "        'size': sample size\n",
    "        'domain': [v1,v2] the restricted domain of the pdf; e.g.\n",
    "            a Guassian goes to zero well before inf so we could\n",
    "            let the domain be a finite region\n",
    "        'T': temperature\n",
    "        'vectorial': \n",
    "            If False, only return a scalar. \n",
    "            Set to True to return velocity vectors with a \n",
    "            direction from a flat distribution. \n",
    "    \"\"\"\n",
    "    global kB,mRb\n",
    "    m = mRb\n",
    "    \n",
    "    n = size \n",
    "    v1,v2 = domain\n",
    "    \n",
    "    mean = sqrt(2*kB*T/m)\n",
    "    fmax = maxboltzv(T,mean) # the maximum\n",
    "    y_dist = np.empty(n) \n",
    "    f_dist = np.empty(n) \n",
    "    v_dist = np.empty(n) # this is the distribution we want\n",
    "    j = 0 # dist index\n",
    "    while j < n:\n",
    "        v = (v2-v1)*rand() # rand val on domain of f(x)\n",
    "        f = maxboltzv(T,v)\n",
    "        y = rand()*fmax # rand val on range of f(x)\n",
    "        if y <= f:\n",
    "            y_dist[j]=y\n",
    "            f_dist[j]=f\n",
    "            v_dist[j]=v # x vals with approximate gaussian pdf\n",
    "            j+=1\n",
    "            \n",
    "    # plot distribution as a check:\n",
    "    if showplot is not False:\n",
    "        plt.scatter(v_dist,y_dist,c='red',s=10)\n",
    "        plt.scatter(v_dist,f_dist,c='blue',s=10)\n",
    "        plt.show()\n",
    "    \n",
    "    return v_dist\n",
    "\n",
    "def squarewave(d,tau,t,n):\n",
    "    \"\"\" square wave with duty cycle 'd' and period 'tau' [s]\n",
    "        evaluated at time 't' % tau. \n",
    "        'n': number of Fourier terms\n",
    "    \"\"\"\n",
    "    t = t % tau\n",
    "    \n",
    "    term = lambda m: 2*(1-cos(m*pi*d))*sin(m*pi*t/tau)/(m*pi)\n",
    "    sqwv = 0\n",
    "    for i in range(1,n):\n",
    "        sqwv += term(i)\n",
    "    \n",
    "    return sqwv\n",
    "\n",
    "def fr_dipole(r,delta,w0,I0,dist='Gaussian'):\n",
    "    \"\"\" Radial component of dipole force felt by an atom located at\n",
    "        r. \n",
    "        'delta': light detuning from the relevant transition\n",
    "        'w0': characteristic trap radius, e.g. gaussian waist\n",
    "        'dist': trap cross section shape, e.g. poisson\n",
    "        'I0': peak spatial intensity\n",
    "    \"\"\"\n",
    "    global hbar,Isat,gamma_D2\n",
    "    \n",
    "    # assume dist = Gaussian for now\n",
    "    I = lambda x: I0*exp(-x**2/w0**2)\n",
    "    gradI = lambda x: -2*I0*x*exp(-x**2/w0**2)/w0**2\n",
    "    \n",
    "    fdip = -(hbar*delta/2)*((gradI(r)/Isat)\n",
    "                            /(1+4*(delta/gamma_D2)**2)+I(r)/Isat)\n",
    "    return fdip"
   ]
  },
  {
   "cell_type": "code",
   "execution_count": 59,
   "metadata": {
    "collapsed": true
   },
   "outputs": [
    {
     "data": {
      "image/png": "[encoded data removed]",
      "text/plain": [
       "<Figure size 432x288 with 1 Axes>"
      ]
     },
     "metadata": {
      "needs_background": "light"
     },
     "output_type": "display_data"
    },
    {
     "data": {
      "text/plain": [
       "array([0.05031904, 0.16022072, 0.12368087, 0.18210439, 0.1441617 ,\n",
       "       0.35623461, 0.08079643, 0.13866883, 0.28384205, 0.12351311,\n",
       "       0.13649289, 0.24698723, 0.05384434, 0.10087377, 0.1105479 ,\n",
       "       0.14078849, 0.10608007, 0.18553234, 0.14388256, 0.10094857,\n",
       "       0.10089314, 0.16233102, 0.10254153, 0.1591462 , 0.21858024,\n",
       "       0.22513252, 0.13103628, 0.16188067, 0.1008852 , 0.18818937,\n",
       "       0.12953205, 0.09923932, 0.14952402, 0.24122295, 0.18318945,\n",
       "       0.17357794, 0.24161754, 0.05614382, 0.17206107, 0.10019745,\n",
       "       0.08968118, 0.27187404, 0.14804693, 0.21675937, 0.10063368,\n",
       "       0.13727539, 0.35232961, 0.16513552, 0.18203173, 0.30536454,\n",
       "       0.1885234 , 0.064568  , 0.14193937, 0.19440926, 0.07091191,\n",
       "       0.08385346, 0.05562571, 0.18214976, 0.13556871, 0.26572861,\n",
       "       0.13719111, 0.08699479, 0.15012977, 0.16936913, 0.15721296,\n",
       "       0.3070394 , 0.24256281, 0.134952  , 0.15595178, 0.1638083 ,\n",
       "       0.22592606, 0.16432704, 0.181818  , 0.06936911, 0.14849058,\n",
       "       0.10970976, 0.17816721, 0.10075089, 0.14047843, 0.12040514,\n",
       "       0.19290691, 0.13604473, 0.18680497, 0.13352557, 0.07762396,\n",
       "       0.0436555 , 0.09729742, 0.21597611, 0.18653484, 0.18454365,\n",
       "       0.08316525, 0.13368182, 0.18683994, 0.15542954, 0.15776638,\n",
       "       0.31347308, 0.09732372, 0.10334968, 0.10772337, 0.12854354])"
      ]
     },
     "execution_count": 59,
     "metadata": {},
     "output_type": "execute_result"
    }
   ],
   "source": [
    "# maxwboltz test\n",
    "sampling_maxboltzv(100,[0,1],.000100,showplot=True)"
   ]
  },
  {
   "cell_type": "code",
   "execution_count": 165,
   "metadata": {
    "collapsed": true
   },
   "outputs": [
    {
     "data": {
      "text/plain": [
       "[<matplotlib.lines.Line2D at 0x223d60501d0>]"
      ]
     },
     "execution_count": 165,
     "metadata": {},
     "output_type": "execute_result"
    },
    {
     "data": {
      "image/png": "[encoded data removed]",
      "text/plain": [
       "<Figure size 432x288 with 1 Axes>"
      ]
     },
     "metadata": {
      "needs_background": "light"
     },
     "output_type": "display_data"
    }
   ],
   "source": [
    "# fr_dipole test\n",
    "w0 = 2.5e-6\n",
    "D = 2e8\n",
    "I0 = .4*.384/(pi*(w0)) \n",
    "\n",
    "rpts = linspace(0,5,30)\n",
    "fpts = [fr_dipole(r*1e-6,D,w0,I0) for r in rpts]\n",
    "plt.plot(rpts,fpts)"
   ]
  },
  {
   "cell_type": "code",
   "execution_count": 272,
   "metadata": {},
   "outputs": [
    {
     "data": {
      "text/plain": [
       "1.3158794269163735e-14"
      ]
     },
     "execution_count": 272,
     "metadata": {},
     "output_type": "execute_result"
    }
   ],
   "source": [
    "# FORT potential wrt inf and escape velocity\n",
    "w0 = 2.5e-6\n",
    "D = 2e8\n",
    "I0 = .4*.384/(pi*(w0)) \n",
    "g = gamma_D2\n",
    "\n",
    "# integral Fdip from 0 to inf in mathematica. Check Mark's notes\n",
    "U = .5*hbar*w0**2*D*log(1+I0*g**2/(Isat*(g**2+4*D**2)))\n",
    "U/kB # why is this so small?\n",
    "\n",
    "# get escape vel from this"
   ]
  },
  {
   "cell_type": "code",
   "execution_count": 91,
   "metadata": {
    "collapsed": true
   },
   "outputs": [
    {
     "data": {
      "text/plain": [
       "[<matplotlib.lines.Line2D at 0x223d080ab00>]"
      ]
     },
     "execution_count": 91,
     "metadata": {},
     "output_type": "execute_result"
    },
    {
     "data": {
      "image/png": "[encoded data removed]",
      "text/plain": [
       "<Figure size 432x288 with 1 Axes>"
      ]
     },
     "metadata": {
      "needs_background": "light"
     },
     "output_type": "display_data"
    }
   ],
   "source": [
    "# squarewave test\n",
    "tlist = linspace(0,4,500)\n",
    "sqpts = [squarewave(0.7,2,t,100) for t in tlist]\n",
    "plt.plot(tlist,sqpts)"
   ]
  },
  {
   "cell_type": "code",
   "execution_count": 343,
   "metadata": {},
   "outputs": [],
   "source": [
    "## classes \n",
    "\n",
    "class RbEnsemble():\n",
    "    \"\"\" Ensemble of Rb atoms with a momentum distribution specified\n",
    "        by temperature. Optional spatial distribution.\n",
    "        \n",
    "        'T'= temperature\n",
    "        'size'= number of atoms\n",
    "        'xdist': optional parameter specifying the initial\n",
    "            position distribution\n",
    "    \"\"\"\n",
    "    global mRb\n",
    "    \n",
    "    \n",
    "    def __init__(self,T,size=None,xdist=None):\n",
    "        \n",
    "        # For efficiency, pre-generate a specified number of atoms\n",
    "        if size is not None:\n",
    "            self.size = size\n",
    "            self.temp = T\n",
    "            self.v = sampling_maxboltzv(self.size,[0,1],self.temp) # rms\n",
    "            self.p = mRb*self.v # rms\n",
    "            self.x = np.empty(self.size)\n",
    "            if xdist is None:\n",
    "                self.x = np.zeros(self.size)\n",
    "            elif xdist is 'normal':\n",
    "                self.x = np.random.normal(0,size=self.size)\n",
    "        else:\n",
    "            self.size = 0\n",
    "            self.temp = T\n",
    "            self.v = np.array([]) # rms\n",
    "            self.p = np.array([]) # rms\n",
    "            self.x = np.array([])\n",
    "            \n",
    "    def phasespace(self):\n",
    "        \"\"\" Plots the ensemble in phase space. 1D x and p only for \n",
    "            now.\n",
    "        \"\"\"\n",
    "        xmax = max(self.x) # like xmas but better\n",
    "        xmin = min(self.x) # because i said so\n",
    "        dx = xmax-xmin\n",
    "        \n",
    "        pmax = max(self.p)/mRb\n",
    "        pmin = min(self.p)/mRb\n",
    "        dp = pmax-pmin\n",
    "        \n",
    "        fig, ax = plt.subplots()\n",
    "        ax.scatter(self.p/mRb,self.x)#,linestyle=None)\n",
    "        ax.set(xlabel='p [m/(s mRb)]', ylabel='r [arb]',\n",
    "               xlim=(pmin-.1*dp,pmax+.1*dp),\n",
    "               ylim=(xmin-.1*dx,xmax*+.1*dx))\n",
    "        plt.show()\n",
    "        \n",
    "    def vpt(self):\n",
    "        \"\"\" Return a speed from Maxwell-Boltzmann dist. \"\"\"\n",
    "        return sampling_maxboltzv(1,[0,1],self.temp)\n",
    "    \n",
    "    def xpt(self,domain):\n",
    "        \"\"\" Return a position from a flat dist by default. \"\"\"\n",
    "        \n",
    "        x1,x2 = domain\n",
    "        x = rand()*(x2-x1)\n",
    "        return x\n",
    "        \n",
    "        \n",
    "class Experiment():\n",
    "    \"\"\" Do some science \"\"\"\n",
    "    \n",
    "    global mRb\n",
    "\n",
    "    ## experimental constants and methods\n",
    "    w0 = 2.5e-6 # FORT width\n",
    "    D = 2e8 # FORT detuning [Hz] from D2 cooling line\n",
    "    I0 = .4*.384/(pi*(w0)) # FORT peak intensity\n",
    "    lowpow = .7 # FORT low power setting [percentage]\n",
    "    fdip = lambda r: fr_dipole(r,D,w0,I0) # FORT dipole F_r\n",
    "    \n",
    "    def __init__(self,atoms): \n",
    "        \n",
    "        # later could just inherit RbEnsemble \n",
    "        self.atoms = atoms \n",
    "        \n",
    "        # all times in [ms] for now\n",
    "        self.t_exp = 100 \n",
    "        self.t_FORTload = 0\n",
    "        self.t_FORTdrop = [] # duration of FORT turned off\n",
    "        self.t_chop = [] # duration of chopping\n",
    "        self.chopduty = [] # chop duty cycle\n",
    "        self.chopperiod = [] # chop period\n",
    "\n",
    "        scan = self.t_FORTdrop # account for other vars later\n",
    "        \n",
    "    def derivs_on(self,t,y): \n",
    "        m = mRb\n",
    "\n",
    "        v,r = y\n",
    "\n",
    "        vdot = -fdip(r)/m\n",
    "        rdot = v\n",
    "\n",
    "        return [vdot,rdot]\n",
    "\n",
    "    def derivs_off(self,t,y): \n",
    "        m = mRb\n",
    "\n",
    "        v,r = y\n",
    "\n",
    "        vdot = 0\n",
    "        rdot = v\n",
    "\n",
    "        return [vdot,rdot]\n",
    "    \n",
    "    def derivs_low(self,t,y): \n",
    "        m = mRb\n",
    "\n",
    "        v,r = y\n",
    "\n",
    "        vdot = -lowpow*fdip(r)/m\n",
    "        rdot = v\n",
    "\n",
    "        return [vdot,rdot]\n",
    "\n",
    "\n",
    "    \n",
    "    def derivs_chop(self,t,y):\n",
    "        m = mRb\n",
    "\n",
    "        v,r = y\n",
    "\n",
    "        vdot = -fdip(r)*sqwv(t)/m\n",
    "        rdot = v\n",
    "\n",
    "        return [vdot,rdot] \n",
    "        \n",
    "    def temp_exp(self,samples):\n",
    "        \"\"\" release recapture \n",
    "            'samples' = number of measurements per data point\n",
    "        \"\"\" \n",
    "        \n",
    "        # not working; plot looks null, despite loop finishing, which implies\n",
    "        # at least sample atoms were retained at loading... i guess.\n",
    "        # no more programmatic errors though\n",
    "        \n",
    "        t_drop = 30e-3 # drop the FORT at .030 s\n",
    "        t_exp = self.t_exp*1e-3 # convert to s\n",
    "        t_steps = 500\n",
    "        t_gap = self.t_FORTdrop*1e-3\n",
    "        \n",
    "        atoms = self.atoms\n",
    "        \n",
    "        retentions = np.empty(len(self.t_FORTdrop)) # atoms not lost to FORT drop\n",
    "        \n",
    "        for i,t_gap in enumerate(self.t_FORTdrop):\n",
    "            retention = 0\n",
    "            final_r = np.empty(samples)\n",
    "            for s in range(samples):\n",
    "\n",
    "                # FORT on CW\n",
    "                tdomain = [0,t_drop]\n",
    "                tlist = linspace(0,t_drop,t_steps)\n",
    "#                 y0 = [.1,.5e-6] # [v0 [m/s] ,r0 [m]]\n",
    "                y0 = [atoms.xpt([0,w0]),atoms.vpt()]\n",
    "    \n",
    "                soln1 = solve_ivp(self.derivs_on,tdomain,y0,t_eval=tlist)\n",
    "                \n",
    "                # check if atom has been retained thus far\n",
    "                r = soln1.y[1][-1]\n",
    "                final_r[s]=r\n",
    "                if r > w0: # abort this iteration\n",
    "                    s -= 1 # don't advance the counter; \n",
    "#                     break\n",
    "                else:\n",
    "                    retention+=1\n",
    "#                 # FORT off \n",
    "#                 tdomain = [t_drop,t_gap]\n",
    "#                 tlist = linspace(t_drop,t_gap,int(t_gap/t_exp))\n",
    "#                 y0 = [soln1.y[0][-1],soln1.y[1][-1]] # last vals\n",
    "#                 soln2 = solve_ivp(self.derivs_off,tdomain,y0,t_eval=tlist)\n",
    "                \n",
    "#                 # atom still within FORT cross-section after t_gap?\n",
    "#                 rf = soln2.y[1][-1]\n",
    "#                 if rf <+ w0:\n",
    "#                     retention += 1\n",
    "            plt.plot(final_r/(1e-6))\n",
    "            print(f\"iter {i}: loading = {retention/samples}\")\n",
    "            retentions[i] = retention/samples\n",
    "            \n",
    "        fig,ax = plt.subplots()\n",
    "        ax.plot(t_gap/(1e-3),retentions)\n",
    "        ax.set(xlim=[0,t_exp/(1e-3)],ylim=[0,1])\n",
    "        plt.show()\n",
    "\n",
    "        #return [t_FORTdrop,retentions]\n",
    "            "
   ]
  },
  {
   "cell_type": "code",
   "execution_count": 51,
   "metadata": {
    "collapsed": true
   },
   "outputs": [
    {
     "data": {
      "text/plain": [
       "[<matplotlib.lines.Line2D at 0x223cfa0aba8>]"
      ]
     },
     "execution_count": 51,
     "metadata": {},
     "output_type": "execute_result"
    },
    {
     "data": {
      "image/png": "[encoded data removed]",
      "text/plain": [
       "<Figure size 432x288 with 1 Axes>"
      ]
     },
     "metadata": {
      "needs_background": "light"
     },
     "output_type": "display_data"
    }
   ],
   "source": [
    "# maxboltz test\n",
    "vlist = linspace(0,1,50) # [m/s]\n",
    "f = [maxboltzv(.000100,v) for v in vlist]\n",
    "plt.plot(vlist,f)"
   ]
  },
  {
   "cell_type": "code",
   "execution_count": 316,
   "metadata": {},
   "outputs": [
    {
     "data": {
      "image/png": "[encoded data removed]",
      "text/plain": [
       "<Figure size 432x288 with 1 Axes>"
      ]
     },
     "metadata": {
      "needs_background": "light"
     },
     "output_type": "display_data"
    }
   ],
   "source": [
    "# ode solve test\n",
    "\n",
    "tau = 8e-7 # 800 ns\n",
    "texp = 5*tau\n",
    "tlist = linspace(0,texp,1000)\n",
    "sqwv = lambda t: squarewave(0.5,tau,t,100)\n",
    "sqpts = [sqwv(t) for t in tlist]\n",
    "# plt.plot(tlist/1e-9,sqpts)\n",
    "\n",
    "w0 = 2.5e-6\n",
    "D = 2e8\n",
    "I0 = .4*.384/(pi*(w0)) \n",
    "\n",
    "fdip = lambda r: fr_dipole(r,D,w0,I0)\n",
    "\n",
    "def derivs(t,y):\n",
    "    global mRb\n",
    "    m = mRb\n",
    "    \n",
    "    v,r = y\n",
    "    \n",
    "    vdot = -fdip(r)*sqwv(t)/m\n",
    "    rdot = v\n",
    "    \n",
    "    return [vdot,rdot]\n",
    "\n",
    "tdomain = [0,texp]\n",
    "y0 = [.1,.5e-6] # [v0 [m/s] ,r0 [m]]\n",
    "\n",
    "soln = solve_ivp(derivs,tdomain,y0,t_eval=tlist)\n",
    "# plt.plot(soln.t/1e-6,soln.y[1]/1e-6)\n",
    "\n",
    "fig, ax = plt.subplots()\n",
    "ax.plot(soln.t/1e-6,soln.y[1]/1e-6)\n",
    "ax.plot(soln.t/1e-6,sqpts)\n",
    "ax.set(xlabel='time [us]', ylabel='r [um]')\n",
    "plt.show()\n",
    "    \n",
    "# solve_ivp(func,[0,t_exp],y0,t_eval=np.linspace(0,t_exp,50))"
   ]
  },
  {
   "cell_type": "code",
   "execution_count": 304,
   "metadata": {
    "collapsed": true
   },
   "outputs": [
    {
     "data": {
      "image/png": "[encoded data removed]",
      "text/plain": [
       "<Figure size 432x288 with 1 Axes>"
      ]
     },
     "metadata": {
      "needs_background": "light"
     },
     "output_type": "display_data"
    }
   ],
   "source": [
    "# RbEnsemble test\n",
    "atoms = RbEnsemble(5e-5,100,xdist='normal')\n",
    "atoms.phasespace()"
   ]
  },
  {
   "cell_type": "code",
   "execution_count": 344,
   "metadata": {},
   "outputs": [],
   "source": [
    "# Experiment test. don't name the experiment 'exp' !!\n",
    "atom = RbEnsemble(5e-5)\n",
    "exp1 = Experiment(atom)\n",
    "exp1.t_FORTdrop = np.array([0,0.002,0.004,0.008,0.01,0.012,0.014,0.016,0.018,\n",
    "                  0.02,0.04,0.06,0.08,0.1,0.12,0.14,0.16]) # [ms]"
   ]
  },
  {
   "cell_type": "code",
   "execution_count": 345,
   "metadata": {},
   "outputs": [
    {
     "name": "stdout",
     "output_type": "stream",
     "text": [
      "iter 0: loading = 0.0\n",
      "iter 1: loading = 0.0\n",
      "iter 2: loading = 0.0\n",
      "iter 3: loading = 0.0\n",
      "iter 4: loading = 0.0\n",
      "iter 5: loading = 0.0\n",
      "iter 6: loading = 0.0\n",
      "iter 7: loading = 0.0\n",
      "iter 8: loading = 0.0\n",
      "iter 9: loading = 0.0\n",
      "iter 10: loading = 0.0\n",
      "iter 11: loading = 0.0\n",
      "iter 12: loading = 0.0\n",
      "iter 13: loading = 0.0\n",
      "iter 14: loading = 0.0\n",
      "iter 15: loading = 0.0\n",
      "iter 16: loading = 0.0\n"
     ]
    },
    {
     "ename": "ValueError",
     "evalue": "x and y must have same first dimension, but have shapes (1,) and (17,)",
     "output_type": "error",
     "traceback": [
      "\u001b[1;31m---------------------------------------------------------------------------\u001b[0m",
      "\u001b[1;31mValueError\u001b[0m                                Traceback (most recent call last)",
      "\u001b[1;32m<ipython-input-345-00e1b750c765>\u001b[0m in \u001b[0;36m<module>\u001b[1;34m\u001b[0m\n\u001b[1;32m----> 1\u001b[1;33m \u001b[0mexp1\u001b[0m\u001b[1;33m.\u001b[0m\u001b[0mtemp_exp\u001b[0m\u001b[1;33m(\u001b[0m\u001b[1;36m10\u001b[0m\u001b[1;33m)\u001b[0m\u001b[1;33m\u001b[0m\u001b[1;33m\u001b[0m\u001b[0m\n\u001b[0m",
      "\u001b[1;32m<ipython-input-343-34c13650a2d7>\u001b[0m in \u001b[0;36mtemp_exp\u001b[1;34m(self, samples)\u001b[0m\n\u001b[0;32m    186\u001b[0m \u001b[1;33m\u001b[0m\u001b[0m\n\u001b[0;32m    187\u001b[0m         \u001b[0mfig\u001b[0m\u001b[1;33m,\u001b[0m\u001b[0max\u001b[0m \u001b[1;33m=\u001b[0m \u001b[0mplt\u001b[0m\u001b[1;33m.\u001b[0m\u001b[0msubplots\u001b[0m\u001b[1;33m(\u001b[0m\u001b[1;33m)\u001b[0m\u001b[1;33m\u001b[0m\u001b[1;33m\u001b[0m\u001b[0m\n\u001b[1;32m--> 188\u001b[1;33m         \u001b[0max\u001b[0m\u001b[1;33m.\u001b[0m\u001b[0mplot\u001b[0m\u001b[1;33m(\u001b[0m\u001b[0mt_gap\u001b[0m\u001b[1;33m/\u001b[0m\u001b[1;33m(\u001b[0m\u001b[1;36m1e-3\u001b[0m\u001b[1;33m)\u001b[0m\u001b[1;33m,\u001b[0m\u001b[0mretentions\u001b[0m\u001b[1;33m)\u001b[0m\u001b[1;33m\u001b[0m\u001b[1;33m\u001b[0m\u001b[0m\n\u001b[0m\u001b[0;32m    189\u001b[0m         \u001b[0max\u001b[0m\u001b[1;33m.\u001b[0m\u001b[0mset\u001b[0m\u001b[1;33m(\u001b[0m\u001b[0mxlim\u001b[0m\u001b[1;33m=\u001b[0m\u001b[1;33m[\u001b[0m\u001b[1;36m0\u001b[0m\u001b[1;33m,\u001b[0m\u001b[0mt_exp\u001b[0m\u001b[1;33m/\u001b[0m\u001b[1;33m(\u001b[0m\u001b[1;36m1e-3\u001b[0m\u001b[1;33m)\u001b[0m\u001b[1;33m]\u001b[0m\u001b[1;33m,\u001b[0m\u001b[0mylim\u001b[0m\u001b[1;33m=\u001b[0m\u001b[1;33m[\u001b[0m\u001b[1;36m0\u001b[0m\u001b[1;33m,\u001b[0m\u001b[1;36m1\u001b[0m\u001b[1;33m]\u001b[0m\u001b[1;33m)\u001b[0m\u001b[1;33m\u001b[0m\u001b[1;33m\u001b[0m\u001b[0m\n\u001b[0;32m    190\u001b[0m         \u001b[0mplt\u001b[0m\u001b[1;33m.\u001b[0m\u001b[0mshow\u001b[0m\u001b[1;33m(\u001b[0m\u001b[1;33m)\u001b[0m\u001b[1;33m\u001b[0m\u001b[1;33m\u001b[0m\u001b[0m\n",
      "\u001b[1;32m~\\Anaconda3\\lib\\site-packages\\matplotlib\\__init__.py\u001b[0m in \u001b[0;36minner\u001b[1;34m(ax, data, *args, **kwargs)\u001b[0m\n\u001b[0;32m   1808\u001b[0m                         \u001b[1;34m\"the Matplotlib list!)\"\u001b[0m \u001b[1;33m%\u001b[0m \u001b[1;33m(\u001b[0m\u001b[0mlabel_namer\u001b[0m\u001b[1;33m,\u001b[0m \u001b[0mfunc\u001b[0m\u001b[1;33m.\u001b[0m\u001b[0m__name__\u001b[0m\u001b[1;33m)\u001b[0m\u001b[1;33m,\u001b[0m\u001b[1;33m\u001b[0m\u001b[1;33m\u001b[0m\u001b[0m\n\u001b[0;32m   1809\u001b[0m                         RuntimeWarning, stacklevel=2)\n\u001b[1;32m-> 1810\u001b[1;33m             \u001b[1;32mreturn\u001b[0m \u001b[0mfunc\u001b[0m\u001b[1;33m(\u001b[0m\u001b[0max\u001b[0m\u001b[1;33m,\u001b[0m \u001b[1;33m*\u001b[0m\u001b[0margs\u001b[0m\u001b[1;33m,\u001b[0m \u001b[1;33m**\u001b[0m\u001b[0mkwargs\u001b[0m\u001b[1;33m)\u001b[0m\u001b[1;33m\u001b[0m\u001b[1;33m\u001b[0m\u001b[0m\n\u001b[0m\u001b[0;32m   1811\u001b[0m \u001b[1;33m\u001b[0m\u001b[0m\n\u001b[0;32m   1812\u001b[0m         inner.__doc__ = _add_data_doc(inner.__doc__,\n",
      "\u001b[1;32m~\\Anaconda3\\lib\\site-packages\\matplotlib\\axes\\_axes.py\u001b[0m in \u001b[0;36mplot\u001b[1;34m(self, scalex, scaley, *args, **kwargs)\u001b[0m\n\u001b[0;32m   1609\u001b[0m         \u001b[0mkwargs\u001b[0m \u001b[1;33m=\u001b[0m \u001b[0mcbook\u001b[0m\u001b[1;33m.\u001b[0m\u001b[0mnormalize_kwargs\u001b[0m\u001b[1;33m(\u001b[0m\u001b[0mkwargs\u001b[0m\u001b[1;33m,\u001b[0m \u001b[0mmlines\u001b[0m\u001b[1;33m.\u001b[0m\u001b[0mLine2D\u001b[0m\u001b[1;33m.\u001b[0m\u001b[0m_alias_map\u001b[0m\u001b[1;33m)\u001b[0m\u001b[1;33m\u001b[0m\u001b[1;33m\u001b[0m\u001b[0m\n\u001b[0;32m   1610\u001b[0m \u001b[1;33m\u001b[0m\u001b[0m\n\u001b[1;32m-> 1611\u001b[1;33m         \u001b[1;32mfor\u001b[0m \u001b[0mline\u001b[0m \u001b[1;32min\u001b[0m \u001b[0mself\u001b[0m\u001b[1;33m.\u001b[0m\u001b[0m_get_lines\u001b[0m\u001b[1;33m(\u001b[0m\u001b[1;33m*\u001b[0m\u001b[0margs\u001b[0m\u001b[1;33m,\u001b[0m \u001b[1;33m**\u001b[0m\u001b[0mkwargs\u001b[0m\u001b[1;33m)\u001b[0m\u001b[1;33m:\u001b[0m\u001b[1;33m\u001b[0m\u001b[1;33m\u001b[0m\u001b[0m\n\u001b[0m\u001b[0;32m   1612\u001b[0m             \u001b[0mself\u001b[0m\u001b[1;33m.\u001b[0m\u001b[0madd_line\u001b[0m\u001b[1;33m(\u001b[0m\u001b[0mline\u001b[0m\u001b[1;33m)\u001b[0m\u001b[1;33m\u001b[0m\u001b[1;33m\u001b[0m\u001b[0m\n\u001b[0;32m   1613\u001b[0m             \u001b[0mlines\u001b[0m\u001b[1;33m.\u001b[0m\u001b[0mappend\u001b[0m\u001b[1;33m(\u001b[0m\u001b[0mline\u001b[0m\u001b[1;33m)\u001b[0m\u001b[1;33m\u001b[0m\u001b[1;33m\u001b[0m\u001b[0m\n",
      "\u001b[1;32m~\\Anaconda3\\lib\\site-packages\\matplotlib\\axes\\_base.py\u001b[0m in \u001b[0;36m_grab_next_args\u001b[1;34m(self, *args, **kwargs)\u001b[0m\n\u001b[0;32m    391\u001b[0m                 \u001b[0mthis\u001b[0m \u001b[1;33m+=\u001b[0m \u001b[0margs\u001b[0m\u001b[1;33m[\u001b[0m\u001b[1;36m0\u001b[0m\u001b[1;33m]\u001b[0m\u001b[1;33m,\u001b[0m\u001b[1;33m\u001b[0m\u001b[1;33m\u001b[0m\u001b[0m\n\u001b[0;32m    392\u001b[0m                 \u001b[0margs\u001b[0m \u001b[1;33m=\u001b[0m \u001b[0margs\u001b[0m\u001b[1;33m[\u001b[0m\u001b[1;36m1\u001b[0m\u001b[1;33m:\u001b[0m\u001b[1;33m]\u001b[0m\u001b[1;33m\u001b[0m\u001b[1;33m\u001b[0m\u001b[0m\n\u001b[1;32m--> 393\u001b[1;33m             \u001b[1;32myield\u001b[0m \u001b[1;32mfrom\u001b[0m \u001b[0mself\u001b[0m\u001b[1;33m.\u001b[0m\u001b[0m_plot_args\u001b[0m\u001b[1;33m(\u001b[0m\u001b[0mthis\u001b[0m\u001b[1;33m,\u001b[0m \u001b[0mkwargs\u001b[0m\u001b[1;33m)\u001b[0m\u001b[1;33m\u001b[0m\u001b[1;33m\u001b[0m\u001b[0m\n\u001b[0m\u001b[0;32m    394\u001b[0m \u001b[1;33m\u001b[0m\u001b[0m\n\u001b[0;32m    395\u001b[0m \u001b[1;33m\u001b[0m\u001b[0m\n",
      "\u001b[1;32m~\\Anaconda3\\lib\\site-packages\\matplotlib\\axes\\_base.py\u001b[0m in \u001b[0;36m_plot_args\u001b[1;34m(self, tup, kwargs)\u001b[0m\n\u001b[0;32m    368\u001b[0m             \u001b[0mx\u001b[0m\u001b[1;33m,\u001b[0m \u001b[0my\u001b[0m \u001b[1;33m=\u001b[0m \u001b[0mindex_of\u001b[0m\u001b[1;33m(\u001b[0m\u001b[0mtup\u001b[0m\u001b[1;33m[\u001b[0m\u001b[1;33m-\u001b[0m\u001b[1;36m1\u001b[0m\u001b[1;33m]\u001b[0m\u001b[1;33m)\u001b[0m\u001b[1;33m\u001b[0m\u001b[1;33m\u001b[0m\u001b[0m\n\u001b[0;32m    369\u001b[0m \u001b[1;33m\u001b[0m\u001b[0m\n\u001b[1;32m--> 370\u001b[1;33m         \u001b[0mx\u001b[0m\u001b[1;33m,\u001b[0m \u001b[0my\u001b[0m \u001b[1;33m=\u001b[0m \u001b[0mself\u001b[0m\u001b[1;33m.\u001b[0m\u001b[0m_xy_from_xy\u001b[0m\u001b[1;33m(\u001b[0m\u001b[0mx\u001b[0m\u001b[1;33m,\u001b[0m \u001b[0my\u001b[0m\u001b[1;33m)\u001b[0m\u001b[1;33m\u001b[0m\u001b[1;33m\u001b[0m\u001b[0m\n\u001b[0m\u001b[0;32m    371\u001b[0m \u001b[1;33m\u001b[0m\u001b[0m\n\u001b[0;32m    372\u001b[0m         \u001b[1;32mif\u001b[0m \u001b[0mself\u001b[0m\u001b[1;33m.\u001b[0m\u001b[0mcommand\u001b[0m \u001b[1;33m==\u001b[0m \u001b[1;34m'plot'\u001b[0m\u001b[1;33m:\u001b[0m\u001b[1;33m\u001b[0m\u001b[1;33m\u001b[0m\u001b[0m\n",
      "\u001b[1;32m~\\Anaconda3\\lib\\site-packages\\matplotlib\\axes\\_base.py\u001b[0m in \u001b[0;36m_xy_from_xy\u001b[1;34m(self, x, y)\u001b[0m\n\u001b[0;32m    229\u001b[0m         \u001b[1;32mif\u001b[0m \u001b[0mx\u001b[0m\u001b[1;33m.\u001b[0m\u001b[0mshape\u001b[0m\u001b[1;33m[\u001b[0m\u001b[1;36m0\u001b[0m\u001b[1;33m]\u001b[0m \u001b[1;33m!=\u001b[0m \u001b[0my\u001b[0m\u001b[1;33m.\u001b[0m\u001b[0mshape\u001b[0m\u001b[1;33m[\u001b[0m\u001b[1;36m0\u001b[0m\u001b[1;33m]\u001b[0m\u001b[1;33m:\u001b[0m\u001b[1;33m\u001b[0m\u001b[1;33m\u001b[0m\u001b[0m\n\u001b[0;32m    230\u001b[0m             raise ValueError(\"x and y must have same first dimension, but \"\n\u001b[1;32m--> 231\u001b[1;33m                              \"have shapes {} and {}\".format(x.shape, y.shape))\n\u001b[0m\u001b[0;32m    232\u001b[0m         \u001b[1;32mif\u001b[0m \u001b[0mx\u001b[0m\u001b[1;33m.\u001b[0m\u001b[0mndim\u001b[0m \u001b[1;33m>\u001b[0m \u001b[1;36m2\u001b[0m \u001b[1;32mor\u001b[0m \u001b[0my\u001b[0m\u001b[1;33m.\u001b[0m\u001b[0mndim\u001b[0m \u001b[1;33m>\u001b[0m \u001b[1;36m2\u001b[0m\u001b[1;33m:\u001b[0m\u001b[1;33m\u001b[0m\u001b[1;33m\u001b[0m\u001b[0m\n\u001b[0;32m    233\u001b[0m             raise ValueError(\"x and y can be no greater than 2-D, but have \"\n",
      "\u001b[1;31mValueError\u001b[0m: x and y must have same first dimension, but have shapes (1,) and (17,)"
     ]
    },
    {
     "data": {
      "image/png": "[encoded data removed]",
      "text/plain": [
       "<Figure size 432x288 with 1 Axes>"
      ]
     },
     "metadata": {
      "needs_background": "light"
     },
     "output_type": "display_data"
    }
   ],
   "source": [
    "exp1.temp_exp(10)"
   ]
  },
  {
   "cell_type": "code",
   "execution_count": 312,
   "metadata": {},
   "outputs": [
    {
     "data": {
      "text/plain": [
       "[0, 1, 2, 3]"
      ]
     },
     "execution_count": 312,
     "metadata": {},
     "output_type": "execute_result"
    }
   ],
   "source": [
    "[x for x in range(4)]"
   ]
  },
  {
   "cell_type": "code",
   "execution_count": null,
   "metadata": {},
   "outputs": [],
   "source": [
    "()"
   ]
  }
 ],
 "metadata": {
  "kernelspec": {
   "display_name": "Python 3",
   "language": "python",
   "name": "python3"
  },
  "language_info": {
   "codemirror_mode": {
    "name": "ipython",
    "version": 3
   },
   "file_extension": ".py",
   "mimetype": "text/x-python",
   "name": "python",
   "nbconvert_exporter": "python",
   "pygments_lexer": "ipython3",
   "version": "3.7.3"
  }
 },
 "nbformat": 4,
 "nbformat_minor": 2
}
