{
 "cells": [
  {
   "cell_type": "markdown",
   "metadata": {},
   "source": [
    "Rb Calculations\n",
    "\n",
    "Preston Huft, May 2019.\n",
    "\n",
    "https://docs.sympy.org/latest/modules/physics/wigner.html\n",
    "\n",
    "sympy.physics.wigner.clebsch_gordan(j_1, j_2, j_3, m_1, m_2, m_3)[source], ⟨j1m1j2m2|j3m3⟩.\n",
    "sympy.physics.wigner.wigner_3j(j_1, j_2, j_3, m_1, m_2, m_3)[source]\n",
    "sympy.physics.wigner.wigner_6j(j_1, j_2, j_3, j_4, j_5, j_6, prec=None)[source]"
   ]
  },
  {
   "cell_type": "code",
   "execution_count": 1,
   "metadata": {},
   "outputs": [
    {
     "data": {
      "text/html": [
       "<style>.container{width:100% !important;}</style>"
      ],
      "text/plain": [
       "<IPython.core.display.HTML object>"
      ]
     },
     "metadata": {},
     "output_type": "display_data"
    }
   ],
   "source": [
    "# %matplotlib notebook\n",
    "from matplotlib import pyplot as plt\n",
    "from sympy.physics.wigner import wigner_6j,wigner_3j,clebsch_gordan\n",
    "from sympy import symbols,N,sympify,lambdify\n",
    "from sympy import MatrixSymbol,MatAdd,MatMul,Identity as eye,Matrix,zeros\n",
    "from sympy.utilities.iterables import flatten\n",
    "import numpy as np\n",
    "from numpy import transpose,inf\n",
    "from numpy.linalg import eig\n",
    "import math as m\n",
    "from math import sqrt,pi\n",
    "from rbconsts import *\n",
    "from physconsts import *\n",
    "from IPython.core.display import display,HTML\n",
    "display(HTML(\"<style>.container{width:100% !important;}</style>\"))"
   ]
  },
  {
   "cell_type": "code",
   "execution_count": 4,
   "metadata": {},
   "outputs": [],
   "source": [
    "#### methods\n",
    "\n",
    "def hf_matrix_elem(F,mF,J,q,FF,mFF,JJ,I,RME=None):\n",
    "    \"\"\" Returns the matrix element <F,mF,J|T_q|F',mF',J'>. \n",
    "    \n",
    "        RME is the reduced matrix element (just a number), which can be calculated\n",
    "        externally and passed in to be a multiplier. If RME=None, the \n",
    "        matrix element is in units of [RME].\n",
    "        \n",
    "        I is the nuclear spin of the atom.\n",
    "    \"\"\"\n",
    "\n",
    "    rme = 1\n",
    "    if RME!=None:\n",
    "        rme = RME\n",
    "\n",
    "    ## From Mark's notes, eqs. A-50,51\n",
    "    mat_elem = rme*pow(-1,F+JJ+1+I)*sqrt((2*F+1)*(2*JJ+1)) \\\n",
    "                *wigner_6j(J,I,F,FF,1,JJ) \\\n",
    "                *clebsch_gordan(1,F,FF,q,mF,mFF)\n",
    "    \n",
    "    return mat_elem\n",
    "\n",
    "def eff_rabi(O,D):\n",
    "    \"\"\" the effective two-photon rabi frequency, given a rabi freq O,\n",
    "        where O1 = O2 = O, and single photon detuning D1 = D2 = D \n",
    "        from the transition frequency\n",
    "    \"\"\"\n",
    "    return sqrt(O**2+D**2)\n",
    "\n",
    "def jmbasis(jlist):\n",
    "    \"\"\" returns a numpy array of basis vectors {|J,mJ>} given a list of \n",
    "        J vals\"\"\"\n",
    "    basis = np.empty(sum([2*j+1 for j in jlist]),list)\n",
    "    i = 0\n",
    "    for j in jlist:\n",
    "        for m in range(-j,j+1):\n",
    "            basis[i] = [j,m]\n",
    "            i+=1 \n",
    "    return np.flip(basis)\n",
    "\n",
    "def cc(z):\n",
    "    return np.conj(z)\n",
    "\n",
    "## misc conversions\n",
    "\n",
    "def radToTHz(w):\n",
    "    return w/(2*pi*1e12)\n",
    "\n",
    "def radToGHz(w):\n",
    "    return w/(2*pi*1e9)\n",
    "\n",
    "def radToMhz(w):\n",
    "    return w/(2*pi*1e6)\n",
    "\n",
    "def radTokHz(w):\n",
    "    return w/(2*pi*1e3)\n",
    "\n",
    "def JToeV(u):\n",
    "    global ee\n",
    "    return u/ee\n",
    "\n",
    "def eVToJ(u):\n",
    "    global ee\n",
    "    return u*ee\n",
    "\n",
    "def GHzToeV(nu):\n",
    "    global hbar\n",
    "    return JToeV(2*pi*hbar*nu*1e9)\n",
    "\n",
    "def eVToGHz(u):\n",
    "    global hbar\n",
    "    return eVToJ(u)/(2*pi*hbar*1e9)\n",
    "\n",
    "def mean_vrms(T):\n",
    "    global kB,mRb\n",
    "    return sqrt(kB*T/mRb)\n",
    "\n",
    "# def alpha(w_ab,w,RME,I):\n",
    "#     \"\"\" the polarizability of a two-level atom in an AC electric field\n",
    "#     \"\"\"\n",
    "#     return "
   ]
  },
  {
   "cell_type": "code",
   "execution_count": 3,
   "metadata": {},
   "outputs": [
    {
     "name": "stdout",
     "output_type": "stream",
     "text": [
      "Two-photon Rabi frequency = 2*pi*284.24 kHz\n"
     ]
    }
   ],
   "source": [
    "###################################################################\n",
    "# calculate 2 photon Rabi frequency for the ground state hyperfine \n",
    "# Raman transition\n",
    "###################################################################\n",
    "\n",
    "P = 3.5e-6 # [W] light power at experiment cell\n",
    "a = 6e-6 # [m]\n",
    "b = 8e-6 # [m], in y direction\n",
    "A = a*b*pi # area at beam waist \n",
    "E0 = sqrt(4*P/(c*e0*A)) # the electric field amplitude\n",
    "d = 2*pi*4.5e10 # [Hz] Single photon detuning\n",
    "\n",
    "#       hf_matrix_elem(F,mF,J,q,FF,mFF,JJ,I,RME=None):\n",
    "O1 = E0*hf_matrix_elem(2,0,1/2,1,2,1,3/2,I,D2_MatElem)/hbar\n",
    "O2 = E0*hf_matrix_elem(1,0,1/2,1,2,1,3/2,I,D2_MatElem)/hbar\n",
    "\n",
    "# Ignoring a.c. stark shifts, etc:\n",
    "\n",
    "# O1 /= 1e9 # [GHz]\n",
    "# O2 /= 1e9 #\n",
    "# print(N(O1),N(O2))\n",
    "\n",
    "O = N(abs(O1*O2/(2*d))/1e3)/(2*pi) # [kHz]\n",
    "print(f\"Two-photon Rabi frequency = 2*pi*{O:.2f} kHz\")"
   ]
  },
  {
   "cell_type": "code",
   "execution_count": 4,
   "metadata": {},
   "outputs": [
    {
     "name": "stdout",
     "output_type": "stream",
     "text": [
      "-1.79200000000000e-29 1.79200000000000e-29\n"
     ]
    }
   ],
   "source": [
    "## for the raman pulse notebook\n",
    "o1 = hf_matrix_elem(2,0,1/2,1,2,1,3/2,I,D2_MatElem)\n",
    "o2 = hf_matrix_elem(1,0,1/2,1,2,1,3/2,I,D2_MatElem)\n",
    "print(N(o1),N(o2))"
   ]
  },
  {
   "cell_type": "code",
   "execution_count": 5,
   "metadata": {},
   "outputs": [],
   "source": [
    "###################################################################\n",
    "# Differential AC Stark Shifts\n",
    "###################################################################\n",
    "\n",
    "def scalar_ls(w_ab,w,I,RME=None):\n",
    "    \"\"\" the scalar AC Stark shift, or light shift, seen by a two \n",
    "        level atom in an oscillating electric field.\n",
    "        w_ab is the freq difference between a,b\n",
    "        w is the applied light frequency\n",
    "        I is the intensity of the light \n",
    "        RME is the reduced matrix element <J||er||J'>.\n",
    "    \"\"\"\n",
    "    \n",
    "    if RME is None:\n",
    "        RME = 1 # the light shift is now in units of the RME\n",
    "    \n",
    "    return -(ee**2)*w_ab*cc(RME)*RME*I/(2*hbar*(w_ab**2-w**2))"
   ]
  },
  {
   "cell_type": "code",
   "execution_count": 6,
   "metadata": {},
   "outputs": [],
   "source": [
    "# The D2 line differential light shift of Rb87 in a far-off-resonance\n",
    "# trap (FORT)\n",
    "\n",
    "w0 = 2*pi*384.2304844685e12 # D2 line transition frequency\n",
    "wFORT = 2*pi*c/(1064e-9)\n",
    "\n",
    "waist = 2.5e-6 # gaussian waist of the FORT\n",
    "P = .5 # [W] approx at center site (e.g. during PGC phase)\n",
    "Int = P/(pi*waist**2)"
   ]
  },
  {
   "cell_type": "code",
   "execution_count": 7,
   "metadata": {},
   "outputs": [
    {
     "data": {
      "text/plain": [
       "281.7598289473684"
      ]
     },
     "execution_count": 7,
     "metadata": {},
     "output_type": "execute_result"
    }
   ],
   "source": [
    "radToTHz(wFORT)"
   ]
  },
  {
   "cell_type": "code",
   "execution_count": 8,
   "metadata": {},
   "outputs": [],
   "source": [
    "###################################################################\n",
    "# HF Zeeman Shifts\n",
    "###################################################################\n",
    "\n",
    "# Chris mentioned the quadrupole term.. I think I/Mark dropped that \n",
    "\n",
    "def gF_fn(F,J,I,gJ,gI):\n",
    "    \"\"\" Returns the F lande g factor \"\"\"\n",
    "    \n",
    "    return (gJ*(F*(F+1)+J*(J+1)-I*(I+1))\n",
    "            +gI*(F*(F+1)-J*(J+1)+I*(I+1)))/(2*F*(F+1))\n",
    "\n",
    "def gJ_fn(J,L,S,gL,gS):\n",
    "    \"\"\" Returns the J lande g factor \"\"\"\n",
    "\n",
    "    return (gL*(J*(J+1)+L*(L+1)-S*(S+1)) \n",
    "            +gS*(J*(J+1)-L*(L+1)+S*(S+1)))/(2*J*(J+1))\n",
    "\n",
    "def hf_zeeman(states,gJ,gI,Bz=None,units=None):\n",
    "    \"\"\" From Mark's notes for the general hf Zeeman matrix elements. Units\n",
    "        are determined by UB. Could implement decorator function to change\n",
    "        units.\"\"\"\n",
    "    global muB # Bohr magneton\n",
    "    UB = symbols('U_B') # assume symbolic B field P.E. for now\n",
    "\n",
    "    if Bz is not None:\n",
    "        UB = muB*Bz# magnetic field potential energy\n",
    "\n",
    "    if units == 'UB':\n",
    "        UB = 1\n",
    "        \n",
    "    I,J,F,mF,FF,mFF = states\n",
    "    q = 0 # assume B = Bz for now\n",
    "    \n",
    "    elem = 0\n",
    "    if mF == mFF:\n",
    "        elem += N(clebsch_gordan(F,1,FF,mF,q,mFF) \\\n",
    "                *sqrt(2*F+1)*(-1)**(1+J+I) \\\n",
    "                *(gJ*(-1)**F*sqrt(J*(J+1)*(2*J+1)) \\\n",
    "                *wigner_6j(J,I,F,FF,1,J) \\\n",
    "                +gI*(-1)**FF*sqrt(I*(I+1)*(2*I+1)) \\\n",
    "                *wigner_6j(I,J,F,FF,1,I))) \n",
    "        # N() is used to ensure diagnolization doesn't get tripped up\n",
    "    \n",
    "    return UB*elem\n",
    "\n",
    "# Rb87 ground state 5s1/2:\n",
    "L = 0; S = 1/2; J = 1/2;\n",
    "Flist = [2,1] # F = I + J\n",
    "E_hf = GHzToeV(nu_hf)\n",
    "\n",
    "gJ = gJ_fn(J,L,S,gL,gS)\n",
    "\n",
    "Bzlist = np.linspace(0,.5,30)\n",
    "\n",
    "E_hf = GHzToeV(nu_hf) # assign numeric value to ease diagonalization (?)\n",
    "\n",
    "# Rb Hamiltonian for HF ground states in {|F,mF>} basis\n",
    "H_a = E_hf*np.array([[1,0,0,0,0,0,0,0],\n",
    "                     [0,1,0,0,0,0,0,0],\n",
    "                     [0,0,1,0,0,0,0,0],\n",
    "                     [0,0,0,1,0,0,0,0],\n",
    "                     [0,0,0,0,1,0,0,0],\n",
    "                     [0,0,0,0,0,0,0,0],\n",
    "                     [0,0,0,0,0,0,0,0],\n",
    "                     [0,0,0,0,0,0,0,0]],object)\n",
    "\n",
    "# Zeeman Hamiltonian for B = Bz\n",
    "H_Zz = np.empty((8,8),object)\n",
    "basis = jmbasis(Flist)\n",
    "for i,state_i in enumerate(basis):\n",
    "        F,mF = state_i\n",
    "        for j,state_j in enumerate(basis):\n",
    "            FF,mFF = state_j\n",
    "            states = [I,J,F,mF,FF,mFF]\n",
    "            try:\n",
    "                H_Zz[i,j] = hf_zeeman(states,gJ,gI)\n",
    "            except:\n",
    "                print(\"Failed: %s\" % states)\n",
    "\n",
    "# Diagonalize the full Hamiltonian\n",
    "H = Matrix(H_a + H_Zz)\n",
    "P,D = H.diagonalize()\n",
    "evals = [D[i,i] for i in range(0,len(basis))]\n",
    "\n",
    "# The energies as a function of magnetic P.E.\n",
    "shifts = lambdify('U_B',evals)\n",
    "\n",
    "zshifts = np.empty((len(Bzlist),len(basis)))\n",
    "for i,Bz in enumerate(Bzlist):\n",
    "    # make sure units of U_B same as E_hf then convert the whole shift\n",
    "    zshifts[i] = np.sort([eVToGHz(x) for x in shifts(JToeV(uB*Bz))]) \n",
    "    \n",
    "# arranged the shifts by state, not B value\n",
    "zshifts = transpose(zshifts) "
   ]
  },
  {
   "cell_type": "code",
   "execution_count": 9,
   "metadata": {
    "scrolled": false
   },
   "outputs": [
    {
     "data": {
      "image/png": "[encoded data removed]",
      "text/plain": [
       "<Figure size 432x288 with 1 Axes>"
      ]
     },
     "metadata": {
      "needs_background": "light"
     },
     "output_type": "display_data"
    }
   ],
   "source": [
    "# initialize the figure and plot\n",
    "fig = plt.figure()\n",
    "ax = fig.add_subplot(111)\n",
    "ax.set_title(\"Rb87 $5s_{1/2}$ HF Zeeman shifts\")\n",
    "ax.set_xlabel(\"$B_z$ [T]\")\n",
    "ax.set_ylabel(\"$\\Delta E$ [GHz]\")\n",
    "\n",
    "# why is the |2,-1> state omitted??\n",
    "for state,shift in zip(basis,zshifts):\n",
    "    F,mF = state\n",
    "    ax.plot(Bzlist,GHzToeV(shift),label=f'|{F},{mF}>') #,label=f\"|{F},{mF}>\") # shifts not in same order as basis... hmm 🤔\n",
    "ax.legend(loc='upper right')\n",
    "plt.show()"
   ]
  },
  {
   "cell_type": "code",
   "execution_count": 10,
   "metadata": {},
   "outputs": [],
   "source": [
    "## Differential Zeeman shifts of HF state for B ~ 1 G\n",
    "Bzlist = np.linspace(-3e-4,3e-4,40)\n",
    "\n",
    "E_hf = GHzToeV(nu_hf) # assign numeric value to ease diagonalization (?)\n",
    "\n",
    "# Rb Hamiltonian for HF ground states in {|F,mF>} basis\n",
    "H_a = E_hf*np.array([[1,0,0,0,0,0,0,0],\n",
    "                     [0,1,0,0,0,0,0,0],\n",
    "                     [0,0,1,0,0,0,0,0],\n",
    "                     [0,0,0,1,0,0,0,0],\n",
    "                     [0,0,0,0,1,0,0,0],\n",
    "                     [0,0,0,0,0,0,0,0],\n",
    "                     [0,0,0,0,0,0,0,0],\n",
    "                     [0,0,0,0,0,0,0,0]],object)\n",
    "\n",
    "# Zeeman Hamiltonian for B = Bz\n",
    "H_Zz = np.empty((8,8),object)\n",
    "basis = jmbasis(Flist)\n",
    "for i,state_i in enumerate(basis):\n",
    "        F,mF = state_i\n",
    "        for j,state_j in enumerate(basis):\n",
    "            FF,mFF = state_j\n",
    "            states = [I,J,F,mF,FF,mFF]\n",
    "            try:\n",
    "                H_Zz[i,j] = hf_zeeman(states,gJ,gI)\n",
    "            except:\n",
    "                print(\"Failed: %s\" % states)\n",
    "\n",
    "# Diagonalize the full Hamiltonian\n",
    "H = Matrix(H_a + H_Zz)\n",
    "P,D = H.diagonalize()\n",
    "evals = [D[i,i] for i in range(0,len(basis))]\n",
    "\n",
    "# The energies as a function of magnetic P.E.\n",
    "shifts = lambdify('U_B',evals)\n",
    "\n",
    "zshifts = np.empty((len(Bzlist),len(basis)))\n",
    "for i,Bz in enumerate(Bzlist):\n",
    "    # make sure units of U_B same as E_hf then convert the whole shift\n",
    "    zshifts[i] = [eVToGHz(x) for x in shifts(JToeV(uB*Bz))]\n",
    "    \n",
    "# arranged the shifts by state, not B value\n",
    "zshifts = transpose(zshifts) "
   ]
  },
  {
   "cell_type": "code",
   "execution_count": 11,
   "metadata": {},
   "outputs": [
    {
     "data": {
      "image/png": "[encoded data removed]",
      "text/plain": [
       "<Figure size 432x288 with 1 Axes>"
      ]
     },
     "metadata": {
      "needs_background": "light"
     },
     "output_type": "display_data"
    }
   ],
   "source": [
    "# initialize the figure and plot\n",
    "fig = plt.figure()\n",
    "ax = fig.add_subplot(111)\n",
    "ax.set_title(\"Rb87 $5s_{1/2}$ HF Zeeman shifts\")\n",
    "ax.set_xlabel(\"$B_z$ [T]\")\n",
    "ax.set_ylabel(\"$\\Delta E$ [GHz]\")\n",
    "\n",
    "hf_dshift = zshifts[5]-zshifts[1]-nu_hf # differential Zeeman shift of hyperfine levels\n",
    "\n",
    "ax.plot(Bzlist,hf_dshift) #,label=f\"|{F},{mF}>\") # shifts not in same order as basis... hmm 🤔\n",
    "# ax.legend(loc='upper right')\n",
    "plt.show()"
   ]
  },
  {
   "cell_type": "code",
   "execution_count": 12,
   "metadata": {},
   "outputs": [
    {
     "data": {
      "image/png": "[encoded data removed]",
      "text/plain": [
       "<Figure size 432x288 with 1 Axes>"
      ]
     },
     "metadata": {
      "needs_background": "light"
     },
     "output_type": "display_data"
    }
   ],
   "source": [
    "# initialize the figure and plot\n",
    "fig = plt.figure()\n",
    "ax = fig.add_subplot(111)\n",
    "ax.set_title(\"Rb87 $\\Delta_{Zeeman}$ for |F=2,mF=0> $\\leftrightarrow $|F=1,mF=0>\")\n",
    "ax.set_xlabel(\"$B_z$ [T]\")\n",
    "ax.set_ylabel(\"$\\Delta E$ [kHz]\")\n",
    "\n",
    "hf_dshift = (zshifts[3]-nu_hf)-zshifts[2]\n",
    "ax.plot(Bzlist/1e-4,hf_dshift/1e-6) #,label=f\"|{F},{mF}>\") # shifts not in same order as basis... hmm 🤔\n",
    "# ax.legend(loc='upper right')\n",
    "plt.show()"
   ]
  },
  {
   "cell_type": "markdown",
   "metadata": {},
   "source": [
    "The differential Zeeman shift for the hyperfine states |F=2,mF=0>,|F=1,mF=0> is parabolic upwards in B, such that the microwave transition should reveal any magnetic field bias of order of a G, which is on par with our bias fields. "
   ]
  },
  {
   "cell_type": "code",
   "execution_count": 13,
   "metadata": {},
   "outputs": [
    {
     "data": {
      "text/plain": [
       "4.528708567504789e-24"
      ]
     },
     "execution_count": 13,
     "metadata": {},
     "output_type": "execute_result"
    }
   ],
   "source": [
    "eVToJ(GHzToeV(nu_hf))"
   ]
  },
  {
   "cell_type": "code",
   "execution_count": 14,
   "metadata": {},
   "outputs": [
    {
     "data": {
      "text/plain": [
       "1.0006125*U_B"
      ]
     },
     "execution_count": 14,
     "metadata": {},
     "output_type": "execute_result"
    }
   ],
   "source": [
    "F = 1; \n",
    "FF = 2; \n",
    "mF = 0; \n",
    "mFF = 0;\n",
    "I = 3/2\n",
    "J = 1/2\n",
    "q=0\n",
    "\n",
    "states = I,J,F,mF,FF,mFF\n",
    "hf_zeeman(states,gJ,gI)"
   ]
  },
  {
   "cell_type": "code",
   "execution_count": 15,
   "metadata": {
    "scrolled": true
   },
   "outputs": [
    {
     "data": {
      "text/plain": [
       "-0.000995"
      ]
     },
     "execution_count": 15,
     "metadata": {},
     "output_type": "execute_result"
    }
   ],
   "source": [
    "gI"
   ]
  },
  {
   "cell_type": "code",
   "execution_count": 16,
   "metadata": {},
   "outputs": [
    {
     "data": {
      "text/plain": [
       "-sqrt(10)/5"
      ]
     },
     "execution_count": 16,
     "metadata": {},
     "output_type": "execute_result"
    }
   ],
   "source": [
    "clebsch_gordan(F,FF,1,mF,mFF,0)"
   ]
  },
  {
   "cell_type": "code",
   "execution_count": 17,
   "metadata": {},
   "outputs": [
    {
     "data": {
      "text/plain": [
       "sqrt(3)/6"
      ]
     },
     "execution_count": 17,
     "metadata": {},
     "output_type": "execute_result"
    }
   ],
   "source": [
    "wigner_6j(J,I,F,FF,1,J)"
   ]
  },
  {
   "cell_type": "code",
   "execution_count": 18,
   "metadata": {},
   "outputs": [
    {
     "data": {
      "text/plain": [
       "0.471384569389669"
      ]
     },
     "execution_count": 18,
     "metadata": {},
     "output_type": "execute_result"
    }
   ],
   "source": [
    "N(clebsch_gordan(F,1,FF,mF,q,mFF) \\\n",
    "                *(gJ*wigner_6j(J,I,F,FF,1,J) \\\n",
    "                +gI*wigner_6j(I,J,F,FF,1,I)))"
   ]
  },
  {
   "cell_type": "code",
   "execution_count": 19,
   "metadata": {},
   "outputs": [
    {
     "data": {
      "text/plain": [
       "sqrt(6)/3"
      ]
     },
     "execution_count": 19,
     "metadata": {},
     "output_type": "execute_result"
    }
   ],
   "source": [
    "clebsch_gordan(F,1,FF,mF,q,mFF)"
   ]
  },
  {
   "cell_type": "code",
   "execution_count": 20,
   "metadata": {},
   "outputs": [
    {
     "data": {
      "text/plain": [
       "2.8265975866660623e-05"
      ]
     },
     "execution_count": 20,
     "metadata": {},
     "output_type": "execute_result"
    }
   ],
   "source": [
    "E_hf"
   ]
  },
  {
   "cell_type": "code",
   "execution_count": 21,
   "metadata": {},
   "outputs": [
    {
     "data": {
      "text/plain": [
       "4.528708567504789e-24"
      ]
     },
     "execution_count": 21,
     "metadata": {},
     "output_type": "execute_result"
    }
   ],
   "source": [
    "GHzToeV(nu_hf)*ee"
   ]
  },
  {
   "cell_type": "code",
   "execution_count": 22,
   "metadata": {},
   "outputs": [
    {
     "data": {
      "text/plain": [
       "-0.443481695275236"
      ]
     },
     "execution_count": 22,
     "metadata": {},
     "output_type": "execute_result"
    }
   ],
   "source": [
    "# pgc parameter\n",
    "J = 1/2; JJ = 3/2\n",
    "F = 2; FF = 3\n",
    "mF = 0; mFF = 1\n",
    "q = 1\n",
    "\n",
    "# Kurtseifer group optimal parameters\n",
    "p = (2.5e-4) # total\n",
    "w0 = 1e-3\n",
    "Int = p/(pi*w0**2)\n",
    "D = -4.3*gamma_D2\n",
    "\n",
    "# Rabi frequency squared\n",
    "OSq = 2*hf_matrix_elem(F,mF,J,q,FF,mFF,JJ,I,D2_MatElem)**2*Int/(c*e0*hbar**2)\n",
    "\n",
    "OSq/(D*gamma_D2)"
   ]
  },
  {
   "cell_type": "code",
   "execution_count": 29,
   "metadata": {
    "scrolled": true
   },
   "outputs": [
    {
     "data": {
      "text/plain": [
       "-0.452501661958800"
      ]
     },
     "execution_count": 29,
     "metadata": {},
     "output_type": "execute_result"
    }
   ],
   "source": [
    "# What we should have for optimal parameters\n",
    "q=1\n",
    "p = 1.4e-3 # total\n",
    "w0 = 2e-3\n",
    "Int = p/(pi*w0**2)\n",
    "D = -5.9*gamma_D2\n",
    "\n",
    "# Rabi frequency squared\n",
    "OSq = 2*hf_matrix_elem(F,mF,J,q,FF,mFF,JJ,I,D2_MatElem)**2*Int/(c*e0*hbar**2)\n",
    "\n",
    "OSq/(D*gamma_D2)"
   ]
  },
  {
   "cell_type": "code",
   "execution_count": 26,
   "metadata": {
    "scrolled": true
   },
   "outputs": [
    {
     "data": {
      "text/plain": [
       "-2.65741390346375"
      ]
     },
     "execution_count": 26,
     "metadata": {},
     "output_type": "execute_result"
    }
   ],
   "source": [
    "# Our pgc parameter ( 2019 )\n",
    "q=1\n",
    "p = 1.2e-3 # total\n",
    "w0 = 1e-3 # chris thinks the beams are bigger... idk\n",
    "Int = p/(pi*(.83e-3)**2)\n",
    "D = -5*gamma_D2\n",
    "\n",
    "# Rabi frequency squared\n",
    "OSq = 2*hf_matrix_elem(F,mF,J,q,FF,mFF,JJ,I,D2_MatElem)**2*Int/(c*e0*hbar**2)\n",
    "\n",
    "OSq/(D*gamma_D2)"
   ]
  },
  {
   "cell_type": "code",
   "execution_count": 5,
   "metadata": {},
   "outputs": [
    {
     "data": {
      "text/plain": [
       "0.06974432411219107"
      ]
     },
     "execution_count": 5,
     "metadata": {},
     "output_type": "execute_result"
    }
   ],
   "source": [
    "mean_v(5e-5)"
   ]
  },
  {
   "cell_type": "code",
   "execution_count": 26,
   "metadata": {},
   "outputs": [],
   "source": [
    "del k\n",
    "k = lambda d: (omega_D2+d*gamma_D2)/c # d is detuning in units lifetime"
   ]
  },
  {
   "cell_type": "code",
   "execution_count": 33,
   "metadata": {},
   "outputs": [
    {
     "data": {
      "text/plain": [
       "0.21135384395576617"
      ]
     },
     "execution_count": 33,
     "metadata": {},
     "output_type": "execute_result"
    }
   ],
   "source": [
    "k(0)/gamma_D2"
   ]
  },
  {
   "cell_type": "code",
   "execution_count": 37,
   "metadata": {},
   "outputs": [
    {
     "data": {
      "text/plain": [
       "4.731402373361072"
      ]
     },
     "execution_count": 37,
     "metadata": {},
     "output_type": "execute_result"
    }
   ],
   "source": [
    "gamma_D2/k(-5)"
   ]
  },
  {
   "cell_type": "code",
   "execution_count": 2,
   "metadata": {},
   "outputs": [],
   "source": [
    "# rydberg lifetime (Urban thesis; Mark,Thad 2005)\n",
    "\n",
    "tau_bb = lambda n,T: 3*hbar*n**2/(4*alpha**3*kB*T) # blackbody\n",
    "tau_0 = lambda nstar,aL: 2.09e-9*nstar**aL # T=0 lifetime\n",
    "aL = 2.85"
   ]
  },
  {
   "cell_type": "code",
   "execution_count": 5,
   "metadata": {},
   "outputs": [],
   "source": [
    "# approx photoionization rate (Urban thesis)\n",
    "gamma_pi = lambda U,n: U*(50/n)**3*(31000) # U [mK]"
   ]
  },
  {
   "cell_type": "code",
   "execution_count": 10,
   "metadata": {},
   "outputs": [
    {
     "data": {
      "text/plain": [
       "0.00010925419354838712"
      ]
     },
     "execution_count": 10,
     "metadata": {},
     "output_type": "execute_result"
    }
   ],
   "source": [
    "1/gamma_pi(1.4,84)"
   ]
  },
  {
   "cell_type": "code",
   "execution_count": 13,
   "metadata": {},
   "outputs": [],
   "source": [
    "elip = lambda a,b: pi*a*b"
   ]
  },
  {
   "cell_type": "code",
   "execution_count": 16,
   "metadata": {},
   "outputs": [
    {
     "name": "stdout",
     "output_type": "stream",
     "text": [
      "361278.12892716326 3393.617102579731\n"
     ]
    }
   ],
   "source": [
    "# Urban thesis\n",
    "r480area = elip(9.1e-6,10.5e-6)\n",
    "r780Aarea = elip(7e-6,11.9e-6)\n",
    "# r780Aarea = elip(7e-6,11.9e-6)\n",
    "\n",
    "E = lambda P,A: sqrt(4*P/(c*e0*A)) # the electric field amplitude\n",
    "print(E(26e-3,r480area),E(2e-6,r780Aarea))"
   ]
  },
  {
   "cell_type": "code",
   "execution_count": null,
   "metadata": {},
   "outputs": [],
   "source": [
    "# rydberg mat"
   ]
  }
 ],
 "metadata": {
  "kernelspec": {
   "display_name": "Python 3",
   "language": "python",
   "name": "python3"
  },
  "language_info": {
   "codemirror_mode": {
    "name": "ipython",
    "version": 3
   },
   "file_extension": ".py",
   "mimetype": "text/x-python",
   "name": "python",
   "nbconvert_exporter": "python",
   "pygments_lexer": "ipython3",
   "version": "3.7.3"
  }
 },
 "nbformat": 4,
 "nbformat_minor": 2
}
