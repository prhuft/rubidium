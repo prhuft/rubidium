{
 "cells": [
  {
   "cell_type": "markdown",
   "id": "handed-arnold",
   "metadata": {},
   "source": [
    "# Louiville space\n",
    "TODO: write a class to create a superoperator from a given \n",
    "operator, and to transform a density matrix into a column vector, properly stripping the redundant elements of each."
   ]
  },
  {
   "cell_type": "code",
   "execution_count": 2,
   "id": "social-sapphire",
   "metadata": {},
   "outputs": [],
   "source": [
    "from numpy import *\n",
    "from sympy import symbols"
   ]
  },
  {
   "cell_type": "code",
   "execution_count": 4,
   "id": "corporate-variance",
   "metadata": {},
   "outputs": [
    {
     "data": {
      "text/plain": [
       "array([1, 2, 3, 4])"
      ]
     },
     "execution_count": 4,
     "metadata": {},
     "output_type": "execute_result"
    }
   ],
   "source": [
    "rho = array([[1,2],[3,4]])\n",
    "rho.flatten()"
   ]
  },
  {
   "cell_type": "code",
   "execution_count": null,
   "id": "minor-stack",
   "metadata": {},
   "outputs": [],
   "source": []
  }
 ],
 "metadata": {
  "kernelspec": {
   "display_name": "Python 3",
   "language": "python",
   "name": "python3"
  },
  "language_info": {
   "codemirror_mode": {
    "name": "ipython",
    "version": 3
   },
   "file_extension": ".py",
   "mimetype": "text/x-python",
   "name": "python",
   "nbconvert_exporter": "python",
   "pygments_lexer": "ipython3",
   "version": "3.9.6"
  }
 },
 "nbformat": 4,
 "nbformat_minor": 5
}
