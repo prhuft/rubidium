{
 "cells": [
  {
   "cell_type": "markdown",
   "metadata": {},
   "source": [
    "\"\"\" Rb Raman pulse scan\n",
    "    Preston Huft, May 2019    \n",
    "\"\"\""
   ]
  },
  {
   "cell_type": "code",
   "execution_count": 7,
   "metadata": {},
   "outputs": [],
   "source": [
    "import numpy as np\n",
    "from matplotlib import pyplot as plt\n",
    "from scipy.integrate import complex_ode,odeint\n",
    "from scipy.integrate import solve_ivp\n",
    "import sympy\n",
    "from sympy import MatrixSymbol,MatAdd,MatMul,Identity,I,Matrix,symbols\n",
    "from sympy.utilities.lambdify import lambdify, implemented_function\n",
    "from sympy.utilities.iterables import flatten\n",
    "import time\n",
    "from math import pi,sqrt"
   ]
  },
  {
   "cell_type": "code",
   "execution_count": 8,
   "metadata": {},
   "outputs": [],
   "source": [
    "## physical constants\n",
    "e = 1.60217662e-19 # [C]\n",
    "a0 = 5.22e-11 # [m]\n",
    "hbar = 1.0545718e-34 # [J s]\n",
    "c = 3e8 # [m]\n",
    "e0 = 8.85418782e-12 # [m^-3 kg^-1 s^4 A^2]"
   ]
  },
  {
   "cell_type": "code",
   "execution_count": 9,
   "metadata": {},
   "outputs": [],
   "source": [
    "###############################################################################\n",
    "## METHODS and GLOBAL PARAMETERS\n",
    "###############################################################################\n",
    "\n",
    "## Methods\n",
    "\n",
    "def cc(z): \n",
    "    return np.conj(z)  \n",
    "\n",
    "\n",
    "def Intensity(P,w0,r,A=None,r0=None):\n",
    "    \"\"\" Gaussian beam intensity at radius 'r' for\n",
    "        'P' power\n",
    "        'w0' beam waist\n",
    "        'A' area\n",
    "    \"\"\"\n",
    "    if r0 is None:\n",
    "        r0 = 0\n",
    "    if A is None:\n",
    "        A = pi*w0**2\n",
    "    \n",
    "    return (P/A)*np.exp(-(r-r0)**2/(2*w0**2))gh\n",
    "\n",
    "## \"GLOBAL\" VARIABLES (scope excludes method bodies)\n",
    "\n",
    "threedB = (1-1/np.e) # \"3dB\" down, or ~ 63 % of an initial amplitude\n",
    "\n",
    "lmbda = 7.8e-7 # [m]"
   ]
  },
  {
   "cell_type": "code",
   "execution_count": 8,
   "metadata": {},
   "outputs": [
    {
     "name": "stdout",
     "output_type": "stream",
     "text": [
      "Comp time = 243.2446150779724[s]\n"
     ]
    },
    {
     "data": {
      "image/png": "[encoded data removed]",
      "text/plain": [
       "<Figure size 432x288 with 1 Axes>"
      ]
     },
     "metadata": {
      "needs_background": "light"
     },
     "output_type": "display_data"
    }
   ],
   "source": [
    "###############################################################################\n",
    "## Raman pi/2 pulse for different spatial overlap at atom trap site \n",
    "## of detuning from the transition resonance\n",
    "###############################################################################\n",
    "\n",
    "## TODO:\n",
    "# - change eqs to two-photon eqs\n",
    "# - get power seen by an atom at some fixed x=x0 for as a function of position \n",
    "#   of a Gaussian beam with \n",
    "#   an intensity given by the known input power and expected beam waist\n",
    "# - use that power to define a Rabi frequency for a given beam position in x\n",
    "# - solve the two-photon O.B.E.s for a Rabi freq. at various x values, and\n",
    "#   store the last point of each soln (how far the state rotated during the \n",
    "#   pulse)\n",
    "# - repeat for off-center sites, which have Rabi freq different detunings \n",
    "#   (smaller trap depth, so less A.C. stark shift, less resonant with applied \n",
    "#   light)\n",
    "\n",
    "# def derivs(y0,t,d,D,O1,O2):\n",
    "#     \"\"\" Returns RHS of optical bloch eqs for current values at time t\"\"\"\n",
    "#     c_g,c_r,c_e = y0\n",
    "    \n",
    "#     # time derivatives of state amplitudes (Mark's notes, eqs 11.3)\n",
    "#     dcg = 1j*(cc(O1)*c_r-D*c_g)/2\n",
    "#     dcr = 1j*(d*c_r+O1*c_g+cc(O2)*c_e)/2\n",
    "#     dce = 1j*(D*c_e + O2*c_r)/2\n",
    "    \n",
    "#     return np.array([dcg,dcr,dce])\n",
    "\n",
    "def derivs(y0,t,D1,D2,O1,O2):\n",
    "    \"\"\" Returns RHS of optical bloch eqs for current values at time t\"\"\"\n",
    "    c_g,c_r,c_e = y0\n",
    "    \n",
    "    # time derivatives of state amplitudes (Derived \"by hand\" and compared \n",
    "    # to Mark's notes, eqs 11.3)\n",
    "#     dcg = 1j*(cc(O1)*c_r*np.exp(-1j*D1*t))/2\n",
    "#     dcr = 1j*(O1*c_g*np.exp(1j*D1*t)+O1*c_e+cc(O2)*c_e*np.exp(-1j*D2*t))/2\n",
    "#     dce = 1j*(O2*c_e*np.exp(1j*D2*t))/2\n",
    "\n",
    "    # straight out of Mark's notes, except e <-> r, because r is\n",
    "    # our intermediate state, and e is the final state\n",
    "    D = D1+D2\n",
    "    d = D1-D2\n",
    "    \n",
    "    dcg = 1j*(cc(O1)*c_r-D*c_g)/2\n",
    "    dcr = 1j*(d*c_r+O1*c_g+cc(O2)*c_e)/2\n",
    "    dce = 1j*(D*c_e+O2*c_r)/2\n",
    "    \n",
    "    return np.array([dcg,dcr,dce])\n",
    "\n",
    "## experiment parameters and pertinent quantities\n",
    "P = 2*(3e-6) # [W] beam power per sideband at atoms\n",
    "w0 = 6e-6 # [m] expected Gaussian beam waist at atoms\n",
    "\n",
    "## test a single Rabi frequency\n",
    "O = 0.200 # [MHz] 324623.79048954 # Two-photon Rabi f\n",
    "D1 = 2*pi*4.5e4  # [MHz]\n",
    "D2 = D1\n",
    "D = D1+D2 \n",
    "d = D1-D2\n",
    "O1 = sqrt(D*O) # Single-photon Rabi f, for O1 = O2\n",
    "O2 = O1\n",
    "\n",
    "# o1DipoleElem = -1.792e-29 # see rb_matrix_elements\n",
    "# o2DipoleElem = 1.792e-29\n",
    "\n",
    "# # Rabi frequencies and the position values to be scanned\n",
    "# r_vals = np.linspace(-10e-6,10e-6,11) # the positions to scan\n",
    "# O_vals = (2/(c*e0*hbar**2))*Intensity(P,w0,r_vals) \\\n",
    "#         *o1DipoleElem*o2DipoleElem \\\n",
    "#         /(2*D)\n",
    "\n",
    "## initial conditions - system starts in ground state (|F=2,mF=0>)\n",
    "c_g = 1 + 0j\n",
    "c_r = 0 + 0j\n",
    "c_e = 0 + 0j\n",
    "y0 = np.array([c_g,c_r,c_e]) # bundle i.c.\n",
    "\n",
    "fig = plt.figure()\n",
    "ax = fig.add_subplot(111)\n",
    "# ax.set_ylim((0,1))\n",
    "ax.set_title('pi/2 pulse')\n",
    "# ax.set_xlabel('position [um]')\n",
    "ax.set_ylabel('Excitation probability')\n",
    "\n",
    "## run the parameter scan\n",
    "# prob_e = np.empty(len(r_vals))\n",
    "\n",
    "## max pulse duration\n",
    "t_exp = 5 # [us]  ~ pi/2 time we've been using\n",
    "\n",
    "## Try with solve_ivp\n",
    "stopwatch = time.time()\n",
    "# func = lambda t,y: derivs(y,t,d,D,O1,O2)\n",
    "func = lambda time,y: derivs(y,time,D1,D2,O1,O2)\n",
    "soln = solve_ivp(func,[0,t_exp],y0,#t_eval=np.linspace(0,t_exp,50),\n",
    "                method='RK45')\n",
    "ctime = time.time()-stopwatch\n",
    "print(f\"Comp time = {ctime}[s]\")\n",
    "ypts = [abs(y)**2 for y in soln.y[2]]\n",
    "ax.plot(soln.t,ypts)\n",
    "\n",
    "# ax.legend(loc='upper right')\n",
    "plt.show()"
   ]
  },
  {
   "cell_type": "code",
   "execution_count": 16,
   "metadata": {},
   "outputs": [],
   "source": [
    "## Dipole matrix elements\n",
    "o1DipoleElem = -1.792e-29 # see rb_matrix_elements\n",
    "o2DipoleElem = 1.792e-29\n",
    "\n",
    "## experiment parameters and pertinent quantities\n",
    "P = 2*(3.5e-6) # [W] beam power per sideband at atoms\n",
    "w0 = 6e-6 # [m] expected Gaussian beam waist at atoms\n",
    "D = 2*pi*(4.5e10) # [Hz] single-photon detuning\n",
    "\n",
    "a = 6e-6 # [m] w0 in x direction\n",
    "b = 8e-6 # [m] w0 in y direction\n",
    "A = a*b*pi # area at beam waist \n",
    "\n",
    "# Rabi frequencies and the position values to be scanned\n",
    "r_vals = np.linspace(-15e-6,15e-6,13) # the positions to scan\n",
    "O_vals = (2/(c*e0*hbar**2))*Intensity(P,w0,r_vals,A,r0=None) \\\n",
    "        *o1DipoleElem*o2DipoleElem \\\n",
    "        /(2*D)"
   ]
  },
  {
   "cell_type": "code",
   "execution_count": 17,
   "metadata": {
    "scrolled": true
   },
   "outputs": [
    {
     "name": "stdout",
     "output_type": "stream",
     "text": [
      "[-0.012480102193402955, -0.03242717035538863, -0.07082745178269606, -0.1300456511470099, -0.20072048718844038, -0.2604289282948177, -0.28404581667834394, -0.2604289282948176, -0.20072048718844027, -0.13004565114700986, -0.07082745178269602, -0.03242717035538863, -0.012480102193402955]\n"
     ]
    }
   ],
   "source": [
    "print([O/(2*pi*1e6) for O in O_vals])"
   ]
  },
  {
   "cell_type": "code",
   "execution_count": 23,
   "metadata": {},
   "outputs": [
    {
     "name": "stdout",
     "output_type": "stream",
     "text": [
      "[1.5079644737231007e-10, 1.5696681389723492e-10, 1.7513674636626242e-10, 2.0458312489529617e-10, 2.4468146700763434e-10]\n"
     ]
    }
   ],
   "source": [
    "def z_rayleigh(w0,wl):\n",
    "    return (pi*w0**2)/wl\n",
    "\n",
    "def g_waist(z,w0,zR):\n",
    "    return w0*sqrt(1+(z/zR)**2)  \n",
    "\n",
    "w0y = 6e-6 # [m] w0 in x direction\n",
    "w0x = 8e-6 # [m] w0 in y direction\n",
    "# A = w0x*w0y*pi # area at beam waist \n",
    "\n",
    "zRx = z_rayleigh(w0x,lmbda) \n",
    "zRy = z_rayleigh(w0y,lmbda) # this is the shorter zR\n",
    "\n",
    "z_vals = np.linspace(0,zRy,5)\n",
    "\n",
    "x_waists = [g_waist(z,w0x,zRx) for z in z_vals]\n",
    "\n",
    "# different beam areas to try in the simulation\n",
    "A_vals = [pi*g_waist(z,w0x,zRx)*g_waist(z,w0y,zRy) for z in z_vals]\n",
    "print(A_vals)"
   ]
  },
  {
   "cell_type": "code",
   "execution_count": 26,
   "metadata": {},
   "outputs": [
    {
     "name": "stderr",
     "output_type": "stream",
     "text": [
      "C:\\Users\\gothr\\Anaconda3\\lib\\site-packages\\ipykernel_launcher.py:78: ComplexWarning: Casting complex values to real discards the imaginary part\n"
     ]
    },
    {
     "data": {
      "image/png": "[encoded data removed]",
      "text/plain": [
       "<Figure size 432x288 with 1 Axes>"
      ]
     },
     "metadata": {
      "needs_background": "light"
     },
     "output_type": "display_data"
    }
   ],
   "source": [
    "###############################################################################\n",
    "## Rabi oscillations with no spontaneous emission, for various values\n",
    "## of detuning from the transition resonance\n",
    "###############################################################################\n",
    "\n",
    "def derivs(y0,t,t1,t2,D,O):\n",
    "# def derivs(t,y0,params):\n",
    "    \"\"\" Returns RHS of optical bloch eqs for current values at time t\"\"\"\n",
    "    rgg,ree,reg = y0\n",
    "#     O,D,t1,t2 = params # Rabi freq,detuning,lifetime,coherence\n",
    "    \n",
    "    # time derivatives of density op elements\n",
    "    curl = 1j/2*(O*cc(reg)-cc(O)*reg) \n",
    "    drgg = ree/t1 - curl \n",
    "    dree = -ree/t1 + curl\n",
    "    dreg = (1j*D-1/(2*t1))*reg+1j*O/2*(rgg-ree) # = cc(drge)\n",
    "    \n",
    "    return np.array([drgg,dree,dreg])\n",
    "\n",
    "## initial conditions - system starts in ground state\n",
    "rho_ee = 0 + 0j\n",
    "rho_gg = 1 + 0j\n",
    "rho_eg = 0 + 0j # no initial mixing; this is actually rho^tilda_ge\n",
    "y0 = np.array([rho_gg,rho_ee,rho_eg]) # bundle i.c.\n",
    "\n",
    "\n",
    "## Dipole matrix elements\n",
    "o1DipoleElem = -1.792e-29 # see rb_matrix_elements\n",
    "o2DipoleElem = 1.792e-29\n",
    "\n",
    "## experiment parameters and pertinent quantities\n",
    "P = 2*(3.5e-6) # [W] beam power per sideband at atoms\n",
    "w0 = 6e-6 # [m] expected Gaussian beam waist at atoms\n",
    "D = 2*pi*(4.5e10) # [Hz] single-photon detuning\n",
    "\n",
    "A = a*b*pi # area at beam waist \n",
    "\n",
    "\n",
    "# Rabi frequencies and the position values to be scanned\n",
    "r_vals = np.linspace(-15e-6,15e-6,13) # the positions to scan\n",
    "O_vals = (2/(c*e0*hbar**2))*Intensity(P,w0,r_vals,A,r0=None) \\\n",
    "        *o1DipoleElem*o2DipoleElem \\\n",
    "        /(2*D)\n",
    "# # beam position values to be scanned\n",
    "# r_vals = np.linspace(-15e-6,15e-6,13) # the positions to scan\n",
    "# # O_vals = (2/(c*e0*hbar**2))*Intensity(P,w0,r_vals,A,r0=None) \\\n",
    "# #         *o1DipoleElem*o2DipoleElem \\\n",
    "# #         /(2*D)\n",
    "# # A = 6e-6*8e-6*pi\n",
    "\n",
    "# equation parameters\n",
    "t1 = np.inf # upper state lifetime (1/gamma)\n",
    "t2 = np.inf # atomic coherence \n",
    "\n",
    "# experiment duration\n",
    "t_exp = 8 # [us]\n",
    "\n",
    "fig = plt.figure()\n",
    "ax = fig.add_subplot(111)\n",
    "ax.set_ylim((0,1))\n",
    "ax.set_ylabel('Excitation probability')\n",
    "\n",
    "retention = np.empty(len(r_vals))\n",
    "\n",
    "for wx,A in zip(x_waists,A_vals):\n",
    "    O_vals = (2/(c*e0*hbar**2))*Intensity(P,wx,r_vals,A,r0=None) \\\n",
    "            *o1DipoleElem*o2DipoleElem \\\n",
    "            /(2*D)\n",
    "\n",
    "    Det = 0 # detuning\n",
    "    for i,O in enumerate(O_vals/(2*pi*1e6)): # iterate over Rabi freq. vals \n",
    "        func = lambda y,t: derivs(t,y,t1,t2,Det,O)\n",
    "        soln = solve_ivp(func,[0,t_exp],y0,t_eval=np.linspace(0,t_exp,50))\n",
    "        retention[i]=soln.y[1][-1]\n",
    "    ax.set_title('Positional scan of beam over atom site')\n",
    "    ax.set_xlabel('Beam position wrt site 2 [um]')    \n",
    "    ax.plot(r_vals*1e6,retention,label=f\"Waist_x = {wx/1e-6} [um]\")\n",
    "\n",
    "ax.legend(loc='upper right')\n",
    "plt.show()"
   ]
  },
  {
   "cell_type": "code",
   "execution_count": null,
   "metadata": {},
   "outputs": [],
   "source": []
  },
  {
   "cell_type": "code",
   "execution_count": 58,
   "metadata": {},
   "outputs": [
    {
     "name": "stderr",
     "output_type": "stream",
     "text": [
      "C:\\Users\\gothr\\Anaconda3\\lib\\site-packages\\ipykernel_launcher.py:74: ComplexWarning: Casting complex values to real discards the imaginary part\n"
     ]
    },
    {
     "data": {
      "image/png": "[encoded data removed]",
      "text/plain": [
       "<Figure size 432x288 with 1 Axes>"
      ]
     },
     "metadata": {
      "needs_background": "light"
     },
     "output_type": "display_data"
    }
   ],
   "source": [
    "###############################################################################\n",
    "## Raman \"position alignment scan\" for three atom sights\n",
    "###############################################################################\n",
    "\n",
    "def derivs(y0,t,t1,t2,D,O):\n",
    "# def derivs(t,y0,params):\n",
    "    \"\"\" Returns RHS of optical bloch eqs for current values at time t\"\"\"\n",
    "    rgg,ree,reg = y0\n",
    "#     O,D,t1,t2 = params # Rabi freq,detuning,lifetime,coherence\n",
    "    \n",
    "    # time derivatives of density op elements\n",
    "    curl = 1j/2*(O*cc(reg)-cc(O)*reg) \n",
    "    drgg = ree/t1 - curl \n",
    "    dree = -ree/t1 + curl\n",
    "    dreg = (1j*D-1/(2*t1))*reg+1j*O/2*(rgg-ree) # = cc(drge)\n",
    "    \n",
    "    return np.array([drgg,dree,dreg])\n",
    "\n",
    "## initial conditions - system starts in ground state\n",
    "rho_ee = 0 + 0j\n",
    "rho_gg = 1 + 0j\n",
    "rho_eg = 0 + 0j # no initial mixing; this is actually rho^tilda_ge\n",
    "y0 = np.array([rho_gg,rho_ee,rho_eg]) # bundle i.c.\n",
    "\n",
    "\n",
    "## OBE parameters\n",
    "t1 = np.inf # upper state lifetime (1/gamma)\n",
    "t2 = np.inf # atomic coherence\n",
    "\n",
    "## Dipole matrix elements\n",
    "o1DipoleElem = -1.792e-29 # see rb_matrix_elements\n",
    "o2DipoleElem = 1.792e-29\n",
    "\n",
    "#the position values to be scanned\n",
    "r_vals = np.linspace(-15e-6,15e-6,13) # the positions to scan \n",
    "\n",
    "# experiment duration\n",
    "t_exp = 8 # [us]\n",
    "\n",
    "## experiment parameters and pertinent quantities\n",
    "P = 2*(3.5e-6) # [W] beam power per sideband at atoms\n",
    "D = 2*pi*(4.5e10) # [Hz] single-photon detuning\n",
    "\n",
    "# wx = x_waists[0],\n",
    "# A = A_vals[0]\n",
    "wx = 8e-6\n",
    "A = pi*8e-6*6e-6\n",
    "\n",
    "Det = 0 # detuning from |e> in two level picture\n",
    "\n",
    "sites = 3 # number of atom sites\n",
    "D_arr = [2e10,0,2e10] # site-specific detuning due to different trap depths\n",
    "spacing = 9e-6 # [m] spacing between atom sights in x direction\n",
    "dr = [-spacing,0,spacing]\n",
    "\n",
    "retention = [] # retention for three sites\n",
    "\n",
    "## initialize the figure\n",
    "fig = plt.figure()\n",
    "ax = fig.add_subplot(111)\n",
    "ax.set_ylim((0,1))\n",
    "ax.set_ylabel('Excitation probability')\n",
    "\n",
    "for s in range(0,sites): # iterate over the sites\n",
    "\n",
    "    O_vals = (2/(c*e0*hbar**2))*Intensity(P,wx,r_vals+dr[s],A,r0=None) \\\n",
    "        *o1DipoleElem*o2DipoleElem \\\n",
    "        /(2*(D+D_arr[s]))\n",
    "    \n",
    "    retention.append(np.empty(len(r_vals)))\n",
    "    for i,O in enumerate(O_vals/(2*pi*1e6)): # iterate over Rabi freq. vals \n",
    "        func = lambda y,t: derivs(t,y,t1,t2,Det,O)\n",
    "        soln = solve_ivp(func,[0,t_exp],y0,t_eval=np.linspace(0,t_exp,50))\n",
    "        retention[s][i]=soln.y[1][-1]\n",
    "    ax.set_title('Positional scan of beam over atom site')\n",
    "    ax.set_xlabel('Beam position wrt site 1 [um]')    \n",
    "    ax.plot(r_vals*1e6,retention[s],label=f\"site = {s}\")#f\"Waist_x = {wx/1e-6} [um]\")\n",
    "\n",
    "ax.set_title('Positional scan over atom sites')\n",
    "ax.legend(loc='upper right')\n",
    "plt.show()"
   ]
  },
  {
   "cell_type": "code",
   "execution_count": 32,
   "metadata": {},
   "outputs": [
    {
     "data": {
      "text/plain": [
       "[-9e-06, 0, 9e-06]"
      ]
     },
     "execution_count": 32,
     "metadata": {},
     "output_type": "execute_result"
    }
   ],
   "source": [
    "dr"
   ]
  },
  {
   "cell_type": "code",
   "execution_count": 35,
   "metadata": {},
   "outputs": [
    {
     "data": {
      "text/plain": [
       "array([-2.40e-05, -2.15e-05, -1.90e-05, -1.65e-05, -1.40e-05, -1.15e-05,\n",
       "       -9.00e-06, -6.50e-06, -4.00e-06, -1.50e-06,  1.00e-06,  3.50e-06,\n",
       "        6.00e-06])"
      ]
     },
     "execution_count": 35,
     "metadata": {},
     "output_type": "execute_result"
    }
   ],
   "source": [
    "r_vals+dr[0]"
   ]
  },
  {
   "cell_type": "code",
   "execution_count": 50,
   "metadata": {},
   "outputs": [
    {
     "data": {
      "text/plain": [
       "8e-06"
      ]
     },
     "execution_count": 50,
     "metadata": {},
     "output_type": "execute_result"
    }
   ],
   "source": [
    "x_waists[0]\n",
    "# wx"
   ]
  },
  {
   "cell_type": "code",
   "execution_count": 39,
   "metadata": {},
   "outputs": [
    {
     "data": {
      "text/plain": [
       "1.5079644737231007e-10"
      ]
     },
     "execution_count": 39,
     "metadata": {},
     "output_type": "execute_result"
    }
   ],
   "source": [
    "A_vals[0]"
   ]
  },
  {
   "cell_type": "code",
   "execution_count": 47,
   "metadata": {},
   "outputs": [
    {
     "data": {
      "text/plain": [
       "1.5079644737231007e-10"
      ]
     },
     "execution_count": 47,
     "metadata": {},
     "output_type": "execute_result"
    }
   ],
   "source": [
    "A"
   ]
  },
  {
   "cell_type": "code",
   "execution_count": null,
   "metadata": {},
   "outputs": [],
   "source": []
  }
 ],
 "metadata": {
  "kernelspec": {
   "display_name": "Python 3",
   "language": "python",
   "name": "python3"
  },
  "language_info": {
   "codemirror_mode": {
    "name": "ipython",
    "version": 3
   },
   "file_extension": ".py",
   "mimetype": "text/x-python",
   "name": "python",
   "nbconvert_exporter": "python",
   "pygments_lexer": "ipython3",
   "version": "3.7.3"
  }
 },
 "nbformat": 4,
 "nbformat_minor": 2
}
