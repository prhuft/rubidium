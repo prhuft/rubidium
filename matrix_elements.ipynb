{
 "cells": [
  {
   "cell_type": "markdown",
   "metadata": {},
   "source": [
    "Matrix Elements\n",
    "\n",
    "Preston Huft, May 2019.\n",
    "\n",
    "How to calculate matrix elements with Sympy. Equivalent to my Mathematica code 'dipole_transitions'.\n",
    "\n",
    "https://docs.sympy.org/latest/modules/physics/wigner.html\n",
    "\n",
    "sympy.physics.wigner.clebsch_gordan(j_1, j_2, j_3, m_1, m_2, m_3)[source], ⟨j1m1j2m2|j3m3⟩.\n",
    "sympy.physics.wigner.wigner_3j(j_1, j_2, j_3, m_1, m_2, m_3)[source]\n",
    "sympy.physics.wigner.wigner_6j(j_1, j_2, j_3, j_4, j_5, j_6, prec=None)[source]"
   ]
  },
  {
   "cell_type": "code",
   "execution_count": 1,
   "metadata": {},
   "outputs": [],
   "source": [
    "%matplotlib notebook\n",
    "from sympy.physics.wigner import wigner_6j,wigner_3j,clebsch_gordan\n",
    "from sympy import init_printing,N\n",
    "import numpy as np\n",
    "import math as m\n",
    "from math import sqrt,pow"
   ]
  },
  {
   "cell_type": "code",
   "execution_count": 48,
   "metadata": {},
   "outputs": [],
   "source": [
    "def hf_matrix_elem(F,mF,J,q,FF,mFF,JJ,I,RME=None):\n",
    "    \"\"\" Returns the matrix element <F,mF,J|T_q|F',mF',J'>. \n",
    "    \n",
    "        RME is the reduced matrix element (just a number), which can be calculated\n",
    "        externally and passed in to be a multiplier. If RME=None, the \n",
    "        matrix element is in units of [RME].\n",
    "        \n",
    "        I is the nuclear spin of the atom.\n",
    "    \"\"\"\n",
    "\n",
    "    rme = 1\n",
    "    if RME!=None:\n",
    "        rme = RME\n",
    "\n",
    "    ## From Mark's notes, eqs. A-50,51\n",
    "    mat_elem = rme*pow(-1,F+JJ+1+I)*sqrt((2*F+1)*(2*JJ+1)) \\\n",
    "                *wigner_6j(J,I,F,FF,1,JJ) \\\n",
    "                *clebsch_gordan(1,F,FF,q,mF,mFF)\n",
    "    \n",
    "    return mat_elem"
   ]
  },
  {
   "cell_type": "code",
   "execution_count": 50,
   "metadata": {},
   "outputs": [
    {
     "name": "stdout",
     "output_type": "stream",
     "text": [
      "J=0.5,F=1,mF=-1,q=-1,O=0\n",
      "J=0.5,F=1,mF=-1,q=0,O=0\n",
      "J=0.5,F=1,mF=-1,q=1,O=0\n",
      "J=0.5,F=1,mF=0,q=-1,O=0\n",
      "J=0.5,F=1,mF=0,q=0,O=0\n",
      "J=0.5,F=1,mF=0,q=1,O=0\n",
      "J=0.5,F=1,mF=1,q=-1,O=0\n",
      "J=0.5,F=1,mF=1,q=0,O=0\n",
      "J=0.5,F=1,mF=1,q=1,O=0.288675134594813*sqrt(6)\n",
      "J=0.5,F=2,mF=-2,q=-1,O=0\n",
      "J=0.5,F=2,mF=-2,q=0,O=0\n",
      "J=0.5,F=2,mF=-2,q=1,O=0\n",
      "J=0.5,F=2,mF=-1,q=-1,O=0\n",
      "J=0.5,F=2,mF=-1,q=0,O=0\n",
      "J=0.5,F=2,mF=-1,q=1,O=0\n",
      "J=0.5,F=2,mF=0,q=-1,O=0\n",
      "J=0.5,F=2,mF=0,q=0,O=0\n",
      "J=0.5,F=2,mF=0,q=1,O=0\n",
      "J=0.5,F=2,mF=1,q=-1,O=0\n",
      "J=0.5,F=2,mF=1,q=0,O=0\n",
      "J=0.5,F=2,mF=1,q=1,O=-0.074535599249993*sqrt(30)\n",
      "J=0.5,F=2,mF=2,q=-1,O=0\n",
      "J=0.5,F=2,mF=2,q=0,O=0.149071198499986*sqrt(15)\n",
      "J=0.5,F=2,mF=2,q=1,O=0\n",
      "sum = 1.00000000000000\n"
     ]
    }
   ],
   "source": [
    "# Rb87: D2 Line, F = 2, mF = 0 decay\n",
    "\n",
    "FF = 2; JJ = 3/2; mFF = 2 # |5p3/2,F=2,mF=2> \n",
    "F_list = [1,2]; J = 1/2 # |5s1/2,F,mF>\n",
    "\n",
    "I = 3/2 # nuclear spin\n",
    "\n",
    "# the transition probability amplitudes for all possible electric \n",
    "# dipole decay paths; multiply by m.sqrt(2*J+1) later to normalize\n",
    "\n",
    "amplitudes = []\n",
    "\n",
    "i = 0\n",
    "for F in F_list:\n",
    "    for mF in range(-F,F+1):\n",
    "        for q in [-1,0,1]: # iterate over light polarizations\n",
    "            amplitudes.append(hf_matrix_elem(F,mF,J,q,FF,mFF,JJ,I))\n",
    "            print(f\"J={J},F={F},mF={mF},q={q},O={amplitudes[i]}\")\n",
    "            i+=1\n",
    "        \n",
    "# [print(a) for a in amplitudes]\n",
    "print(\"sum = %s\" % sum([a**2 for a in amplitudes]))"
   ]
  }
 ],
 "metadata": {
  "kernelspec": {
   "display_name": "Python 3",
   "language": "python",
   "name": "python3"
  },
  "language_info": {
   "codemirror_mode": {
    "name": "ipython",
    "version": 3
   },
   "file_extension": ".py",
   "mimetype": "text/x-python",
   "name": "python",
   "nbconvert_exporter": "python",
   "pygments_lexer": "ipython3",
   "version": "3.7.3"
  }
 },
 "nbformat": 4,
 "nbformat_minor": 2
}
