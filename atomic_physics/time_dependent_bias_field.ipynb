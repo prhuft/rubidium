{
 "cells": [
  {
   "cell_type": "markdown",
   "id": "28f70b05",
   "metadata": {},
   "source": [
    "# Time dependendent bias field\n",
    "For simulating a spin object in a particular superposition of spin states undergoing evolution while the magnetic bias field defining the quantization axis undergoes rotation.\n",
    "\n",
    "If the field varies slowly*, the state should not change. \n",
    "\n",
    "*Adiabaticity condition should be satisfied."
   ]
  },
  {
   "cell_type": "code",
   "execution_count": 4,
   "id": "a1b6897c",
   "metadata": {},
   "outputs": [],
   "source": [
    "# many more imports than are needed here\n",
    "from physconsts import *\n",
    "from rbconsts import *\n",
    "from numpy import *\n",
    "from numpy.linalg import eigh\n",
    "import matplotlib.pyplot as plt\n",
    "from scipy.integrate import solve_ivp\n",
    "from sympy.physics.wigner import wigner_6j,wigner_3j,clebsch_gordan\n",
    "from time import time\n",
    "\n",
    "# local\n",
    "from amophys import *\n",
    "from simfuncs import *\n",
    "\n",
    "imdir = \"./images/\" # where to save images"
   ]
  },
  {
   "cell_type": "code",
   "execution_count": null,
   "id": "9a755731",
   "metadata": {},
   "outputs": [],
   "source": [
    "# define the basis. use just F=1 states for now; at low fields, there\n",
    "# is not mixing between F levels.\\\n",
    "\n",
    "\n",
    "\n",
    "# construct the hf Zeeman Hamiltonian with a time dependent B field\n",
    "# Bz cos(theta) + Bx sin(theta). look at marks notes for generating the\n",
    "# matrix elements for this-- i suspect certain zero elements will \"turn\n",
    "# on\" for finite theta(t). \n",
    "\n",
    "# initialize the atomic state\n",
    "\n",
    "# set up and solve the Schrodinger eq. for different B field ramp rates"
   ]
  },
  {
   "cell_type": "code",
   "execution_count": null,
   "id": "a1c3901b",
   "metadata": {},
   "outputs": [],
   "source": [
    "# plot the probability of measuring the initial state\n",
    "\n"
   ]
  },
  {
   "cell_type": "code",
   "execution_count": null,
   "id": "35a7e270",
   "metadata": {},
   "outputs": [],
   "source": [
    "# Bonus problem: use \"minimum time quantum control and \n",
    "# quantum brachristocrone paper\" to work out the optimal B field ramp\n",
    "# shape and speed"
   ]
  }
 ],
 "metadata": {
  "kernelspec": {
   "display_name": "Python 3 (ipykernel)",
   "language": "python",
   "name": "python3"
  },
  "language_info": {
   "codemirror_mode": {
    "name": "ipython",
    "version": 3
   },
   "file_extension": ".py",
   "mimetype": "text/x-python",
   "name": "python",
   "nbconvert_exporter": "python",
   "pygments_lexer": "ipython3",
   "version": "3.9.6"
  }
 },
 "nbformat": 4,
 "nbformat_minor": 5
}
