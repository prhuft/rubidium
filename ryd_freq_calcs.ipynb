{
 "cells": [
  {
   "cell_type": "markdown",
   "metadata": {},
   "source": [
    "## Rydberg addressing calcs\n",
    "Book-keeping style calculations to deduce what frequencies for AOMs, cavity(s), etc are needed to address a given Rydberg state"
   ]
  },
  {
   "cell_type": "code",
   "execution_count": 2,
   "metadata": {},
   "outputs": [],
   "source": [
    "from physconsts import *\n",
    "from rbconsts import *\n",
    "from numpy import *\n",
    "from sympy.physics.wigner import wigner_6j,wigner_3j,clebsch_gordan\n",
    "from arc import *"
   ]
  },
  {
   "cell_type": "code",
   "execution_count": 3,
   "metadata": {},
   "outputs": [],
   "source": [
    "qq = ee**2/(4*pi*e0)\n",
    "rb = Rubidium87()"
   ]
  },
  {
   "cell_type": "code",
   "execution_count": 19,
   "metadata": {},
   "outputs": [
    {
     "name": "stdout",
     "output_type": "stream",
     "text": [
      "780 double pass=4512.6684291875MHz\n",
      "960 cavity pre-shift=-1970.352980375MHz\n"
     ]
    }
   ],
   "source": [
    "# all frequencies below are in Hz not s^-1\n",
    "\n",
    "# ladder states\n",
    "n1 = 5\n",
    "l1 = 0\n",
    "j1 = 1/2\n",
    "mj1 = 1/2\n",
    "n2 = 5\n",
    "l2 = 1\n",
    "j2 = 3/2\n",
    "mj2 = 3/2\n",
    "n3 = 84\n",
    "l3 = 2\n",
    "j3 = 5/2\n",
    "mj3 = 5/2\n",
    "q = 1\n",
    "\n",
    "# addressing beam intensities\n",
    "redPower = 6e-6\n",
    "bluePower = 0.017\n",
    "redInt = redPower/(pi*(6e-6)*(8e-6))\n",
    "blueInt = bluePower/(pi*(4e-6)**2)\n",
    "\n",
    "# Rabi frequencies\n",
    "redRabi = sqrt(2*j1+1)*rb.getDipoleMatrixElement(n1,l1,j1,mj1,n2,l2,j2,mj2,q)*ee*a0*sqrt(redInt)/hbar\n",
    "blueRabi = sqrt(2*j2+1)*rb.getDipoleMatrixElement(n2,l2,j2,mj2,n3,l3,j3,mj3,q)*ee*a0*sqrt(blueInt)/hbar\n",
    "\n",
    "# hyperfine correction to level c.o.m. energies\n",
    "f_red_hf1 = 2.563e9 # frequency of 5S1/2,F=2 w.r.t. C.O.M. \n",
    "f_red_hf2 = 193.7408e6 # frequency of 5P3/2,F=3 w.r.t. level C.O.M.\n",
    "\n",
    "# raw transition frequencies on two-step ladder scheme\n",
    "f_red_transition = rb.getTransitionFrequency(n1,l1,j1,n2,l2,j2) - f_red_hf1 + f_red_hf2\n",
    "f_blue_transition = rb.getTransitionFrequency(n2,l2,j2,n3,l3,j3) - f_red_hf2\n",
    "\n",
    "# detuning\n",
    "f_delta_red = -2.1e9 # approx. \n",
    "f_delta_blue = -f_delta_red\n",
    "\n",
    "# cavity modes\n",
    "f_780A_cav = 384.2254e12\n",
    "f_960_cav = 312.6574e12 \n",
    "\n",
    "# pointing AOMs\n",
    "f_red_point = 160e6 # +1st order, region 2\n",
    "f_blue_point = -160e6 # -1st order, region 1\n",
    "\n",
    "# ponderomotive (\"free\" electron) Stark shifts\n",
    "f_ac_red = ee**2*redInt/(4*me*e0*c*(2*pi*(f_red_transition+f_delta_red)**2))\n",
    "f_ac_blue = ee**2*blueInt/(4*me*e0*c*(2*pi*(f_blue_transition+f_delta_blue)**2))\n",
    "\n",
    "# calculate necessary remaining corrections for each laser.\n",
    "# first order: no external field corrections e.g. Zeeman\n",
    "# all freq. in Hz. at least MHz precision. \n",
    "f_780_dp = f_red_transition + f_ac_red - (f_delta_red + f_red_point + f_780A_cav)\n",
    "f_960_preshift = (f_blue_transition + f_ac_blue - (f_delta_blue + f_blue_point + 2*f_960_cav))/2\n",
    "print(f\"780 double pass={f_780_dp/1e6}MHz\")\n",
    "print(f\"960 cavity pre-shift={f_960_preshift/1e6}MHz\")"
   ]
  },
  {
   "cell_type": "code",
   "execution_count": 17,
   "metadata": {},
   "outputs": [
    {
     "data": {
      "text/plain": [
       "1.1384381338969606e-31"
      ]
     },
     "execution_count": 17,
     "metadata": {},
     "output_type": "execute_result"
    }
   ],
   "source": [
    "f_ac_red"
   ]
  },
  {
   "cell_type": "code",
   "execution_count": 4,
   "metadata": {},
   "outputs": [
    {
     "name": "stdout",
     "output_type": "stream",
     "text": [
      "Help on method getTransitionFrequency in module arc.alkali_atom_functions:\n",
      "\n",
      "getTransitionFrequency(n1, l1, j1, n2, l2, j2) method of arc.alkali_atom_data.Rubidium87 instance\n",
      "    Calculated transition frequency in Hz\n",
      "    \n",
      "    Returned values is given relative to the centre of gravity of the\n",
      "    hyperfine-split states.\n",
      "    \n",
      "    Args:\n",
      "        n1 (int): principal quantum number of the state **from** which we are going\n",
      "        l1 (int): orbital angular momentum of the state **from** which we are going\n",
      "        j1 (float): total angular momentum of the state **from** which we are going\n",
      "        n2 (int): principal quantum number of the state **to** which we are going\n",
      "        l2 (int): orbital angular momentum of the state **to** which we are going\n",
      "        j2 (float): total angular momentum of the state **to** which we are going\n",
      "    \n",
      "    Returns:\n",
      "        float:\n",
      "            transition frequency (in Hz). If the returned value is negative,\n",
      "            level from which we are going is **above** the level to which we are\n",
      "            going.\n",
      "\n"
     ]
    }
   ],
   "source": [
    "help(rb.getTransitionFrequency)"
   ]
  },
  {
   "cell_type": "code",
   "execution_count": null,
   "metadata": {},
   "outputs": [],
   "source": []
  }
 ],
 "metadata": {
  "kernelspec": {
   "display_name": "Python 3",
   "language": "python",
   "name": "python3"
  },
  "language_info": {
   "codemirror_mode": {
    "name": "ipython",
    "version": 3
   },
   "file_extension": ".py",
   "mimetype": "text/x-python",
   "name": "python",
   "nbconvert_exporter": "python",
   "pygments_lexer": "ipython3",
   "version": "3.7.3"
  }
 },
 "nbformat": 4,
 "nbformat_minor": 2
}
