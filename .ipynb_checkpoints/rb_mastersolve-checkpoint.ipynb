{
 "cells": [
  {
   "cell_type": "markdown",
   "metadata": {},
   "source": [
    "# Rb87 Master Equation Solver\n",
    "\n",
    " * Include density matrix for 5s1/s, 5p1/2, and 5p3/2 in F basis; and relevant Rydberg states in J basis\n",
    " * Include Linblad operator for spontaneous emission\n",
    " * Include Hamiltonian accounting for spatially homogeneous affects: Zeeman splittings, AC and DC Stark shifts, etc\n",
    " * Include Hamiltonian accounting for spatially inhomogenous and/or time dependent affects: laser intensity gradients,\n",
    " Doppler shift, etc\n",
    "\n",
    "To-do:\n",
    " * Need to approach the problem differently than I would in Mathematica.... one function generates an equation internally\n",
    "   and could then pass the output as a raw string to be interpreted in some other function. Dance between sympy and treating function args as code. See my Zeeman splitting code as a starting point. \n",
    " * Generate a density matrix given a list of states [n,L,J,'ang. mom basis'], e.g. [[5,0,1/2,'F'],[5,1,1/2,'F'],[5,1,3/2,'F']]. \n",
    " * Generate Hamiltonians (e.g. Z1,E1) given a state list described above. "
   ]
  },
  {
   "cell_type": "code",
   "execution_count": null,
   "metadata": {},
   "outputs": [],
   "source": []
  }
 ],
 "metadata": {
  "kernelspec": {
   "display_name": "Python 3",
   "language": "python",
   "name": "python3"
  },
  "language_info": {
   "codemirror_mode": {
    "name": "ipython",
    "version": 3
   },
   "file_extension": ".py",
   "mimetype": "text/x-python",
   "name": "python",
   "nbconvert_exporter": "python",
   "pygments_lexer": "ipython3",
   "version": "3.7.3"
  }
 },
 "nbformat": 4,
 "nbformat_minor": 2
}
