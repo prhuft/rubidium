{
 "cells": [
  {
   "cell_type": "markdown",
   "metadata": {},
   "source": [
    "\"\"\" FORT drop recapture experiment \n",
    "Preston Huft, August 2019\n",
    "\n",
    "Physics based on code by Mark Saffman\n",
    "\"\"\" "
   ]
  },
  {
   "cell_type": "code",
   "execution_count": 1,
   "metadata": {},
   "outputs": [
    {
     "data": {
      "text/html": [
       "<style>.container{width:100% !important;}</style>"
      ],
      "text/plain": [
       "<IPython.core.display.HTML object>"
      ]
     },
     "metadata": {},
     "output_type": "display_data"
    }
   ],
   "source": [
    "# %matplotlib notebook\n",
    "\n",
    "## libraries\n",
    "from matplotlib import pyplot as plt\n",
    "import numpy as np\n",
    "from numpy import linspace,empty,sin,cos,log,exp,sqrt\n",
    "from numpy.random import normal\n",
    "import math as m\n",
    "from math import pi,e\n",
    "from random import random as rand\n",
    "# from scipy.integrate import solve_ivp\n",
    "\n",
    "## other files\n",
    "from physconsts import *\n",
    "from rbconsts import *\n",
    "from rbensemble import RbEnsemble as ensemble\n",
    "\n",
    "## make the display wide\n",
    "from IPython.core.display import display,HTML\n",
    "display(HTML(\"<style>.container{width:100% !important;}</style>\"))"
   ]
  },
  {
   "cell_type": "code",
   "execution_count": 2,
   "metadata": {},
   "outputs": [
    {
     "data": {
      "image/png": "[encoded data removed]",
      "text/plain": [
       "<Figure size 432x288 with 1 Axes>"
      ]
     },
     "metadata": {
      "needs_background": "light"
     },
     "output_type": "display_data"
    },
    {
     "data": {
      "text/plain": [
       "array([0.07095665, 0.1635503 , 0.15074276, 0.08146923, 0.10803242,\n",
       "       0.11378582, 0.19459407, 0.11798936, 0.09995086, 0.05936611,\n",
       "       0.10055564, 0.19988805, 0.05873636, 0.2180334 , 0.21579042,\n",
       "       0.11891259, 0.1339803 , 0.09015447, 0.12988032, 0.13910878,\n",
       "       0.16104152, 0.02027206, 0.04185641, 0.11764256, 0.15243752,\n",
       "       0.1036527 , 0.06141105, 0.12140649, 0.17621725, 0.18854024,\n",
       "       0.14099773, 0.05448405, 0.09697018, 0.06824839, 0.09344427,\n",
       "       0.16024084, 0.07681745, 0.13867687, 0.1035944 , 0.06888161,\n",
       "       0.09870602, 0.12030209, 0.08082973, 0.08840488, 0.06950562,\n",
       "       0.16569498, 0.1310553 , 0.10017037, 0.10748086, 0.13584459])"
      ]
     },
     "execution_count": 2,
     "metadata": {},
     "output_type": "execute_result"
    }
   ],
   "source": [
    "# maxwboltz test\n",
    "atoms = ensemble(5e-5)\n",
    "atoms.sampling_maxboltzv(50,[0,1],showplot=True)"
   ]
  },
  {
   "cell_type": "code",
   "execution_count": 3,
   "metadata": {},
   "outputs": [],
   "source": [
    "## experiment\n",
    "\n",
    "def drop_recap(wx,Tdepth,Tatom,tmax,steps=None,events=None,\n",
    "               wy=None,base_retention=None):\n",
    "    \"\"\" Based on code by Mark, with some corrections\n",
    "        'wx': waist\n",
    "        'Tdepth': FORT temperature depth\n",
    "        'T': atom temp\n",
    "        'tmax': max time in units us\n",
    "        'steps': number of FORT drop outs\n",
    "        'events': number of release-recapture events per data pt\n",
    "        'wy': optional waist for eliptical FORT \n",
    "    \"\"\"\n",
    "    \n",
    "    global mRb,kB,g\n",
    "    \n",
    "    if steps is None:\n",
    "        steps = 100\n",
    "    if events is None:\n",
    "        events = 2000\n",
    "#     if omega_r is None:\n",
    "#         omega_r = (2/wx)*sqrt(umax/mRb) # the radial trap frequency\n",
    "#     if omega_z is None:\n",
    "#         omega_z = (2/wz)*sqrt(umax/mRb) # the angular trap frequency\n",
    "    if wy is None:\n",
    "        wy = wx\n",
    "    if base_retention is None:\n",
    "        base_retention = .95 # the retention baseline with no fort drop\n",
    "        \n",
    "    T = Tatom\n",
    "    tmax = tmax*1e-6 # [us]->[s]\n",
    "    umax = kB*Tdepth # the maximum FORT depth\n",
    "            \n",
    "    tlist = linspace(0,tmax,steps) # time in units s\n",
    "    retention = empty(steps)\n",
    "    \n",
    "    lmbda = 1.064e-6 # the trap wavelength\n",
    "    \n",
    "    zR = pi*wx**2/lmbda\n",
    "    \n",
    "    def U(x,y,z):\n",
    "        \"\"\" the potential energy as a function of space in the trap \"\"\"\n",
    "        ww = (1+z**2/zR**2) \n",
    "        return -umax*exp(-2*x**2/(wx**2*ww)-2*y**2/(wy**2*ww))/ww # idk if i trust this expression\n",
    "\n",
    "#     generate random atom coordinates within the trap - Mark approach\n",
    "    zlist = normal(0,pi*wx**2/(sqrt(2)*lmbda)*sqrt(T),size=events)\n",
    "    xlist = [normal(0,.5*wx*sqrt(1+z**2/zR**2)*sqrt(T))\n",
    "              for z in zlist]\n",
    "    ylist = [normal(0,.5*wy*sqrt(1+z**2/zR**2)*sqrt(T))\n",
    "              for z in zlist]\n",
    "\n",
    "#     # random atom positions - Grangier group approach\n",
    "#     omega_r = 2*pi*4.3e4 # based on 2.5 mK fort :/\n",
    "#     omega_z = 2*pi*2e3 \n",
    "#     dx = dy = sqrt(kB*T/(mRb*omega_r**2))\n",
    "#     dz = sqrt(kB*T/(mRb*omega_z**2))\n",
    "#     zlist = normal(0,dz,size=events)\n",
    "#     xlist = normal(0,dx,size=events)\n",
    "#     ylist = normal(0,dy,size=events)\n",
    "    \n",
    "    # maxwell boltzmann speeds\n",
    "    atoms = ensemble(T)\n",
    "    vxlist = atoms.sampling_maxboltzv(events,[0,2])\n",
    "    vylist = atoms.sampling_maxboltzv(events,[0,2])\n",
    "    vzlist = atoms.sampling_maxboltzv(events,[0,2])\n",
    "\n",
    "#     print(f\"vx={vxlist}\")\n",
    "    \n",
    "    # run the experiment\n",
    "    for j,t in enumerate(tlist):\n",
    "        \n",
    "        escape = 0 \n",
    "        nhot = 0 # this is an untrapped atom\n",
    "        \n",
    "        if j % 10 == 0:\n",
    "            print(f\"timestep {j}: t = {t*1e6:.0f} [us],\")\n",
    "            \n",
    "        for i in range(events):     \n",
    "            hot = 0\n",
    "            KE = .5*mRb*((vxlist[i]-g*t)**2+vylist[i]**2\n",
    "                          +vzlist[i]**2)\n",
    "            PE0 = U(xlist[i],ylist[i],zlist[i])\n",
    "            PE = U(xlist[i]+t*vxlist[i]+.5*g*(t)**2,\n",
    "                   ylist[i]+t*vylist[i],\n",
    "                   zlist[i]+t*vzlist[i])\n",
    "            \n",
    "            if KE + PE0 > 0:\n",
    "                hot = 1\n",
    "#                 print(f\"KE = {KE}, PE = {PE}\")\n",
    "            nhot += hot\n",
    "            if KE + PE > 0:\n",
    "                escape += 1-hot\n",
    "#                 print(f\"KE = {KE}, PE = {PE0}\")\n",
    "        retention[j] = base_retention - escape/events\n",
    "        \n",
    "    plt.plot(tlist*1e6,retention,label=f'{T/1e-6:.0f} uK') # show time in units [us]\n",
    "    plt.xlabel(\"time [us]\")\n",
    "    plt.ylabel(\"retention\")\n",
    "    plt.ylim((0,1))\n",
    "    plt.legend()"
   ]
  },
  {
   "cell_type": "code",
   "execution_count": 4,
   "metadata": {
    "scrolled": false
   },
   "outputs": [
    {
     "name": "stdout",
     "output_type": "stream",
     "text": [
      "timestep 0: t = 0 [us],\n",
      "timestep 10: t = 12 [us],\n",
      "timestep 20: t = 24 [us],\n",
      "timestep 30: t = 36 [us],\n",
      "timestep 40: t = 48 [us],\n",
      "timestep 50: t = 61 [us],\n",
      "timestep 60: t = 73 [us],\n",
      "timestep 70: t = 85 [us],\n",
      "timestep 80: t = 97 [us],\n",
      "timestep 90: t = 109 [us],\n"
     ]
    },
    {
     "data": {
      "image/png": "[encoded data removed]",
      "text/plain": [
       "<Figure size 432x288 with 1 Axes>"
      ]
     },
     "metadata": {
      "needs_background": "light"
     },
     "output_type": "display_data"
    }
   ],
   "source": [
    "w0 = 2.5e-6 # [m]\n",
    "TFORT = 1.5e-3 # [K]\n",
    "Tatom = 5e-5 # [K]\n",
    "tmax = 120 # [us]\n",
    "drop_recap(w0,TFORT,Tatom,tmax)"
   ]
  },
  {
   "cell_type": "code",
   "execution_count": null,
   "metadata": {},
   "outputs": [],
   "source": []
  }
 ],
 "metadata": {
  "kernelspec": {
   "display_name": "Python 3",
   "language": "python",
   "name": "python3"
  },
  "language_info": {
   "codemirror_mode": {
    "name": "ipython",
    "version": 3
   },
   "file_extension": ".py",
   "mimetype": "text/x-python",
   "name": "python",
   "nbconvert_exporter": "python",
   "pygments_lexer": "ipython3",
   "version": "3.7.3"
  }
 },
 "nbformat": 4,
 "nbformat_minor": 2
}
