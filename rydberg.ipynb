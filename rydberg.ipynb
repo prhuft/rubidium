{
 "cells": [
  {
   "cell_type": "markdown",
   "metadata": {},
   "source": [
    "# Rydberg calculations for $^{87}$Rb\n",
    "References:\n",
    " * Minho's Thesis\n",
    " * Paul Huillery Thesis\n",
    " * Rydberg_atoms_a_primer_notebook (Pair Interaction)"
   ]
  },
  {
   "cell_type": "code",
   "execution_count": 60,
   "metadata": {},
   "outputs": [],
   "source": [
    "from physconsts import *\n",
    "from rbconsts import *\n",
    "from numpy import *\n",
    "import matplotlib.pyplot as plt\n",
    "import matplotlib as mpl\n",
    "from sympy.physics.wigner import wigner_6j,wigner_3j,clebsch_gordan\n",
    "\n",
    "from arc import *\n",
    "from scipy.special import sph_harm as ylm\n",
    "\n",
    "# other\n",
    "mpl.rcParams.update(mpl.rcParamsDefault)"
   ]
  },
  {
   "cell_type": "code",
   "execution_count": 13,
   "metadata": {},
   "outputs": [],
   "source": [
    "# various setup\n",
    "qq = ee**2/(4*pi*e0)\n",
    "\n",
    "ldict = {0:'S',1:'P',2:'D',3:'F'} \n",
    "jdict = {.5:'1/2',1.5:'3/2',2.5:'5/2',3.5:'7/2'}"
   ]
  },
  {
   "cell_type": "markdown",
   "metadata": {},
   "source": [
    "LeRoy Radius\n",
    "$R_{LR} = 2 \\left( \\sqrt{\\langle r_1^2 \\rangle} + \\sqrt{\\langle r_2^2 \\rangle} \\right) \\approx 4 n^2 a_0 $"
   ]
  },
  {
   "cell_type": "code",
   "execution_count": 14,
   "metadata": {},
   "outputs": [
    {
     "data": {
      "text/plain": [
       "2.5326318795200154e-06"
      ]
     },
     "execution_count": 14,
     "metadata": {},
     "output_type": "execute_result"
    }
   ],
   "source": [
    "# Assumption of well-separated Rydberg atoms: atoms are separated by\n",
    "# the LeRoy radius \n",
    "\n",
    "Rlr = lambda n,l: a0*sqrt(8*n**2*(5*n**2 + 1 - 3*l*(l+1)))\n",
    "\n",
    "Rlr(87,2)"
   ]
  },
  {
   "cell_type": "code",
   "execution_count": 5,
   "metadata": {},
   "outputs": [],
   "source": [
    "# Calculate oscillator strength between |87d_5/2> and nearby \n",
    "# states |n'l'J'> states. then calculate energy shifts from \n",
    "# forster resonances in pair states using only those states\n",
    "# with some threshold level of oscillator strength\n",
    "\n"
   ]
  },
  {
   "cell_type": "code",
   "execution_count": 15,
   "metadata": {},
   "outputs": [],
   "source": [
    "rb = Rubidium(87)"
   ]
  },
  {
   "cell_type": "code",
   "execution_count": 8,
   "metadata": {},
   "outputs": [
    {
     "data": {
      "text/plain": [
       "[<matplotlib.lines.Line2D at 0x24d43807ac8>]"
      ]
     },
     "execution_count": 8,
     "metadata": {},
     "output_type": "execute_result"
    },
    {
     "data": {
      "image/png": "[encoded data removed]",
      "text/plain": [
       "<Figure size 432x288 with 1 Axes>"
      ]
     },
     "metadata": {
      "needs_background": "light"
     },
     "output_type": "display_data"
    }
   ],
   "source": [
    "# TODO: try to make contour plots of the whole |psi|^2, i.e. including\n",
    "# the angular part\n",
    "s = 0.5\n",
    "l = 0\n",
    "j = 0.5\n",
    "n = 5\n",
    "\n",
    "rmin = rb.alphaC**(1/3)\n",
    "rmax = 2*n*(n+15)\n",
    "\n",
    "rpts, radial = rb.radialWavefunction(\n",
    "    l,s,j,\n",
    "    rb.getEnergy(n,l,j)/27.211, # don't know why 27.211 \n",
    "    rmin,\n",
    "    rmax,\n",
    "    step=0.001\n",
    ")\n",
    "\n",
    "plt.plot(rpts, radial) "
   ]
  },
  {
   "cell_type": "code",
   "execution_count": 9,
   "metadata": {},
   "outputs": [],
   "source": [
    "## dipole matrix elements\n",
    "\n",
    "n1 = 87\n",
    "s = 0.5\n",
    "l1 = 2\n",
    "j1 = 2.5\n",
    "mj1 = 2.5 # stretched state\n",
    "q = -1 # lin-pol light\n",
    "\n",
    "n2list = range(84,88)\n",
    "\n",
    "ticklabels = []\n",
    "matelems = []\n",
    "\n",
    "for n2 in n2list:\n",
    "    for l2 in [l1-1, l1+1]:\n",
    "        for j2 in arange(l2-s,l2+s+1,1):\n",
    "            if mj1 + q <= j2: \n",
    "                mj2 = mj1 + q\n",
    "                matelems.append(\n",
    "                    abs(rb.getDipoleMatrixElement(n1,l1,j1,mj1,n2,l2,j2,mj2,q))\n",
    "                )\n",
    "                ticklabels.append(f'|{n2}{ldict[l2]}_{jdict[j2]},{jdict[mj2]}>')"
   ]
  },
  {
   "cell_type": "code",
   "execution_count": 10,
   "metadata": {},
   "outputs": [
    {
     "data": {
      "image/png": "[encoded data removed]",
      "text/plain": [
       "<Figure size 432x288 with 1 Axes>"
      ]
     },
     "metadata": {
      "needs_background": "light"
     },
     "output_type": "display_data"
    }
   ],
   "source": [
    "fig,ax = plt.subplots()\n",
    "\n",
    "ax.scatter(range(len(matelems)),matelems)\n",
    "ax.set_xticks(range(len(matelems)))\n",
    "ax.set_xticklabels(ticklabels, rotation=60, fontsize='large')\n",
    "ax.set_ylabel(r'Matrix Element [$e a_0$]', fontsize='large')\n",
    "ax.set_title(f'Electric Dipole Transitions with |{n1}{ldict[l1]}_{jdict[j1]},{jdict[mj1]}>, q={q}')\n",
    "plt.show()"
   ]
  },
  {
   "cell_type": "code",
   "execution_count": 17,
   "metadata": {},
   "outputs": [],
   "source": [
    "def V_dd(a1,b1,a2,b2,r12,atom):\n",
    "    \"\"\"\n",
    "    dipole-dipole matrix elem including fine structure\n",
    "    a1,b1,a2,b2 are each lists of form [n,l,j,mj] denoting the states 1 and 2 of atoms a,b\n",
    "    r12 is atom separation\n",
    "    atom is a PairInteraction atom object\n",
    "    \"\"\"\n",
    "    na1,la1,ja1,ma1 = a1\n",
    "    nb1,lb1,jb1,mb1 = b1\n",
    "    na2,la2,ja2,ma2 = a2\n",
    "    nb2,lb2,jb2,mb2 = b2\n",
    "    \n",
    "    q=0 # dipole has linear polarization\n",
    "    matelem = 0\n",
    "\n",
    "    for p in [-1,0,1]:\n",
    "        try:\n",
    "            matelem += clebsch_gordan(1,1,2,p,-p,q)* \\\n",
    "                atom.getDipoleMatrixElement(na1,la1,ja1,ma1,na2,la2,ja2,ma2,p)* \\\n",
    "                atom.getDipoleMatrixElement(nb1,lb1,jb1,mb1,nb2,lb2,jb2,mb2,-p)\n",
    "        except ValueError:\n",
    "            pass # CG coefficient is zero; ignore.\n",
    "    \n",
    "    matelem *= -qq**2*sqrt(6)/r12\n",
    "    return matelem"
   ]
  },
  {
   "cell_type": "code",
   "execution_count": 101,
   "metadata": {},
   "outputs": [
    {
     "name": "stdout",
     "output_type": "stream",
     "text": [
      "Forster defect = -8.334369904025891 [MHz]\n",
      "number of basis pair states: 68\n"
     ]
    }
   ],
   "source": [
    "# initial pair state, ignoring Zeeman substates\n",
    "na1 = 43\n",
    "la1 = 2\n",
    "ja1 = 5/2\n",
    "\n",
    "nb1 = 43\n",
    "lb1 = 2\n",
    "jb1 = 5/2\n",
    "# final pair state, \"\"\"\n",
    "na2 = 45\n",
    "la2 = 1\n",
    "ja2 = 3/2\n",
    "\n",
    "nb2 = 41\n",
    "lb2 = 3\n",
    "jb2 = 7/2 # makes the most sense \n",
    "\n",
    "delta = -(rb.getEnergy(na1,la1,ja1) \n",
    "         + rb.getEnergy(nb1,lb1,jb1)\n",
    "         - rb.getEnergy(na2,la2,ja2)\n",
    "         - rb.getEnergy(nb2,lb2,jb2))*ee/(2*pi*hbar*10**6)\n",
    "print(f\"Forster defect = {delta} [MHz]\")\n",
    "\n",
    "# initial state with possible projections\n",
    "basis_i = [[[na1, la1, ja1, ma],[nb1, lb1, jb1, mb]] for ma in arange(-ja1, ja1+1,1) for mb in arange(-jb1, jb1+1,1)]\n",
    "# final state with possible projections\n",
    "basis_f = [[[na2, la2, ja2, ma],[nb2, lb2, jb2, mb]] for ma in arange(-ja2, ja2+1,1) for mb in arange(-jb2, jb2+1,1)]\n",
    "\n",
    "basis = basis_i + basis_f\n",
    "dim = len(basis)\n",
    "print(f\"number of basis pair states: {dim}\")"
   ]
  },
  {
   "cell_type": "code",
   "execution_count": 100,
   "metadata": {
    "collapsed": true
   },
   "outputs": [
    {
     "data": {
      "text/plain": [
       "[[[43, 2, 2.5, -2.5], [43, 2, 2.5, -2.5]],\n",
       " [[43, 2, 2.5, -2.5], [43, 2, 2.5, -1.5]],\n",
       " [[43, 2, 2.5, -2.5], [43, 2, 2.5, -0.5]],\n",
       " [[43, 2, 2.5, -2.5], [43, 2, 2.5, 0.5]],\n",
       " [[43, 2, 2.5, -2.5], [43, 2, 2.5, 1.5]],\n",
       " [[43, 2, 2.5, -2.5], [43, 2, 2.5, 2.5]],\n",
       " [[43, 2, 2.5, -1.5], [43, 2, 2.5, -2.5]],\n",
       " [[43, 2, 2.5, -1.5], [43, 2, 2.5, -1.5]],\n",
       " [[43, 2, 2.5, -1.5], [43, 2, 2.5, -0.5]],\n",
       " [[43, 2, 2.5, -1.5], [43, 2, 2.5, 0.5]],\n",
       " [[43, 2, 2.5, -1.5], [43, 2, 2.5, 1.5]],\n",
       " [[43, 2, 2.5, -1.5], [43, 2, 2.5, 2.5]],\n",
       " [[43, 2, 2.5, -0.5], [43, 2, 2.5, -2.5]],\n",
       " [[43, 2, 2.5, -0.5], [43, 2, 2.5, -1.5]],\n",
       " [[43, 2, 2.5, -0.5], [43, 2, 2.5, -0.5]],\n",
       " [[43, 2, 2.5, -0.5], [43, 2, 2.5, 0.5]],\n",
       " [[43, 2, 2.5, -0.5], [43, 2, 2.5, 1.5]],\n",
       " [[43, 2, 2.5, -0.5], [43, 2, 2.5, 2.5]],\n",
       " [[43, 2, 2.5, 0.5], [43, 2, 2.5, -2.5]],\n",
       " [[43, 2, 2.5, 0.5], [43, 2, 2.5, -1.5]],\n",
       " [[43, 2, 2.5, 0.5], [43, 2, 2.5, -0.5]],\n",
       " [[43, 2, 2.5, 0.5], [43, 2, 2.5, 0.5]],\n",
       " [[43, 2, 2.5, 0.5], [43, 2, 2.5, 1.5]],\n",
       " [[43, 2, 2.5, 0.5], [43, 2, 2.5, 2.5]],\n",
       " [[43, 2, 2.5, 1.5], [43, 2, 2.5, -2.5]],\n",
       " [[43, 2, 2.5, 1.5], [43, 2, 2.5, -1.5]],\n",
       " [[43, 2, 2.5, 1.5], [43, 2, 2.5, -0.5]],\n",
       " [[43, 2, 2.5, 1.5], [43, 2, 2.5, 0.5]],\n",
       " [[43, 2, 2.5, 1.5], [43, 2, 2.5, 1.5]],\n",
       " [[43, 2, 2.5, 1.5], [43, 2, 2.5, 2.5]],\n",
       " [[43, 2, 2.5, 2.5], [43, 2, 2.5, -2.5]],\n",
       " [[43, 2, 2.5, 2.5], [43, 2, 2.5, -1.5]],\n",
       " [[43, 2, 2.5, 2.5], [43, 2, 2.5, -0.5]],\n",
       " [[43, 2, 2.5, 2.5], [43, 2, 2.5, 0.5]],\n",
       " [[43, 2, 2.5, 2.5], [43, 2, 2.5, 1.5]],\n",
       " [[43, 2, 2.5, 2.5], [43, 2, 2.5, 2.5]],\n",
       " [[45, 1, 1.5, -1.5], [41, 3, 3.5, -3.5]],\n",
       " [[45, 1, 1.5, -1.5], [41, 3, 3.5, -2.5]],\n",
       " [[45, 1, 1.5, -1.5], [41, 3, 3.5, -1.5]],\n",
       " [[45, 1, 1.5, -1.5], [41, 3, 3.5, -0.5]],\n",
       " [[45, 1, 1.5, -1.5], [41, 3, 3.5, 0.5]],\n",
       " [[45, 1, 1.5, -1.5], [41, 3, 3.5, 1.5]],\n",
       " [[45, 1, 1.5, -1.5], [41, 3, 3.5, 2.5]],\n",
       " [[45, 1, 1.5, -1.5], [41, 3, 3.5, 3.5]],\n",
       " [[45, 1, 1.5, -0.5], [41, 3, 3.5, -3.5]],\n",
       " [[45, 1, 1.5, -0.5], [41, 3, 3.5, -2.5]],\n",
       " [[45, 1, 1.5, -0.5], [41, 3, 3.5, -1.5]],\n",
       " [[45, 1, 1.5, -0.5], [41, 3, 3.5, -0.5]],\n",
       " [[45, 1, 1.5, -0.5], [41, 3, 3.5, 0.5]],\n",
       " [[45, 1, 1.5, -0.5], [41, 3, 3.5, 1.5]],\n",
       " [[45, 1, 1.5, -0.5], [41, 3, 3.5, 2.5]],\n",
       " [[45, 1, 1.5, -0.5], [41, 3, 3.5, 3.5]],\n",
       " [[45, 1, 1.5, 0.5], [41, 3, 3.5, -3.5]],\n",
       " [[45, 1, 1.5, 0.5], [41, 3, 3.5, -2.5]],\n",
       " [[45, 1, 1.5, 0.5], [41, 3, 3.5, -1.5]],\n",
       " [[45, 1, 1.5, 0.5], [41, 3, 3.5, -0.5]],\n",
       " [[45, 1, 1.5, 0.5], [41, 3, 3.5, 0.5]],\n",
       " [[45, 1, 1.5, 0.5], [41, 3, 3.5, 1.5]],\n",
       " [[45, 1, 1.5, 0.5], [41, 3, 3.5, 2.5]],\n",
       " [[45, 1, 1.5, 0.5], [41, 3, 3.5, 3.5]],\n",
       " [[45, 1, 1.5, 1.5], [41, 3, 3.5, -3.5]],\n",
       " [[45, 1, 1.5, 1.5], [41, 3, 3.5, -2.5]],\n",
       " [[45, 1, 1.5, 1.5], [41, 3, 3.5, -1.5]],\n",
       " [[45, 1, 1.5, 1.5], [41, 3, 3.5, -0.5]],\n",
       " [[45, 1, 1.5, 1.5], [41, 3, 3.5, 0.5]],\n",
       " [[45, 1, 1.5, 1.5], [41, 3, 3.5, 1.5]],\n",
       " [[45, 1, 1.5, 1.5], [41, 3, 3.5, 2.5]],\n",
       " [[45, 1, 1.5, 1.5], [41, 3, 3.5, 3.5]]]"
      ]
     },
     "execution_count": 100,
     "metadata": {},
     "output_type": "execute_result"
    }
   ],
   "source": [
    "basis[]"
   ]
  },
  {
   "cell_type": "code",
   "execution_count": 108,
   "metadata": {
    "scrolled": true
   },
   "outputs": [
    {
     "data": {
      "text/plain": [
       "-8.334369904025891"
      ]
     },
     "execution_count": 108,
     "metadata": {},
     "output_type": "execute_result"
    }
   ],
   "source": [
    "# build the hamiltonian\n",
    "\n",
    "H_atom = zeros((dim,dim))\n",
    "for i in range(dim - int((2*ja2+1)*(2*jb2+1)),dim):\n",
    "    H_atom[i,i] = delta\n",
    "    \n",
    "H_vdd = zeros((dim,dim))\n",
    "for i,pairstate_i in enumerate(basis):\n",
    "    for j,pairstate_j in enumerate(basis):\n",
    "        state_ai,state_bi = pairstate_i\n",
    "        state_aj,state_bj = pairstate_j\n",
    "        vdd_elem = v_dd(state_ai,state_bi,state_aj,state_bj,1,rb)\n",
    "        \n",
    "        "
   ]
  },
  {
   "cell_type": "code",
   "execution_count": 92,
   "metadata": {
    "collapsed": true
   },
   "outputs": [
    {
     "data": {
      "text/plain": [
       "[[[43, 2, 2.5, -2.5], [43, 2, 2.5, -2.5]],\n",
       " [[43, 2, 2.5, -2.5], [43, 2, 2.5, -1.5]],\n",
       " [[43, 2, 2.5, -2.5], [43, 2, 2.5, -0.5]],\n",
       " [[43, 2, 2.5, -2.5], [43, 2, 2.5, 0.5]],\n",
       " [[43, 2, 2.5, -2.5], [43, 2, 2.5, 1.5]],\n",
       " [[43, 2, 2.5, -2.5], [43, 2, 2.5, 2.5]],\n",
       " [[43, 2, 2.5, -1.5], [43, 2, 2.5, -2.5]],\n",
       " [[43, 2, 2.5, -1.5], [43, 2, 2.5, -1.5]],\n",
       " [[43, 2, 2.5, -1.5], [43, 2, 2.5, -0.5]],\n",
       " [[43, 2, 2.5, -1.5], [43, 2, 2.5, 0.5]],\n",
       " [[43, 2, 2.5, -1.5], [43, 2, 2.5, 1.5]],\n",
       " [[43, 2, 2.5, -1.5], [43, 2, 2.5, 2.5]],\n",
       " [[43, 2, 2.5, -0.5], [43, 2, 2.5, -2.5]],\n",
       " [[43, 2, 2.5, -0.5], [43, 2, 2.5, -1.5]],\n",
       " [[43, 2, 2.5, -0.5], [43, 2, 2.5, -0.5]],\n",
       " [[43, 2, 2.5, -0.5], [43, 2, 2.5, 0.5]],\n",
       " [[43, 2, 2.5, -0.5], [43, 2, 2.5, 1.5]],\n",
       " [[43, 2, 2.5, -0.5], [43, 2, 2.5, 2.5]],\n",
       " [[43, 2, 2.5, 0.5], [43, 2, 2.5, -2.5]],\n",
       " [[43, 2, 2.5, 0.5], [43, 2, 2.5, -1.5]],\n",
       " [[43, 2, 2.5, 0.5], [43, 2, 2.5, -0.5]],\n",
       " [[43, 2, 2.5, 0.5], [43, 2, 2.5, 0.5]],\n",
       " [[43, 2, 2.5, 0.5], [43, 2, 2.5, 1.5]],\n",
       " [[43, 2, 2.5, 0.5], [43, 2, 2.5, 2.5]],\n",
       " [[43, 2, 2.5, 1.5], [43, 2, 2.5, -2.5]],\n",
       " [[43, 2, 2.5, 1.5], [43, 2, 2.5, -1.5]],\n",
       " [[43, 2, 2.5, 1.5], [43, 2, 2.5, -0.5]],\n",
       " [[43, 2, 2.5, 1.5], [43, 2, 2.5, 0.5]],\n",
       " [[43, 2, 2.5, 1.5], [43, 2, 2.5, 1.5]],\n",
       " [[43, 2, 2.5, 1.5], [43, 2, 2.5, 2.5]],\n",
       " [[43, 2, 2.5, 2.5], [43, 2, 2.5, -2.5]],\n",
       " [[43, 2, 2.5, 2.5], [43, 2, 2.5, -1.5]],\n",
       " [[43, 2, 2.5, 2.5], [43, 2, 2.5, -0.5]],\n",
       " [[43, 2, 2.5, 2.5], [43, 2, 2.5, 0.5]],\n",
       " [[43, 2, 2.5, 2.5], [43, 2, 2.5, 1.5]],\n",
       " [[43, 2, 2.5, 2.5], [43, 2, 2.5, 2.5]]]"
      ]
     },
     "execution_count": 92,
     "metadata": {},
     "output_type": "execute_result"
    }
   ],
   "source": [
    "basis = [[[na1, la1, ja1, ma],[nb1, lb1, jb1, mb]] for ma in arange(-ja1, ja1+1,1) for mb in arange(-jb1, jb1+1,1)]\n",
    "basis"
   ]
  },
  {
   "cell_type": "code",
   "execution_count": null,
   "metadata": {},
   "outputs": [],
   "source": [
    "const"
   ]
  },
  {
   "cell_type": "code",
   "execution_count": 29,
   "metadata": {},
   "outputs": [
    {
     "data": {
      "text/plain": [
       "14.383454371569494"
      ]
     },
     "execution_count": 29,
     "metadata": {},
     "output_type": "execute_result"
    }
   ],
   "source": [
    "log10(ee/(2*pi*hbar)) # this says 1 eV is about 100 THz, so E ~ a few eV has an optical wavelength"
   ]
  },
  {
   "cell_type": "code",
   "execution_count": null,
   "metadata": {},
   "outputs": [],
   "source": []
  }
 ],
 "metadata": {
  "kernelspec": {
   "display_name": "Python 3",
   "language": "python",
   "name": "python3"
  },
  "language_info": {
   "codemirror_mode": {
    "name": "ipython",
    "version": 3
   },
   "file_extension": ".py",
   "mimetype": "text/x-python",
   "name": "python",
   "nbconvert_exporter": "python",
   "pygments_lexer": "ipython3",
   "version": "3.7.3"
  }
 },
 "nbformat": 4,
 "nbformat_minor": 2
}
