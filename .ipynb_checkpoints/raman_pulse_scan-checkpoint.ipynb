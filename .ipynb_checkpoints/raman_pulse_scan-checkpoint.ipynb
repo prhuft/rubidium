{
 "cells": [
  {
   "cell_type": "markdown",
   "metadata": {},
   "source": [
    "\"\"\" Rb Raman pulse scan\n",
    "    Preston Huft, May 2019    \n",
    "\"\"\""
   ]
  },
  {
   "cell_type": "code",
   "execution_count": 1,
   "metadata": {},
   "outputs": [],
   "source": [
    "import numpy as np\n",
    "from matplotlib import pyplot as plt\n",
    "from scipy.integrate import complex_ode,odeint\n",
    "from scipy.integrate import solve_ivp\n",
    "import sympy\n",
    "from sympy import MatrixSymbol,MatAdd,MatMul,Identity,I,Matrix,symbols\n",
    "from sympy.utilities.lambdify import lambdify, implemented_function\n",
    "from sympy.utilities.iterables import flatten\n",
    "import time\n",
    "from math import pi,sqrt"
   ]
  },
  {
   "cell_type": "code",
   "execution_count": 2,
   "metadata": {},
   "outputs": [],
   "source": [
    "## physical constants\n",
    "e = 1.60217662e-19 # [C]\n",
    "a0 = 5.22e-11 # [m]\n",
    "hbar = 1.0545718e-34 # [J s]\n",
    "c = 3e8 # [m]\n",
    "e0 = 8.85418782e-12 # [m^-3 kg^-1 s^4 A^2]"
   ]
  },
  {
   "cell_type": "code",
   "execution_count": 93,
   "metadata": {},
   "outputs": [],
   "source": [
    "###############################################################################\n",
    "## METHODS and GLOBAL PARAMETERS\n",
    "###############################################################################\n",
    "\n",
    "## Methods\n",
    "\n",
    "def cc(z): \n",
    "    return np.conj(z)  \n",
    "\n",
    "\n",
    "def Intensity(P,w0,r,A=None,r0=None):\n",
    "    \"\"\" Gaussian beam intensity at radius 'r' for\n",
    "        'P' power\n",
    "        'w0' beam waist\n",
    "        'A' area\n",
    "    \"\"\"\n",
    "    if r0 is None:\n",
    "        r0 = 0\n",
    "    if A is None:\n",
    "        A = pi*w0**2\n",
    "    \n",
    "    return (P/A)*np.exp(-(r-r0)**2/(2*w0**2))\n",
    "\n",
    "def z_rayleigh(w0,wl):\n",
    "    return (pi*w0**2)/wl\n",
    "\n",
    "def g_waist(z,w0,zR):\n",
    "    return w0*sqrt(1+(z/zR)**2)  \n",
    "\n",
    "## \"GLOBAL\" VARIABLES (scope excludes method bodies)\n",
    "\n",
    "lmbda = 7.8e-7 # [m] wavelength\n",
    "o1DipoleElem = -1.792e-29 # see rb_matrix_elements\n",
    "o2DipoleElem = 1.792e-29"
   ]
  },
  {
   "cell_type": "code",
   "execution_count": 97,
   "metadata": {},
   "outputs": [
    {
     "name": "stderr",
     "output_type": "stream",
     "text": [
      "C:\\Users\\gothr\\Anaconda3\\lib\\site-packages\\ipykernel_launcher.py:79: ComplexWarning: Casting complex values to real discards the imaginary part\n"
     ]
    },
    {
     "data": {
      "image/png": "[encoded data removed]",
      "text/plain": [
       "<Figure size 432x288 with 1 Axes>"
      ]
     },
     "metadata": {
      "needs_background": "light"
     },
     "output_type": "display_data"
    }
   ],
   "source": [
    "###############################################################################\n",
    "## Raman 8 us pulse beam position scan for three atom sights\n",
    "###############################################################################\n",
    "\n",
    "def derivs(y0,t,D1,D2,O1,O2):\n",
    "    cg,ce = y0\n",
    "    \n",
    "    # See Mark's notes, eqs 11.14. Intermediate level r eliminated.\n",
    "    \n",
    "    D = D1-D2 # resonant when the single-photon detunings cancel\n",
    "    DD1 = D - cc(O1)*O1/(D1+D2)\n",
    "    DD2 = D + cc(O2)*O2/(D1+D2)\n",
    "    OR = O1*cc(O2)/(D1+D2)\n",
    "    \n",
    "    dcg = -1j*(DD1*cg-cc(OR)*ce)/2\n",
    "    dce = 1j*(DD2*ce+OR*cg)/2\n",
    "    \n",
    "    return np.array([dcg,dce])\n",
    "\n",
    "\n",
    "## initial conditions - system starts in ground state (|F=2,mF=0>)\n",
    "c_g = 1 + 0j\n",
    "c_e = 0 + 0j\n",
    "y0 = np.array([c_g,c_e]) # bundle i.c.\n",
    "\n",
    "## empirical parameters and pertinent quantities\n",
    "P = 2*(3.5e-6) # [W] beam power per sideband at atoms\n",
    "D1 = D2 = 2*pi*(4.5e10) # [Hz] single-photon detuning\n",
    "\n",
    "# experiment lists/variables \n",
    "pts = 15 # data pts to plot per atom site\n",
    "r_vals = np.linspace(-15e-6,15e-6,pts) # the positions to scan \n",
    "sites = 3 # number of atom sites\n",
    "D_arr = [0,0,0] # site-specific detuning due to different trap depths\n",
    "spacing = 9e-6 # [m] spacing between atom sights in x direction\n",
    "dr = [-spacing,0,spacing]\n",
    "retention = []\n",
    "\n",
    "t_exp = 8 # [us] # raman pulse duration\n",
    "\n",
    "## Build beam waist and area arrays:\n",
    "w0x = 6e-6 # [m] w0 in x direction\n",
    "w0y = 8e-6 # [m] w0 in y direction\n",
    "zRx = z_rayleigh(w0x,lmbda) \n",
    "zRy = z_rayleigh(w0y,lmbda)\n",
    "\n",
    "z_vals = np.linspace(0,zRy,4) \n",
    "x_waists = np.array([g_waist(z,w0x,zRx) for z in z_vals])\n",
    "A_vals = np.array([pi*g_waist(z,w0x,zRx)*g_waist(z,w0y,zRy) for z in z_vals])\n",
    "\n",
    "z=0 # 0 is at focus, -1 is at Rayleigh range\n",
    "wx = x_waists[z] # waist at x\n",
    "A = A_vals[z] # area at z=0\n",
    "\n",
    "## initialize the figure\n",
    "fig = plt.figure()\n",
    "ax = fig.add_subplot(111)\n",
    "# ax.set_ylim((0,1))\n",
    "ax.set_xlim(-19,19)\n",
    "ax.set_ylabel('Excitation probability')\n",
    "\n",
    "for s in range(0,sites): # iterate over the sites\n",
    "\n",
    "    # The two-photon Rabi frequency\n",
    "    O_vals = (2/(c*e0*hbar**2))*Intensity(P,wx,r_vals+dr[s],A,r0=None) \\\n",
    "        *o1DipoleElem*o2DipoleElem \\\n",
    "        /(2*D1)\n",
    "    \n",
    "    retention.append(np.empty(len(r_vals)))\n",
    "    for i,O in enumerate(O_vals/(2*pi*1e6)): # iterate over Rabi freq. vals \n",
    "        \n",
    "        # The single-photon Rabi frequency\n",
    "        # Assume O1=O2=O, which is true if |r>=|5p3/2,F=2,mF=1>\n",
    "        O1=O2=sqrt(abs(O*(D1+D2)))\n",
    "\n",
    "        func = lambda time,y: derivs(y,time,D1,D2,O1,O2)\n",
    "        soln = solve_ivp(func,[0,t_exp],y0,t_eval=np.linspace(0,t_exp,50))\n",
    "        ce = soln.y[1][-1]\n",
    "        retention[s][i]=cc(ce)*ce\n",
    "    ax.set_title('Positional scan of beam over atom site')\n",
    "    ax.set_xlabel('Beam position wrt site 1 [um]')    \n",
    "    ax.plot(r_vals*1e6,retention[s],label=f\"site {s}\")\n",
    "\n",
    "ax.set_title(f'Beam scan (x), z={z_vals[z]/1e-6}[um], wx={wx/1e-6}[um], t_raman={t_exp}[us]')\n",
    "ax.legend(loc='upper right')\n",
    "plt.show()"
   ]
  },
  {
   "cell_type": "code",
   "execution_count": 39,
   "metadata": {},
   "outputs": [
    {
     "data": {
      "text/plain": [
       "array([0.00000000e+00, 6.44429262e-05, 1.28885852e-04, 1.93328779e-04,\n",
       "       2.57771705e-04])"
      ]
     },
     "execution_count": 39,
     "metadata": {},
     "output_type": "execute_result"
    }
   ],
   "source": [
    "z_vals"
   ]
  },
  {
   "cell_type": "code",
   "execution_count": 43,
   "metadata": {
    "scrolled": true
   },
   "outputs": [
    {
     "data": {
      "text/plain": [
       "0.0001449965840118366"
      ]
     },
     "execution_count": 43,
     "metadata": {},
     "output_type": "execute_result"
    }
   ],
   "source": [
    "zRx"
   ]
  }
 ],
 "metadata": {
  "kernelspec": {
   "display_name": "Python 3",
   "language": "python",
   "name": "python3"
  },
  "language_info": {
   "codemirror_mode": {
    "name": "ipython",
    "version": 3
   },
   "file_extension": ".py",
   "mimetype": "text/x-python",
   "name": "python",
   "nbconvert_exporter": "python",
   "pygments_lexer": "ipython3",
   "version": "3.7.3"
  }
 },
 "nbformat": 4,
 "nbformat_minor": 2
}
