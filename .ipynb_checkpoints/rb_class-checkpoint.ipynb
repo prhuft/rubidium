{
 "cells": [
  {
   "cell_type": "code",
   "execution_count": 30,
   "metadata": {},
   "outputs": [],
   "source": [
    "# %matplotlib notebook\n",
    "from matplotlib import pyplot as plt\n",
    "import numpy as np\n",
    "from numpy import linspace,sin,cos,log,exp\n",
    "import math as m\n",
    "from math import sqrt,pi,e,exp\n",
    "from random import random as rand\n",
    "\n",
    "## local files\n",
    "from physconsts import *\n",
    "from rbconsts import *"
   ]
  },
  {
   "cell_type": "code",
   "execution_count": null,
   "metadata": {},
   "outputs": [],
   "source": [
    "# this is the notebook test for rbensemble class"
   ]
  },
  {
   "cell_type": "code",
   "execution_count": 31,
   "metadata": {},
   "outputs": [],
   "source": [
    "## classes \n",
    "\n",
    "class RbEnsemble:\n",
    "    \"\"\" Ensemble of Rb atoms with a momentum distribution specified\n",
    "        by temperature. Optional spatial distribution.\n",
    "        \n",
    "        'T'= temperature\n",
    "        'size'= number of atoms\n",
    "        'xdist': optional parameter specifying the initial\n",
    "            position distribution\n",
    "    \"\"\"\n",
    "    global mRb\n",
    "    \n",
    "    \n",
    "    def __init__(self,T,size=None,xdist=None):\n",
    "        \n",
    "        # For efficiency, pre-generate a specified number of atoms\n",
    "        if size is not None:\n",
    "            self.size = size\n",
    "            self.temp = T\n",
    "            self.v = self.sampling_maxboltzv(self.size,[0,1],self.temp) # rms\n",
    "            self.p = mRb*self.v # rms\n",
    "            self.x = np.empty(self.size)\n",
    "            if xdist is None:\n",
    "                self.x = np.zeros(self.size)\n",
    "            elif xdist is 'normal':\n",
    "                self.x = np.random.normal(0,size=self.size)\n",
    "        else:\n",
    "            self.size = 0\n",
    "            self.temp = T\n",
    "            self.v = np.array([]) # rms\n",
    "            self.p = np.array([]) # rms\n",
    "            self.x = np.array([])\n",
    "            \n",
    "    def phasespace(self):\n",
    "        \"\"\" Plots the ensemble in phase space. 1D x and p only for \n",
    "            now.\n",
    "        \"\"\"\n",
    "        xmax = max(self.x) # like xmas but better\n",
    "        xmin = min(self.x) # because i said so\n",
    "        dx = xmax-xmin\n",
    "        \n",
    "        pmax = max(self.p)/mRb\n",
    "        pmin = min(self.p)/mRb\n",
    "        dp = pmax-pmin\n",
    "        \n",
    "        fig, ax = plt.subplots()\n",
    "        ax.scatter(self.p/mRb,self.x)#,linestyle=None)\n",
    "        ax.set(xlabel='p [m/(s mRb)]', ylabel='r [arb]',\n",
    "               xlim=(pmin-.1*dp,pmax+.1*dp),\n",
    "               ylim=(xmin-.1*dx,xmax*+.1*dx))\n",
    "        plt.show()\n",
    "        \n",
    "    def vpt(self):\n",
    "        \"\"\" Return a speed from Maxwell-Boltzmann dist. \"\"\"\n",
    "        return sampling_maxboltzv(1,[0,1],self.temp)\n",
    "    \n",
    "    def xpt(self,domain):\n",
    "        \"\"\" Return a position from a flat dist by default. \"\"\"\n",
    "        \n",
    "        x1,x2 = domain\n",
    "        x = rand()*(x2-x1) # only works for x1,x2 > 0\n",
    "        return x\n",
    "    \n",
    "    def maxboltzv(self,T,v,normalization=False):\n",
    "        \"\"\" Maxwell-Boltzmann distribution of speeds for 3-dimensional\n",
    "            gas. Returns f(v) for T. \"\"\"\n",
    "        global kB,mRb\n",
    "        m = mRb\n",
    "\n",
    "        A = 4*pi*(m/(2*pi*kB*T))**(3/2) # normalization consts\n",
    "        meanv = sqrt(2*kB*T/m) # the maximum occurs at the mean\n",
    "\n",
    "        if normalization is True:\n",
    "            return A\n",
    "        else:\n",
    "            return A*v**2*exp(-m*v**2/(2*kB*T))\n",
    "\n",
    "    def sampling_maxboltzv(self,size,domain,T,vectorial=False,showplot=False):\n",
    "        \"\"\" Sample random speeds with a Maxwell-Boltzmann dist. \n",
    "            'size': sample size\n",
    "            'domain': [v1,v2] the restricted domain of the pdf; e.g.\n",
    "                a Guassian goes to zero well before inf so we could\n",
    "                let the domain be a finite region\n",
    "            'T': temperature\n",
    "            'vectorial': \n",
    "                If False, only return a scalar. \n",
    "                Set to True to return velocity vectors with a \n",
    "                direction from a flat distribution. \n",
    "        \"\"\"\n",
    "        global kB,mRb\n",
    "        m = mRb\n",
    "\n",
    "        n = size \n",
    "        v1,v2 = domain\n",
    "\n",
    "        mean = sqrt(2*kB*T/m)\n",
    "        fmax = self.maxboltzv(T,mean) # the maximum\n",
    "        y_dist = np.empty(n) \n",
    "        f_dist = np.empty(n) \n",
    "        v_dist = np.empty(n) # this is the distribution we want\n",
    "        j = 0 # dist index\n",
    "        while j < n:\n",
    "            v = (v2-v1)*rand() # rand val on domain of f(x)\n",
    "            f = self.maxboltzv(T,v)\n",
    "            y = rand()*fmax # rand val on range of f(x)\n",
    "            if y <= f:\n",
    "                y_dist[j]=y\n",
    "                f_dist[j]=f\n",
    "                v_dist[j]=v # x vals with approximate gaussian pdf\n",
    "                j+=1\n",
    "\n",
    "        # plot distribution as a check:\n",
    "        if showplot is not False:\n",
    "            plt.scatter(v_dist,y_dist,c='red',s=10)\n",
    "            plt.scatter(v_dist,f_dist,c='blue',s=10)\n",
    "            plt.show()\n",
    "\n",
    "        return v_dist"
   ]
  },
  {
   "cell_type": "code",
   "execution_count": 32,
   "metadata": {},
   "outputs": [
    {
     "data": {
      "image/png": "[encoded data removed]",
      "text/plain": [
       "<Figure size 432x288 with 1 Axes>"
      ]
     },
     "metadata": {
      "needs_background": "light"
     },
     "output_type": "display_data"
    },
    {
     "data": {
      "text/plain": [
       "array([0.11861365, 0.06790059, 0.1562874 , 0.19565178, 0.21500615,\n",
       "       0.09518817, 0.22483303, 0.14981109, 0.16542606, 0.08369647,\n",
       "       0.10060856, 0.12659357, 0.1274436 , 0.19209103, 0.17520392,\n",
       "       0.25885296, 0.18726495, 0.14720666, 0.16527697, 0.26800541,\n",
       "       0.15873203, 0.04080301, 0.18421778, 0.16121461, 0.34894907,\n",
       "       0.16479284, 0.2281704 , 0.18390584, 0.1356269 , 0.24371078,\n",
       "       0.23078709, 0.10081071, 0.14164439, 0.0772521 , 0.13246848,\n",
       "       0.155776  , 0.02119118, 0.17335914, 0.13784004, 0.14536879,\n",
       "       0.19223812, 0.12911353, 0.05172476, 0.260036  , 0.20556166,\n",
       "       0.25748316, 0.25926131, 0.09570602, 0.20498785, 0.16870753,\n",
       "       0.14214219, 0.1840922 , 0.15660967, 0.11275385, 0.06395923,\n",
       "       0.16548119, 0.08337083, 0.07512458, 0.10419177, 0.19197178,\n",
       "       0.06500712, 0.07084624, 0.1305291 , 0.19678744, 0.25193474,\n",
       "       0.19495639, 0.30386473, 0.22911284, 0.11372654, 0.07938771,\n",
       "       0.2023274 , 0.14181154, 0.11878865, 0.1523733 , 0.30339932,\n",
       "       0.11846606, 0.10403371, 0.15133012, 0.13964633, 0.19056441,\n",
       "       0.23049524, 0.275768  , 0.18452593, 0.15482217, 0.11819859,\n",
       "       0.16079099, 0.14214142, 0.13883542, 0.23443474, 0.27554163,\n",
       "       0.1910343 , 0.15855539, 0.12402302, 0.18652998, 0.21731959,\n",
       "       0.22871858, 0.212086  , 0.15647296, 0.21761539, 0.12323493])"
      ]
     },
     "execution_count": 32,
     "metadata": {},
     "output_type": "execute_result"
    }
   ],
   "source": [
    "# maxwboltz test\n",
    "atoms = RbEnsemble(1) # the temp here actually doesn't matter\n",
    "atoms.sampling_maxboltzv(100,[0,1],.000100,showplot=True)"
   ]
  },
  {
   "cell_type": "code",
   "execution_count": 33,
   "metadata": {},
   "outputs": [
    {
     "data": {
      "image/png": "[encoded data removed]",
      "text/plain": [
       "<Figure size 432x288 with 1 Axes>"
      ]
     },
     "metadata": {
      "needs_background": "light"
     },
     "output_type": "display_data"
    }
   ],
   "source": [
    "# RbEnsemble test\n",
    "atoms = RbEnsemble(5e-5,100,xdist='normal')\n",
    "atoms.phasespace()"
   ]
  }
 ],
 "metadata": {
  "kernelspec": {
   "display_name": "Python 3",
   "language": "python",
   "name": "python3"
  },
  "language_info": {
   "codemirror_mode": {
    "name": "ipython",
    "version": 3
   },
   "file_extension": ".py",
   "mimetype": "text/x-python",
   "name": "python",
   "nbconvert_exporter": "python",
   "pygments_lexer": "ipython3",
   "version": "3.7.3"
  }
 },
 "nbformat": 4,
 "nbformat_minor": 2
}
