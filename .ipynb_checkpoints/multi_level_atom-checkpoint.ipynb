{
 "cells": [
  {
   "cell_type": "markdown",
   "metadata": {},
   "source": [
    "\"\"\" Multi-level atom solver, 1.01\n",
    "    Preston Huft, September 2019\n",
    "    \n",
    "    Version notes\n",
    "        - this: bundle functionality into a class\n",
    "        - 1.00: can generate a fully symbolic set of ODES and solve them. wooo\n",
    "    \n",
    "    To-do\n",
    "        - deprecate hard-coded optical Bloch equations - check\n",
    "        - generate fully symbolic set of ODEs (RHS) - check\n",
    "        - pass set of ODEs to derivs function, then set the ODE values inside the function - check\n",
    "        - make the solver a class? -> this has critical bugs rn\n",
    "        \n",
    "    Small to-do, 9/8\n",
    "    - benchmark: reproduce four level system in Mark's notes?\n",
    "    - build the atom hamiltonian including 5s1/2,5p1/2,5p3/2 quantum \n",
    "        states in hf basis\n",
    "    - build E1 ham for said states too\n",
    "    - build rho0 function to generate population in specified levels\n",
    "    - simul. D2 RFE\n",
    "    - build M2 (magnetic dipole) ham, try to drive ground state hf RFE\n",
    "\"\"\""
   ]
  },
  {
   "cell_type": "code",
   "execution_count": 1,
   "metadata": {
    "scrolled": false
   },
   "outputs": [
    {
     "data": {
      "text/html": [
       "<style>.container{width:100% !important;}</style>"
      ],
      "text/plain": [
       "<IPython.core.display.HTML object>"
      ]
     },
     "metadata": {},
     "output_type": "display_data"
    }
   ],
   "source": [
    "# libraries\n",
    "import numpy as np\n",
    "from numpy import *\n",
    "from matplotlib import pyplot as plt\n",
    "from scipy.integrate import solve_ivp\n",
    "import sympy\n",
    "from sympy import MatrixSymbol,MatAdd,MatMul,Identity,I,Matrix,symbols,Function\n",
    "from sympy.utilities.lambdify import lambdify, implemented_function\n",
    "from sympy.utilities.iterables import flatten\n",
    "from sympy.physics.wigner import wigner_6j,wigner_3j,clebsch_gordan\n",
    "import time\n",
    "\n",
    "# files\n",
    "from rbconsts import *\n",
    "from physconsts import *\n",
    "\n",
    "# layout stuff\n",
    "from IPython.core.display import display,HTML\n",
    "display(HTML(\"<style>.container{width:100% !important;}</style>\"))\n",
    "\n",
    "# Inuc = I # prevent weird stuff happening later?\n",
    "# important: 'I' is the nuclear spin, not sympy imaginary i. Use\n",
    "# numpy's 1j for imaginary i. "
   ]
  },
  {
   "cell_type": "code",
   "execution_count": 50,
   "metadata": {},
   "outputs": [],
   "source": [
    "class von_neumann:\n",
    "    # don't even try to use this class. it inevitably freaks out when\n",
    "    # the lambdify generated is called saying that a positional arg\n",
    "    # 'r' is missing. It's the same fucking code that can be called\n",
    "    # outside of this class and works just fine.\n",
    "    \n",
    "    \n",
    "    # TODO:\n",
    "    # - omit D(rho_ij*) elements of matrices so only non-redundant eqs\n",
    "    #   remain.. hmm. maybe there's a sympy matrix to sympy array so\n",
    "    #   this can be done before the derivs function created\n",
    "    # - make a labeling system for the plot lines so density matrix indices are \n",
    "    #   shown in legend. \n",
    "    # - option to pass in basis to create rho from basis and label plotlines with\n",
    "    #   basis entries\n",
    "    \n",
    "    def __init__(self,H,r0):\n",
    "        \"\"\" yup \"\"\"\n",
    "        \n",
    "        Hdim1,Hdim2 = H.shape\n",
    "        assert H.shape[0] == H.shape[1] # H should be a square matrix\n",
    "        assert r0.shape[0] == r0.shape[1] \n",
    "        assert r0.shape == H.shape \n",
    "        \n",
    "        self.H = H\n",
    "        if type(r0) is \n",
    "        self.r0 = flatten(r0) # flattened initial density matrix\n",
    "#         self.r = MatrixSymbol('r',Hdim1,Hdim2).as_mutable() # density op\n",
    "#         self.RHS = -1j*comm(self.H,self.r)\n",
    "#         print(\"equations generated\")\n",
    "#         self.soln = empty()\n",
    "         \n",
    "    def solve(self,tlist):\n",
    "        \"\"\" solve the von Neumann eq for the given Hamiltonian \n",
    "            't_exp': experiment duration in [s]\n",
    "            'steps': number of time points to solve ODE\n",
    "        \"\"\"\n",
    "        \n",
    "        ## this returns error \"lambdifygenerated missing positional\n",
    "        ## argument 'r'\"\n",
    "        \n",
    "#         RHS = self.RHS\n",
    "        r0 = self.r0\n",
    "#         r = self.r\n",
    "        t_exp = max(tlist)\n",
    "        \n",
    "#         f = lambdify(RHS.free_symbols,RHS)\n",
    "#         def derivs(t,y):\n",
    "#             \"\"\" takes unraveled or flattened density matrix, returns flattened RHS\n",
    "#                 of von Neumann equation\n",
    "#             \"\"\"\n",
    "#             j=int(sqrt(len(y)))\n",
    "#             return flatten(f(Matrix(y.reshape((j,j)))))\n",
    "        \n",
    "#         print(\"simulation started\")\n",
    "#         soln = solve_ivp(derivs,[0,t_exp],y0=r0,t_eval=tlist) # update to self.soln \n",
    "                \n",
    "        # RHS of von Neumann, pasted from known working solution.\n",
    "        H = self.H\n",
    "        dim = H.shape[0]\n",
    "        \n",
    "        r = MatrixSymbol('r',dim,dim).as_mutable() # density op\n",
    "        r[0,1]=cc(r[1,0]) # now we need only solve 3 eqs\n",
    "        RHS = -1j*comm(H,r) # RHS of von Neumann eq system; hbar = 1 for now\n",
    "#         r0 = array([1+0j,0+0j,0+0j,0+0j]) # flattened initial dens. op.\n",
    "\n",
    "        f = lambdify(RHS.free_symbols,RHS)\n",
    "        def derivs(t,y):\n",
    "            \"\"\" takes unraveled or flattened density matrix, returns flattened RHS\n",
    "                of von Neumann equation\n",
    "            \"\"\"\n",
    "            j=int(sqrt(len(y)))\n",
    "            return flatten(f(Matrix(y.reshape((j,j)))))\n",
    "\n",
    "        t_exp = 10\n",
    "        tpts = 1000\n",
    "        soln = solve_ivp(derivs,[0,t_exp],r0,t_eval=np.linspace(0,t_exp,tpts))\n",
    "\n",
    "        return soln\n",
    "    \n",
    "    # RHS of von Neumann\n",
    "# r = MatrixSymbol('r',2,2).as_mutable() # density op\n",
    "# r[0,1]=cc(r[1,0]) # now we need only solve 3 eqs\n",
    "# RHS = -1j*comm(H,r) # RHS of von Neumann eq system; hbar = 1 for now\n",
    "# r0 = array([1+0j,0+0j,0+0j,0+0j]) # flattened initial dens. op.\n",
    "\n",
    "# f = lambdify(RHS.free_symbols,RHS)\n",
    "# def derivs(t,y):\n",
    "#     \"\"\" takes unraveled or flattened density matrix, returns flattened RHS\n",
    "#         of von Neumann equation\n",
    "#     \"\"\"\n",
    "#     j=int(sqrt(len(y)))\n",
    "#     return flatten(f(Matrix(y.reshape((j,j)))))"
   ]
  },
  {
   "cell_type": "code",
   "execution_count": 47,
   "metadata": {
    "scrolled": false
   },
   "outputs": [],
   "source": [
    "# misc functions\n",
    "def cc(z):\n",
    "    \"\"\"np.conj(z)\"\"\"\n",
    "    return np.conj(z)\n",
    "\n",
    "def comm(A,B):\n",
    "    \"\"\"[A,B]=A.B-B.A. Assumes symbolic matrix.\"\"\"\n",
    "    return (MatMul(A,B)-MatMul(B,A)) #.as_mutable\n",
    "\n",
    "def hf_coupling(F,mF,J,q,FF,mFF,JJ,I,RME=None):\n",
    "    \"\"\" Returns the matrix element <F,mF,J|T_q|F',mF',J'>. \n",
    "    \n",
    "        'RME': the reduced matrix element, e.g. the D2 line matrix\n",
    "        element. If RME=None, the \n",
    "        matrix element is in units of [RME].\n",
    "        \n",
    "        I is the nuclear spin of the atom.\n",
    "    \"\"\"\n",
    "\n",
    "    rme = 1\n",
    "    if RME!=None:\n",
    "        rme = RME\n",
    "\n",
    "    ## From Mark's notes, eqs. A-50,51\n",
    "    mat_elem = rme*pow(-1,F+JJ+1+I)*sqrt((2*F+1)*(2*JJ+1)) \\\n",
    "                *wigner_6j(J,I,F,FF,1,JJ) \\\n",
    "                *clebsch_gordan(1,F,FF,q,mF,mFF)\n",
    "    \n",
    "    return mat_elem\n",
    "\n",
    "def jmbasis(jlist):\n",
    "    \"\"\" returns a numpy array of basis vectors {|J,mJ>} given a list of \n",
    "        J vals. Output J order will be the same as the input order.\n",
    "    \"\"\"\n",
    "    basis = empty(sum([2*j+1 for j in jlist]),list)\n",
    "    i = 0\n",
    "    for j in jlist:\n",
    "        for m in range(-j,j+1):\n",
    "            basis[i] = [j,m]\n",
    "            i+=1 \n",
    "    return array(basis) \n",
    "\n",
    "# def hfbasis(jlist,Inuc):\n",
    "    \n",
    "#     # see my notebook. \n",
    "    \n",
    "    \n"
   ]
  },
  {
   "cell_type": "code",
   "execution_count": null,
   "metadata": {},
   "outputs": [],
   "source": [
    "## make Rb Hamiltonians\n",
    "\n",
    "# atom Hamiltonian.. need to enumerate all of the energies for states\n",
    "# e.g. E1,E2,E3, etc... should be numeric values in order of state.\n",
    "# just grab these from steck. convert to eV for numeric ease?\n",
    "\n",
    "# electric dipole Hamiltonian. see my notebook. \n"
   ]
  },
  {
   "cell_type": "code",
   "execution_count": 55,
   "metadata": {
    "scrolled": false
   },
   "outputs": [],
   "source": [
    "## THIS FRICKIN WORKS WOOOOOOO :D\n",
    "\n",
    "# define symbolic matrices which can be made numeric later\n",
    "E1,E2,d,O,t,o,g = symbols('E1 E2 d O t o g') # symbolic variables\n",
    "\n",
    "# Set the parameters of H\n",
    "O = 1; # Rabi frequency in units of the excited state lifetime\n",
    "E2 = 1; \n",
    "E1 = 0; \n",
    "o = E2-E1; # transition frequency, hbar is unity\n",
    "d = 0 # detuning from w. \n",
    "g = 1 # the upper state lifetime\n",
    "\n",
    "# Build the Hamiltonian\n",
    "H_a = Matrix([[E2,0],[0,E1]])\n",
    "H_field = Matrix([[0,cc(O)/2],[O/2,0]]) # RWA\n",
    "H = H_a + H_field # the full Hamiltonian\n",
    "\n",
    "# RHS of von Neumann\n",
    "r = MatrixSymbol('r',2,2).as_mutable() # density op\n",
    "r[0,1]=cc(r[1,0]) # now we need only solve 3 eqs\n",
    "RHS = -1j*comm(H,r) # RHS of von Neumann eq system; hbar = 1 for now\n",
    "r0 = array([1+0j,0+0j,0+0j,0+0j]) # flattened initial dens. op.\n",
    "\n",
    "f = lambdify(RHS.free_symbols,RHS)\n",
    "def derivs(t,y):\n",
    "    \"\"\" takes unraveled or flattened density matrix, returns flattened RHS\n",
    "        of von Neumann equation\n",
    "    \"\"\"\n",
    "    j=int(sqrt(len(y)))\n",
    "    return flatten(f(Matrix(y.reshape((j,j)))))"
   ]
  },
  {
   "cell_type": "code",
   "execution_count": 42,
   "metadata": {},
   "outputs": [],
   "source": [
    "t_exp = 10\n",
    "tpts = 1000\n",
    "soln = solve_ivp(derivs,[0,t_exp],r0,t_eval=np.linspace(0,t_exp,tpts))"
   ]
  },
  {
   "cell_type": "code",
   "execution_count": 43,
   "metadata": {},
   "outputs": [
    {
     "data": {
      "text/plain": [
       "[<matplotlib.lines.Line2D at 0x289a5651780>]"
      ]
     },
     "execution_count": 43,
     "metadata": {},
     "output_type": "execute_result"
    },
    {
     "data": {
      "image/png": "[encoded data removed]",
      "text/plain": [
       "<Figure size 432x288 with 1 Axes>"
      ]
     },
     "metadata": {
      "needs_background": "light"
     },
     "output_type": "display_data"
    }
   ],
   "source": [
    "plt.plot(soln.t,soln.y[0])"
   ]
  },
  {
   "cell_type": "code",
   "execution_count": 62,
   "metadata": {},
   "outputs": [
    {
     "data": {
      "text/plain": [
       "False"
      ]
     },
     "execution_count": 62,
     "metadata": {},
     "output_type": "execute_result"
    }
   ],
   "source": [
    "type(r0) == 'numpy.ndarray'"
   ]
  },
  {
   "cell_type": "code",
   "execution_count": 54,
   "metadata": {},
   "outputs": [
    {
     "ename": "TypeError",
     "evalue": "can't convert complex to float",
     "output_type": "error",
     "traceback": [
      "\u001b[1;31m---------------------------------------------------------------------------\u001b[0m",
      "\u001b[1;31mTypeError\u001b[0m                                 Traceback (most recent call last)",
      "\u001b[1;32m<ipython-input-54-6d3f4cc00015>\u001b[0m in \u001b[0;36m<module>\u001b[1;34m\u001b[0m\n\u001b[0;32m     23\u001b[0m \u001b[1;33m\u001b[0m\u001b[0m\n\u001b[0;32m     24\u001b[0m \u001b[0mtlist\u001b[0m \u001b[1;33m=\u001b[0m \u001b[0mlinspace\u001b[0m\u001b[1;33m(\u001b[0m\u001b[1;36m0\u001b[0m\u001b[1;33m,\u001b[0m\u001b[1;36m10\u001b[0m\u001b[1;33m,\u001b[0m\u001b[1;36m100\u001b[0m\u001b[1;33m)\u001b[0m\u001b[1;33m\u001b[0m\u001b[1;33m\u001b[0m\u001b[0m\n\u001b[1;32m---> 25\u001b[1;33m \u001b[0msoln\u001b[0m \u001b[1;33m=\u001b[0m \u001b[0mtwolvl\u001b[0m\u001b[1;33m.\u001b[0m\u001b[0msolve\u001b[0m\u001b[1;33m(\u001b[0m\u001b[0mtlist\u001b[0m\u001b[1;33m)\u001b[0m\u001b[1;33m\u001b[0m\u001b[1;33m\u001b[0m\u001b[0m\n\u001b[0m\u001b[0;32m     26\u001b[0m \u001b[1;32mfor\u001b[0m \u001b[0my\u001b[0m \u001b[1;32min\u001b[0m \u001b[0msoln\u001b[0m\u001b[1;33m.\u001b[0m\u001b[0my\u001b[0m\u001b[1;33m:\u001b[0m\u001b[1;33m\u001b[0m\u001b[1;33m\u001b[0m\u001b[0m\n\u001b[0;32m     27\u001b[0m     \u001b[0mplt\u001b[0m\u001b[1;33m.\u001b[0m\u001b[0mplot\u001b[0m\u001b[1;33m(\u001b[0m\u001b[0msoln\u001b[0m\u001b[1;33m.\u001b[0m\u001b[0mt\u001b[0m\u001b[1;33m,\u001b[0m\u001b[0my\u001b[0m\u001b[1;33m)\u001b[0m\u001b[1;33m\u001b[0m\u001b[1;33m\u001b[0m\u001b[0m\n",
      "\u001b[1;32m<ipython-input-50-bde36761134f>\u001b[0m in \u001b[0;36msolve\u001b[1;34m(self, tlist)\u001b[0m\n\u001b[0;32m     74\u001b[0m         \u001b[0mt_exp\u001b[0m \u001b[1;33m=\u001b[0m \u001b[1;36m10\u001b[0m\u001b[1;33m\u001b[0m\u001b[1;33m\u001b[0m\u001b[0m\n\u001b[0;32m     75\u001b[0m         \u001b[0mtpts\u001b[0m \u001b[1;33m=\u001b[0m \u001b[1;36m1000\u001b[0m\u001b[1;33m\u001b[0m\u001b[1;33m\u001b[0m\u001b[0m\n\u001b[1;32m---> 76\u001b[1;33m         \u001b[0msoln\u001b[0m \u001b[1;33m=\u001b[0m \u001b[0msolve_ivp\u001b[0m\u001b[1;33m(\u001b[0m\u001b[0mderivs\u001b[0m\u001b[1;33m,\u001b[0m\u001b[1;33m[\u001b[0m\u001b[1;36m0\u001b[0m\u001b[1;33m,\u001b[0m\u001b[0mt_exp\u001b[0m\u001b[1;33m]\u001b[0m\u001b[1;33m,\u001b[0m\u001b[0mr0\u001b[0m\u001b[1;33m,\u001b[0m\u001b[0mt_eval\u001b[0m\u001b[1;33m=\u001b[0m\u001b[0mnp\u001b[0m\u001b[1;33m.\u001b[0m\u001b[0mlinspace\u001b[0m\u001b[1;33m(\u001b[0m\u001b[1;36m0\u001b[0m\u001b[1;33m,\u001b[0m\u001b[0mt_exp\u001b[0m\u001b[1;33m,\u001b[0m\u001b[0mtpts\u001b[0m\u001b[1;33m)\u001b[0m\u001b[1;33m)\u001b[0m\u001b[1;33m\u001b[0m\u001b[1;33m\u001b[0m\u001b[0m\n\u001b[0m\u001b[0;32m     77\u001b[0m \u001b[1;33m\u001b[0m\u001b[0m\n\u001b[0;32m     78\u001b[0m         \u001b[1;32mreturn\u001b[0m \u001b[0msoln\u001b[0m\u001b[1;33m\u001b[0m\u001b[1;33m\u001b[0m\u001b[0m\n",
      "\u001b[1;32m~\\Anaconda3\\lib\\site-packages\\scipy\\integrate\\_ivp\\ivp.py\u001b[0m in \u001b[0;36msolve_ivp\u001b[1;34m(fun, t_span, y0, method, t_eval, dense_output, events, vectorized, **options)\u001b[0m\n\u001b[0;32m    454\u001b[0m         \u001b[0mmethod\u001b[0m \u001b[1;33m=\u001b[0m \u001b[0mMETHODS\u001b[0m\u001b[1;33m[\u001b[0m\u001b[0mmethod\u001b[0m\u001b[1;33m]\u001b[0m\u001b[1;33m\u001b[0m\u001b[1;33m\u001b[0m\u001b[0m\n\u001b[0;32m    455\u001b[0m \u001b[1;33m\u001b[0m\u001b[0m\n\u001b[1;32m--> 456\u001b[1;33m     \u001b[0msolver\u001b[0m \u001b[1;33m=\u001b[0m \u001b[0mmethod\u001b[0m\u001b[1;33m(\u001b[0m\u001b[0mfun\u001b[0m\u001b[1;33m,\u001b[0m \u001b[0mt0\u001b[0m\u001b[1;33m,\u001b[0m \u001b[0my0\u001b[0m\u001b[1;33m,\u001b[0m \u001b[0mtf\u001b[0m\u001b[1;33m,\u001b[0m \u001b[0mvectorized\u001b[0m\u001b[1;33m=\u001b[0m\u001b[0mvectorized\u001b[0m\u001b[1;33m,\u001b[0m \u001b[1;33m**\u001b[0m\u001b[0moptions\u001b[0m\u001b[1;33m)\u001b[0m\u001b[1;33m\u001b[0m\u001b[1;33m\u001b[0m\u001b[0m\n\u001b[0m\u001b[0;32m    457\u001b[0m \u001b[1;33m\u001b[0m\u001b[0m\n\u001b[0;32m    458\u001b[0m     \u001b[1;32mif\u001b[0m \u001b[0mt_eval\u001b[0m \u001b[1;32mis\u001b[0m \u001b[1;32mNone\u001b[0m\u001b[1;33m:\u001b[0m\u001b[1;33m\u001b[0m\u001b[1;33m\u001b[0m\u001b[0m\n",
      "\u001b[1;32m~\\Anaconda3\\lib\\site-packages\\scipy\\integrate\\_ivp\\rk.py\u001b[0m in \u001b[0;36m__init__\u001b[1;34m(self, fun, t0, y0, t_bound, max_step, rtol, atol, vectorized, first_step, **extraneous)\u001b[0m\n\u001b[0;32m     98\u001b[0m         \u001b[0mself\u001b[0m\u001b[1;33m.\u001b[0m\u001b[0mmax_step\u001b[0m \u001b[1;33m=\u001b[0m \u001b[0mvalidate_max_step\u001b[0m\u001b[1;33m(\u001b[0m\u001b[0mmax_step\u001b[0m\u001b[1;33m)\u001b[0m\u001b[1;33m\u001b[0m\u001b[1;33m\u001b[0m\u001b[0m\n\u001b[0;32m     99\u001b[0m         \u001b[0mself\u001b[0m\u001b[1;33m.\u001b[0m\u001b[0mrtol\u001b[0m\u001b[1;33m,\u001b[0m \u001b[0mself\u001b[0m\u001b[1;33m.\u001b[0m\u001b[0matol\u001b[0m \u001b[1;33m=\u001b[0m \u001b[0mvalidate_tol\u001b[0m\u001b[1;33m(\u001b[0m\u001b[0mrtol\u001b[0m\u001b[1;33m,\u001b[0m \u001b[0matol\u001b[0m\u001b[1;33m,\u001b[0m \u001b[0mself\u001b[0m\u001b[1;33m.\u001b[0m\u001b[0mn\u001b[0m\u001b[1;33m)\u001b[0m\u001b[1;33m\u001b[0m\u001b[1;33m\u001b[0m\u001b[0m\n\u001b[1;32m--> 100\u001b[1;33m         \u001b[0mself\u001b[0m\u001b[1;33m.\u001b[0m\u001b[0mf\u001b[0m \u001b[1;33m=\u001b[0m \u001b[0mself\u001b[0m\u001b[1;33m.\u001b[0m\u001b[0mfun\u001b[0m\u001b[1;33m(\u001b[0m\u001b[0mself\u001b[0m\u001b[1;33m.\u001b[0m\u001b[0mt\u001b[0m\u001b[1;33m,\u001b[0m \u001b[0mself\u001b[0m\u001b[1;33m.\u001b[0m\u001b[0my\u001b[0m\u001b[1;33m)\u001b[0m\u001b[1;33m\u001b[0m\u001b[1;33m\u001b[0m\u001b[0m\n\u001b[0m\u001b[0;32m    101\u001b[0m         \u001b[1;32mif\u001b[0m \u001b[0mfirst_step\u001b[0m \u001b[1;32mis\u001b[0m \u001b[1;32mNone\u001b[0m\u001b[1;33m:\u001b[0m\u001b[1;33m\u001b[0m\u001b[1;33m\u001b[0m\u001b[0m\n\u001b[0;32m    102\u001b[0m             self.h_abs = select_initial_step(\n",
      "\u001b[1;32m~\\Anaconda3\\lib\\site-packages\\scipy\\integrate\\_ivp\\base.py\u001b[0m in \u001b[0;36mfun\u001b[1;34m(t, y)\u001b[0m\n\u001b[0;32m    137\u001b[0m         \u001b[1;32mdef\u001b[0m \u001b[0mfun\u001b[0m\u001b[1;33m(\u001b[0m\u001b[0mt\u001b[0m\u001b[1;33m,\u001b[0m \u001b[0my\u001b[0m\u001b[1;33m)\u001b[0m\u001b[1;33m:\u001b[0m\u001b[1;33m\u001b[0m\u001b[1;33m\u001b[0m\u001b[0m\n\u001b[0;32m    138\u001b[0m             \u001b[0mself\u001b[0m\u001b[1;33m.\u001b[0m\u001b[0mnfev\u001b[0m \u001b[1;33m+=\u001b[0m \u001b[1;36m1\u001b[0m\u001b[1;33m\u001b[0m\u001b[1;33m\u001b[0m\u001b[0m\n\u001b[1;32m--> 139\u001b[1;33m             \u001b[1;32mreturn\u001b[0m \u001b[0mself\u001b[0m\u001b[1;33m.\u001b[0m\u001b[0mfun_single\u001b[0m\u001b[1;33m(\u001b[0m\u001b[0mt\u001b[0m\u001b[1;33m,\u001b[0m \u001b[0my\u001b[0m\u001b[1;33m)\u001b[0m\u001b[1;33m\u001b[0m\u001b[1;33m\u001b[0m\u001b[0m\n\u001b[0m\u001b[0;32m    140\u001b[0m \u001b[1;33m\u001b[0m\u001b[0m\n\u001b[0;32m    141\u001b[0m         \u001b[0mself\u001b[0m\u001b[1;33m.\u001b[0m\u001b[0mfun\u001b[0m \u001b[1;33m=\u001b[0m \u001b[0mfun\u001b[0m\u001b[1;33m\u001b[0m\u001b[1;33m\u001b[0m\u001b[0m\n",
      "\u001b[1;32m~\\Anaconda3\\lib\\site-packages\\scipy\\integrate\\_ivp\\base.py\u001b[0m in \u001b[0;36mfun_wrapped\u001b[1;34m(t, y)\u001b[0m\n\u001b[0;32m     19\u001b[0m \u001b[1;33m\u001b[0m\u001b[0m\n\u001b[0;32m     20\u001b[0m     \u001b[1;32mdef\u001b[0m \u001b[0mfun_wrapped\u001b[0m\u001b[1;33m(\u001b[0m\u001b[0mt\u001b[0m\u001b[1;33m,\u001b[0m \u001b[0my\u001b[0m\u001b[1;33m)\u001b[0m\u001b[1;33m:\u001b[0m\u001b[1;33m\u001b[0m\u001b[1;33m\u001b[0m\u001b[0m\n\u001b[1;32m---> 21\u001b[1;33m         \u001b[1;32mreturn\u001b[0m \u001b[0mnp\u001b[0m\u001b[1;33m.\u001b[0m\u001b[0masarray\u001b[0m\u001b[1;33m(\u001b[0m\u001b[0mfun\u001b[0m\u001b[1;33m(\u001b[0m\u001b[0mt\u001b[0m\u001b[1;33m,\u001b[0m \u001b[0my\u001b[0m\u001b[1;33m)\u001b[0m\u001b[1;33m,\u001b[0m \u001b[0mdtype\u001b[0m\u001b[1;33m=\u001b[0m\u001b[0mdtype\u001b[0m\u001b[1;33m)\u001b[0m\u001b[1;33m\u001b[0m\u001b[1;33m\u001b[0m\u001b[0m\n\u001b[0m\u001b[0;32m     22\u001b[0m \u001b[1;33m\u001b[0m\u001b[0m\n\u001b[0;32m     23\u001b[0m     \u001b[1;32mreturn\u001b[0m \u001b[0mfun_wrapped\u001b[0m\u001b[1;33m,\u001b[0m \u001b[0my0\u001b[0m\u001b[1;33m\u001b[0m\u001b[1;33m\u001b[0m\u001b[0m\n",
      "\u001b[1;32m~\\Anaconda3\\lib\\site-packages\\numpy\\core\\numeric.py\u001b[0m in \u001b[0;36masarray\u001b[1;34m(a, dtype, order)\u001b[0m\n\u001b[0;32m    536\u001b[0m \u001b[1;33m\u001b[0m\u001b[0m\n\u001b[0;32m    537\u001b[0m     \"\"\"\n\u001b[1;32m--> 538\u001b[1;33m     \u001b[1;32mreturn\u001b[0m \u001b[0marray\u001b[0m\u001b[1;33m(\u001b[0m\u001b[0ma\u001b[0m\u001b[1;33m,\u001b[0m \u001b[0mdtype\u001b[0m\u001b[1;33m,\u001b[0m \u001b[0mcopy\u001b[0m\u001b[1;33m=\u001b[0m\u001b[1;32mFalse\u001b[0m\u001b[1;33m,\u001b[0m \u001b[0morder\u001b[0m\u001b[1;33m=\u001b[0m\u001b[0morder\u001b[0m\u001b[1;33m)\u001b[0m\u001b[1;33m\u001b[0m\u001b[1;33m\u001b[0m\u001b[0m\n\u001b[0m\u001b[0;32m    539\u001b[0m \u001b[1;33m\u001b[0m\u001b[0m\n\u001b[0;32m    540\u001b[0m \u001b[1;33m\u001b[0m\u001b[0m\n",
      "\u001b[1;32m~\\Anaconda3\\lib\\site-packages\\sympy\\core\\expr.py\u001b[0m in \u001b[0;36m__float__\u001b[1;34m(self)\u001b[0m\n\u001b[0;32m    253\u001b[0m             \u001b[1;32mreturn\u001b[0m \u001b[0mfloat\u001b[0m\u001b[1;33m(\u001b[0m\u001b[0mresult\u001b[0m\u001b[1;33m)\u001b[0m\u001b[1;33m\u001b[0m\u001b[1;33m\u001b[0m\u001b[0m\n\u001b[0;32m    254\u001b[0m         \u001b[1;32mif\u001b[0m \u001b[0mresult\u001b[0m\u001b[1;33m.\u001b[0m\u001b[0mis_number\u001b[0m \u001b[1;32mand\u001b[0m \u001b[0mresult\u001b[0m\u001b[1;33m.\u001b[0m\u001b[0mas_real_imag\u001b[0m\u001b[1;33m(\u001b[0m\u001b[1;33m)\u001b[0m\u001b[1;33m[\u001b[0m\u001b[1;36m1\u001b[0m\u001b[1;33m]\u001b[0m\u001b[1;33m:\u001b[0m\u001b[1;33m\u001b[0m\u001b[1;33m\u001b[0m\u001b[0m\n\u001b[1;32m--> 255\u001b[1;33m             \u001b[1;32mraise\u001b[0m \u001b[0mTypeError\u001b[0m\u001b[1;33m(\u001b[0m\u001b[1;34m\"can't convert complex to float\"\u001b[0m\u001b[1;33m)\u001b[0m\u001b[1;33m\u001b[0m\u001b[1;33m\u001b[0m\u001b[0m\n\u001b[0m\u001b[0;32m    256\u001b[0m         \u001b[1;32mraise\u001b[0m \u001b[0mTypeError\u001b[0m\u001b[1;33m(\u001b[0m\u001b[1;34m\"can't convert expression to float\"\u001b[0m\u001b[1;33m)\u001b[0m\u001b[1;33m\u001b[0m\u001b[1;33m\u001b[0m\u001b[0m\n\u001b[0;32m    257\u001b[0m \u001b[1;33m\u001b[0m\u001b[0m\n",
      "\u001b[1;31mTypeError\u001b[0m: can't convert complex to float"
     ]
    }
   ],
   "source": [
    "## try it with the solver class\n",
    "\n",
    "# Set the parameters of H\n",
    "O = 1; # Rabi frequency in units of the excited state lifetime\n",
    "E2 = 1; \n",
    "E1 = 0; \n",
    "o = E2-E1; # transition frequency, hbar is unity\n",
    "d = 0 # detuning from w. \n",
    "g = 1 # the upper state lifetime\n",
    "\n",
    "# Build the Hamiltonian\n",
    "H_a = Matrix([[E2,0],[0,E1]])\n",
    "H_field = Matrix([[0,cc(O)/2],[O/2,0]]) # RWA\n",
    "H = H_a + H_field # the full Hamiltonian\n",
    "\n",
    "# RHS of von Neumann\n",
    "r = MatrixSymbol('r',2,2).as_mutable() # density op\n",
    "r[0,1]=cc(r[1,0]) # now we need only solve 3 eqs\n",
    "RHS = -1j*comm(H,r) # RHS of von Neumann eq system; hbar = 1 for now\n",
    "r0 = Matrix([[1,0],[0,0]]) # flattened initial dens. op.\n",
    "\n",
    "twolvl = von_neumann(H,r0)\n",
    "\n",
    "tlist = linspace(0,10,100)\n",
    "soln = twolvl.solve(tlist)\n",
    "for y in soln.y:\n",
    "    plt.plot(soln.t,y)"
   ]
  },
  {
   "cell_type": "code",
   "execution_count": 5,
   "metadata": {},
   "outputs": [],
   "source": [
    "## try to reproduce Mark's von nuemann eqs for 4 level system\n",
    "## this cell symbolic for reading the output eqs\n",
    "\n",
    "# energies = symbols('U1 U2 U3 U4')\n",
    "# H_a = MatrixSymbol('H',4,4).as_mutable()\n",
    "# for i in range(4):\n",
    "#     for j in range(4):\n",
    "#         if i != j:\n",
    "#             H_a[i,j] = 0\n",
    "#         else:\n",
    "#             H_a[i,j] = energies[i]\n",
    "\n",
    "# fields = symbols('E2 E3 E4')\n",
    "# dipoles = symbols('d2 d3 d4')\n",
    "# freqs = symbols('o12 o23 o34')\n",
    "# ee,t = symbols('ee,t')\n",
    "# H_E1 = MatrixSymbol('H',4,4).as_mutable()\n",
    "# for i in range(4):\n",
    "#     for j in range(4):\n",
    "#         if i - j == 1:\n",
    "#             el =  (1/2)*(fields[i-1]*ee**(-1j*freqs[i-1]*t)+cc(fields[i-1])*ee**(-1j*freqs[i-1]*t))*dipoles[i-1]\n",
    "#             H_E1[i,j] = el\n",
    "# #             H_E1[i,j] = fields[i-1]*dipoles[i-1]\n",
    "#         elif j - i == 1:\n",
    "#             el =  (1/2)*(fields[j-1]*ee**(-1j*freqs[j-1]*t)+cc(fields[j-1])*ee**(-1j*freqs[j-1]*t))*dipoles[j-1]\n",
    "#             H_E1[i,j] = el\n",
    "# #             H_E1[i,j] = fields[j-1]*cc(dipoles[j-1])\n",
    "#         else:\n",
    "#             H_E1[i,j] = 0c"
   ]
  },
  {
   "cell_type": "code",
   "execution_count": 48,
   "metadata": {},
   "outputs": [],
   "source": [
    "## try to reproduce Mark's von nuemann eqs for 4 level system\n",
    "## this cell numeric for actually solving the system\n",
    "\n",
    "energies = [0,1,2,3]\n",
    "H_a = MatrixSymbol('H',4,4).as_mutable()\n",
    "for i in range(4):\n",
    "    for j in range(4):\n",
    "        if i != j:\n",
    "            H_a[i,j] = 0\n",
    "        else:\n",
    "            H_a[i,j] = energies[i]\n",
    "\n",
    "rabis = [2*pi,2*pi,2*pi] # Omega = d*E/hbar\n",
    "deltas = [.5,.6,.1] # detuning\n",
    "\n",
    "ee,t = symbols('ee,t')\n",
    "H_E1 = MatrixSymbol('H',4,4).as_mutable()\n",
    "for i in range(4):\n",
    "    for j in range(4):\n",
    "        if i - j == 1:\n",
    "            el =  (1/2)*(rabis[i-1]*e*(-1j*deltas[i-1]*t)+cc(rabis[i-1])*e*(-1j*deltas[i-1]*t))\n",
    "            H_E1[i,j] = el\n",
    "        elif j - i == 1:\n",
    "            el = (1/2)*(rabis[j-1]*e*(-1j*deltas[j-1]*t)+cc(rabis[j-1])*e*(-1j*deltas[j-1]*t))\n",
    "            H_E1[i,j] = el\n",
    "        else:\n",
    "            H_E1[i,j] = 0"
   ]
  },
  {
   "cell_type": "code",
   "execution_count": 49,
   "metadata": {
    "collapsed": true
   },
   "outputs": [
    {
     "ename": "TypeError",
     "evalue": "_lambdifygenerated() missing 1 required positional argument: 'r'",
     "output_type": "error",
     "traceback": [
      "\u001b[1;31m---------------------------------------------------------------------------\u001b[0m",
      "\u001b[1;31mTypeError\u001b[0m                                 Traceback (most recent call last)",
      "\u001b[1;32m<ipython-input-49-d372c86ac76c>\u001b[0m in \u001b[0;36m<module>\u001b[1;34m\u001b[0m\n\u001b[0;32m      7\u001b[0m \u001b[1;33m\u001b[0m\u001b[0m\n\u001b[0;32m      8\u001b[0m \u001b[0mtlist\u001b[0m \u001b[1;33m=\u001b[0m \u001b[0mlinspace\u001b[0m\u001b[1;33m(\u001b[0m\u001b[1;36m0\u001b[0m\u001b[1;33m,\u001b[0m\u001b[1;36m10\u001b[0m\u001b[1;33m,\u001b[0m\u001b[1;36m100\u001b[0m\u001b[1;33m)\u001b[0m\u001b[1;33m\u001b[0m\u001b[1;33m\u001b[0m\u001b[0m\n\u001b[1;32m----> 9\u001b[1;33m \u001b[0msoln\u001b[0m \u001b[1;33m=\u001b[0m \u001b[0mfourlvl\u001b[0m\u001b[1;33m.\u001b[0m\u001b[0msolve\u001b[0m\u001b[1;33m(\u001b[0m\u001b[0mtlist\u001b[0m\u001b[1;33m)\u001b[0m\u001b[1;33m\u001b[0m\u001b[1;33m\u001b[0m\u001b[0m\n\u001b[0m\u001b[0;32m     10\u001b[0m \u001b[1;32mfor\u001b[0m \u001b[0my\u001b[0m \u001b[1;32min\u001b[0m \u001b[0msoln\u001b[0m\u001b[1;33m.\u001b[0m\u001b[0my\u001b[0m\u001b[1;33m:\u001b[0m\u001b[1;33m\u001b[0m\u001b[1;33m\u001b[0m\u001b[0m\n\u001b[0;32m     11\u001b[0m     \u001b[0mplt\u001b[0m\u001b[1;33m.\u001b[0m\u001b[0mplot\u001b[0m\u001b[1;33m(\u001b[0m\u001b[0msoln\u001b[0m\u001b[1;33m.\u001b[0m\u001b[0mt\u001b[0m\u001b[1;33m,\u001b[0m\u001b[0my\u001b[0m\u001b[1;33m)\u001b[0m\u001b[1;33m\u001b[0m\u001b[1;33m\u001b[0m\u001b[0m\n",
      "\u001b[1;32m<ipython-input-46-405346c457aa>\u001b[0m in \u001b[0;36msolve\u001b[1;34m(self, tlist)\u001b[0m\n\u001b[0;32m     69\u001b[0m         \u001b[0mt_exp\u001b[0m \u001b[1;33m=\u001b[0m \u001b[1;36m10\u001b[0m\u001b[1;33m\u001b[0m\u001b[1;33m\u001b[0m\u001b[0m\n\u001b[0;32m     70\u001b[0m         \u001b[0mtpts\u001b[0m \u001b[1;33m=\u001b[0m \u001b[1;36m1000\u001b[0m\u001b[1;33m\u001b[0m\u001b[1;33m\u001b[0m\u001b[0m\n\u001b[1;32m---> 71\u001b[1;33m         \u001b[0msoln\u001b[0m \u001b[1;33m=\u001b[0m \u001b[0msolve_ivp\u001b[0m\u001b[1;33m(\u001b[0m\u001b[0mderivs\u001b[0m\u001b[1;33m,\u001b[0m\u001b[1;33m[\u001b[0m\u001b[1;36m0\u001b[0m\u001b[1;33m,\u001b[0m\u001b[0mt_exp\u001b[0m\u001b[1;33m]\u001b[0m\u001b[1;33m,\u001b[0m\u001b[0mr0\u001b[0m\u001b[1;33m,\u001b[0m\u001b[0mt_eval\u001b[0m\u001b[1;33m=\u001b[0m\u001b[0mnp\u001b[0m\u001b[1;33m.\u001b[0m\u001b[0mlinspace\u001b[0m\u001b[1;33m(\u001b[0m\u001b[1;36m0\u001b[0m\u001b[1;33m,\u001b[0m\u001b[0mt_exp\u001b[0m\u001b[1;33m,\u001b[0m\u001b[0mtpts\u001b[0m\u001b[1;33m)\u001b[0m\u001b[1;33m)\u001b[0m\u001b[1;33m\u001b[0m\u001b[1;33m\u001b[0m\u001b[0m\n\u001b[0m\u001b[0;32m     72\u001b[0m \u001b[1;33m\u001b[0m\u001b[0m\n\u001b[0;32m     73\u001b[0m         \u001b[1;32mreturn\u001b[0m \u001b[0msoln\u001b[0m\u001b[1;33m\u001b[0m\u001b[1;33m\u001b[0m\u001b[0m\n",
      "\u001b[1;32m~\\Anaconda3\\lib\\site-packages\\scipy\\integrate\\_ivp\\ivp.py\u001b[0m in \u001b[0;36msolve_ivp\u001b[1;34m(fun, t_span, y0, method, t_eval, dense_output, events, vectorized, **options)\u001b[0m\n\u001b[0;32m    454\u001b[0m         \u001b[0mmethod\u001b[0m \u001b[1;33m=\u001b[0m \u001b[0mMETHODS\u001b[0m\u001b[1;33m[\u001b[0m\u001b[0mmethod\u001b[0m\u001b[1;33m]\u001b[0m\u001b[1;33m\u001b[0m\u001b[1;33m\u001b[0m\u001b[0m\n\u001b[0;32m    455\u001b[0m \u001b[1;33m\u001b[0m\u001b[0m\n\u001b[1;32m--> 456\u001b[1;33m     \u001b[0msolver\u001b[0m \u001b[1;33m=\u001b[0m \u001b[0mmethod\u001b[0m\u001b[1;33m(\u001b[0m\u001b[0mfun\u001b[0m\u001b[1;33m,\u001b[0m \u001b[0mt0\u001b[0m\u001b[1;33m,\u001b[0m \u001b[0my0\u001b[0m\u001b[1;33m,\u001b[0m \u001b[0mtf\u001b[0m\u001b[1;33m,\u001b[0m \u001b[0mvectorized\u001b[0m\u001b[1;33m=\u001b[0m\u001b[0mvectorized\u001b[0m\u001b[1;33m,\u001b[0m \u001b[1;33m**\u001b[0m\u001b[0moptions\u001b[0m\u001b[1;33m)\u001b[0m\u001b[1;33m\u001b[0m\u001b[1;33m\u001b[0m\u001b[0m\n\u001b[0m\u001b[0;32m    457\u001b[0m \u001b[1;33m\u001b[0m\u001b[0m\n\u001b[0;32m    458\u001b[0m     \u001b[1;32mif\u001b[0m \u001b[0mt_eval\u001b[0m \u001b[1;32mis\u001b[0m \u001b[1;32mNone\u001b[0m\u001b[1;33m:\u001b[0m\u001b[1;33m\u001b[0m\u001b[1;33m\u001b[0m\u001b[0m\n",
      "\u001b[1;32m~\\Anaconda3\\lib\\site-packages\\scipy\\integrate\\_ivp\\rk.py\u001b[0m in \u001b[0;36m__init__\u001b[1;34m(self, fun, t0, y0, t_bound, max_step, rtol, atol, vectorized, first_step, **extraneous)\u001b[0m\n\u001b[0;32m     98\u001b[0m         \u001b[0mself\u001b[0m\u001b[1;33m.\u001b[0m\u001b[0mmax_step\u001b[0m \u001b[1;33m=\u001b[0m \u001b[0mvalidate_max_step\u001b[0m\u001b[1;33m(\u001b[0m\u001b[0mmax_step\u001b[0m\u001b[1;33m)\u001b[0m\u001b[1;33m\u001b[0m\u001b[1;33m\u001b[0m\u001b[0m\n\u001b[0;32m     99\u001b[0m         \u001b[0mself\u001b[0m\u001b[1;33m.\u001b[0m\u001b[0mrtol\u001b[0m\u001b[1;33m,\u001b[0m \u001b[0mself\u001b[0m\u001b[1;33m.\u001b[0m\u001b[0matol\u001b[0m \u001b[1;33m=\u001b[0m \u001b[0mvalidate_tol\u001b[0m\u001b[1;33m(\u001b[0m\u001b[0mrtol\u001b[0m\u001b[1;33m,\u001b[0m \u001b[0matol\u001b[0m\u001b[1;33m,\u001b[0m \u001b[0mself\u001b[0m\u001b[1;33m.\u001b[0m\u001b[0mn\u001b[0m\u001b[1;33m)\u001b[0m\u001b[1;33m\u001b[0m\u001b[1;33m\u001b[0m\u001b[0m\n\u001b[1;32m--> 100\u001b[1;33m         \u001b[0mself\u001b[0m\u001b[1;33m.\u001b[0m\u001b[0mf\u001b[0m \u001b[1;33m=\u001b[0m \u001b[0mself\u001b[0m\u001b[1;33m.\u001b[0m\u001b[0mfun\u001b[0m\u001b[1;33m(\u001b[0m\u001b[0mself\u001b[0m\u001b[1;33m.\u001b[0m\u001b[0mt\u001b[0m\u001b[1;33m,\u001b[0m \u001b[0mself\u001b[0m\u001b[1;33m.\u001b[0m\u001b[0my\u001b[0m\u001b[1;33m)\u001b[0m\u001b[1;33m\u001b[0m\u001b[1;33m\u001b[0m\u001b[0m\n\u001b[0m\u001b[0;32m    101\u001b[0m         \u001b[1;32mif\u001b[0m \u001b[0mfirst_step\u001b[0m \u001b[1;32mis\u001b[0m \u001b[1;32mNone\u001b[0m\u001b[1;33m:\u001b[0m\u001b[1;33m\u001b[0m\u001b[1;33m\u001b[0m\u001b[0m\n\u001b[0;32m    102\u001b[0m             self.h_abs = select_initial_step(\n",
      "\u001b[1;32m~\\Anaconda3\\lib\\site-packages\\scipy\\integrate\\_ivp\\base.py\u001b[0m in \u001b[0;36mfun\u001b[1;34m(t, y)\u001b[0m\n\u001b[0;32m    137\u001b[0m         \u001b[1;32mdef\u001b[0m \u001b[0mfun\u001b[0m\u001b[1;33m(\u001b[0m\u001b[0mt\u001b[0m\u001b[1;33m,\u001b[0m \u001b[0my\u001b[0m\u001b[1;33m)\u001b[0m\u001b[1;33m:\u001b[0m\u001b[1;33m\u001b[0m\u001b[1;33m\u001b[0m\u001b[0m\n\u001b[0;32m    138\u001b[0m             \u001b[0mself\u001b[0m\u001b[1;33m.\u001b[0m\u001b[0mnfev\u001b[0m \u001b[1;33m+=\u001b[0m \u001b[1;36m1\u001b[0m\u001b[1;33m\u001b[0m\u001b[1;33m\u001b[0m\u001b[0m\n\u001b[1;32m--> 139\u001b[1;33m             \u001b[1;32mreturn\u001b[0m \u001b[0mself\u001b[0m\u001b[1;33m.\u001b[0m\u001b[0mfun_single\u001b[0m\u001b[1;33m(\u001b[0m\u001b[0mt\u001b[0m\u001b[1;33m,\u001b[0m \u001b[0my\u001b[0m\u001b[1;33m)\u001b[0m\u001b[1;33m\u001b[0m\u001b[1;33m\u001b[0m\u001b[0m\n\u001b[0m\u001b[0;32m    140\u001b[0m \u001b[1;33m\u001b[0m\u001b[0m\n\u001b[0;32m    141\u001b[0m         \u001b[0mself\u001b[0m\u001b[1;33m.\u001b[0m\u001b[0mfun\u001b[0m \u001b[1;33m=\u001b[0m \u001b[0mfun\u001b[0m\u001b[1;33m\u001b[0m\u001b[1;33m\u001b[0m\u001b[0m\n",
      "\u001b[1;32m~\\Anaconda3\\lib\\site-packages\\scipy\\integrate\\_ivp\\base.py\u001b[0m in \u001b[0;36mfun_wrapped\u001b[1;34m(t, y)\u001b[0m\n\u001b[0;32m     19\u001b[0m \u001b[1;33m\u001b[0m\u001b[0m\n\u001b[0;32m     20\u001b[0m     \u001b[1;32mdef\u001b[0m \u001b[0mfun_wrapped\u001b[0m\u001b[1;33m(\u001b[0m\u001b[0mt\u001b[0m\u001b[1;33m,\u001b[0m \u001b[0my\u001b[0m\u001b[1;33m)\u001b[0m\u001b[1;33m:\u001b[0m\u001b[1;33m\u001b[0m\u001b[1;33m\u001b[0m\u001b[0m\n\u001b[1;32m---> 21\u001b[1;33m         \u001b[1;32mreturn\u001b[0m \u001b[0mnp\u001b[0m\u001b[1;33m.\u001b[0m\u001b[0masarray\u001b[0m\u001b[1;33m(\u001b[0m\u001b[0mfun\u001b[0m\u001b[1;33m(\u001b[0m\u001b[0mt\u001b[0m\u001b[1;33m,\u001b[0m \u001b[0my\u001b[0m\u001b[1;33m)\u001b[0m\u001b[1;33m,\u001b[0m \u001b[0mdtype\u001b[0m\u001b[1;33m=\u001b[0m\u001b[0mdtype\u001b[0m\u001b[1;33m)\u001b[0m\u001b[1;33m\u001b[0m\u001b[1;33m\u001b[0m\u001b[0m\n\u001b[0m\u001b[0;32m     22\u001b[0m \u001b[1;33m\u001b[0m\u001b[0m\n\u001b[0;32m     23\u001b[0m     \u001b[1;32mreturn\u001b[0m \u001b[0mfun_wrapped\u001b[0m\u001b[1;33m,\u001b[0m \u001b[0my0\u001b[0m\u001b[1;33m\u001b[0m\u001b[1;33m\u001b[0m\u001b[0m\n",
      "\u001b[1;32m<ipython-input-46-405346c457aa>\u001b[0m in \u001b[0;36mderivs\u001b[1;34m(t, y)\u001b[0m\n\u001b[0;32m     65\u001b[0m             \"\"\"\n\u001b[0;32m     66\u001b[0m             \u001b[0mj\u001b[0m\u001b[1;33m=\u001b[0m\u001b[0mint\u001b[0m\u001b[1;33m(\u001b[0m\u001b[0msqrt\u001b[0m\u001b[1;33m(\u001b[0m\u001b[0mlen\u001b[0m\u001b[1;33m(\u001b[0m\u001b[0my\u001b[0m\u001b[1;33m)\u001b[0m\u001b[1;33m)\u001b[0m\u001b[1;33m)\u001b[0m\u001b[1;33m\u001b[0m\u001b[1;33m\u001b[0m\u001b[0m\n\u001b[1;32m---> 67\u001b[1;33m             \u001b[1;32mreturn\u001b[0m \u001b[0mflatten\u001b[0m\u001b[1;33m(\u001b[0m\u001b[0mf\u001b[0m\u001b[1;33m(\u001b[0m\u001b[0mMatrix\u001b[0m\u001b[1;33m(\u001b[0m\u001b[0my\u001b[0m\u001b[1;33m.\u001b[0m\u001b[0mreshape\u001b[0m\u001b[1;33m(\u001b[0m\u001b[1;33m(\u001b[0m\u001b[0mj\u001b[0m\u001b[1;33m,\u001b[0m\u001b[0mj\u001b[0m\u001b[1;33m)\u001b[0m\u001b[1;33m)\u001b[0m\u001b[1;33m)\u001b[0m\u001b[1;33m)\u001b[0m\u001b[1;33m)\u001b[0m\u001b[1;33m\u001b[0m\u001b[1;33m\u001b[0m\u001b[0m\n\u001b[0m\u001b[0;32m     68\u001b[0m \u001b[1;33m\u001b[0m\u001b[0m\n\u001b[0;32m     69\u001b[0m         \u001b[0mt_exp\u001b[0m \u001b[1;33m=\u001b[0m \u001b[1;36m10\u001b[0m\u001b[1;33m\u001b[0m\u001b[1;33m\u001b[0m\u001b[0m\n",
      "\u001b[1;31mTypeError\u001b[0m: _lambdifygenerated() missing 1 required positional argument: 'r'"
     ]
    }
   ],
   "source": [
    "H = H_a + H_E1\n",
    "\n",
    "r0 = sympy.zeros(4)\n",
    "r0[0,0] = 1 # starts in level 1\n",
    "\n",
    "fourlvl = von_neumann(H,r0)\n",
    "\n",
    "tlist = linspace(0,10,100)\n",
    "soln = fourlvl.solve(tlist)\n",
    "for y in soln.y:\n",
    "    plt.plot(soln.t,y)"
   ]
  },
  {
   "cell_type": "code",
   "execution_count": 38,
   "metadata": {},
   "outputs": [
    {
     "ename": "ValueError",
     "evalue": "x and y must have same first dimension, but have shapes (100,) and (1000,)",
     "output_type": "error",
     "traceback": [
      "\u001b[1;31m---------------------------------------------------------------------------\u001b[0m",
      "\u001b[1;31mValueError\u001b[0m                                Traceback (most recent call last)",
      "\u001b[1;32m<ipython-input-38-7021b7c71e95>\u001b[0m in \u001b[0;36m<module>\u001b[1;34m\u001b[0m\n\u001b[1;32m----> 1\u001b[1;33m \u001b[0mplt\u001b[0m\u001b[1;33m.\u001b[0m\u001b[0mplot\u001b[0m\u001b[1;33m(\u001b[0m\u001b[0mtlist\u001b[0m\u001b[1;33m,\u001b[0m\u001b[0msoln\u001b[0m\u001b[1;33m.\u001b[0m\u001b[0my\u001b[0m\u001b[1;33m[\u001b[0m\u001b[1;36m0\u001b[0m\u001b[1;33m]\u001b[0m\u001b[1;33m)\u001b[0m\u001b[1;33m\u001b[0m\u001b[1;33m\u001b[0m\u001b[0m\n\u001b[0m",
      "\u001b[1;32m~\\Anaconda3\\lib\\site-packages\\matplotlib\\pyplot.py\u001b[0m in \u001b[0;36mplot\u001b[1;34m(scalex, scaley, data, *args, **kwargs)\u001b[0m\n\u001b[0;32m   2809\u001b[0m     return gca().plot(\n\u001b[0;32m   2810\u001b[0m         *args, scalex=scalex, scaley=scaley, **({\"data\": data} if data\n\u001b[1;32m-> 2811\u001b[1;33m         is not None else {}), **kwargs)\n\u001b[0m\u001b[0;32m   2812\u001b[0m \u001b[1;33m\u001b[0m\u001b[0m\n\u001b[0;32m   2813\u001b[0m \u001b[1;33m\u001b[0m\u001b[0m\n",
      "\u001b[1;32m~\\Anaconda3\\lib\\site-packages\\matplotlib\\__init__.py\u001b[0m in \u001b[0;36minner\u001b[1;34m(ax, data, *args, **kwargs)\u001b[0m\n\u001b[0;32m   1808\u001b[0m                         \u001b[1;34m\"the Matplotlib list!)\"\u001b[0m \u001b[1;33m%\u001b[0m \u001b[1;33m(\u001b[0m\u001b[0mlabel_namer\u001b[0m\u001b[1;33m,\u001b[0m \u001b[0mfunc\u001b[0m\u001b[1;33m.\u001b[0m\u001b[0m__name__\u001b[0m\u001b[1;33m)\u001b[0m\u001b[1;33m,\u001b[0m\u001b[1;33m\u001b[0m\u001b[1;33m\u001b[0m\u001b[0m\n\u001b[0;32m   1809\u001b[0m                         RuntimeWarning, stacklevel=2)\n\u001b[1;32m-> 1810\u001b[1;33m             \u001b[1;32mreturn\u001b[0m \u001b[0mfunc\u001b[0m\u001b[1;33m(\u001b[0m\u001b[0max\u001b[0m\u001b[1;33m,\u001b[0m \u001b[1;33m*\u001b[0m\u001b[0margs\u001b[0m\u001b[1;33m,\u001b[0m \u001b[1;33m**\u001b[0m\u001b[0mkwargs\u001b[0m\u001b[1;33m)\u001b[0m\u001b[1;33m\u001b[0m\u001b[1;33m\u001b[0m\u001b[0m\n\u001b[0m\u001b[0;32m   1811\u001b[0m \u001b[1;33m\u001b[0m\u001b[0m\n\u001b[0;32m   1812\u001b[0m         inner.__doc__ = _add_data_doc(inner.__doc__,\n",
      "\u001b[1;32m~\\Anaconda3\\lib\\site-packages\\matplotlib\\axes\\_axes.py\u001b[0m in \u001b[0;36mplot\u001b[1;34m(self, scalex, scaley, *args, **kwargs)\u001b[0m\n\u001b[0;32m   1609\u001b[0m         \u001b[0mkwargs\u001b[0m \u001b[1;33m=\u001b[0m \u001b[0mcbook\u001b[0m\u001b[1;33m.\u001b[0m\u001b[0mnormalize_kwargs\u001b[0m\u001b[1;33m(\u001b[0m\u001b[0mkwargs\u001b[0m\u001b[1;33m,\u001b[0m \u001b[0mmlines\u001b[0m\u001b[1;33m.\u001b[0m\u001b[0mLine2D\u001b[0m\u001b[1;33m.\u001b[0m\u001b[0m_alias_map\u001b[0m\u001b[1;33m)\u001b[0m\u001b[1;33m\u001b[0m\u001b[1;33m\u001b[0m\u001b[0m\n\u001b[0;32m   1610\u001b[0m \u001b[1;33m\u001b[0m\u001b[0m\n\u001b[1;32m-> 1611\u001b[1;33m         \u001b[1;32mfor\u001b[0m \u001b[0mline\u001b[0m \u001b[1;32min\u001b[0m \u001b[0mself\u001b[0m\u001b[1;33m.\u001b[0m\u001b[0m_get_lines\u001b[0m\u001b[1;33m(\u001b[0m\u001b[1;33m*\u001b[0m\u001b[0margs\u001b[0m\u001b[1;33m,\u001b[0m \u001b[1;33m**\u001b[0m\u001b[0mkwargs\u001b[0m\u001b[1;33m)\u001b[0m\u001b[1;33m:\u001b[0m\u001b[1;33m\u001b[0m\u001b[1;33m\u001b[0m\u001b[0m\n\u001b[0m\u001b[0;32m   1612\u001b[0m             \u001b[0mself\u001b[0m\u001b[1;33m.\u001b[0m\u001b[0madd_line\u001b[0m\u001b[1;33m(\u001b[0m\u001b[0mline\u001b[0m\u001b[1;33m)\u001b[0m\u001b[1;33m\u001b[0m\u001b[1;33m\u001b[0m\u001b[0m\n\u001b[0;32m   1613\u001b[0m             \u001b[0mlines\u001b[0m\u001b[1;33m.\u001b[0m\u001b[0mappend\u001b[0m\u001b[1;33m(\u001b[0m\u001b[0mline\u001b[0m\u001b[1;33m)\u001b[0m\u001b[1;33m\u001b[0m\u001b[1;33m\u001b[0m\u001b[0m\n",
      "\u001b[1;32m~\\Anaconda3\\lib\\site-packages\\matplotlib\\axes\\_base.py\u001b[0m in \u001b[0;36m_grab_next_args\u001b[1;34m(self, *args, **kwargs)\u001b[0m\n\u001b[0;32m    391\u001b[0m                 \u001b[0mthis\u001b[0m \u001b[1;33m+=\u001b[0m \u001b[0margs\u001b[0m\u001b[1;33m[\u001b[0m\u001b[1;36m0\u001b[0m\u001b[1;33m]\u001b[0m\u001b[1;33m,\u001b[0m\u001b[1;33m\u001b[0m\u001b[1;33m\u001b[0m\u001b[0m\n\u001b[0;32m    392\u001b[0m                 \u001b[0margs\u001b[0m \u001b[1;33m=\u001b[0m \u001b[0margs\u001b[0m\u001b[1;33m[\u001b[0m\u001b[1;36m1\u001b[0m\u001b[1;33m:\u001b[0m\u001b[1;33m]\u001b[0m\u001b[1;33m\u001b[0m\u001b[1;33m\u001b[0m\u001b[0m\n\u001b[1;32m--> 393\u001b[1;33m             \u001b[1;32myield\u001b[0m \u001b[1;32mfrom\u001b[0m \u001b[0mself\u001b[0m\u001b[1;33m.\u001b[0m\u001b[0m_plot_args\u001b[0m\u001b[1;33m(\u001b[0m\u001b[0mthis\u001b[0m\u001b[1;33m,\u001b[0m \u001b[0mkwargs\u001b[0m\u001b[1;33m)\u001b[0m\u001b[1;33m\u001b[0m\u001b[1;33m\u001b[0m\u001b[0m\n\u001b[0m\u001b[0;32m    394\u001b[0m \u001b[1;33m\u001b[0m\u001b[0m\n\u001b[0;32m    395\u001b[0m \u001b[1;33m\u001b[0m\u001b[0m\n",
      "\u001b[1;32m~\\Anaconda3\\lib\\site-packages\\matplotlib\\axes\\_base.py\u001b[0m in \u001b[0;36m_plot_args\u001b[1;34m(self, tup, kwargs)\u001b[0m\n\u001b[0;32m    368\u001b[0m             \u001b[0mx\u001b[0m\u001b[1;33m,\u001b[0m \u001b[0my\u001b[0m \u001b[1;33m=\u001b[0m \u001b[0mindex_of\u001b[0m\u001b[1;33m(\u001b[0m\u001b[0mtup\u001b[0m\u001b[1;33m[\u001b[0m\u001b[1;33m-\u001b[0m\u001b[1;36m1\u001b[0m\u001b[1;33m]\u001b[0m\u001b[1;33m)\u001b[0m\u001b[1;33m\u001b[0m\u001b[1;33m\u001b[0m\u001b[0m\n\u001b[0;32m    369\u001b[0m \u001b[1;33m\u001b[0m\u001b[0m\n\u001b[1;32m--> 370\u001b[1;33m         \u001b[0mx\u001b[0m\u001b[1;33m,\u001b[0m \u001b[0my\u001b[0m \u001b[1;33m=\u001b[0m \u001b[0mself\u001b[0m\u001b[1;33m.\u001b[0m\u001b[0m_xy_from_xy\u001b[0m\u001b[1;33m(\u001b[0m\u001b[0mx\u001b[0m\u001b[1;33m,\u001b[0m \u001b[0my\u001b[0m\u001b[1;33m)\u001b[0m\u001b[1;33m\u001b[0m\u001b[1;33m\u001b[0m\u001b[0m\n\u001b[0m\u001b[0;32m    371\u001b[0m \u001b[1;33m\u001b[0m\u001b[0m\n\u001b[0;32m    372\u001b[0m         \u001b[1;32mif\u001b[0m \u001b[0mself\u001b[0m\u001b[1;33m.\u001b[0m\u001b[0mcommand\u001b[0m \u001b[1;33m==\u001b[0m \u001b[1;34m'plot'\u001b[0m\u001b[1;33m:\u001b[0m\u001b[1;33m\u001b[0m\u001b[1;33m\u001b[0m\u001b[0m\n",
      "\u001b[1;32m~\\Anaconda3\\lib\\site-packages\\matplotlib\\axes\\_base.py\u001b[0m in \u001b[0;36m_xy_from_xy\u001b[1;34m(self, x, y)\u001b[0m\n\u001b[0;32m    229\u001b[0m         \u001b[1;32mif\u001b[0m \u001b[0mx\u001b[0m\u001b[1;33m.\u001b[0m\u001b[0mshape\u001b[0m\u001b[1;33m[\u001b[0m\u001b[1;36m0\u001b[0m\u001b[1;33m]\u001b[0m \u001b[1;33m!=\u001b[0m \u001b[0my\u001b[0m\u001b[1;33m.\u001b[0m\u001b[0mshape\u001b[0m\u001b[1;33m[\u001b[0m\u001b[1;36m0\u001b[0m\u001b[1;33m]\u001b[0m\u001b[1;33m:\u001b[0m\u001b[1;33m\u001b[0m\u001b[1;33m\u001b[0m\u001b[0m\n\u001b[0;32m    230\u001b[0m             raise ValueError(\"x and y must have same first dimension, but \"\n\u001b[1;32m--> 231\u001b[1;33m                              \"have shapes {} and {}\".format(x.shape, y.shape))\n\u001b[0m\u001b[0;32m    232\u001b[0m         \u001b[1;32mif\u001b[0m \u001b[0mx\u001b[0m\u001b[1;33m.\u001b[0m\u001b[0mndim\u001b[0m \u001b[1;33m>\u001b[0m \u001b[1;36m2\u001b[0m \u001b[1;32mor\u001b[0m \u001b[0my\u001b[0m\u001b[1;33m.\u001b[0m\u001b[0mndim\u001b[0m \u001b[1;33m>\u001b[0m \u001b[1;36m2\u001b[0m\u001b[1;33m:\u001b[0m\u001b[1;33m\u001b[0m\u001b[1;33m\u001b[0m\u001b[0m\n\u001b[0;32m    233\u001b[0m             raise ValueError(\"x and y can be no greater than 2-D, but have \"\n",
      "\u001b[1;31mValueError\u001b[0m: x and y must have same first dimension, but have shapes (100,) and (1000,)"
     ]
    },
    {
     "data": {
      "image/png": "[encoded data removed]",
      "text/plain": [
       "<Figure size 432x288 with 1 Axes>"
      ]
     },
     "metadata": {
      "needs_background": "light"
     },
     "output_type": "display_data"
    }
   ],
   "source": [
    "plt.plot(soln.t,soln.y[0])"
   ]
  },
  {
   "cell_type": "code",
   "execution_count": 11,
   "metadata": {
    "collapsed": true
   },
   "outputs": [
    {
     "name": "stdout",
     "output_type": "stream",
     "text": [
      "-1.0*I*(-d2*(0.5*E2*ee**(-1.0*I*o12*t) + 0.5*ee**(-1.0*I*o12*t)*conjugate(E2))*r[0, 1] + d2*(0.5*E2*ee**(-1.0*I*o12*t) + 0.5*ee**(-1.0*I*o12*t)*conjugate(E2))*r[1, 0]) \n",
      "\n",
      "-1.0*I*(U1*r[0, 1] - U2*r[0, 1] - d2*(0.5*E2*ee**(-1.0*I*o12*t) + 0.5*ee**(-1.0*I*o12*t)*conjugate(E2))*r[0, 0] + d2*(0.5*E2*ee**(-1.0*I*o12*t) + 0.5*ee**(-1.0*I*o12*t)*conjugate(E2))*r[1, 1] - d3*(0.5*E3*ee**(-1.0*I*o23*t) + 0.5*ee**(-1.0*I*o23*t)*conjugate(E3))*r[0, 2]) \n",
      "\n",
      "-1.0*I*(U1*r[0, 2] - U3*r[0, 2] + d2*(0.5*E2*ee**(-1.0*I*o12*t) + 0.5*ee**(-1.0*I*o12*t)*conjugate(E2))*r[1, 2] - d3*(0.5*E3*ee**(-1.0*I*o23*t) + 0.5*ee**(-1.0*I*o23*t)*conjugate(E3))*r[0, 1] - d4*(0.5*E4*ee**(-1.0*I*o34*t) + 0.5*ee**(-1.0*I*o34*t)*conjugate(E4))*r[0, 3]) \n",
      "\n",
      "-1.0*I*(U1*r[0, 3] - U4*r[0, 3] + d2*(0.5*E2*ee**(-1.0*I*o12*t) + 0.5*ee**(-1.0*I*o12*t)*conjugate(E2))*r[1, 3] - d4*(0.5*E4*ee**(-1.0*I*o34*t) + 0.5*ee**(-1.0*I*o34*t)*conjugate(E4))*r[0, 2]) \n",
      "\n",
      "-1.0*I*(-U1*r[1, 0] + U2*r[1, 0] + d2*(0.5*E2*ee**(-1.0*I*o12*t) + 0.5*ee**(-1.0*I*o12*t)*conjugate(E2))*r[0, 0] - d2*(0.5*E2*ee**(-1.0*I*o12*t) + 0.5*ee**(-1.0*I*o12*t)*conjugate(E2))*r[1, 1] + d3*(0.5*E3*ee**(-1.0*I*o23*t) + 0.5*ee**(-1.0*I*o23*t)*conjugate(E3))*r[2, 0]) \n",
      "\n",
      "-1.0*I*(d2*(0.5*E2*ee**(-1.0*I*o12*t) + 0.5*ee**(-1.0*I*o12*t)*conjugate(E2))*r[0, 1] - d2*(0.5*E2*ee**(-1.0*I*o12*t) + 0.5*ee**(-1.0*I*o12*t)*conjugate(E2))*r[1, 0] - d3*(0.5*E3*ee**(-1.0*I*o23*t) + 0.5*ee**(-1.0*I*o23*t)*conjugate(E3))*r[1, 2] + d3*(0.5*E3*ee**(-1.0*I*o23*t) + 0.5*ee**(-1.0*I*o23*t)*conjugate(E3))*r[2, 1]) \n",
      "\n",
      "-1.0*I*(U2*r[1, 2] - U3*r[1, 2] + d2*(0.5*E2*ee**(-1.0*I*o12*t) + 0.5*ee**(-1.0*I*o12*t)*conjugate(E2))*r[0, 2] - d3*(0.5*E3*ee**(-1.0*I*o23*t) + 0.5*ee**(-1.0*I*o23*t)*conjugate(E3))*r[1, 1] + d3*(0.5*E3*ee**(-1.0*I*o23*t) + 0.5*ee**(-1.0*I*o23*t)*conjugate(E3))*r[2, 2] - d4*(0.5*E4*ee**(-1.0*I*o34*t) + 0.5*ee**(-1.0*I*o34*t)*conjugate(E4))*r[1, 3]) \n",
      "\n",
      "-1.0*I*(U2*r[1, 3] - U4*r[1, 3] + d2*(0.5*E2*ee**(-1.0*I*o12*t) + 0.5*ee**(-1.0*I*o12*t)*conjugate(E2))*r[0, 3] + d3*(0.5*E3*ee**(-1.0*I*o23*t) + 0.5*ee**(-1.0*I*o23*t)*conjugate(E3))*r[2, 3] - d4*(0.5*E4*ee**(-1.0*I*o34*t) + 0.5*ee**(-1.0*I*o34*t)*conjugate(E4))*r[1, 2]) \n",
      "\n",
      "-1.0*I*(-U1*r[2, 0] + U3*r[2, 0] - d2*(0.5*E2*ee**(-1.0*I*o12*t) + 0.5*ee**(-1.0*I*o12*t)*conjugate(E2))*r[2, 1] + d3*(0.5*E3*ee**(-1.0*I*o23*t) + 0.5*ee**(-1.0*I*o23*t)*conjugate(E3))*r[1, 0] + d4*(0.5*E4*ee**(-1.0*I*o34*t) + 0.5*ee**(-1.0*I*o34*t)*conjugate(E4))*r[3, 0]) \n",
      "\n",
      "-1.0*I*(-U2*r[2, 1] + U3*r[2, 1] - d2*(0.5*E2*ee**(-1.0*I*o12*t) + 0.5*ee**(-1.0*I*o12*t)*conjugate(E2))*r[2, 0] + d3*(0.5*E3*ee**(-1.0*I*o23*t) + 0.5*ee**(-1.0*I*o23*t)*conjugate(E3))*r[1, 1] - d3*(0.5*E3*ee**(-1.0*I*o23*t) + 0.5*ee**(-1.0*I*o23*t)*conjugate(E3))*r[2, 2] + d4*(0.5*E4*ee**(-1.0*I*o34*t) + 0.5*ee**(-1.0*I*o34*t)*conjugate(E4))*r[3, 1]) \n",
      "\n",
      "-1.0*I*(d3*(0.5*E3*ee**(-1.0*I*o23*t) + 0.5*ee**(-1.0*I*o23*t)*conjugate(E3))*r[1, 2] - d3*(0.5*E3*ee**(-1.0*I*o23*t) + 0.5*ee**(-1.0*I*o23*t)*conjugate(E3))*r[2, 1] - d4*(0.5*E4*ee**(-1.0*I*o34*t) + 0.5*ee**(-1.0*I*o34*t)*conjugate(E4))*r[2, 3] + d4*(0.5*E4*ee**(-1.0*I*o34*t) + 0.5*ee**(-1.0*I*o34*t)*conjugate(E4))*r[3, 2]) \n",
      "\n",
      "-1.0*I*(U3*r[2, 3] - U4*r[2, 3] + d3*(0.5*E3*ee**(-1.0*I*o23*t) + 0.5*ee**(-1.0*I*o23*t)*conjugate(E3))*r[1, 3] - d4*(0.5*E4*ee**(-1.0*I*o34*t) + 0.5*ee**(-1.0*I*o34*t)*conjugate(E4))*r[2, 2] + d4*(0.5*E4*ee**(-1.0*I*o34*t) + 0.5*ee**(-1.0*I*o34*t)*conjugate(E4))*r[3, 3]) \n",
      "\n",
      "-1.0*I*(-U1*r[3, 0] + U4*r[3, 0] - d2*(0.5*E2*ee**(-1.0*I*o12*t) + 0.5*ee**(-1.0*I*o12*t)*conjugate(E2))*r[3, 1] + d4*(0.5*E4*ee**(-1.0*I*o34*t) + 0.5*ee**(-1.0*I*o34*t)*conjugate(E4))*r[2, 0]) \n",
      "\n",
      "-1.0*I*(-U2*r[3, 1] + U4*r[3, 1] - d2*(0.5*E2*ee**(-1.0*I*o12*t) + 0.5*ee**(-1.0*I*o12*t)*conjugate(E2))*r[3, 0] - d3*(0.5*E3*ee**(-1.0*I*o23*t) + 0.5*ee**(-1.0*I*o23*t)*conjugate(E3))*r[3, 2] + d4*(0.5*E4*ee**(-1.0*I*o34*t) + 0.5*ee**(-1.0*I*o34*t)*conjugate(E4))*r[2, 1]) \n",
      "\n",
      "-1.0*I*(-U3*r[3, 2] + U4*r[3, 2] - d3*(0.5*E3*ee**(-1.0*I*o23*t) + 0.5*ee**(-1.0*I*o23*t)*conjugate(E3))*r[3, 1] + d4*(0.5*E4*ee**(-1.0*I*o34*t) + 0.5*ee**(-1.0*I*o34*t)*conjugate(E4))*r[2, 2] - d4*(0.5*E4*ee**(-1.0*I*o34*t) + 0.5*ee**(-1.0*I*o34*t)*conjugate(E4))*r[3, 3]) \n",
      "\n",
      "-1.0*I*(d4*(0.5*E4*ee**(-1.0*I*o34*t) + 0.5*ee**(-1.0*I*o34*t)*conjugate(E4))*r[2, 3] - d4*(0.5*E4*ee**(-1.0*I*o34*t) + 0.5*ee**(-1.0*I*o34*t)*conjugate(E4))*r[3, 2]) \n",
      "\n"
     ]
    },
    {
     "data": {
      "text/plain": [
       "[None,\n",
       " None,\n",
       " None,\n",
       " None,\n",
       " None,\n",
       " None,\n",
       " None,\n",
       " None,\n",
       " None,\n",
       " None,\n",
       " None,\n",
       " None,\n",
       " None,\n",
       " None,\n",
       " None,\n",
       " None]"
      ]
     },
     "execution_count": 11,
     "metadata": {},
     "output_type": "execute_result"
    }
   ],
   "source": [
    "[print(f'{x} \\n') for x in fourlvl.RHS]"
   ]
  },
  {
   "cell_type": "code",
   "execution_count": 12,
   "metadata": {},
   "outputs": [
    {
     "name": "stdout",
     "output_type": "stream",
     "text": [
      "-1.0*I*(-d2*(0.5*E2*ee**(-1.0*I*o12*t) + 0.5*ee**(-1.0*I*o12*t)*conjugate(E2))*r[0, 1] + d2*(0.5*E2*ee**(-1.0*I*o12*t) + 0.5*ee**(-1.0*I*o12*t)*conjugate(E2))*r[1, 0])\n"
     ]
    }
   ],
   "source": [
    "print(fourlvl.RHS[0])"
   ]
  },
  {
   "cell_type": "code",
   "execution_count": null,
   "metadata": {},
   "outputs": [],
   "source": []
  }
 ],
 "metadata": {
  "kernelspec": {
   "display_name": "Python 3",
   "language": "python",
   "name": "python3"
  },
  "language_info": {
   "codemirror_mode": {
    "name": "ipython",
    "version": 3
   },
   "file_extension": ".py",
   "mimetype": "text/x-python",
   "name": "python",
   "nbconvert_exporter": "python",
   "pygments_lexer": "ipython3",
   "version": "3.7.3"
  }
 },
 "nbformat": 4,
 "nbformat_minor": 2
}
