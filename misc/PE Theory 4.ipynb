{
 "cells": [
  {
   "cell_type": "code",
   "execution_count": 1,
   "metadata": {},
   "outputs": [],
   "source": [
    "import math\n",
    "import scipy.integrate as integrate\n",
    "from scipy.optimize import curve_fit\n",
    "import numpy as np\n",
    "import matplotlib.pyplot as plt\n",
    "import csv\n",
    "from scipy.ndimage import gaussian_filter\n",
    "from numpy import e, pi\n",
    "from scipy import constants\n",
    "#plt.rcParams.update({'font.size': 16})"
   ]
  },
  {
   "cell_type": "code",
   "execution_count": 2,
   "metadata": {},
   "outputs": [],
   "source": [
    "hbar=6.582e-16\n",
    "boltz=8.6173e-5\n",
    "\n",
    "Rq=25800\n",
    "#Ll=5e-8\n",
    "#Cl=5e-16\n",
    "Rl=377\n",
    "ws=1\n",
    "Q=50\n",
    "wc=Q*ws\n",
    "#wc=1/(Rl*Cl)\n",
    "Q=wc/ws\n",
    "tcap=5e-16;\n",
    "\n",
    "temper = 0.5;\n",
    "beta=1/(temper*ws*hbar);#temperature goes here\n",
    "\n",
    "\n",
    "wx = np.arange(-ws*5+(ws/100),ws*5+(ws/100),(ws/1000))\n",
    "centwx=len(wx)/2;\n",
    "Ex=hbar*wx;\n",
    "dw=ws/1000;\n",
    "Z=(Rl)*(1+1j*Q**2*(wx/wc))/(1+1j*wx/wc-(Q**2)*(wx/wc)**2)\n",
    "#Zt=1./(1i.*wx.*tcap+1./Z)\n",
    "Zt=Z;\n",
    "#figure\n",
    "#plot(Ex,real(Zt))\n",
    "Z0=(Rl)*(1+1j*Q**2*(0/wc))/(1+1j*0/wc-(Q**2)*(0/wc)**2)\n",
    "D=(np.pi/beta)*Z0.real/Rq #a beta term was removed, possibly typo is Ast paper\n",
    "I=(1/np.pi)*(D/(D**2+Ex**2))\n",
    "kk=(Zt/Rq).real*(1/(1-np.exp(-beta*hbar*wx)))-(1/(beta*hbar*wx))*((Z0).real/Rq)\n"
   ]
  },
  {
   "cell_type": "code",
   "execution_count": 3,
   "metadata": {},
   "outputs": [],
   "source": [
    "wx=np.arange(-4e12+.5e9,4e12+.5e9,1e9)\n",
    "# we need to evaluate the sum over Matsubara frequencies first for a given\n",
    "# number of w values.  Thus, to run this you need to change wx above first\n",
    "def ZZ(w):\n",
    "    return (Rl)*(1+1j*Q**2*(w/wc))/(1+1j*w/wc-(Q**2)*(w/wc)**2)\n",
    "#ZZ=@(w) (Rl).*(1+1i.*Q.^2.*(w./wc))./(1+1i.*w/wc-(Q.^2).*(w./wc).^2)\n",
    "#ZZt=@(w) 1./(1i.*w.*tcap+1./ZZ(w))\n",
    "ZZt=ZZ;\n",
    "#yms nn;\n",
    "#vn = 2.*nn*pi./(beta*hbar);\n",
    "#kapr=(2./(beta*hbar)).* vpasum((vn./(vn.^2+wx.^2)).*ZZt(-1i.*vn),1,100) \n",
    "sumlist=[]\n",
    "for nn in range(100):\n",
    "    vn=2*nn*np.pi/(beta*hbar)\n",
    "    sumlist.append((vn/(vn**2+wx**2))*ZZt(-1j*vn))\n",
    "kapr=(2/(beta*hbar))*np.sum(sumlist)\n",
    "wx = np.arange(-ws*5+(ws/100),ws*5+(ws/100),(ws/1000))\n",
    "kappa=((Zt).imag*(1/(1-np.exp(-beta*hbar*wx)))-kapr)*(1/Rq);"
   ]
  },
  {
   "cell_type": "code",
   "execution_count": 67,
   "metadata": {},
   "outputs": [
    {
     "data": {
      "text/plain": [
       "100000000"
      ]
     },
     "execution_count": 67,
     "metadata": {},
     "output_type": "execute_result"
    }
   ],
   "source": [
    "(np.outer(np.matrix(hbar*Ex/(D**2+Ex**2)),kk)).size"
   ]
  },
  {
   "cell_type": "code",
   "execution_count": 73,
   "metadata": {},
   "outputs": [
    {
     "data": {
      "text/plain": [
       "matrix([[ 0. +0.j,  1. -1.j,  2. -2.j,  3. -3.j],\n",
       "        [ 4. -4.j,  5. -5.j,  6. -6.j,  7. -7.j],\n",
       "        [ 8. -8.j,  9. -9.j, 10.-10.j, 11.-11.j]])"
      ]
     },
     "execution_count": 73,
     "metadata": {},
     "output_type": "execute_result"
    }
   ],
   "source": [
    "x = np.matrix(np.arange(12).reshape((3,4)))\n",
    "z = x - 1j*x; z"
   ]
  },
  {
   "cell_type": "code",
   "execution_count": 126,
   "metadata": {},
   "outputs": [],
   "source": [
    "xx = (hbar*Ex/(D**2+Ex**2))"
   ]
  },
  {
   "cell_type": "code",
   "execution_count": 127,
   "metadata": {},
   "outputs": [
    {
     "data": {
      "text/plain": [
       "array([-0.20040076, -0.20044093, -0.20048111, ...,  0.19972035,\n",
       "        0.19968047,  0.1996406 ])"
      ]
     },
     "execution_count": 127,
     "metadata": {},
     "output_type": "execute_result"
    }
   ],
   "source": [
    "xx"
   ]
  },
  {
   "cell_type": "code",
   "execution_count": 128,
   "metadata": {},
   "outputs": [
    {
     "data": {
      "text/plain": [
       "matrix([[-0.20040076, -0.20044093, -0.20048111, ...,  0.19972035,\n",
       "          0.19968047,  0.1996406 ]])"
      ]
     },
     "execution_count": 128,
     "metadata": {},
     "output_type": "execute_result"
    }
   ],
   "source": [
    "np.matrix(xx)"
   ]
  },
  {
   "cell_type": "code",
   "execution_count": 76,
   "metadata": {},
   "outputs": [
    {
     "data": {
      "text/plain": [
       "matrix([[ 0. -0.j,  4. +4.j,  8. +8.j],\n",
       "        [ 1. +1.j,  5. +5.j,  9. +9.j],\n",
       "        [ 2. +2.j,  6. +6.j, 10.+10.j],\n",
       "        [ 3. +3.j,  7. +7.j, 11.+11.j]])"
      ]
     },
     "execution_count": 76,
     "metadata": {},
     "output_type": "execute_result"
    }
   ],
   "source": [
    "z.getH()"
   ]
  },
  {
   "cell_type": "code",
   "execution_count": 111,
   "metadata": {},
   "outputs": [
    {
     "data": {
      "text/plain": [
       "matrix([[ 0.00014642,  0.00014645,  0.00014648, ..., -0.0001207 ,\n",
       "         -0.00012069, -0.00012068]])"
      ]
     },
     "execution_count": 111,
     "metadata": {},
     "output_type": "execute_result"
    }
   ],
   "source": [
    "np.asmatrix(kk)"
   ]
  },
  {
   "cell_type": "code",
   "execution_count": 117,
   "metadata": {},
   "outputs": [
    {
     "data": {
      "text/plain": [
       "10000"
      ]
     },
     "execution_count": 117,
     "metadata": {},
     "output_type": "execute_result"
    }
   ],
   "source": [
    "len(kk)"
   ]
  },
  {
   "cell_type": "code",
   "execution_count": 125,
   "metadata": {},
   "outputs": [
    {
     "data": {
      "text/plain": [
       "10000"
      ]
     },
     "execution_count": 125,
     "metadata": {},
     "output_type": "execute_result"
    }
   ],
   "source": [
    "len((np.outer(np.matrix(hbar*Ex/(D**2+Ex**2)).getH(),kk))[10000-1])"
   ]
  },
  {
   "cell_type": "code",
   "execution_count": 134,
   "metadata": {},
   "outputs": [
    {
     "data": {
      "text/plain": [
       "matrix([[1.10597418e+16-0.j],\n",
       "        [9.45462852e+15-0.j],\n",
       "        [8.18361788e+15-0.j],\n",
       "        ...,\n",
       "        [1.95278121e+16-0.j],\n",
       "        [1.58480896e+16-0.j],\n",
       "        [1.31264510e+16-0.j]])"
      ]
     },
     "execution_count": 134,
     "metadata": {},
     "output_type": "execute_result"
    }
   ],
   "source": [
    "Ps = np.roll(Pot,int(np.rint(sbk/2)+i-1))\n",
    "np.matrix(Ps).getH()"
   ]
  },
  {
   "cell_type": "code",
   "execution_count": 165,
   "metadata": {},
   "outputs": [
    {
     "data": {
      "text/plain": [
       "array([0.+0.j, 0.+0.j], dtype=complex256)"
      ]
     },
     "execution_count": 165,
     "metadata": {},
     "output_type": "execute_result"
    }
   ],
   "source": [
    "np.array([0,0], dtype=np.clongdouble)"
   ]
  },
  {
   "cell_type": "code",
   "execution_count": 166,
   "metadata": {},
   "outputs": [
    {
     "data": {
      "text/plain": [
       "dtype('int64')"
      ]
     },
     "execution_count": 166,
     "metadata": {},
     "output_type": "execute_result"
    }
   ],
   "source": [
    "np.array([,0]).dtype"
   ]
  },
  {
   "cell_type": "code",
   "execution_count": 168,
   "metadata": {},
   "outputs": [
    {
     "data": {
      "text/plain": [
       "(0j, 0.0)"
      ]
     },
     "execution_count": 168,
     "metadata": {},
     "output_type": "execute_result"
    }
   ],
   "source": [
    "np.clongdouble(0), float(0)"
   ]
  },
  {
   "cell_type": "code",
   "execution_count": null,
   "metadata": {},
   "outputs": [],
   "source": [
    "###\n",
    "\n",
    "# check douple(kappa)\n",
    "# check .* vs *\n",
    "# outer, matrix, getH()\n",
    "\n",
    "# .* elememt by element and * matrix mult"
   ]
  },
  {
   "cell_type": "code",
   "execution_count": 27,
   "metadata": {},
   "outputs": [
    {
     "name": "stdout",
     "output_type": "stream",
     "text": [
      "iter 0\n",
      "I 1.514854951942437e+18\n",
      "iter 1\n",
      "I 1.514854951942437e+18\n"
     ]
    }
   ],
   "source": [
    "#BK=np.outer(np.matrix(hbar*Ex/(D**2+Ex**2)).getH(),kk) + np.outer(np.matrix(hbar*D/(D**2+Ex**2)).getH(),kappa)\n",
    "BK=np.outer((hbar*Ex/(D**2+Ex**2)).conjugate(),kk) + np.outer((hbar*D/(D**2+Ex**2)).conjugate(),kappa)\n",
    "newBK1=BK;\n",
    "Pot = np.zeros(sbk)\n",
    "for j in range(2): # 12 and 17 and 22 and 27 and 32 and 37 \n",
    "    Pzint = newBK1\n",
    "    Pview = newBK1\n",
    "    sbk = len(BK)\n",
    "    if j/5==1 or j/5==2 or j/5==3 or j/5==4 or j/5==5:\n",
    "        print(j)\n",
    "    for i in range(sbk):\n",
    "        #Pot=np.nansum(Pzint,1)+I \n",
    "\n",
    "        if j==0:\n",
    "            shifter = Ex[i]-hbar*(wx)+hbar*dw/2\n",
    "            sI = (1/np.pi)*(D/(D**2+shifter**2))\n",
    "            Pzint[i,:] = BK[i,:]*sI*dw #newBK2\n",
    "#             print(\"here 1\")\n",
    "#             print(Pzint)\n",
    "\n",
    "        else:\n",
    "            Ps = np.roll(Pot,int(np.rint(sbk/2)+i-1))\n",
    "            #Pview[i,:] = np.matrix(Ps).getH()\n",
    "            Pzint[i,:] = BK[i,:]*np.matrix(Ps).getH()*dw # newBK2\n",
    "#             print(\"here 2\")\n",
    "#             print(Pzint)\n",
    "            \n",
    "            if i<np.rint(sbk/2):\n",
    "                Pzint[i][int(np.rint(sbk/2)+i):sbk]=0\n",
    "            elif i>np.rint(sbk/2):\n",
    "                Pzint[i][1:i-int(np.rint(sbk/2))]=0\n",
    "    print(\"iter\",j) #,\"Pzint\",Pzint)\n",
    "#     print(\"Pzint sum\",np.sum(abs(Pzint)))\n",
    "#     print(\"Pzint nansum dim = 0, 1\",np.nansum(Pzint,0), np.nansum(Pzint,1))\n",
    "#     print(\"I\", np.sum(abs(I)))\n",
    "\n",
    "#     Pot_temp = Pot\n",
    "    Pot=np.nansum(Pzint,0)+I.conjugate()\n",
    "#     assert Pot_temp.all() != Pot.all(), \"woah, Pot_temp is the same as Pot\"\n"
   ]
  },
  {
   "cell_type": "code",
   "execution_count": 24,
   "metadata": {},
   "outputs": [],
   "source": [
    "np.nansum?"
   ]
  },
  {
   "cell_type": "code",
   "execution_count": 11,
   "metadata": {},
   "outputs": [
    {
     "data": {
      "text/plain": [
       "Text(0.5, 1.0, '18 iters, T=0.5')"
      ]
     },
     "execution_count": 11,
     "metadata": {},
     "output_type": "execute_result"
    },
    {
     "data": {
      "image/png": "[encoded data removed]",
      "text/plain": [
       "<Figure size 640x480 with 1 Axes>"
      ]
     },
     "metadata": {},
     "output_type": "display_data"
    }
   ],
   "source": [
    "plt.plot(wx,Pot.real)\n",
    "plt.title('18 iters, T=0.5')"
   ]
  },
  {
   "cell_type": "code",
   "execution_count": 9,
   "metadata": {},
   "outputs": [
    {
     "data": {
      "text/plain": [
       "Text(0.5, 1.0, '18 iters, T=0.5')"
      ]
     },
     "execution_count": 9,
     "metadata": {},
     "output_type": "execute_result"
    },
    {
     "data": {
      "image/png": "[encoded data removed]",
      "text/plain": [
       "<Figure size 640x480 with 1 Axes>"
      ]
     },
     "metadata": {},
     "output_type": "display_data"
    }
   ],
   "source": [
    "plt.plot(wx,Pot.real)\n",
    "plt.title('18 iters, T=0.5')"
   ]
  },
  {
   "cell_type": "code",
   "execution_count": null,
   "metadata": {},
   "outputs": [],
   "source": []
  }
 ],
 "metadata": {
  "kernelspec": {
   "display_name": "Python 3 (ipykernel)",
   "language": "python",
   "name": "python3"
  },
  "language_info": {
   "codemirror_mode": {
    "name": "ipython",
    "version": 3
   },
   "file_extension": ".py",
   "mimetype": "text/x-python",
   "name": "python",
   "nbconvert_exporter": "python",
   "pygments_lexer": "ipython3",
   "version": "3.9.6"
  }
 },
 "nbformat": 4,
 "nbformat_minor": 2
}
