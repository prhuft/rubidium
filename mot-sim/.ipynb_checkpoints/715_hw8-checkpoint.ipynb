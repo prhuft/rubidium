{
 "cells": [
  {
   "cell_type": "code",
   "execution_count": 100,
   "metadata": {},
   "outputs": [],
   "source": [
    "\"\"\" 715 HW #8, Preston Huft\"\"\"\n",
    "import numpy as np\n",
    "import math as m\n",
    "import matplotlib.pyplot as plt "
   ]
  },
  {
   "cell_type": "code",
   "execution_count": 147,
   "metadata": {},
   "outputs": [],
   "source": [
    "# 2A\n",
    "# def Zpbc(n):\n",
    "#     z=1\n",
    "#     for j in np.linspace(0,int(n/2-1),num=int(n/2)):\n",
    "#         for l in np.linspace(0,int(n/2-1),num=int(n/2)):\n",
    "#             if l+j != 0:\n",
    "#                 z*=4*(m.sin(2*m.pi*j/n)**2+m.sin(2*m.pi*l/n)**2)\n",
    "#     return z\n",
    "\n",
    "# def Zd(n):\n",
    "#     z=1\n",
    "#     for j in np.linspace(1,int(n/2),num=int(n/2)):\n",
    "#         for l in np.linspace(1,int(n/2),num=int(n/2)):\n",
    "#                 z*=4*(m.sin(m.pi*(j-.5)/(n+1))**2+m.sin(m.pi*(l-.5)/(n+1))**2)\n",
    "#     return z\n",
    "\n",
    "#new approach\n",
    "def Zpbc(n):\n",
    "    \"\"\"returns ln(Zpbc(n))\"\"\"\n",
    "    Cpj = np.empty(int(n/2))\n",
    "    for j in range(0,int(n/2)):\n",
    "        Cpj[j]=4*m.sin(2*m.pi*j/n)**2\n",
    "    Cpl = np.empty(int(n/2))\n",
    "    for l in range(0,int(n/2)):\n",
    "        Cpl[l]=4*m.sin(2*m.pi*l/n)**2\n",
    "    z = 0\n",
    "    for j in Cpj:\n",
    "        for l in Cpl:\n",
    "            if l+j != 0:\n",
    "                z+=m.log(j+l)\n",
    "    return z\n",
    "\n",
    "def Zd(n):\n",
    "    \"\"\"returns ln(Zd(n))\"\"\"\n",
    "    Cdj = np.empty(int(n/2))\n",
    "    for j in range(1,int(n/2)+1):\n",
    "        Cdj[j-1]=4*m.sin(m.pi*(j-.5)/(n+1))**2\n",
    "    Cdl = np.empty(int(n/2))\n",
    "    for l in range(1,int(n/2)+1):\n",
    "        Cdl[l-1]=4*m.sin(m.pi*(l-.5)/(n+1))**2\n",
    "    z=0\n",
    "    for j in Cdj:\n",
    "        for l in Cdl:\n",
    "            if l+j != 0:\n",
    "                z+=m.log(j+l)\n",
    "    return z\n",
    "    "
   ]
  },
  {
   "cell_type": "code",
   "execution_count": 148,
   "metadata": {},
   "outputs": [
    {
     "name": "stdout",
     "output_type": "stream",
     "text": [
      "n = 4, zpbc = 0.9526939145078258, zd = 0.7036222981908505\n",
      "n = 8, zpbc = 0.9982820196543071, zd = 0.8040316973927841\n",
      "n = 16, zpbc = 0.9539574311435015, zd = 0.8586801368739070\n",
      "n = 32, zpbc = 0.9297361454585013, zd = 0.8870023512443940\n",
      "n = 64, zpbc = 0.9204726537111962, zd = 0.9014044849370128\n",
      "n = 128, zpbc = 0.9173582484204982, zd = 0.9086652105043209\n"
     ]
    },
    {
     "data": {
      "image/png": "[encoded data removed]",
      "text/plain": [
       "<matplotlib.figure.Figure at 0x6a932f0>"
      ]
     },
     "metadata": {},
     "output_type": "display_data"
    }
   ],
   "source": [
    "n_list = [4,8,16,32,64,128]\n",
    "zp_list = np.empty(6)\n",
    "zd_list = np.empty(6)\n",
    "i = 0\n",
    "for n in n_list:\n",
    "    zp = m.pi*Zpbc(n)/n**2\n",
    "    zd = m.pi*Zd(n)/n**2\n",
    "    zp_list[i],zd_list[i] = zp,zd\n",
    "    i+=1\n",
    "    print('n = %s, zpbc = %.16f, zd = %.16f' % (n,zp,zd))\n",
    "\n",
    "plt.scatter(n_list,zp_list,c='r')\n",
    "plt.scatter(n_list,zd_list,c='b')\n",
    "\n",
    "plt.show()"
   ]
  }
 ],
 "metadata": {
  "kernelspec": {
   "display_name": "Python 3",
   "language": "python",
   "name": "python3"
  },
  "language_info": {
   "codemirror_mode": {
    "name": "ipython",
    "version": 3
   },
   "file_extension": ".py",
   "mimetype": "text/x-python",
   "name": "python",
   "nbconvert_exporter": "python",
   "pygments_lexer": "ipython3",
   "version": "3.6.1"
  }
 },
 "nbformat": 4,
 "nbformat_minor": 2
}
