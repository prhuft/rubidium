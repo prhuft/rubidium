{
 "cells": [
  {
   "cell_type": "markdown",
   "metadata": {},
   "source": [
    "\"\"\" Rb Rydberg Rabi oscillations\n",
    "    Preston Huft, May 2019    \n",
    "    I think Mark's result for three level rate eqs is incorrect...\n",
    "\"\"\""
   ]
  },
  {
   "cell_type": "code",
   "execution_count": 1,
   "metadata": {},
   "outputs": [],
   "source": [
    "import numpy as np\n",
    "from matplotlib import pyplot as plt\n",
    "from scipy.integrate import complex_ode,odeint\n",
    "from scipy.integrate import solve_ivp\n",
    "import sympy\n",
    "from sympy import MatrixSymbol,MatAdd,MatMul,Identity,I,Matrix,symbols\n",
    "from sympy.utilities.lambdify import lambdify, implemented_function\n",
    "from sympy.utilities.iterables import flatten\n",
    "import time\n",
    "from math import pi,sqrt"
   ]
  },
  {
   "cell_type": "code",
   "execution_count": 2,
   "metadata": {},
   "outputs": [],
   "source": [
    "## physical constants\n",
    "e = 1.60217662e-19 # [C]\n",
    "a0 = 5.22e-11 # [m]\n",
    "hbar = 1.0545718e-34 # [J s]\n",
    "c = 3e8 # [m]\n",
    "e0 = 8.85418782e-12 # [m^-3 kg^-1 s^4 A^2]"
   ]
  },
  {
   "cell_type": "code",
   "execution_count": 3,
   "metadata": {},
   "outputs": [],
   "source": [
    "###############################################################################\n",
    "## METHODS and GLOBAL PARAMETERS\n",
    "###############################################################################\n",
    "\n",
    "## Methods\n",
    "\n",
    "def cc(z): \n",
    "    return np.conj(z)\n",
    "\n",
    "## \"GLOBAL\" VARIABLES (scope excludes method bodies)\n",
    "\n",
    "threedB = (1-1/np.e) # \"3dB\" down, or ~ 63 % of an initial amplitude"
   ]
  },
  {
   "cell_type": "code",
   "execution_count": 24,
   "metadata": {},
   "outputs": [
    {
     "name": "stdout",
     "output_type": "stream",
     "text": [
      "comp time = 0.002991199493408203[s]\n"
     ]
    },
    {
     "data": {
      "image/png": "[encoded data removed]",
      "text/plain": [
       "<Figure size 432x288 with 1 Axes>"
      ]
     },
     "metadata": {
      "needs_background": "light"
     },
     "output_type": "display_data"
    }
   ],
   "source": [
    "###############################################################################\n",
    "## Two-photon Rabi Oscillations, e.g. to a Rydberg level\n",
    "###############################################################################\n",
    "\n",
    "def Intensity(P,w0,r,A=None,r0=None):\n",
    "    \"\"\" Gaussian beam intensity at radius 'r' for\n",
    "        'P' power\n",
    "        'w0' beam waist\n",
    "        'A' area\n",
    "    \"\"\"\n",
    "    if r0 is None:\n",
    "        r0 = 0\n",
    "    if A is None:\n",
    "        A = pi*w0**2\n",
    "    \n",
    "    return (P/A)*np.exp(-(r-r0)**2/(2*w0**2))\n",
    "\n",
    "def derivs(y0,t,D1,D2,O1,O2):\n",
    "    \"\"\" Returns RHS of optical bloch eqs for current values at time t\"\"\"\n",
    "    c_g,c_r,c_e = y0\n",
    "\n",
    "    # straight out of Mark's notes\n",
    "    D = D1+D2\n",
    "    d = D1-D2\n",
    "    \n",
    "    dcg = 1j*(cc(O1)*c_e-D*c_g)/2\n",
    "    dcr = 1j*(d*c_e+O1*c_g+cc(O2)*c_r)/2\n",
    "    dce = 1j*(D*c_r+O2*c_e)/2\n",
    "\n",
    "    return np.array([dcg,dcr,dce])\n",
    "\n",
    "## test a single Rabi frequency\n",
    "O1 = 2*pi*200 # [MHz]\n",
    "O2 = 2*pi*20 # [MHz]\n",
    "D1 = 2*pi*(-2.07) # [MHz]\n",
    "D2 = 0\n",
    "D = D1+D2 \n",
    "d = D1-D2\n",
    "\n",
    "## initial conditions - system starts in ground state (|F=2,mF=0>)\n",
    "c_g = 1 + 0j\n",
    "c_e = 0 + 0j\n",
    "c_r = 0 + 0j\n",
    "\n",
    "y0 = np.array([c_g,c_r,c_e]) # bundle i.c.\n",
    "\n",
    "fig = plt.figure()\n",
    "ax = fig.add_subplot(111)\n",
    "# ax.set_ylim((0,1))\n",
    "ax.set_title('Rydberg Rabi Oscillations')\n",
    "ax.set_xlabel('t [us]')\n",
    "ax.set_ylabel('Excitation probability')\n",
    "\n",
    "## max pulse duration\n",
    "t_exp = 6e-3 # [us]  ~ pi/2 time we've been using\n",
    "\n",
    "stopwatch = time.time()\n",
    "# func = lambda t,y: derivs(y,t,d,D,O1,O2)\n",
    "func = lambda t,y: derivs(y,t,D1,D2,O1,O2)\n",
    "soln = solve_ivp(func,[0,t_exp],y0,#t_eval=np.linspace(0,t_exp,50),\n",
    "                method='RK45')\n",
    "ctime = time.time()-stopwatch\n",
    "print(f\"comp time = {ctime}[s]\")\n",
    "# ypts = [abs(y)**2 for y in soln.y[2]]\n",
    "# ax.plot(soln.t,ypts)\n",
    "for y in soln.y[:2]:\n",
    "    ax.plot(soln.t,y)\n",
    "\n",
    "\n",
    "# ax.legend(loc='upper right')\n",
    "plt.show()"
   ]
  },
  {
   "cell_type": "code",
   "execution_count": null,
   "metadata": {},
   "outputs": [],
   "source": []
  }
 ],
 "metadata": {
  "kernelspec": {
   "display_name": "Python 3",
   "language": "python",
   "name": "python3"
  },
  "language_info": {
   "codemirror_mode": {
    "name": "ipython",
    "version": 3
   },
   "file_extension": ".py",
   "mimetype": "text/x-python",
   "name": "python",
   "nbconvert_exporter": "python",
   "pygments_lexer": "ipython3",
   "version": "3.7.3"
  }
 },
 "nbformat": 4,
 "nbformat_minor": 2
}
