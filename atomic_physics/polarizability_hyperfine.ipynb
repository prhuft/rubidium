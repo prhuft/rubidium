{
 "cells": [
  {
   "cell_type": "markdown",
   "metadata": {},
   "source": [
    "# Rb87 Polarizability Calcs\n",
    "\n",
    "The tensor polarizability function uses Mark's derived result for linear light polarized along z (to be extended for other polarizations). The vector polarizability is from \"Dynamical polarizability of atoms in arbitrary light fields: \n",
    "general theory and application to cesium\"  by Rauscenbeutel.\n",
    "\n",
    "My scalar shift calculation seems to be wrong maybe. It reproduces the shift of the F=2 levels in Fig. 1 of the Kurseifer PGC paper but is off by about sqrt(1*0.5+1) from the wiki and Delaware (making me doubt the Kurtseifer paper).\n",
    "\n",
    "#### Rules to remember:\n",
    "Scalar shift: no dependence on light polarization <br/>\n",
    "Vector shift: zero for linear light or $j_a=0$ <br/>\n",
    "Tensor shift: non-zero iff $j_a\\geq1$ <br/>"
   ]
  },
  {
   "cell_type": "code",
   "execution_count": 1,
   "metadata": {},
   "outputs": [],
   "source": [
    "# %matplotlib inline\n",
    "\n",
    "#### libraries\n",
    "from numpy import *\n",
    "import matplotlib.pyplot as plt\n",
    "import matplotlib as mpl\n",
    "from arc import *\n",
    "from sympy.physics.wigner import wigner_6j,wigner_3j,clebsch_gordan\n",
    "\n",
    "#### local files\n",
    "import sys, os\n",
    "sys.path.append('..\\\\')\n",
    "sys.path.append('..\\\\utilities')\n",
    "from physconsts import *\n",
    "from rbconsts import *\n",
    "from amophys import * #_testing import * # polarizability functions live here\n",
    "from simfuncs import *\n",
    "\n",
    "# checked\n",
    "SI_to_cgs = lambda alpha: alpha/(4*pi*e0*1e-30)\n",
    "cgs_to_SI = lambda alpha: alpha*(4*pi*e0*1e-30)\n",
    "SI_to_atomic = lambda alpha: alpha/(4*pi*e0*a0**3)\n",
    "atomic_to_SI = lambda alpha: alpha*(4*pi*e0*a0**3)\n",
    "atomic_to_cgs = lambda alpha: SI_to_cgs(atomic_to_SI(alpha))\n",
    "cgs_to_atomic = lambda alpha: SI_to_atomic(cgs_to_SI(alpha))\n",
    "\n",
    "#### other\n",
    "mpl.rcParams.update(mpl.rcParamsDefault)"
   ]
  },
  {
   "cell_type": "markdown",
   "metadata": {},
   "source": [
    "## Verify Scalar Polarizability"
   ]
  },
  {
   "cell_type": "code",
   "execution_count": 2,
   "metadata": {},
   "outputs": [
    {
     "name": "stdout",
     "output_type": "stream",
     "text": [
      "cgs units, 760 nm:\n",
      "mine: -745.1558632410373\n",
      "wiki: -713\n",
      "delaware: -716.4730799679071\n",
      "-----------------------------\n",
      "cgs units, 976 nm:\n",
      "mine: 105.28220039420161\n",
      "wiki: 131\n",
      "delaware: 127.26103021229339\n",
      "-----------------------------\n",
      "cgs units, 1064 nm:\n",
      "mine: 74.93667816872701\n",
      "wiki: 101.5\n",
      "delaware: 106.34431363386321\n"
     ]
    }
   ],
   "source": [
    "# 5S1/2 - compare Delaware database with the wiki and with me. \n",
    "# this comparison is only valid because the FS and HF polarizabilities are the same for J=1/2\n",
    "\n",
    "rb = Rubidium87()\n",
    "\n",
    "nlist = range(4,7)\n",
    "\n",
    "n=5; l=0; j=1/2; f=1\n",
    "\n",
    "omega = 2*pi*c/(760e-9)\n",
    "a0_5S12 = alpha0_hf([n,l,j,f], omega, nlist, atom=rb, I=I)\n",
    "print(\"cgs units, 760 nm:\")\n",
    "print(\"mine:\",SI_to_cgs(a0_5S12))\n",
    "print(\"wiki:\",-713)\n",
    "print(\"delaware:\",atomic_to_cgs(-4835))\n",
    "print('-----------------------------')\n",
    "omega = 2*pi*c/(976e-9)\n",
    "a0_5S12 = alpha0_hf([n,l,j,f], omega, nlist, atom=rb, I=I)\n",
    "print(\"cgs units, 976 nm:\")\n",
    "print(\"mine:\",SI_to_cgs(a0_5S12))\n",
    "print(\"wiki:\",131)\n",
    "print(\"delaware:\",atomic_to_cgs(858.8))\n",
    "print('-----------------------------')\n",
    "omega = 2*pi*c/(1064e-9)\n",
    "a0_5S12 = alpha0_hf([n,l,j,f], omega, nlist, atom=rb, I=I)\n",
    "print(\"cgs units, 1064 nm:\")\n",
    "print(\"mine:\",SI_to_cgs(a0_5S12))\n",
    "print(\"wiki:\",101.5)\n",
    "print(\"delaware:\",atomic_to_cgs(717.647))"
   ]
  },
  {
   "cell_type": "markdown",
   "metadata": {},
   "source": [
    "## Verify Vector Polarizability"
   ]
  },
  {
   "cell_type": "code",
   "execution_count": 3,
   "metadata": {},
   "outputs": [
    {
     "name": "stdout",
     "output_type": "stream",
     "text": [
      "including only the D lines\n",
      "---------------------------\n",
      "SI units\n",
      "mine: 2.496195454546975e-40\n",
      "expected: 2.366e-40\n",
      "including levels n=4-10\n",
      "---------------------------\n",
      "SI units\n",
      "mine: 2.3652314584565764e-40\n",
      "expected: 2.366e-40\n"
     ]
    }
   ],
   "source": [
    "# this reproduces the vector polarizability from \"Measurement and extinction of vector light shifts using interferometry of spinor condensates\"\n",
    "\n",
    "rb = Rubidium87()\n",
    "nlist = range(5,6) # only include the D lines\n",
    "omega = 2*pi*c/1064e-9\n",
    "\n",
    "n=5; l=0; j=1/2; f=1;\n",
    "a1_5S12 = alpha1_hf([n,l,j,f], omega, nlist, atom=rb, I=I)\n",
    "print(\"including only the D lines\\n---------------------------\")\n",
    "print(\"SI units\")\n",
    "print(\"mine:\",a1_5S12)\n",
    "print(\"expected:\",2.366e-40)\n",
    "\n",
    "nlist = range(4,10)\n",
    "\n",
    "n=5; l=0; j=1/2; f=1;\n",
    "a1_5S12 = alpha1_hf([n,l,j,f], omega, nlist, atom=rb, I=I)\n",
    "print(\"including levels n=4-10\\n---------------------------\")\n",
    "print(\"SI units\")\n",
    "print(\"mine:\",a1_5S12)\n",
    "print(\"expected:\",2.366e-40)"
   ]
  },
  {
   "cell_type": "code",
   "execution_count": 4,
   "metadata": {},
   "outputs": [
    {
     "name": "stdout",
     "output_type": "stream",
     "text": [
      "SI: 2.36e-40 C*m^2/V\n",
      "cgs: 2.121062221248842 cm^3\n",
      "atomic units: 14.313637352847254 a0^3\n"
     ]
    }
   ],
   "source": [
    "# test some conversions\n",
    "print(\"SI:\", 2.36e-40, \"C*m^2/V\")\n",
    "print(\"cgs:\", 2.36e-40/(4*pi*e0*1e-30), \"cm^3\")\n",
    "print(\"atomic units:\", 2.36e-40/(4*pi*e0*a0**3), \"a0^3\")"
   ]
  },
  {
   "cell_type": "markdown",
   "metadata": {},
   "source": [
    "## Verify Tensor Polarizability"
   ]
  },
  {
   "cell_type": "code",
   "execution_count": 7,
   "metadata": {},
   "outputs": [
    {
     "data": {
      "image/png": "[encoded data removed]",
      "text/plain": [
       "<Figure size 640x480 with 1 Axes>"
      ]
     },
     "metadata": {},
     "output_type": "display_data"
    }
   ],
   "source": [
    "\"\"\"reproduce values from Kurtseifer PGC paper fig. 1a (PHYSICAL REVIEW A 96, 033406 (2017))\n",
    "the result for linear polarization is correct if I assume that the Kurtseifer paper implicitly\n",
    "chose x to be the quantization axis (i.e. my z is their x). however, the result for sigma \n",
    "polarized light does not agree with theirs. I suspect there is maybe\n",
    "some inconsistency in the way their quantization axis is defined. their \n",
    "sigma polarized light is not an orthogonal state to their pi light, \n",
    "so it should be sigma expressed in, e.g. the x basis. but this would mean\n",
    "uy or ux in the z basis is 0, and the coefficient for the tensor shift \n",
    "vanishes.\"\"\"\n",
    "\n",
    "rb = Rubidium87()\n",
    "nlist = range(4,20)\n",
    "# omega = 2*pi*c/1.064e-6\n",
    "omega = 2*pi*c/851e-9\n",
    "TFORT = 1e-3\n",
    "\n",
    "\n",
    "\"\"\"account for the polarization in the Stark shift\"\"\"\n",
    "# Spherical\n",
    "# u_minus = 0\n",
    "# u_plus = 0\n",
    "# u_0 = 1\n",
    "# C = abs(u_minus)**2 - abs(u_plus)**2 \n",
    "# D = 1 - 3*abs(u_0)**2\n",
    "\n",
    "# Cartesian\n",
    "# ux,uy,uz = (1+0j,0+1j,0+0j)/sqrt(2) # sigma light z in basis\n",
    "# ux,uy,uz = (0+0j,1+0j,0+1j)/sqrt(2) # sigma light x in basis\n",
    "ux,uy,uz = (1+0j,0+0j,0+0j) # x polarized\n",
    "# ux,uy,uz = (0+0j,0+0j,1+0j) # z polarized\n",
    "C = 2*(ux.conjugate()*uy).imag\n",
    "D = 1 - 3*abs(uz)**2\n",
    "\n",
    "# state g = 5S1/2,f=2\n",
    "n=5; l=0; j=1/2; f=2; mf=0;\n",
    "a0_5S12 = alpha0_hf([n,l,j,f], omega, nlist, atom=rb, I=I)\n",
    "a1_5S12 = alpha1_hf([n,l,j,f], omega, nlist, atom=rb, I=I)\n",
    "E = sqrt(4*kB*TFORT/a0_5S12) # get field from ground state shift, which defines trap depth\n",
    "mfg_list = arange(-f,f+1)\n",
    "shifts_g = [-(1/4)*(a0_5S12 + C*(mf/(2*f))*a1_5S12)*E**2/(hbar*1e6*2*pi) for mf in mfg_list]\n",
    "\n",
    "# state e = 5P3/2,f=3\n",
    "n=5; l=1; j=3/2; f=3;\n",
    "a0_5P32 = alpha0_hf([n,l,j,f], omega, nlist, atom=rb, I=I)  \n",
    "a1_5P32 = alpha2_hf([n,l,j,f], omega, nlist, atom=rb, I=I)\n",
    "a2_5P32 = alpha2_hf([n,l,j,f], omega, nlist, atom=rb, I=I)\n",
    "\n",
    "mfe_list = [mf for mf in arange(-f,f+1)]\n",
    "\n",
    "# scalar, vector, tensor AC Stark shift\n",
    "shifts_e = [-1/4*(a0_5P32 + C*(mf/(2*f))*a1_5P32 - D*(3*mf**2-f*(f+1))/(2*f*(2*f-1))*a2_5P32)*E**2/hbar/1e6/2/pi for mf in mfe_list]\n",
    "\n",
    "fig, ax = plt.subplots()\n",
    "ax.scatter(mfe_list, shifts_e, marker='_',linewidths=1)\n",
    "ax.scatter(mfg_list, shifts_g, marker='_',linewidths=1)\n",
    "ax.set_ylim(-25,20)\n",
    "ax.set_ylabel('MHz')\n",
    "ax.set_xlabel('mf')\n",
    "plt.show()"
   ]
  },
  {
   "cell_type": "code",
   "execution_count": null,
   "metadata": {},
   "outputs": [],
   "source": []
  },
  {
   "cell_type": "markdown",
   "metadata": {},
   "source": [
    "## Network experiment\n",
    "summarized from test notebook, with corrections/additions"
   ]
  },
  {
   "cell_type": "markdown",
   "metadata": {},
   "source": [
    "### tensor shift on F=2,F=3' states from a linearly polarized FORT"
   ]
  },
  {
   "cell_type": "code",
   "execution_count": 2,
   "metadata": {},
   "outputs": [
    {
     "data": {
      "image/png": "[encoded data removed]",
      "text/plain": [
       "<Figure size 640x480 with 1 Axes>"
      ]
     },
     "metadata": {},
     "output_type": "display_data"
    }
   ],
   "source": [
    "rb = Rubidium87()\n",
    "nlist = range(4,20)\n",
    "omega = 2*pi*c/852e-9\n",
    "TFORT = 2.1e-3\n",
    "\n",
    "# state g = 5S1/2,f=2\n",
    "n=5; l=0; j=1/2; f=2; mf=0;\n",
    "a05S = alpha0_hf([n,l,j,f], omega, nlist, atom=rb, I=I) #alpha_0\n",
    "\n",
    "E = sqrt(4*kB*TFORT/a05S) # get field from ground state shift, which defines trap depth\n",
    "mfg_list = arange(-f,f+1)\n",
    "scalar_g = [-(1/4)*a05S*E**2/(hbar*1e6*2*pi) for mf in mfg_list]\n",
    "\n",
    "\n",
    "# state e = 5P3/2,f=3\n",
    "n=5; l=1; j=3/2; f=3;\n",
    "a05P = alpha0_hf([n,l,j,f], omega, nlist, atom=rb, I=I)\n",
    "a25P = alpha2_hf([n,l,j,f], omega, nlist, atom=rb, I=I)\n",
    "\n",
    "mfe_list = [mf for mf in arange(-f,f+1)]\n",
    "tensor_e = [-1/4*( a05P+ (3*mf**2-f*(f+1))/(1*f*(2*f-1))*a25P)*E**2/hbar/1e6/2/pi for mf in mfe_list]\n",
    "\n",
    "fig, ax = plt.subplots()\n",
    "ax.scatter(mfe_list, tensor_e, marker='^',linewidths=0.3)\n",
    "ax.scatter(mfg_list, scalar_g, marker='^',linewidths=0.3)\n",
    "# ax.set_ylim(-25,20)\n",
    "ax.set_ylabel('MHz')\n",
    "ax.set_xlabel('mf')\n",
    "plt.show()"
   ]
  },
  {
   "cell_type": "code",
   "execution_count": 18,
   "metadata": {},
   "outputs": [
    {
     "data": {
      "text/plain": [
       "76.40701477438067"
      ]
     },
     "execution_count": 18,
     "metadata": {},
     "output_type": "execute_result"
    }
   ],
   "source": [
    "np.mean(tensor_e) - np.mean(scalar_g)"
   ]
  },
  {
   "cell_type": "code",
   "execution_count": 3,
   "metadata": {},
   "outputs": [
    {
     "data": {
      "image/png": "[encoded data removed]",
      "text/plain": [
       "<Figure size 640x480 with 1 Axes>"
      ]
     },
     "metadata": {},
     "output_type": "display_data"
    }
   ],
   "source": [
    "rb = Rubidium87()\n",
    "nlist = range(4,20)\n",
    "omega = 2*pi*c/852e-9\n",
    "TFORT = 2.1e-3\n",
    "\n",
    "# state g = 5S1/2,f=2\n",
    "n=5; l=0; j=1/2; f=2; mf=0;\n",
    "a05S = alpha0_hf([n,l,j,f], omega, nlist, atom=rb, I=I) #alpha_0\n",
    "\n",
    "E = sqrt(4*kB*TFORT/a05S) # get field from ground state shift, which defines trap depth\n",
    "mfg_list = arange(-f,f+1)\n",
    "scalar_g = [-(1/4)*a05S*E**2/(hbar*1e6*2*pi) for mf in mfg_list]\n",
    "\n",
    "\n",
    "# state e = 5P3/2,f=3\n",
    "n=5; l=1; j=3/2; f=3;\n",
    "a05P = alpha0_hf([n,l,j,f], omega, nlist, atom=rb, I=I)\n",
    "a25P = alpha2_hf([n,l,j,f], omega, nlist, atom=rb, I=I)\n",
    "\n",
    "mfe_list = [mf for mf in arange(-f,f+1)]\n",
    "tensor_e = [-1/4*( a05P+ (3*mf**2-f*(f+1))/(1*f*(2*f-1))*a25P)*E**2/hbar/1e6/2/pi for mf in mfe_list]\n",
    "\n",
    "fig, ax = plt.subplots()\n",
    "ax.scatter(mfe_list, tensor_e, marker='^',linewidths=0.3)\n",
    "ax.scatter(mfg_list, scalar_g, marker='^',linewidths=0.3)\n",
    "ax.set_title(f\"Mean Stark shift from {TFORT*1e3:.2f} mK 852 nm FORT\\n\"+r\"$5S_{1/2},F=2 \\leftrightarrow 5P_{3/2},F=3$:\"+rf\" {(np.mean(tensor_e) - np.mean(scalar_g)):.1f} MHz or {(np.mean(tensor_e) - np.mean(scalar_g))/6.065:.2f}$\\Gamma$\")\n",
    "# ax.set_ylim(-25,20)\n",
    "ax.set_ylabel('MHz')\n",
    "ax.set_xlabel('mf')\n",
    "plt.show()"
   ]
  },
  {
   "cell_type": "code",
   "execution_count": 34,
   "metadata": {},
   "outputs": [
    {
     "data": {
      "text/plain": [
       "2.6241540493305083e-08"
      ]
     },
     "execution_count": 34,
     "metadata": {},
     "output_type": "execute_result"
    }
   ],
   "source": [
    "1/(2*pi*6.065e6)"
   ]
  },
  {
   "cell_type": "code",
   "execution_count": 36,
   "metadata": {},
   "outputs": [
    {
     "data": {
      "text/plain": [
       "6121343.965072897"
      ]
     },
     "execution_count": 36,
     "metadata": {},
     "output_type": "execute_result"
    }
   ],
   "source": [
    "1/(2*pi*26e-9)"
   ]
  },
  {
   "cell_type": "code",
   "execution_count": 29,
   "metadata": {},
   "outputs": [
    {
     "data": {
      "text/plain": [
       "76923076.92307691"
      ]
     },
     "execution_count": 29,
     "metadata": {},
     "output_type": "execute_result"
    }
   ],
   "source": [
    "2/(26e-9)"
   ]
  },
  {
   "cell_type": "code",
   "execution_count": 14,
   "metadata": {},
   "outputs": [
    {
     "data": {
      "text/plain": [
       "10.083406766661916"
      ]
     },
     "execution_count": 14,
     "metadata": {},
     "output_type": "execute_result"
    }
   ],
   "source": [
    "(np.mean(tensor_e) - np.mean(scalar_g))/6.062"
   ]
  },
  {
   "cell_type": "markdown",
   "metadata": {},
   "source": [
    "### differential shift between F=1,F=2 in ground state"
   ]
  },
  {
   "cell_type": "code",
   "execution_count": 9,
   "metadata": {},
   "outputs": [
    {
     "name": "stdout",
     "output_type": "stream",
     "text": [
      "differential shift: -4641.055759489001 kHz\n"
     ]
    }
   ],
   "source": [
    "# compute differential shifts using the polarizabilities\n",
    "\n",
    "rb = Rubidium87()\n",
    "nlist = range(4,25)\n",
    "omega = 2*pi*c/(852e-9)\n",
    "TFORT = 2e-3\n",
    "\n",
    "n1=5; l1=0; j1=1/2; f1=1; mf1=-1;\n",
    "a05S_1 = alpha0_hf([n1,l1,j1,f1], omega, nlist, atom=rb, I=I) #alpha_0\n",
    "\n",
    "n2=5; l2=0; j2=1/2; f2=2; mf=1;\n",
    "a05S_2 = alpha0_hf([n2,l2,j2,f2], omega, nlist, atom=rb, I=I) #alpha_0\n",
    "\n",
    "E = sqrt(4*kB*TFORT/a05S_1) # get field from ground state shift, which defines trap depth\n",
    "diff_shift = -(1/4)*(a05S_2 - a05S_1)*E**2/(hbar*2*pi)\n",
    "\n",
    "print(\"differential shift:\",diff_shift/1e3,\"kHz\")"
   ]
  },
  {
   "cell_type": "code",
   "execution_count": 10,
   "metadata": {},
   "outputs": [
    {
     "name": "stdout",
     "output_type": "stream",
     "text": [
      "diff. shift ~ 9629.682985165979\n"
     ]
    }
   ],
   "source": [
    "# compute the differential shift in a simple-minded way. why is this different by a factor of ~2?\n",
    "d1 = 2*pi*c*(1/794.978850e-9 - 1/852e-9)\n",
    "d2 = 2*pi*c*(1/780.241209e-9 - 1/852e-9)\n",
    "d_eff = 1/((1/d1 + 2/d2)/3) # weighted average of D lines. \n",
    "# see Oscillator strengths of the principal series lines of Rb\", table 3\n",
    "\n",
    "omega_hfs = 2*pi*6.834682e9\n",
    "\n",
    "eta = omega_hfs/d_eff # see \"Analysis of dephasing mechanisms in a standing-wave dipole trap\" by Meschede group\n",
    "diff_shift = eta*TFORT*kB/hbar\n",
    "print(\"diff. shift ~\",diff_shift/(2*pi))"
   ]
  },
  {
   "cell_type": "markdown",
   "metadata": {},
   "source": [
    "### fictious B field from non-zero ellipticity of the FORT polarization"
   ]
  },
  {
   "cell_type": "code",
   "execution_count": 11,
   "metadata": {},
   "outputs": [],
   "source": [
    "rb = Rubidium87()\n",
    "nlist = range(4,20)\n",
    "omega = 2*pi*c/852e-9\n",
    "TFORT = 2.1e-3\n",
    "\n",
    "\"\"\"account for the polarization in the Stark shift\"\"\"\n",
    "\n",
    "n=5; l=0; j=1/2; f=1; mf=0;\n",
    "\n",
    "# my static polarizability calculation is a little off, so use Delaware result\n",
    "# a0_5S12 = alpha0_hf([n,l,j,f], omega, nlist, atom=rb, I=I)\n",
    "a0_5S12 = atomic_to_SI(2080)\n",
    "a1_5S12 = alpha1_hf([n,l,j,f], omega, nlist, atom=rb, I=I)\n",
    "\n",
    "g5S12F1 = -0.5\n",
    "\n",
    "# from Minho's Parallel low-loss measurement paper, Supplemental Eq. 27.\n",
    "# agrees with Rauschenbeutel polarizability paper, Eq. (21) if scalar polarizability\n",
    "# and trap depth are used to eliminate the E field.\n",
    "fictG_per_mK = lambda A: (1/(uB*abs(g5S12F1)))*1e4*1e-3*kB*A*a1_5S12/a0_5S12"
   ]
  },
  {
   "cell_type": "code",
   "execution_count": 19,
   "metadata": {},
   "outputs": [
    {
     "data": {
      "text/plain": [
       "29.775717058442954"
      ]
     },
     "execution_count": 19,
     "metadata": {},
     "output_type": "execute_result"
    }
   ],
   "source": [
    "1e4*1e-3*kB/(uB*abs(g5S12F1))"
   ]
  },
  {
   "cell_type": "code",
   "execution_count": 20,
   "metadata": {},
   "outputs": [
    {
     "data": {
      "text/plain": [
       "Text(0.5, 0, 'Trap circularity')"
      ]
     },
     "execution_count": 20,
     "metadata": {},
     "output_type": "execute_result"
    },
    {
     "data": {
      "image/png": "[encoded data removed]",
      "text/plain": [
       "<Figure size 640x480 with 1 Axes>"
      ]
     },
     "metadata": {},
     "output_type": "display_data"
    }
   ],
   "source": [
    "fig,ax = plt.subplots()\n",
    "circularity = np.linspace(0,1)\n",
    "ax.plot(circularity, fictG_per_mK(circularity)*TFORT, label=f'T_FORT={TFORT:2f}')\n",
    "ax.set_ylabel('B_fictitious (G)')\n",
    "ax.set_xlabel('Trap circularity')"
   ]
  },
  {
   "cell_type": "code",
   "execution_count": 10,
   "metadata": {},
   "outputs": [
    {
     "data": {
      "text/plain": [
       "array([0., 0., 1.])"
      ]
     },
     "execution_count": 10,
     "metadata": {},
     "output_type": "execute_result"
    }
   ],
   "source": [
    "abs(np.cross([1,-1j,0]/sqrt(2),[1,1j,0]/sqrt(2)))"
   ]
  },
  {
   "cell_type": "code",
   "execution_count": 28,
   "metadata": {},
   "outputs": [],
   "source": [
    "# for F=2 ground state\n",
    "\n",
    "rb = Rubidium87()\n",
    "nlist = range(4,20)\n",
    "omega = 2*pi*c/852e-9\n",
    "TFORT = 2.1e-3\n",
    "\n",
    "\"\"\"account for the polarization in the Stark shift\"\"\"\n",
    "# Spherical\n",
    "# u_minus = 0\n",
    "# u_plus = 0\n",
    "# u_0 = 1\n",
    "# C = abs(u_minus)**2 - abs(u_plus)**2 \n",
    "# D = 1 - 3*abs(u_0)**2\n",
    "\n",
    "# Cartesian\n",
    "ux,uy,uz = (1+0j,0+1j,0+0j)/sqrt(2) # sigma light z in basis\n",
    "ux,uy,uz = (0+0j,1+0j,0+1j)/sqrt(2) # sigma light x in basis\n",
    "# ux,uy,uz = (1+0j,0+0j,0+0j) # x polarized\n",
    "ux,uy,uz = (0+0j,0+0j,1+0j) # z polarized\n",
    "C = 2*(ux.conjugate()*uy).imag\n",
    "D = 1 - 3*abs(uz)**2\n",
    "\n",
    "# state g = 5S1/2,f=2\n",
    "n=5; l=0; j=1/2; f=2; mf=0;\n",
    "a0_5S12 = alpha0_hf([n,l,j,f], omega, nlist, atom=rb, I=I)\n",
    "a1_5S12 = alpha1_hf([n,l,j,f], omega, nlist, atom=rb, I=I)\n",
    "\n",
    "g5S12F2 = 0.5\n",
    "\n",
    "# from Minho's Parallel low-loss measurement paper, Supplemental Eq. 27\n",
    "fictG_per_mK = lambda A: (1/(uB*abs(g5S12F1)))*1e4*1e-3*kB*A*a1_5S12/a0_5S12"
   ]
  },
  {
   "cell_type": "code",
   "execution_count": 29,
   "metadata": {},
   "outputs": [
    {
     "data": {
      "text/plain": [
       "2.8119497257503907e-38"
      ]
     },
     "execution_count": 29,
     "metadata": {},
     "output_type": "execute_result"
    }
   ],
   "source": [
    "a0_5S12"
   ]
  },
  {
   "cell_type": "code",
   "execution_count": 30,
   "metadata": {},
   "outputs": [
    {
     "data": {
      "text/plain": [
       "3.433248921192255e-38"
      ]
     },
     "execution_count": 30,
     "metadata": {},
     "output_type": "execute_result"
    }
   ],
   "source": [
    "atomic_to_SI(2082.3)"
   ]
  },
  {
   "cell_type": "code",
   "execution_count": 30,
   "metadata": {},
   "outputs": [
    {
     "data": {
      "text/plain": [
       "3.433248921192255e-38"
      ]
     },
     "execution_count": 30,
     "metadata": {},
     "output_type": "execute_result"
    }
   ],
   "source": [
    "atomic_to_SI(2082.3)"
   ]
  },
  {
   "cell_type": "code",
   "execution_count": 19,
   "metadata": {},
   "outputs": [
    {
     "data": {
      "text/plain": [
       "878734289296997.0"
      ]
     },
     "execution_count": 19,
     "metadata": {},
     "output_type": "execute_result"
    }
   ],
   "source": [
    "a0_5S12/(3.2*1e-53)"
   ]
  },
  {
   "cell_type": "code",
   "execution_count": 18,
   "metadata": {},
   "outputs": [
    {
     "data": {
      "text/plain": [
       "1.1126500563526493e-40"
      ]
     },
     "execution_count": 18,
     "metadata": {},
     "output_type": "execute_result"
    }
   ],
   "source": [
    "4*pi*e0*1e-30"
   ]
  },
  {
   "cell_type": "code",
   "execution_count": 14,
   "metadata": {},
   "outputs": [
    {
     "data": {
      "text/plain": [
       "Text(0.5, 0, 'Trap circularity')"
      ]
     },
     "execution_count": 14,
     "metadata": {},
     "output_type": "execute_result"
    },
    {
     "data": {
      "image/png": "[encoded data removed]",
      "text/plain": [
       "<Figure size 640x480 with 1 Axes>"
      ]
     },
     "metadata": {},
     "output_type": "display_data"
    }
   ],
   "source": [
    "fig,ax = plt.subplots()\n",
    "circularity = np.linspace(0,1)\n",
    "ax.plot(circularity, fictG_per_mK(circularity)*TFORT, label=f'T_FORT={TFORT:2f}')\n",
    "ax.set_ylabel('B_fictitious (G)')\n",
    "ax.set_xlabel('Trap circularity')"
   ]
  },
  {
   "cell_type": "code",
   "execution_count": null,
   "metadata": {},
   "outputs": [],
   "source": []
  },
  {
   "cell_type": "code",
   "execution_count": 18,
   "metadata": {},
   "outputs": [
    {
     "data": {
      "text/plain": [
       "29.775717058442954"
      ]
     },
     "execution_count": 18,
     "metadata": {},
     "output_type": "execute_result"
    }
   ],
   "source": [
    "# reproduce prefactor from Minho's Parallel low-loss measurement paper\n",
    "(1/(uB*abs(g5S12F1)))*1e4*1e-3*kB"
   ]
  },
  {
   "cell_type": "code",
   "execution_count": 16,
   "metadata": {},
   "outputs": [
    {
     "data": {
      "text/plain": [
       "1.3807e-23"
      ]
     },
     "execution_count": 16,
     "metadata": {},
     "output_type": "execute_result"
    }
   ],
   "source": [
    "kB"
   ]
  },
  {
   "cell_type": "code",
   "execution_count": 12,
   "metadata": {},
   "outputs": [
    {
     "data": {
      "text/plain": [
       "9.274e-24"
      ]
     },
     "execution_count": 12,
     "metadata": {},
     "output_type": "execute_result"
    }
   ],
   "source": [
    "uB"
   ]
  },
  {
   "cell_type": "markdown",
   "metadata": {},
   "source": [
    "## Misc tests"
   ]
  },
  {
   "cell_type": "markdown",
   "metadata": {},
   "source": [
    "summarized from test notebook, with corrections/additions"
   ]
  },
  {
   "cell_type": "code",
   "execution_count": 3,
   "metadata": {},
   "outputs": [
    {
     "data": {
      "image/png": "[encoded data removed]",
      "text/plain": [
       "<Figure size 640x480 with 1 Axes>"
      ]
     },
     "metadata": {},
     "output_type": "display_data"
    }
   ],
   "source": [
    "# reproduce values from Kurtseifer PGC paper fig. 1a (PHYSICAL REVIEW A 96, 033406 (2017))\n",
    "# this result gets the correct result but there may be some cancellation of errors here.\n",
    "\n",
    "rb = Rubidium87()\n",
    "nlist = range(4,20)\n",
    "omega = 2*pi*c/851e-9\n",
    "TFORT = 1e-3\n",
    "\n",
    "# state g = 5S1/2,f=2\n",
    "n=5; l=0; j=1/2; f=2; mf=0;\n",
    "# cgs_to_SI(2105.8) #\n",
    "a05S = alpha0_hf([n,l,j,f], omega, nlist, atom=rb, I=I) #alpha_0\n",
    "\n",
    "E = sqrt(4*kB*TFORT/a05S) # get field from ground state shift, which defines trap depth\n",
    "mfg_list = arange(-f,f+1)\n",
    "scalar_g = [-(1/4)*a05S*E**2/(hbar*1e6*2*pi) for mf in mfg_list]\n",
    "\n",
    "\n",
    "# state e = 5P3/2,f=3\n",
    "n=5; l=1; j=3/2; f=3;\n",
    "a05P = alpha0_hf([n,l,j,f], omega, nlist, atom=rb, I=I)\n",
    "a25P = alpha2_hf([n,l,j,f], omega, nlist, atom=rb, I=I)\n",
    "\n",
    "mfe_list = [mf for mf in arange(-f,f+1)]\n",
    "tensor_e = [-1/4*( a05P+ (3*mf**2-f*(f+1))/(1*f*(2*f-1))*a25P)*E**2/hbar/1e6/2/pi for mf in mfe_list]\n",
    "\n",
    "fig, ax = plt.subplots()\n",
    "ax.scatter(mfe_list, tensor_e, marker='^',linewidths=0.3)\n",
    "ax.scatter(mfg_list, scalar_g, marker='^',linewidths=0.3)\n",
    "ax.set_ylim(-25,20)\n",
    "ax.set_ylabel('MHz')\n",
    "ax.set_xlabel('mf')\n",
    "plt.show()"
   ]
  },
  {
   "cell_type": "code",
   "execution_count": 6,
   "metadata": {},
   "outputs": [
    {
     "data": {
      "text/plain": [
       "0.0"
      ]
     },
     "execution_count": 6,
     "metadata": {},
     "output_type": "execute_result"
    }
   ],
   "source": [
    "C"
   ]
  },
  {
   "cell_type": "code",
   "execution_count": 11,
   "metadata": {},
   "outputs": [
    {
     "data": {
      "text/plain": [
       "1"
      ]
     },
     "execution_count": 11,
     "metadata": {},
     "output_type": "execute_result"
    }
   ],
   "source": [
    "D"
   ]
  },
  {
   "cell_type": "code",
   "execution_count": 93,
   "metadata": {},
   "outputs": [
    {
     "data": {
      "image/png": "[encoded data removed]",
      "text/plain": [
       "<Figure size 640x480 with 1 Axes>"
      ]
     },
     "metadata": {},
     "output_type": "display_data"
    }
   ],
   "source": [
    "\"\"\"reproduce values from Kurtseifer PGC paper fig. 1a (PHYSICAL REVIEW A 96, 033406 (2017))\n",
    "the result for linear polarization is correct if I assume that the Kurtseifer paper implicitly\n",
    "chose x to be the quantization axis (i.e. my z is their x). however, the result for sigma \n",
    "polarized light does not agree with theirs. I suspect there is maybe\n",
    "some inconsistency in the way their quantization axis is defined. their \n",
    "sigma polarized light is not an orthogonal state to their pi light, \n",
    "so it should be sigma expressed in, e.g. the x basis. but this would mean\n",
    "uy or ux in the z basis is 0, and the coefficient for the tensor shift \n",
    "vanishes.\"\"\"\n",
    "\n",
    "rb = Rubidium87()\n",
    "nlist = range(4,20)\n",
    "# omega = 2*pi*c/1.064e-6\n",
    "omega = 2*pi*c/851e-9\n",
    "TFORT = 1e-3\n",
    "\n",
    "\n",
    "\"\"\"account for the polarization in the Stark shift\"\"\"\n",
    "# Spherical\n",
    "# u_minus = 0\n",
    "# u_plus = 0\n",
    "# u_0 = 1\n",
    "# C = abs(u_minus)**2 - abs(u_plus)**2 \n",
    "# D = 1 - 3*abs(u_0)**2\n",
    "\n",
    "# Cartesian\n",
    "ux,uy,uz = (1+0j,0+1j,0+0j)/sqrt(2) # sigma light z in basis\n",
    "ux,uy,uz = (0+0j,1+0j,0+1j)/sqrt(2) # sigma light x in basis\n",
    "# ux,uy,uz = (1+0j,0+0j,0+0j) # x polarized\n",
    "ux,uy,uz = (0+0j,0+0j,1+0j) # z polarized\n",
    "C = 2*(ux.conjugate()*uy).imag\n",
    "D = 1 - 3*abs(uz)**2\n",
    "\n",
    "# state g = 5S1/2,f=2\n",
    "n=5; l=0; j=1/2; f=2; mf=0;\n",
    "a0_5S12 = alpha0_hf([n,l,j,f], omega, nlist, atom=rb, I=I)\n",
    "a1_5S12 = alpha1_hf([n,l,j,f], omega, nlist, atom=rb, I=I)\n",
    "E = sqrt(4*kB*TFORT/a0_5S12) # get field from ground state shift, which defines trap depth\n",
    "mfg_list = arange(-f,f+1)\n",
    "shifts_g = [-(1/4)*(a0_5S12 + C*(mf/(2*f))*a1_5S12)*E**2/(hbar*1e6*2*pi) for mf in mfg_list]\n",
    "\n",
    "# state e = 5P3/2,f=3\n",
    "n=5; l=1; j=3/2; f=3;\n",
    "a0_5P32 = alpha0_hf([n,l,j,f], omega, nlist, atom=rb, I=I)  \n",
    "a1_5P32 = alpha2_hf([n,l,j,f], omega, nlist, atom=rb, I=I)\n",
    "a2_5P32 = alpha2_hf([n,l,j,f], omega, nlist, atom=rb, I=I)\n",
    "\n",
    "mfe_list = [mf for mf in arange(-f,f+1)]\n",
    "\n",
    "# scalar, vector, tensor AC Stark shift\n",
    "shifts_e = [-1/4*(a0_5P32 + C*(mf/(2*f))*a1_5P32 - D*(3*mf**2-f*(f+1))/(2*f*(2*f-1))*a2_5P32)*E**2/hbar/1e6/2/pi for mf in mfe_list]\n",
    "\n",
    "fig, ax = plt.subplots()\n",
    "ax.scatter(mfe_list, shifts_e, marker='_',linewidths=1)\n",
    "ax.scatter(mfg_list, shifts_g, marker='_',linewidths=1)\n",
    "ax.set_ylim(-25,20)\n",
    "ax.set_ylabel('MHz')\n",
    "ax.set_xlabel('mf')\n",
    "plt.show()"
   ]
  },
  {
   "cell_type": "code",
   "execution_count": 84,
   "metadata": {},
   "outputs": [
    {
     "data": {
      "image/png": "[encoded data removed]",
      "text/plain": [
       "<Figure size 640x480 with 1 Axes>"
      ]
     },
     "metadata": {},
     "output_type": "display_data"
    }
   ],
   "source": [
    "rb = Rubidium87()\n",
    "nlist = range(4,20)\n",
    "omega = 2*pi*c/1.064e-6 # for Omar's paper\n",
    "TFORT = 2.5e-3\n",
    "\n",
    "\"\"\"account for the polarization in the Stark shift\"\"\"\n",
    "# Spherical\n",
    "# u_minus = 0\n",
    "# u_plus = 0\n",
    "# u_0 = 1\n",
    "# C = abs(u_minus)**2 - abs(u_plus)**2 \n",
    "# D = 1 - 3*abs(u_0)**2\n",
    "\n",
    "# Cartesian\n",
    "# ux,uy,uz = (1+0j,0+1j,0+0j)/sqrt(2) # sigma light z in basis\n",
    "# ux,uy,uz = (1+0j,0+0j,0+0j) # x polarized\n",
    "ux,uy,uz = (0+0j,0+0j,1+0j) # z polarized\n",
    "C = 2*(ux.conjugate()*uy).imag\n",
    "D = 1 - 3*abs(uz)**2\n",
    "\n",
    "# state g = 5S1/2,f=2\n",
    "n=5; l=0; j=1/2; f=2; mf=0;\n",
    "a0_5S12 = alpha0_hf([n,l,j,f], omega, nlist, atom=rb, I=I)\n",
    "a1_5S12 = alpha1_hf([n,l,j,f], omega, nlist, atom=rb, I=I)\n",
    "E = sqrt(4*kB*TFORT/a0_5S12) # get field from ground state shift, which defines trap depth\n",
    "mfg_list = arange(-f,f+1)\n",
    "shifts_g = [-(1/4)*(a0_5S12 + C*(mf/(2*f))*a1_5S12)*E**2/(hbar*1e6*2*pi) for mf in mfg_list]\n",
    "\n",
    "# state e = 5P3/2,f=3\n",
    "n=5; l=1; j=3/2; f=3;\n",
    "a0_5P32 = alpha0_hf([n,l,j,f], omega, nlist, atom=rb, I=I)  \n",
    "a1_5P32 = alpha2_hf([n,l,j,f], omega, nlist, atom=rb, I=I)\n",
    "a2_5P32 = alpha2_hf([n,l,j,f], omega, nlist, atom=rb, I=I)\n",
    "\n",
    "mfe_list = [mf for mf in arange(-f,f+1)]\n",
    "\n",
    "# scalar, vector, tensor AC Stark shift\n",
    "shifts_e = [-1/4*(a0_5P32 + C*(mf/(2*f))*a1_5P32 - D*(3*mf**2-f*(f+1))/(2*f*(2*f-1))*a2_5P32)*E**2/hbar/1e6/2/pi for mf in mfe_list]\n",
    "# shifts_e = [-1/4*( a05P + D*(3*mf**2-f*(f+1))/(f*(2*f-1))*a25P)*E**2/hbar/1e6/2/pi for mf in mfe_list]\n",
    "\n",
    "fig, ax = plt.subplots()\n",
    "ax.scatter(mfe_list, shifts_e, marker='^',linewidths=0.3)\n",
    "ax.scatter(mfg_list, shifts_g, marker='^',linewidths=0.3)\n",
    "# ax.set_ylim(-25,20)\n",
    "ax.set_ylabel('MHz')\n",
    "ax.set_xlabel('mf')\n",
    "plt.show()"
   ]
  },
  {
   "cell_type": "code",
   "execution_count": 70,
   "metadata": {},
   "outputs": [
    {
     "data": {
      "text/plain": [
       "[0.7740553326889479,\n",
       " 0.9087083483404477,\n",
       " 0.8144778383586881,\n",
       " 0.8287830587107669,\n",
       " 0.8144778383586881,\n",
       " 0.9087083483404477,\n",
       " 0.7740553326889479]"
      ]
     },
     "execution_count": 70,
     "metadata": {},
     "output_type": "execute_result"
    }
   ],
   "source": [
    "[x/y for x,y in zip(np.array(shifts_e),np.array([50,100,150,160,150,100,50]))]"
   ]
  },
  {
   "cell_type": "code",
   "execution_count": 86,
   "metadata": {},
   "outputs": [
    {
     "data": {
      "text/plain": [
       "(52.16806819959738, 83.46890911935583, 93.90252275927531)"
      ]
     },
     "execution_count": 86,
     "metadata": {},
     "output_type": "execute_result"
    }
   ],
   "source": [
    "shifts_e[1]-shifts_e[0],shifts_e[2]-shifts_e[0],shifts_e[3]-shifts_e[0]"
   ]
  },
  {
   "cell_type": "code",
   "execution_count": 4,
   "metadata": {},
   "outputs": [
    {
     "name": "stdout",
     "output_type": "stream",
     "text": [
      "dipole trap power 0.84mW for waist 0.75um\n",
      "mean differential shift = 30.41MHz blue of 5S1/2,F=2 - 5P3/2,F=3\n"
     ]
    },
    {
     "data": {
      "image/png": "[encoded data removed]",
      "text/plain": [
       "<Figure size 640x480 with 1 Axes>"
      ]
     },
     "metadata": {},
     "output_type": "display_data"
    }
   ],
   "source": [
    "# quantum network experiment, circa Sept. 2023\n",
    "rb = Rubidium87()\n",
    "nlist = range(4,20)\n",
    "omega = 2*pi*c/852e-9\n",
    "TFORT = 1e-3\n",
    "\n",
    "# state g = 5S1/2,f=2\n",
    "n=5; l=0; j=1/2; f=2; mf=0;\n",
    "a05S = alpha0_hf([n,l,j,f], omega, nlist, atom=rb, I=I) #alpha_0\n",
    "E = sqrt(4*kB*TFORT/a05S) # get field from ground state shift, which defines trap depth\n",
    "w0 = 7.5e-7\n",
    "I0 = 0.5*e0*c*E**2\n",
    "P = 0.5*I0*pi*w0**2\n",
    "print(f\"dipole trap power {P*1e3:.2f}mW for waist {w0*1e6:.2f}um\")\n",
    "mfg_list = arange(-f,f+1)\n",
    "scalar_g = [-(1/4)*a05S*E**2/(hbar*1e6*2*pi) for mf in mfg_list]\n",
    "\n",
    "# state e = 5P3/2,f=3\n",
    "n=5; l=1; j=3/2; f=3;\n",
    "a05P = alpha0_hf([n,l,j,f], omega, nlist, atom=rb, I=I)  \n",
    "a25P = alpha2_hf([n,l,j,f], omega, nlist, atom=rb, I=I)\n",
    "\n",
    "mfe_list = [mf for mf in arange(-f,f+1)]\n",
    "tensor_e = [-1/4*( a05P + (3*mf**2-f*(f+1))/(1*f*(2*f-1))*a25P)*E**2/hbar/1e6/2/pi for mf in mfe_list]\n",
    "\n",
    "mean_diff_shift_MHz = np.mean(tensor_e) - np.mean(scalar_g)\n",
    "print(f\"mean differential shift = {mean_diff_shift_MHz:.2f}MHz blue of 5S1/2,F=2 - 5P3/2,F=3\")\n",
    "\n",
    "fig, ax = plt.subplots()\n",
    "ax.scatter(mfe_list, tensor_e, marker='_',linewidths=2,label=r'$5P_{3/2},F=3$')\n",
    "ax.scatter(mfg_list, scalar_g, marker='_',linewidths=2,label=r'$5S_{1/2},F=2$')\n",
    "# ax.set_ylim(-25,20)\n",
    "ax.set_ylabel('MHz')\n",
    "ax.set_xlabel('mf')\n",
    "ax.legend()\n",
    "plt.show()"
   ]
  },
  {
   "cell_type": "code",
   "execution_count": 34,
   "metadata": {},
   "outputs": [
    {
     "name": "stdout",
     "output_type": "stream",
     "text": [
      "dipole trap power 2.30mW for waist 0.75um\n",
      "mean differential shift = 30.56MHz blue of 5S1/2,F=2 - 5P3/2,F=3\n"
     ]
    },
    {
     "data": {
      "image/png": "[encoded data removed]",
      "text/plain": [
       "<Figure size 640x480 with 1 Axes>"
      ]
     },
     "metadata": {},
     "output_type": "display_data"
    }
   ],
   "source": [
    "# we don't know exactly how much 852 power couples into the fiber, so let's say it's 50% +30%/-20%\n",
    "rb = Rubidium87()\n",
    "nlist = range(4,20)\n",
    "omega = 2*pi*c/852e-9\n",
    "TFORT = 1e-3\n",
    "\n",
    "# state g = 5S1/2,f=2\n",
    "n=5; l=0; j=1/2; f=2; mf=0;\n",
    "a05S = alpha0_hf([n,l,j,f], omega, nlist, atom=rb, I=I) #alpha_0\n",
    "\n",
    "E = sqrt(4*kB*TFORT/a05S) # get field from ground state shift, which defines trap depth\n",
    "w0 = 7.5e-7\n",
    "I0 = 0.5*e0*c*E**2\n",
    "P = 0.5*I0*pi*w0**2\n",
    "print(f\"dipole trap power {P*1e3:.2f}mW for waist {w0*1e6:.2f}um\")\n",
    "mfg_list = arange(-f,f+1)\n",
    "scalar_g = [-(1/4)*a05S*E**2/(hbar*1e6*2*pi) for mf in mfg_list]\n",
    "\n",
    "# state e = 5P3/2,f=3\n",
    "n=5; l=1; j=3/2; f=3;\n",
    "a05P = alpha0_hf([n,l,j,f], omega, nlist, atom=rb, I=I)  \n",
    "a25P = alpha2_hf([n,l,j,f], omega, nlist, atom=rb, I=I)\n",
    "\n",
    "mfe_list = [mf for mf in arange(-f,f+1)]\n",
    "tensor_e = [-1/4*( a05P + (3*mf**2-f*(f+1))/(1*f*(2*f-1))*a25P)*E**2/hbar/1e6/2/pi for mf in mfe_list]\n",
    "\n",
    "mean_diff_shift_MHz = np.mean(tensor_e) - np.mean(scalar_g)\n",
    "print(f\"mean differential shift = {mean_diff_shift_MHz:.2f}MHz blue of 5S1/2,F=2 - 5P3/2,F=3\")\n",
    "\n",
    "fig, ax = plt.subplots()\n",
    "ax.scatter(mfe_list, tensor_e, marker='_',linewidths=2,label=r'$5P_{3/2},F=3$')\n",
    "ax.scatter(mfg_list, scalar_g, marker='_',linewidths=2,label=r'$5S_{1/2},F=2$')\n",
    "# ax.set_ylim(-25,20)\n",
    "ax.set_ylabel('MHz')\n",
    "ax.set_xlabel('mf')\n",
    "ax.legend()\n",
    "plt.show()"
   ]
  },
  {
   "cell_type": "markdown",
   "metadata": {
    "jp-MarkdownHeadingCollapsed": true
   },
   "source": [
    "## misc Rb "
   ]
  },
  {
   "cell_type": "code",
   "execution_count": 112,
   "metadata": {},
   "outputs": [],
   "source": [
    "# atom\n",
    "rb = Rubidium87()"
   ]
  },
  {
   "cell_type": "code",
   "execution_count": 132,
   "metadata": {
    "scrolled": true
   },
   "outputs": [
    {
     "data": {
      "image/png": "[encoded data removed]",
      "text/plain": [
       "<Figure size 640x480 with 1 Axes>"
      ]
     },
     "metadata": {},
     "output_type": "display_data"
    }
   ],
   "source": [
    "# 5S1/2,f=0\n",
    "n=5; l=0; j=1/2; f=1; mf=0;\n",
    "\n",
    "nlist = range(4,50)\n",
    "a0 = lambda l: alpha0_hf([n,l,j,f], (2*pi*c/l*1e-9), nlist, atom=rb, I=I)\n",
    "lambda_arr,a0_pts = smart_pts(a0,[600,1000],default_res=1000,alpha=2,dx_test=0.00001)\n",
    "\n",
    "fig, ax = plt.subplots()\n",
    "ax.scatter(lambda_arr,a0_pts/(4*pi*e0*1e-30))\n",
    "# ax.set_ylim((-6000,6000))\n",
    "ax.set_ylabel(\"alpha0 5S1/2 [Angstrom^3]\")\n",
    "ax.set_xlabel(\"lambda [nm]\")\n",
    "plt.show()"
   ]
  },
  {
   "cell_type": "code",
   "execution_count": 133,
   "metadata": {},
   "outputs": [
    {
     "data": {
      "text/plain": [
       "1002"
      ]
     },
     "execution_count": 133,
     "metadata": {},
     "output_type": "execute_result"
    }
   ],
   "source": [
    "len(lambda_arr)"
   ]
  },
  {
   "cell_type": "code",
   "execution_count": 1,
   "metadata": {},
   "outputs": [
    {
     "ename": "NameError",
     "evalue": "name 'linspace' is not defined",
     "output_type": "error",
     "traceback": [
      "\u001b[1;31m---------------------------------------------------------------------------\u001b[0m",
      "\u001b[1;31mNameError\u001b[0m                                 Traceback (most recent call last)",
      "\u001b[1;32m<ipython-input-1-106b24829ebe>\u001b[0m in \u001b[0;36m<module>\u001b[1;34m\u001b[0m\n\u001b[0;32m      2\u001b[0m \u001b[1;33m\u001b[0m\u001b[0m\n\u001b[0;32m      3\u001b[0m \u001b[0mnlist\u001b[0m \u001b[1;33m=\u001b[0m \u001b[0mrange\u001b[0m\u001b[1;33m(\u001b[0m\u001b[1;36m4\u001b[0m\u001b[1;33m,\u001b[0m\u001b[1;36m50\u001b[0m\u001b[1;33m)\u001b[0m\u001b[1;33m\u001b[0m\u001b[1;33m\u001b[0m\u001b[0m\n\u001b[1;32m----> 4\u001b[1;33m \u001b[0momega_list\u001b[0m \u001b[1;33m=\u001b[0m \u001b[1;33m[\u001b[0m\u001b[1;36m2\u001b[0m\u001b[1;33m*\u001b[0m\u001b[0mpi\u001b[0m\u001b[1;33m*\u001b[0m\u001b[0mc\u001b[0m\u001b[1;33m/\u001b[0m\u001b[1;33m(\u001b[0m\u001b[0ml\u001b[0m\u001b[1;33m*\u001b[0m\u001b[1;36m1e-9\u001b[0m\u001b[1;33m)\u001b[0m \u001b[1;32mfor\u001b[0m \u001b[0ml\u001b[0m \u001b[1;32min\u001b[0m \u001b[0mlinspace\u001b[0m\u001b[1;33m(\u001b[0m\u001b[1;36m800\u001b[0m\u001b[1;33m,\u001b[0m\u001b[1;36m1000\u001b[0m\u001b[1;33m,\u001b[0m\u001b[1;36m300\u001b[0m\u001b[1;33m)\u001b[0m\u001b[1;33m]\u001b[0m\u001b[1;33m\u001b[0m\u001b[1;33m\u001b[0m\u001b[0m\n\u001b[0m\u001b[0;32m      5\u001b[0m \u001b[1;33m\u001b[0m\u001b[0m\n\u001b[0;32m      6\u001b[0m \u001b[1;31m# 5S1/2,f=1\u001b[0m\u001b[1;33m\u001b[0m\u001b[1;33m\u001b[0m\u001b[1;33m\u001b[0m\u001b[0m\n",
      "\u001b[1;31mNameError\u001b[0m: name 'linspace' is not defined"
     ]
    }
   ],
   "source": [
    "## polarizability plot\n",
    "\n",
    "nlist = range(4,50)\n",
    "omega_list = [2*pi*c/(l*1e-9) for l in linspace(800,1000,300)]\n",
    "\n",
    "# 5S1/2,f=1\n",
    "n=5; l=0; j=1/2; f=1; mf=0;\n",
    "a05Spts = [alpha0_hf([n,l,j,f], omega, nlist, atom=rb, I=I) for omega in omega_list] #alpha_0"
   ]
  },
  {
   "cell_type": "code",
   "execution_count": 2,
   "metadata": {},
   "outputs": [
    {
     "ename": "NameError",
     "evalue": "name 'plt' is not defined",
     "output_type": "error",
     "traceback": [
      "\u001b[1;31m---------------------------------------------------------------------------\u001b[0m",
      "\u001b[1;31mNameError\u001b[0m                                 Traceback (most recent call last)",
      "\u001b[1;32m<ipython-input-2-42e32c505229>\u001b[0m in \u001b[0;36m<module>\u001b[1;34m\u001b[0m\n\u001b[1;32m----> 1\u001b[1;33m \u001b[0mfig\u001b[0m\u001b[1;33m,\u001b[0m \u001b[0max\u001b[0m \u001b[1;33m=\u001b[0m \u001b[0mplt\u001b[0m\u001b[1;33m.\u001b[0m\u001b[0msubplots\u001b[0m\u001b[1;33m(\u001b[0m\u001b[1;33m)\u001b[0m\u001b[1;33m\u001b[0m\u001b[1;33m\u001b[0m\u001b[0m\n\u001b[0m\u001b[0;32m      2\u001b[0m \u001b[0mlambda_arr\u001b[0m \u001b[1;33m=\u001b[0m \u001b[0marray\u001b[0m\u001b[1;33m(\u001b[0m\u001b[1;33m[\u001b[0m\u001b[1;36m2\u001b[0m\u001b[1;33m*\u001b[0m\u001b[0mpi\u001b[0m\u001b[1;33m*\u001b[0m\u001b[0mc\u001b[0m\u001b[1;33m/\u001b[0m\u001b[0momega\u001b[0m \u001b[1;32mfor\u001b[0m \u001b[0momega\u001b[0m \u001b[1;32min\u001b[0m \u001b[0momega_list\u001b[0m\u001b[1;33m]\u001b[0m\u001b[1;33m)\u001b[0m\u001b[1;33m\u001b[0m\u001b[1;33m\u001b[0m\u001b[0m\n\u001b[0;32m      3\u001b[0m \u001b[0max\u001b[0m\u001b[1;33m.\u001b[0m\u001b[0mplot\u001b[0m\u001b[1;33m(\u001b[0m\u001b[0mlambda_arr\u001b[0m\u001b[1;33m/\u001b[0m\u001b[1;36m1e-9\u001b[0m\u001b[1;33m,\u001b[0m\u001b[0marray\u001b[0m\u001b[1;33m(\u001b[0m\u001b[0ma05Spts\u001b[0m\u001b[1;33m)\u001b[0m\u001b[1;33m/\u001b[0m\u001b[1;33m(\u001b[0m\u001b[1;36m4\u001b[0m\u001b[1;33m*\u001b[0m\u001b[0mpi\u001b[0m\u001b[1;33m*\u001b[0m\u001b[0me0\u001b[0m\u001b[1;33m*\u001b[0m\u001b[1;36m1e-30\u001b[0m\u001b[1;33m)\u001b[0m\u001b[1;33m)\u001b[0m\u001b[1;33m\u001b[0m\u001b[1;33m\u001b[0m\u001b[0m\n\u001b[0;32m      4\u001b[0m \u001b[1;31m#ax.set_ylim((-200,200))\u001b[0m\u001b[1;33m\u001b[0m\u001b[1;33m\u001b[0m\u001b[1;33m\u001b[0m\u001b[0m\n\u001b[0;32m      5\u001b[0m \u001b[0mplt\u001b[0m\u001b[1;33m.\u001b[0m\u001b[0mshow\u001b[0m\u001b[1;33m(\u001b[0m\u001b[1;33m)\u001b[0m\u001b[1;33m\u001b[0m\u001b[1;33m\u001b[0m\u001b[0m\n",
      "\u001b[1;31mNameError\u001b[0m: name 'plt' is not defined"
     ]
    }
   ],
   "source": [
    "fig, ax = plt.subplots()\n",
    "lambda_arr = array([2*pi*c/omega for omega in omega_list])\n",
    "ax.plot(lambda_arr/1e-9,array(a05Spts)/(4*pi*e0*1e-30))\n",
    "#ax.set_ylim((-200,200))\n",
    "plt.show()"
   ]
  },
  {
   "cell_type": "code",
   "execution_count": 34,
   "metadata": {},
   "outputs": [],
   "source": [
    "## polarizability plot\n",
    "\n",
    "nlist = range(5,50)\n",
    "omega_list = [2*pi*c/(l*1e-9) for l in linspace(800,1000,300)]\n",
    "\n",
    "# 5P3/2,f=0\n",
    "n=5; l=1; j=3/2; f=0; mf=0;\n",
    "a05Spts = [alpha0_hf([n,l,j,f], omega, nlist, atom=rb, I=I) for omega in omega_list]"
   ]
  },
  {
   "cell_type": "code",
   "execution_count": 35,
   "metadata": {},
   "outputs": [
    {
     "data": {
      "image/png": "[encoded data removed]",
      "text/plain": [
       "<Figure size 640x480 with 1 Axes>"
      ]
     },
     "metadata": {},
     "output_type": "display_data"
    }
   ],
   "source": [
    "fig, ax = plt.subplots()\n",
    "lambda_arr = array([2*pi*c/omega for omega in omega_list])\n",
    "ax.plot(lambda_arr/1e-9,array(a05Spts)/(4*pi*e0*1e-30))\n",
    "# ax.set_ylim((-300,300))\n",
    "plt.show()"
   ]
  },
  {
   "cell_type": "code",
   "execution_count": 37,
   "metadata": {},
   "outputs": [],
   "source": [
    "## polarizability plot\n",
    "\n",
    "nlist = range(5,50)\n",
    "omega_list = [2*pi*c/(l*1e-9) for l in linspace(800,1000,300)]\n",
    "\n",
    "# 5S1/2,f=1\n",
    "n=5; l=0; j=1/2; f=1; mf=0;\n",
    "a05Spts1 = [alpha0_hf([n,l,j,f], omega, nlist, atom=rb, I=I) for omega in omega_list] #alpha_0\n",
    "\n",
    "# 5P3/2,f=0\n",
    "n=5; l=1; j=3/2; f=0; mf=0;\n",
    "a05Spts2 = [alpha0_hf([n,l,j,f], omega, nlist, atom=rb, I=I) for omega in omega_list]"
   ]
  },
  {
   "cell_type": "code",
   "execution_count": 38,
   "metadata": {},
   "outputs": [
    {
     "data": {
      "image/png": "[encoded data removed]",
      "text/plain": [
       "<Figure size 640x480 with 1 Axes>"
      ]
     },
     "metadata": {},
     "output_type": "display_data"
    }
   ],
   "source": [
    "fig, ax = plt.subplots()\n",
    "lambda_arr = array([2*pi*c/omega for omega in omega_list])\n",
    "ax.plot(lambda_arr/1e-9,array(a05Spts1)/(4*pi*e0*1e-30)-array(a05Spts2)/(4*pi*e0*1e-30))\n",
    "# ax.set_ylim((-300,300))\n",
    "plt.show()"
   ]
  },
  {
   "cell_type": "code",
   "execution_count": 4,
   "metadata": {},
   "outputs": [],
   "source": [
    "## polarizability plot 5S1/2,f=1 to 5P1/2,f=1\n",
    "\n",
    "nlist = range(4,9)\n",
    "omega_list = [2*pi*c/(l*1e-9) for l in linspace(852,900,100)] # rad/s\n",
    "\n",
    "# 5S1/2,f=1\n",
    "n=5; l=0; j=1/2; f=1; mf=1;\n",
    "a05S0 = [alpha0_hf([n,l,j,f], omega, nlist, atom=rb, I=I) for omega in omega_list] #alpha_0\n",
    "a05S2 = [alpha2_hf([n,l,j,f], omega, nlist, atom=rb, I=I) for omega in omega_list] #alpha_2\n",
    "a05St = a05S0 + multiply(2*(3*mf**2-f*(f+1))/(2*f*(2*f-1)),a05S2)\n",
    "# 5P1/2,f=1\n",
    "n=5; l=1; j=1/2; f=1; mf=0;\n",
    "a05P0 = [alpha0_hf([n,l,j,f], omega, nlist, atom=rb, I=I) for omega in omega_list] #alpha_0\n",
    "a05P2 = [alpha2_hf([n,l,j,f], omega, nlist, atom=rb, I=I) for omega in omega_list] #alpha_2\n",
    "a05Pt = a05S0 + multiply(2*(3*mf**2-f*(f+1))/(2*f*(2*f-1)),a05S2)"
   ]
  },
  {
   "cell_type": "code",
   "execution_count": 5,
   "metadata": {},
   "outputs": [
    {
     "data": {
      "image/png": "[encoded data removed]",
      "text/plain": [
       "<Figure size 640x480 with 1 Axes>"
      ]
     },
     "metadata": {},
     "output_type": "display_data"
    },
    {
     "name": "stdout",
     "output_type": "stream",
     "text": [
      "The minimum blue detuning is 32.489008205670984 MHz at a dipole trap frequency 351.8690821596244 THz, wavelength 852.0 nm\n",
      "The powe of dipole trap should be 24.94542175488668 mW\n",
      "Preparation of Bell states has a blue detuning of 90.51058754469986 MHz\n"
     ]
    }
   ],
   "source": [
    "w0 = 1.65e-6\n",
    "Ufort = kB*1e-3\n",
    "P_list = sqrt(divide(4*Ufort*e0*c*pi*w0**2/2,a05S0))\n",
    "E_list = sqrt(divide(4*Ufort,a05S0))\n",
    "energydiff = multiply(-1/4,multiply(a05P0-a05Pt,E_list**2))\n",
    "enefreq = energydiff/(hbar*2*pi)/1e6\n",
    "lambda_arr = array([2*pi*c/omega for omega in omega_list]) # in Hz\n",
    "fig, ax = plt.subplots()\n",
    "ax.plot(lambda_arr/1e-9, array(enefreq))\n",
    "ax.set_xlabel('nm')\n",
    "ax.set_ylabel('MHz')\n",
    "ax.set_title('Blue detuning plot 5S1/2,f=1 to 5P1/2,f=1')\n",
    "plt.show()\n",
    "minenergy = min(enefreq)\n",
    "minwave = lambda_arr[argmin(enefreq)] # in Hz\n",
    "omega = omega_list[argmin(enefreq)] #rad/s\n",
    "# 5S1/2,f=1\n",
    "n=5; l=0; j=1/2; f=1; mf=0;\n",
    "a05S0fix = alpha0_hf([n,l,j,f], omega, nlist, atom=rb, I=I) #alpha_0\n",
    "# 5P3/2,f=0\n",
    "n=5; l=1; j=3/2; f=0; mf=0;\n",
    "a05P0fix = alpha0_hf([n,l,j,f], omega, nlist, atom=rb, I=I)  #alpha_0\n",
    "E_fix = sqrt(4*Ufort/abs(a05P0fix))\n",
    "P_fix = 4*Ufort*e0*c*pi*w0**2/2/a05S0fix\n",
    "detun = -1/4*(a05P0fix-a05S0fix)*E_fix**2/(hbar*2*pi)/1e6\n",
    "print('The minimum blue detuning is',minenergy,'MHz at a dipole trap frequency',c/minwave/1e12,'THz, wavelength',minwave/1e-9,'nm')\n",
    "print('The powe of dipole trap should be',P_fix*1000,'mW')\n",
    "print('Preparation of Bell states has a blue detuning of',detun,'MHz')"
   ]
  },
  {
   "cell_type": "code",
   "execution_count": 4,
   "metadata": {},
   "outputs": [
    {
     "name": "stdout",
     "output_type": "stream",
     "text": [
      "  5S1/2,f=2,mf=0:\n",
      "    scalar = -3.863073734163827e-75\n",
      "  5P3/2,f=3,mf=1:\n",
      "    scalar = 1.1426236852848684e-75\n",
      "    vector = -1.7730550494904606e-38\n",
      "    tensor = -4.646776330746171e-76\n"
     ]
    }
   ],
   "source": [
    "omega = 2*pi*c/(7.7e-7)\n",
    "\n",
    "print(\"  5S1/2,f=2,mf=0:\")\n",
    "nlist = range(5,12)\n",
    "n=5; l=0; j=1/2; f=2; mf=0;\n",
    "print(f\"    scalar = {alpha0_hf([n,l,j,f], omega, nlist, atom=rb, I=I)}\")\n",
    "# vector is zero for mf=0\n",
    "# tensor is zero for j<1\n",
    "\n",
    "print(\"  5P3/2,f=3,mf=1:\")\n",
    "n=5; l=1; j=3/2; f=3; mf=1; A = 1;\n",
    "print(f\"    scalar = {alpha0_hf([n,l,j,f], omega, nlist, atom=rb, I=I)}\")\n",
    "print(f\"    vector = {A*mf*alpha1_hf([n,l,j,f], omega, nlist, atom=rb, I=I)/(2*f)}\")\n",
    "print(f\"    tensor = {-1*((3*mf**2 - f*(f+1))/(2*f*(2*f-1)))*alpha2_hf([n,l,j,f], omega, nlist, atom=rb, I=I)}\")"
   ]
  },
  {
   "cell_type": "markdown",
   "metadata": {
    "jp-MarkdownHeadingCollapsed": true
   },
   "source": [
    "## Polarizabilities for Rydberg addressing"
   ]
  },
  {
   "cell_type": "code",
   "execution_count": null,
   "metadata": {},
   "outputs": [],
   "source": []
  },
  {
   "cell_type": "code",
   "execution_count": 5,
   "metadata": {},
   "outputs": [],
   "source": [
    "# atom\n",
    "rb = Rubidium87()\n",
    "\n",
    "# lasers\n",
    "omega780A = 2*pi*(hf_states[5][1][3/2][3] - hf_states[5][0][1/2][2] - 2.1)*1e9\n",
    "omega780B = 2*pi*(hf_states[5][1][3/2][3] - hf_states[5][0][1/2][2] - 2.1 + 6.834682)*1e9\n",
    "omega480 = 2*pi*(eVToGHz(rb.getEnergy(84,2,5/2) - rb.getEnergy(5,1,3/2)) - .266651 + 2.1)*1e9"
   ]
  },
  {
   "cell_type": "code",
   "execution_count": 57,
   "metadata": {},
   "outputs": [
    {
     "name": "stdout",
     "output_type": "stream",
     "text": [
      "Laser frequencies\n",
      " 780A: 2*pi*384226015203379.4\n",
      " 780B: 2*pi*384232849885379.44\n",
      " 480: 2*pi*625314831618150.4\n",
      "780A polarizabilities\n",
      "  5S1/2,f=2,mf=0:\n",
      "    scalar = 3.20346392953120E-34\n",
      "  5P3/2,f=3,mf=1:\n",
      "    scalar = 1.52739309640219E-34\n",
      "    vector = -3.817491143122172e-35\n",
      "    tensor = -4.581457685120631e-35\n",
      "480 polarizabilities\n",
      "  5S1/2,f=2,mf=0:\n",
      "    scalar = -2.90311524481040E-39\n",
      "  5P3/2,f=3,mf=1:\n",
      "    scalar = -4.82150951678205E-39\n",
      "    vector = 1.696626924053701e-40\n",
      "    tensor = 4.557481703934684e-40\n"
     ]
    }
   ],
   "source": [
    "print(\"Laser frequencies\")\n",
    "print(f\" 780A: 2*pi*{omega780A/(2*pi)}\")\n",
    "print(f\" 780B: 2*pi*{omega780B/(2*pi)}\")\n",
    "print(f\" 480: 2*pi*{omega480/(2*pi)}\")\n",
    "\n",
    "print(\"780A polarizabilities\")\n",
    "\n",
    "nlist = range(5,8)\n",
    "\n",
    "print(\"  5S1/2,f=2,mf=0:\")\n",
    "n=5; l=0; j=1/2; f=2; mf=0;\n",
    "print(f\"    scalar = {alpha0_hf([n,l,j,f], omega780A, nlist, atom=rb, I=I)}\")\n",
    "# vector is zero for mf=0\n",
    "# tensor is zero for j<1\n",
    "\n",
    "print(\"  5P3/2,f=3,mf=1:\")\n",
    "n=5; l=1; j=3/2; f=3; mf=1; A = 1;\n",
    "print(f\"    scalar = {alpha0_hf([n,l,j,f], omega780A, nlist, atom=rb, I=I)}\")\n",
    "print(f\"    vector = {A*mf*alpha1_hf([n,l,j,f], omega780A, nlist, atom=rb, I=I)/(2*f)}\")\n",
    "print(f\"    tensor = {-1*((3*mf**2 - f*(f+1))/(2*f*(2*f-1)))*alpha2_hf([n,l,j,f], omega780A, nlist, atom=rb, I=I)}\")\n",
    "\n",
    "print(\"480 polarizabilities\")\n",
    "\n",
    "print(\"  5S1/2,f=2,mf=0:\")\n",
    "n=5; l=0; j=1/2; f=2; mf=0;\n",
    "nmax = 100; nmin = 5;\n",
    "nlist = [int(x) for x in linspace(nmax,nmin,nmax-nmin+1)]\n",
    "print(f\"    scalar = {alpha0_hf([n,l,j,f], omega480, nlist, atom=rb, I=I)}\")\n",
    "# vector is zero for mf=0\n",
    "# tensor is zero for j<1\n",
    "\n",
    "print(\"  5P3/2,f=3,mf=1:\")\n",
    "n=5; l=1; j=3/2; f=3; mf=1; A = 1;\n",
    "print(f\"    scalar = {alpha0_hf([n,l,j,f], omega480, nlist, atom=rb, I=I)}\")\n",
    "print(f\"    vector = {-A*mf*alpha1_hf([n,l,j,f], omega480, nlist, atom=rb, I=I)/(2*f)}\") # overall minus sign because dot(k,B_bias)=\n",
    "print(f\"    tensor = {-1*((3*mf**2 - f*(f+1))/(2*f*(2*f-1)))*alpha2_hf([n,l,j,f], omega480, nlist, atom=rb, I=I)}\")"
   ]
  },
  {
   "cell_type": "code",
   "execution_count": 54,
   "metadata": {},
   "outputs": [
    {
     "data": {
      "text/plain": [
       "6.874982135779098e-35"
      ]
     },
     "execution_count": 54,
     "metadata": {},
     "output_type": "execute_result"
    }
   ],
   "source": [
    "alpha780excited = scalar = 1.52739309640219E-34 + -3.817491143122172e-35 + -4.581457685120631e-35\n",
    "alpha780excited"
   ]
  },
  {
   "cell_type": "code",
   "execution_count": 60,
   "metadata": {},
   "outputs": [
    {
     "data": {
      "text/plain": [
       "3.231654777083384e-39"
      ]
     },
     "execution_count": 60,
     "metadata": {},
     "output_type": "execute_result"
    }
   ],
   "source": [
    "alpha480excited = 3.53496801131378E-39 + 4.27727148997324e-40 + -7.310403832277205e-40\n",
    "alpha480excited"
   ]
  },
  {
   "cell_type": "code",
   "execution_count": 6,
   "metadata": {},
   "outputs": [],
   "source": [
    "## ponderomotive shifts, S.I. units\n",
    "\n",
    "alphaPond = lambda omega: -ee**2/(me*omega**2)"
   ]
  },
  {
   "cell_type": "code",
   "execution_count": 7,
   "metadata": {},
   "outputs": [
    {
     "data": {
      "text/plain": [
       "-4.8350228219114005e-39"
      ]
     },
     "execution_count": 7,
     "metadata": {},
     "output_type": "execute_result"
    }
   ],
   "source": [
    "alphaPond(omega780A)"
   ]
  },
  {
   "cell_type": "code",
   "execution_count": 8,
   "metadata": {},
   "outputs": [
    {
     "data": {
      "text/plain": [
       "-1.825469589864302e-39"
      ]
     },
     "execution_count": 8,
     "metadata": {},
     "output_type": "execute_result"
    }
   ],
   "source": [
    "alphaPond(omega480)"
   ]
  },
  {
   "cell_type": "markdown",
   "metadata": {
    "jp-MarkdownHeadingCollapsed": true
   },
   "source": [
    "## Ramsey frequency\n",
    "Clock state Ramsey experiment with 780A on in gap time gives a fringe frequency equal to the differential AC Stark shift from the 780A plus the differential Zeeman shift. The latter is 4 kHz at 3 G. This can be used to determine the electric field that the atom sees. We can also estimate the Rabi frequency directly."
   ]
  },
  {
   "cell_type": "code",
   "execution_count": 10,
   "metadata": {},
   "outputs": [
    {
     "data": {
      "text/plain": [
       "3797.8949279380545"
      ]
     },
     "execution_count": 10,
     "metadata": {},
     "output_type": "execute_result"
    }
   ],
   "source": [
    "rb = Rubidium87()\n",
    "\n",
    "# lasers\n",
    "omega780A = 2*pi*(hf_states[5][1][3/2][3] - hf_states[5][0][1/2][2] - 2.1)*1e9\n",
    "\n",
    "# clock states differential AC stark shift = ramsey frequency - Zeeman shift\n",
    "dU_ac = 2*pi*hbar*(1.34e6 - 4e3)\n",
    "\n",
    "nlist = range(5,8)\n",
    "efield = 2*sqrt(dU_ac/(alpha0_hf([5,0,1/2,2],omega780A,nlist,atom=rb,I=I)-alpha0_hf([5,0,1/2,1],omega780A,nlist,atom=rb,I=I)))\n",
    "efield"
   ]
  },
  {
   "cell_type": "code",
   "execution_count": 12,
   "metadata": {},
   "outputs": [
    {
     "data": {
      "text/plain": [
       "7.80250285346538e-07"
      ]
     },
     "execution_count": 12,
     "metadata": {},
     "output_type": "execute_result"
    }
   ],
   "source": [
    "2*pi*c/omega780A"
   ]
  },
  {
   "cell_type": "code",
   "execution_count": 13,
   "metadata": {},
   "outputs": [
    {
     "data": {
      "text/plain": [
       "4.794264310414898e-07"
      ]
     },
     "execution_count": 13,
     "metadata": {},
     "output_type": "execute_result"
    }
   ],
   "source": [
    "2*pi*c/omega480"
   ]
  },
  {
   "cell_type": "code",
   "execution_count": 14,
   "metadata": {},
   "outputs": [
    {
     "data": {
      "text/plain": [
       "<arc.alkali_atom_data.Rubidium87 at 0x20847b75a90>"
      ]
     },
     "execution_count": 14,
     "metadata": {},
     "output_type": "execute_result"
    }
   ],
   "source": []
  },
  {
   "cell_type": "code",
   "execution_count": 22,
   "metadata": {},
   "outputs": [
    {
     "data": {
      "text/plain": [
       "2414176448051179.0"
      ]
     },
     "execution_count": 22,
     "metadata": {},
     "output_type": "execute_result"
    }
   ],
   "source": [
    "2*pi*(hf_states[5][1][3/2][3] - hf_states[5][0][1/2][2])*1e9"
   ]
  },
  {
   "cell_type": "code",
   "execution_count": 23,
   "metadata": {},
   "outputs": [
    {
     "data": {
      "text/plain": [
       "3928955767695494.5"
      ]
     },
     "execution_count": 23,
     "metadata": {},
     "output_type": "execute_result"
    }
   ],
   "source": [
    "2*pi*(eVToGHz(rb.getEnergy(84,2,5/2) - rb.getEnergy(5,1,3/2)) - .266651)*1e9"
   ]
  },
  {
   "cell_type": "code",
   "execution_count": null,
   "metadata": {},
   "outputs": [],
   "source": []
  }
 ],
 "metadata": {
  "kernelspec": {
   "display_name": "Python 3 (ipykernel)",
   "language": "python",
   "name": "python3"
  },
  "language_info": {
   "codemirror_mode": {
    "name": "ipython",
    "version": 3
   },
   "file_extension": ".py",
   "mimetype": "text/x-python",
   "name": "python",
   "nbconvert_exporter": "python",
   "pygments_lexer": "ipython3",
   "version": "3.9.6"
  }
 },
 "nbformat": 4,
 "nbformat_minor": 4
}
