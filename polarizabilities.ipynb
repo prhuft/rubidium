{
 "cells": [
  {
   "cell_type": "code",
   "execution_count": 1,
   "metadata": {},
   "outputs": [],
   "source": [
    "#### libraries\n",
    "from numpy import *\n",
    "import matplotlib.pyplot as plt\n",
    "from arc import *\n",
    "\n",
    "#### local files\n",
    "from physconsts import *\n",
    "from rbconsts import *\n",
    "from amophys import *"
   ]
  },
  {
   "cell_type": "code",
   "execution_count": null,
   "metadata": {},
   "outputs": [],
   "source": [
    "## example syntax for arc matrix element calcs\n",
    "# #Radial Matrix element R_{nlj\\rightarrown'l'j'}\n",
    "# atom.getRadialMatrixElement(n1,l1,j1,n2,l2,j2)\n",
    "# #Reduced Matrix Element <l||er||l'>\n",
    "# atom.getReducedMatrixElementL(n1,l1,j1,n2,l2,j2)\n",
    "# #Reduced Matrix Element <j||er||j'>\n",
    "# atom.getReducedMatrixElementJ(n1,l1,j1,n2,l2,j2)\n",
    "# #Angular Coupling <nljmj|er|n'l'j'mj'>\n",
    "# atom.getDipoleMatrixElement(n1,l1,j1,mj1,n2,l2,j2,mj2,q)"
   ]
  },
  {
   "cell_type": "code",
   "execution_count": 12,
   "metadata": {},
   "outputs": [
    {
     "data": {
      "text/plain": [
       "5.956"
      ]
     },
     "execution_count": 12,
     "metadata": {},
     "output_type": "execute_result"
    }
   ],
   "source": [
    "rb = Rubidium(87)\n",
    "# D2 line dipole matrix element, HF basis\n",
    "n1,l1,j1,f1,mf1 = [5,0,1/2,2,0] \n",
    "n2,l2,j2,f2,mf2 = [5,1,3/2,3,0]\n",
    "rb.getReducedMatrixElementJ(n1,l1,j1,n2,l2,j2)"
   ]
  },
  {
   "cell_type": "code",
   "execution_count": 2,
   "metadata": {},
   "outputs": [],
   "source": [
    "# a dictionary of hf levels through 5p3/2. \"E\" in [GHz], w.r.t. 5s1/2 COM\n",
    "hf_levels = [\n",
    "    {'n': 5, 'L': 0, 'J': 0.5, 'F': 1, 'E': -4.271676631815196},\n",
    "    {'n': 5, 'L': 0, 'J': 0.5, 'F': 2, 'E': 2.563005979089114},\n",
    "    {'n': 5, 'L': 1, 'J': 0.5, 'F': 1, 'E': 377106.953053064},\n",
    "    {'n': 5, 'L': 1, 'J': 0.5, 'F': 2, 'E': 377107.769709364},\n",
    "    {'n': 5, 'L': 1, 'J': 1.5, 'F': 0, 'E': 384230.1823946245},\n",
    "    {'n': 5, 'L': 1, 'J': 1.5, 'F': 1, 'E': 384230.2546166565},\n",
    "    {'n': 5, 'L': 1, 'J': 1.5, 'F': 2, 'E': 384230.4115571805},\n",
    "    {'n': 5, 'L': 1, 'J': 1.5, 'F': 3, 'E': 384230.6782093585}\n",
    "]"
   ]
  },
  {
   "cell_type": "code",
   "execution_count": 60,
   "metadata": {
    "collapsed": true
   },
   "outputs": [
    {
     "data": {
      "text/plain": [
       "377107.769709364"
      ]
     },
     "execution_count": 60,
     "metadata": {},
     "output_type": "execute_result"
    }
   ],
   "source": [
    "# 5p1/2\n",
    "(omega_D1/(2*pi) + 306246110)/1e9 # "
   ]
  },
  {
   "cell_type": "code",
   "execution_count": 66,
   "metadata": {},
   "outputs": [
    {
     "data": {
      "text/plain": [
       "384230.6782093585"
      ]
     },
     "execution_count": 66,
     "metadata": {},
     "output_type": "execute_result"
    }
   ],
   "source": [
    "# 5p3/2\n",
    "(omega_D2/(2*pi) - 302073888)/1e9 # F\n",
    "(omega_D2/(2*pi) - 229851856)/1e9 # F1\n",
    "(omega_D2/(2*pi) - 72911332)/1e9 # F2\n",
    "(omega_D2/(2*pi) + 193740846)/1e9 # F3"
   ]
  },
  {
   "cell_type": "code",
   "execution_count": 18,
   "metadata": {},
   "outputs": [
    {
     "name": "stdout",
     "output_type": "stream",
     "text": [
      "6j-Symbol is not triangular!\n",
      "6j-Symbol is not triangular!\n",
      "6j-Symbol is not triangular!\n",
      "6j-Symbol is not triangular!\n",
      "6j-Symbol is not triangular!\n",
      "6j-Symbol is not triangular!\n",
      "6j-Symbol is not triangular!\n",
      "6j-Symbol is not triangular!\n",
      "6j-Symbol is not triangular!\n",
      "6j-Symbol is not triangular!\n",
      "6j-Symbol is not triangular!\n",
      "6j-Symbol is not triangular!\n",
      "6j-Symbol is not triangular!\n",
      "6j-Symbol is not triangular!\n",
      "6j-Symbol is not triangular!\n",
      "6j-Symbol is not triangular!\n",
      "6j-Symbol is not triangular!\n",
      "6j-Symbol is not triangular!\n",
      "6j-Symbol is not triangular!\n",
      "6j-Symbol is not triangular!\n"
     ]
    }
   ],
   "source": [
    "#### Approximate alpha0(w)\n",
    "\n",
    "# our atom\n",
    "rb = Rubidium(87)\n",
    "\n",
    "# loop over all the hyperfine states up through 5p3/2 state\n",
    "level_a = hf_levels[1] \n",
    "n_a = level_a[\"n\"]\n",
    "J_a = level_a[\"J\"]\n",
    "L_a = level_a[\"L\"]\n",
    "J_a = level_a[\"J\"]\n",
    "F_a = level_a[\"F\"]\n",
    "w_a = 2*pi*level_a[\"E\"]*1e9 # rad/s\n",
    "\n",
    "# w = 2*pi/(1.064e-6) # ang. freq. of applied field\n",
    "pts = 10\n",
    "w_list = 2*pi*c*linspace(1e6,1/(2e-6),pts)\n",
    "q = 0\n",
    "mF_a = 0\n",
    "mF_b = mF_a + q\n",
    "\n",
    "alpha0 = zeros(pts) \n",
    "for i in range(pts):\n",
    "    for level_b in hf_levels:\n",
    "        n_b = level_b[\"n\"]\n",
    "        J_b = level_b[\"J\"]\n",
    "        L_b = level_b[\"L\"]\n",
    "        J_b = level_b[\"J\"]\n",
    "        F_b = level_b[\"F\"]\n",
    "        w_b = 2*pi*level_b[\"E\"]*1e9 # rad/s\n",
    "\n",
    "        w_ab = w_b - w_a\n",
    "        cpl = hf_coupling(F_a, mF_a, J_a, q, F_b, mF_b, J_b, I)\n",
    "        try:\n",
    "            matelem = rb.getReducedMatrixElementJ(n_a,L_a,J_a,n_b,L_b,J_b)*ee*a0\n",
    "            if cpl != 0:\n",
    "                alpha0[i] += w_ab*cpl*matelem/(w_ab**2 - w_list[i]**2) # *RME^2\n",
    "        except: \n",
    "            pass\n",
    "    alpha0[i] *= 2*ee**2/(3*hbar*(2*F_a+1))\n",
    "    \n",
    "# until now, alpha0 is in SI units\n",
    "alpha0 *= EH/(ee*a0)**2"
   ]
  },
  {
   "cell_type": "code",
   "execution_count": 19,
   "metadata": {
    "scrolled": false
   },
   "outputs": [
    {
     "data": {
      "image/png": "[encoded data removed]",
      "text/plain": [
       "<Figure size 432x288 with 1 Axes>"
      ]
     },
     "metadata": {
      "needs_background": "light"
     },
     "output_type": "display_data"
    }
   ],
   "source": [
    "lambda_list = array([2*pi*c/w for w in w_list])/(1e-6)\n",
    "plt.plot(lambda_list,alpha0)\n",
    "plt.ylabel(\"arb\")\n",
    "plt.xlabel(\"$\\lambda$ [$\\mu$m]\")\n",
    "plt.show()"
   ]
  },
  {
   "cell_type": "code",
   "execution_count": 5,
   "metadata": {
    "scrolled": false
   },
   "outputs": [
    {
     "data": {
      "text/plain": [
       "1.6487766692543765e-41"
      ]
     },
     "execution_count": 5,
     "metadata": {},
     "output_type": "execute_result"
    }
   ],
   "source": [
    "(ee*a0)**2/EH"
   ]
  },
  {
   "cell_type": "code",
   "execution_count": 7,
   "metadata": {},
   "outputs": [
    {
     "data": {
      "text/plain": [
       "13.605695619644154"
      ]
     },
     "execution_count": 7,
     "metadata": {},
     "output_type": "execute_result"
    }
   ],
   "source": [
    "JToeV(EH)/2"
   ]
  },
  {
   "cell_type": "code",
   "execution_count": null,
   "metadata": {},
   "outputs": [],
   "source": []
  }
 ],
 "metadata": {
  "kernelspec": {
   "display_name": "Python 3",
   "language": "python",
   "name": "python3"
  },
  "language_info": {
   "codemirror_mode": {
    "name": "ipython",
    "version": 3
   },
   "file_extension": ".py",
   "mimetype": "text/x-python",
   "name": "python",
   "nbconvert_exporter": "python",
   "pygments_lexer": "ipython3",
   "version": "3.7.3"
  }
 },
 "nbformat": 4,
 "nbformat_minor": 2
}
