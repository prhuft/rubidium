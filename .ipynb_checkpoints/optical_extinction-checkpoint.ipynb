{
 "cells": [
  {
   "cell_type": "code",
   "execution_count": null,
   "metadata": {},
   "outputs": [],
   "source": [
    "\"\"\"\n",
    "    Simulations of enhanced optical extinction with atoms\n",
    "    Preston Huft, Fall 2019\n",
    "\"\"\""
   ]
  },
  {
   "cell_type": "code",
   "execution_count": 16,
   "metadata": {},
   "outputs": [
    {
     "data": {
      "text/html": [
       "<style>.container{width:100% !important;}</style>"
      ],
      "text/plain": [
       "<IPython.core.display.HTML object>"
      ]
     },
     "metadata": {},
     "output_type": "display_data"
    }
   ],
   "source": [
    "# %matplotlib notebook\n",
    "\n",
    "# libraries\n",
    "from matplotlib import pyplot as plt\n",
    "from numpy import *\n",
    "from sympy import (symbols,N,sympify,lambdify,MatrixSymbol,MatAdd, \n",
    "                   MatMul,Identity as eye,Matrix,zeros)\n",
    "from sympy.utilities.iterables import flatten\n",
    "from sympy.physics.optics import * # use for gaussian propagation\n",
    "\n",
    "# misc files\n",
    "from rbconsts import *\n",
    "from physconsts import *\n",
    "\n",
    "# layout stuff\n",
    "from IPython.core.display import display,HTML\n",
    "display(HTML(\"<style>.container{width:100% !important;}</style>\"))"
   ]
  },
  {
   "cell_type": "code",
   "execution_count": 32,
   "metadata": {},
   "outputs": [],
   "source": [
    "def gaussian_intensity(w0,I0,lmbda,rho,z):\n",
    "    \"\"\" to do: define a class which extends sympy optics, adding\n",
    "        this method. then a beam param can be defined and this\n",
    "        can be called for an input z,rho coord pair\n",
    "    \"\"\"\n",
    "    zR = pi*w0**2/lmbda # rayleigh range\n",
    "    w = w0*sqrt(1+z/zR) # waist\n",
    "    R = z+zR**2/z # curvature\n",
    "    k = 2*pi/lmbda # wave num\n",
    "    gouy = arctan(z/zR) # gouy phase\n",
    "    \n",
    "    return I0*(w0/w)*exp(-rho**2/w**2)"
   ]
  },
  {
   "cell_type": "code",
   "execution_count": 33,
   "metadata": {},
   "outputs": [
    {
     "ename": "TypeError",
     "evalue": "'tuple' object is not callable",
     "output_type": "error",
     "traceback": [
      "\u001b[1;31m---------------------------------------------------------------------------\u001b[0m",
      "\u001b[1;31mTypeError\u001b[0m                                 Traceback (most recent call last)",
      "\u001b[1;32m<ipython-input-33-75ebfa4ee44b>\u001b[0m in \u001b[0;36m<module>\u001b[1;34m\u001b[0m\n\u001b[0;32m     10\u001b[0m \u001b[0mxpts\u001b[0m \u001b[1;33m=\u001b[0m \u001b[0mlinspace\u001b[0m\u001b[1;33m(\u001b[0m\u001b[1;33m-\u001b[0m\u001b[0ms\u001b[0m\u001b[1;33m*\u001b[0m\u001b[0mw0\u001b[0m\u001b[1;33m,\u001b[0m\u001b[0ms\u001b[0m\u001b[1;33m*\u001b[0m\u001b[0mw0\u001b[0m\u001b[1;33m,\u001b[0m\u001b[1;36m100\u001b[0m\u001b[1;33m)\u001b[0m\u001b[1;33m\u001b[0m\u001b[1;33m\u001b[0m\u001b[0m\n\u001b[0;32m     11\u001b[0m \u001b[0mzpts\u001b[0m \u001b[1;33m=\u001b[0m \u001b[0mlinspace\u001b[0m\u001b[1;33m(\u001b[0m\u001b[1;33m-\u001b[0m\u001b[0ms\u001b[0m\u001b[1;33m*\u001b[0m\u001b[0mzr\u001b[0m\u001b[1;33m,\u001b[0m\u001b[0ms\u001b[0m\u001b[1;33m*\u001b[0m\u001b[0mzr\u001b[0m\u001b[1;33m,\u001b[0m\u001b[1;36m100\u001b[0m\u001b[1;33m)\u001b[0m\u001b[1;33m\u001b[0m\u001b[1;33m\u001b[0m\u001b[0m\n\u001b[1;32m---> 12\u001b[1;33m \u001b[0mxx\u001b[0m\u001b[1;33m,\u001b[0m\u001b[0mzz\u001b[0m \u001b[1;33m=\u001b[0m \u001b[0mmeshgrid\u001b[0m\u001b[1;33m(\u001b[0m\u001b[0mxpts\u001b[0m\u001b[1;33m,\u001b[0m\u001b[0mzpts\u001b[0m\u001b[1;33m)\u001b[0m\u001b[1;33m\u001b[0m\u001b[1;33m\u001b[0m\u001b[0m\n\u001b[0m\u001b[0;32m     13\u001b[0m \u001b[0mfpts\u001b[0m \u001b[1;33m=\u001b[0m \u001b[0mbeamI\u001b[0m\u001b[1;33m(\u001b[0m\u001b[0mxx\u001b[0m\u001b[1;33m,\u001b[0m\u001b[0mzz\u001b[0m\u001b[1;33m)\u001b[0m \u001b[1;31m# the fort intensity eval'd on the meshgrid\u001b[0m\u001b[1;33m\u001b[0m\u001b[1;33m\u001b[0m\u001b[0m\n\u001b[0;32m     14\u001b[0m \u001b[0mplt\u001b[0m\u001b[1;33m.\u001b[0m\u001b[0mcontourf\u001b[0m\u001b[1;33m(\u001b[0m\u001b[0mxpts\u001b[0m\u001b[1;33m/\u001b[0m\u001b[0mmu\u001b[0m\u001b[1;33m,\u001b[0m\u001b[0mzpts\u001b[0m\u001b[1;33m/\u001b[0m\u001b[0mmu\u001b[0m\u001b[1;33m,\u001b[0m\u001b[0mfpts\u001b[0m\u001b[1;33m)\u001b[0m\u001b[1;33m\u001b[0m\u001b[1;33m\u001b[0m\u001b[0m\n",
      "\u001b[1;31mTypeError\u001b[0m: 'tuple' object is not callable"
     ]
    }
   ],
   "source": [
    "w0 = 2.5e-6\n",
    "lmbda = 1.064e-6\n",
    "I0 = 1\n",
    "zr = pi*w0**2/lmbda\n",
    "mu = 1e-6\n",
    "beamI = lambda rho,z: gaussian_intensity(w0,I0,lmbda,rho,z)\n",
    "\n",
    "# cylindrical coords\n",
    "s = 1.5 # units waist or rayleigh length\n",
    "xpts = linspace(-s*w0,s*w0,100)\n",
    "zpts = linspace(-s*zr,s*zr,100)\n",
    "xx,zz = meshgrid(xpts,zpts)\n",
    "fpts = beamI(xx,zz) # the fort intensity eval'd on the meshgrid\n",
    "plt.contourf(xpts/mu,zpts/mu,fpts)\n",
    "plt.xlabel(\"rho\")\n",
    "plt.ylabel(\"z\")\n",
    "#         plt.axes().set_aspect('equal')\n",
    "plt.show() "
   ]
  },
  {
   "cell_type": "code",
   "execution_count": 31,
   "metadata": {},
   "outputs": [
    {
     "data": {
      "text/plain": [
       "(0.0004824994052701696+0.0007514483009091583j)"
      ]
     },
     "execution_count": 31,
     "metadata": {},
     "output_type": "execute_result"
    }
   ],
   "source": []
  },
  {
   "cell_type": "code",
   "execution_count": null,
   "metadata": {},
   "outputs": [],
   "source": []
  }
 ],
 "metadata": {
  "kernelspec": {
   "display_name": "Python 3",
   "language": "python",
   "name": "python3"
  },
  "language_info": {
   "codemirror_mode": {
    "name": "ipython",
    "version": 3
   },
   "file_extension": ".py",
   "mimetype": "text/x-python",
   "name": "python",
   "nbconvert_exporter": "python",
   "pygments_lexer": "ipython3",
   "version": "3.7.3"
  }
 },
 "nbformat": 4,
 "nbformat_minor": 2
}
