{
 "cells": [
  {
   "cell_type": "code",
   "execution_count": 1,
   "metadata": {},
   "outputs": [],
   "source": [
    "# for analyzing the .mat files produced by SR785 Viewer program (on Hexagon4, Coffee Lab)\n",
    "# or ascii files (see Kara's notes on the wiki for converting from d78)\n",
    "# Preston Huft, Spring 2020\n",
    "\n",
    "# winter 2020: on the SR785, when you hit Disk, you can rename the file to be myfile.mat, and then you don't need to\n",
    "# reformat later"
   ]
  },
  {
   "cell_type": "code",
   "execution_count": 39,
   "metadata": {},
   "outputs": [],
   "source": [
    "import scipy.io\n",
    "import matplotlib.pyplot as plt\n",
    "from numpy import *\n",
    "import sys\n",
    "sys.path.append('../')\n",
    "from simfuncs import *"
   ]
  },
  {
   "cell_type": "code",
   "execution_count": 5,
   "metadata": {},
   "outputs": [],
   "source": [
    "# put your files here\n",
    "mat960 = scipy.io.loadmat('20200109_960powerspectrum.MAT')\n",
    "mat780 = scipy.io.loadmat('20200109_780powerspectrum.MAT') # check the pzt file too\n",
    "mat780b = scipy.io.loadmat('20200109_780Bpowerspectrum.MAT')\n",
    "# mat780a = scipy.io.loadmat('780_filtercav_noise_eaten_20201223.MAT')"
   ]
  },
  {
   "cell_type": "code",
   "execution_count": 6,
   "metadata": {},
   "outputs": [
    {
     "data": {
      "text/plain": [
       "[dict_keys(['srs960rin']),\n",
       " dict_keys(['srs780arin']),\n",
       " dict_keys(['srs780brin'])]"
      ]
     },
     "execution_count": 6,
     "metadata": {},
     "output_type": "execute_result"
    }
   ],
   "source": [
    "## GET DATA FROM MAT FILES\n",
    "matfiles = ['20200109_960powerspectrum.MAT','20200109_780powerspectrum.MAT','20200109_780Bpowerspectrum.MAT']\n",
    "matdicts = [scipy.io.loadmat(f) for f in matfiles] \n",
    "# get the keys. these are the filenames entered in the sr785 before hitting Display to Disk\n",
    "[d.keys() for d in matdicts]"
   ]
  },
  {
   "cell_type": "code",
   "execution_count": 7,
   "metadata": {},
   "outputs": [],
   "source": [
    "## GET DATA FROM ASCII FILES\n",
    "ascfiles = ['srs_filtercav_noise_eaten_rin_20201223.asc']\n",
    "ascdata = []\n",
    "for af in ascfiles:\n",
    "    with open(af, 'r') as f:\n",
    "        lines = f.readlines()\n",
    "        data = []\n",
    "        for i, line in enumerate(lines):\n",
    "            if i > 14:\n",
    "                data.append([float(l) for l in line.split(' ') if is_numeric(l)])\n",
    "    ascdata.append(array(data))"
   ]
  },
  {
   "cell_type": "code",
   "execution_count": 24,
   "metadata": {
    "collapsed": true
   },
   "outputs": [
    {
     "data": {
      "text/plain": [
       "array([[ 2.560000e+02, -2.728812e+01],\n",
       "       [ 5.120000e+02, -3.590691e+01],\n",
       "       [ 7.680000e+02, -4.229071e+01],\n",
       "       [ 1.024000e+03, -4.490160e+01],\n",
       "       [ 1.280000e+03, -4.853709e+01],\n",
       "       [ 1.536000e+03, -5.100641e+01],\n",
       "       [ 1.792000e+03, -5.210571e+01],\n",
       "       [ 2.048000e+03, -5.526241e+01],\n",
       "       [ 2.304000e+03, -6.045084e+01],\n",
       "       [ 2.560000e+03, -6.332691e+01],\n",
       "       [ 2.816000e+03, -6.446348e+01],\n",
       "       [ 3.072000e+03, -6.629295e+01],\n",
       "       [ 3.328000e+03, -6.815503e+01],\n",
       "       [ 3.584000e+03, -6.733893e+01],\n",
       "       [ 3.840000e+03, -6.290952e+01],\n",
       "       [ 4.096000e+03, -6.048627e+01],\n",
       "       [ 4.352000e+03, -6.175719e+01],\n",
       "       [ 4.608000e+03, -6.170640e+01],\n",
       "       [ 4.864000e+03, -6.061728e+01],\n",
       "       [ 5.120000e+03, -6.317055e+01],\n",
       "       [ 5.376000e+03, -6.718557e+01],\n",
       "       [ 5.632000e+03, -6.856498e+01],\n",
       "       [ 5.888000e+03, -6.893962e+01],\n",
       "       [ 6.144000e+03, -7.016185e+01],\n",
       "       [ 6.400000e+03, -7.141998e+01],\n",
       "       [ 6.656000e+03, -7.165908e+01],\n",
       "       [ 6.912000e+03, -7.193578e+01],\n",
       "       [ 7.168000e+03, -7.263326e+01],\n",
       "       [ 7.424000e+03, -7.349880e+01],\n",
       "       [ 7.680000e+03, -7.412700e+01],\n",
       "       [ 7.936000e+03, -7.454932e+01],\n",
       "       [ 8.192000e+03, -7.455473e+01],\n",
       "       [ 8.448000e+03, -7.442779e+01],\n",
       "       [ 8.704000e+03, -7.436543e+01],\n",
       "       [ 8.960000e+03, -7.433588e+01],\n",
       "       [ 9.216000e+03, -7.455770e+01],\n",
       "       [ 9.472000e+03, -7.494158e+01],\n",
       "       [ 9.728000e+03, -7.498740e+01],\n",
       "       [ 9.984000e+03, -7.464375e+01],\n",
       "       [ 1.024000e+04, -7.448093e+01],\n",
       "       [ 1.049600e+04, -7.487447e+01],\n",
       "       [ 1.075200e+04, -7.544180e+01],\n",
       "       [ 1.100800e+04, -7.535837e+01],\n",
       "       [ 1.126400e+04, -7.490902e+01],\n",
       "       [ 1.152000e+04, -7.451881e+01],\n",
       "       [ 1.177600e+04, -7.465715e+01],\n",
       "       [ 1.203200e+04, -7.474358e+01],\n",
       "       [ 1.228800e+04, -7.433325e+01],\n",
       "       [ 1.254400e+04, -7.424650e+01],\n",
       "       [ 1.280000e+04, -7.434497e+01],\n",
       "       [ 1.305600e+04, -7.426398e+01],\n",
       "       [ 1.331200e+04, -7.401363e+01],\n",
       "       [ 1.356800e+04, -7.424713e+01],\n",
       "       [ 1.382400e+04, -7.427084e+01],\n",
       "       [ 1.408000e+04, -7.400246e+01],\n",
       "       [ 1.433600e+04, -7.406284e+01],\n",
       "       [ 1.459200e+04, -7.427654e+01],\n",
       "       [ 1.484800e+04, -7.451084e+01],\n",
       "       [ 1.510400e+04, -7.464357e+01],\n",
       "       [ 1.536000e+04, -7.442528e+01],\n",
       "       [ 1.561600e+04, -7.446899e+01],\n",
       "       [ 1.587200e+04, -7.463975e+01],\n",
       "       [ 1.612800e+04, -7.441845e+01],\n",
       "       [ 1.638400e+04, -7.433495e+01],\n",
       "       [ 1.664000e+04, -7.471557e+01],\n",
       "       [ 1.689600e+04, -7.502179e+01],\n",
       "       [ 1.715200e+04, -7.478742e+01],\n",
       "       [ 1.740800e+04, -7.417076e+01],\n",
       "       [ 1.766400e+04, -7.420520e+01],\n",
       "       [ 1.792000e+04, -7.443115e+01],\n",
       "       [ 1.817600e+04, -7.415659e+01],\n",
       "       [ 1.843200e+04, -7.406110e+01],\n",
       "       [ 1.868800e+04, -7.440332e+01],\n",
       "       [ 1.894400e+04, -7.435545e+01],\n",
       "       [ 1.920000e+04, -7.432848e+01],\n",
       "       [ 1.945600e+04, -7.443597e+01],\n",
       "       [ 1.971200e+04, -7.438428e+01],\n",
       "       [ 1.996800e+04, -7.453936e+01],\n",
       "       [ 2.022400e+04, -7.417576e+01],\n",
       "       [ 2.048000e+04, -7.408326e+01],\n",
       "       [ 2.073600e+04, -7.421850e+01],\n",
       "       [ 2.099200e+04, -7.428267e+01],\n",
       "       [ 2.124800e+04, -7.400079e+01],\n",
       "       [ 2.150400e+04, -7.381135e+01],\n",
       "       [ 2.176000e+04, -7.382748e+01],\n",
       "       [ 2.201600e+04, -7.378043e+01],\n",
       "       [ 2.227200e+04, -7.376405e+01],\n",
       "       [ 2.252800e+04, -7.378857e+01],\n",
       "       [ 2.278400e+04, -7.389268e+01],\n",
       "       [ 2.304000e+04, -7.411214e+01],\n",
       "       [ 2.329600e+04, -7.435866e+01],\n",
       "       [ 2.355200e+04, -7.401849e+01],\n",
       "       [ 2.380800e+04, -7.354815e+01],\n",
       "       [ 2.406400e+04, -7.304847e+01],\n",
       "       [ 2.432000e+04, -7.283450e+01],\n",
       "       [ 2.457600e+04, -7.307359e+01],\n",
       "       [ 2.483200e+04, -7.319491e+01],\n",
       "       [ 2.508800e+04, -7.279343e+01],\n",
       "       [ 2.534400e+04, -7.240621e+01],\n",
       "       [ 2.560000e+04, -7.244753e+01],\n",
       "       [ 2.585600e+04, -7.247529e+01],\n",
       "       [ 2.611200e+04, -7.240195e+01],\n",
       "       [ 2.636800e+04, -7.260422e+01],\n",
       "       [ 2.662400e+04, -7.281297e+01],\n",
       "       [ 2.688000e+04, -7.254944e+01],\n",
       "       [ 2.713600e+04, -7.238510e+01],\n",
       "       [ 2.739200e+04, -7.267389e+01],\n",
       "       [ 2.764800e+04, -7.296290e+01],\n",
       "       [ 2.790400e+04, -7.321278e+01],\n",
       "       [ 2.816000e+04, -7.279454e+01],\n",
       "       [ 2.841600e+04, -7.219419e+01],\n",
       "       [ 2.867200e+04, -7.193113e+01],\n",
       "       [ 2.892800e+04, -7.215746e+01],\n",
       "       [ 2.918400e+04, -7.231209e+01],\n",
       "       [ 2.944000e+04, -7.224316e+01],\n",
       "       [ 2.969600e+04, -7.207613e+01],\n",
       "       [ 2.995200e+04, -7.200568e+01],\n",
       "       [ 3.020800e+04, -7.217950e+01],\n",
       "       [ 3.046400e+04, -7.226479e+01],\n",
       "       [ 3.072000e+04, -7.229242e+01],\n",
       "       [ 3.097600e+04, -7.245659e+01],\n",
       "       [ 3.123200e+04, -7.263532e+01],\n",
       "       [ 3.148800e+04, -7.271977e+01],\n",
       "       [ 3.174400e+04, -7.267509e+01],\n",
       "       [ 3.200000e+04, -7.266251e+01],\n",
       "       [ 3.225600e+04, -7.289674e+01],\n",
       "       [ 3.251200e+04, -7.274387e+01],\n",
       "       [ 3.276800e+04, -7.251082e+01],\n",
       "       [ 3.302400e+04, -7.230563e+01],\n",
       "       [ 3.328000e+04, -7.256117e+01],\n",
       "       [ 3.353600e+04, -7.262276e+01],\n",
       "       [ 3.379200e+04, -7.209261e+01],\n",
       "       [ 3.404800e+04, -7.185385e+01],\n",
       "       [ 3.430400e+04, -7.161890e+01],\n",
       "       [ 3.456000e+04, -7.151602e+01],\n",
       "       [ 3.481600e+04, -7.192887e+01],\n",
       "       [ 3.507200e+04, -7.232847e+01],\n",
       "       [ 3.532800e+04, -7.254097e+01],\n",
       "       [ 3.558400e+04, -7.237447e+01],\n",
       "       [ 3.584000e+04, -7.214735e+01],\n",
       "       [ 3.609600e+04, -7.222810e+01],\n",
       "       [ 3.635200e+04, -7.257831e+01],\n",
       "       [ 3.660800e+04, -7.286324e+01],\n",
       "       [ 3.686400e+04, -7.288315e+01],\n",
       "       [ 3.712000e+04, -7.256165e+01],\n",
       "       [ 3.737600e+04, -7.245199e+01],\n",
       "       [ 3.763200e+04, -7.245330e+01],\n",
       "       [ 3.788800e+04, -7.250368e+01],\n",
       "       [ 3.814400e+04, -7.274004e+01],\n",
       "       [ 3.840000e+04, -7.247964e+01],\n",
       "       [ 3.865600e+04, -7.218715e+01],\n",
       "       [ 3.891200e+04, -7.198201e+01],\n",
       "       [ 3.916800e+04, -7.178035e+01],\n",
       "       [ 3.942400e+04, -7.200578e+01],\n",
       "       [ 3.968000e+04, -7.280859e+01],\n",
       "       [ 3.993600e+04, -7.279111e+01],\n",
       "       [ 4.019200e+04, -7.207076e+01],\n",
       "       [ 4.044800e+04, -7.185438e+01],\n",
       "       [ 4.070400e+04, -7.166501e+01],\n",
       "       [ 4.096000e+04, -7.200124e+01],\n",
       "       [ 4.121600e+04, -7.294347e+01],\n",
       "       [ 4.147200e+04, -7.294160e+01],\n",
       "       [ 4.172800e+04, -7.237988e+01],\n",
       "       [ 4.198400e+04, -7.233488e+01],\n",
       "       [ 4.224000e+04, -7.246809e+01],\n",
       "       [ 4.249600e+04, -7.234831e+01],\n",
       "       [ 4.275200e+04, -7.231489e+01],\n",
       "       [ 4.300800e+04, -7.220050e+01],\n",
       "       [ 4.326400e+04, -7.179694e+01],\n",
       "       [ 4.352000e+04, -7.188767e+01],\n",
       "       [ 4.377600e+04, -7.188692e+01],\n",
       "       [ 4.403200e+04, -7.210197e+01],\n",
       "       [ 4.428800e+04, -7.219456e+01],\n",
       "       [ 4.454400e+04, -7.178278e+01],\n",
       "       [ 4.480000e+04, -7.153381e+01],\n",
       "       [ 4.505600e+04, -7.180023e+01],\n",
       "       [ 4.531200e+04, -7.214980e+01],\n",
       "       [ 4.556800e+04, -7.204652e+01],\n",
       "       [ 4.582400e+04, -7.191785e+01],\n",
       "       [ 4.608000e+04, -7.175780e+01],\n",
       "       [ 4.633600e+04, -7.158817e+01],\n",
       "       [ 4.659200e+04, -7.159864e+01],\n",
       "       [ 4.684800e+04, -7.171803e+01],\n",
       "       [ 4.710400e+04, -7.206135e+01],\n",
       "       [ 4.736000e+04, -7.212128e+01],\n",
       "       [ 4.761600e+04, -7.192641e+01],\n",
       "       [ 4.787200e+04, -7.191015e+01],\n",
       "       [ 4.812800e+04, -7.176872e+01],\n",
       "       [ 4.838400e+04, -7.168861e+01],\n",
       "       [ 4.864000e+04, -7.163777e+01],\n",
       "       [ 4.889600e+04, -7.145177e+01],\n",
       "       [ 4.915200e+04, -7.091106e+01],\n",
       "       [ 4.940800e+04, -7.088475e+01],\n",
       "       [ 4.966400e+04, -7.118702e+01],\n",
       "       [ 4.992000e+04, -7.112144e+01],\n",
       "       [ 5.017600e+04, -7.123685e+01],\n",
       "       [ 5.043200e+04, -7.126421e+01],\n",
       "       [ 5.068800e+04, -7.133511e+01],\n",
       "       [ 5.094400e+04, -7.156689e+01],\n",
       "       [ 5.120000e+04, -7.151415e+01],\n",
       "       [ 5.145600e+04, -7.128352e+01],\n",
       "       [ 5.171200e+04, -7.144140e+01],\n",
       "       [ 5.196800e+04, -7.154843e+01],\n",
       "       [ 5.222400e+04, -7.119619e+01],\n",
       "       [ 5.248000e+04, -7.072127e+01],\n",
       "       [ 5.273600e+04, -7.077032e+01],\n",
       "       [ 5.299200e+04, -7.109922e+01],\n",
       "       [ 5.324800e+04, -7.118345e+01],\n",
       "       [ 5.350400e+04, -7.108710e+01],\n",
       "       [ 5.376000e+04, -7.119095e+01],\n",
       "       [ 5.401600e+04, -7.130766e+01],\n",
       "       [ 5.427200e+04, -7.139640e+01],\n",
       "       [ 5.452800e+04, -7.159112e+01],\n",
       "       [ 5.478400e+04, -7.153652e+01],\n",
       "       [ 5.504000e+04, -7.117580e+01],\n",
       "       [ 5.529600e+04, -7.051354e+01],\n",
       "       [ 5.555200e+04, -7.048503e+01],\n",
       "       [ 5.580800e+04, -7.089231e+01],\n",
       "       [ 5.606400e+04, -7.077279e+01],\n",
       "       [ 5.632000e+04, -7.069694e+01],\n",
       "       [ 5.657600e+04, -7.071966e+01],\n",
       "       [ 5.683200e+04, -7.095512e+01],\n",
       "       [ 5.708800e+04, -7.108923e+01],\n",
       "       [ 5.734400e+04, -7.096738e+01],\n",
       "       [ 5.760000e+04, -7.046523e+01],\n",
       "       [ 5.785600e+04, -7.038866e+01],\n",
       "       [ 5.811200e+04, -7.097310e+01],\n",
       "       [ 5.836800e+04, -7.099141e+01],\n",
       "       [ 5.862400e+04, -7.026054e+01],\n",
       "       [ 5.888000e+04, -6.980913e+01],\n",
       "       [ 5.913600e+04, -6.958777e+01],\n",
       "       [ 5.939200e+04, -6.967783e+01],\n",
       "       [ 5.964800e+04, -7.008369e+01],\n",
       "       [ 5.990400e+04, -7.054877e+01],\n",
       "       [ 6.016000e+04, -7.060718e+01],\n",
       "       [ 6.041600e+04, -7.044299e+01],\n",
       "       [ 6.067200e+04, -7.076670e+01],\n",
       "       [ 6.092800e+04, -7.078911e+01],\n",
       "       [ 6.118400e+04, -7.045882e+01],\n",
       "       [ 6.144000e+04, -7.048738e+01],\n",
       "       [ 6.169600e+04, -7.077325e+01],\n",
       "       [ 6.195200e+04, -7.073478e+01],\n",
       "       [ 6.220800e+04, -7.060778e+01],\n",
       "       [ 6.246400e+04, -7.056303e+01],\n",
       "       [ 6.272000e+04, -7.097383e+01],\n",
       "       [ 6.297600e+04, -7.088129e+01],\n",
       "       [ 6.323200e+04, -7.048338e+01],\n",
       "       [ 6.348800e+04, -7.027869e+01],\n",
       "       [ 6.374400e+04, -7.023457e+01],\n",
       "       [ 6.400000e+04, -7.004360e+01],\n",
       "       [ 6.425600e+04, -6.996642e+01],\n",
       "       [ 6.451200e+04, -6.982481e+01],\n",
       "       [ 6.476800e+04, -6.966902e+01],\n",
       "       [ 6.502400e+04, -7.045278e+01],\n",
       "       [ 6.528000e+04, -7.086462e+01],\n",
       "       [ 6.553600e+04, -7.042861e+01],\n",
       "       [ 6.579200e+04, -7.029474e+01],\n",
       "       [ 6.604800e+04, -7.043208e+01],\n",
       "       [ 6.630400e+04, -7.041087e+01],\n",
       "       [ 6.656000e+04, -7.011043e+01],\n",
       "       [ 6.681600e+04, -7.013694e+01],\n",
       "       [ 6.707200e+04, -7.051398e+01],\n",
       "       [ 6.732800e+04, -7.027330e+01],\n",
       "       [ 6.758400e+04, -6.974960e+01],\n",
       "       [ 6.784000e+04, -6.959795e+01],\n",
       "       [ 6.809600e+04, -6.997150e+01],\n",
       "       [ 6.835200e+04, -7.027540e+01],\n",
       "       [ 6.860800e+04, -7.013414e+01],\n",
       "       [ 6.886400e+04, -6.978540e+01],\n",
       "       [ 6.912000e+04, -6.988383e+01],\n",
       "       [ 6.937600e+04, -7.055322e+01],\n",
       "       [ 6.963200e+04, -7.040705e+01],\n",
       "       [ 6.988800e+04, -6.990416e+01],\n",
       "       [ 7.014400e+04, -6.959737e+01],\n",
       "       [ 7.040000e+04, -6.964639e+01],\n",
       "       [ 7.065600e+04, -6.991557e+01],\n",
       "       [ 7.091200e+04, -7.013702e+01],\n",
       "       [ 7.116800e+04, -7.043515e+01],\n",
       "       [ 7.142400e+04, -7.027663e+01],\n",
       "       [ 7.168000e+04, -7.004984e+01],\n",
       "       [ 7.193600e+04, -7.023308e+01],\n",
       "       [ 7.219200e+04, -6.974820e+01],\n",
       "       [ 7.244800e+04, -6.942725e+01],\n",
       "       [ 7.270400e+04, -6.986260e+01],\n",
       "       [ 7.296000e+04, -7.019482e+01],\n",
       "       [ 7.321600e+04, -7.005944e+01],\n",
       "       [ 7.347200e+04, -6.997266e+01],\n",
       "       [ 7.372800e+04, -7.002866e+01],\n",
       "       [ 7.398400e+04, -7.014519e+01],\n",
       "       [ 7.424000e+04, -6.988672e+01],\n",
       "       [ 7.449600e+04, -6.965261e+01],\n",
       "       [ 7.475200e+04, -6.955075e+01],\n",
       "       [ 7.500800e+04, -6.994830e+01],\n",
       "       [ 7.526400e+04, -7.019011e+01],\n",
       "       [ 7.552000e+04, -6.999111e+01],\n",
       "       [ 7.577600e+04, -6.969486e+01],\n",
       "       [ 7.603200e+04, -6.979949e+01],\n",
       "       [ 7.628800e+04, -7.008216e+01],\n",
       "       [ 7.654400e+04, -6.987342e+01],\n",
       "       [ 7.680000e+04, -6.970049e+01],\n",
       "       [ 7.705600e+04, -6.989106e+01],\n",
       "       [ 7.731200e+04, -7.000497e+01],\n",
       "       [ 7.756800e+04, -6.991228e+01],\n",
       "       [ 7.782400e+04, -6.953181e+01],\n",
       "       [ 7.808000e+04, -6.932095e+01],\n",
       "       [ 7.833600e+04, -6.988988e+01],\n",
       "       [ 7.859200e+04, -7.042521e+01],\n",
       "       [ 7.884800e+04, -7.047860e+01],\n",
       "       [ 7.910400e+04, -6.975298e+01],\n",
       "       [ 7.936000e+04, -6.917904e+01],\n",
       "       [ 7.961600e+04, -6.911948e+01],\n",
       "       [ 7.987200e+04, -6.917509e+01],\n",
       "       [ 8.012800e+04, -6.890918e+01],\n",
       "       [ 8.038400e+04, -6.893278e+01],\n",
       "       [ 8.064000e+04, -6.928482e+01],\n",
       "       [ 8.089600e+04, -6.965948e+01],\n",
       "       [ 8.115200e+04, -6.973289e+01],\n",
       "       [ 8.140800e+04, -6.973350e+01],\n",
       "       [ 8.166400e+04, -7.001440e+01],\n",
       "       [ 8.192000e+04, -7.037395e+01],\n",
       "       [ 8.217600e+04, -7.033817e+01],\n",
       "       [ 8.243200e+04, -7.012392e+01],\n",
       "       [ 8.268800e+04, -6.994759e+01],\n",
       "       [ 8.294400e+04, -6.970528e+01],\n",
       "       [ 8.320000e+04, -6.963535e+01],\n",
       "       [ 8.345600e+04, -6.979192e+01],\n",
       "       [ 8.371200e+04, -6.991264e+01],\n",
       "       [ 8.396800e+04, -7.017583e+01],\n",
       "       [ 8.422400e+04, -7.014968e+01],\n",
       "       [ 8.448000e+04, -6.996270e+01],\n",
       "       [ 8.473600e+04, -7.013853e+01],\n",
       "       [ 8.499200e+04, -7.010731e+01],\n",
       "       [ 8.524800e+04, -7.003501e+01],\n",
       "       [ 8.550400e+04, -6.994083e+01],\n",
       "       [ 8.576000e+04, -6.934621e+01],\n",
       "       [ 8.601600e+04, -6.935938e+01],\n",
       "       [ 8.627200e+04, -7.000357e+01],\n",
       "       [ 8.652800e+04, -7.029379e+01],\n",
       "       [ 8.678400e+04, -7.019288e+01],\n",
       "       [ 8.704000e+04, -7.022240e+01],\n",
       "       [ 8.729600e+04, -7.042014e+01],\n",
       "       [ 8.755200e+04, -7.011489e+01],\n",
       "       [ 8.780800e+04, -7.018229e+01],\n",
       "       [ 8.806400e+04, -7.008870e+01],\n",
       "       [ 8.832000e+04, -7.023388e+01],\n",
       "       [ 8.857600e+04, -7.017169e+01],\n",
       "       [ 8.883200e+04, -6.962682e+01],\n",
       "       [ 8.908800e+04, -6.965928e+01],\n",
       "       [ 8.934400e+04, -6.994576e+01],\n",
       "       [ 8.960000e+04, -7.008373e+01],\n",
       "       [ 8.985600e+04, -6.989691e+01],\n",
       "       [ 9.011200e+04, -6.996928e+01],\n",
       "       [ 9.036800e+04, -6.992247e+01],\n",
       "       [ 9.062400e+04, -6.951268e+01],\n",
       "       [ 9.088000e+04, -6.967010e+01],\n",
       "       [ 9.113600e+04, -6.974720e+01],\n",
       "       [ 9.139200e+04, -6.979758e+01],\n",
       "       [ 9.164800e+04, -6.998577e+01],\n",
       "       [ 9.190400e+04, -6.973387e+01],\n",
       "       [ 9.216000e+04, -6.964655e+01],\n",
       "       [ 9.241600e+04, -6.997669e+01],\n",
       "       [ 9.267200e+04, -7.027954e+01],\n",
       "       [ 9.292800e+04, -7.015122e+01],\n",
       "       [ 9.318400e+04, -6.981615e+01],\n",
       "       [ 9.344000e+04, -6.980363e+01],\n",
       "       [ 9.369600e+04, -6.986411e+01],\n",
       "       [ 9.395200e+04, -6.975543e+01],\n",
       "       [ 9.420800e+04, -6.972717e+01],\n",
       "       [ 9.446400e+04, -7.002868e+01],\n",
       "       [ 9.472000e+04, -7.028891e+01],\n",
       "       [ 9.497600e+04, -7.019456e+01],\n",
       "       [ 9.523200e+04, -7.003682e+01],\n",
       "       [ 9.548800e+04, -7.025929e+01],\n",
       "       [ 9.574400e+04, -7.023949e+01],\n",
       "       [ 9.600000e+04, -7.033869e+01],\n",
       "       [ 9.625600e+04, -7.057486e+01],\n",
       "       [ 9.651200e+04, -7.082188e+01],\n",
       "       [ 9.676800e+04, -7.059680e+01],\n",
       "       [ 9.702400e+04, -7.012020e+01],\n",
       "       [ 9.728000e+04, -6.994136e+01],\n",
       "       [ 9.753600e+04, -7.004177e+01],\n",
       "       [ 9.779200e+04, -7.019279e+01],\n",
       "       [ 9.804800e+04, -7.026003e+01],\n",
       "       [ 9.830400e+04, -7.028963e+01],\n",
       "       [ 9.856000e+04, -7.027518e+01],\n",
       "       [ 9.881600e+04, -7.012199e+01],\n",
       "       [ 9.907200e+04, -7.009081e+01],\n",
       "       [ 9.932800e+04, -6.987624e+01],\n",
       "       [ 9.958400e+04, -6.976817e+01],\n",
       "       [ 9.984000e+04, -7.024790e+01],\n",
       "       [ 1.000960e+05, -7.075008e+01],\n",
       "       [ 1.003520e+05, -7.091395e+01],\n",
       "       [ 1.006080e+05, -7.095683e+01],\n",
       "       [ 1.008640e+05, -7.068725e+01],\n",
       "       [ 1.011200e+05, -7.063197e+01],\n",
       "       [ 1.013760e+05, -7.076254e+01],\n",
       "       [ 1.016320e+05, -7.054546e+01],\n",
       "       [ 1.018880e+05, -7.038638e+01],\n",
       "       [ 1.021440e+05, -7.050903e+01],\n",
       "       [ 1.024000e+05, -7.023151e+01]])"
      ]
     },
     "execution_count": 24,
     "metadata": {},
     "output_type": "execute_result"
    }
   ],
   "source": [
    "ascdata[0]"
   ]
  },
  {
   "cell_type": "code",
   "execution_count": 8,
   "metadata": {},
   "outputs": [],
   "source": [
    "# frequency [Hz], voltage [V] (if you selected linear/linear when saving the .mat file)\n",
    "# hz1,v1 = mat960['srs960rin'].transpose()\n",
    "hz2,v2 = mat780['srs780arin'].transpose()\n",
    "hz3,v3 = mat780b['srs780brin'].transpose()\n",
    "hz4,v4 = ascdata[0].transpose()\n",
    "\n",
    "# the DC voltage recorded\n",
    "vdc1 = .80\n",
    "vdc2 = .67\n",
    "vdc3 = vdc1\n",
    "vdc4 = .310"
   ]
  },
  {
   "cell_type": "code",
   "execution_count": 9,
   "metadata": {},
   "outputs": [
    {
     "data": {
      "text/plain": [
       "[<matplotlib.lines.Line2D at 0x1e5358e7400>]"
      ]
     },
     "execution_count": 9,
     "metadata": {},
     "output_type": "execute_result"
    },
    {
     "data": {
      "image/png": "[encoded data removed]",
      "text/plain": [
       "<Figure size 432x288 with 1 Axes>"
      ]
     },
     "metadata": {
      "needs_background": "light"
     },
     "output_type": "display_data"
    }
   ],
   "source": [
    "plt.plot(hz4, v4)"
   ]
  },
  {
   "cell_type": "code",
   "execution_count": 10,
   "metadata": {
    "scrolled": false
   },
   "outputs": [
    {
     "name": "stderr",
     "output_type": "stream",
     "text": [
      "C:\\Users\\gothr\\Anaconda3\\lib\\site-packages\\numpy\\core\\numeric.py:538: ComplexWarning: Casting complex values to real discards the imaginary part\n",
      "  return array(a, dtype, copy=False, order=order)\n"
     ]
    },
    {
     "data": {
      "image/png": "[encoded data removed]",
      "text/plain": [
       "<Figure size 600x400 with 1 Axes>"
      ]
     },
     "metadata": {
      "needs_background": "light"
     },
     "output_type": "display_data"
    }
   ],
   "source": [
    "fig, ax = plt.subplots(dpi=100)\n",
    "ax.plot(hz4/1e3,10*log10((10**(v4/10)/vdc4)), label='Moglabs, after noise eater (2020.12.23)') # note the base 10 log and \n",
    "ax.plot(hz3/1e3,10*log10(v3/vdc3), label='Moglabs (2020.01.09)',) # note the base 10 log and \n",
    "ax.plot(hz2/1e3,10*log10(v2/vdc2), label='Homemade ECDL (2020.01.09)',c='green')\n",
    "# ax.plot(hz1/1e3,10*log10(v1/vdc1), label='960 (Toptica ECDL)',c='red')\n",
    "ax.set_title(\"RIN Measurement - Rydberg 780 Lasers\")\n",
    "ax.set_xlabel(\"Frequency [kHz]\")\n",
    "ax.set_ylabel(\"Amplitude [dB]\")\n",
    "ax.legend()\n",
    "fname = 'rin_compare_780A_20201223.png'\n",
    "# plt.savefig(fname, bbox_inches='tight')"
   ]
  },
  {
   "cell_type": "code",
   "execution_count": 32,
   "metadata": {},
   "outputs": [
    {
     "name": "stdout",
     "output_type": "stream",
     "text": [
      "wrote data to soln_rin_780_20201223.csv\n"
     ]
    }
   ],
   "source": [
    "fname = 'soln_rin_780_20201223.csv'\n",
    "lbls = ['frequency [Hz]',\n",
    "        'Moglabs after noise eater']\n",
    "\n",
    "rin1 = [vdc4] + list(v4)\n",
    "data = [ hz4, rin1 ] # first datum in each rin column is the dc voltage\n",
    "# soln_to_csv(fname, data, lbls)"
   ]
  },
  {
   "cell_type": "code",
   "execution_count": 22,
   "metadata": {},
   "outputs": [
    {
     "name": "stdout",
     "output_type": "stream",
     "text": [
      "wrote data to soln_rin_compare_780_20200109.csv\n"
     ]
    }
   ],
   "source": [
    "fname = 'soln_rin_compare_780_20200109.csv'\n",
    "lbls = ['frequency [Hz]',\n",
    "        'Moglabs (2020.01.09)',\n",
    "        'Homemade ECDL (2020.01.09)']\n",
    "data3 = [vdc3]\n",
    "data3 += list(v3)\n",
    "data2 = [vdc2]\n",
    "data2 += list(v2)\n",
    "data = [ hz2, data3, data2 ] # first datum in each column is the dc voltage\n",
    "# soln_to_csv(fname, data, lbls)"
   ]
  },
  {
   "cell_type": "code",
   "execution_count": 33,
   "metadata": {},
   "outputs": [],
   "source": [
    "(f,x1), testlbls = soln_from_csv(fname)"
   ]
  },
  {
   "cell_type": "code",
   "execution_count": 35,
   "metadata": {},
   "outputs": [
    {
     "data": {
      "text/plain": [
       "<matplotlib.legend.Legend at 0x1e536df09e8>"
      ]
     },
     "execution_count": 35,
     "metadata": {},
     "output_type": "execute_result"
    },
    {
     "data": {
      "image/png": "[encoded data removed]",
      "text/plain": [
       "<Figure size 432x288 with 1 Axes>"
      ]
     },
     "metadata": {
      "needs_background": "light"
     },
     "output_type": "display_data"
    }
   ],
   "source": [
    "plt.plot(f,x1[1:], label=testlbls[1])\n",
    "# plt.plot(f,10*log10(x1[1:]/x1[0]), label=testlbls[1])\n",
    "plt.legend()"
   ]
  },
  {
   "cell_type": "code",
   "execution_count": null,
   "metadata": {},
   "outputs": [],
   "source": [
    "# the DC voltage recorded\n",
    "vdc1 = .80\n",
    "vdc2 = .67\n",
    "vdc3 = .3\n",
    "\n",
    "fig, ax = plt.subplots()\n",
    "ax.plot(hz3/1e3,10*log10(v3/vdc3), label='780B (Moglabs ECDL)',) # note the base 10 log and \n",
    "# ax.plot(hz2/1e3,10*log10(v2/vdc2), label='780A (Homemade ECDL)',c='green')\n",
    "# ax.plot(hz1/1e3,10*log10(v1/vdc1), label='960 (Toptica ECDL)',c='red')\n",
    "ax.set_title(\"RIN Measurement 2020/01/09\")\n",
    "ax.set_xlabel(\"Frequency [kHz]\")\n",
    "ax.set_ylabel(\"Amplitude [dB]\")\n",
    "ax.legend()"
   ]
  }
 ],
 "metadata": {
  "kernelspec": {
   "display_name": "Python 3",
   "language": "python",
   "name": "python3"
  },
  "language_info": {
   "codemirror_mode": {
    "name": "ipython",
    "version": 3
   },
   "file_extension": ".py",
   "mimetype": "text/x-python",
   "name": "python",
   "nbconvert_exporter": "python",
   "pygments_lexer": "ipython3",
   "version": "3.7.3"
  }
 },
 "nbformat": 4,
 "nbformat_minor": 2
}
