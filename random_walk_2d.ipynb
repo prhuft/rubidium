{
 "cells": [
  {
   "cell_type": "code",
   "execution_count": 30,
   "metadata": {},
   "outputs": [],
   "source": [
    "## LIBRARIES \n",
    "import matplotlib.pyplot as plt\n",
    "from math import e,pi\n",
    "import numpy as np\n",
    "from numpy import linspace,arange,sqrt,sin,cos,exp,empty\n",
    "from random import random as rand\n",
    "from physconsts import kB\n",
    "from rbconsts import mRb"
   ]
  },
  {
   "cell_type": "code",
   "execution_count": 85,
   "metadata": {},
   "outputs": [
    {
     "name": "stdout",
     "output_type": "stream",
     "text": [
      "T0=0.010341528062747523\n"
     ]
    },
    {
     "data": {
      "image/png": "[encoded data removed]",
      "text/plain": [
       "<Figure size 432x288 with 1 Axes>"
      ]
     },
     "metadata": {
      "needs_background": "light"
     },
     "output_type": "display_data"
    }
   ],
   "source": [
    "# Code in time step, actual velocity dependent pgc force\n",
    "# Give atom a predefined initial velocity corresponding\n",
    "# to a chosen temp\n",
    "\n",
    "iters = 50 \n",
    "f = .1\n",
    "\n",
    "xlist = empty(iters)\n",
    "ylist = empty(iters)\n",
    "xlist[0],ylist[0]=0,0\n",
    "ylist[1],ylist[1]=rand(),rand()\n",
    "\n",
    "rlist = empty(iters)\n",
    "rlist[0]=sqrt(xlist[0]**2+ylist[0]**2)\n",
    "rlist[1]=sqrt(xlist[1]**2+ylist[1]**2)\n",
    "\n",
    "Tlist = empty(iters)\n",
    "Tlist[0] = mRb*((xlist[1]-xlist[0])**2+(ylist[1]-ylist[0])**2)/kB\n",
    "Tlist[1] = Tlist[0]\n",
    "print(f\"T0={Tlist[0]}\")\n",
    "\n",
    "for i in range(iters-2):\n",
    "    x = xlist[0]\n",
    "    y = ylist[0]\n",
    "    \n",
    "    # get a kick proportional to the \"velocity\"\n",
    "    x += -f*(xlist[i]-xlist[i-1])\n",
    "    y += -f*(ylist[i]-ylist[i-1])\n",
    "    \n",
    "    # get a random kick of same magnitude\n",
    "    v = sqrt((xlist[i]-xlist[i-1])**2+(ylist[i]-ylist[i-1])**2)\n",
    "    phi = 2*pi*rand()\n",
    "    x += f*v*cos(phi)\n",
    "    y += f*v*sin(phi)\n",
    "    \n",
    "#     print(f\"x={x},y={y},v={v}\")\n",
    "    \n",
    "    xlist[i+2]=x\n",
    "    ylist[i+2]=y\n",
    "    rlist[i+2]=sqrt(x**2+y**2)\n",
    "    Tlist[i+2] = mRb*v**2/kB\n",
    "\n",
    "# zoomed out\n",
    "# plt.plot(xlist,ylist)\n",
    "# plt.xlim(-1,1)\n",
    "# plt.ylim(-1,1)\n",
    "\n",
    "# zoomed in\n",
    "# plt.plot(xlist,ylist)\n",
    "# plt.xlim(-.2,.2)\n",
    "# plt.ylim(-.2,.2)\n",
    "\n",
    "# temp\n",
    "plt.plot(range(iters),Tlist)\n",
    "plt.plot(range(iters),rlist)\n",
    "plt.show()"
   ]
  },
  {
   "cell_type": "code",
   "execution_count": 56,
   "metadata": {},
   "outputs": [
    {
     "data": {
      "text/plain": [
       "0.010279033099152604"
      ]
     },
     "execution_count": 56,
     "metadata": {},
     "output_type": "execute_result"
    }
   ],
   "source": [
    "mRb/kB"
   ]
  },
  {
   "cell_type": "code",
   "execution_count": 80,
   "metadata": {},
   "outputs": [
    {
     "data": {
      "text/plain": [
       "0.020073421230067088"
      ]
     },
     "execution_count": 80,
     "metadata": {},
     "output_type": "execute_result"
    }
   ],
   "source": [
    "Tlist[0]"
   ]
  },
  {
   "cell_type": "code",
   "execution_count": 78,
   "metadata": {},
   "outputs": [
    {
     "data": {
      "text/plain": [
       "0.0"
      ]
     },
     "execution_count": 78,
     "metadata": {},
     "output_type": "execute_result"
    }
   ],
   "source": [
    "(xlist[1]-xlist[0])"
   ]
  },
  {
   "cell_type": "code",
   "execution_count": 86,
   "metadata": {},
   "outputs": [
    {
     "data": {
      "text/plain": [
       "'hola'"
      ]
     },
     "execution_count": 86,
     "metadata": {},
     "output_type": "execute_result"
    }
   ],
   "source": [
    "\"hola  \".rstrip()"
   ]
  },
  {
   "cell_type": "code",
   "execution_count": null,
   "metadata": {},
   "outputs": [],
   "source": []
  }
 ],
 "metadata": {
  "kernelspec": {
   "display_name": "Python 3",
   "language": "python",
   "name": "python3"
  },
  "language_info": {
   "codemirror_mode": {
    "name": "ipython",
    "version": 3
   },
   "file_extension": ".py",
   "mimetype": "text/x-python",
   "name": "python",
   "nbconvert_exporter": "python",
   "pygments_lexer": "ipython3",
   "version": "3.7.3"
  }
 },
 "nbformat": 4,
 "nbformat_minor": 2
}
