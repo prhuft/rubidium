{
 "cells": [
  {
   "cell_type": "markdown",
   "metadata": {},
   "source": [
    "# Rb87 Polarizability Calcs"
   ]
  },
  {
   "cell_type": "markdown",
   "metadata": {},
   "source": [
    "## Dynamic polarizability\n",
    "$\\alpha_0$: scalar shift. no dependence on light polarization <br/>\n",
    "$\\alpha_1$: vector shift. zero for linear light or $j_a=0$ <br/>\n",
    "$\\alpha_2$: tensor shift. non-zero for $j_a\\geq1$ <br/>"
   ]
  },
  {
   "cell_type": "code",
   "execution_count": 2,
   "metadata": {},
   "outputs": [],
   "source": [
    "#### libraries\n",
    "from numpy import *\n",
    "import matplotlib.pyplot as plt\n",
    "from arc import *\n",
    "from sympy.physics.wigner import wigner_6j,wigner_3j,clebsch_gordan\n",
    "\n",
    "#### local files\n",
    "from physconsts import *\n",
    "from rbconsts import *\n",
    "from amophys import *\n",
    "\n",
    "s = 0.5 # electron spin to be used throughout the notebook"
   ]
  },
  {
   "cell_type": "code",
   "execution_count": 3,
   "metadata": {},
   "outputs": [
    {
     "data": {
      "text/plain": [
       "-4.271676631815196"
      ]
     },
     "execution_count": 3,
     "metadata": {},
     "output_type": "execute_result"
    }
   ],
   "source": [
    "n=5\n",
    "l=0\n",
    "j=0.5\n",
    "f=1\n",
    "hf_states[n][l][j][f]"
   ]
  },
  {
   "cell_type": "markdown",
   "metadata": {},
   "source": [
    "## Fine structure energy corrections\n",
    "\n",
    "$A = \\frac{g_I}{h n^3 J(J+1)(2L+1)}E_H \\alpha^2 \\frac{m}{m_P}$\n",
    "\n",
    "$\\Delta E = \\frac{h A}{2}(F(F+1) - I(I+1) - J(J+1))$ is the splitting from the c.o.m. energy of the level F. "
   ]
  },
  {
   "cell_type": "code",
   "execution_count": 24,
   "metadata": {},
   "outputs": [],
   "source": [
    "gnuc = 1.6778809412165474e-06 # solved for here so not exact S.I. units i guess\n",
    "\n",
    "Aconst = lambda n,l,j: gnuc*EH*alpha**2*me/(2*pi*hbar*n**3*j*(j+1)*(2*l+1)*mp)\n",
    "hfshift = lambda n,l,j,f: Aconst(n,l,j)*(f*(f+1)-I*(I+1)-j*(j+1))/2"
   ]
  },
  {
   "cell_type": "code",
   "execution_count": 32,
   "metadata": {
    "scrolled": true
   },
   "outputs": [
    {
     "data": {
      "text/plain": [
       "(-4.271250000000001, 2.5627500000000003)"
      ]
     },
     "execution_count": 32,
     "metadata": {},
     "output_type": "execute_result"
    }
   ],
   "source": [
    "## 5S1/2 shifts\n",
    "hfshift(5,0,0.5,1),hfshift(5,0,0.5,2)"
   ]
  },
  {
   "cell_type": "code",
   "execution_count": 34,
   "metadata": {
    "scrolled": true
   },
   "outputs": [
    {
     "data": {
      "text/plain": [
       "[-0.8542500000000001,\n",
       " -0.6264500000000001,\n",
       " -0.17085000000000003,\n",
       " 0.5125500000000001]"
      ]
     },
     "execution_count": 34,
     "metadata": {},
     "output_type": "execute_result"
    }
   ],
   "source": [
    "## 5P3/2 shifts - these don't closely agree with Steck\n",
    "[hfshift(5,1,1.5,f) for f in [0,1,2,3]]"
   ]
  },
  {
   "cell_type": "code",
   "execution_count": 35,
   "metadata": {},
   "outputs": [
    {
     "data": {
      "text/plain": [
       "1.0000005042493443"
      ]
     },
     "execution_count": 35,
     "metadata": {},
     "output_type": "execute_result"
    }
   ],
   "source": [
    "(384230.6782093585**2 - 384232.6782093585**2)/(384230.4844685**2 - 384232.4844685**2)"
   ]
  },
  {
   "cell_type": "code",
   "execution_count": 26,
   "metadata": {},
   "outputs": [
    {
     "data": {
      "text/plain": [
       "1.6778809412165474e-06"
      ]
     },
     "execution_count": 26,
     "metadata": {},
     "output_type": "execute_result"
    }
   ],
   "source": [
    "(EH*alpha**2*me/(3.417*2*pi*hbar*5**3*.5*(.5+1)*(2*0+1)*mp))**-1"
   ]
  },
  {
   "cell_type": "code",
   "execution_count": 8,
   "metadata": {},
   "outputs": [
    {
     "data": {
      "text/plain": [
       "3.4170000000000007"
      ]
     },
     "execution_count": 8,
     "metadata": {},
     "output_type": "execute_result"
    }
   ],
   "source": [
    "Aconst(5,1/2,0)"
   ]
  },
  {
   "cell_type": "markdown",
   "metadata": {},
   "source": [
    "## Dynamic polarizabilities for hyperfine states\n",
    "Below, the labels $F,F'$ refer to hyperfine levels $|n,L,J,F\\rangle,|n',L',J',F'\\rangle$, where the quantum numbers $I,S$ are the same between the two states and hence have been suppressed. Therefore the sums over F' are sums over such levels, rather than over the quantum number F. \n",
    "\n",
    "The total hyperfine polarizability, using scalar (S), vector (V), and tensor (T) polarizabilities which are decoupled from the projection $m_F$, is given by:\n",
    "\n",
    "$\\alpha_{F,m_F}(\\omega) = \\alpha_F^{(S)}(\\omega) + \\hat{k}\\cdot\\hat{B}A\\frac{A m_F}{2F}\\alpha_F^{(V)}(\\omega) + \\left(3|\\hat{\\eta}\\cdot \\hat{B}|^2-1\\right)\\frac{3m_F^2-F(F+1)}{2F(2F-1)}\\alpha_F^{(T)}(\\omega)$\n",
    "\n",
    "where $\\hat{B}$ is the quantization axis unit vector, $\\hat{\\eta}$ is the laser polarization unit vector, $A=0,\\pm1$ corresponds to linear and right/left-handed light polarization, and the $m_F$-independent polarizabilities are\n",
    "\n",
    "$\\alpha_F^{(S)} = \\sum_{F'}\\frac{2\\omega_{F,F'}|\\langle F || \\hat{d} || F'\\rangle|^2}{3\\hbar(\\omega_{F',F}^2-\\omega^2)}$\n",
    "\n",
    "$\\alpha_F^{(V)} = \\sum_{F'}(-1)^{F+F'+1}\\sqrt{\\frac{6F(2F+1)}{F+1}}S_{F,F,F'}^{1,1,1}\\frac{\\omega_{F,F'}|\\langle F || \\hat{d} || F'\\rangle|^2}{\\hbar(\\omega_{F',F}^2-\\omega^2)}$\n",
    "\n",
    "$\\alpha_F^{(T)} = \\sum_{F'}(-1)^{F+F'}\\sqrt{\\frac{40F(2F+1)(2F-1)}{3(F+1)(2F+3)}}S_{F,F,F'}^{1,1,2}\\frac{\\omega_{F,F'}|\\langle F || \\hat{d} || F'\\rangle|^2}{\\hbar(\\omega_{F',F}^2-\\omega^2)}$\n",
    "\n",
    "Hyperfine reduced matrix element expressed in the fine-structure basis:\n",
    "\n",
    "$\\langle F || \\hat{d} || F'\\rangle = (-1)^{1+I+J+F'}\\sqrt{(2F'+1)(2F+1)}S_{F1J}^{J'IF'}\\langle J || \\hat{d} || J'\\rangle$\n",
    "\n",
    "Depending on the convention used to evaluate the fine structure matrix element, it may need to be divided by $\\sqrt{2J+1}$ to yield the correct result.  "
   ]
  },
  {
   "cell_type": "code",
   "execution_count": null,
   "metadata": {},
   "outputs": [],
   "source": [
    "# the energy corrections for the hyperfine states are small enough\n",
    "# that the fine structure angular frequencies will be used in the \n",
    "# sums"
   ]
  },
  {
   "cell_type": "code",
   "execution_count": 4,
   "metadata": {},
   "outputs": [],
   "source": [
    "# analytical expressions for alphaS,V,T in the 5S1/2 levels\n",
    "# from reference above\n",
    "rb = Rubidium87()\n",
    "\n",
    "w01 = 2*pi*(hf_states[5][1][3/2][0] - hf_states[5][0][1/2][1])*1e9\n",
    "w11 = 2*pi*(hf_states[5][1][3/2][1] - hf_states[5][0][1/2][1])*1e9\n",
    "w21 = 2*pi*(hf_states[5][1][3/2][2] - hf_states[5][0][1/2][1])*1e9\n",
    "w12 = 2*pi*(hf_states[5][1][3/2][1] - hf_states[5][0][1/2][2])*1e9\n",
    "w22 = 2*pi*(hf_states[5][1][3/2][2] - hf_states[5][0][1/2][2])*1e9\n",
    "w32 = 2*pi*(hf_states[5][1][3/2][3] - hf_states[5][0][1/2][2])*1e9\n",
    "\n",
    "aS1 = lambda w: (2*1+1)*(w01/(9*(w01**2-w**2)) + 5*w11/(18*(w01**2-w**2)) +\n",
    "                 + 5*w21/(18*(w21**2-w**2)))* \\\n",
    "                (rb.getReducedMatrixElementJ(5, 0, .5, 5, 1, 1.5)*ee*a0)**2/(2*pi*hbar)"
   ]
  },
  {
   "cell_type": "code",
   "execution_count": 5,
   "metadata": {},
   "outputs": [
    {
     "data": {
      "text/plain": [
       "13.070748659091166"
      ]
     },
     "execution_count": 5,
     "metadata": {},
     "output_type": "execute_result"
    }
   ],
   "source": [
    "aS1(w12 - 2*pi*7e8 + 2*pi*6.834*1e9)/(2*pi*hbar*1e3*1e-4)"
   ]
  },
  {
   "cell_type": "markdown",
   "metadata": {},
   "source": [
    "## $\\alpha_F^{(S)}(\\omega)$"
   ]
  },
  {
   "cell_type": "code",
   "execution_count": 6,
   "metadata": {
    "scrolled": false
   },
   "outputs": [],
   "source": [
    "def alpha0_hf_87Rb(state, omega, nlist, atom, I, hf_states=hf_states, printterms=False):\n",
    "    \"\"\"\n",
    "    Returns the scalar polarizability for a hyperfine level |n,j,l,f>\n",
    "    for field with angular frequency omega. nlist is a list or iterable\n",
    "    of the n values to use in the perturbative sum.\n",
    "    \n",
    "    This function uses the hyperfine level frequencies for levels up to \n",
    "    5p3/2 from hf_states in rbconsts.py, which are taken from Steck.\n",
    "    \n",
    "    Args:\n",
    "        'state': list of quantum numbers n,l,j,f\n",
    "        'atom': an Atom object from the Alkali Rydberg Calculator module\n",
    "    Returns:\n",
    "        'alpha0': scalar hyperfine polarizability in S.I. units.\n",
    "    \"\"\"\n",
    "    alpha0 = 0\n",
    "    terms = 0\n",
    "    \n",
    "    n_a, l_a, j_a, f_a = state\n",
    "\n",
    "    # program:\n",
    "    # - loop over levels from nmin to nmax\n",
    "    #  - loop over l\n",
    "    #   - loop over j\n",
    "    #    - loop over f\n",
    "\n",
    "    for n_b in nlist:\n",
    "        for l_b in range(n_b): # runs through n_b - 1, inclusive\n",
    "            for j_b in j3_from_j1j2(s, l_b): \n",
    "\n",
    "                # triangle rule and dipole-allowed conditions\n",
    "                if abs(j_b - j_a) <= 1 and abs(l_b - l_a) == 1:\n",
    "\n",
    "                    try: \n",
    "                        _ = hf_states[n_b][l_b][j_b]\n",
    "                        freq_from_dict = True\n",
    "                        # calculate from dictionary for each f later. \n",
    "                        # assume all possible f for a given j are included in the dictionary\n",
    "\n",
    "                    except KeyError: # ignore the hf shift\n",
    "                        freq_from_dict = False\n",
    "                        omega_ba = 2*pi*(eVToGHz(rb.getEnergy(n_b, l_b, j_b) \\\n",
    "                                     - rb.getEnergy(n_a, l_a, j_a))*1e9)\n",
    "\n",
    "                    matelemJ = rb.getReducedMatrixElementJ(n_a, l_a, j_a, n_b, l_b, j_b)*ee*a0\n",
    "    #                 print(f\"< n={n_a}, l={l_a}, j={j_a} | x | n'={n_b}, l'={l_b}, j'={j_b} >\")\n",
    "\n",
    "                    for f_b in j3_from_j1j2(I, j_b):\n",
    "\n",
    "                        if freq_from_dict:\n",
    "                            omega_ba = 2*pi*abs(hf_states[n_b][l_b][j_b][f_b] - hf_states[n_a][l_a][j_a][f_a])*1e9\n",
    "\n",
    "                        matelemF = hf_reduced_f(f_a,j_a,f_b,j_b,I)*matelemJ\n",
    "\n",
    "                        summand = (2/(3*hbar*(2*f_a+1)))*omega_ba*matelemF**2/(omega_ba**2 - omega**2) \n",
    "                        alpha0 += summand\n",
    "\n",
    "                        terms += 1\n",
    "                        if printterms:\n",
    "                            print(f\"alpha0 ~= {alpha0/(4*pi*e0*1e-30)} [Ang.^3], {terms} terms in sum\")\n",
    "                    \n",
    "    return alpha0"
   ]
  },
  {
   "cell_type": "code",
   "execution_count": 7,
   "metadata": {},
   "outputs": [
    {
     "name": "stdout",
     "output_type": "stream",
     "text": [
      "n=5, l=0, j=0.5, f=2, mf=0\n",
      "alpha0  9.54528368988646 [h*kHz*cm^2/V^2]\n"
     ]
    }
   ],
   "source": [
    "## scalar polarizability test\n",
    "# agrees with Peters paper to within about a percent. Compare with Table 1 values. \n",
    "\n",
    "# our atom\n",
    "rb = Rubidium87()\n",
    "\n",
    "# the hf state of interest\n",
    "n = 5\n",
    "j = 1/2 \n",
    "l = 0\n",
    "f = 2\n",
    "mf = 0\n",
    "q = 1\n",
    "nmin = 5\n",
    "nmax = 8 # exclusive max\n",
    "nlist = range(nmin,nmax)\n",
    "\n",
    "delta = 7e8\n",
    "omega = w12 - 2*pi*delta # omega_1 in Peters paper\n",
    "# omega += 2*pi*6.834*1e9 # omega_2 \" \" \"\n",
    "\n",
    "alpha0 = alpha0_hf_87Rb([n,l,j,f], omega, nlist, atom=rb, I=I)\n",
    "print(f\"n={n}, l={l}, j={j}, f={f}, mf={mf}\")\n",
    "print(\"alpha0 \", alpha0/(2*pi*hbar*1e3*1e-4),\"[h*kHz*cm^2/V^2]\")"
   ]
  },
  {
   "cell_type": "markdown",
   "metadata": {},
   "source": [
    "## $\\alpha_F^{(V)}(\\omega)$"
   ]
  },
  {
   "cell_type": "code",
   "execution_count": 8,
   "metadata": {
    "scrolled": false
   },
   "outputs": [],
   "source": [
    "def alpha1_hf_87Rb(state, omega, nlist, atom, I, hf_states=hf_states, printterms=False):\n",
    "    \"\"\"\n",
    "    Returns the vector polarizability for a hyperfine level |n,j,l,f>\n",
    "    for field with angular frequency omega. nlist is a list or iterable\n",
    "    of the n values to use in the perturbative sum. This definition \n",
    "    does not depend on mf. See Peters paper for full vector polarizability\n",
    "    term. \n",
    "    \n",
    "    This function uses the hyperfine level frequencies for levels up to \n",
    "    5p3/2 from hf_states in rbconsts.py, which are taken from Steck.\n",
    "    \n",
    "    Args:\n",
    "        'state': list of quantum numbers n,l,j,f\n",
    "        'atom': an Atom object from the Alkali Rydberg Calculator module\n",
    "    Returns:\n",
    "        'alpha1': vector hyperfine polarizability in S.I. units.\n",
    "    \"\"\"\n",
    "    alpha1 = 0\n",
    "    terms = 0\n",
    "    \n",
    "    n_a, l_a, j_a, f_a = state\n",
    "\n",
    "    # program:\n",
    "    # - loop over levels from nmin to nmax\n",
    "    #  - loop over l\n",
    "    #   - loop over j\n",
    "    #    - loop over f\n",
    "\n",
    "    for n_b in nlist:\n",
    "        for l_b in range(n_b): # runs through n_b - 1, inclusive\n",
    "            for j_b in j3_from_j1j2(s, l_b): \n",
    "\n",
    "                # triangle rule and dipole-allowed conditions\n",
    "                if abs(j_b - j_a) <= 1 and abs(l_b - l_a) == 1:\n",
    "\n",
    "                    try: \n",
    "                        _ = hf_states[n_b][l_b][j_b]\n",
    "                        freq_from_dict = True\n",
    "                        # calculate from dictionary for each f later. \n",
    "                        # assume all possible f for a given j are included in the dictionary\n",
    "\n",
    "                    except KeyError: # ignore the hf shift energy\n",
    "                        freq_from_dict = False\n",
    "                        omega_ba = 2*pi*(eVToGHz(rb.getEnergy(n_b, l_b, j_b) \\\n",
    "                                     - rb.getEnergy(n_a, l_a, j_a))*1e9)\n",
    "\n",
    "                    matelemJ = rb.getReducedMatrixElementJ(n_a, l_a, j_a, n_b, l_b, j_b)*ee*a0\n",
    "    #                 print(f\"< n={n_a}, l={l_a}, j={j_a} | x | n'={n_b}, l'={l_b}, j'={j_b} >\")\n",
    "\n",
    "                    for f_b in j3_from_j1j2(I, j_b):\n",
    "                        \n",
    "                        if abs(f_b - f_a) <=1:\n",
    "                            if freq_from_dict:\n",
    "                                omega_ba = 2*pi*abs(hf_states[n_b][l_b][j_b][f_b] - hf_states[n_a][l_a][j_a][f_a])*1e9\n",
    "\n",
    "                            matelemF = hf_reduced_f(f_a,j_a,f_b,j_b,I)*matelemJ\n",
    "\n",
    "                            summand = ((-1)**(f_a+f_b+1)*sqrt((6*f_a*(2*f_a+1))/(f_a+1))*wigner_6j(1,1,1,f_a,f_a,f_b)*\n",
    "                                        (1/(hbar*(2*f_a+1)))*omega_ba*matelemF**2/(omega_ba**2 - omega**2))\n",
    "                            alpha1 += summand\n",
    "\n",
    "                            terms += 1\n",
    "                            if printterms:\n",
    "                                print(f\"alpha1 ~= {alpha1/(4*pi*e0*1e-30)} [Ang.^3], {terms} terms in sum\")\n",
    "                    \n",
    "    return float(alpha1)"
   ]
  },
  {
   "cell_type": "code",
   "execution_count": 9,
   "metadata": {},
   "outputs": [
    {
     "name": "stdout",
     "output_type": "stream",
     "text": [
      "n=5, l=0, j=0.5, f=2, mf=0\n",
      "alpha1  -0.8651136938801328 [h*kHz*cm^2/V^2]\n"
     ]
    }
   ],
   "source": [
    "## vector polarizability test\n",
    "# agrees with Peters paper to within about a percent. Compare with Table 1 values. \n",
    "\n",
    "# our atom\n",
    "rb = Rubidium87()\n",
    "\n",
    "# the hf state of interest\n",
    "n = 5\n",
    "j = 1/2\n",
    "l = 0\n",
    "f = 2\n",
    "mf = 0\n",
    "q = 1\n",
    "nmin = 5\n",
    "nmax = 8 # exclusive max\n",
    "nlist = range(nmin,nmax)\n",
    "\n",
    "delta = 7e8\n",
    "omega = w12 - 2*pi*delta # omega_1 in Peters paper\n",
    "omega += 2*pi*6.834*1e9 # omega_2 \" \" \"\n",
    "\n",
    "alpha1 = alpha1_hf_87Rb([n,l,j,f], omega, nlist, atom=rb, I=I)\n",
    "print(f\"n={n}, l={l}, j={j}, f={f}, mf={mf}\")\n",
    "print(\"alpha1 \", alpha1/(2*pi*hbar*1e3*1e-4),\"[h*kHz*cm^2/V^2]\")"
   ]
  },
  {
   "cell_type": "markdown",
   "metadata": {},
   "source": [
    "## $\\alpha_F^{(T)}(\\omega)$"
   ]
  },
  {
   "cell_type": "code",
   "execution_count": 10,
   "metadata": {
    "scrolled": false
   },
   "outputs": [],
   "source": [
    "def alpha2_hf_87Rb(state, omega, nlist, atom, I, hf_states=hf_states, printterms=False):\n",
    "    \"\"\"\n",
    "    Returns the tector polarizability for a hyperfine level |n,j,l,f>\n",
    "    for field with angular frequency omega. nlist is a list or iterable\n",
    "    of the n values to use in the perturbative sum. This definition \n",
    "    does not depend on mf. See Peters paper for full tensor polarizability\n",
    "    term. \n",
    "    \n",
    "    This function uses the hyperfine level frequencies for levels up to \n",
    "    5p3/2 from hf_states in rbconsts.py, which are taken from Steck.\n",
    "    \n",
    "    Args:\n",
    "        'state': list of quantum numbers n,l,j,f\n",
    "        'atom': an Atom object from the Alkali Rydberg Calculator module\n",
    "    Returns:\n",
    "        'alpha2': tensor hyperfine polarizability in S.I. units.\n",
    "    \"\"\"\n",
    "    alpha2 = 0\n",
    "    terms = 0\n",
    "    \n",
    "    n_a, l_a, j_a, f_a = state\n",
    "\n",
    "    # program:\n",
    "    # - loop over levels from nmin to nmax\n",
    "    #  - loop over l\n",
    "    #   - loop over j\n",
    "    #    - loop over f\n",
    "\n",
    "    for n_b in nlist:\n",
    "        for l_b in range(n_b): # runs through n_b - 1, inclusive\n",
    "            for j_b in j3_from_j1j2(s, l_b): \n",
    "\n",
    "                # triangle rule and dipole-allowed conditions\n",
    "                if abs(j_b - j_a) <= 1 and abs(l_b - l_a) == 1:\n",
    "\n",
    "                    try: \n",
    "                        _ = hf_states[n_b][l_b][j_b]\n",
    "                        freq_from_dict = True\n",
    "                        # calculate from dictionary for each f later. \n",
    "                        # assume all possible f for a given j are included in the dictionary\n",
    "\n",
    "                    except KeyError: # ignore the hf shift energy\n",
    "                        freq_from_dict = False\n",
    "                        omega_ba = 2*pi*(eVToGHz(rb.getEnergy(n_b, l_b, j_b) \\\n",
    "                                     - rb.getEnergy(n_a, l_a, j_a))*1e9)\n",
    "\n",
    "                    matelemJ = rb.getReducedMatrixElementJ(n_a, l_a, j_a, n_b, l_b, j_b)*ee*a0\n",
    "    #                 print(f\"< n={n_a}, l={l_a}, j={j_a} | x | n'={n_b}, l'={l_b}, j'={j_b} >\")\n",
    "\n",
    "                    for f_b in j3_from_j1j2(I, j_b):\n",
    "\n",
    "                        if freq_from_dict:\n",
    "                            omega_ba = 2*pi*abs(hf_states[n_b][l_b][j_b][f_b] - hf_states[n_a][l_a][j_a][f_a])*1e9\n",
    "\n",
    "                        matelemF = hf_reduced_f(f_a,j_a,f_b,j_b,I)*matelemJ\n",
    "\n",
    "#                         (-1)^{F+F'}\\sqrt{\\frac{40F(2F+1)(2F-1)}{3(F+1)(2F+3)}}S_{F,F,F'}^{1,1,2}\n",
    "                        summand = ((-1)**(f_a+f_b)*sqrt(40*f_a*(2*f_a+1)*(2*f_a-1)/(3*(f_a+1)*(2*f_a+3)))*wigner_6j(1,1,2,f_a,f_a,f_b)*\n",
    "                                    (1/(hbar*(2*f_a+1)))*omega_ba*matelemF**2/(omega_ba**2 - omega**2))\n",
    "                        alpha2 += summand\n",
    "\n",
    "                        terms += 1\n",
    "                        if printterms:\n",
    "                            print(f\"alpha2 ~= {alpha2/(4*pi*e0*1e-30)} [Ang.^3], {terms} terms in sum\")\n",
    "                    \n",
    "    return float(alpha2)"
   ]
  },
  {
   "cell_type": "code",
   "execution_count": 11,
   "metadata": {},
   "outputs": [
    {
     "name": "stdout",
     "output_type": "stream",
     "text": [
      "n=5, l=0, j=0.5, f=2, mf=0\n",
      "alpha2  0.013052983248486926 [h*kHz*cm^2/V^2]\n"
     ]
    }
   ],
   "source": [
    "## tensor polarizability test\n",
    "# agrees with Peters paper to within about a percent. Compare with Table 1 values. \n",
    "\n",
    "# our atom\n",
    "rb = Rubidium87()\n",
    "\n",
    "# the hf state of interest\n",
    "n = 5\n",
    "j = 1/2 \n",
    "l = 0\n",
    "f = 2\n",
    "mf = 0\n",
    "q = 1\n",
    "nmin = 5\n",
    "nmax = 8 # exclusive max\n",
    "nlist = range(nmin,nmax)\n",
    "\n",
    "delta = 7e8\n",
    "omega = w12 - 2*pi*delta # omega_1 in Peters paper\n",
    "omega += 2*pi*6.834*1e9 # omega_2 \" \" \"\n",
    "\n",
    "alpha2 = alpha2_hf_87Rb([n,l,j,f], omega, nlist, atom=rb, I=I)\n",
    "print(f\"n={n}, l={l}, j={j}, f={f}, mf={mf}\")\n",
    "print(\"alpha2 \", alpha2/(2*pi*hbar*1e3*1e-4),\"[h*kHz*cm^2/V^2]\")"
   ]
  },
  {
   "cell_type": "markdown",
   "metadata": {},
   "source": [
    "# calculations using Mark's notes below this point. I consider this section deprecated and not necessarily trustworthy."
   ]
  },
  {
   "cell_type": "markdown",
   "metadata": {},
   "source": [
    "## Finite sum for $\\alpha_0(\\omega)$ - J-M basis"
   ]
  },
  {
   "cell_type": "code",
   "execution_count": 35,
   "metadata": {
    "scrolled": false
   },
   "outputs": [
    {
     "name": "stdout",
     "output_type": "stream",
     "text": [
      "alpha0 ~= -402.7888132803234 [Ang.^3], 1 terms in sum\n",
      "alpha0 ~= 2740938.8660773896 [Ang.^3], 2 terms in sum\n",
      "alpha0 ~= 2740938.93768191 [Ang.^3], 3 terms in sum\n",
      "alpha0 ~= 2740939.1255553644 [Ang.^3], 4 terms in sum\n",
      "alpha0 ~= 2740939.132091927 [Ang.^3], 5 terms in sum\n",
      "alpha0 ~= 2740939.1522206077 [Ang.^3], 6 terms in sum\n",
      "alpha0 ~= 2740939.153771693 [Ang.^3], 7 terms in sum\n",
      "alpha0 ~= 2740939.159256726 [Ang.^3], 8 terms in sum\n",
      "alpha0 ~= 2740939.1608327376 [Ang.^3], 9 terms in sum\n",
      "alpha0 ~= 2740939.165618111 [Ang.^3], 10 terms in sum\n",
      "alpha0 ~= 2740939.1664394536 [Ang.^3], 11 terms in sum\n",
      "alpha0 ~= 2740939.1689963783 [Ang.^3], 12 terms in sum\n"
     ]
    }
   ],
   "source": [
    "# our atom\n",
    "rb = Rubidium87()\n",
    "\n",
    "# the 5s1/2 state\n",
    "level_a = hf_levels[1] \n",
    "n_a = level_a[\"n\"]\n",
    "j_a = level_a[\"J\"] \n",
    "l_a = level_a[\"L\"]\n",
    "# w_a = 2*pi*level_a[\"E\"]*1e9 # [rad/s], wrt zeropoint at 5s1/2 COM\n",
    "\n",
    "l_b = l_a + 1 # for dipole-allowed transitions with l_a = 0\n",
    "j_b_list = [ l_b - .5, l_b + .5]\n",
    "n_min = 5\n",
    "n_max = 11 # exclusive max\n",
    "\n",
    "f780A = rb.getTransitionFrequency(5,0,1/2,5,1,3/2) + (-hf_levels[1][\"nu\"] + hf_levels[6][\"nu\"] - 2.1e9)\n",
    "\n",
    "# l_arr = [rb.getTransitionWavelength(\n",
    "#             n_a,l_a,j_a,n_b,l_b,j_b\n",
    "#         )] # 1.064e-6] # selected wavelengths\n",
    "w_arr = array([\n",
    "        2*pi*f780A\n",
    "    ]) #2*pi*c/l for l in l_arr]) # ang. freqs\n",
    "mF_a = 0\n",
    "q = 1\n",
    "mF_b = mF_a + q\n",
    "\n",
    "pts = len(w_arr)\n",
    "alpha0 = zeros(pts) \n",
    "terms = 0\n",
    "\n",
    "for i in range(pts):\n",
    "    for n_b in range(n_min, n_max):\n",
    "        for l_b in range(n_b): # runs through n_b - 1, inclusive\n",
    "            for j_b in j_b_list: \n",
    "                \n",
    "                # triangle and dipole-allowed conditions\n",
    "                if abs(j_b - j_a) <= 1 and abs(l_b - l_a) == 1: \n",
    "                    w_ba = 2*pi*(eVToGHz(rb.getEnergy(n_b, l_b, j_b) \\\n",
    "                                        - rb.getEnergy(n_a, l_a, j_a))*1e9)\n",
    "                    matelem = abs(rb.getReducedMatrixElementJ(n_a, l_a, j_a, n_b, l_b, j_b)*ee*a0)\n",
    "#                     print(f\"< n={n_a}, l={l_a}, j={j_a} | x | n'={n_b}, l'={l_b}, j'={j_b} >\")\n",
    "                    alpha0[i] += (2/(3*hbar*(2*j_a+1)))* \\\n",
    "                                    w_ba*matelem**2/(w_ba**2 - w_arr[i]**2) # Mark's Notes 9.11a\n",
    "                    terms += 1\n",
    "                    print(f\"alpha0 ~= {alpha0[i]/(4*pi*e0*1e-30)} [Ang.^3], {terms} terms in sum\")\n",
    "# alpha as printed is in cubic Angstroms. as it stands, I don't remember how to make it true S.I.\n",
    "#A^3 to cgs: 1e-30 -> 1e-6; cgs to a.u.: EH/(ee*a0)**2"
   ]
  },
  {
   "cell_type": "code",
   "execution_count": 14,
   "metadata": {
    "scrolled": true
   },
   "outputs": [
    {
     "name": "stdout",
     "output_type": "stream",
     "text": [
      "9.992826185051465e-23 9.7e-23\n",
      "0.03018826650015094\n"
     ]
    }
   ],
   "source": [
    "# mine = alpha0[0]/(4*pi*e0*1e-6) # cgs\n",
    "# marks = 97e-24 # for 1064nmb\n",
    "# print(mine,marks)\n",
    "# print(mine/marks-1)"
   ]
  },
  {
   "cell_type": "markdown",
   "metadata": {},
   "source": [
    "## Finite sum for $\\alpha_1(\\omega)$ - J-M basis"
   ]
  },
  {
   "cell_type": "code",
   "execution_count": null,
   "metadata": {},
   "outputs": [],
   "source": [
    "# our atom\n",
    "rb = Rubidium87()\n",
    "\n",
    "# the 5p3/2 state\n",
    "level_a = hf_levels[6] \n",
    "n_a = level_a[\"n\"]\n",
    "j_a = level_a[\"J\"] \n",
    "l_a = level_a[\"L\"]\n",
    "# w_a = 2*pi*level_a[\"E\"]*1e9 # [rad/s], wrt zeropoint at 5s1/2 COM\n",
    "\n",
    "l_b = l_a + 1 # for dipole-allowed transitions with l_a = 0\n",
    "j_b_list = [ l_b - .5, l_b + .5]\n",
    "n_min = 5\n",
    "n_max = 11 # exclusive max\n",
    "\n",
    "f780A = rb.getTransitionFrequency(5,0,1/2,5,1,3/2) + (-hf_levels[1][\"nu\"] + hf_levels[6][\"nu\"] - 2.1e9)\n",
    "\n",
    "# l_arr = [rb.getTransitionWavelength(\n",
    "#             n_a,l_a,j_a,n_b,l_b,j_b\n",
    "#         )] # 1.064e-6] # selected wavelengths\n",
    "w_arr = array([\n",
    "        2*pi*f780A\n",
    "    ]) #2*pi*c/l for l in l_arr]) # ang. freqs\n",
    "mF_a = 0\n",
    "q = 1\n",
    "mF_b = mF_a + q\n",
    "\n",
    "pts = len(w_arr)\n",
    "alpha1 = zeros(pts) \n",
    "terms = 0\n",
    "\n",
    "for i in range(pts):\n",
    "    for n_b in range(n_min, n_max):\n",
    "        for l_b in range(n_b): # runs through n_b - 1, inclusive\n",
    "            for j_b in j_b_list: \n",
    "                \n",
    "                # triangle and dipole-allowed conditions\n",
    "                if abs(j_b - j_a) <= 1 and abs(l_b - l_a) == 1: \n",
    "                    w_ba = 2*pi*(eVToGHz(rb.getEnergy(n_b, l_b, j_b) \\\n",
    "                                        - rb.getEnergy(n_a, l_a, j_a))*1e9)\n",
    "                    matelem = abs(rb.getReducedMatrixElementJ(n_a, l_a, j_a, n_b, l_b, j_b)*ee*a0)\n",
    "#                     print(f\"< n={n_a}, l={l_a}, j={j_a} | x | n'={n_b}, l'={l_b}, j'={j_b} >\")\n",
    "                    alpha0[i] += (2/(3*hbar*(2*j_a+1)))* \\\n",
    "                                    w_ba*matelem**2/(w_ba**2 - w_arr[i]**2) # Mark's Notes 9.11a\n",
    "                    terms += 1\n",
    "                    print(f\"alpha0 ~= {alpha0[i]/(4*pi*e0*1e-30)} [Ang.^3], {terms} terms in sum\")\n",
    "# alpha as printed is in cubic Angstroms. as it stands, I don't remember how to make it true S.I.\n",
    "#A^3 to cgs: 1e-30 -> 1e-6; cgs to a.u.: EH/(ee*a0)**2"
   ]
  },
  {
   "cell_type": "markdown",
   "metadata": {},
   "source": [
    "### AC Stark Shift on $|5 s_{1/2} F=2, m_F=0>$\n",
    "due to the Rydberg 960 and 780A beams"
   ]
  },
  {
   "cell_type": "code",
   "execution_count": 25,
   "metadata": {},
   "outputs": [
    {
     "data": {
      "text/plain": [
       "-0.10234844913314059"
      ]
     },
     "execution_count": 25,
     "metadata": {},
     "output_type": "execute_result"
    }
   ],
   "source": [
    "alpha0_780A = 4*pi*e0*1e-6*1.1653070912238685e-18\n",
    "alpha0_480 = 4*pi*e0*1e-6*4.794264552830031e-07\n",
    "\n",
    "efield = lambda intensity: sqrt(2*intensity/(c*e0)) \n",
    "\n",
    "def beam_int(z, wx, wy, lmbda, P, xy_dz=0, r=0):\n",
    "    zRx = pi*wx**2/lmbda\n",
    "    zRy = pi*wy**2/lmbda\n",
    "    \n",
    "    wwx = wx**2*(1+(z/zRx)**2)\n",
    "    wwy = wy**2*(1+(z/zRy)**2)\n",
    "    return (P/(pi*wx*wy))*exp(-r**2/wwx)*exp(-r**2/wwy)/sqrt(wwx*wwy)\n",
    "e780A = efield(beam_int(0, 6e-6, 8e-6, l_780A, 8e-6, xy_dz=200e-6))\n",
    "e480 = efield(beam_int(0, 5e-6, 5e-6, l_480, 20e-3))\n",
    "\n",
    "# acstark\n",
    "acstark0 = -.25*(alpha0_780A*e780A**2 + alpha0_480*e480**2)\n",
    "acstark0"
   ]
  },
  {
   "cell_type": "markdown",
   "metadata": {},
   "source": [
    "## Finite sum for $\\alpha_0(\\omega)$, 5s1/2 - Hyperfine basis\n",
    "This doesn't come out correctly.. :/"
   ]
  },
  {
   "cell_type": "code",
   "execution_count": 17,
   "metadata": {
    "scrolled": true
   },
   "outputs": [
    {
     "name": "stdout",
     "output_type": "stream",
     "text": [
      "alpha0 ~= 3.468244812542488e-23, 1 terms in sum\n",
      "alpha0 ~= 6.721196582390219e-23, 2 terms in sum\n",
      "for {'n': 5, 'L': 0, 'J': 0.5, 'F': 2, 'nu': 2.563005979089114}\n"
     ]
    }
   ],
   "source": [
    "#TODO: refactor this to make it much more user friendly\n",
    "# - define a function withs args for state (n, l, j, f), \n",
    "# the uppermost state (n', l', j', f'), and wavelengths\n",
    "# and polarization of the incident light\n",
    "\n",
    "# our atom\n",
    "rb = Rubidium(87)\n",
    "\n",
    "# the 5s1/2,F=2,mF=0 state \n",
    "level_a = hf_levels[1] \n",
    "n_a = level_a[\"n\"]\n",
    "j_a = level_a[\"J\"] \n",
    "l_a = level_a[\"L\"]\n",
    "f_a = level_a[\"F\"]\n",
    "mf_a = 0 # I'm not sure these ever get used.. might be defined below\n",
    "mf_b = 0\n",
    "\n",
    "\n",
    "\n",
    "# for the L-S coupling part (states beyond 5p3/2)\n",
    "l_b = l_a + 1 # for dipole-allowed transitions with l_a = 0\n",
    "j_b_list = [ l_b - .5, l_b + .5] \n",
    "\n",
    "n_min = 5\n",
    "n_mid = 6\n",
    "n_max = 11 # exclusive max\n",
    "\n",
    "l_arr = [1.064e-6] # selected wavelengths, [m]\n",
    "w_arr = array([2*pi*c/l for l in l_arr]) # ang. freqs\n",
    "mF_a = 0\n",
    "q = 0\n",
    "mF_b = mF_a + q\n",
    "\n",
    "\n",
    "pts = len(l_arr)\n",
    "alpha0 = zeros(pts) \n",
    "terms = 0\n",
    "for i in range(len(l_arr)):\n",
    "\n",
    "    for level_b in hf_levels: # loop over states up through 5p3/2 band (inclusive)\n",
    "        \n",
    "        n_b = level_b[\"n\"]\n",
    "        j_b = level_b[\"J\"] \n",
    "        l_b = level_b[\"L\"]\n",
    "        f_b = level_b[\"F\"]\n",
    "        \n",
    "        # triangle and dipole-allowed conditions\n",
    "        if abs(j_b - j_a) <= 1 and abs(l_b - l_a) == 1 and abs(f_b - f_a) == q: \n",
    "            \n",
    "            w_ba = 2*pi*(level_b[\"nu\"] - level_a[\"nu\"])*1e9\n",
    "                        \n",
    "            # matrix elems squared for hyperfine terms (Mark's notes, after 9.17)\n",
    "            h0 = (2*f_a + 1)**2*sum([abs(rb.getReducedMatrixElementJ(n_a, l_a, j_a, n_b, l_b, j_b))**2 \\\n",
    "                    *wigner_6j(j_b,f_a,I,f_a,j_a,1)**2 for j_b in j_b_list])*(ee*a0)**2\n",
    "            \n",
    "#            print(f\"<n={n_a},l={l_a},j={j_a},f={f_a}|x|n'={n_b},l'={l_b},j'={j_b},f'={f_b}>\")\n",
    "            alpha0[i] += (2/(3*hbar*(2*f_a+1)))*w_ba*h0 \\\n",
    "                            /(w_ba**2 - w_arr[i]**2) # Mark's Notes 9.16\n",
    "            terms += 1\n",
    "            print(f\"alpha0 ~= {alpha0[i]/(4*pi*e0*1e-6)}, {terms} terms in sum\")\n",
    "            \n",
    "    for n_b in range(n_mid, n_max):\n",
    "        for l_b in range(n_b): # runs through n_b - 1, inclusive\n",
    "            for j_b in j_b_list: \n",
    "\n",
    "                # triangle and dipole-allowed conditions\n",
    "                if abs(j_b - j_a) <= 1 and abs(l_b - l_a) == 1: \n",
    "                    w_ba = 2*pi*(eVToGHz(rb.getEnergy(n_b, l_b, j_b) \\\n",
    "                                        - rb.getEnergy(n_a, l_a, j_a))*1e9)\n",
    "                    matelem = abs(rb.getReducedMatrixElementJ(n_a, l_a, j_a, n_b, l_b, j_b)*ee*a0)\n",
    "#                     print(f\"< n={n_a}, l={l_a}, j={j_a} | x | n'={n_b}, l'={l_b}, j'={j_b} >\")\n",
    "                    alpha0[i] += (2/(3*hbar*(2*j_a+1)))* \\\n",
    "                                    w_ba*matelem**2/(w_ba**2 - w_arr[i]**2) # for q = 0. \n",
    "                    \n",
    "                    terms += 1\n",
    "#                     print(f\"alpha0 ~= {alpha0[i]/(4*pi*e0*1e-6)}, {terms} terms in sum\")\n",
    "print(f\"for {level_a}\")"
   ]
  },
  {
   "cell_type": "code",
   "execution_count": 70,
   "metadata": {},
   "outputs": [],
   "source": [
    "# 5s1/2,F=2: alpha0 ~= 6.746911307357744e-23, 12 terms in sum (with F=F')\n",
    "# 5s1/2,F=1: alpha0 ~= 6.736462307586051e-23, 12 terms in sum (with F=F')"
   ]
  },
  {
   "cell_type": "code",
   "execution_count": 52,
   "metadata": {
    "scrolled": true
   },
   "outputs": [
    {
     "data": {
      "text/plain": [
       "0.5"
      ]
     },
     "execution_count": 52,
     "metadata": {},
     "output_type": "execute_result"
    }
   ],
   "source": [
    "3.682966809168338e-23, 16 terms in sum"
   ]
  },
  {
   "cell_type": "code",
   "execution_count": 37,
   "metadata": {
    "scrolled": true
   },
   "outputs": [
    {
     "data": {
      "text/plain": [
       "384234454071256.3"
      ]
     },
     "execution_count": 37,
     "metadata": {},
     "output_type": "execute_result"
    }
   ],
   "source": [
    "(hf_levels[4][\"nu\"] - hf_levels[0][\"nu\"])*1e9"
   ]
  },
  {
   "cell_type": "code",
   "execution_count": 40,
   "metadata": {},
   "outputs": [
    {
     "data": {
      "text/plain": [
       "<function amophys.hf_coupling(F, mF, J, q, FF, mFF, JJ, I, RME=None)>"
      ]
     },
     "execution_count": 40,
     "metadata": {},
     "output_type": "execute_result"
    }
   ],
   "source": [
    "help(hf_coupling)"
   ]
  },
  {
   "cell_type": "code",
   "execution_count": 57,
   "metadata": {},
   "outputs": [
    {
     "name": "stdout",
     "output_type": "stream",
     "text": [
      "6j-Symbol is not triangular!\n",
      "6j-Symbol is not triangular!\n"
     ]
    }
   ],
   "source": [
    "h0 = (2*f_a + 1)**2*sum([\n",
    "        rb.getReducedMatrixElementJ(\n",
    "            n_a, l_a, j_a, n_b, l_b, j_b\n",
    "            )*wigner_6j(j_b,f_a,I,f_a,j_a,1)*ee*a0\n",
    "        for j_b in j_b_list])**2"
   ]
  },
  {
   "cell_type": "code",
   "execution_count": 58,
   "metadata": {},
   "outputs": [],
   "source": [
    "del h0"
   ]
  },
  {
   "cell_type": "code",
   "execution_count": null,
   "metadata": {},
   "outputs": [],
   "source": []
  }
 ],
 "metadata": {
  "kernelspec": {
   "display_name": "Python 3",
   "language": "python",
   "name": "python3"
  },
  "language_info": {
   "codemirror_mode": {
    "name": "ipython",
    "version": 3
   },
   "file_extension": ".py",
   "mimetype": "text/x-python",
   "name": "python",
   "nbconvert_exporter": "python",
   "pygments_lexer": "ipython3",
   "version": "3.7.3"
  }
 },
 "nbformat": 4,
 "nbformat_minor": 2
}
