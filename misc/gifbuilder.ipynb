{
 "cells": [
  {
   "cell_type": "code",
   "execution_count": null,
   "id": "3184124a",
   "metadata": {},
   "outputs": [],
   "source": [
    "from PIL import Image, ImageDraw, ImageFont, ImageOps\n",
    "import numpy as np # for asarray,copy,nan\n",
    "from IPython.core.display import Image as Im\n",
    "import os\n",
    "from datetime import datetime as dt"
   ]
  },
  {
   "cell_type": "code",
   "execution_count": 28,
   "id": "180d6a5f",
   "metadata": {},
   "outputs": [],
   "source": [
    "imdir = './images/sunflower'\n",
    "fnames = [f for f in os.listdir(imdir) if f[-3:]!='gif'] # avoid grabbing the gif we generate\n",
    "\n",
    "# text_kwargs = dict(ha='center', va='center', fontsize=28, color='white')\n",
    "font = ImageFont.truetype('arial.ttf', size=150)\n",
    "\n",
    "# text positions\n",
    "bottom_left = (50,3750)\n",
    "center = (1050, 2800)\n",
    "\n",
    "ims = []\n",
    "for f in fnames: \n",
    "    imfile = os.path.join(imdir, f)\n",
    "    im = ImageOps.exif_transpose(Image.open(imfile))\n",
    "    im_draw = ImageDraw.Draw(im)\n",
    "    rawdatestr = f[4:12] # from the file. this works for downloads from Google Photos as of 2022.12.11\n",
    "    date = dt.strptime(rawdatestr, '%Y%m%d')\n",
    "    datestr = date.strftime('%b %d %Y')\n",
    "    mm, dd, yyyy = datestr.split(' ')\n",
    "    dd = str(int(dd))\n",
    "    datestr = \" \".join([mm, dd, yyyy])\n",
    "    im_draw.text(center, datestr, font=font, fill=(255,255,255))\n",
    "    ims.append(im)\n",
    "# Im(imfile)"
   ]
  },
  {
   "cell_type": "code",
   "execution_count": 110,
   "id": "3dd3cafa",
   "metadata": {},
   "outputs": [],
   "source": [
    "im.show() # opens in external window with default photo viewer"
   ]
  },
  {
   "cell_type": "code",
   "execution_count": 29,
   "id": "96423c34",
   "metadata": {},
   "outputs": [],
   "source": [
    "fout = 'test.gif'\n",
    "# if loop isn't set to 1, the\n",
    "ims[0].save(os.path.join(imdir,fout), save_all=True, duration=50*len(ims), append_images=ims[1:], loop=1)"
   ]
  }
 ],
 "metadata": {
  "kernelspec": {
   "display_name": "Python 3 (ipykernel)",
   "language": "python",
   "name": "python3"
  },
  "language_info": {
   "codemirror_mode": {
    "name": "ipython",
    "version": 3
   },
   "file_extension": ".py",
   "mimetype": "text/x-python",
   "name": "python",
   "nbconvert_exporter": "python",
   "pygments_lexer": "ipython3",
   "version": "3.9.6"
  }
 },
 "nbformat": 4,
 "nbformat_minor": 5
}
