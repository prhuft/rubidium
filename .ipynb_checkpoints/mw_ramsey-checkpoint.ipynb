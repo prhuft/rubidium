{
 "cells": [
  {
   "cell_type": "markdown",
   "metadata": {},
   "source": [
    "Microwave Ramsey Experiment in $^{87}$Rb clock states, with varied AC Stark shift from 780 nm beam in gap time."
   ]
  },
  {
   "cell_type": "code",
   "execution_count": 1,
   "metadata": {},
   "outputs": [
    {
     "data": {
      "text/html": [
       "<style>.container{width:100% !important;}</style>"
      ],
      "text/plain": [
       "<IPython.core.display.HTML object>"
      ]
     },
     "metadata": {},
     "output_type": "display_data"
    }
   ],
   "source": [
    "#### libraries\n",
    "from matplotlib import pyplot as plt\n",
    "from sympy import symbols,N,sympify,lambdify\n",
    "from sympy import MatrixSymbol,MatAdd,MatMul,Identity as eye,Matrix,zeros\n",
    "from sympy.utilities.iterables import flatten\n",
    "import numpy as np\n",
    "from numpy import *\n",
    "from numpy.linalg import eig\n",
    "import math as m\n",
    "\n",
    "#### local files\n",
    "from rbconsts import *\n",
    "from physconsts import *\n",
    "from amophys import * \n",
    "\n",
    "#### layout stuff\n",
    "from IPython.core.display import display,HTML\n",
    "display(HTML(\"<style>.container{width:100% !important;}</style>\"))\n",
    "\n",
    "# Inuc = I # prevent weird stuff happening later?\n",
    "# important: 'I' is the nuclear spin, not sympy imaginary i. Use\n",
    "# numpy's 1j for imaginary i. "
   ]
  },
  {
   "cell_type": "code",
   "execution_count": 5,
   "metadata": {},
   "outputs": [
    {
     "name": "stdout",
     "output_type": "stream",
     "text": [
      "Matrix([[1.05998596305186e-5, 0], [0, -1.76663535971838e-5]])\n",
      "[[ 1.05997409e-05  0.00000000e+00]\n",
      " [ 0.00000000e+00 -1.76662349e-05]]\n"
     ]
    }
   ],
   "source": [
    "#### Rb87 5s1/2 HF Zeeman Shifts:\n",
    "L = 0; S = 1/2; J = 1/2;\n",
    "Flist = [2,1] # F = I + J\n",
    "\n",
    "E_5sF2 = GHzToeV(2.56300597908911) # GHz\n",
    "E_5sF1 = GHzToeV(-4.27167663181519) # GHz\n",
    "\n",
    "gJ = gJ_fn(J,L,S,gL,gS)\n",
    "\n",
    "Bzlist = np.linspace(0,.5,30)\n",
    "\n",
    "# Atom Hamiltonian in {|F,mF>} basis\n",
    "dim = 2\n",
    "H_a = zeros((dim,dim)) # only driving clock transition\n",
    "H_a[0,0] = E_5sF2\n",
    "H_a[1,1] = E_5sF1 \n",
    "\n",
    "# Zeeman Hamiltonian for bias field Bz\n",
    "basis = [[2,0],[1,0]]\n",
    "H_Zz = hamiltonian_z1(basis,gI,gJ,Bz=.001,units='eV')\n",
    "\n",
    "# Diagonalize the static Hamiltonian\n",
    "H = Matrix(H_a + H_Zz)\n",
    "# P,D = H.diagonalize()# use diagonal instead\n",
    "D = diagonal(H)\n",
    "print(D)\n",
    "print(H_a)\n",
    "    \n",
    "H_z1 microwave driving field\n",
    "H_mw = zeros((dim,dim))\n",
    "H_mw[1,5] = H_mw[5,1] = # hbar*Omega/2"
   ]
  },
  {
   "cell_type": "code",
   "execution_count": null,
   "metadata": {},
   "outputs": [],
   "source": [
    "Matrix([[1.05997409499977e-5, 0], [0, -1.76662349166629e-5]])\n",
    "[[ 1.05997409e-05  0.00000000e+00]\n",
    " [ 0.00000000e+00 -1.76662349e-05]]\n"
   ]
  },
  {
   "cell_type": "code",
   "execution_count": null,
   "metadata": {},
   "outputs": [],
   "source": [
    "uB"
   ]
  },
  {
   "cell_type": "code",
   "execution_count": null,
   "metadata": {},
   "outputs": [],
   "source": []
  }
 ],
 "metadata": {
  "kernelspec": {
   "display_name": "Python 3",
   "language": "python",
   "name": "python3"
  },
  "language_info": {
   "codemirror_mode": {
    "name": "ipython",
    "version": 3
   },
   "file_extension": ".py",
   "mimetype": "text/x-python",
   "name": "python",
   "nbconvert_exporter": "python",
   "pygments_lexer": "ipython3",
   "version": "3.7.3"
  }
 },
 "nbformat": 4,
 "nbformat_minor": 2
}
