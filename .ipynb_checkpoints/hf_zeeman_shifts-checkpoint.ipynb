{
 "cells": [
  {
   "cell_type": "markdown",
   "metadata": {},
   "source": [
    "HF Zeeman Shifts"
   ]
  },
  {
   "cell_type": "code",
   "execution_count": 2,
   "metadata": {},
   "outputs": [
    {
     "data": {
      "text/html": [
       "<style>.container{width:100% !important;}</style>"
      ],
      "text/plain": [
       "<IPython.core.display.HTML object>"
      ]
     },
     "metadata": {},
     "output_type": "display_data"
    }
   ],
   "source": [
    "#### libraries\n",
    "# %matplotlib notebook\n",
    "from matplotlib import pyplot as plt\n",
    "from sympy import symbols,N,sympify,lambdify\n",
    "from sympy import MatrixSymbol,MatAdd,MatMul,Identity as eye,Matrix,zeros\n",
    "from sympy.utilities.iterables import flatten\n",
    "import numpy as np\n",
    "from numpy import *\n",
    "from numpy.linalg import eig\n",
    "import math as m\n",
    "\n",
    "#### local files\n",
    "from rbconsts import *\n",
    "from physconsts import *\n",
    "from amophys import *\n",
    "from conversions import *\n",
    "\n",
    "#### layout stuff\n",
    "from IPython.core.display import display,HTML\n",
    "display(HTML(\"<style>.container{width:100% !important;}</style>\"))\n",
    "\n",
    "# Inuc = I # prevent weird stuff happening later?\n",
    "# important: 'I' is the nuclear spin, not sympy imaginary i. Use\n",
    "# numpy's 1j for imaginary i. "
   ]
  },
  {
   "cell_type": "code",
   "execution_count": 3,
   "metadata": {},
   "outputs": [],
   "source": [
    "#### Rb87 5s1/2 HF Zeeman Shifts:\n",
    "L = 0; S = 1/2; J = 1/2;\n",
    "Flist = [2,1] # F = I + J\n",
    "\n",
    "E_5sF2 = GHzToeV(2.56300597908911) # GHz\n",
    "E_5sF1 = GHzToeV(-4.27167663181519) # GHz\n",
    "\n",
    "gJ = gJ_fn(J,L,S,gL,gS)\n",
    "\n",
    "Bzlist = np.linspace(0,.5,30)\n",
    "\n",
    "# TODO: make hf energies above/below com energy\n",
    "E_hf = GHzToeV(nu_hf) # assign numeric value to ease diagonalization (?)\n",
    "\n",
    "# Rb Hamiltonian for HF ground states in {|F,mF>} basis\n",
    "H_a = zeros((8,8))\n",
    "for i in range(8):\n",
    "    if i < 5:\n",
    "        H_a[i,i] = E_5sF2\n",
    "    else: \n",
    "        H_a[i,i] = E_5sF1\n",
    "\n",
    "# Zeeman Hamiltonian for B = Bz\n",
    "H_Zz = np.empty((8,8),object)\n",
    "basis = jmbasis(Flist)\n",
    "for i,state_i in enumerate(basis):\n",
    "        F,mF = state_i\n",
    "        for j,state_j in enumerate(basis):\n",
    "            FF,mFF = state_j\n",
    "            states = [I,J,F,mF,FF,mFF]\n",
    "            try:\n",
    "                H_Zz[i,j] = hf_zeeman(states,gJ,gI)\n",
    "            except:\n",
    "                print(\"Failed: %s\" % states)\n",
    "\n",
    "# Diagonalize the full Hamiltonian\n",
    "H = Matrix(H_a + H_Zz)\n",
    "P,D = H.diagonalize()\n",
    "evals = [D[i,i] for i in range(0,len(basis))]\n",
    "\n",
    "# The energies as a function of magnetic P.E.\n",
    "shifts = lambdify('U_B',evals)\n",
    "\n",
    "zshifts = np.empty((len(Bzlist),len(basis)))\n",
    "for i,Bz in enumerate(Bzlist):\n",
    "    # make sure units of U_B same as E_hf then convert the whole shift\n",
    "    zshifts[i] = np.sort([eVToGHz(x) for x in shifts(JToeV(uB*Bz))]) \n",
    "    \n",
    "# arranged the shifts by state, not B value\n",
    "zshifts = transpose(zshifts) "
   ]
  },
  {
   "cell_type": "code",
   "execution_count": 5,
   "metadata": {},
   "outputs": [
    {
     "data": {
      "image/png": "[encoded data removed]",
      "text/plain": [
       "<Figure size 432x288 with 1 Axes>"
      ]
     },
     "metadata": {
      "needs_background": "light"
     },
     "output_type": "display_data"
    }
   ],
   "source": [
    "# initialize the figure and plot\n",
    "fig = plt.figure()\n",
    "ax = fig.add_subplot(111)\n",
    "ax.set_title(\"Rb87 $5s_{1/2}$ HF Zeeman shifts\")\n",
    "ax.set_xlabel(\"$B_z$ [T]\")\n",
    "ax.set_ylabel(\"$\\Delta E$ [GHz]\")\n",
    "\n",
    "# why is the |2,-1> state omitted?? figure out later\n",
    "for state,shift in zip(basis,zshifts):\n",
    "    F,mF = state\n",
    "    ax.plot(Bzlist,shift,label=f'|{F},{mF}>')\n",
    "\n",
    "ax.legend(loc='upper right')\n",
    "plt.show()"
   ]
  },
  {
   "cell_type": "code",
   "execution_count": 6,
   "metadata": {},
   "outputs": [
    {
     "ename": "NameError",
     "evalue": "name 'Hz_el' is not defined",
     "output_type": "error",
     "traceback": [
      "\u001b[1;31m---------------------------------------------------------------------------\u001b[0m",
      "\u001b[1;31mNameError\u001b[0m                                 Traceback (most recent call last)",
      "\u001b[1;32m<ipython-input-6-5e3f910e2bad>\u001b[0m in \u001b[0;36m<module>\u001b[1;34m\u001b[0m\n\u001b[0;32m      4\u001b[0m \u001b[0mH_bias\u001b[0m \u001b[1;33m=\u001b[0m \u001b[0mzeros\u001b[0m\u001b[1;33m(\u001b[0m\u001b[1;33m(\u001b[0m\u001b[1;36m8\u001b[0m\u001b[1;33m,\u001b[0m\u001b[1;36m8\u001b[0m\u001b[1;33m)\u001b[0m\u001b[1;33m)\u001b[0m\u001b[1;33m\u001b[0m\u001b[1;33m\u001b[0m\u001b[0m\n\u001b[0;32m      5\u001b[0m \u001b[1;32mfor\u001b[0m \u001b[0mi\u001b[0m \u001b[1;32min\u001b[0m \u001b[0mrange\u001b[0m\u001b[1;33m(\u001b[0m\u001b[1;36m8\u001b[0m\u001b[1;33m)\u001b[0m\u001b[1;33m:\u001b[0m\u001b[1;33m\u001b[0m\u001b[1;33m\u001b[0m\u001b[0m\n\u001b[1;32m----> 6\u001b[1;33m     \u001b[0mH_bias\u001b[0m\u001b[1;33m[\u001b[0m\u001b[0mi\u001b[0m\u001b[1;33m,\u001b[0m\u001b[0mi\u001b[0m\u001b[1;33m]\u001b[0m\u001b[1;33m=\u001b[0m\u001b[0mHz_el\u001b[0m\u001b[1;33m[\u001b[0m\u001b[0mi\u001b[0m\u001b[1;33m]\u001b[0m\u001b[1;33m\u001b[0m\u001b[1;33m\u001b[0m\u001b[0m\n\u001b[0m\u001b[0;32m      7\u001b[0m \u001b[1;33m\u001b[0m\u001b[0m\n\u001b[0;32m      8\u001b[0m \u001b[1;31m# H_z1 microwave driving field\u001b[0m\u001b[1;33m\u001b[0m\u001b[1;33m\u001b[0m\u001b[1;33m\u001b[0m\u001b[0m\n",
      "\u001b[1;31mNameError\u001b[0m: name 'Hz_el' is not defined"
     ]
    }
   ],
   "source": [
    "# H_z1: static bias field\n",
    "Bz = 5e-5 # .5 Gauss\n",
    "H_z1_el = np.sort([eVToGHz(x) for x in shifts(JToeV(uB*Bz))]) \n",
    "H_bias = zeros((8,8))\n",
    "for i in range(8):\n",
    "    H_bias[i,i]=Hz_el[i]\n",
    "    \n",
    "# H_z1 microwave driving field\n",
    "H_mw = zeros((8,8))\n",
    "H_mw[1,5] = H_mw[5,1] = 1 # the rabi frequency\n"
   ]
  },
  {
   "cell_type": "code",
   "execution_count": 7,
   "metadata": {},
   "outputs": [
    {
     "name": "stdout",
     "output_type": "stream",
     "text": [
      "Failed: [1.5, 0.5, 2, 0, 2, 0]\n",
      "2.00023 -0.000995 0.00018580000000000002\n",
      "Failed: [1.5, 0.5, 2, 0, 1, 0]\n",
      "2.00023 -0.000995 0.00018580000000000002\n",
      "Failed: [1.5, 0.5, 1, 0, 2, 0]\n",
      "2.00023 -0.000995 0.00018580000000000002\n",
      "Failed: [1.5, 0.5, 1, 0, 1, 0]\n",
      "2.00023 -0.000995 0.00018580000000000002\n"
     ]
    },
    {
     "ename": "TypeError",
     "evalue": "unsupported operand type(s) for +: 'float' and 'NoneType'",
     "output_type": "error",
     "traceback": [
      "\u001b[1;31m---------------------------------------------------------------------------\u001b[0m",
      "\u001b[1;31mTypeError\u001b[0m                                 Traceback (most recent call last)",
      "\u001b[1;32m<ipython-input-7-3b34d3226a03>\u001b[0m in \u001b[0;36m<module>\u001b[1;34m\u001b[0m\n\u001b[0;32m     22\u001b[0m \u001b[1;33m\u001b[0m\u001b[0m\n\u001b[0;32m     23\u001b[0m \u001b[1;31m# Diagonalize the static Hamiltonian\u001b[0m\u001b[1;33m\u001b[0m\u001b[1;33m\u001b[0m\u001b[1;33m\u001b[0m\u001b[0m\n\u001b[1;32m---> 24\u001b[1;33m \u001b[0mH\u001b[0m \u001b[1;33m=\u001b[0m \u001b[0mMatrix\u001b[0m\u001b[1;33m(\u001b[0m\u001b[0mH_a\u001b[0m \u001b[1;33m+\u001b[0m \u001b[0mH_Zz\u001b[0m\u001b[1;33m)\u001b[0m\u001b[1;33m\u001b[0m\u001b[1;33m\u001b[0m\u001b[0m\n\u001b[0m\u001b[0;32m     25\u001b[0m \u001b[0mH\u001b[0m \u001b[1;33m=\u001b[0m \u001b[0mdiagonal\u001b[0m\u001b[1;33m(\u001b[0m\u001b[0mH\u001b[0m\u001b[1;33m)\u001b[0m \u001b[1;31m# diagonalized with sorted e-vals\u001b[0m\u001b[1;33m\u001b[0m\u001b[1;33m\u001b[0m\u001b[0m\n",
      "\u001b[1;31mTypeError\u001b[0m: unsupported operand type(s) for +: 'float' and 'NoneType'"
     ]
    }
   ],
   "source": [
    "#### using my amophys module\n",
    "\n",
    "#### Rb87 5s1/2 \n",
    "L = 0; S = 1/2; J = 1/2;\n",
    "Flist = [2,1] # F = I + J\n",
    "\n",
    "E_5sF2 = 2.56300597908911 # GHz\n",
    "E_5sF1 = -4.27167663181519 # GHz\n",
    "\n",
    "gJ = gJ_fn(J,L,S,gL,gS)\n",
    "\n",
    "# Atom Hamiltonian in {|F,mF>} basis\n",
    "dim = 2\n",
    "H_a = zeros((dim,dim)) # clock states\n",
    "H_a[0,0] = E_5sF2 # [J]\n",
    "H_a[1,1] = E_5sF1 \n",
    "\n",
    "# Zeeman Hamiltonian for bias field Bz\n",
    "basis = [[2,0],[1,0]] # [F',mF'],[F,mF]\n",
    "Bbias = .2*9.29e-4 # [A * G/A] see wiki \n",
    "H_Zz = hamiltonian_z1(basis,gI,gJ,Bz=Bbias,units='GHz')\n",
    "\n",
    "# Diagonalize the static Hamiltonian\n",
    "H = Matrix(H_a + H_Zz)\n",
    "H = diagonal(H) # diagonalized with sorted e-vals"
   ]
  },
  {
   "cell_type": "code",
   "execution_count": 21,
   "metadata": {},
   "outputs": [
    {
     "data": {
      "text/plain": [
       "479083655.659906"
      ]
     },
     "execution_count": 21,
     "metadata": {},
     "output_type": "execute_result"
    }
   ],
   "source": [
    "(eVToGHz((H-H_a)[0,0]) - eVToGHz((H-H_a)[1,1]))*1e9"
   ]
  },
  {
   "cell_type": "code",
   "execution_count": null,
   "metadata": {},
   "outputs": [],
   "source": []
  }
 ],
 "metadata": {
  "kernelspec": {
   "display_name": "Python 3",
   "language": "python",
   "name": "python3"
  },
  "language_info": {
   "codemirror_mode": {
    "name": "ipython",
    "version": 3
   },
   "file_extension": ".py",
   "mimetype": "text/x-python",
   "name": "python",
   "nbconvert_exporter": "python",
   "pygments_lexer": "ipython3",
   "version": "3.7.3"
  }
 },
 "nbformat": 4,
 "nbformat_minor": 2
}
