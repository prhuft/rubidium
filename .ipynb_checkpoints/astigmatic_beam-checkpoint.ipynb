{
 "cells": [
  {
   "cell_type": "code",
   "execution_count": 1,
   "metadata": {},
   "outputs": [],
   "source": [
    "#### libs\n",
    "from numpy import *\n",
    "import matplotlib.pyplot as plt\n",
    "\n",
    "#### local\n",
    "from rbconsts import *\n",
    "from physconsts import *\n",
    "from amophys import *"
   ]
  },
  {
   "cell_type": "code",
   "execution_count": 6,
   "metadata": {},
   "outputs": [],
   "source": [
    "wx = 6e-6\n",
    "wy = 8e-6\n",
    "l = 7.8e-7\n",
    "I0 = 1"
   ]
  },
  {
   "cell_type": "code",
   "execution_count": 14,
   "metadata": {},
   "outputs": [],
   "source": [
    "def intensity(x,y,z,lmbda,wx,I0,wy=None):\n",
    "    if wy is None:\n",
    "        wy = wx\n",
    "    print(wx,wy,lmbda)\n",
    "    zRx = z_rayleigh(lmbda,wx)\n",
    "    zRy = z_rayleigh(lmbda,wx)\n",
    "\n",
    "    wzx = (1+z**2/zRx**2) # waist w(z)\n",
    "    wzy = (1+z**2/zRy**2)\n",
    "    return I0*exp(-2*x**2/(wzx*(wx**2*wzx))-2*y**2/(wzy*(wy**2*wzy)))\n",
    "\n",
    "u = lambda x,y,z: intensity(x,y,z,l,wx,I0,wy=wy)  "
   ]
  },
  {
   "cell_type": "code",
   "execution_count": 16,
   "metadata": {},
   "outputs": [
    {
     "name": "stdout",
     "output_type": "stream",
     "text": [
      "6e-06 8e-06 7.8e-07\n"
     ]
    },
    {
     "data": {
      "text/plain": [
       "<matplotlib.contour.QuadContourSet at 0x2826da84710>"
      ]
     },
     "execution_count": 16,
     "metadata": {},
     "output_type": "execute_result"
    },
    {
     "data": {
      "image/png": "[encoded data removed]",
      "text/plain": [
       "<Figure size 432x288 with 1 Axes>"
      ]
     },
     "metadata": {
      "needs_background": "light"
     },
     "output_type": "display_data"
    }
   ],
   "source": [
    "xpts = linspace(-3*wx,3*wx,100)\n",
    "ypts = linspace(-3*wx,3*wx,100)\n",
    "mu = 1e-6\n",
    "\n",
    "zRx = z_rayleigh(l,wx)\n",
    "zRy = z_rayleigh(l,wy)\n",
    "\n",
    "s = 1.5 # units waist or rayleigh length\n",
    "xpts = linspace(-s*wx,s*wx,100)\n",
    "zpts = linspace(-s*zRx,s*zRx,100)\n",
    "xx,zz = meshgrid(xpts,zpts)\n",
    "fpts = u(xx,0,zz) # the fort intensity eval'd on the meshgrid\n",
    "plt.contourf(xpts/mu,zpts/mu,fpts)"
   ]
  },
  {
   "cell_type": "code",
   "execution_count": 17,
   "metadata": {},
   "outputs": [
    {
     "name": "stdout",
     "output_type": "stream",
     "text": [
      "6e-06 8e-06 7.8e-07\n"
     ]
    },
    {
     "data": {
      "text/plain": [
       "<matplotlib.contour.QuadContourSet at 0x2826eae1390>"
      ]
     },
     "execution_count": 17,
     "metadata": {},
     "output_type": "execute_result"
    },
    {
     "data": {
      "image/png": "[encoded data removed]",
      "text/plain": [
       "<Figure size 432x288 with 1 Axes>"
      ]
     },
     "metadata": {
      "needs_background": "light"
     },
     "output_type": "display_data"
    }
   ],
   "source": [
    "xpts = linspace(-3*wx,3*wx,100)\n",
    "ypts = linspace(-3*wx,3*wx,100)\n",
    "mu = 1e-6\n",
    "\n",
    "zRx = z_rayleigh(l,wx)\n",
    "zRy = z_rayleigh(l,wy)\n",
    "\n",
    "s = 1.5 # units waist or rayleigh length\n",
    "xpts = linspace(-s*wx,s*wx,100)\n",
    "zpts = linspace(-s*zRy,s*zRy,100)\n",
    "xx,zz = meshgrid(xpts,zpts)\n",
    "fpts = u(xx,0,zz) # the fort intensity eval'd on the meshgrid\n",
    "plt.contourf(xpts/mu,zpts/mu,fpts)"
   ]
  },
  {
   "cell_type": "code",
   "execution_count": 5,
   "metadata": {},
   "outputs": [
    {
     "name": "stdout",
     "output_type": "stream",
     "text": [
      "Help on class dipole_trap in module amophys:\n",
      "\n",
      "class dipole_trap(builtins.object)\n",
      " |  dipole_trap(lmbda, wx, Tdepth, Tatom, wy=None)\n",
      " |  \n",
      " |  Methods defined here:\n",
      " |  \n",
      " |  U(self, x, y, z)\n",
      " |      the potential energy as a function of space in the dipole trap.\n",
      " |      ASTIGMATISM not correctly represented!!\n",
      " |  \n",
      " |  __init__(self, lmbda, wx, Tdepth, Tatom, wy=None)\n",
      " |      A dipole trap object with the beams potential and distribution of \n",
      " |      atoms specified by Tatom. \n",
      " |      'wx': x beam waist in focal plane (z=0)\n",
      " |      'wy': Assumed equal to wx by default\n",
      " |      'Tdepth'\n",
      " |      'Tatom'\n",
      " |  \n",
      " |  curvefit(self, tdata, rdata)\n",
      " |      For using the release_recap procedure to fit real data.\n",
      " |      \n",
      " |      tdata: time pts from data\n",
      " |      rdata: retention pts data\n",
      " |  \n",
      " |  distplot(self, events)\n",
      " |      show atoms in FORT in z = 0 plane before drop and recapture\n",
      " |  \n",
      " |  drop_recap(self, tlist, T=None, events=None, base_retention=None, progress=False)\n",
      " |      Procedure for simulating a release (\"drop\") and recapture experiment\n",
      " |      to deduce the temperature of actual atoms in such an experiment. \n",
      " |      \n",
      " |      Based on code by Mark, with some corrections\n",
      " |      'wx': waist\n",
      " |      'Tdepth': FORT temperature depth\n",
      " |      'T': atom temp\n",
      " |      'tmax': max time in units us\n",
      " |      'steps': number of FORT drop outs\n",
      " |      'events': number of release-recapture events per data pt\n",
      " |      'wy': optional waist for eliptical FORT\n",
      " |  \n",
      " |  vdist(self, events)\n",
      " |      maxwell boltzmann speeds\n",
      " |  \n",
      " |  xdist(self, events, plane=None)\n",
      " |      velocity component distributions\n",
      " |  \n",
      " |  ----------------------------------------------------------------------\n",
      " |  Data descriptors defined here:\n",
      " |  \n",
      " |  __dict__\n",
      " |      dictionary for instance variables (if defined)\n",
      " |  \n",
      " |  __weakref__\n",
      " |      list of weak references to the object (if defined)\n",
      "\n"
     ]
    }
   ],
   "source": [
    "help(dipole_trap)"
   ]
  },
  {
   "cell_type": "code",
   "execution_count": null,
   "metadata": {},
   "outputs": [],
   "source": []
  }
 ],
 "metadata": {
  "kernelspec": {
   "display_name": "Python 3",
   "language": "python",
   "name": "python3"
  },
  "language_info": {
   "codemirror_mode": {
    "name": "ipython",
    "version": 3
   },
   "file_extension": ".py",
   "mimetype": "text/x-python",
   "name": "python",
   "nbconvert_exporter": "python",
   "pygments_lexer": "ipython3",
   "version": "3.7.3"
  }
 },
 "nbformat": 4,
 "nbformat_minor": 2
}
