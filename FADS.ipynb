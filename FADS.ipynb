{
 "cells": [
  {
   "cell_type": "markdown",
   "metadata": {},
   "source": [
    "# FORT Atom Dynamics Simulator (FADS) #\n",
    "Preston Huft, July 2019\n",
    "\n",
    "For simulating atom dynamics in a far-off resonance trap (FORT), including\n",
    "- chopped cooling\n",
    "- release recapture temperature measurements\n",
    "- power modulation resonance searches (parametric heating)"
   ]
  },
  {
   "cell_type": "markdown",
   "metadata": {},
   "source": [
    "# notes and todo\n",
    "\n",
    "- all methods added so far work\n",
    "- do single atom case studies to test functionality\n",
    "- make experiment class in which FORT on/off times, chopping phases,\n",
    "    and drops are set, following our experiment cycle design\n",
    "    - plot the waveform to check\n",
    "    - do atom exp with 100% single atom loading and simulated \"second\"\n",
    "        readout checking whether the atom position is within the FORT\n",
    "        radius\n",
    "\n",
    "\n",
    "# pseudocode here\n",
    "\n",
    "do this with objects. have an atom class, an experiment class to set FORT on off times, etc. \n",
    "do this for several atoms, say 100: \n",
    "capture an atom with a random velocity corresponding to a given T, say 25 uK\n",
    "integrate the differential eq for the FORT being on either continuously or chopped (state machine it?)\n",
    "the eq should use the dipole force given a gaussian intensity profile in r, and whatever shape the focus is\n",
    "calculate things like mean squared velocity in the FORT to track temp, kinetic energy"
   ]
  },
  {
   "cell_type": "code",
   "execution_count": 6,
   "metadata": {},
   "outputs": [
    {
     "data": {
      "text/html": [
       "<style>.container{width:100% !important;}</style>"
      ],
      "text/plain": [
       "<IPython.core.display.HTML object>"
      ]
     },
     "metadata": {},
     "output_type": "display_data"
    }
   ],
   "source": [
    "# %matplotlib notebook\n",
    "\n",
    "## libraries\n",
    "from matplotlib import pyplot as plt\n",
    "import numpy as np\n",
    "from numpy import linspace,sin,cos,log,exp\n",
    "import math as m\n",
    "from math import sqrt,pi,e,exp\n",
    "from random import random as rand\n",
    "from scipy.integrate import solve_ivp\n",
    "\n",
    "## other files\n",
    "from physconsts import *\n",
    "from rbconsts import *\n",
    "from rbensemble import RbEnsemble as ensemble\n",
    "\n",
    "## make the display wide\n",
    "from IPython.core.display import display,HTML\n",
    "display(HTML(\"<style>.container{width:100% !important;}</style>\"))"
   ]
  },
  {
   "cell_type": "code",
   "execution_count": 7,
   "metadata": {},
   "outputs": [],
   "source": [
    "## methods\n",
    "\n",
    "def squarewave(d,tau,t,n):\n",
    "    \"\"\" square wave with duty cycle 'd' and period 'tau' [s]\n",
    "        evaluated at time 't' % tau. \n",
    "        'n': number of Fourier terms\n",
    "    \"\"\"\n",
    "    t = t % tau\n",
    "    \n",
    "    term = lambda m: 2*(1-cos(m*pi*d))*sin(m*pi*t/tau)/(m*pi)\n",
    "    sqwv = 0\n",
    "    for i in range(1,n):\n",
    "        sqwv += term(i)\n",
    "    \n",
    "    return sqwv\n",
    "\n",
    "def fr_dipole(r,delta,w0,I0,dist='Gaussian'):\n",
    "    \"\"\" Radial component of dipole force felt by an atom located at\n",
    "        r. \n",
    "        'delta': light detuning from the relevant transition\n",
    "        'w0': characteristic trap radius, e.g. gaussian waist\n",
    "        'dist': trap cross section shape, e.g. poisson\n",
    "        'I0': peak spatial intensity\n",
    "    \"\"\"\n",
    "    global hbar,Isat,gamma_D2\n",
    "    \n",
    "    # assume dist = Gaussian for now\n",
    "    I = lambda x: I0*exp(-x**2/w0**2)\n",
    "    gradI = lambda x: -2*I0*x*exp(-x**2/w0**2)/w0**2\n",
    "    \n",
    "    fdip = -(hbar*delta/2)*((gradI(r)/Isat)\n",
    "                            /(1+4*(delta/gamma_D2)**2)+I(r)/Isat)\n",
    "    return fdip"
   ]
  },
  {
   "cell_type": "code",
   "execution_count": 12,
   "metadata": {
    "collapsed": true
   },
   "outputs": [
    {
     "data": {
      "image/png": "[encoded data removed]",
      "text/plain": [
       "<Figure size 432x288 with 1 Axes>"
      ]
     },
     "metadata": {
      "needs_background": "light"
     },
     "output_type": "display_data"
    },
    {
     "data": {
      "text/plain": [
       "array([0.0159959 , 0.0128605 , 0.04267118, 0.03207185, 0.02398301,\n",
       "       0.01252156, 0.05841582, 0.02665472, 0.02014433, 0.02253457,\n",
       "       0.03008341, 0.03470635, 0.03653649, 0.02775304, 0.03758941,\n",
       "       0.06183109, 0.03193306, 0.02931369, 0.03427004, 0.01853934,\n",
       "       0.05699387, 0.03045087, 0.02209868, 0.04035926, 0.05681113,\n",
       "       0.03085344, 0.03105674, 0.03753117, 0.031559  , 0.04297416,\n",
       "       0.01870755, 0.01777445, 0.06170129, 0.03629541, 0.01306337,\n",
       "       0.01641698, 0.0391638 , 0.02843064, 0.0385431 , 0.0491751 ,\n",
       "       0.04358594, 0.0374834 , 0.04495431, 0.05648765, 0.04275918,\n",
       "       0.0504972 , 0.0225025 , 0.01856957, 0.09223469, 0.00735656])"
      ]
     },
     "execution_count": 12,
     "metadata": {},
     "output_type": "execute_result"
    }
   ],
   "source": [
    "# maxwboltz test\n",
    "atoms = ensemble(5e-6)\n",
    "atoms.sampling_maxboltzv(50,[0,1],showplot=True)"
   ]
  },
  {
   "cell_type": "code",
   "execution_count": 165,
   "metadata": {
    "collapsed": true
   },
   "outputs": [
    {
     "data": {
      "text/plain": [
       "[<matplotlib.lines.Line2D at 0x223d60501d0>]"
      ]
     },
     "execution_count": 165,
     "metadata": {},
     "output_type": "execute_result"
    },
    {
     "data": {
      "image/png": "[encoded data removed]",
      "text/plain": [
       "<Figure size 432x288 with 1 Axes>"
      ]
     },
     "metadata": {
      "needs_background": "light"
     },
     "output_type": "display_data"
    }
   ],
   "source": [
    "# fr_dipole test\n",
    "w0 = 2.5e-6\n",
    "D = 2e8\n",
    "I0 = .4*.384/(pi*(w0)) \n",
    "\n",
    "rpts = linspace(0,5,30)\n",
    "fpts = [fr_dipole(r*1e-6,D,w0,I0) for r in rpts]\n",
    "plt.plot(rpts,fpts)"
   ]
  },
  {
   "cell_type": "code",
   "execution_count": 272,
   "metadata": {},
   "outputs": [
    {
     "data": {
      "text/plain": [
       "1.3158794269163735e-14"
      ]
     },
     "execution_count": 272,
     "metadata": {},
     "output_type": "execute_result"
    }
   ],
   "source": [
    "# FORT potential wrt inf and escape velocity\n",
    "w0 = 2.5e-6\n",
    "D = 2e8\n",
    "I0 = .4*.384/(pi*(w0)) \n",
    "g = gamma_D2\n",
    "\n",
    "# integral Fdip from 0 to inf in mathematica. Check Mark's notes\n",
    "U = .5*hbar*w0**2*D*log(1+I0*g**2/(Isat*(g**2+4*D**2)))\n",
    "U/kB # why is this so small?\n",
    "\n",
    "# get escape vel from this"
   ]
  },
  {
   "cell_type": "code",
   "execution_count": 91,
   "metadata": {
    "collapsed": true
   },
   "outputs": [
    {
     "data": {
      "text/plain": [
       "[<matplotlib.lines.Line2D at 0x223d080ab00>]"
      ]
     },
     "execution_count": 91,
     "metadata": {},
     "output_type": "execute_result"
    },
    {
     "data": {
      "image/png": "[encoded data removed]",
      "text/plain": [
       "<Figure size 432x288 with 1 Axes>"
      ]
     },
     "metadata": {
      "needs_background": "light"
     },
     "output_type": "display_data"
    }
   ],
   "source": [
    "# squarewave test\n",
    "tlist = linspace(0,4,500)\n",
    "sqpts = [squarewave(0.7,2,t,100) for t in tlist]\n",
    "plt.plot(tlist,sqpts)"
   ]
  },
  {
   "cell_type": "code",
   "execution_count": 376,
   "metadata": {},
   "outputs": [],
   "source": [
    "## classes \n",
    "\n",
    "class Experiment():\n",
    "    \"\"\" Do some science \"\"\"\n",
    "    \n",
    "    global mRb\n",
    "\n",
    "    ## experimental constants and methods\n",
    "    w0 = 2.5e-6 # FORT width\n",
    "    D = 2e8 # FORT detuning [Hz] from D2 cooling line\n",
    "    I0 = .4*.384/(pi*(w0)) # FORT peak intensity\n",
    "    lowpow = .7 # FORT low power setting [percentage]\n",
    "    fdip = lambda r: fr_dipole(r,D,w0,I0) # FORT dipole F_r\n",
    "    \n",
    "    def __init__(self,atoms): \n",
    "        \n",
    "        # later could just inherit RbEnsemble \n",
    "        self.atoms = atoms \n",
    "        \n",
    "        # all times in [ms] for now\n",
    "        self.t_exp = 100 \n",
    "        self.t_FORTload = 0\n",
    "        self.t_FORTdrop = [] # duration of FORT turned off\n",
    "        self.t_chop = [] # duration of chopping\n",
    "        self.chopduty = [] # chop duty cycle\n",
    "        self.chopperiod = [] # chop period\n",
    "\n",
    "        scan = self.t_FORTdrop # account for other vars later\n",
    "        \n",
    "    def derivs_on(self,t,y): \n",
    "        m = mRb\n",
    "\n",
    "        v,r = y\n",
    "\n",
    "        vdot = -fdip(r)/m\n",
    "        rdot = v\n",
    "\n",
    "        return [vdot,rdot]\n",
    "\n",
    "    def derivs_off(self,t,y): \n",
    "        m = mRb\n",
    "\n",
    "        v,r = y\n",
    "\n",
    "        vdot = 0\n",
    "        rdot = v\n",
    "\n",
    "        return [vdot,rdot]\n",
    "    \n",
    "    def derivs_low(self,t,y): \n",
    "        m = mRb\n",
    "\n",
    "        v,r = y\n",
    "\n",
    "        vdot = -lowpow*fdip(r)/m\n",
    "        rdot = v\n",
    "\n",
    "        return [vdot,rdot]\n",
    "\n",
    "\n",
    "    \n",
    "    def derivs_chop(self,t,y):\n",
    "        m = mRb\n",
    "\n",
    "        v,r = y\n",
    "\n",
    "        vdot = -fdip(r)*sqwv(t)/m\n",
    "        rdot = v\n",
    "\n",
    "        return [vdot,rdot] \n",
    "        \n",
    "    def fort_temp(self,samples):\n",
    "        \"\"\" release recapture \n",
    "            'samples' = number of measurements per data point\n",
    "        \"\"\" \n",
    "        \n",
    "        # not working; plot looks null, despite loop finishing, which implies\n",
    "        # at least sample atoms were retained at loading... i guess.\n",
    "        # no more programmatic errors though\n",
    "        \n",
    "        t_drop = 30e-3 # drop the FORT at .030 s\n",
    "        t_exp = self.t_exp*1e-3 # convert to s\n",
    "        t_steps = 500\n",
    "        t_gap = self.t_FORTdrop*1e-3\n",
    "        \n",
    "        atoms = self.atoms\n",
    "        \n",
    "        retentions = np.empty(len(self.t_FORTdrop)) # atoms not lost to FORT drop\n",
    "        \n",
    "        for i,t_gap in enumerate(self.t_FORTdrop):\n",
    "            retention = 0\n",
    "            final_r = np.empty(samples)\n",
    "            for s in range(samples):\n",
    "\n",
    "                # FORT on CW\n",
    "                tdomain = [0,t_drop]\n",
    "                tlist = linspace(0,t_drop,t_steps)\n",
    "                y0 = [atoms.xpt([0,w0]),atoms.vpt()]\n",
    "    \n",
    "#                 soln1 = solve_ivp(self.derivs_on,tdomain,y0,t_eval=tlist)\n",
    "                \n",
    "#                 # check if atom has been retained thus far\n",
    "#                 r = soln1.y[0][-1]\n",
    "#                 v = soln1.y[1][-1]\n",
    "                \n",
    "#                 final_r[s]=r\n",
    "                \n",
    "# #                 if r > w0: # abort this iteration\n",
    "# #                     s -= 1 # don't advance the counter; \n",
    "# # #                     break\n",
    "# #                 else:\n",
    "# #                     retention+=1\n",
    "\n",
    "                # FORT off \n",
    "                tdomain = [t_drop,t_gap]\n",
    "                tlist = linspace(t_drop,t_gap,t_steps)\n",
    "                soln2 = solve_ivp(self.derivs_off,tdomain,y0,t_eval=tlist)\n",
    "                \n",
    "                # atom still within FORT cross-section after t_gap?\n",
    "                r = soln2.y[0][-1]\n",
    "                if r <= w0:\n",
    "                    retention += 1\n",
    "\n",
    "#             plt.plot(final_r/(1e-6)) # plot the final r vals\n",
    "\n",
    "            print(f\"iter {i}: loading = {retention/samples}\")\n",
    "            retentions[i] = retention/samples\n",
    "            \n",
    "#         fig,ax = plt.subplots()\n",
    "#         ax.plot(t_gap/(1e-3),retentions)\n",
    "#         ax.set(xlim=[0,t_exp/(1e-3)],ylim=[0,1])\n",
    "#         plt.show()\n",
    "\n",
    "        #return [t_FORTdrop,retentions]\n",
    "            "
   ]
  },
  {
   "cell_type": "code",
   "execution_count": 20,
   "metadata": {
    "scrolled": true
   },
   "outputs": [
    {
     "data": {
      "image/png": "[encoded data removed]",
      "text/plain": [
       "<Figure size 432x288 with 1 Axes>"
      ]
     },
     "metadata": {
      "needs_background": "light"
     },
     "output_type": "display_data"
    }
   ],
   "source": [
    "# ode solve test\n",
    "\n",
    "tau = 8e-7 # 800 ns\n",
    "texp = 10.7e-6\n",
    "tlist = linspace(0,texp,1000)\n",
    "sqwv = lambda t: squarewave(0.5,tau,t,100)\n",
    "sqpts = [sqwv(t) for t in tlist]\n",
    "# plt.plot(tlist/1e-9,sqpts)\n",
    "\n",
    "w0 = 2.5e-6\n",
    "D = 2e8\n",
    "I0 = .4*.384/(pi*(w0)) \n",
    "\n",
    "fdip = lambda r: fr_dipole(r,D,w0,I0)\n",
    "\n",
    "def derivs(t,y):\n",
    "    global mRb\n",
    "    m = mRb\n",
    "    \n",
    "    v,r = y\n",
    "    \n",
    "    vdot = -fdip(r)/m #*sqwv(t)/m\n",
    "    rdot = v\n",
    "    \n",
    "    return [vdot,rdot]\n",
    "\n",
    "tdomain = [0,texp]\n",
    "y0 = [.1,0] # [v0 [m/s] ,r0 [m]]\n",
    "\n",
    "soln = solve_ivp(derivs,tdomain,y0,t_eval=tlist)\n",
    "# plt.plot(soln.t/1e-6,soln.y[1]/1e-6)\n",
    "\n",
    "fig, ax = plt.subplots()\n",
    "ax.plot(soln.t/1e-6,soln.y[1]/1e-6)\n",
    "# ax.plot(soln.t/1e-6,sqpts)\n",
    "ax.set(xlabel='time [us]', ylabel='r [um]')\n",
    "plt.show()\n",
    "    \n",
    "# solve_ivp(func,[0,t_exp],y0,t_eval=np.linspace(0,t_exp,50))"
   ]
  },
  {
   "cell_type": "code",
   "execution_count": 25,
   "metadata": {},
   "outputs": [
    {
     "data": {
      "text/plain": [
       "[<matplotlib.lines.Line2D at 0x2570303bf28>]"
      ]
     },
     "execution_count": 25,
     "metadata": {},
     "output_type": "execute_result"
    },
    {
     "data": {
      "image/png": "[encoded data removed]",
      "text/plain": [
       "<Figure size 432x288 with 1 Axes>"
      ]
     },
     "metadata": {
      "needs_background": "light"
     },
     "output_type": "display_data"
    }
   ],
   "source": [
    "# the AC stark shift the atom sees\n",
    "fig, ax = plt.subplots()\n",
    "acshift = [(I0*exp(-y**2/w0**2)-19470)/90 for y in soln.y[1]]\n",
    "ax.plot(soln.t/1e-6,acshift)"
   ]
  },
  {
   "cell_type": "code",
   "execution_count": 27,
   "metadata": {},
   "outputs": [
    {
     "data": {
      "image/png": "[encoded data removed]",
      "text/plain": [
       "<Figure size 432x288 with 1 Axes>"
      ]
     },
     "metadata": {
      "needs_background": "light"
     },
     "output_type": "display_data"
    }
   ],
   "source": [
    "# time spent in various regions of stark shift histogram\n",
    "n, bins, patches = plt.hist(acshift, 50, density=True, facecolor='g')\n",
    "\n",
    "plt.xlabel('AC Stark shift')\n",
    "plt.ylabel('\"Probability\"')\n",
    "plt.show()"
   ]
  },
  {
   "cell_type": "code",
   "execution_count": 304,
   "metadata": {
    "collapsed": true
   },
   "outputs": [
    {
     "data": {
      "image/png": "[encoded data removed]",
      "text/plain": [
       "<Figure size 432x288 with 1 Axes>"
      ]
     },
     "metadata": {
      "needs_background": "light"
     },
     "output_type": "display_data"
    }
   ],
   "source": [
    "# RbEnsemble test\n",
    "atoms = RbEnsemble(5e-5,100,xdist='normal')\n",
    "atoms.phasespace()"
   ]
  },
  {
   "cell_type": "code",
   "execution_count": 377,
   "metadata": {},
   "outputs": [],
   "source": [
    "# Experiment test. don't name the experiment 'exp' !!\n",
    "atom = RbEnsemble(5e-5)\n",
    "exp1 = Experiment(atom)\n",
    "exp1.t_FORTdrop = np.array([0,0.002,0.004,0.008,0.01,0.012,0.014,0.016,0.018,\n",
    "                            0.02,0.04,0.06,0.08,0.1,0.12,0.14,0.16]) # [ms]"
   ]
  },
  {
   "cell_type": "code",
   "execution_count": 378,
   "metadata": {
    "scrolled": true
   },
   "outputs": [
    {
     "name": "stdout",
     "output_type": "stream",
     "text": [
      "iter 0: loading = 1.0\n",
      "iter 1: loading = 1.0\n",
      "iter 2: loading = 1.0\n",
      "iter 3: loading = 1.0\n",
      "iter 4: loading = 1.0\n",
      "iter 5: loading = 1.0\n",
      "iter 6: loading = 1.0\n",
      "iter 7: loading = 1.0\n",
      "iter 8: loading = 1.0\n",
      "iter 9: loading = 1.0\n",
      "iter 10: loading = 1.0\n",
      "iter 11: loading = 1.0\n",
      "iter 12: loading = 1.0\n",
      "iter 13: loading = 1.0\n",
      "iter 14: loading = 1.0\n",
      "iter 15: loading = 1.0\n",
      "iter 16: loading = 1.0\n"
     ]
    }
   ],
   "source": [
    "exp1.fort_temp(10)"
   ]
  },
  {
   "cell_type": "code",
   "execution_count": null,
   "metadata": {},
   "outputs": [],
   "source": [
    "()"
   ]
  }
 ],
 "metadata": {
  "kernelspec": {
   "display_name": "Python 3",
   "language": "python",
   "name": "python3"
  },
  "language_info": {
   "codemirror_mode": {
    "name": "ipython",
    "version": 3
   },
   "file_extension": ".py",
   "mimetype": "text/x-python",
   "name": "python",
   "nbconvert_exporter": "python",
   "pygments_lexer": "ipython3",
   "version": "3.7.3"
  }
 },
 "nbformat": 4,
 "nbformat_minor": 2
}
