{
 "cells": [
  {
   "cell_type": "code",
   "execution_count": 1,
   "metadata": {},
   "outputs": [],
   "source": [
    "#### libraries\n",
    "from numpy import *\n",
    "import matplotlib.pyplot as plt\n",
    "\n",
    "#### local files\n",
    "from physconsts import *\n",
    "from rbconsts import *"
   ]
  },
  {
   "cell_type": "code",
   "execution_count": null,
   "metadata": {},
   "outputs": [],
   "source": [
    "#### functions \n",
    "\n",
    "def wr(t,T,wr):\n",
    "    \"\"\" size of cloud. \n",
    "        'wr': the width at t = 0\n",
    "    \"\"\"\n",
    "    m = mRb # is m the mass of one atom, or the whole cloud?\n",
    "    \n",
    "    return wr*(1 + 4*kB*T*t**2/(m*wr**2))**.5\n",
    "    \n",
    "def fr(t,x,y,z,T,wr0,N=1):\n",
    "    \"\"\" density of MOT. after eq 13.37 in Mark's notes.\n",
    "        'N': total # of atoms; set to 1 by default\n",
    "        'x','y' are in the camera focal plane\n",
    "        'z' is the optical axis\n",
    "    \"\"\"\n",
    "    \n",
    "    f = N*(2/(pi*w(t)**2)**(3/2) \\\n",
    "           *exp(-2*(x**2 + z**2 + (y + .5*g*t**2)**2)/wr(t,T,wr0)**2)\n",
    "    return f\n",
    "    \n",
    "def fluor(x,y,z):\n",
    "    \"\"\" fluorescence of the cloud \"\"\"\n",
    "           \n",
    "    e\n",
    "    "
   ]
  }
 ],
 "metadata": {
  "kernelspec": {
   "display_name": "Python 3",
   "language": "python",
   "name": "python3"
  },
  "language_info": {
   "codemirror_mode": {
    "name": "ipython",
    "version": 3
   },
   "file_extension": ".py",
   "mimetype": "text/x-python",
   "name": "python",
   "nbconvert_exporter": "python",
   "pygments_lexer": "ipython3",
   "version": "3.7.3"
  }
 },
 "nbformat": 4,
 "nbformat_minor": 2
}
