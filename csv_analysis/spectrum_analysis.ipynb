{
 "cells": [
  {
   "cell_type": "code",
   "execution_count": 1,
   "metadata": {},
   "outputs": [],
   "source": [
    "# use as template for scope data, etc"
   ]
  },
  {
   "cell_type": "code",
   "execution_count": 5,
   "metadata": {},
   "outputs": [],
   "source": [
    "from pandas import DataFrame, Series\n",
    "import matplotlib.pyplot as plt\n",
    "from numpy import *\n",
    "import csv\n",
    "import os\n",
    "from mpl_toolkits.axes_grid1.inset_locator import inset_axes"
   ]
  },
  {
   "cell_type": "code",
   "execution_count": 6,
   "metadata": {},
   "outputs": [],
   "source": [
    "def process_csv(filename, exclude=2):\n",
    "    exampleFile = open(filename, encoding='utf-8')\n",
    "    exampleReader = csv.reader(exampleFile)\n",
    "    exampleData = list(exampleReader)\n",
    "    print(exampleData[1])\n",
    "    exampleFile.close()\n",
    "    return exampleData[exclude:]\n",
    "\n",
    "def get_region_df(df, xcol, offset, halfwidth, noffset=False):\n",
    "    \"\"\" df is a two-column dataframe. return subset of rows zoomed in\n",
    "        on the region within [offset-halfwidth, offset+halfwidth]. \n",
    "    \"\"\"\n",
    "    sub_df = df[(df[xcol]>offset-halfwidth) & (df[xcol]<offset+halfwidth)]\n",
    "    if noffset is True:\n",
    "        sub_df[xcol] -= offset\n",
    "    return sub_df"
   ]
  },
  {
   "cell_type": "code",
   "execution_count": 7,
   "metadata": {},
   "outputs": [
    {
     "name": "stdout",
     "output_type": "stream",
     "text": [
      "['Freq', '', 'Amp', '', 'Freq', '', 'Amp', '', '']\n"
     ]
    }
   ],
   "source": [
    "data = process_csv(\"780Aself_heterodyne_20190412.csv\")"
   ]
  },
  {
   "cell_type": "code",
   "execution_count": 8,
   "metadata": {},
   "outputs": [
    {
     "data": {
      "text/html": [
       "<div>\n",
       "<style scoped>\n",
       "    .dataframe tbody tr th:only-of-type {\n",
       "        vertical-align: middle;\n",
       "    }\n",
       "\n",
       "    .dataframe tbody tr th {\n",
       "        vertical-align: top;\n",
       "    }\n",
       "\n",
       "    .dataframe thead th {\n",
       "        text-align: right;\n",
       "    }\n",
       "</style>\n",
       "<table border=\"1\" class=\"dataframe\">\n",
       "  <thead>\n",
       "    <tr style=\"text-align: right;\">\n",
       "      <th></th>\n",
       "      <th>0</th>\n",
       "      <th>1</th>\n",
       "      <th>2</th>\n",
       "      <th>3</th>\n",
       "      <th>4</th>\n",
       "      <th>5</th>\n",
       "      <th>6</th>\n",
       "      <th>7</th>\n",
       "      <th>8</th>\n",
       "    </tr>\n",
       "  </thead>\n",
       "  <tbody>\n",
       "    <tr>\n",
       "      <th>0</th>\n",
       "      <td>87461057</td>\n",
       "      <td>Hz</td>\n",
       "      <td>-98.57</td>\n",
       "      <td>dBm</td>\n",
       "      <td>87461057</td>\n",
       "      <td>Hz</td>\n",
       "      <td>-97.02</td>\n",
       "      <td>dBm</td>\n",
       "      <td></td>\n",
       "    </tr>\n",
       "    <tr>\n",
       "      <th>1</th>\n",
       "      <td>87470771</td>\n",
       "      <td>Hz</td>\n",
       "      <td>-96.50</td>\n",
       "      <td>dBm</td>\n",
       "      <td>87470771</td>\n",
       "      <td>Hz</td>\n",
       "      <td>-97.18</td>\n",
       "      <td>dBm</td>\n",
       "      <td></td>\n",
       "    </tr>\n",
       "    <tr>\n",
       "      <th>2</th>\n",
       "      <td>87480485</td>\n",
       "      <td>Hz</td>\n",
       "      <td>-97.66</td>\n",
       "      <td>dBm</td>\n",
       "      <td>87480485</td>\n",
       "      <td>Hz</td>\n",
       "      <td>-97.61</td>\n",
       "      <td>dBm</td>\n",
       "      <td></td>\n",
       "    </tr>\n",
       "    <tr>\n",
       "      <th>3</th>\n",
       "      <td>87490199</td>\n",
       "      <td>Hz</td>\n",
       "      <td>-96.05</td>\n",
       "      <td>dBm</td>\n",
       "      <td>87490199</td>\n",
       "      <td>Hz</td>\n",
       "      <td>-96.85</td>\n",
       "      <td>dBm</td>\n",
       "      <td></td>\n",
       "    </tr>\n",
       "    <tr>\n",
       "      <th>4</th>\n",
       "      <td>87499913</td>\n",
       "      <td>Hz</td>\n",
       "      <td>-97.72</td>\n",
       "      <td>dBm</td>\n",
       "      <td>87499913</td>\n",
       "      <td>Hz</td>\n",
       "      <td>-97.04</td>\n",
       "      <td>dBm</td>\n",
       "      <td></td>\n",
       "    </tr>\n",
       "  </tbody>\n",
       "</table>\n",
       "</div>"
      ],
      "text/plain": [
       "                      0   1                     2     3                     4  \\\n",
       "0              87461057  Hz                -98.57   dBm              87461057   \n",
       "1              87470771  Hz                -96.50   dBm              87470771   \n",
       "2              87480485  Hz                -97.66   dBm              87480485   \n",
       "3              87490199  Hz                -96.05   dBm              87490199   \n",
       "4              87499913  Hz                -97.72   dBm              87499913   \n",
       "\n",
       "    5                     6     7 8  \n",
       "0  Hz                -97.02   dBm    \n",
       "1  Hz                -97.18   dBm    \n",
       "2  Hz                -97.61   dBm    \n",
       "3  Hz                -96.85   dBm    \n",
       "4  Hz                -97.04   dBm    "
      ]
     },
     "execution_count": 8,
     "metadata": {},
     "output_type": "execute_result"
    }
   ],
   "source": [
    "df = DataFrame(data)\n",
    "df.head()"
   ]
  },
  {
   "cell_type": "code",
   "execution_count": 10,
   "metadata": {
    "scrolled": true
   },
   "outputs": [],
   "source": [
    "# data from the first trace\n",
    "trace1_df = df[[0,2]].astype(float)\n",
    "xpts1, ypts1 = trace1_df.values.transpose()\n",
    "x0 = xpts1[where(ypts1 == max(ypts1))[0]][0]"
   ]
  },
  {
   "cell_type": "code",
   "execution_count": 11,
   "metadata": {},
   "outputs": [],
   "source": [
    "# data from the second trace\n",
    "trace2_df = df[[4,6]].astype(float)\n",
    "xpts2, ypts2 = trace2_df.values.transpose()"
   ]
  },
  {
   "cell_type": "code",
   "execution_count": 14,
   "metadata": {},
   "outputs": [
    {
     "data": {
      "image/png": "[encoded data removed]",
      "text/plain": [
       "<Figure size 432x288 with 1 Axes>"
      ]
     },
     "metadata": {
      "needs_background": "light"
     },
     "output_type": "display_data"
    }
   ],
   "source": [
    "fig,ax = plt.subplots()\n",
    "ax.set_title(\"780A Self-Heterodyne Measurement\")\n",
    "ax.set_xlabel(\"[MHz]\")\n",
    "ax.set_ylabel(\"[dBm]\")\n",
    "# ax.plot((xpts1-x0)/(1e6),ypts1,c=\"purple\") # single frame\n",
    "ax.plot((xpts2-x0)/(1e6),ypts2,c=\"purple\") # averaged, 20 frames\n",
    "plt.show()"
   ]
  },
  {
   "cell_type": "code",
   "execution_count": 16,
   "metadata": {},
   "outputs": [],
   "source": [
    "# zoom in on peak\n",
    "peak2_df = get_region_df(trace2_df, 4, x0, 5e5)\n",
    "xptsz, yptsz = peak2_df.values.transpose()"
   ]
  },
  {
   "cell_type": "code",
   "execution_count": 17,
   "metadata": {},
   "outputs": [
    {
     "data": {
      "image/png": "[encoded data removed]",
      "text/plain": [
       "<Figure size 432x288 with 1 Axes>"
      ]
     },
     "metadata": {
      "needs_background": "light"
     },
     "output_type": "display_data"
    }
   ],
   "source": [
    "fig,ax = plt.subplots()\n",
    "ax.set_title(\"780A Self-Heterodyne Measurement\")\n",
    "ax.set_xlabel(\"[MHz]\")\n",
    "ax.set_ylabel(\"[dBm]\")\n",
    "ax.plot((xptsz-x0)/(1e6),yptsz,c=\"purple\") # averaged, 20 frames\n",
    "plt.show()"
   ]
  },
  {
   "cell_type": "code",
   "execution_count": 24,
   "metadata": {},
   "outputs": [],
   "source": [
    "# see python-examples\\mpl_inset_axes.ipynb to inset the peak"
   ]
  },
  {
   "cell_type": "code",
   "execution_count": null,
   "metadata": {},
   "outputs": [],
   "source": []
  }
 ],
 "metadata": {
  "kernelspec": {
   "display_name": "Python 3",
   "language": "python",
   "name": "python3"
  },
  "language_info": {
   "codemirror_mode": {
    "name": "ipython",
    "version": 3
   },
   "file_extension": ".py",
   "mimetype": "text/x-python",
   "name": "python",
   "nbconvert_exporter": "python",
   "pygments_lexer": "ipython3",
   "version": "3.7.3"
  }
 },
 "nbformat": 4,
 "nbformat_minor": 2
}
