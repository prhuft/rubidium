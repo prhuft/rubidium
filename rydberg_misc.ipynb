{
 "cells": [
  {
   "cell_type": "markdown",
   "metadata": {},
   "source": [
    "# Rydberg calculations for $^{87}$Rb\n",
    "\n",
    " miscellaneous Rydberg calculations\n",
    "\n",
    "References:\n",
    " * Minho's Thesis\n",
    " * Paul Huillery Thesis\n",
    " * Rydberg_atoms_a_primer_notebook (Pair Interaction)"
   ]
  },
  {
   "cell_type": "code",
   "execution_count": 1,
   "metadata": {},
   "outputs": [
    {
     "data": {
      "text/html": [
       "<style>.container{width:100% !important;}</style>"
      ],
      "text/plain": [
       "<IPython.core.display.HTML object>"
      ]
     },
     "metadata": {},
     "output_type": "display_data"
    }
   ],
   "source": [
    "from physconsts import *\n",
    "from rbconsts import *\n",
    "from numpy import *\n",
    "from numpy.linalg import eigh\n",
    "import matplotlib.pyplot as plt\n",
    "import matplotlib as mpl\n",
    "from sympy.physics.wigner import wigner_6j,wigner_3j,clebsch_gordan\n",
    "from time import time\n",
    "from arc import *\n",
    "from scipy.special import sph_harm as ylm\n",
    "\n",
    "# local\n",
    "from amophys import *\n",
    "\n",
    "# other\n",
    "mpl.rcParams.update(mpl.rcParamsDefault)\n",
    "\n",
    "#### layout stuff\n",
    "from IPython.core.display import display,HTML\n",
    "display(HTML(\"<style>.container{width:100% !important;}</style>\"))"
   ]
  },
  {
   "cell_type": "markdown",
   "metadata": {},
   "source": [
    "## Setup"
   ]
  },
  {
   "cell_type": "code",
   "execution_count": 2,
   "metadata": {},
   "outputs": [],
   "source": [
    "# various setup\n",
    "qq = ee**2/(4*pi*e0)\n",
    "\n",
    "rb = Rubidium(87)\n",
    "\n",
    "ldict = {0:'S',1:'P',2:'D',3:'F'} \n",
    "jdict = {.5:'1/2',1.5:'3/2',2.5:'5/2',3.5:'7/2'}\n",
    "\n",
    "def hf_matrix_elem(F,mF,J,q,FF,mFF,JJ,I,RME=None):\n",
    "    \"\"\" Returns the matrix element <F,mF,J|T_q|F',mF',J'>. \n",
    "    \n",
    "        RME is the reduced matrix element (just a number), which can be calculated\n",
    "        externally and passed in to be a multiplier. If RME=None, the \n",
    "        matrix element is in units of [RME].\n",
    "        \n",
    "        I is the nuclear spin of the atom.\n",
    "    \"\"\"\n",
    "\n",
    "    rme = 1\n",
    "    if RME!=None:\n",
    "        rme = RME\n",
    "\n",
    "    ## From Mark's notes, eqs. A-50,51\n",
    "    mat_elem = rme*pow(-1,F+JJ+1+I)*sqrt((2*F+1)*(2*JJ+1)) \\\n",
    "                *wigner_6j(J,I,F,FF,1,JJ) \\\n",
    "                *clebsch_gordan(1,F,FF,q,mF,mFF)\n",
    "    \n",
    "    return mat_elem"
   ]
  },
  {
   "cell_type": "markdown",
   "metadata": {},
   "source": [
    "## Misc Tests"
   ]
  },
  {
   "cell_type": "markdown",
   "metadata": {},
   "source": [
    "LeRoy Radius\n",
    "$R_{LR} = 2 \\left( \\sqrt{\\langle r_1^2 \\rangle} + \\sqrt{\\langle r_2^2 \\rangle} \\right) \\approx 4 n^2 a_0 $"
   ]
  },
  {
   "cell_type": "code",
   "execution_count": 46,
   "metadata": {},
   "outputs": [
    {
     "data": {
      "text/plain": [
       "2.5326318795200154e-06"
      ]
     },
     "execution_count": 46,
     "metadata": {},
     "output_type": "execute_result"
    }
   ],
   "source": [
    "# Assumption of well-separated Rydberg atoms: atoms are separated by\n",
    "# the LeRoy radius \n",
    "\n",
    "Rlr = lambda n,l: a0*sqrt(8*n**2*(5*n**2 + 1 - 3*l*(l+1)))\n",
    "\n",
    "Rlr(87,2)"
   ]
  },
  {
   "cell_type": "code",
   "execution_count": 8,
   "metadata": {},
   "outputs": [],
   "source": [
    "# what frequency needed for single-photon Rydberg excitation?\n",
    "\n",
    "rb = Rubidium(87)\n",
    "n1=5\n",
    "l1=0\n",
    "j1=1/2\n",
    "mj1=1/2\n",
    "n2=84\n",
    "l2=1\n",
    "j2=3/2\n",
    "mj2=3/2\n",
    "q=1\n",
    "nuGHz = eVToGHz(rb.getEnergy(n2,l2,j2) - rb.getEnergy(n1,l1,j1))"
   ]
  },
  {
   "cell_type": "code",
   "execution_count": 15,
   "metadata": {},
   "outputs": [
    {
     "data": {
      "text/plain": [
       "2.969630820885388e-07"
      ]
     },
     "execution_count": 15,
     "metadata": {},
     "output_type": "execute_result"
    }
   ],
   "source": [
    "c/(nuGHz*1e9)"
   ]
  },
  {
   "cell_type": "code",
   "execution_count": 14,
   "metadata": {},
   "outputs": [
    {
     "data": {
      "text/plain": [
       "2.9714285714285715e-07"
      ]
     },
     "execution_count": 14,
     "metadata": {},
     "output_type": "execute_result"
    }
   ],
   "source": [
    "c/(c/(4.8e-7) + c/(7.8e-7))"
   ]
  },
  {
   "cell_type": "code",
   "execution_count": 4,
   "metadata": {
    "collapsed": true
   },
   "outputs": [
    {
     "name": "stdout",
     "output_type": "stream",
     "text": [
      "Help on method getEnergy in module arc.alkali_atom_functions:\n",
      "\n",
      "getEnergy(n, l, j, s=0.5) method of arc.alkali_atom_data.Rubidium instance\n",
      "    Energy of the level relative to the ionisation level (in eV)\n",
      "    \n",
      "    Returned energies are with respect to the center of gravity of the\n",
      "    hyperfine-split states.\n",
      "    If `preferQuantumDefects` =False (set during initialization)\n",
      "    program will try use NIST energy value, if such exists,\n",
      "    falling back to energy calculation with quantum defects if\n",
      "    the measured value doesn't exist. For `preferQuantumDefects` =True,\n",
      "    program will always calculate energies from quantum defects\n",
      "    (useful for comparing quantum defect calculations with measured\n",
      "    energy level values).\n",
      "    \n",
      "    Args:\n",
      "        n (int): principal quantum number\n",
      "        l (int): orbital angular momentum\n",
      "        j (float): total angular momentum\n",
      "        s (float): optional, total spin angular momentum. Default value\n",
      "            of 0.5 is correct for Alkali atoms, and has to be specified\n",
      "            explicitly for divalent atoms.\n",
      "    \n",
      "    Returns:\n",
      "        float: state energy (eV)\n",
      "\n"
     ]
    }
   ],
   "source": [
    "help(rb.getEnergy)"
   ]
  },
  {
   "cell_type": "code",
   "execution_count": 5,
   "metadata": {},
   "outputs": [],
   "source": [
    "# Calculate oscillator strength between |87d_5/2> and nearby \n",
    "# states |n'l'J'> states. then calculate energy shifts from \n",
    "# forster resonances in pair states using only those states\n",
    "# with some threshold level of oscillator strength"
   ]
  },
  {
   "cell_type": "code",
   "execution_count": 3,
   "metadata": {},
   "outputs": [],
   "source": []
  },
  {
   "cell_type": "code",
   "execution_count": 8,
   "metadata": {
    "scrolled": false
   },
   "outputs": [
    {
     "data": {
      "text/plain": [
       "[<matplotlib.lines.Line2D at 0x24d43807ac8>]"
      ]
     },
     "execution_count": 8,
     "metadata": {},
     "output_type": "execute_result"
    },
    {
     "data": {
      "image/png": "[encoded data removed]",
      "text/plain": [
       "<Figure size 432x288 with 1 Axes>"
      ]
     },
     "metadata": {
      "needs_background": "light"
     },
     "output_type": "display_data"
    }
   ],
   "source": [
    "# TODO: try to make contour plots of the whole |psi|^2, i.e. including\n",
    "# the angular part\n",
    "s = 0.5\n",
    "l = 0\n",
    "j = 0.5\n",
    "n = 5\n",
    "\n",
    "rmin = rb.alphaC**(1/3)\n",
    "rmax = 2*n*(n+15)\n",
    "\n",
    "rpts, radial = rb.radialWavefunction(\n",
    "    l,s,j,\n",
    "    rb.getEnergy(n,l,j)/27.211, # don't know why 27.211 \n",
    "    rmin,\n",
    "    rmax,\n",
    "    step=0.001\n",
    ")\n",
    "\n",
    "plt.plot(rpts, radial) "
   ]
  },
  {
   "cell_type": "markdown",
   "metadata": {},
   "source": [
    "## Dipole and Interaction Strengths"
   ]
  },
  {
   "cell_type": "code",
   "execution_count": 46,
   "metadata": {
    "scrolled": true
   },
   "outputs": [
    {
     "name": "stdout",
     "output_type": "stream",
     "text": [
      "UV wavelength: 296.96308208853884 nm\n",
      "power estimate: 1.3786099322089828e-06 W\n"
     ]
    }
   ],
   "source": [
    "## single-photon ground-Rydberg coupling\n",
    "\n",
    "rb.getDipoleMatrixElement(n1,l1,j1,mj1,n2,l2,j2,mj2,q)\n",
    "\n",
    "rb = Rubidium(87)\n",
    "n1=5\n",
    "l1=0\n",
    "j1=1/2\n",
    "f1=2\n",
    "mj1=1/2\n",
    "mf1=0\n",
    "n2=84\n",
    "l2=1\n",
    "j2=3/2\n",
    "mj2=3/2\n",
    "q=1\n",
    "mq=1\n",
    "nuGHz = eVToGHz(rb.getEnergy(n2,l2,j2) - rb.getEnergy(n1,l1,j1))\n",
    "print(\"UV wavelength:\",1e9*c/(nuGHz*1e9),\"nm\")\n",
    "rabi = 2*pi*1e8 # desired Rabi rate\n",
    "w0 = 6e-6\n",
    "p = 0.5*c*e0*pi*w0**2*rabi/(rb.getDipoleMatrixElement(n1,l1,j1,mj1,n2,l2,j2,mj2,q)*ee*a0/hbar) #*clebsch_gordan(q,f1,j2,mq,mf1,mj2) # this CG is probably wrong.\n",
    "print(\"power estimate:\",p,\"W\")"
   ]
  },
  {
   "cell_type": "code",
   "execution_count": 44,
   "metadata": {},
   "outputs": [
    {
     "data": {
      "text/latex": [
       "$\\displaystyle 0$"
      ],
      "text/plain": [
       "0"
      ]
     },
     "execution_count": 44,
     "metadata": {},
     "output_type": "execute_result"
    }
   ],
   "source": [
    "p"
   ]
  },
  {
   "cell_type": "code",
   "execution_count": 4,
   "metadata": {},
   "outputs": [],
   "source": [
    "## dipole matrix elements between Rydberg states\n",
    "\n",
    "n1 = 87\n",
    "s = 0.5\n",
    "l1 = 2\n",
    "j1 = 2.5\n",
    "mj1 = 2.5 # stretched state\n",
    "q = -1 # lin-pol light\n",
    "\n",
    "n2list = range(84,88)\n",
    "\n",
    "ticklabels = []\n",
    "matelems = []\n",
    "\n",
    "for n2 in n2list:\n",
    "    for l2 in [l1-1, l1+1]:\n",
    "        for j2 in arange(l2-s,l2+s+1,1):\n",
    "            if mj1 + q <= j2: \n",
    "                mj2 = mj1 + q\n",
    "                matelems.append(\n",
    "                    abs(rb.getDipoleMatrixElement(n1,l1,j1,mj1,n2,l2,j2,mj2,q))\n",
    "                )\n",
    "                ticklabels.append(f'|{n2}{ldict[l2]}_{jdict[j2]},{jdict[mj2]}>')"
   ]
  },
  {
   "cell_type": "code",
   "execution_count": 5,
   "metadata": {
    "scrolled": false
   },
   "outputs": [
    {
     "data": {
      "image/png": "[encoded data removed]",
      "text/plain": [
       "<Figure size 432x288 with 1 Axes>"
      ]
     },
     "metadata": {
      "needs_background": "light"
     },
     "output_type": "display_data"
    }
   ],
   "source": [
    "fig,ax = plt.subplots()\n",
    "\n",
    "ax.scatter(range(len(matelems)),matelems)\n",
    "ax.set_xticks(range(len(matelems)))\n",
    "ax.set_xticklabels(ticklabels, rotation=60, fontsize='large')\n",
    "ax.set_ylabel(r'Matrix Element [$e a_0$]', fontsize='large')\n",
    "ax.set_title(f'Electric Dipole Transitions with |{n1}{ldict[l1]}_{jdict[j1]},{jdict[mj1]}>, q={q}')\n",
    "plt.show()"
   ]
  },
  {
   "cell_type": "markdown",
   "metadata": {},
   "source": [
    "## Two-Photon Rydberg Rabi Frequency"
   ]
  },
  {
   "cell_type": "code",
   "execution_count": 35,
   "metadata": {},
   "outputs": [],
   "source": [
    "n1 = 5\n",
    "l1 = 0\n",
    "j1 = 1/2\n",
    "mj1 = 1/2\n",
    "n2 = 5\n",
    "l2 = 1\n",
    "j2 = 3/2\n",
    "mj2 = 3/2\n",
    "n3 = 84\n",
    "l3 = 2\n",
    "j3 = 5/2\n",
    "mj3 = 5/2\n",
    "q = 1\n",
    "\n",
    "## red photon Rabi frequency... technically this should be between HF states, but it's close enough\n",
    "redInt = (8e-6)/(pi*(6e-6)**2)\n",
    "redRabi = sqrt(2*j1+1)*rb.getDipoleMatrixElement(n1,l1,j1,mj1,n2,l2,j2,mj2,q)*ee*a0*sqrt(redInt)/hbar\n",
    "deltaRed = 2e9\n",
    "\n",
    "## blue photon Rabi frequency\n",
    "blueInt = 0.021/(pi*(4e-6)**2)\n",
    "blueRabi = sqrt(2*j2+1)*rb.getDipoleMatrixElement(n2,l2,j2,mj2,n3,l3,j3,mj3,q)*ee*a0*sqrt(blueInt)/hbar\n",
    "deltaBlue = -deltaRed"
   ]
  },
  {
   "cell_type": "code",
   "execution_count": 39,
   "metadata": {},
   "outputs": [
    {
     "name": "stdout",
     "output_type": "stream",
     "text": [
      "0.5264676988507868 MHz\n"
     ]
    }
   ],
   "source": [
    "# blueRabi,redRabi\n",
    "\n",
    "totalRabi = blueRabi*redRabi/(2*deltaRed)\n",
    "print(totalRabi/1e6, \"MHz\")"
   ]
  },
  {
   "cell_type": "markdown",
   "metadata": {},
   "source": [
    "## Ionization"
   ]
  },
  {
   "cell_type": "code",
   "execution_count": 9,
   "metadata": {},
   "outputs": [
    {
     "data": {
      "text/plain": [
       "[1, 2, 3]"
      ]
     },
     "execution_count": 9,
     "metadata": {},
     "output_type": "execute_result"
    }
   ],
   "source": [
    "j3_from_j1j2(l1,1)"
   ]
  },
  {
   "cell_type": "code",
   "execution_count": 16,
   "metadata": {},
   "outputs": [
    {
     "name": "stdout",
     "output_type": "stream",
     "text": [
      "(n,l,j)f=[184.0, 1, 1.5], energy=381.5354427445121 GHz\n",
      "(n,l,j)f=[184.0, 3, 1.5], energy=384.36939009845787 GHz\n",
      "(n,l,j)f=[184.0, 3, 3.5], energy=384.36939009845787 GHz\n",
      "(n,l,j)f=[195.11111111111111, 1, 1.5], energy=392.7505343843338 GHz\n",
      "(n,l,j)f=[195.11111111111111, 3, 1.5], energy=395.12438995085915 GHz\n",
      "(n,l,j)f=[195.11111111111111, 3, 3.5], energy=395.12438995085915 GHz\n",
      "(n,l,j)f=[206.22222222222223, 1, 1.5], energy=402.1799265506877 GHz\n",
      "(n,l,j)f=[206.22222222222223, 3, 1.5], energy=404.1881319772846 GHz\n",
      "(n,l,j)f=[206.22222222222223, 3, 3.5], energy=404.1881319772846 GHz\n",
      "(n,l,j)f=[217.33333333333331, 1, 1.5], energy=410.18353621481134 GHz\n",
      "(n,l,j)f=[217.33333333333331, 3, 1.5], energy=411.8974925716004 GHz\n",
      "(n,l,j)f=[217.33333333333331, 3, 3.5], energy=411.8974925716004 GHz\n",
      "(n,l,j)f=[228.44444444444446, 1, 1.5], energy=417.03496785992644 GHz\n",
      "(n,l,j)f=[228.44444444444446, 3, 1.5], energy=418.5094649488035 GHz\n",
      "(n,l,j)f=[228.44444444444446, 3, 3.5], energy=418.5094649488035 GHz\n",
      "(n,l,j)f=[239.55555555555554, 1, 1.5], energy=422.9452111405652 GHz\n",
      "(n,l,j)f=[239.55555555555554, 3, 1.5], energy=424.22285738869635 GHz\n",
      "(n,l,j)f=[239.55555555555554, 3, 3.5], energy=424.22285738869635 GHz\n",
      "(n,l,j)f=[250.66666666666666, 1, 1.5], energy=428.07908109558963 GHz\n",
      "(n,l,j)f=[250.66666666666666, 3, 1.5], energy=429.1934142244015 GHz\n",
      "(n,l,j)f=[250.66666666666666, 3, 3.5], energy=429.1934142244015 GHz\n",
      "(n,l,j)f=[261.77777777777777, 1, 1.5], energy=432.56683421068345 GHz\n",
      "(n,l,j)f=[261.77777777777777, 3, 1.5], energy=433.5445432336192 GHz\n",
      "(n,l,j)f=[261.77777777777777, 3, 3.5], energy=433.5445432336192 GHz\n",
      "(n,l,j)f=[272.8888888888889, 1, 1.5], energy=436.5125128397713 GHz\n",
      "(n,l,j)f=[272.8888888888889, 3, 1.5], energy=437.3750500917123 GHz\n",
      "(n,l,j)f=[272.8888888888889, 3, 3.5], energy=437.3750500917123 GHz\n",
      "(n,l,j)f=[284.0, 1, 1.5], energy=440.0000302152816 GHz\n",
      "(n,l,j)f=[284.0, 3, 1.5], energy=440.764797515498 GHz\n",
      "(n,l,j)f=[284.0, 3, 3.5], energy=440.764797515498 GHz\n"
     ]
    }
   ],
   "source": [
    "n1 = 84\n",
    "l1 = 2\n",
    "j1 = 5/2\n",
    "for n2 in linspace(n1+100,n1+200,10):\n",
    "    for l2 in [l1-1, l1+1]:\n",
    "        for j2 in [j1-1, j1+1]:\n",
    "            try:\n",
    "                de = eVToGHz(rb.getEnergy(n2,l2,j2) - rb.getEnergy(n1,l1,j1)) \n",
    "                print(f'(n,l,j)f={[n2,l2,j2]}, energy={de} GHz')\n",
    "            except:\n",
    "                pass"
   ]
  },
  {
   "cell_type": "markdown",
   "metadata": {},
   "source": [
    "## Dipole-Dipole Interactions"
   ]
  },
  {
   "cell_type": "code",
   "execution_count": 7,
   "metadata": {},
   "outputs": [],
   "source": [
    "def V_dd(a1,b1,a2,b2,r12,atom):\n",
    "    \"\"\"\n",
    "    dipole-dipole matrix elem including fine structure\n",
    "    a1,b1,a2,b2 are each lists of form [n,l,j,mj] denoting the states 1 and 2 of atoms a,b\n",
    "    r12 is atom separation\n",
    "    atom is a PairInteraction atom object\n",
    "    \n",
    "    Default units are S.I., so Joules\n",
    "    \"\"\"\n",
    "    na1,la1,ja1,ma1 = a1\n",
    "    nb1,lb1,jb1,mb1 = b1\n",
    "    na2,la2,ja2,ma2 = a2\n",
    "    nb2,lb2,jb2,mb2 = b2\n",
    "    \n",
    "    q=0 # dipole has linear polarization\n",
    "    matelem = 0\n",
    "\n",
    "    for p in [-1,0,1]:V\n",
    "        try:\n",
    "            matelem += clebsch_gordan(1,1,2,p,-p,q)* \\\n",
    "                atom.getDipoleMatrixElement(na1,la1,ja1,ma1,na2,la2,ja2,ma2,p)* \\\n",
    "                atom.getDipoleMatrixElement(nb1,lb1,jb1,mb1,nb2,lb2,jb2,mb2,-p)\n",
    "        except ValueError:\n",
    "            pass # CG coefficient is zero; ignore.\n",
    "    \n",
    "    matelem *= -qq**2*sqrt(6)/r12\n",
    "    return matelem"
   ]
  },
  {
   "cell_type": "code",
   "execution_count": 8,
   "metadata": {},
   "outputs": [
    {
     "name": "stdout",
     "output_type": "stream",
     "text": [
      "Forster defect = -8.334369904025891 [MHz]\n",
      "number of basis pair states: 68\n"
     ]
    }
   ],
   "source": [
    "# initial pair state, ignoring Zeeman substates\n",
    "na1 = 43\n",
    "la1 = 2\n",
    "ja1 = 5/2\n",
    "\n",
    "nb1 = 43\n",
    "lb1 = 2\n",
    "jb1 = 5/2\n",
    "# final pair state, \"\"\"\n",
    "na2 = 45\n",
    "la2 = 1\n",
    "ja2 = 3/2\n",
    "\n",
    "nb2 = 41\n",
    "lb2 = 3\n",
    "jb2 = 7/2\n",
    "\n",
    "delta = -(rb.getEnergy(na1,la1,ja1) \n",
    "         + rb.getEnergy(nb1,lb1,jb1)\n",
    "         - rb.getEnergy(na2,la2,ja2)\n",
    "         - rb.getEnergy(nb2,lb2,jb2))*ee/(2*pi*hbar*10**6)\n",
    "print(f\"Forster defect = {delta} [MHz]\")\n",
    "\n",
    "# initial state with possible projections\n",
    "basis_i = [[[na1, la1, ja1, ma],[nb1, lb1, jb1, mb]] for ma in arange(-ja1, ja1+1,1) for mb in arange(-jb1, jb1+1,1)]\n",
    "# final state with possible projections\n",
    "basis_f = [[[na2, la2, ja2, ma],[nb2, lb2, jb2, mb]] for ma in arange(-ja2, ja2+1,1) for mb in arange(-jb2, jb2+1,1)]\n",
    "\n",
    "basis = basis_i + basis_f\n",
    "dim = len(basis)\n",
    "print(f\"number of basis pair states: {dim}\")"
   ]
  },
  {
   "cell_type": "code",
   "execution_count": null,
   "metadata": {},
   "outputs": [],
   "source": [
    "basis_i = [[[na1, la1, ja1, ma],[nb1, lb1, jb1, mb]] for ma in arange(-ja1, ja1+1,1) for mb in arange(-jb1, jb1+1,1) if mb+ma==]\n"
   ]
  },
  {
   "cell_type": "code",
   "execution_count": 60,
   "metadata": {
    "scrolled": true
   },
   "outputs": [
    {
     "name": "stdout",
     "output_type": "stream",
     "text": [
      "computed evecs solution in 93.51566863059998 [s]\n"
     ]
    }
   ],
   "source": [
    "## build and diagonalize the full hamiltonian. Units MHz. \n",
    "\n",
    "# eigenvector arrays are stored in the convention of numpy's eigh: \n",
    "# a 2D array whose columns are the e-vectors \n",
    "\n",
    "# things to add -- include diamagnetic interaction\n",
    "\n",
    "# Note that is an overkill approach to solving the 43-43 -> 41-45 example,\n",
    "# but is robust for handling more complicated systems later where level\n",
    "# crossings are involved, i.e. spaghetti\n",
    "\n",
    "t0 = time()\n",
    "H_atom = zeros((dim,dim))\n",
    "for i in range(dim - int((2*ja2+1)*(2*jb2+1)),dim):\n",
    "    H_atom[i,i] = delta\n",
    "    \n",
    "# the original evecs:\n",
    "ovecs = identity(dim)\n",
    "\n",
    "numsteps = 4\n",
    "solution = empty((dim,numsteps)) # numrows = len(basis), numcols = numsteps \n",
    "\n",
    "rsteps = linspace(20e-5,19.5e-5,numsteps)\n",
    "for sol_idx, r12 in enumerate(rsteps): # separation between atoms 1,2 \n",
    "\n",
    "    # compute H_vdd\n",
    "    H_vdd = zeros((dim,dim))\n",
    "    for i,pairstate_i in enumerate(basis):\n",
    "        for j,pairstate_j in enumerate(basis):\n",
    "            state_ai,state_bi = pairstate_i\n",
    "            state_aj,state_bj = pairstate_j\n",
    "            H_vdd[i,j] = V_dd(state_ai,state_bi,state_aj,state_bj,r12,rb)/(2*pi*hbar*10**6)\n",
    "\n",
    "    # diagonalize the full Hamiltonian\n",
    "    H_full = H_atom + H_vdd\n",
    "    evals,evecs = eigh(H_full)    \n",
    "    \n",
    "    # sort the eigenvalues so they \"match up\" with the energies at the previous step\n",
    "    # by taking measuring the overlap of the new evecs with the old ones\n",
    "    evals_sorted = empty(dim)\n",
    "    evecs_sorted = empty((dim,dim))\n",
    "    for i in range(dim):\n",
    "        # get index of evec that maximally overlaps old evec i\n",
    "        idx = 0\n",
    "        maxval = 0\n",
    "        for j in range(dim):\n",
    "            overlap = vdot(evecs[:,i],ovecs[:,j])\n",
    "            if overlap > maxval:\n",
    "                maxval = overlap\n",
    "                idx = j\n",
    "        evals_sorted[i] = evals[idx]\n",
    "        evecs_sorted[:,i] = evecs[:,idx]\n",
    "    \n",
    "    # redefine old eigenvectors\n",
    "    ovecs = evecs_sorted\n",
    "    \n",
    "    # insert e-values in solution as a column\n",
    "    solution[:,sol_idx] = evals_sorted\n",
    "    \n",
    "# insert the unperturbed energy levels (i.e. at r12 = infty) last:\n",
    "# solution[:,-1]  = array([H_atom[i,i] for i in range(dim)])\n",
    "\n",
    "print(f\"computed evecs solution in {time()-t0} [s]\")"
   ]
  },
  {
   "cell_type": "code",
   "execution_count": 61,
   "metadata": {
    "scrolled": false
   },
   "outputs": [
    {
     "data": {
      "image/png": "[encoded data removed]",
      "text/plain": [
       "<Figure size 640x480 with 1 Axes>"
      ]
     },
     "metadata": {},
     "output_type": "display_data"
    }
   ],
   "source": [
    "fig,ax = plt.subplots()\n",
    "for i in range(numsteps):\n",
    "    ax.plot(rsteps/1e-6,solution[i])\n",
    "# ax.plot(rsteps/1e-6,solution[0])"
   ]
  },
  {
   "cell_type": "code",
   "execution_count": null,
   "metadata": {},
   "outputs": [],
   "source": []
  },
  {
   "cell_type": "code",
   "execution_count": 165,
   "metadata": {},
   "outputs": [],
   "source": [
    "## sort the new evals by overlap of evecs with old evecs\n",
    "\n",
    "evals_sorted = empty(dim)\n",
    "\n",
    "ovecs = identity(dim)\n",
    "# for i in range(dim):\n",
    "#     evals_sorted.append(max([vdot(evecs[:,i],ovecs[:,j]) for j in range(dim)]))\n",
    "\n",
    "for i in range(dim):\n",
    "    # get index of evec that maximally overlaps old evec i\n",
    "    idx = 0\n",
    "    maxval = 0\n",
    "    for j in range(dim):\n",
    "        overlap = vdot(evecs[:,i],ovecs[:,j])\n",
    "        if overlap > maxval:\n",
    "            maxval = overlap\n",
    "            idx = j\n",
    "    evals_sorted[i] = evals[idx]\n",
    "        \n",
    "    # get eigenvalue at j\n",
    "\n",
    "# vvecs = array([v*evecs[:,i] for i,v in enumerate(evals)]) # the current e-energies times resp. e-vectors\n",
    "# old_vvecs = array([H_full[i,i]*array(vec) for i,vec in enumerate(identity(dim))]) #  # the old e-energies times resp. e-vectors"
   ]
  },
  {
   "cell_type": "code",
   "execution_count": 166,
   "metadata": {},
   "outputs": [
    {
     "data": {
      "text/plain": [
       "array([-1.50361402e-15, -8.33436990e+00, -1.84610795e-15,  1.04411494e-15,\n",
       "        5.41828635e-15,  5.82500576e-16, -6.77083357e-16, -1.84610795e-15,\n",
       "       -1.38795140e-15, -1.50361402e-15, -1.33106320e-15,  1.15662617e-15,\n",
       "       -1.71034868e-15, -1.50361402e-15,  1.12176134e-15,  2.87182188e-15,\n",
       "       -8.33436990e+00,  1.04411494e-15,  1.79556333e-15,  2.06099999e-15,\n",
       "       -9.95680270e-16, -3.92271135e-16,  1.85060187e-15, -2.25431818e-16,\n",
       "        1.68568424e-15,  2.33243805e-15, -2.12914095e-16,  2.87182188e-15,\n",
       "        2.87182188e-15,  1.68568424e-15,  1.79556333e-15,  1.12176134e-15,\n",
       "       -8.33436990e+00, -8.33436990e+00, -8.33436990e+00, -8.33436990e+00,\n",
       "       -8.33436990e+00, -8.33436990e+00, -8.33436990e+00, -8.33436990e+00,\n",
       "       -8.33436990e+00, -2.94625880e-15, -8.33436990e+00, -8.33436990e+00,\n",
       "       -8.33436990e+00, -8.33436990e+00, -8.33436990e+00, -8.33436990e+00,\n",
       "       -2.60435208e-15, -8.33436990e+00, -8.33436990e+00, -8.33436990e+00,\n",
       "       -8.33436990e+00, -8.33436990e+00, -8.33436990e+00, -8.33436990e+00,\n",
       "       -8.33436990e+00, -8.33436990e+00, -8.33436990e+00, -8.33436990e+00,\n",
       "       -2.60435208e-15, -8.33436990e+00, -8.33436990e+00, -8.33436990e+00,\n",
       "       -8.33436990e+00, -8.33436990e+00, -8.33436990e+00, -2.10218790e-15])"
      ]
     },
     "execution_count": 166,
     "metadata": {},
     "output_type": "execute_result"
    }
   ],
   "source": [
    "evals_sorted"
   ]
  },
  {
   "cell_type": "code",
   "execution_count": 155,
   "metadata": {},
   "outputs": [
    {
     "data": {
      "text/plain": [
       "0.0"
      ]
     },
     "execution_count": 155,
     "metadata": {},
     "output_type": "execute_result"
    }
   ],
   "source": [
    "# vdot(vvecs[2], old_vvecs[2])\n",
    "# vvecs.shape, old_vvecs.shape"
   ]
  },
  {
   "cell_type": "code",
   "execution_count": 157,
   "metadata": {},
   "outputs": [],
   "source": [
    "for i in range(dim):\n",
    "    evals_sorted.append(max([vdot(vvec, old_vvec) for vvec,old_vvec in zip(vvecs,old_vvecs)]))"
   ]
  },
  {
   "cell_type": "code",
   "execution_count": 29,
   "metadata": {},
   "outputs": [
    {
     "data": {
      "text/plain": [
       "14.383454371569494"
      ]
     },
     "execution_count": 29,
     "metadata": {},
     "output_type": "execute_result"
    }
   ],
   "source": [
    "log10(ee/(2*pi*hbar)) # this says 1 eV is about 100 THz, so E ~ a few eV has an optical wavelength"
   ]
  },
  {
   "cell_type": "code",
   "execution_count": null,
   "metadata": {},
   "outputs": [],
   "source": []
  }
 ],
 "metadata": {
  "kernelspec": {
   "display_name": "Python 3",
   "language": "python",
   "name": "python3"
  },
  "language_info": {
   "codemirror_mode": {
    "name": "ipython",
    "version": 3
   },
   "file_extension": ".py",
   "mimetype": "text/x-python",
   "name": "python",
   "nbconvert_exporter": "python",
   "pygments_lexer": "ipython3",
   "version": "3.9.6"
  }
 },
 "nbformat": 4,
 "nbformat_minor": 2
}
