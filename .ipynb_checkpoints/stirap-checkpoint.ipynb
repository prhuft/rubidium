{
 "cells": [
  {
   "cell_type": "code",
   "execution_count": 1,
   "metadata": {},
   "outputs": [],
   "source": [
    "from numpy import *\n",
    "import numpy as np\n",
    "from matplotlib import pyplot as plt\n",
    "from scipy.integrate import solve_ivp\n",
    "import sympy\n",
    "from sympy.physics.wigner import wigner_6j,wigner_3j,clebsch_gordan\n",
    "import time\n",
    "\n",
    "from physconsts import *\n",
    "from rbconsts import *\n",
    "from amophys import cc"
   ]
  },
  {
   "cell_type": "code",
   "execution_count": 2,
   "metadata": {},
   "outputs": [],
   "source": [
    "#### functions \n",
    "\n",
    "def derivs(y0,t,O1,O2,D1,D2):\n",
    "    \"\"\" Returns RHS of optical bloch eqs for current values at time t\"\"\"\n",
    "    r11,r12,r13,r22,r23,r33 = y0\n",
    "#     O1,2; D1,2= params # Rabi freq, detuning\n",
    "    \n",
    "    # time derivatives of density op elements; non-redundant eqs only\n",
    "    dr11 = .5*1j*O1*(cc(r12) - r12)\n",
    "    dr12 = -.5*1j*(O1*r11 + 2*D1*r12 + O2*r13 - O1*r22)\n",
    "    dr13 = -.5*1j*(O2*r12 + 2*(D1 + D2)*r13 - O1*r23)\n",
    "    dr22 = .5*1j*(-O1*cc(r12) + O2*cc(r23) + O1*r12 - O2*r23)\n",
    "    dr23 = .5*1j*(O1*r13 - O2*r22 - 2*D2*r23 + O2*r33)\n",
    "    dr33 = .5*1j*O2*(r23 - cc(r23))\n",
    "    \n",
    "    return array([dr11,dr12,dr13,dr22,dr23,dr33])\n",
    "\n",
    "def runsim(func, idx=0):\n",
    "    \"\"\" func is the derivs function\n",
    "        idx is the index of the unraveled density matrix where \n",
    "        the population starts\n",
    "    \"\"\"\n",
    "    dt = 0.01 # timestep for DE solver\n",
    "    t_exp = 20 # experiment duration. t = 2*pi/w_rabi\n",
    "    t = arange(t_exp,step=dt)\n",
    "\n",
    "    y0 = zeros(6, complex)\n",
    "    y0[0] = 1 + 0j # all population in ground state rho11\n",
    "\n",
    "    return solve_ivp(func,[0,t_exp],y0,t_eval=linspace(0,t_exp,50))"
   ]
  },
  {
   "cell_type": "code",
   "execution_count": 4,
   "metadata": {},
   "outputs": [],
   "source": [
    "#### parameters for coherent |g> <--> |r> oscillation\n",
    "# w = 1 # doesn't matter here\n",
    "# t2 = 1 # doesn't matter here\n",
    "# t1 = t2 + 5 # doesn't matter here\n",
    "# O2 = lambda t: 2*pi*1 #exp(-((t-t2)/w)**2/2) # arb units\n",
    "# O1 = lambda t: 2*pi*1 #exp(-((t-t1)/w)**2/2)\n",
    "# D1 = 2*pi*10 # arb units\n",
    "# D2 = lambda t: -D1# + (O1(t)**2 - O2(t)**2)/4*D1\n",
    "\n",
    "#### parameters for stirap maybe\n",
    "w = 1\n",
    "t2 = 5\n",
    "t1 = t2 + 5\n",
    "O2 = lambda t: exp(-((t-t2)/w)**2/2) # arb units\n",
    "O1 = lambda t: exp(-((t-t1)/w)**2/2)\n",
    "D1 = 2*pi*10 # arb units\n",
    "D2 = lambda t: -D1# + (O1(t)**2 - O2(t)**2)/4*D1"
   ]
  },
  {
   "cell_type": "code",
   "execution_count": 6,
   "metadata": {},
   "outputs": [
    {
     "name": "stderr",
     "output_type": "stream",
     "text": [
      "C:\\Users\\gothr\\Anaconda3\\lib\\site-packages\\numpy\\core\\numeric.py:538: ComplexWarning: Casting complex values to real discards the imaginary part\n",
      "  return array(a, dtype, copy=False, order=order)\n"
     ]
    },
    {
     "data": {
      "image/png": "[encoded data removed]",
      "text/plain": [
       "<Figure size 432x288 with 3 Axes>"
      ]
     },
     "metadata": {
      "needs_background": "light"
     },
     "output_type": "display_data"
    }
   ],
   "source": [
    "# func = lambda y,t: derivs(t,y,O1(t),O2(t),D1,D2(t))\n",
    "func = lambda t,y: derivs(y,t,O1(t),O2(t),D1,D2(t))\n",
    "\n",
    "soln = runsim(func)\n",
    "\n",
    "fig, ax = plt.subplots(3,1)\n",
    "unit = 1 #2*pi # divide\n",
    "\n",
    "# populations\n",
    "ax[0].set_title('Rabi oscillations w/o spontaneous emission')\n",
    "ax[0].set_ylabel('Populations')\n",
    "for i,l in zip([0,3,5],['|c_g|^2','|c_e|^2','|c_r|^2']):\n",
    "    ax[0].plot(soln.t/unit,soln.y[i],label=l)\n",
    "ax[0].legend(loc='upper right')\n",
    "\n",
    "# rabi frequency\n",
    "ax[1].set_ylabel('Pulse amplitude')\n",
    "ax[1].set_xlabel('time [t/2pi]')\n",
    "ax[1].plot(soln.t,O1(soln.t),c='r',label='O1')\n",
    "ax[1].plot(soln.t,O2(soln.t),c='b',label='O2')\n",
    "ax[1].legend(loc='upper right')\n",
    "\n",
    "# mixing angle\n",
    "ax[2].set_ylabel('theta')\n",
    "ax[2].plot(soln.t, arctan(O1(soln.t)/O2(soln.t)))\n",
    "\n",
    "plt.show()"
   ]
  },
  {
   "cell_type": "code",
   "execution_count": 7,
   "metadata": {},
   "outputs": [
    {
     "data": {
      "text/plain": [
       "[(0, '|c_g|^2'), (3, '|c_e|^2'), (5, '|c_r|^2')]"
      ]
     },
     "execution_count": 7,
     "metadata": {},
     "output_type": "execute_result"
    }
   ],
   "source": [
    "list(zip([0,3,5],['|c_g|^2','|c_e|^2','|c_r|^2']))"
   ]
  },
  {
   "cell_type": "code",
   "execution_count": 8,
   "metadata": {},
   "outputs": [
    {
     "ename": "TypeError",
     "evalue": "unsupported operand type(s) for -: 'list' and 'int'",
     "output_type": "error",
     "traceback": [
      "\u001b[1;31m---------------------------------------------------------------------------\u001b[0m",
      "\u001b[1;31mTypeError\u001b[0m                                 Traceback (most recent call last)",
      "\u001b[1;32m<ipython-input-8-48bbbbb488c2>\u001b[0m in \u001b[0;36m<module>\u001b[1;34m\u001b[0m\n\u001b[1;32m----> 1\u001b[1;33m \u001b[0mO1\u001b[0m\u001b[1;33m(\u001b[0m\u001b[1;33m[\u001b[0m\u001b[1;36m1\u001b[0m\u001b[1;33m,\u001b[0m\u001b[1;36m2\u001b[0m\u001b[1;33m]\u001b[0m\u001b[1;33m)\u001b[0m\u001b[1;33m\u001b[0m\u001b[1;33m\u001b[0m\u001b[0m\n\u001b[0m",
      "\u001b[1;32m<ipython-input-4-5e47c9ff136e>\u001b[0m in \u001b[0;36m<lambda>\u001b[1;34m(t)\u001b[0m\n\u001b[0;32m      4\u001b[0m \u001b[0mt1\u001b[0m \u001b[1;33m=\u001b[0m \u001b[0mt2\u001b[0m \u001b[1;33m+\u001b[0m \u001b[1;36m5\u001b[0m\u001b[1;33m\u001b[0m\u001b[1;33m\u001b[0m\u001b[0m\n\u001b[0;32m      5\u001b[0m \u001b[0mO2\u001b[0m \u001b[1;33m=\u001b[0m \u001b[1;32mlambda\u001b[0m \u001b[0mt\u001b[0m\u001b[1;33m:\u001b[0m \u001b[0mexp\u001b[0m\u001b[1;33m(\u001b[0m\u001b[1;33m-\u001b[0m\u001b[1;33m(\u001b[0m\u001b[1;33m(\u001b[0m\u001b[0mt\u001b[0m\u001b[1;33m-\u001b[0m\u001b[0mt2\u001b[0m\u001b[1;33m)\u001b[0m\u001b[1;33m/\u001b[0m\u001b[0mw\u001b[0m\u001b[1;33m)\u001b[0m\u001b[1;33m**\u001b[0m\u001b[1;36m2\u001b[0m\u001b[1;33m/\u001b[0m\u001b[1;36m2\u001b[0m\u001b[1;33m)\u001b[0m \u001b[1;31m# arb units\u001b[0m\u001b[1;33m\u001b[0m\u001b[1;33m\u001b[0m\u001b[0m\n\u001b[1;32m----> 6\u001b[1;33m \u001b[0mO1\u001b[0m \u001b[1;33m=\u001b[0m \u001b[1;32mlambda\u001b[0m \u001b[0mt\u001b[0m\u001b[1;33m:\u001b[0m \u001b[0mexp\u001b[0m\u001b[1;33m(\u001b[0m\u001b[1;33m-\u001b[0m\u001b[1;33m(\u001b[0m\u001b[1;33m(\u001b[0m\u001b[0mt\u001b[0m\u001b[1;33m-\u001b[0m\u001b[0mt1\u001b[0m\u001b[1;33m)\u001b[0m\u001b[1;33m/\u001b[0m\u001b[0mw\u001b[0m\u001b[1;33m)\u001b[0m\u001b[1;33m**\u001b[0m\u001b[1;36m2\u001b[0m\u001b[1;33m/\u001b[0m\u001b[1;36m2\u001b[0m\u001b[1;33m)\u001b[0m\u001b[1;33m\u001b[0m\u001b[1;33m\u001b[0m\u001b[0m\n\u001b[0m\u001b[0;32m      7\u001b[0m \u001b[0mD1\u001b[0m \u001b[1;33m=\u001b[0m \u001b[1;36m2\u001b[0m\u001b[1;33m*\u001b[0m\u001b[0mpi\u001b[0m\u001b[1;33m*\u001b[0m\u001b[1;36m10\u001b[0m \u001b[1;31m# arb units\u001b[0m\u001b[1;33m\u001b[0m\u001b[1;33m\u001b[0m\u001b[0m\n\u001b[0;32m      8\u001b[0m \u001b[0mD2\u001b[0m \u001b[1;33m=\u001b[0m \u001b[1;32mlambda\u001b[0m \u001b[0mt\u001b[0m\u001b[1;33m:\u001b[0m \u001b[1;33m-\u001b[0m\u001b[0mD1\u001b[0m\u001b[1;31m# + (O1(t)**2 - O2(t)**2)/4*D1\u001b[0m\u001b[1;33m\u001b[0m\u001b[1;33m\u001b[0m\u001b[0m\n",
      "\u001b[1;31mTypeError\u001b[0m: unsupported operand type(s) for -: 'list' and 'int'"
     ]
    }
   ],
   "source": [
    "O1([1,2])"
   ]
  },
  {
   "cell_type": "code",
   "execution_count": null,
   "metadata": {},
   "outputs": [],
   "source": []
  }
 ],
 "metadata": {
  "kernelspec": {
   "display_name": "Python 3",
   "language": "python",
   "name": "python3"
  },
  "language_info": {
   "codemirror_mode": {
    "name": "ipython",
    "version": 3
   },
   "file_extension": ".py",
   "mimetype": "text/x-python",
   "name": "python",
   "nbconvert_exporter": "python",
   "pygments_lexer": "ipython3",
   "version": "3.7.3"
  }
 },
 "nbformat": 4,
 "nbformat_minor": 2
}
