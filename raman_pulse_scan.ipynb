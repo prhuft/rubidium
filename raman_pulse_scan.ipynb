{
 "cells": [
  {
   "cell_type": "markdown",
   "metadata": {},
   "source": [
    "\"\"\" Rb Raman pulse scan\n",
    "    Preston Huft, May 2019  \n",
    "    \n",
    "    TODO: \n",
    "        - account for non-zero atom trap site radius\n",
    "\"\"\""
   ]
  },
  {
   "cell_type": "code",
   "execution_count": 28,
   "metadata": {},
   "outputs": [],
   "source": [
    "import numpy as np\n",
    "from matplotlib import pyplot as plt\n",
    "from scipy.integrate import complex_ode,odeint\n",
    "from scipy.integrate import solve_ivp\n",
    "import sympy\n",
    "from sympy import MatrixSymbol,MatAdd,MatMul,Identity,I,Matrix,symbols\n",
    "from sympy.utilities.lambdify import lambdify, implemented_function\n",
    "from sympy.utilities.iterables import flatten\n",
    "import time\n",
    "from math import pi,sqrt"
   ]
  },
  {
   "cell_type": "code",
   "execution_count": 33,
   "metadata": {},
   "outputs": [],
   "source": [
    "## physical constants\n",
    "ee = 1.60217662e-19 # [C]\n",
    "a0 = 5.22e-11 # [m]\n",
    "hbar = 1.0545718e-34 # [J s]\n",
    "c = 3e8 # [m]\n",
    "e0 = 8.85418782e-12 # [m^-3 kg^-1 s^4 A^2]"
   ]
  },
  {
   "cell_type": "code",
   "execution_count": 44,
   "metadata": {},
   "outputs": [],
   "source": [
    "###############################################################################\n",
    "## METHODS and GLOBAL PARAMETERS\n",
    "###############################################################################\n",
    "\n",
    "def cc(z): \n",
    "    return np.conj(z)  \n",
    "\n",
    "def Intensity(P,w0,r,A=None,r0=None):\n",
    "    \"\"\" Gaussian beam intensity at radius 'r' for\n",
    "        'P' power\n",
    "        'w0' beam waist\n",
    "        'A' area\n",
    "    \"\"\"\n",
    "    if r0 is None:\n",
    "        r0 = 0\n",
    "    if A is None:\n",
    "        A = pi*w0**2\n",
    "    \n",
    "    return (P/A)*np.exp(-2*(r-r0)**2/(w0**2))\n",
    "\n",
    "def z_rayleigh(w0,wl):\n",
    "    return (pi*w0**2)/wl\n",
    "\n",
    "def g_waist(z,w0,zR):\n",
    "    return w0*sqrt(1+(z/zR)**2)  \n",
    "\n",
    "def derivs(y0,t,D1,D2,O1,O2):\n",
    "    cg,ce = y0\n",
    "    \n",
    "    # See Mark's notes, eqs 11.14. Intermediate level r eliminated.\n",
    "    \n",
    "    D = D1-D2 # resonant when the single-photon detunings cancel\n",
    "    DD1 = D - cc(O1)*O1/(D1+D2)\n",
    "    DD2 = D + cc(O2)*O2/(D1+D2)\n",
    "    OR = O1*cc(O2)/(D1+D2)\n",
    "    \n",
    "    dcg = -1j*(DD1*cg-cc(OR)*ce)/2\n",
    "    dce = 1j*(DD2*ce+OR*cg)/2\n",
    "    \n",
    "    return np.array([dcg,dce])\n",
    "\n",
    "lmbda = 7.8e-7 # [m] wavelength\n",
    "\n",
    " # see rb_matrix_elements; these include the electron charge\n",
    "o1DipoleElem = -1.792e-29\n",
    "o2DipoleElem = 1.792e-29"
   ]
  },
  {
   "cell_type": "code",
   "execution_count": 245,
   "metadata": {},
   "outputs": [
    {
     "name": "stderr",
     "output_type": "stream",
     "text": [
      "C:\\Users\\gothr\\Anaconda3\\lib\\site-packages\\ipykernel_launcher.py:86: ComplexWarning: Casting complex values to real discards the imaginary part\n"
     ]
    },
    {
     "name": "stdout",
     "output_type": "stream",
     "text": [
      "comp time = 1.5937390327453613s\n",
      "max Rabi freq. = 2pi x 39741\n"
     ]
    },
    {
     "data": {
      "image/png": "[encoded data removed]",
      "text/plain": [
       "<Figure size 432x288 with 1 Axes>"
      ]
     },
     "metadata": {
      "needs_background": "light"
     },
     "output_type": "display_data"
    }
   ],
   "source": [
    "###############################################################################\n",
    "## Raman 8 us pulse beam position scan for three atom sights\n",
    "###############################################################################\n",
    "\n",
    "## initial conditions - system starts in ground state (|F=2,mF=0>)\n",
    "c_g = 1 + 0j\n",
    "c_e = 0 + 0j\n",
    "y0 = np.array([c_g,c_e]) # bundle i.c.\n",
    "\n",
    "## empirical parameters and pertinent quantities\n",
    "P = 2*(.60e-6) # [W] beam power per sideband at atoms\n",
    "D1 = D2 = 2*pi*(4.5e10) # [Hz] single-photon detuning\n",
    "spacing = 9e-6 # [m] spacing between atom sights in x direction\n",
    "\n",
    "# experiment lists/variables \n",
    "pts = 201 # data pts to plot per atom site\n",
    "r_vals = np.linspace(-15e-6,15e-6,pts) # the positions to scan \n",
    "sites = 3 # number of atom sites\n",
    "D_arr = [0,0,0] # site-specific detuning due to different trap depths\n",
    "dr = [-spacing,0,spacing]\n",
    "\n",
    "t_exp = 8 # [us] # raman pulse duration\n",
    "\n",
    "## Beam waist and area arrays:\n",
    "w0x = 6e-6 # [m] w0 in x direction\n",
    "w0y = 8e-6 # [m] w0 in y direction\n",
    "zRx = z_rayleigh(w0x,lmbda) \n",
    "zRy = z_rayleigh(w0y,lmbda)\n",
    "\n",
    "z_vals = np.linspace(0,zRy,4) \n",
    "x_waists = np.array([g_waist(z,w0x,zRx) for z in z_vals])\n",
    "A_vals = np.array([pi*g_waist(z,w0x,zRx)*g_waist(z,w0y,zRy) for z in z_vals])\n",
    "\n",
    "z=1 # 0 is at focus, -1 is at Rayleigh range\n",
    "wx = x_waists[z] # waist at x\n",
    "A = A_vals[z] # area at z=0\n",
    "\n",
    "## initialize the figure\n",
    "fig = plt.figure()\n",
    "ax = fig.add_subplot(111)\n",
    "\n",
    "## the results arrays\n",
    "tpts = 100\n",
    "retention = [] # rename this later!\n",
    "time_solns = []\n",
    "\n",
    "ctime = time.time()\n",
    "for s in range(0,sites): # iterate over the sites\n",
    "\n",
    "    # The two-photon Rabi frequency\n",
    "    O_vals = (2/(c*e0*hbar**2))*Intensity(P,wx,r_vals+dr[s],A,r0=None) \\\n",
    "        *o1DipoleElem*o2DipoleElem \\\n",
    "        /(D1+D2)\n",
    "    \n",
    "#     print(max(abs(O_vals/(2*pi*1e6))))\n",
    "    \n",
    "    retention.append(np.empty(len(r_vals)))\n",
    "    time_solns.append(np.empty(len(r_vals),dtype=list))\n",
    "    \n",
    "    for i,O in enumerate(O_vals/(1e6)): # iterate over Rabi freq. vals \n",
    "\n",
    "        # The single-photon Rabi frequency\n",
    "        # Assume O1=O2=O, which is true if |r>=|5p3/2,F=2,mF=1>\n",
    "        O1=O2=sqrt(abs(O*(D1+D2)))\n",
    "            \n",
    "        func = lambda time,y: derivs(y,time,D1,D2,O1,O2)\n",
    "        \n",
    "        soln = solve_ivp(func,[0,t_exp],y0,t_eval=np.linspace(0,t_exp,tpts))\n",
    "        \n",
    "        time_solns[s][i]=[cc(y)*y for y in soln.y[1]] # prob(|g>)\n",
    "        retention[s][i]=time_solns[s][i][-1]\n",
    "        \n",
    "\n",
    "ctime = time.time() - ctime\n",
    "print(f\"comp time = {ctime}s\")\n",
    "\n",
    "## plot position scan results\n",
    "ax.set_ylim((0,1))\n",
    "ax.set_xlim(-19,19)\n",
    "ax.set_xlabel('Beam position wrt site 1 [um]')\n",
    "ax.set_title(f'Beam scan (x), z={z_vals[z]/1e-6:.1f}[um], wx={wx/1e-6:.1f}[um],\\\n",
    " t_raman={t_exp}[us],P={P/(2e-6):.2f}[uW]')\n",
    "for i,site in enumerate(retention):\n",
    "    ax.plot(r_vals*1e6,site,label=f\"site {i}\")\n",
    "    \n",
    "## plot the oscillations in time for a given site and rabi freq\n",
    "# ax.set_ylim((0,1))\n",
    "# ax.set_xlim((0,t_exp))\n",
    "# ax.set_xlabel('time [us]')\n",
    "# ax.set_title('Raman Rabi oscillations')\n",
    "# ax.plot(soln.t,time_solns[1][int((pts-1)/2)])\n",
    "Omax=abs(((2/(c*e0*hbar**2))*Intensity(P,wx,0,A,r0=None) \\\n",
    "        *o1DipoleElem*o2DipoleElem \\\n",
    "        /(D1+D2))/(2*pi))\n",
    "print(f\"max Rabi freq. = 2pi x {Omax:0.0f}\")\n",
    "\n",
    "ax.legend(loc='upper right')\n",
    "plt.show()"
   ]
  },
  {
   "cell_type": "markdown",
   "metadata": {},
   "source": [
    "z = 0: \n",
    "\n",
    "$\\ $P = .47 $\\mu$W, O $\\approx$ 2$\\pi \\times$ 38 kHz \n",
    "\n",
    "$\\ $P = 3.5 $\\mu$W, O $\\approx$ 2$\\pi \\times$ 284 kHz \n",
    "\n",
    "z = .25 * zR:\n",
    "\n",
    "$\\ $P = .6 $\\mu$W, O $\\approx$ 2$\\pi \\times$ 39.7 kHz \n",
    "\n",
    "z = .5 zR:\n",
    "\n",
    "$\\ $P = .9 $\\mu$W, O $\\approx$ 2$\\pi \\times$ 39.2 kHz "
   ]
  },
  {
   "cell_type": "code",
   "execution_count": 244,
   "metadata": {},
   "outputs": [
    {
     "data": {
      "text/plain": [
       "[48.3321946706122, 85.9239016366439]"
      ]
     },
     "execution_count": 244,
     "metadata": {},
     "output_type": "execute_result"
    }
   ],
   "source": [
    "[x/3 for x in (zRx/1e-6,zRy/1e-6)]"
   ]
  },
  {
   "cell_type": "code",
   "execution_count": null,
   "metadata": {},
   "outputs": [],
   "source": []
  }
 ],
 "metadata": {
  "kernelspec": {
   "display_name": "Python 3",
   "language": "python",
   "name": "python3"
  },
  "language_info": {
   "codemirror_mode": {
    "name": "ipython",
    "version": 3
   },
   "file_extension": ".py",
   "mimetype": "text/x-python",
   "name": "python",
   "nbconvert_exporter": "python",
   "pygments_lexer": "ipython3",
   "version": "3.7.3"
  }
 },
 "nbformat": 4,
 "nbformat_minor": 2
}
