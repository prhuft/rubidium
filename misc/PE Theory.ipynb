{
 "cells": [
  {
   "cell_type": "code",
   "execution_count": null,
   "metadata": {},
   "outputs": [],
   "source": [
    "# Notes\n",
    "# using C_J = C in P_N function (somewhere else too)"
   ]
  },
  {
   "cell_type": "code",
   "execution_count": 1,
   "metadata": {},
   "outputs": [],
   "source": [
    "import math\n",
    "import scipy.integrate as integrate\n",
    "from scipy.optimize import curve_fit\n",
    "import numpy as np\n",
    "import matplotlib.pyplot as plt\n",
    "import csv\n",
    "from scipy.ndimage import gaussian_filter\n",
    "from numpy import e, pi\n",
    "from scipy import constants\n",
    "#plt.rcParams.update({'font.size': 16})"
   ]
  },
  {
   "cell_type": "markdown",
   "metadata": {},
   "source": [
    "## define variables in mixed SI and eV units\n",
    "it's intriguing that the constants are in units eV while the temp and electrical stuff are in SI units"
   ]
  },
  {
   "cell_type": "code",
   "execution_count": 97,
   "metadata": {},
   "outputs": [],
   "source": [
    "## constants\n",
    "eVperJoule = 6.241509e18 # 1J = 6.24e18eV\n",
    "h = 6.62607015e-34*eVperJoule # (eV*s)\n",
    "hbar = h/(2*pi)\n",
    "el = -1.602176634e-19 # (C)\n",
    "kB = 1.380649e-23*eVperJoule # (eV/K)\n",
    "\n",
    "## Define our values\n",
    "T = 4.7\n",
    "R = 40\n",
    "L = 5e-9\n",
    "C = 5e-15\n",
    "R_Q = (h/eVperJoule)/(2*el**2) # put h back in SI units so R_Q is units ohms"
   ]
  },
  {
   "cell_type": "markdown",
   "metadata": {},
   "source": [
    "## define variables strictly in SI"
   ]
  },
  {
   "cell_type": "code",
   "execution_count": 2,
   "metadata": {},
   "outputs": [
    {
     "name": "stdout",
     "output_type": "stream",
     "text": [
      "Q = 25.0\n"
     ]
    }
   ],
   "source": [
    "## constants\n",
    "h = 6.62607015e-34 # (J*s)\n",
    "hbar = h/(2*pi)\n",
    "el = -1.602176634e-19 # (C)\n",
    "kB = 1.380649e-23 # (J/K)\n",
    "\n",
    "## Define our values\n",
    "T = 4.7\n",
    "R = 40\n",
    "L = 5e-9\n",
    "C = 5e-15\n",
    "R_Q = h/(2*el**2) # ohms\n",
    "\n",
    "Ec = el**2/(2*C)\n",
    "\n",
    "print(f\"Q = {np.sqrt(L/C)/R}\")"
   ]
  },
  {
   "cell_type": "markdown",
   "metadata": {},
   "source": [
    "## define functions"
   ]
  },
  {
   "cell_type": "code",
   "execution_count": 3,
   "metadata": {},
   "outputs": [],
   "source": [
    "# Define Z_T\n",
    "alpha = R/R_Q\n",
    "omega_c = 1/(R*C)\n",
    "omega_s = (L*C)**(-1/2)\n",
    "Q = omega_c / omega_s\n",
    "def Z_T(omega):\n",
    "    return R_Q*alpha*(1 + 1j*Q**2*omega/omega_c)/(1+1j*(omega/omega_c)-Q**2*(omega/omega_c)**2)\n",
    "\n",
    "# define Z_TT\n",
    "def Z_TT(omega):\n",
    "    return 1/(1j*omega*C+(Z_T(omega))**(-1))\n",
    "\n",
    "# Define D \n",
    "beta = (kB*T)**-1\n",
    "D = (pi/beta)*(Z_TT(0).real/R_Q)\n",
    "\n",
    "# Define I \n",
    "def I(E):\n",
    "    return (1/pi)*(D/(D**2+E**2))\n",
    "\n",
    "# Define little k\n",
    "def kk(omega):\n",
    "    return (1/(1-e**(-beta*hbar*omega)))*(Z_TT(omega).real/R_Q)-(1/(beta*hbar*omega))*(Z_TT(0).real/R_Q)\n",
    "\n",
    "# Define kappa \n",
    "def kappa(omega):\n",
    "    summand_list = []\n",
    "    for n in range(1000):\n",
    "        summand = ((2*n*pi/(beta*hbar))/((2*n*pi/(beta*hbar))**2+omega**2)) * (Z_TT(-1j*(2*n*pi/(beta*hbar))))/R_Q\n",
    "        summand_list.append(summand)\n",
    "    summ = np.sum(summand_list)\n",
    "    return np.real((1/(1-e**(-beta*hbar*omega)))*Z_TT(omega).imag/R_Q - (2/(beta*hbar))*summ)\n",
    "\n",
    "def K(E, omega):\n",
    "    return (hbar*E/(D**2+E**2))*kk(omega)+(hbar*D/(D**2+E**2))*kappa(omega)"
   ]
  },
  {
   "cell_type": "code",
   "execution_count": null,
   "metadata": {},
   "outputs": [],
   "source": [
    "omega_pts = np.linspace(-5e12,5e12,100)"
   ]
  },
  {
   "cell_type": "code",
   "execution_count": 30,
   "metadata": {
    "scrolled": true
   },
   "outputs": [
    {
     "data": {
      "text/plain": [
       "9.747954154001418e-14"
      ]
     },
     "execution_count": 30,
     "metadata": {},
     "output_type": "execute_result"
    }
   ],
   "source": [
    "min([abs(K(0,omega)) for omega in omega_pts])"
   ]
  },
  {
   "cell_type": "code",
   "execution_count": 29,
   "metadata": {},
   "outputs": [
    {
     "data": {
      "text/plain": [
       "0.00038140594434796617"
      ]
     },
     "execution_count": 29,
     "metadata": {},
     "output_type": "execute_result"
    }
   ],
   "source": [
    "min([abs(kk(omega)) for omega in omega_pts])"
   ]
  },
  {
   "cell_type": "code",
   "execution_count": 27,
   "metadata": {},
   "outputs": [],
   "source": []
  },
  {
   "cell_type": "markdown",
   "metadata": {},
   "source": [
    "## define functions with ang. frequency in units  $\\omega_s$\n",
    "in the functions below, omega is replaced with O * omega_s in functions of omega, where the new variable is the fractional frequency O. "
   ]
  },
  {
   "cell_type": "code",
   "execution_count": 5,
   "metadata": {},
   "outputs": [],
   "source": [
    "# Define Z_T\n",
    "alpha = R/R_Q\n",
    "omega_c = 1/(R*C)\n",
    "omega_s = (L*C)**(-1/2)\n",
    "Q = omega_c / omega_s\n",
    "\n",
    "def Z_T(O):\n",
    "    return R_Q*alpha*(1 + 1j*Q**2*O*omega_s/omega_c)/(1+1j*(O*omega_s/omega_c)-Q**2*(O*omega_s/omega_c)**2)\n",
    "\n",
    "# define Z_TT\n",
    "def Z_TT(O):\n",
    "    return 1/(1j*O*omega_s*C+(Z_T(O))**(-1))\n",
    "\n",
    "# Define D \n",
    "beta = (kB*T)**-1\n",
    "D = (pi/beta)*(Z_TT(0).real/R_Q)\n",
    "\n",
    "# Define I \n",
    "def I(E):\n",
    "    return (1/pi)*(D/(D**2+E**2))\n",
    "\n",
    "# Define little k\n",
    "def kk(O):\n",
    "    return (1/(1-e**(-beta*hbar*O*omega_s)))*(Z_TT(O).real/R_Q)-(1/(beta*hbar*O*omega_s))*(Z_TT(0).real/R_Q)\n",
    "\n",
    "# Define kappa \n",
    "def kappa(O):\n",
    "    summand_list = []\n",
    "    for n in range(1000):\n",
    "        summand = ((2*n*pi/(beta*hbar))/((2*n*pi/(beta*hbar))**2+(O*omega_s)**2)) * (Z_TT(-1j*(2*n*pi/(beta*hbar))))/R_Q\n",
    "        summand_list.append(summand)\n",
    "    summ = np.sum(summand_list)\n",
    "    return np.real((1/(1-e**(-beta*hbar*O*omega_s)))*Z_TT(O).imag/R_Q - (2/(beta*hbar))*summ)"
   ]
  },
  {
   "cell_type": "code",
   "execution_count": 185,
   "metadata": {},
   "outputs": [],
   "source": [
    "##\n",
    "##\n",
    "##\n",
    "##\n",
    "##\n",
    "##\n",
    "# This is where i am \n",
    "##"
   ]
  },
  {
   "cell_type": "markdown",
   "metadata": {},
   "source": [
    "## Recursive integral testing"
   ]
  },
  {
   "cell_type": "code",
   "execution_count": 3,
   "metadata": {
    "scrolled": false
   },
   "outputs": [
    {
     "data": {
      "text/plain": [
       "-8.0"
      ]
     },
     "execution_count": 3,
     "metadata": {},
     "output_type": "execute_result"
    }
   ],
   "source": [
    "# suppose we have a recursive integral f(x0) = int(f(x-x0))\n",
    "# and we have a first guess for f, namely g.\n",
    "# then f1(x0) = int(f0(x-x0)) = int(g(x-x0))\n",
    "# and  f2(x0) = int(f1(x-x0)) = int(int(g((x-x0)-x0)))\n",
    "\n",
    "# try uncommenting one of the blocks below at a time. the last line of each should print -8.0\n",
    "# if it says \"this works\" at the beginning. they all do the same thing.\n",
    "\n",
    "# this works.\n",
    "# f1 = lambda x0: integrate.quad(lambda x: x - x0, -1, 1)[0]\n",
    "# f2 = lambda x0: integrate.quad(lambda x: f1(x-x0), -1, 1)[0]\n",
    "# f3 = lambda x0: integrate.quad(lambda x: f2(x-x0), -1, 1)[0]\n",
    "# f3(1)\n",
    "\n",
    "# this works.\n",
    "# now, turn this into a loop. first, an unraveled loop\n",
    "# # for the first evaluation, we explicitly enter f0 as a lambda expression\n",
    "# f_list = np.empty(3,dtype=object) # just a generic array\n",
    "# f_list[0] = lambda x0: integrate.quad(lambda x: x - x0, -1, 1)[0]\n",
    "# f_list[1] = lambda x0: integrate.quad(lambda x: f_list[0](x-x0), -1, 1)[0]\n",
    "# f_list[2] = lambda x0: integrate.quad(lambda x: f_list[1](x-x0), -1, 1)[0]\n",
    "# f_list[2](1)\n",
    "\n",
    "# this does not work, even though I think it is functionally equivalent to the lines above\n",
    "# iters = 3\n",
    "# f_list = np.empty(3,dtype=object) # just a generic array\n",
    "# f_list[0] = lambda x0: integrate.quad(lambda x: x - x0, -1, 1)[0]\n",
    "# for i in range(iters-1):\n",
    "#     f_list[i+1] = lambda x0: integrate.quad(lambda x: f_list[i](x-x0), -1, 1)[0]\n",
    "# f_list[2](1)\n",
    "\n",
    "# this works!\n",
    "def recursive_integral(i):\n",
    "    if i == 0:\n",
    "        return lambda x0: integrate.quad(lambda x: x - x0, -1, 1)[0]\n",
    "    else:\n",
    "        return lambda x0: integrate.quad(lambda x: recursive_integral(i-1)(x-x0), -1, 1)[0]\n",
    "\n",
    "recursive_integral(2)(1)"
   ]
  },
  {
   "cell_type": "code",
   "execution_count": 12,
   "metadata": {
    "scrolled": true
   },
   "outputs": [],
   "source": [
    "# Testing if P0 converges for i iterations at E=0\n",
    "\n",
    "# SI units. this takes > 10 minutes for recursion depth of only 2\n",
    "def recursive_PE_integral(i, omega_min, omega_max):\n",
    "    \"\"\"\n",
    "    i: number of iterations\n",
    "    return:\n",
    "        a lambda function for P which can be evaluated at E\n",
    "    \"\"\"\n",
    "    if i == 0:\n",
    "        # this is P(E) with the trial function I(E) for P(E-h*omega) in integrand\n",
    "        return lambda E: I(E) + integrate.quad(lambda omega: \n",
    "                                        K(E,omega)*I(E-hbar*omega), omega_min, omega_max, points=[0])[0]\n",
    "    else:\n",
    "        # this is the ith iteration of P(E), which references the (i-1)th iteration\n",
    "        return lambda E: I(E) + integrate.quad(lambda omega:\n",
    "                                        K(E,omega)*recursive_PE_integral(i-1, omega_min, omega_max)(E - hbar*omega), \n",
    "                                        omega_min, omega_max, points=[0])[0]"
   ]
  },
  {
   "cell_type": "code",
   "execution_count": 13,
   "metadata": {
    "collapsed": true
   },
   "outputs": [
    {
     "ename": "KeyboardInterrupt",
     "evalue": "",
     "output_type": "error",
     "traceback": [
      "\u001b[1;31m---------------------------------------------------------------------------\u001b[0m",
      "\u001b[1;31mKeyboardInterrupt\u001b[0m                         Traceback (most recent call last)",
      "File \u001b[1;32m<timed eval>:1\u001b[0m\n",
      "Cell \u001b[1;32mIn[12], line 16\u001b[0m, in \u001b[0;36mrecursive_PE_integral.<locals>.<lambda>\u001b[1;34m(E)\u001b[0m\n\u001b[0;32m     12\u001b[0m     \u001b[38;5;28;01mreturn\u001b[39;00m \u001b[38;5;28;01mlambda\u001b[39;00m E: I(E) \u001b[38;5;241m+\u001b[39m integrate\u001b[38;5;241m.\u001b[39mquad(\u001b[38;5;28;01mlambda\u001b[39;00m omega: \n\u001b[0;32m     13\u001b[0m                                     K(E,omega)\u001b[38;5;241m*\u001b[39mI(E\u001b[38;5;241m-\u001b[39mhbar\u001b[38;5;241m*\u001b[39momega), omega_min, omega_max, points\u001b[38;5;241m=\u001b[39m[\u001b[38;5;241m0\u001b[39m])[\u001b[38;5;241m0\u001b[39m]\n\u001b[0;32m     14\u001b[0m \u001b[38;5;28;01melse\u001b[39;00m:\n\u001b[0;32m     15\u001b[0m     \u001b[38;5;66;03m# this is the ith iteration of P(E), which references the (i-1)th iteration\u001b[39;00m\n\u001b[1;32m---> 16\u001b[0m     \u001b[38;5;28;01mreturn\u001b[39;00m \u001b[38;5;28;01mlambda\u001b[39;00m E: I(E) \u001b[38;5;241m+\u001b[39m \u001b[43mintegrate\u001b[49m\u001b[38;5;241;43m.\u001b[39;49m\u001b[43mquad\u001b[49m\u001b[43m(\u001b[49m\u001b[38;5;28;43;01mlambda\u001b[39;49;00m\u001b[43m \u001b[49m\u001b[43momega\u001b[49m\u001b[43m:\u001b[49m\n\u001b[0;32m     17\u001b[0m \u001b[43m                                    \u001b[49m\u001b[43mK\u001b[49m\u001b[43m(\u001b[49m\u001b[43mE\u001b[49m\u001b[43m,\u001b[49m\u001b[43momega\u001b[49m\u001b[43m)\u001b[49m\u001b[38;5;241;43m*\u001b[39;49m\u001b[43mrecursive_PE_integral\u001b[49m\u001b[43m(\u001b[49m\u001b[43mi\u001b[49m\u001b[38;5;241;43m-\u001b[39;49m\u001b[38;5;241;43m1\u001b[39;49m\u001b[43m,\u001b[49m\u001b[43m \u001b[49m\u001b[43momega_min\u001b[49m\u001b[43m,\u001b[49m\u001b[43m \u001b[49m\u001b[43momega_max\u001b[49m\u001b[43m)\u001b[49m\u001b[43m(\u001b[49m\u001b[43mE\u001b[49m\u001b[43m \u001b[49m\u001b[38;5;241;43m-\u001b[39;49m\u001b[43m \u001b[49m\u001b[43mhbar\u001b[49m\u001b[38;5;241;43m*\u001b[39;49m\u001b[43momega\u001b[49m\u001b[43m)\u001b[49m\u001b[43m,\u001b[49m\u001b[43m \u001b[49m\n\u001b[0;32m     18\u001b[0m \u001b[43m                                    \u001b[49m\u001b[43momega_min\u001b[49m\u001b[43m,\u001b[49m\u001b[43m \u001b[49m\u001b[43momega_max\u001b[49m\u001b[43m,\u001b[49m\u001b[43m \u001b[49m\u001b[43mpoints\u001b[49m\u001b[38;5;241;43m=\u001b[39;49m\u001b[43m[\u001b[49m\u001b[38;5;241;43m0\u001b[39;49m\u001b[43m]\u001b[49m\u001b[43m)\u001b[49m[\u001b[38;5;241m0\u001b[39m]\n",
      "File \u001b[1;32m~\\.virtualenvs\\rubidium-6bgZCrz4\\lib\\site-packages\\scipy\\integrate\\_quadpack_py.py:411\u001b[0m, in \u001b[0;36mquad\u001b[1;34m(func, a, b, args, full_output, epsabs, epsrel, limit, points, weight, wvar, wopts, maxp1, limlst)\u001b[0m\n\u001b[0;32m    408\u001b[0m flip, a, b \u001b[38;5;241m=\u001b[39m b \u001b[38;5;241m<\u001b[39m a, \u001b[38;5;28mmin\u001b[39m(a, b), \u001b[38;5;28mmax\u001b[39m(a, b)\n\u001b[0;32m    410\u001b[0m \u001b[38;5;28;01mif\u001b[39;00m weight \u001b[38;5;129;01mis\u001b[39;00m \u001b[38;5;28;01mNone\u001b[39;00m:\n\u001b[1;32m--> 411\u001b[0m     retval \u001b[38;5;241m=\u001b[39m \u001b[43m_quad\u001b[49m\u001b[43m(\u001b[49m\u001b[43mfunc\u001b[49m\u001b[43m,\u001b[49m\u001b[43m \u001b[49m\u001b[43ma\u001b[49m\u001b[43m,\u001b[49m\u001b[43m \u001b[49m\u001b[43mb\u001b[49m\u001b[43m,\u001b[49m\u001b[43m \u001b[49m\u001b[43margs\u001b[49m\u001b[43m,\u001b[49m\u001b[43m \u001b[49m\u001b[43mfull_output\u001b[49m\u001b[43m,\u001b[49m\u001b[43m \u001b[49m\u001b[43mepsabs\u001b[49m\u001b[43m,\u001b[49m\u001b[43m \u001b[49m\u001b[43mepsrel\u001b[49m\u001b[43m,\u001b[49m\u001b[43m \u001b[49m\u001b[43mlimit\u001b[49m\u001b[43m,\u001b[49m\n\u001b[0;32m    412\u001b[0m \u001b[43m                   \u001b[49m\u001b[43mpoints\u001b[49m\u001b[43m)\u001b[49m\n\u001b[0;32m    413\u001b[0m \u001b[38;5;28;01melse\u001b[39;00m:\n\u001b[0;32m    414\u001b[0m     \u001b[38;5;28;01mif\u001b[39;00m points \u001b[38;5;129;01mis\u001b[39;00m \u001b[38;5;129;01mnot\u001b[39;00m \u001b[38;5;28;01mNone\u001b[39;00m:\n",
      "File \u001b[1;32m~\\.virtualenvs\\rubidium-6bgZCrz4\\lib\\site-packages\\scipy\\integrate\\_quadpack_py.py:535\u001b[0m, in \u001b[0;36m_quad\u001b[1;34m(func, a, b, args, full_output, epsabs, epsrel, limit, points)\u001b[0m\n\u001b[0;32m    533\u001b[0m the_points \u001b[38;5;241m=\u001b[39m the_points[the_points \u001b[38;5;241m<\u001b[39m b]\n\u001b[0;32m    534\u001b[0m the_points \u001b[38;5;241m=\u001b[39m numpy\u001b[38;5;241m.\u001b[39mconcatenate((the_points, (\u001b[38;5;241m0.\u001b[39m, \u001b[38;5;241m0.\u001b[39m)))\n\u001b[1;32m--> 535\u001b[0m \u001b[38;5;28;01mreturn\u001b[39;00m \u001b[43m_quadpack\u001b[49m\u001b[38;5;241;43m.\u001b[39;49m\u001b[43m_qagpe\u001b[49m\u001b[43m(\u001b[49m\u001b[43mfunc\u001b[49m\u001b[43m,\u001b[49m\u001b[43ma\u001b[49m\u001b[43m,\u001b[49m\u001b[43mb\u001b[49m\u001b[43m,\u001b[49m\u001b[43mthe_points\u001b[49m\u001b[43m,\u001b[49m\u001b[43margs\u001b[49m\u001b[43m,\u001b[49m\u001b[43mfull_output\u001b[49m\u001b[43m,\u001b[49m\u001b[43mepsabs\u001b[49m\u001b[43m,\u001b[49m\u001b[43mepsrel\u001b[49m\u001b[43m,\u001b[49m\u001b[43mlimit\u001b[49m\u001b[43m)\u001b[49m\n",
      "Cell \u001b[1;32mIn[12], line 17\u001b[0m, in \u001b[0;36mrecursive_PE_integral.<locals>.<lambda>\u001b[1;34m(omega)\u001b[0m\n\u001b[0;32m     12\u001b[0m     \u001b[38;5;28;01mreturn\u001b[39;00m \u001b[38;5;28;01mlambda\u001b[39;00m E: I(E) \u001b[38;5;241m+\u001b[39m integrate\u001b[38;5;241m.\u001b[39mquad(\u001b[38;5;28;01mlambda\u001b[39;00m omega: \n\u001b[0;32m     13\u001b[0m                                     K(E,omega)\u001b[38;5;241m*\u001b[39mI(E\u001b[38;5;241m-\u001b[39mhbar\u001b[38;5;241m*\u001b[39momega), omega_min, omega_max, points\u001b[38;5;241m=\u001b[39m[\u001b[38;5;241m0\u001b[39m])[\u001b[38;5;241m0\u001b[39m]\n\u001b[0;32m     14\u001b[0m \u001b[38;5;28;01melse\u001b[39;00m:\n\u001b[0;32m     15\u001b[0m     \u001b[38;5;66;03m# this is the ith iteration of P(E), which references the (i-1)th iteration\u001b[39;00m\n\u001b[0;32m     16\u001b[0m     \u001b[38;5;28;01mreturn\u001b[39;00m \u001b[38;5;28;01mlambda\u001b[39;00m E: I(E) \u001b[38;5;241m+\u001b[39m integrate\u001b[38;5;241m.\u001b[39mquad(\u001b[38;5;28;01mlambda\u001b[39;00m omega:\n\u001b[1;32m---> 17\u001b[0m                                     K(E,omega)\u001b[38;5;241m*\u001b[39m\u001b[43mrecursive_PE_integral\u001b[49m\u001b[43m(\u001b[49m\u001b[43mi\u001b[49m\u001b[38;5;241;43m-\u001b[39;49m\u001b[38;5;241;43m1\u001b[39;49m\u001b[43m,\u001b[49m\u001b[43m \u001b[49m\u001b[43momega_min\u001b[49m\u001b[43m,\u001b[49m\u001b[43m \u001b[49m\u001b[43momega_max\u001b[49m\u001b[43m)\u001b[49m\u001b[43m(\u001b[49m\u001b[43mE\u001b[49m\u001b[43m \u001b[49m\u001b[38;5;241;43m-\u001b[39;49m\u001b[43m \u001b[49m\u001b[43mhbar\u001b[49m\u001b[38;5;241;43m*\u001b[39;49m\u001b[43momega\u001b[49m\u001b[43m)\u001b[49m, \n\u001b[0;32m     18\u001b[0m                                     omega_min, omega_max, points\u001b[38;5;241m=\u001b[39m[\u001b[38;5;241m0\u001b[39m])[\u001b[38;5;241m0\u001b[39m]\n",
      "Cell \u001b[1;32mIn[12], line 16\u001b[0m, in \u001b[0;36mrecursive_PE_integral.<locals>.<lambda>\u001b[1;34m(E)\u001b[0m\n\u001b[0;32m     12\u001b[0m     \u001b[38;5;28;01mreturn\u001b[39;00m \u001b[38;5;28;01mlambda\u001b[39;00m E: I(E) \u001b[38;5;241m+\u001b[39m integrate\u001b[38;5;241m.\u001b[39mquad(\u001b[38;5;28;01mlambda\u001b[39;00m omega: \n\u001b[0;32m     13\u001b[0m                                     K(E,omega)\u001b[38;5;241m*\u001b[39mI(E\u001b[38;5;241m-\u001b[39mhbar\u001b[38;5;241m*\u001b[39momega), omega_min, omega_max, points\u001b[38;5;241m=\u001b[39m[\u001b[38;5;241m0\u001b[39m])[\u001b[38;5;241m0\u001b[39m]\n\u001b[0;32m     14\u001b[0m \u001b[38;5;28;01melse\u001b[39;00m:\n\u001b[0;32m     15\u001b[0m     \u001b[38;5;66;03m# this is the ith iteration of P(E), which references the (i-1)th iteration\u001b[39;00m\n\u001b[1;32m---> 16\u001b[0m     \u001b[38;5;28;01mreturn\u001b[39;00m \u001b[38;5;28;01mlambda\u001b[39;00m E: I(E) \u001b[38;5;241m+\u001b[39m \u001b[43mintegrate\u001b[49m\u001b[38;5;241;43m.\u001b[39;49m\u001b[43mquad\u001b[49m\u001b[43m(\u001b[49m\u001b[38;5;28;43;01mlambda\u001b[39;49;00m\u001b[43m \u001b[49m\u001b[43momega\u001b[49m\u001b[43m:\u001b[49m\n\u001b[0;32m     17\u001b[0m \u001b[43m                                    \u001b[49m\u001b[43mK\u001b[49m\u001b[43m(\u001b[49m\u001b[43mE\u001b[49m\u001b[43m,\u001b[49m\u001b[43momega\u001b[49m\u001b[43m)\u001b[49m\u001b[38;5;241;43m*\u001b[39;49m\u001b[43mrecursive_PE_integral\u001b[49m\u001b[43m(\u001b[49m\u001b[43mi\u001b[49m\u001b[38;5;241;43m-\u001b[39;49m\u001b[38;5;241;43m1\u001b[39;49m\u001b[43m,\u001b[49m\u001b[43m \u001b[49m\u001b[43momega_min\u001b[49m\u001b[43m,\u001b[49m\u001b[43m \u001b[49m\u001b[43momega_max\u001b[49m\u001b[43m)\u001b[49m\u001b[43m(\u001b[49m\u001b[43mE\u001b[49m\u001b[43m \u001b[49m\u001b[38;5;241;43m-\u001b[39;49m\u001b[43m \u001b[49m\u001b[43mhbar\u001b[49m\u001b[38;5;241;43m*\u001b[39;49m\u001b[43momega\u001b[49m\u001b[43m)\u001b[49m\u001b[43m,\u001b[49m\u001b[43m \u001b[49m\n\u001b[0;32m     18\u001b[0m \u001b[43m                                    \u001b[49m\u001b[43momega_min\u001b[49m\u001b[43m,\u001b[49m\u001b[43m \u001b[49m\u001b[43momega_max\u001b[49m\u001b[43m,\u001b[49m\u001b[43m \u001b[49m\u001b[43mpoints\u001b[49m\u001b[38;5;241;43m=\u001b[39;49m\u001b[43m[\u001b[49m\u001b[38;5;241;43m0\u001b[39;49m\u001b[43m]\u001b[49m\u001b[43m)\u001b[49m[\u001b[38;5;241m0\u001b[39m]\n",
      "File \u001b[1;32m~\\.virtualenvs\\rubidium-6bgZCrz4\\lib\\site-packages\\scipy\\integrate\\_quadpack_py.py:411\u001b[0m, in \u001b[0;36mquad\u001b[1;34m(func, a, b, args, full_output, epsabs, epsrel, limit, points, weight, wvar, wopts, maxp1, limlst)\u001b[0m\n\u001b[0;32m    408\u001b[0m flip, a, b \u001b[38;5;241m=\u001b[39m b \u001b[38;5;241m<\u001b[39m a, \u001b[38;5;28mmin\u001b[39m(a, b), \u001b[38;5;28mmax\u001b[39m(a, b)\n\u001b[0;32m    410\u001b[0m \u001b[38;5;28;01mif\u001b[39;00m weight \u001b[38;5;129;01mis\u001b[39;00m \u001b[38;5;28;01mNone\u001b[39;00m:\n\u001b[1;32m--> 411\u001b[0m     retval \u001b[38;5;241m=\u001b[39m \u001b[43m_quad\u001b[49m\u001b[43m(\u001b[49m\u001b[43mfunc\u001b[49m\u001b[43m,\u001b[49m\u001b[43m \u001b[49m\u001b[43ma\u001b[49m\u001b[43m,\u001b[49m\u001b[43m \u001b[49m\u001b[43mb\u001b[49m\u001b[43m,\u001b[49m\u001b[43m \u001b[49m\u001b[43margs\u001b[49m\u001b[43m,\u001b[49m\u001b[43m \u001b[49m\u001b[43mfull_output\u001b[49m\u001b[43m,\u001b[49m\u001b[43m \u001b[49m\u001b[43mepsabs\u001b[49m\u001b[43m,\u001b[49m\u001b[43m \u001b[49m\u001b[43mepsrel\u001b[49m\u001b[43m,\u001b[49m\u001b[43m \u001b[49m\u001b[43mlimit\u001b[49m\u001b[43m,\u001b[49m\n\u001b[0;32m    412\u001b[0m \u001b[43m                   \u001b[49m\u001b[43mpoints\u001b[49m\u001b[43m)\u001b[49m\n\u001b[0;32m    413\u001b[0m \u001b[38;5;28;01melse\u001b[39;00m:\n\u001b[0;32m    414\u001b[0m     \u001b[38;5;28;01mif\u001b[39;00m points \u001b[38;5;129;01mis\u001b[39;00m \u001b[38;5;129;01mnot\u001b[39;00m \u001b[38;5;28;01mNone\u001b[39;00m:\n",
      "File \u001b[1;32m~\\.virtualenvs\\rubidium-6bgZCrz4\\lib\\site-packages\\scipy\\integrate\\_quadpack_py.py:535\u001b[0m, in \u001b[0;36m_quad\u001b[1;34m(func, a, b, args, full_output, epsabs, epsrel, limit, points)\u001b[0m\n\u001b[0;32m    533\u001b[0m the_points \u001b[38;5;241m=\u001b[39m the_points[the_points \u001b[38;5;241m<\u001b[39m b]\n\u001b[0;32m    534\u001b[0m the_points \u001b[38;5;241m=\u001b[39m numpy\u001b[38;5;241m.\u001b[39mconcatenate((the_points, (\u001b[38;5;241m0.\u001b[39m, \u001b[38;5;241m0.\u001b[39m)))\n\u001b[1;32m--> 535\u001b[0m \u001b[38;5;28;01mreturn\u001b[39;00m \u001b[43m_quadpack\u001b[49m\u001b[38;5;241;43m.\u001b[39;49m\u001b[43m_qagpe\u001b[49m\u001b[43m(\u001b[49m\u001b[43mfunc\u001b[49m\u001b[43m,\u001b[49m\u001b[43ma\u001b[49m\u001b[43m,\u001b[49m\u001b[43mb\u001b[49m\u001b[43m,\u001b[49m\u001b[43mthe_points\u001b[49m\u001b[43m,\u001b[49m\u001b[43margs\u001b[49m\u001b[43m,\u001b[49m\u001b[43mfull_output\u001b[49m\u001b[43m,\u001b[49m\u001b[43mepsabs\u001b[49m\u001b[43m,\u001b[49m\u001b[43mepsrel\u001b[49m\u001b[43m,\u001b[49m\u001b[43mlimit\u001b[49m\u001b[43m)\u001b[49m\n",
      "Cell \u001b[1;32mIn[12], line 17\u001b[0m, in \u001b[0;36mrecursive_PE_integral.<locals>.<lambda>\u001b[1;34m(omega)\u001b[0m\n\u001b[0;32m     12\u001b[0m     \u001b[38;5;28;01mreturn\u001b[39;00m \u001b[38;5;28;01mlambda\u001b[39;00m E: I(E) \u001b[38;5;241m+\u001b[39m integrate\u001b[38;5;241m.\u001b[39mquad(\u001b[38;5;28;01mlambda\u001b[39;00m omega: \n\u001b[0;32m     13\u001b[0m                                     K(E,omega)\u001b[38;5;241m*\u001b[39mI(E\u001b[38;5;241m-\u001b[39mhbar\u001b[38;5;241m*\u001b[39momega), omega_min, omega_max, points\u001b[38;5;241m=\u001b[39m[\u001b[38;5;241m0\u001b[39m])[\u001b[38;5;241m0\u001b[39m]\n\u001b[0;32m     14\u001b[0m \u001b[38;5;28;01melse\u001b[39;00m:\n\u001b[0;32m     15\u001b[0m     \u001b[38;5;66;03m# this is the ith iteration of P(E), which references the (i-1)th iteration\u001b[39;00m\n\u001b[0;32m     16\u001b[0m     \u001b[38;5;28;01mreturn\u001b[39;00m \u001b[38;5;28;01mlambda\u001b[39;00m E: I(E) \u001b[38;5;241m+\u001b[39m integrate\u001b[38;5;241m.\u001b[39mquad(\u001b[38;5;28;01mlambda\u001b[39;00m omega:\n\u001b[1;32m---> 17\u001b[0m                                     K(E,omega)\u001b[38;5;241m*\u001b[39m\u001b[43mrecursive_PE_integral\u001b[49m\u001b[43m(\u001b[49m\u001b[43mi\u001b[49m\u001b[38;5;241;43m-\u001b[39;49m\u001b[38;5;241;43m1\u001b[39;49m\u001b[43m,\u001b[49m\u001b[43m \u001b[49m\u001b[43momega_min\u001b[49m\u001b[43m,\u001b[49m\u001b[43m \u001b[49m\u001b[43momega_max\u001b[49m\u001b[43m)\u001b[49m\u001b[43m(\u001b[49m\u001b[43mE\u001b[49m\u001b[43m \u001b[49m\u001b[38;5;241;43m-\u001b[39;49m\u001b[43m \u001b[49m\u001b[43mhbar\u001b[49m\u001b[38;5;241;43m*\u001b[39;49m\u001b[43momega\u001b[49m\u001b[43m)\u001b[49m, \n\u001b[0;32m     18\u001b[0m                                     omega_min, omega_max, points\u001b[38;5;241m=\u001b[39m[\u001b[38;5;241m0\u001b[39m])[\u001b[38;5;241m0\u001b[39m]\n",
      "Cell \u001b[1;32mIn[12], line 12\u001b[0m, in \u001b[0;36mrecursive_PE_integral.<locals>.<lambda>\u001b[1;34m(E)\u001b[0m\n\u001b[0;32m      5\u001b[0m \u001b[38;5;124;03m\"\"\"\u001b[39;00m\n\u001b[0;32m      6\u001b[0m \u001b[38;5;124;03mi: number of iterations\u001b[39;00m\n\u001b[0;32m      7\u001b[0m \u001b[38;5;124;03mreturn:\u001b[39;00m\n\u001b[0;32m      8\u001b[0m \u001b[38;5;124;03m    a lambda function for P which can be evaluated at E\u001b[39;00m\n\u001b[0;32m      9\u001b[0m \u001b[38;5;124;03m\"\"\"\u001b[39;00m\n\u001b[0;32m     10\u001b[0m \u001b[38;5;28;01mif\u001b[39;00m i \u001b[38;5;241m==\u001b[39m \u001b[38;5;241m0\u001b[39m:\n\u001b[0;32m     11\u001b[0m     \u001b[38;5;66;03m# this is P(E) with the trial function I(E) for P(E-h*omega) in integrand\u001b[39;00m\n\u001b[1;32m---> 12\u001b[0m     \u001b[38;5;28;01mreturn\u001b[39;00m \u001b[38;5;28;01mlambda\u001b[39;00m E: I(E) \u001b[38;5;241m+\u001b[39m \u001b[43mintegrate\u001b[49m\u001b[38;5;241;43m.\u001b[39;49m\u001b[43mquad\u001b[49m\u001b[43m(\u001b[49m\u001b[38;5;28;43;01mlambda\u001b[39;49;00m\u001b[43m \u001b[49m\u001b[43momega\u001b[49m\u001b[43m:\u001b[49m\u001b[43m \u001b[49m\n\u001b[0;32m     13\u001b[0m \u001b[43m                                    \u001b[49m\u001b[43mK\u001b[49m\u001b[43m(\u001b[49m\u001b[43mE\u001b[49m\u001b[43m,\u001b[49m\u001b[43momega\u001b[49m\u001b[43m)\u001b[49m\u001b[38;5;241;43m*\u001b[39;49m\u001b[43mI\u001b[49m\u001b[43m(\u001b[49m\u001b[43mE\u001b[49m\u001b[38;5;241;43m-\u001b[39;49m\u001b[43mhbar\u001b[49m\u001b[38;5;241;43m*\u001b[39;49m\u001b[43momega\u001b[49m\u001b[43m)\u001b[49m\u001b[43m,\u001b[49m\u001b[43m \u001b[49m\u001b[43momega_min\u001b[49m\u001b[43m,\u001b[49m\u001b[43m \u001b[49m\u001b[43momega_max\u001b[49m\u001b[43m,\u001b[49m\u001b[43m \u001b[49m\u001b[43mpoints\u001b[49m\u001b[38;5;241;43m=\u001b[39;49m\u001b[43m[\u001b[49m\u001b[38;5;241;43m0\u001b[39;49m\u001b[43m]\u001b[49m\u001b[43m)\u001b[49m[\u001b[38;5;241m0\u001b[39m]\n\u001b[0;32m     14\u001b[0m \u001b[38;5;28;01melse\u001b[39;00m:\n\u001b[0;32m     15\u001b[0m     \u001b[38;5;66;03m# this is the ith iteration of P(E), which references the (i-1)th iteration\u001b[39;00m\n\u001b[0;32m     16\u001b[0m     \u001b[38;5;28;01mreturn\u001b[39;00m \u001b[38;5;28;01mlambda\u001b[39;00m E: I(E) \u001b[38;5;241m+\u001b[39m integrate\u001b[38;5;241m.\u001b[39mquad(\u001b[38;5;28;01mlambda\u001b[39;00m omega:\n\u001b[0;32m     17\u001b[0m                                     K(E,omega)\u001b[38;5;241m*\u001b[39mrecursive_PE_integral(i\u001b[38;5;241m-\u001b[39m\u001b[38;5;241m1\u001b[39m, omega_min, omega_max)(E \u001b[38;5;241m-\u001b[39m hbar\u001b[38;5;241m*\u001b[39momega), \n\u001b[0;32m     18\u001b[0m                                     omega_min, omega_max, points\u001b[38;5;241m=\u001b[39m[\u001b[38;5;241m0\u001b[39m])[\u001b[38;5;241m0\u001b[39m]\n",
      "File \u001b[1;32m~\\.virtualenvs\\rubidium-6bgZCrz4\\lib\\site-packages\\scipy\\integrate\\_quadpack_py.py:411\u001b[0m, in \u001b[0;36mquad\u001b[1;34m(func, a, b, args, full_output, epsabs, epsrel, limit, points, weight, wvar, wopts, maxp1, limlst)\u001b[0m\n\u001b[0;32m    408\u001b[0m flip, a, b \u001b[38;5;241m=\u001b[39m b \u001b[38;5;241m<\u001b[39m a, \u001b[38;5;28mmin\u001b[39m(a, b), \u001b[38;5;28mmax\u001b[39m(a, b)\n\u001b[0;32m    410\u001b[0m \u001b[38;5;28;01mif\u001b[39;00m weight \u001b[38;5;129;01mis\u001b[39;00m \u001b[38;5;28;01mNone\u001b[39;00m:\n\u001b[1;32m--> 411\u001b[0m     retval \u001b[38;5;241m=\u001b[39m \u001b[43m_quad\u001b[49m\u001b[43m(\u001b[49m\u001b[43mfunc\u001b[49m\u001b[43m,\u001b[49m\u001b[43m \u001b[49m\u001b[43ma\u001b[49m\u001b[43m,\u001b[49m\u001b[43m \u001b[49m\u001b[43mb\u001b[49m\u001b[43m,\u001b[49m\u001b[43m \u001b[49m\u001b[43margs\u001b[49m\u001b[43m,\u001b[49m\u001b[43m \u001b[49m\u001b[43mfull_output\u001b[49m\u001b[43m,\u001b[49m\u001b[43m \u001b[49m\u001b[43mepsabs\u001b[49m\u001b[43m,\u001b[49m\u001b[43m \u001b[49m\u001b[43mepsrel\u001b[49m\u001b[43m,\u001b[49m\u001b[43m \u001b[49m\u001b[43mlimit\u001b[49m\u001b[43m,\u001b[49m\n\u001b[0;32m    412\u001b[0m \u001b[43m                   \u001b[49m\u001b[43mpoints\u001b[49m\u001b[43m)\u001b[49m\n\u001b[0;32m    413\u001b[0m \u001b[38;5;28;01melse\u001b[39;00m:\n\u001b[0;32m    414\u001b[0m     \u001b[38;5;28;01mif\u001b[39;00m points \u001b[38;5;129;01mis\u001b[39;00m \u001b[38;5;129;01mnot\u001b[39;00m \u001b[38;5;28;01mNone\u001b[39;00m:\n",
      "File \u001b[1;32m~\\.virtualenvs\\rubidium-6bgZCrz4\\lib\\site-packages\\scipy\\integrate\\_quadpack_py.py:535\u001b[0m, in \u001b[0;36m_quad\u001b[1;34m(func, a, b, args, full_output, epsabs, epsrel, limit, points)\u001b[0m\n\u001b[0;32m    533\u001b[0m the_points \u001b[38;5;241m=\u001b[39m the_points[the_points \u001b[38;5;241m<\u001b[39m b]\n\u001b[0;32m    534\u001b[0m the_points \u001b[38;5;241m=\u001b[39m numpy\u001b[38;5;241m.\u001b[39mconcatenate((the_points, (\u001b[38;5;241m0.\u001b[39m, \u001b[38;5;241m0.\u001b[39m)))\n\u001b[1;32m--> 535\u001b[0m \u001b[38;5;28;01mreturn\u001b[39;00m \u001b[43m_quadpack\u001b[49m\u001b[38;5;241;43m.\u001b[39;49m\u001b[43m_qagpe\u001b[49m\u001b[43m(\u001b[49m\u001b[43mfunc\u001b[49m\u001b[43m,\u001b[49m\u001b[43ma\u001b[49m\u001b[43m,\u001b[49m\u001b[43mb\u001b[49m\u001b[43m,\u001b[49m\u001b[43mthe_points\u001b[49m\u001b[43m,\u001b[49m\u001b[43margs\u001b[49m\u001b[43m,\u001b[49m\u001b[43mfull_output\u001b[49m\u001b[43m,\u001b[49m\u001b[43mepsabs\u001b[49m\u001b[43m,\u001b[49m\u001b[43mepsrel\u001b[49m\u001b[43m,\u001b[49m\u001b[43mlimit\u001b[49m\u001b[43m)\u001b[49m\n",
      "Cell \u001b[1;32mIn[12], line 13\u001b[0m, in \u001b[0;36mrecursive_PE_integral.<locals>.<lambda>\u001b[1;34m(omega)\u001b[0m\n\u001b[0;32m      5\u001b[0m \u001b[38;5;124;03m\"\"\"\u001b[39;00m\n\u001b[0;32m      6\u001b[0m \u001b[38;5;124;03mi: number of iterations\u001b[39;00m\n\u001b[0;32m      7\u001b[0m \u001b[38;5;124;03mreturn:\u001b[39;00m\n\u001b[0;32m      8\u001b[0m \u001b[38;5;124;03m    a lambda function for P which can be evaluated at E\u001b[39;00m\n\u001b[0;32m      9\u001b[0m \u001b[38;5;124;03m\"\"\"\u001b[39;00m\n\u001b[0;32m     10\u001b[0m \u001b[38;5;28;01mif\u001b[39;00m i \u001b[38;5;241m==\u001b[39m \u001b[38;5;241m0\u001b[39m:\n\u001b[0;32m     11\u001b[0m     \u001b[38;5;66;03m# this is P(E) with the trial function I(E) for P(E-h*omega) in integrand\u001b[39;00m\n\u001b[0;32m     12\u001b[0m     \u001b[38;5;28;01mreturn\u001b[39;00m \u001b[38;5;28;01mlambda\u001b[39;00m E: I(E) \u001b[38;5;241m+\u001b[39m integrate\u001b[38;5;241m.\u001b[39mquad(\u001b[38;5;28;01mlambda\u001b[39;00m omega: \n\u001b[1;32m---> 13\u001b[0m                                     \u001b[43mK\u001b[49m\u001b[43m(\u001b[49m\u001b[43mE\u001b[49m\u001b[43m,\u001b[49m\u001b[43momega\u001b[49m\u001b[43m)\u001b[49m\u001b[38;5;241m*\u001b[39mI(E\u001b[38;5;241m-\u001b[39mhbar\u001b[38;5;241m*\u001b[39momega), omega_min, omega_max, points\u001b[38;5;241m=\u001b[39m[\u001b[38;5;241m0\u001b[39m])[\u001b[38;5;241m0\u001b[39m]\n\u001b[0;32m     14\u001b[0m \u001b[38;5;28;01melse\u001b[39;00m:\n\u001b[0;32m     15\u001b[0m     \u001b[38;5;66;03m# this is the ith iteration of P(E), which references the (i-1)th iteration\u001b[39;00m\n\u001b[0;32m     16\u001b[0m     \u001b[38;5;28;01mreturn\u001b[39;00m \u001b[38;5;28;01mlambda\u001b[39;00m E: I(E) \u001b[38;5;241m+\u001b[39m integrate\u001b[38;5;241m.\u001b[39mquad(\u001b[38;5;28;01mlambda\u001b[39;00m omega:\n\u001b[0;32m     17\u001b[0m                                     K(E,omega)\u001b[38;5;241m*\u001b[39mrecursive_PE_integral(i\u001b[38;5;241m-\u001b[39m\u001b[38;5;241m1\u001b[39m, omega_min, omega_max)(E \u001b[38;5;241m-\u001b[39m hbar\u001b[38;5;241m*\u001b[39momega), \n\u001b[0;32m     18\u001b[0m                                     omega_min, omega_max, points\u001b[38;5;241m=\u001b[39m[\u001b[38;5;241m0\u001b[39m])[\u001b[38;5;241m0\u001b[39m]\n",
      "Cell \u001b[1;32mIn[11], line 34\u001b[0m, in \u001b[0;36mK\u001b[1;34m(E, omega)\u001b[0m\n\u001b[0;32m     33\u001b[0m \u001b[38;5;28;01mdef\u001b[39;00m \u001b[38;5;21mK\u001b[39m(E, omega):\n\u001b[1;32m---> 34\u001b[0m     \u001b[38;5;28;01mreturn\u001b[39;00m (hbar\u001b[38;5;241m*\u001b[39mE\u001b[38;5;241m/\u001b[39m(D\u001b[38;5;241m*\u001b[39m\u001b[38;5;241m*\u001b[39m\u001b[38;5;241m2\u001b[39m\u001b[38;5;241m+\u001b[39mE\u001b[38;5;241m*\u001b[39m\u001b[38;5;241m*\u001b[39m\u001b[38;5;241m2\u001b[39m))\u001b[38;5;241m*\u001b[39mkk(omega)\u001b[38;5;241m+\u001b[39m(hbar\u001b[38;5;241m*\u001b[39mD\u001b[38;5;241m/\u001b[39m(D\u001b[38;5;241m*\u001b[39m\u001b[38;5;241m*\u001b[39m\u001b[38;5;241m2\u001b[39m\u001b[38;5;241m+\u001b[39mE\u001b[38;5;241m*\u001b[39m\u001b[38;5;241m*\u001b[39m\u001b[38;5;241m2\u001b[39m))\u001b[38;5;241m*\u001b[39m\u001b[43mkappa\u001b[49m\u001b[43m(\u001b[49m\u001b[43momega\u001b[49m\u001b[43m)\u001b[49m\n",
      "Cell \u001b[1;32mIn[11], line 29\u001b[0m, in \u001b[0;36mkappa\u001b[1;34m(omega)\u001b[0m\n\u001b[0;32m     27\u001b[0m summand_list \u001b[38;5;241m=\u001b[39m []\n\u001b[0;32m     28\u001b[0m \u001b[38;5;28;01mfor\u001b[39;00m n \u001b[38;5;129;01min\u001b[39;00m \u001b[38;5;28mrange\u001b[39m(\u001b[38;5;241m1000\u001b[39m):\n\u001b[1;32m---> 29\u001b[0m     summand \u001b[38;5;241m=\u001b[39m ((\u001b[38;5;241m2\u001b[39m\u001b[38;5;241m*\u001b[39mn\u001b[38;5;241m*\u001b[39mpi\u001b[38;5;241m/\u001b[39m(beta\u001b[38;5;241m*\u001b[39mhbar))\u001b[38;5;241m/\u001b[39m((\u001b[38;5;241m2\u001b[39m\u001b[38;5;241m*\u001b[39mn\u001b[38;5;241m*\u001b[39mpi\u001b[38;5;241m/\u001b[39m(beta\u001b[38;5;241m*\u001b[39mhbar))\u001b[38;5;241m*\u001b[39m\u001b[38;5;241m*\u001b[39m\u001b[38;5;241m2\u001b[39m\u001b[38;5;241m+\u001b[39momega\u001b[38;5;241m*\u001b[39m\u001b[38;5;241m*\u001b[39m\u001b[38;5;241m2\u001b[39m)) \u001b[38;5;241m*\u001b[39m (\u001b[43mZ_TT\u001b[49m\u001b[43m(\u001b[49m\u001b[38;5;241;43m-\u001b[39;49m\u001b[38;5;241;43m1\u001b[39;49m\u001b[43mj\u001b[49m\u001b[38;5;241;43m*\u001b[39;49m\u001b[43m(\u001b[49m\u001b[38;5;241;43m2\u001b[39;49m\u001b[38;5;241;43m*\u001b[39;49m\u001b[43mn\u001b[49m\u001b[38;5;241;43m*\u001b[39;49m\u001b[43mpi\u001b[49m\u001b[38;5;241;43m/\u001b[39;49m\u001b[43m(\u001b[49m\u001b[43mbeta\u001b[49m\u001b[38;5;241;43m*\u001b[39;49m\u001b[43mhbar\u001b[49m\u001b[43m)\u001b[49m\u001b[43m)\u001b[49m\u001b[43m)\u001b[49m)\u001b[38;5;241m/\u001b[39mR_Q\n\u001b[0;32m     30\u001b[0m     summand_list\u001b[38;5;241m.\u001b[39mappend(summand)\n\u001b[0;32m     31\u001b[0m summ \u001b[38;5;241m=\u001b[39m np\u001b[38;5;241m.\u001b[39msum(summand_list)\n",
      "Cell \u001b[1;32mIn[11], line 11\u001b[0m, in \u001b[0;36mZ_TT\u001b[1;34m(omega)\u001b[0m\n\u001b[0;32m     10\u001b[0m \u001b[38;5;28;01mdef\u001b[39;00m \u001b[38;5;21mZ_TT\u001b[39m(omega):\n\u001b[1;32m---> 11\u001b[0m     \u001b[38;5;28;01mreturn\u001b[39;00m \u001b[38;5;241m1\u001b[39m\u001b[38;5;241m/\u001b[39m(\u001b[38;5;241m1\u001b[39mj\u001b[38;5;241m*\u001b[39momega\u001b[38;5;241m*\u001b[39mC\u001b[38;5;241m+\u001b[39m(\u001b[43mZ_T\u001b[49m\u001b[43m(\u001b[49m\u001b[43momega\u001b[49m\u001b[43m)\u001b[49m)\u001b[38;5;241m*\u001b[39m\u001b[38;5;241m*\u001b[39m(\u001b[38;5;241m-\u001b[39m\u001b[38;5;241m1\u001b[39m))\n",
      "Cell \u001b[1;32mIn[11], line 7\u001b[0m, in \u001b[0;36mZ_T\u001b[1;34m(omega)\u001b[0m\n\u001b[0;32m      6\u001b[0m \u001b[38;5;28;01mdef\u001b[39;00m \u001b[38;5;21mZ_T\u001b[39m(omega):\n\u001b[1;32m----> 7\u001b[0m     \u001b[38;5;28;01mreturn\u001b[39;00m R_Q\u001b[38;5;241m*\u001b[39malpha\u001b[38;5;241m*\u001b[39m(\u001b[38;5;241m1\u001b[39m \u001b[38;5;241m+\u001b[39m \u001b[38;5;241m1\u001b[39mj\u001b[38;5;241m*\u001b[39mQ\u001b[38;5;241m*\u001b[39m\u001b[38;5;241m*\u001b[39m\u001b[38;5;241m2\u001b[39m\u001b[38;5;241m*\u001b[39momega\u001b[38;5;241m/\u001b[39momega_c)\u001b[38;5;241m/\u001b[39m(\u001b[38;5;241m1\u001b[39m\u001b[38;5;241m+\u001b[39m\u001b[38;5;241m1\u001b[39mj\u001b[38;5;241m*\u001b[39m(omega\u001b[38;5;241m/\u001b[39momega_c)\u001b[38;5;241m-\u001b[39mQ\u001b[38;5;241m*\u001b[39m\u001b[38;5;241m*\u001b[39m\u001b[38;5;241m2\u001b[39m\u001b[38;5;241m*\u001b[39m(omega\u001b[38;5;241m/\u001b[39m\u001b[43momega_c\u001b[49m)\u001b[38;5;241m*\u001b[39m\u001b[38;5;241m*\u001b[39m\u001b[38;5;241m2\u001b[39m)\n",
      "\u001b[1;31mKeyboardInterrupt\u001b[0m: "
     ]
    }
   ],
   "source": [
    "%%time\n",
    "recursive_PE_integral(2, -5e12, 5e12)(0)"
   ]
  },
  {
   "cell_type": "code",
   "execution_count": 61,
   "metadata": {},
   "outputs": [
    {
     "data": {
      "text/plain": [
       "(5.272859088230782e-22, 2.5669699665355694e-24)"
      ]
     },
     "execution_count": 61,
     "metadata": {},
     "output_type": "execute_result"
    }
   ],
   "source": [
    "hbar*5e12, Ec # these are close, so we should change the integration variable to be in hbar*omega/Ec."
   ]
  },
  {
   "cell_type": "code",
   "execution_count": 72,
   "metadata": {
    "scrolled": true
   },
   "outputs": [
    {
     "data": {
      "text/plain": [
       "(1.3252140300000001e-22, 2.5669699665355694e-24)"
      ]
     },
     "execution_count": 72,
     "metadata": {},
     "output_type": "execute_result"
    }
   ],
   "source": [
    "hbar*omega_s, Ec"
   ]
  },
  {
   "cell_type": "code",
   "execution_count": 91,
   "metadata": {},
   "outputs": [
    {
     "data": {
      "text/plain": [
       "3.978873577297384"
      ]
     },
     "execution_count": 91,
     "metadata": {},
     "output_type": "execute_result"
    }
   ],
   "source": [
    "omega_max = 5e12\n",
    "omega_max/omega_s"
   ]
  },
  {
   "cell_type": "code",
   "execution_count": 70,
   "metadata": {},
   "outputs": [
    {
     "data": {
      "text/plain": [
       "205.41179511138304"
      ]
     },
     "execution_count": 70,
     "metadata": {},
     "output_type": "execute_result"
    }
   ],
   "source": [
    "Omega_max = omega_max*/omega # put omega in units Ec/hbar to make it a reasonable size\n",
    "Omega_max"
   ]
  },
  {
   "cell_type": "markdown",
   "metadata": {},
   "source": [
    "## explicity discrete sum instead of integration "
   ]
  },
  {
   "cell_type": "code",
   "execution_count": 31,
   "metadata": {},
   "outputs": [],
   "source": [
    "omega_pts = np.linspace(-5e12, 5e12, 100) # should be ~ 4000\n",
    "d_omega = omega_pts[1]-omega_pts[0]\n",
    "\n",
    "# this kills the kernel\n",
    "# iters = 2\n",
    "# P = lambda E: I(E)\n",
    "# for i in range(iters):\n",
    "#     P = lambda E: I(E) + sum([K(E, omega)*P(E-hbar*omega) for omega in omega_pts])\n",
    "\n",
    "def recursive_P_sum(i):\n",
    "    \"\"\"returns the function P(E)\"\"\"\n",
    "    if i == 0:\n",
    "        return lambda E: I(E)\n",
    "    else:\n",
    "        return lambda E: I(E) + sum([K(E, omega)*recursive_P_sum(i-1)(E-hbar*omega) for omega in omega_pts])*d_omega"
   ]
  },
  {
   "cell_type": "code",
   "execution_count": 33,
   "metadata": {},
   "outputs": [
    {
     "name": "stdout",
     "output_type": "stream",
     "text": [
      "CPU times: total: 37 s\n",
      "Wall time: 37.1 s\n"
     ]
    },
    {
     "data": {
      "text/plain": [
       "-5.797178289162406e+24"
      ]
     },
     "execution_count": 33,
     "metadata": {},
     "output_type": "execute_result"
    }
   ],
   "source": [
    "%%time\n",
    "recursive_P_sum(2)(0)"
   ]
  },
  {
   "cell_type": "code",
   "execution_count": null,
   "metadata": {},
   "outputs": [],
   "source": [
    "%%time\n",
    "Elist = np.array([0,1,2])*hbar*omega_s\n",
    "Plist = [recursive_P_sum(10)(E) for E in Elist]\n",
    "plt.scatter(Elist, Plist)"
   ]
  },
  {
   "cell_type": "markdown",
   "metadata": {},
   "source": [
    "## matrix method"
   ]
  },
  {
   "cell_type": "code",
   "execution_count": 69,
   "metadata": {},
   "outputs": [],
   "source": [
    "K = lambda E, omega: ((hbar*E/(D**2+E**2))*kk(omega)+(hbar*D/(D**2+E**2))\n",
    "                                         *kappa(omega))\n",
    "\n",
    "omega_min = -5e12\n",
    "omega_max = -omega_min\n",
    "num_omega_pts = 1001\n",
    "d_omega = (omega_max - omega_min)/num_omega_pts\n",
    "omega_pts = np.arange(omega_min,omega_max,d_omega)\n",
    "\n",
    "iters = 2 # recursion steps\n",
    "\n",
    "Emin = -3*hbar*omega_s # the bounds for the domain of the final P(E) we want to compute\n",
    "Emax = -Emin\n",
    "# E to cover the range we need for shifting\n",
    "# E_pts = np.arange(Emin - iters*hbar*omega_max + hbar*d_omega, Emax - iters*hbar*omega_min - hbar*d_omega, hbar*d_omega)\n",
    "E_pts = np.linspace(Emin, Emax, num_omega_pts)\n",
    "\n",
    "# E_pts = Emin - iters*hbar*omega_max, Emax - iters*hbar*omega_min, hbar*d_omega)\n",
    "\n",
    "num_E_pts = len(E_pts)\n",
    "\n",
    "# Kmat = np.array([[K(E,omega) for omega in omega_pts] for E in E_pts])\n",
    "\n",
    "# assert num_E_pts % num_omega_pts == 0"
   ]
  },
  {
   "cell_type": "code",
   "execution_count": 62,
   "metadata": {},
   "outputs": [
    {
     "data": {
      "text/plain": [
       "(9.717233401667145e-18, -6.584416955258564e-16)"
      ]
     },
     "execution_count": 62,
     "metadata": {},
     "output_type": "execute_result"
    }
   ],
   "source": [
    "Kmat[0,1], K(E_pts[0],omega_pts[1])"
   ]
  },
  {
   "cell_type": "code",
   "execution_count": 71,
   "metadata": {},
   "outputs": [
    {
     "name": "stdout",
     "output_type": "stream",
     "text": [
      "iteration 1\n"
     ]
    },
    {
     "ename": "KeyboardInterrupt",
     "evalue": "",
     "output_type": "error",
     "traceback": [
      "\u001b[1;31m---------------------------------------------------------------------------\u001b[0m",
      "\u001b[1;31mKeyboardInterrupt\u001b[0m                         Traceback (most recent call last)",
      "File \u001b[1;32m<timed exec>:6\u001b[0m\n",
      "File \u001b[1;32m<timed exec>:6\u001b[0m, in \u001b[0;36m<listcomp>\u001b[1;34m(.0)\u001b[0m\n",
      "File \u001b[1;32m<timed exec>:6\u001b[0m, in \u001b[0;36m<listcomp>\u001b[1;34m(.0)\u001b[0m\n",
      "Cell \u001b[1;32mIn[69], line 2\u001b[0m, in \u001b[0;36m<lambda>\u001b[1;34m(E, omega)\u001b[0m\n\u001b[0;32m      1\u001b[0m K \u001b[38;5;241m=\u001b[39m \u001b[38;5;28;01mlambda\u001b[39;00m E, omega: ((hbar\u001b[38;5;241m*\u001b[39mE\u001b[38;5;241m/\u001b[39m(D\u001b[38;5;241m*\u001b[39m\u001b[38;5;241m*\u001b[39m\u001b[38;5;241m2\u001b[39m\u001b[38;5;241m+\u001b[39mE\u001b[38;5;241m*\u001b[39m\u001b[38;5;241m*\u001b[39m\u001b[38;5;241m2\u001b[39m))\u001b[38;5;241m*\u001b[39mkk(omega)\u001b[38;5;241m+\u001b[39m(hbar\u001b[38;5;241m*\u001b[39mD\u001b[38;5;241m/\u001b[39m(D\u001b[38;5;241m*\u001b[39m\u001b[38;5;241m*\u001b[39m\u001b[38;5;241m2\u001b[39m\u001b[38;5;241m+\u001b[39mE\u001b[38;5;241m*\u001b[39m\u001b[38;5;241m*\u001b[39m\u001b[38;5;241m2\u001b[39m))\n\u001b[1;32m----> 2\u001b[0m                                          \u001b[38;5;241m*\u001b[39m\u001b[43mkappa\u001b[49m\u001b[43m(\u001b[49m\u001b[43momega\u001b[49m\u001b[43m)\u001b[49m)\n\u001b[0;32m      4\u001b[0m omega_min \u001b[38;5;241m=\u001b[39m \u001b[38;5;241m-\u001b[39m\u001b[38;5;241m5e12\u001b[39m\n\u001b[0;32m      5\u001b[0m omega_max \u001b[38;5;241m=\u001b[39m \u001b[38;5;241m-\u001b[39momega_min\n",
      "Cell \u001b[1;32mIn[3], line 29\u001b[0m, in \u001b[0;36mkappa\u001b[1;34m(omega)\u001b[0m\n\u001b[0;32m     27\u001b[0m summand_list \u001b[38;5;241m=\u001b[39m []\n\u001b[0;32m     28\u001b[0m \u001b[38;5;28;01mfor\u001b[39;00m n \u001b[38;5;129;01min\u001b[39;00m \u001b[38;5;28mrange\u001b[39m(\u001b[38;5;241m1000\u001b[39m):\n\u001b[1;32m---> 29\u001b[0m     summand \u001b[38;5;241m=\u001b[39m ((\u001b[38;5;241m2\u001b[39m\u001b[38;5;241m*\u001b[39mn\u001b[38;5;241m*\u001b[39mpi\u001b[38;5;241m/\u001b[39m(beta\u001b[38;5;241m*\u001b[39mhbar))\u001b[38;5;241m/\u001b[39m((\u001b[38;5;241m2\u001b[39m\u001b[38;5;241m*\u001b[39mn\u001b[38;5;241m*\u001b[39mpi\u001b[38;5;241m/\u001b[39m(beta\u001b[38;5;241m*\u001b[39mhbar))\u001b[38;5;241m*\u001b[39m\u001b[38;5;241m*\u001b[39m\u001b[38;5;241m2\u001b[39m\u001b[38;5;241m+\u001b[39momega\u001b[38;5;241m*\u001b[39m\u001b[38;5;241m*\u001b[39m\u001b[38;5;241m2\u001b[39m)) \u001b[38;5;241m*\u001b[39m (\u001b[43mZ_TT\u001b[49m\u001b[43m(\u001b[49m\u001b[38;5;241;43m-\u001b[39;49m\u001b[38;5;241;43m1\u001b[39;49m\u001b[43mj\u001b[49m\u001b[38;5;241;43m*\u001b[39;49m\u001b[43m(\u001b[49m\u001b[38;5;241;43m2\u001b[39;49m\u001b[38;5;241;43m*\u001b[39;49m\u001b[43mn\u001b[49m\u001b[38;5;241;43m*\u001b[39;49m\u001b[43mpi\u001b[49m\u001b[38;5;241;43m/\u001b[39;49m\u001b[43m(\u001b[49m\u001b[43mbeta\u001b[49m\u001b[38;5;241;43m*\u001b[39;49m\u001b[43mhbar\u001b[49m\u001b[43m)\u001b[49m\u001b[43m)\u001b[49m\u001b[43m)\u001b[49m)\u001b[38;5;241m/\u001b[39mR_Q\n\u001b[0;32m     30\u001b[0m     summand_list\u001b[38;5;241m.\u001b[39mappend(summand)\n\u001b[0;32m     31\u001b[0m summ \u001b[38;5;241m=\u001b[39m np\u001b[38;5;241m.\u001b[39msum(summand_list)\n",
      "Cell \u001b[1;32mIn[3], line 11\u001b[0m, in \u001b[0;36mZ_TT\u001b[1;34m(omega)\u001b[0m\n\u001b[0;32m     10\u001b[0m \u001b[38;5;28;01mdef\u001b[39;00m \u001b[38;5;21mZ_TT\u001b[39m(omega):\n\u001b[1;32m---> 11\u001b[0m     \u001b[38;5;28;01mreturn\u001b[39;00m \u001b[38;5;241m1\u001b[39m\u001b[38;5;241m/\u001b[39m(\u001b[38;5;241m1\u001b[39mj\u001b[38;5;241m*\u001b[39momega\u001b[38;5;241m*\u001b[39mC\u001b[38;5;241m+\u001b[39m(\u001b[43mZ_T\u001b[49m\u001b[43m(\u001b[49m\u001b[43momega\u001b[49m\u001b[43m)\u001b[49m)\u001b[38;5;241m*\u001b[39m\u001b[38;5;241m*\u001b[39m(\u001b[38;5;241m-\u001b[39m\u001b[38;5;241m1\u001b[39m))\n",
      "Cell \u001b[1;32mIn[3], line 7\u001b[0m, in \u001b[0;36mZ_T\u001b[1;34m(omega)\u001b[0m\n\u001b[0;32m      6\u001b[0m \u001b[38;5;28;01mdef\u001b[39;00m \u001b[38;5;21mZ_T\u001b[39m(omega):\n\u001b[1;32m----> 7\u001b[0m     \u001b[38;5;28;01mreturn\u001b[39;00m R_Q\u001b[38;5;241m*\u001b[39malpha\u001b[38;5;241m*\u001b[39m(\u001b[38;5;241m1\u001b[39m \u001b[38;5;241m+\u001b[39m \u001b[38;5;241;43m1\u001b[39;49m\u001b[43mj\u001b[49m\u001b[38;5;241;43m*\u001b[39;49m\u001b[43mQ\u001b[49m\u001b[38;5;241;43m*\u001b[39;49m\u001b[38;5;241;43m*\u001b[39;49m\u001b[38;5;241;43m2\u001b[39;49m\u001b[38;5;241m*\u001b[39momega\u001b[38;5;241m/\u001b[39momega_c)\u001b[38;5;241m/\u001b[39m(\u001b[38;5;241m1\u001b[39m\u001b[38;5;241m+\u001b[39m\u001b[38;5;241m1\u001b[39mj\u001b[38;5;241m*\u001b[39m(omega\u001b[38;5;241m/\u001b[39momega_c)\u001b[38;5;241m-\u001b[39mQ\u001b[38;5;241m*\u001b[39m\u001b[38;5;241m*\u001b[39m\u001b[38;5;241m2\u001b[39m\u001b[38;5;241m*\u001b[39m(omega\u001b[38;5;241m/\u001b[39momega_c)\u001b[38;5;241m*\u001b[39m\u001b[38;5;241m*\u001b[39m\u001b[38;5;241m2\u001b[39m)\n",
      "\u001b[1;31mKeyboardInterrupt\u001b[0m: "
     ]
    }
   ],
   "source": [
    "%%time\n",
    "for i in range(1,iters+1):\n",
    "    print(f\"iteration {i}\")\n",
    "    Pnext = np.zeros(num_E_pts)\n",
    "    \n",
    "    # K matrix evaluated at E - (iters-1)*hbar*omega\n",
    "    Kmat = np.array([[K(E - (iters-i)*hbar*omega,omega) for omega in omega_pts] for E in E_pts])\n",
    "    \n",
    "    # compute the array Pnext, which is P(E_pts - (iters-i)*hbar*omega)\n",
    "    for j in range(num_E_pts):\n",
    "        \n",
    "        if i == 1:\n",
    "            Pnext[j] = I(E_pts[j] - (iters-i)*hbar*omega_min) + np.nansum(\n",
    "                Kmat[j,:]*I(E_pts[j] - iters*hbar*omega_pts))*d_omega\n",
    "        else:\n",
    "            Pnext[j] = I(E_pts[j] - (iters-i)*hbar*omega_min) + np.nansum(Kmat[j,:]*P_shifted)*d_omega\n",
    "    P_shifted = Pnext"
   ]
  },
  {
   "cell_type": "code",
   "execution_count": 68,
   "metadata": {},
   "outputs": [
    {
     "data": {
      "text/plain": [
       "[<matplotlib.lines.Line2D at 0x231b73bcf70>]"
      ]
     },
     "execution_count": 68,
     "metadata": {},
     "output_type": "execute_result"
    },
    {
     "data": {
      "image/png": "[encoded data removed]",
      "text/plain": [
       "<Figure size 640x480 with 1 Axes>"
      ]
     },
     "metadata": {},
     "output_type": "display_data"
    }
   ],
   "source": [
    "plt.plot(E_pts/(hbar*omega_s),Pnext)"
   ]
  },
  {
   "cell_type": "code",
   "execution_count": 72,
   "metadata": {},
   "outputs": [
    {
     "data": {
      "text/plain": [
       "array([[2, 2],\n",
       "       [2, 2]])"
      ]
     },
     "execution_count": 72,
     "metadata": {},
     "output_type": "execute_result"
    }
   ],
   "source": [
    "a = np.array([[1,1],[1,1]])\n",
    "b = np.array([[2,2],[2,2]])\n",
    "a*b"
   ]
  },
  {
   "cell_type": "code",
   "execution_count": 73,
   "metadata": {},
   "outputs": [
    {
     "data": {
      "text/plain": [
       "matrix([[4, 4],\n",
       "        [4, 4]])"
      ]
     },
     "execution_count": 73,
     "metadata": {},
     "output_type": "execute_result"
    }
   ],
   "source": [
    "a = np.mat([[1,1],[1,1]])\n",
    "b = np.mat([[2,2],[2,2]])\n",
    "a*b"
   ]
  },
  {
   "cell_type": "code",
   "execution_count": 75,
   "metadata": {},
   "outputs": [
    {
     "data": {
      "text/plain": [
       "(1, 2)"
      ]
     },
     "execution_count": 75,
     "metadata": {},
     "output_type": "execute_result"
    }
   ],
   "source": [
    "np.matrix([1,1]).shape"
   ]
  },
  {
   "cell_type": "code",
   "execution_count": 85,
   "metadata": {},
   "outputs": [
    {
     "data": {
      "text/plain": [
       "(array([1, 1]), array([1, 1]))"
      ]
     },
     "execution_count": 85,
     "metadata": {},
     "output_type": "execute_result"
    }
   ],
   "source": [
    "np.array([1,1]).T, np.array([1,1])"
   ]
  },
  {
   "cell_type": "code",
   "execution_count": 84,
   "metadata": {},
   "outputs": [
    {
     "data": {
      "text/plain": [
       "(matrix([[1],\n",
       "         [1]]),\n",
       " matrix([[1, 1]]))"
      ]
     },
     "execution_count": 84,
     "metadata": {},
     "output_type": "execute_result"
    }
   ],
   "source": [
    "np.matrix([1,1]).T,np.matrix([1,1])"
   ]
  },
  {
   "cell_type": "code",
   "execution_count": 91,
   "metadata": {},
   "outputs": [
    {
     "data": {
      "text/plain": [
       "array([[1.+0.j, 0.+0.j],\n",
       "       [0.+0.j, 0.+0.j]])"
      ]
     },
     "execution_count": 91,
     "metadata": {},
     "output_type": "execute_result"
    }
   ],
   "source": [
    "one = np.array([1j,0])\n",
    "np.outer(one.conjugate(),one)"
   ]
  },
  {
   "cell_type": "markdown",
   "metadata": {},
   "source": [
    "## other misc. testing"
   ]
  },
  {
   "cell_type": "code",
   "execution_count": 156,
   "metadata": {},
   "outputs": [
    {
     "name": "stdout",
     "output_type": "stream",
     "text": [
      "<function <lambda> at 0x181f3d8268>\n"
     ]
    },
    {
     "ename": "TypeError",
     "evalue": "unsupported operand type(s) for *: 'float' and 'function'",
     "output_type": "error",
     "traceback": [
      "\u001b[0;31m---------------------------------------------------------------------------\u001b[0m",
      "\u001b[0;31mTypeError\u001b[0m                                 Traceback (most recent call last)",
      "\u001b[0;32m<ipython-input-156-135536b5406e>\u001b[0m in \u001b[0;36m<module>\u001b[0;34m\u001b[0m\n\u001b[1;32m     10\u001b[0m     \u001b[0;32mfor\u001b[0m \u001b[0mi\u001b[0m \u001b[0;32min\u001b[0m \u001b[0mrange\u001b[0m\u001b[0;34m(\u001b[0m\u001b[0miters\u001b[0m\u001b[0;34m)\u001b[0m\u001b[0;34m:\u001b[0m \u001b[0;31m# iteratively solve for P0\u001b[0m\u001b[0;34m\u001b[0m\u001b[0;34m\u001b[0m\u001b[0m\n\u001b[1;32m     11\u001b[0m         \u001b[0mKIx\u001b[0m \u001b[0;34m=\u001b[0m \u001b[0;32mlambda\u001b[0m \u001b[0momega\u001b[0m\u001b[0;34m,\u001b[0m \u001b[0mE\u001b[0m\u001b[0;34m:\u001b[0m \u001b[0;34m(\u001b[0m\u001b[0;34m(\u001b[0m\u001b[0mhbar\u001b[0m\u001b[0;34m*\u001b[0m\u001b[0mE\u001b[0m\u001b[0;34m/\u001b[0m\u001b[0;34m(\u001b[0m\u001b[0mD\u001b[0m\u001b[0;34m**\u001b[0m\u001b[0;36m2\u001b[0m\u001b[0;34m+\u001b[0m\u001b[0mE\u001b[0m\u001b[0;34m**\u001b[0m\u001b[0;36m2\u001b[0m\u001b[0;34m)\u001b[0m\u001b[0;34m)\u001b[0m\u001b[0;34m*\u001b[0m\u001b[0mkk\u001b[0m\u001b[0;34m(\u001b[0m\u001b[0momega\u001b[0m\u001b[0;34m)\u001b[0m\u001b[0;34m+\u001b[0m\u001b[0;34m(\u001b[0m\u001b[0mhbar\u001b[0m\u001b[0;34m*\u001b[0m\u001b[0mD\u001b[0m\u001b[0;34m/\u001b[0m\u001b[0;34m(\u001b[0m\u001b[0mD\u001b[0m\u001b[0;34m**\u001b[0m\u001b[0;36m2\u001b[0m\u001b[0;34m+\u001b[0m\u001b[0mE\u001b[0m\u001b[0;34m**\u001b[0m\u001b[0;36m2\u001b[0m\u001b[0;34m)\u001b[0m\u001b[0;34m)\u001b[0m\u001b[0;34m*\u001b[0m\u001b[0mkappa\u001b[0m\u001b[0;34m(\u001b[0m\u001b[0momega\u001b[0m\u001b[0;34m)\u001b[0m\u001b[0;34m)\u001b[0m\u001b[0;34m*\u001b[0m\u001b[0mP0\u001b[0m\u001b[0;34m\u001b[0m\u001b[0;34m\u001b[0m\u001b[0m\n\u001b[0;32m---> 12\u001b[0;31m         \u001b[0mP0\u001b[0m \u001b[0;34m=\u001b[0m \u001b[0mI\u001b[0m\u001b[0;34m(\u001b[0m\u001b[0mE\u001b[0m\u001b[0;34m)\u001b[0m\u001b[0;34m+\u001b[0m\u001b[0mintegrate\u001b[0m\u001b[0;34m.\u001b[0m\u001b[0mquad\u001b[0m\u001b[0;34m(\u001b[0m\u001b[0mKIx\u001b[0m\u001b[0;34m,\u001b[0m\u001b[0;34m-\u001b[0m\u001b[0;36m5e12\u001b[0m\u001b[0;34m,\u001b[0m\u001b[0;36m5e12\u001b[0m\u001b[0;34m,\u001b[0m\u001b[0margs\u001b[0m\u001b[0;34m=\u001b[0m\u001b[0;34m(\u001b[0m\u001b[0mE\u001b[0m\u001b[0;34m)\u001b[0m\u001b[0;34m,\u001b[0m\u001b[0mpoints\u001b[0m\u001b[0;34m=\u001b[0m\u001b[0;34m[\u001b[0m\u001b[0;36m0\u001b[0m\u001b[0;34m]\u001b[0m\u001b[0;34m)\u001b[0m\u001b[0;34m[\u001b[0m\u001b[0;36m0\u001b[0m\u001b[0;34m]\u001b[0m\u001b[0;34m\u001b[0m\u001b[0;34m\u001b[0m\u001b[0m\n\u001b[0m\u001b[1;32m     13\u001b[0m         \u001b[0mprint\u001b[0m\u001b[0;34m(\u001b[0m\u001b[0mP0\u001b[0m\u001b[0;34m)\u001b[0m\u001b[0;34m\u001b[0m\u001b[0;34m\u001b[0m\u001b[0m\n\u001b[1;32m     14\u001b[0m         \u001b[0mthis_list\u001b[0m\u001b[0;34m.\u001b[0m\u001b[0mappend\u001b[0m\u001b[0;34m(\u001b[0m\u001b[0mP0\u001b[0m\u001b[0;34m)\u001b[0m\u001b[0;34m\u001b[0m\u001b[0;34m\u001b[0m\u001b[0m\n",
      "\u001b[0;32m/anaconda3/lib/python3.7/site-packages/scipy/integrate/quadpack.py\u001b[0m in \u001b[0;36mquad\u001b[0;34m(func, a, b, args, full_output, epsabs, epsrel, limit, points, weight, wvar, wopts, maxp1, limlst)\u001b[0m\n\u001b[1;32m    339\u001b[0m     \u001b[0;32mif\u001b[0m \u001b[0mweight\u001b[0m \u001b[0;32mis\u001b[0m \u001b[0;32mNone\u001b[0m\u001b[0;34m:\u001b[0m\u001b[0;34m\u001b[0m\u001b[0;34m\u001b[0m\u001b[0m\n\u001b[1;32m    340\u001b[0m         retval = _quad(func, a, b, args, full_output, epsabs, epsrel, limit,\n\u001b[0;32m--> 341\u001b[0;31m                        points)\n\u001b[0m\u001b[1;32m    342\u001b[0m     \u001b[0;32melse\u001b[0m\u001b[0;34m:\u001b[0m\u001b[0;34m\u001b[0m\u001b[0;34m\u001b[0m\u001b[0m\n\u001b[1;32m    343\u001b[0m         retval = _quad_weight(func, a, b, args, full_output, epsabs, epsrel,\n",
      "\u001b[0;32m/anaconda3/lib/python3.7/site-packages/scipy/integrate/quadpack.py\u001b[0m in \u001b[0;36m_quad\u001b[0;34m(func, a, b, args, full_output, epsabs, epsrel, limit, points)\u001b[0m\n\u001b[1;32m    458\u001b[0m             \u001b[0mthe_points\u001b[0m \u001b[0;34m=\u001b[0m \u001b[0mthe_points\u001b[0m\u001b[0;34m[\u001b[0m\u001b[0mthe_points\u001b[0m \u001b[0;34m<\u001b[0m \u001b[0mb\u001b[0m\u001b[0;34m]\u001b[0m\u001b[0;34m\u001b[0m\u001b[0;34m\u001b[0m\u001b[0m\n\u001b[1;32m    459\u001b[0m             \u001b[0mthe_points\u001b[0m \u001b[0;34m=\u001b[0m \u001b[0mnumpy\u001b[0m\u001b[0;34m.\u001b[0m\u001b[0mconcatenate\u001b[0m\u001b[0;34m(\u001b[0m\u001b[0;34m(\u001b[0m\u001b[0mthe_points\u001b[0m\u001b[0;34m,\u001b[0m \u001b[0;34m(\u001b[0m\u001b[0;36m0.\u001b[0m\u001b[0;34m,\u001b[0m \u001b[0;36m0.\u001b[0m\u001b[0;34m)\u001b[0m\u001b[0;34m)\u001b[0m\u001b[0;34m)\u001b[0m\u001b[0;34m\u001b[0m\u001b[0;34m\u001b[0m\u001b[0m\n\u001b[0;32m--> 460\u001b[0;31m             \u001b[0;32mreturn\u001b[0m \u001b[0m_quadpack\u001b[0m\u001b[0;34m.\u001b[0m\u001b[0m_qagpe\u001b[0m\u001b[0;34m(\u001b[0m\u001b[0mfunc\u001b[0m\u001b[0;34m,\u001b[0m\u001b[0ma\u001b[0m\u001b[0;34m,\u001b[0m\u001b[0mb\u001b[0m\u001b[0;34m,\u001b[0m\u001b[0mthe_points\u001b[0m\u001b[0;34m,\u001b[0m\u001b[0margs\u001b[0m\u001b[0;34m,\u001b[0m\u001b[0mfull_output\u001b[0m\u001b[0;34m,\u001b[0m\u001b[0mepsabs\u001b[0m\u001b[0;34m,\u001b[0m\u001b[0mepsrel\u001b[0m\u001b[0;34m,\u001b[0m\u001b[0mlimit\u001b[0m\u001b[0;34m)\u001b[0m\u001b[0;34m\u001b[0m\u001b[0;34m\u001b[0m\u001b[0m\n\u001b[0m\u001b[1;32m    461\u001b[0m \u001b[0;34m\u001b[0m\u001b[0m\n\u001b[1;32m    462\u001b[0m \u001b[0;34m\u001b[0m\u001b[0m\n",
      "\u001b[0;32m<ipython-input-156-135536b5406e>\u001b[0m in \u001b[0;36m<lambda>\u001b[0;34m(omega, E)\u001b[0m\n\u001b[1;32m      9\u001b[0m     \u001b[0mprint\u001b[0m\u001b[0;34m(\u001b[0m\u001b[0mP0\u001b[0m\u001b[0;34m)\u001b[0m\u001b[0;34m\u001b[0m\u001b[0;34m\u001b[0m\u001b[0m\n\u001b[1;32m     10\u001b[0m     \u001b[0;32mfor\u001b[0m \u001b[0mi\u001b[0m \u001b[0;32min\u001b[0m \u001b[0mrange\u001b[0m\u001b[0;34m(\u001b[0m\u001b[0miters\u001b[0m\u001b[0;34m)\u001b[0m\u001b[0;34m:\u001b[0m \u001b[0;31m# iteratively solve for P0\u001b[0m\u001b[0;34m\u001b[0m\u001b[0;34m\u001b[0m\u001b[0m\n\u001b[0;32m---> 11\u001b[0;31m         \u001b[0mKIx\u001b[0m \u001b[0;34m=\u001b[0m \u001b[0;32mlambda\u001b[0m \u001b[0momega\u001b[0m\u001b[0;34m,\u001b[0m \u001b[0mE\u001b[0m\u001b[0;34m:\u001b[0m \u001b[0;34m(\u001b[0m\u001b[0;34m(\u001b[0m\u001b[0mhbar\u001b[0m\u001b[0;34m*\u001b[0m\u001b[0mE\u001b[0m\u001b[0;34m/\u001b[0m\u001b[0;34m(\u001b[0m\u001b[0mD\u001b[0m\u001b[0;34m**\u001b[0m\u001b[0;36m2\u001b[0m\u001b[0;34m+\u001b[0m\u001b[0mE\u001b[0m\u001b[0;34m**\u001b[0m\u001b[0;36m2\u001b[0m\u001b[0;34m)\u001b[0m\u001b[0;34m)\u001b[0m\u001b[0;34m*\u001b[0m\u001b[0mkk\u001b[0m\u001b[0;34m(\u001b[0m\u001b[0momega\u001b[0m\u001b[0;34m)\u001b[0m\u001b[0;34m+\u001b[0m\u001b[0;34m(\u001b[0m\u001b[0mhbar\u001b[0m\u001b[0;34m*\u001b[0m\u001b[0mD\u001b[0m\u001b[0;34m/\u001b[0m\u001b[0;34m(\u001b[0m\u001b[0mD\u001b[0m\u001b[0;34m**\u001b[0m\u001b[0;36m2\u001b[0m\u001b[0;34m+\u001b[0m\u001b[0mE\u001b[0m\u001b[0;34m**\u001b[0m\u001b[0;36m2\u001b[0m\u001b[0;34m)\u001b[0m\u001b[0;34m)\u001b[0m\u001b[0;34m*\u001b[0m\u001b[0mkappa\u001b[0m\u001b[0;34m(\u001b[0m\u001b[0momega\u001b[0m\u001b[0;34m)\u001b[0m\u001b[0;34m)\u001b[0m\u001b[0;34m*\u001b[0m\u001b[0mP0\u001b[0m\u001b[0;34m\u001b[0m\u001b[0;34m\u001b[0m\u001b[0m\n\u001b[0m\u001b[1;32m     12\u001b[0m         \u001b[0mP0\u001b[0m \u001b[0;34m=\u001b[0m \u001b[0mI\u001b[0m\u001b[0;34m(\u001b[0m\u001b[0mE\u001b[0m\u001b[0;34m)\u001b[0m\u001b[0;34m+\u001b[0m\u001b[0mintegrate\u001b[0m\u001b[0;34m.\u001b[0m\u001b[0mquad\u001b[0m\u001b[0;34m(\u001b[0m\u001b[0mKIx\u001b[0m\u001b[0;34m,\u001b[0m\u001b[0;34m-\u001b[0m\u001b[0;36m5e12\u001b[0m\u001b[0;34m,\u001b[0m\u001b[0;36m5e12\u001b[0m\u001b[0;34m,\u001b[0m\u001b[0margs\u001b[0m\u001b[0;34m=\u001b[0m\u001b[0;34m(\u001b[0m\u001b[0mE\u001b[0m\u001b[0;34m)\u001b[0m\u001b[0;34m,\u001b[0m\u001b[0mpoints\u001b[0m\u001b[0;34m=\u001b[0m\u001b[0;34m[\u001b[0m\u001b[0;36m0\u001b[0m\u001b[0;34m]\u001b[0m\u001b[0;34m)\u001b[0m\u001b[0;34m[\u001b[0m\u001b[0;36m0\u001b[0m\u001b[0;34m]\u001b[0m\u001b[0;34m\u001b[0m\u001b[0;34m\u001b[0m\u001b[0m\n\u001b[1;32m     13\u001b[0m         \u001b[0mprint\u001b[0m\u001b[0;34m(\u001b[0m\u001b[0mP0\u001b[0m\u001b[0;34m)\u001b[0m\u001b[0;34m\u001b[0m\u001b[0;34m\u001b[0m\u001b[0m\n",
      "\u001b[0;31mTypeError\u001b[0m: unsupported operand type(s) for *: 'float' and 'function'"
     ]
    }
   ],
   "source": [
    "# Testing if P0 converges for 12 iterations at E=0\n",
    "this_list = []\n",
    "#E_list = np.arange(-1.5,2,.1)/E_units\n",
    "#E_list = np.arange(-0.01,0.01,.00001)/E_units\n",
    "thisE_list = [0]\n",
    "for E in thisE_list:\n",
    "    iters = 15\n",
    "    P0 = I(E)\n",
    "    for i in range(iters): # iteratively solve for P0\n",
    "        KIx = lambda omega, E: ((hbar*E/(D**2+E**2))*kk(omega)+(hbar*D/(D**2+E**2))*kappa(omega))*P0\n",
    "        P0 = I(E)+integrate.quad(KIx,-5e12,5e12,args=(E),points=[0])[0]\n",
    "        print(P0)\n",
    "        this_list.append(P0)\n",
    "    "
   ]
  },
  {
   "cell_type": "code",
   "execution_count": 380,
   "metadata": {},
   "outputs": [
    {
     "name": "stdout",
     "output_type": "stream",
     "text": [
      "293478.3124514391\n",
      "401475.08595838083\n",
      "489806.2165854669\n",
      "562052.7141843772\n",
      "621143.5055990727\n",
      "669474.17554241\n",
      "709004.0853853656\n",
      "741335.8071269472\n",
      "767780.0928571192\n",
      "789409.0136231794\n",
      "807099.4219888235\n",
      "821568.5002904246\n",
      "833402.8357433269\n",
      "843082.2011246257\n",
      "850999.0051190325\n",
      "857474.2008593387\n",
      "862770.2976055641\n",
      "867102.0030659542\n",
      "870644.9278074529\n",
      "873542.7046389352\n",
      "875912.8115923002\n",
      "877851.3345694186\n",
      "879436.8627361879\n",
      "880733.6745858754\n",
      "881794.3438371299\n",
      "882661.870811708\n",
      "883371.425699559\n",
      "883951.77438453\n",
      "884426.4446347307\n",
      "884814.6799357843\n"
     ]
    }
   ],
   "source": [
    "# Testing that P0 converges for 12 iterations at E=0\n",
    "this_list = []\n",
    "#E_list = np.arange(-1.5,2,.1)/E_units\n",
    "#E_list = np.arange(-0.01,0.01,.00001)/E_units\n",
    "thisE_list = [0]\n",
    "for E in thisE_list:\n",
    "    iters = 30\n",
    "    P0 = I(E)\n",
    "    for i in range(iters): # iteratively solve for P0\n",
    "        KIx = lambda omega, E: ((hbar*E/(D**2+E**2))*kk(omega)+(hbar*D/(D**2+E**2))*kappa(omega))*P0\n",
    "        P0 = I(E) + integrate.quad(KIx,-5e11,5.1e11,args=(E))[0]\n",
    "        print(P0)\n",
    "        this_list.append(P0)\n",
    "    "
   ]
  },
  {
   "cell_type": "code",
   "execution_count": 385,
   "metadata": {},
   "outputs": [
    {
     "data": {
      "text/plain": [
       "Text(0.5, 0, 'E (hbar*omega_s)')"
      ]
     },
     "execution_count": 385,
     "metadata": {},
     "output_type": "execute_result"
    },
    {
     "data": {
      "image/png": "[encoded data removed]",
      "text/plain": [
       "<Figure size 600x400 with 1 Axes>"
      ]
     },
     "metadata": {
      "needs_background": "light"
     },
     "output_type": "display_data"
    }
   ],
   "source": [
    "fig, ax = plt.subplots(dpi=100)\n",
    "ax.plot(np.arange(30), this_list, linewidth=1, color='darkred')\n",
    "\n",
    "#ax.set_xlim((-6,6))\n",
    "#ax.set_ylim((-0.05,1.05))\n",
    "ax.grid()\n",
    "ax.set_ylabel(\"P0(E)\")\n",
    "ax.set_xlabel(\"E (hbar*omega_s)\")"
   ]
  },
  {
   "cell_type": "code",
   "execution_count": 320,
   "metadata": {},
   "outputs": [
    {
     "data": {
      "text/plain": [
       "0.0008271335295171271"
      ]
     },
     "execution_count": 320,
     "metadata": {},
     "output_type": "execute_result"
    }
   ],
   "source": [
    "1*E_units"
   ]
  },
  {
   "cell_type": "code",
   "execution_count": 342,
   "metadata": {},
   "outputs": [
    {
     "name": "stdout",
     "output_type": "stream",
     "text": [
      "0.009767099122165617\n",
      "0.009767105437135843\n",
      "0.009767105442215668\n",
      "0.009767105442219754\n",
      "0.009767105442219757\n",
      "0.009767105442219757\n",
      "0.009767105442219757\n",
      "0.009767105442219757\n",
      "0.009767105442219757\n",
      "0.009767105442219757\n",
      "0.009767105442219757\n",
      "0.009767105442219757\n"
     ]
    }
   ],
   "source": [
    "# Testing that P0 converges for 12 iterations at E=1\n",
    "this_new_list = []\n",
    "#E_list = np.arange(-1.5,2,.1)/E_units\n",
    "#E_list = np.arange(-0.01,0.01,.00001)/E_units\n",
    "units1 = 1*E_units\n",
    "thisE_new_list = [units1]\n",
    "for E in thisE_new_list:\n",
    "    iters = 12\n",
    "    P0 = I(E)\n",
    "    for i in range(iters): # iteratively solve for P0\n",
    "        KIx = lambda omega, E: ((hbar*E/(D**2+E**2))*kk(omega)+(hbar*D/(D**2+E**2))*kappa(omega))*P0\n",
    "        P0 = I(E) + integrate.quad(KIx,-5e11,5.1e11,args=(E))[0]\n",
    "        print(P0)\n",
    "    this_new_list.append(P0)"
   ]
  },
  {
   "cell_type": "code",
   "execution_count": 354,
   "metadata": {},
   "outputs": [],
   "source": [
    "# Calculating P0 without adding I(E) at 50mK \n",
    "P0_0_list = []\n",
    "#E_list = np.arange(-1.5,2,.1)/E_units\n",
    "#E_list = np.arange(-0.01,0.01,.0001)/E_units\n",
    "E_list = np.arange(-0.0001,0.0001,.000001)/E_units\n",
    "#E_list = [0]\n",
    "for E in E_list:\n",
    "    iters = 12\n",
    "    P0 = I(E)\n",
    "    for i in range(iters): # iteratively solve for P0\n",
    "        KIx = lambda omega, E: ((hbar*E/(D**2+E**2))*kk(omega)+(hbar*D/(D**2+E**2))*kappa(omega))*P0\n",
    "        P0 =  integrate.quad(KIx,-5e11,5.1e11,args=(E))[0]\n",
    "    P0_0_list.append(P0)\n",
    "    #print(P0)"
   ]
  },
  {
   "cell_type": "code",
   "execution_count": 361,
   "metadata": {},
   "outputs": [
    {
     "data": {
      "text/plain": [
       "Text(0.5, 0, 'E (hbar*omega_s)')"
      ]
     },
     "execution_count": 361,
     "metadata": {},
     "output_type": "execute_result"
    },
    {
     "data": {
      "image/png": "[encoded data removed]",
      "text/plain": [
       "<Figure size 600x400 with 1 Axes>"
      ]
     },
     "metadata": {
      "needs_background": "light"
     },
     "output_type": "display_data"
    }
   ],
   "source": [
    "fig, ax = plt.subplots(dpi=100)\n",
    "ax.plot(E_list*E_units, P0_0_list, linewidth=1, color='darkred')\n",
    "\n",
    "#ax.set_xlim((-6,6))\n",
    "ax.set_ylim((-0.05,1))\n",
    "#ax.grid()\n",
    "ax.set_ylabel(\"P0(E)\")\n",
    "ax.set_xlabel(\"E (hbar*omega_s)\")"
   ]
  },
  {
   "cell_type": "code",
   "execution_count": 64,
   "metadata": {},
   "outputs": [
    {
     "data": {
      "text/plain": [
       "99.99999000000003"
      ]
     },
     "execution_count": 64,
     "metadata": {},
     "output_type": "execute_result"
    }
   ],
   "source": [
    "(1e-5-1e-12)/1e-7"
   ]
  },
  {
   "cell_type": "code",
   "execution_count": 87,
   "metadata": {},
   "outputs": [],
   "source": [
    "T=50e-3"
   ]
  },
  {
   "cell_type": "code",
   "execution_count": 118,
   "metadata": {},
   "outputs": [
    {
     "name": "stdout",
     "output_type": "stream",
     "text": [
      "-378098.3472726699\n",
      "1425069.0640677945\n",
      "-4601244.049406245\n",
      "15539120.906852439\n",
      "-51771404.273850195\n",
      "173185134.99154538\n",
      "-578635541.2311922\n",
      "1934002371.1487253\n",
      "-6463411371.777507\n",
      "21601339710.12214\n",
      "-72193044775.51393\n",
      "241274426764.37085\n",
      "-806356049755.858\n",
      "2694899152075.682\n",
      "-9006543544657.2\n"
     ]
    }
   ],
   "source": [
    "# Calculating P0 without I(E) at 4.7K around 0\n",
    "P0_0_list = []\n",
    "E_units = hbar*omega_s\n",
    "#E_list = np.arange(-1.5,2,.1)/E_units\n",
    "#E_list = np.arange(-0.01,0.01,.0001)/E_units\n",
    "#E_list = np.arange(-0.00005,0.00005,.00001)\n",
    "E_list=[0]\n",
    "for E in E_list:\n",
    "    iters = 15\n",
    "    P0 = I(E)\n",
    "    for i in range(iters): # iteratively solve for P0\n",
    "        KIx = lambda omega, E: ((hbar*E/(D**2+E**2))*kk(omega)+(hbar*D/(D**2+E**2))*kappa(omega))*P0\n",
    "        P0 =  I(E)+integrate.quad(KIx,-5e12,-1e-12,args=(E))[0]+integrate.quad(KIx,1e-12,5e12,args=(E))[0]\n",
    "        #P0 =  I(E)+integrate.quad(KIx,-5e12,5.1e12,args=(E))[0]\n",
    "        print(P0)\n",
    "    P0_0_list.append(P0)\n"
   ]
  },
  {
   "cell_type": "code",
   "execution_count": 72,
   "metadata": {},
   "outputs": [
    {
     "data": {
      "text/plain": [
       "Text(0.5, 0, 'E (hbar*omega_s)')"
      ]
     },
     "execution_count": 72,
     "metadata": {},
     "output_type": "execute_result"
    },
    {
     "data": {
      "image/png": "[encoded data removed]",
      "text/plain": [
       "<Figure size 600x400 with 1 Axes>"
      ]
     },
     "metadata": {
      "needs_background": "light"
     },
     "output_type": "display_data"
    }
   ],
   "source": [
    "fig, ax = plt.subplots(dpi=100)\n",
    "ax.plot(E_list, P0_0_list, linewidth=1, color='darkred')\n",
    "\n",
    "#ax.set_xlim((.005,.01))\n",
    "#ax.set_ylim((-.05e11,.05e11))\n",
    "#ax.grid()\n",
    "ax.set_ylabel(\"P0(E)\")\n",
    "ax.set_xlabel(\"E (hbar*omega_s)\")"
   ]
  },
  {
   "cell_type": "code",
   "execution_count": null,
   "metadata": {},
   "outputs": [],
   "source": []
  },
  {
   "cell_type": "code",
   "execution_count": 65,
   "metadata": {},
   "outputs": [
    {
     "ename": "KeyboardInterrupt",
     "evalue": "",
     "output_type": "error",
     "traceback": [
      "\u001b[0;31m---------------------------------------------------------------------------\u001b[0m",
      "\u001b[0;31mKeyboardInterrupt\u001b[0m                         Traceback (most recent call last)",
      "\u001b[0;32m<ipython-input-65-811166da9137>\u001b[0m in \u001b[0;36m<module>\u001b[0;34m\u001b[0m\n\u001b[1;32m     10\u001b[0m     \u001b[0;32mfor\u001b[0m \u001b[0mi\u001b[0m \u001b[0;32min\u001b[0m \u001b[0mrange\u001b[0m\u001b[0;34m(\u001b[0m\u001b[0miters\u001b[0m\u001b[0;34m)\u001b[0m\u001b[0;34m:\u001b[0m \u001b[0;31m# iteratively solve for P0\u001b[0m\u001b[0;34m\u001b[0m\u001b[0;34m\u001b[0m\u001b[0m\n\u001b[1;32m     11\u001b[0m         \u001b[0mKIx\u001b[0m \u001b[0;34m=\u001b[0m \u001b[0;32mlambda\u001b[0m \u001b[0momega\u001b[0m\u001b[0;34m,\u001b[0m \u001b[0mE\u001b[0m\u001b[0;34m:\u001b[0m \u001b[0;34m(\u001b[0m\u001b[0;34m(\u001b[0m\u001b[0mhbar\u001b[0m\u001b[0;34m*\u001b[0m\u001b[0mE\u001b[0m\u001b[0;34m/\u001b[0m\u001b[0;34m(\u001b[0m\u001b[0mD\u001b[0m\u001b[0;34m**\u001b[0m\u001b[0;36m2\u001b[0m\u001b[0;34m+\u001b[0m\u001b[0mE\u001b[0m\u001b[0;34m**\u001b[0m\u001b[0;36m2\u001b[0m\u001b[0;34m)\u001b[0m\u001b[0;34m)\u001b[0m\u001b[0;34m*\u001b[0m\u001b[0mkk\u001b[0m\u001b[0;34m(\u001b[0m\u001b[0momega\u001b[0m\u001b[0;34m)\u001b[0m\u001b[0;34m+\u001b[0m\u001b[0;34m(\u001b[0m\u001b[0mhbar\u001b[0m\u001b[0;34m*\u001b[0m\u001b[0mD\u001b[0m\u001b[0;34m/\u001b[0m\u001b[0;34m(\u001b[0m\u001b[0mD\u001b[0m\u001b[0;34m**\u001b[0m\u001b[0;36m2\u001b[0m\u001b[0;34m+\u001b[0m\u001b[0mE\u001b[0m\u001b[0;34m**\u001b[0m\u001b[0;36m2\u001b[0m\u001b[0;34m)\u001b[0m\u001b[0;34m)\u001b[0m\u001b[0;34m*\u001b[0m\u001b[0mkappa\u001b[0m\u001b[0;34m(\u001b[0m\u001b[0momega\u001b[0m\u001b[0;34m)\u001b[0m\u001b[0;34m)\u001b[0m\u001b[0;34m*\u001b[0m\u001b[0mP0\u001b[0m\u001b[0;34m\u001b[0m\u001b[0;34m\u001b[0m\u001b[0m\n\u001b[0;32m---> 12\u001b[0;31m         \u001b[0mP0\u001b[0m \u001b[0;34m=\u001b[0m  \u001b[0mI\u001b[0m\u001b[0;34m(\u001b[0m\u001b[0mE\u001b[0m\u001b[0;34m)\u001b[0m\u001b[0;34m+\u001b[0m\u001b[0mintegrate\u001b[0m\u001b[0;34m.\u001b[0m\u001b[0mquad\u001b[0m\u001b[0;34m(\u001b[0m\u001b[0mKIx\u001b[0m\u001b[0;34m,\u001b[0m\u001b[0;34m-\u001b[0m\u001b[0;36m5e12\u001b[0m\u001b[0;34m,\u001b[0m\u001b[0;34m-\u001b[0m\u001b[0;36m1e-12\u001b[0m\u001b[0;34m,\u001b[0m\u001b[0margs\u001b[0m\u001b[0;34m=\u001b[0m\u001b[0;34m(\u001b[0m\u001b[0mE\u001b[0m\u001b[0;34m)\u001b[0m\u001b[0;34m)\u001b[0m\u001b[0;34m[\u001b[0m\u001b[0;36m0\u001b[0m\u001b[0;34m]\u001b[0m\u001b[0;34m+\u001b[0m\u001b[0mintegrate\u001b[0m\u001b[0;34m.\u001b[0m\u001b[0mquad\u001b[0m\u001b[0;34m(\u001b[0m\u001b[0mKIx\u001b[0m\u001b[0;34m,\u001b[0m\u001b[0;36m1e-12\u001b[0m\u001b[0;34m,\u001b[0m\u001b[0;36m5e12\u001b[0m\u001b[0;34m,\u001b[0m\u001b[0margs\u001b[0m\u001b[0;34m=\u001b[0m\u001b[0;34m(\u001b[0m\u001b[0mE\u001b[0m\u001b[0;34m)\u001b[0m\u001b[0;34m)\u001b[0m\u001b[0;34m[\u001b[0m\u001b[0;36m0\u001b[0m\u001b[0;34m]\u001b[0m\u001b[0;34m\u001b[0m\u001b[0;34m\u001b[0m\u001b[0m\n\u001b[0m\u001b[1;32m     13\u001b[0m     \u001b[0mP0_0_list\u001b[0m\u001b[0;34m.\u001b[0m\u001b[0mappend\u001b[0m\u001b[0;34m(\u001b[0m\u001b[0mP0\u001b[0m\u001b[0;34m)\u001b[0m\u001b[0;34m\u001b[0m\u001b[0;34m\u001b[0m\u001b[0m\n\u001b[1;32m     14\u001b[0m     \u001b[0;31m#print(P0)\u001b[0m\u001b[0;34m\u001b[0m\u001b[0;34m\u001b[0m\u001b[0;34m\u001b[0m\u001b[0m\n",
      "\u001b[0;32m/anaconda3/lib/python3.7/site-packages/scipy/integrate/quadpack.py\u001b[0m in \u001b[0;36mquad\u001b[0;34m(func, a, b, args, full_output, epsabs, epsrel, limit, points, weight, wvar, wopts, maxp1, limlst)\u001b[0m\n\u001b[1;32m    339\u001b[0m     \u001b[0;32mif\u001b[0m \u001b[0mweight\u001b[0m \u001b[0;32mis\u001b[0m \u001b[0;32mNone\u001b[0m\u001b[0;34m:\u001b[0m\u001b[0;34m\u001b[0m\u001b[0;34m\u001b[0m\u001b[0m\n\u001b[1;32m    340\u001b[0m         retval = _quad(func, a, b, args, full_output, epsabs, epsrel, limit,\n\u001b[0;32m--> 341\u001b[0;31m                        points)\n\u001b[0m\u001b[1;32m    342\u001b[0m     \u001b[0;32melse\u001b[0m\u001b[0;34m:\u001b[0m\u001b[0;34m\u001b[0m\u001b[0;34m\u001b[0m\u001b[0m\n\u001b[1;32m    343\u001b[0m         retval = _quad_weight(func, a, b, args, full_output, epsabs, epsrel,\n",
      "\u001b[0;32m/anaconda3/lib/python3.7/site-packages/scipy/integrate/quadpack.py\u001b[0m in \u001b[0;36m_quad\u001b[0;34m(func, a, b, args, full_output, epsabs, epsrel, limit, points)\u001b[0m\n\u001b[1;32m    446\u001b[0m     \u001b[0;32mif\u001b[0m \u001b[0mpoints\u001b[0m \u001b[0;32mis\u001b[0m \u001b[0;32mNone\u001b[0m\u001b[0;34m:\u001b[0m\u001b[0;34m\u001b[0m\u001b[0;34m\u001b[0m\u001b[0m\n\u001b[1;32m    447\u001b[0m         \u001b[0;32mif\u001b[0m \u001b[0minfbounds\u001b[0m \u001b[0;34m==\u001b[0m \u001b[0;36m0\u001b[0m\u001b[0;34m:\u001b[0m\u001b[0;34m\u001b[0m\u001b[0;34m\u001b[0m\u001b[0m\n\u001b[0;32m--> 448\u001b[0;31m             \u001b[0;32mreturn\u001b[0m \u001b[0m_quadpack\u001b[0m\u001b[0;34m.\u001b[0m\u001b[0m_qagse\u001b[0m\u001b[0;34m(\u001b[0m\u001b[0mfunc\u001b[0m\u001b[0;34m,\u001b[0m\u001b[0ma\u001b[0m\u001b[0;34m,\u001b[0m\u001b[0mb\u001b[0m\u001b[0;34m,\u001b[0m\u001b[0margs\u001b[0m\u001b[0;34m,\u001b[0m\u001b[0mfull_output\u001b[0m\u001b[0;34m,\u001b[0m\u001b[0mepsabs\u001b[0m\u001b[0;34m,\u001b[0m\u001b[0mepsrel\u001b[0m\u001b[0;34m,\u001b[0m\u001b[0mlimit\u001b[0m\u001b[0;34m)\u001b[0m\u001b[0;34m\u001b[0m\u001b[0;34m\u001b[0m\u001b[0m\n\u001b[0m\u001b[1;32m    449\u001b[0m         \u001b[0;32melse\u001b[0m\u001b[0;34m:\u001b[0m\u001b[0;34m\u001b[0m\u001b[0;34m\u001b[0m\u001b[0m\n\u001b[1;32m    450\u001b[0m             \u001b[0;32mreturn\u001b[0m \u001b[0m_quadpack\u001b[0m\u001b[0;34m.\u001b[0m\u001b[0m_qagie\u001b[0m\u001b[0;34m(\u001b[0m\u001b[0mfunc\u001b[0m\u001b[0;34m,\u001b[0m\u001b[0mbound\u001b[0m\u001b[0;34m,\u001b[0m\u001b[0minfbounds\u001b[0m\u001b[0;34m,\u001b[0m\u001b[0margs\u001b[0m\u001b[0;34m,\u001b[0m\u001b[0mfull_output\u001b[0m\u001b[0;34m,\u001b[0m\u001b[0mepsabs\u001b[0m\u001b[0;34m,\u001b[0m\u001b[0mepsrel\u001b[0m\u001b[0;34m,\u001b[0m\u001b[0mlimit\u001b[0m\u001b[0;34m)\u001b[0m\u001b[0;34m\u001b[0m\u001b[0;34m\u001b[0m\u001b[0m\n",
      "\u001b[0;32m<ipython-input-65-811166da9137>\u001b[0m in \u001b[0;36m<lambda>\u001b[0;34m(omega, E)\u001b[0m\n\u001b[1;32m      9\u001b[0m     \u001b[0mP0\u001b[0m \u001b[0;34m=\u001b[0m \u001b[0mI\u001b[0m\u001b[0;34m(\u001b[0m\u001b[0mE\u001b[0m\u001b[0;34m)\u001b[0m\u001b[0;34m\u001b[0m\u001b[0;34m\u001b[0m\u001b[0m\n\u001b[1;32m     10\u001b[0m     \u001b[0;32mfor\u001b[0m \u001b[0mi\u001b[0m \u001b[0;32min\u001b[0m \u001b[0mrange\u001b[0m\u001b[0;34m(\u001b[0m\u001b[0miters\u001b[0m\u001b[0;34m)\u001b[0m\u001b[0;34m:\u001b[0m \u001b[0;31m# iteratively solve for P0\u001b[0m\u001b[0;34m\u001b[0m\u001b[0;34m\u001b[0m\u001b[0m\n\u001b[0;32m---> 11\u001b[0;31m         \u001b[0mKIx\u001b[0m \u001b[0;34m=\u001b[0m \u001b[0;32mlambda\u001b[0m \u001b[0momega\u001b[0m\u001b[0;34m,\u001b[0m \u001b[0mE\u001b[0m\u001b[0;34m:\u001b[0m \u001b[0;34m(\u001b[0m\u001b[0;34m(\u001b[0m\u001b[0mhbar\u001b[0m\u001b[0;34m*\u001b[0m\u001b[0mE\u001b[0m\u001b[0;34m/\u001b[0m\u001b[0;34m(\u001b[0m\u001b[0mD\u001b[0m\u001b[0;34m**\u001b[0m\u001b[0;36m2\u001b[0m\u001b[0;34m+\u001b[0m\u001b[0mE\u001b[0m\u001b[0;34m**\u001b[0m\u001b[0;36m2\u001b[0m\u001b[0;34m)\u001b[0m\u001b[0;34m)\u001b[0m\u001b[0;34m*\u001b[0m\u001b[0mkk\u001b[0m\u001b[0;34m(\u001b[0m\u001b[0momega\u001b[0m\u001b[0;34m)\u001b[0m\u001b[0;34m+\u001b[0m\u001b[0;34m(\u001b[0m\u001b[0mhbar\u001b[0m\u001b[0;34m*\u001b[0m\u001b[0mD\u001b[0m\u001b[0;34m/\u001b[0m\u001b[0;34m(\u001b[0m\u001b[0mD\u001b[0m\u001b[0;34m**\u001b[0m\u001b[0;36m2\u001b[0m\u001b[0;34m+\u001b[0m\u001b[0mE\u001b[0m\u001b[0;34m**\u001b[0m\u001b[0;36m2\u001b[0m\u001b[0;34m)\u001b[0m\u001b[0;34m)\u001b[0m\u001b[0;34m*\u001b[0m\u001b[0mkappa\u001b[0m\u001b[0;34m(\u001b[0m\u001b[0momega\u001b[0m\u001b[0;34m)\u001b[0m\u001b[0;34m)\u001b[0m\u001b[0;34m*\u001b[0m\u001b[0mP0\u001b[0m\u001b[0;34m\u001b[0m\u001b[0;34m\u001b[0m\u001b[0m\n\u001b[0m\u001b[1;32m     12\u001b[0m         \u001b[0mP0\u001b[0m \u001b[0;34m=\u001b[0m  \u001b[0mI\u001b[0m\u001b[0;34m(\u001b[0m\u001b[0mE\u001b[0m\u001b[0;34m)\u001b[0m\u001b[0;34m+\u001b[0m\u001b[0mintegrate\u001b[0m\u001b[0;34m.\u001b[0m\u001b[0mquad\u001b[0m\u001b[0;34m(\u001b[0m\u001b[0mKIx\u001b[0m\u001b[0;34m,\u001b[0m\u001b[0;34m-\u001b[0m\u001b[0;36m5e12\u001b[0m\u001b[0;34m,\u001b[0m\u001b[0;34m-\u001b[0m\u001b[0;36m1e-12\u001b[0m\u001b[0;34m,\u001b[0m\u001b[0margs\u001b[0m\u001b[0;34m=\u001b[0m\u001b[0;34m(\u001b[0m\u001b[0mE\u001b[0m\u001b[0;34m)\u001b[0m\u001b[0;34m)\u001b[0m\u001b[0;34m[\u001b[0m\u001b[0;36m0\u001b[0m\u001b[0;34m]\u001b[0m\u001b[0;34m+\u001b[0m\u001b[0mintegrate\u001b[0m\u001b[0;34m.\u001b[0m\u001b[0mquad\u001b[0m\u001b[0;34m(\u001b[0m\u001b[0mKIx\u001b[0m\u001b[0;34m,\u001b[0m\u001b[0;36m1e-12\u001b[0m\u001b[0;34m,\u001b[0m\u001b[0;36m5e12\u001b[0m\u001b[0;34m,\u001b[0m\u001b[0margs\u001b[0m\u001b[0;34m=\u001b[0m\u001b[0;34m(\u001b[0m\u001b[0mE\u001b[0m\u001b[0;34m)\u001b[0m\u001b[0;34m)\u001b[0m\u001b[0;34m[\u001b[0m\u001b[0;36m0\u001b[0m\u001b[0;34m]\u001b[0m\u001b[0;34m\u001b[0m\u001b[0;34m\u001b[0m\u001b[0m\n\u001b[1;32m     13\u001b[0m     \u001b[0mP0_0_list\u001b[0m\u001b[0;34m.\u001b[0m\u001b[0mappend\u001b[0m\u001b[0;34m(\u001b[0m\u001b[0mP0\u001b[0m\u001b[0;34m)\u001b[0m\u001b[0;34m\u001b[0m\u001b[0;34m\u001b[0m\u001b[0m\n",
      "\u001b[0;32m<ipython-input-10-f877d14f1df9>\u001b[0m in \u001b[0;36mkappa\u001b[0;34m(omega)\u001b[0m\n\u001b[1;32m      4\u001b[0m     \u001b[0;32mfor\u001b[0m \u001b[0mn\u001b[0m \u001b[0;32min\u001b[0m \u001b[0mrange\u001b[0m\u001b[0;34m(\u001b[0m\u001b[0;36m1000\u001b[0m\u001b[0;34m)\u001b[0m\u001b[0;34m:\u001b[0m\u001b[0;34m\u001b[0m\u001b[0;34m\u001b[0m\u001b[0m\n\u001b[1;32m      5\u001b[0m         \u001b[0msummand\u001b[0m \u001b[0;34m=\u001b[0m \u001b[0;34m(\u001b[0m\u001b[0;34m(\u001b[0m\u001b[0;36m2\u001b[0m\u001b[0;34m*\u001b[0m\u001b[0mn\u001b[0m\u001b[0;34m*\u001b[0m\u001b[0mpi\u001b[0m\u001b[0;34m/\u001b[0m\u001b[0;34m(\u001b[0m\u001b[0mbeta\u001b[0m\u001b[0;34m*\u001b[0m\u001b[0mhbar\u001b[0m\u001b[0;34m)\u001b[0m\u001b[0;34m)\u001b[0m\u001b[0;34m/\u001b[0m\u001b[0;34m(\u001b[0m\u001b[0;34m(\u001b[0m\u001b[0;36m2\u001b[0m\u001b[0;34m*\u001b[0m\u001b[0mn\u001b[0m\u001b[0;34m*\u001b[0m\u001b[0mpi\u001b[0m\u001b[0;34m/\u001b[0m\u001b[0;34m(\u001b[0m\u001b[0mbeta\u001b[0m\u001b[0;34m*\u001b[0m\u001b[0mhbar\u001b[0m\u001b[0;34m)\u001b[0m\u001b[0;34m)\u001b[0m\u001b[0;34m**\u001b[0m\u001b[0;36m2\u001b[0m\u001b[0;34m+\u001b[0m\u001b[0momega\u001b[0m\u001b[0;34m**\u001b[0m\u001b[0;36m2\u001b[0m\u001b[0;34m)\u001b[0m\u001b[0;34m)\u001b[0m \u001b[0;34m*\u001b[0m \u001b[0;34m(\u001b[0m\u001b[0mZ_TT\u001b[0m\u001b[0;34m(\u001b[0m\u001b[0;34m-\u001b[0m\u001b[0;36m1j\u001b[0m\u001b[0;34m*\u001b[0m\u001b[0;34m(\u001b[0m\u001b[0;36m2\u001b[0m\u001b[0;34m*\u001b[0m\u001b[0mn\u001b[0m\u001b[0;34m*\u001b[0m\u001b[0mpi\u001b[0m\u001b[0;34m/\u001b[0m\u001b[0;34m(\u001b[0m\u001b[0mbeta\u001b[0m\u001b[0;34m*\u001b[0m\u001b[0mhbar\u001b[0m\u001b[0;34m)\u001b[0m\u001b[0;34m)\u001b[0m\u001b[0;34m)\u001b[0m\u001b[0;34m)\u001b[0m\u001b[0;34m/\u001b[0m\u001b[0mR_Q\u001b[0m\u001b[0;34m\u001b[0m\u001b[0;34m\u001b[0m\u001b[0m\n\u001b[0;32m----> 6\u001b[0;31m         \u001b[0msummand_list\u001b[0m\u001b[0;34m.\u001b[0m\u001b[0mappend\u001b[0m\u001b[0;34m(\u001b[0m\u001b[0msummand\u001b[0m\u001b[0;34m)\u001b[0m\u001b[0;34m\u001b[0m\u001b[0;34m\u001b[0m\u001b[0m\n\u001b[0m\u001b[1;32m      7\u001b[0m     \u001b[0msumm\u001b[0m \u001b[0;34m=\u001b[0m \u001b[0mnp\u001b[0m\u001b[0;34m.\u001b[0m\u001b[0msum\u001b[0m\u001b[0;34m(\u001b[0m\u001b[0msummand_list\u001b[0m\u001b[0;34m)\u001b[0m\u001b[0;34m\u001b[0m\u001b[0;34m\u001b[0m\u001b[0m\n\u001b[1;32m      8\u001b[0m     \u001b[0;32mreturn\u001b[0m \u001b[0mnp\u001b[0m\u001b[0;34m.\u001b[0m\u001b[0mreal\u001b[0m\u001b[0;34m(\u001b[0m\u001b[0;34m(\u001b[0m\u001b[0;36m1\u001b[0m\u001b[0;34m/\u001b[0m\u001b[0;34m(\u001b[0m\u001b[0;36m1\u001b[0m\u001b[0;34m-\u001b[0m\u001b[0me\u001b[0m\u001b[0;34m**\u001b[0m\u001b[0;34m(\u001b[0m\u001b[0;34m-\u001b[0m\u001b[0mbeta\u001b[0m\u001b[0;34m*\u001b[0m\u001b[0mhbar\u001b[0m\u001b[0;34m*\u001b[0m\u001b[0momega\u001b[0m\u001b[0;34m)\u001b[0m\u001b[0;34m)\u001b[0m\u001b[0;34m)\u001b[0m\u001b[0;34m*\u001b[0m\u001b[0mZ_TT\u001b[0m\u001b[0;34m(\u001b[0m\u001b[0momega\u001b[0m\u001b[0;34m)\u001b[0m\u001b[0;34m.\u001b[0m\u001b[0mimag\u001b[0m\u001b[0;34m/\u001b[0m\u001b[0mR_Q\u001b[0m \u001b[0;34m-\u001b[0m \u001b[0;34m(\u001b[0m\u001b[0;36m2\u001b[0m\u001b[0;34m/\u001b[0m\u001b[0;34m(\u001b[0m\u001b[0mbeta\u001b[0m\u001b[0;34m*\u001b[0m\u001b[0mhbar\u001b[0m\u001b[0;34m)\u001b[0m\u001b[0;34m)\u001b[0m\u001b[0;34m*\u001b[0m\u001b[0msumm\u001b[0m\u001b[0;34m)\u001b[0m\u001b[0;34m\u001b[0m\u001b[0;34m\u001b[0m\u001b[0m\n",
      "\u001b[0;31mKeyboardInterrupt\u001b[0m: "
     ]
    }
   ],
   "source": [
    "# Calculating P0 with I(E) at 4.7K at 0\n",
    "P0_0_list = []\n",
    "E_units = hbar*omega_s\n",
    "#E_list = np.arange(-1.5,2,.1)/E_units\n",
    "#E_list = np.arange(-0.01,0.01,.0001)/E_units\n",
    "E_list = np.arange(-0.00005,0.00005,.000001)\n",
    "for E in E_list:\n",
    "    iters = 12\n",
    "    P0 = I(E)\n",
    "    for i in range(iters): # iteratively solve for P0\n",
    "        KIx = lambda omega, E: ((hbar*E/(D**2+E**2))*kk(omega)+(hbar*D/(D**2+E**2))*kappa(omega))*P0\n",
    "        P0 =  I(E)+integrate.quad(KIx,-5e12,-1e-12,args=(E))[0]+integrate.quad(KIx,1e-12,5e12,args=(E))[0]\n",
    "    P0_0_list.append(P0)\n",
    "    #print(P0)"
   ]
  },
  {
   "cell_type": "code",
   "execution_count": null,
   "metadata": {},
   "outputs": [],
   "source": [
    "fig, ax = plt.subplots(dpi=100)\n",
    "ax.plot(E_list, P0_0_list, linewidth=1, color='darkred')\n",
    "\n",
    "#ax.set_xlim((.005,.01))\n",
    "#ax.set_ylim((-.05e11,.05e11))\n",
    "#ax.grid()\n",
    "ax.set_ylabel(\"P0(E)\")\n",
    "ax.set_xlabel(\"E (hbar*omega_s)\")"
   ]
  },
  {
   "cell_type": "code",
   "execution_count": 389,
   "metadata": {},
   "outputs": [],
   "source": [
    "# Calculating P0 with I(E) at 4.7K around 1*hw\n",
    "P0_1_list = []\n",
    "#E_list = np.arange(-1.5,2,.1)/E_units\n",
    "#E_list = np.arange(-0.01,0.01,.0001)/E_units\n",
    "E_list = np.arange(0.9999,1.0001,.000001)/E_units\n",
    "#E_list = [0]\n",
    "for E in E_list:\n",
    "    iters = 12\n",
    "    P0 = I(E)\n",
    "    for i in range(iters): # iteratively solve for P0\n",
    "        KIx = lambda omega, E: ((hbar*E/(D**2+E**2))*kk(omega)+(hbar*D/(D**2+E**2))*kappa(omega))*P0\n",
    "        P0 =  integrate.quad(KIx,-5e11,5.1e11,args=(E))[0]\n",
    "    P0_1_list.append(P0)\n",
    "    #print(P0)"
   ]
  },
  {
   "cell_type": "code",
   "execution_count": 390,
   "metadata": {},
   "outputs": [
    {
     "data": {
      "text/plain": [
       "Text(0.5, 0, 'E (hbar*omega_s)')"
      ]
     },
     "execution_count": 390,
     "metadata": {},
     "output_type": "execute_result"
    },
    {
     "data": {
      "image/png": "[encoded data removed]",
      "text/plain": [
       "<Figure size 600x400 with 1 Axes>"
      ]
     },
     "metadata": {
      "needs_background": "light"
     },
     "output_type": "display_data"
    }
   ],
   "source": [
    "fig, ax = plt.subplots(dpi=100)\n",
    "ax.plot(E_list*E_units, P0_1_list, linewidth=1, color='darkred')\n",
    "\n",
    "#ax.set_xlim((-6,6))\n",
    "#ax.set_ylim((-0.05,1))\n",
    "#ax.grid()\n",
    "ax.set_ylabel(\"P0(E)\")\n",
    "ax.set_xlabel(\"E (hbar*omega_s)\")"
   ]
  },
  {
   "cell_type": "code",
   "execution_count": 62,
   "metadata": {},
   "outputs": [
    {
     "data": {
      "text/plain": [
       "0.0008271335295171271"
      ]
     },
     "execution_count": 62,
     "metadata": {},
     "output_type": "execute_result"
    }
   ],
   "source": [
    "hbar*omega_s"
   ]
  },
  {
   "cell_type": "code",
   "execution_count": 73,
   "metadata": {},
   "outputs": [],
   "source": [
    "# Calculating P0 with I(E) at 4.7K at E=0, removing omega=0\n",
    "P0_0_list = []\n",
    "#E_list = np.arange(-0.0001,0.0001,.00001)\n",
    "E_list = np.arange(0.0001,0.001,.00001)\n",
    "for E in E_list:\n",
    "    iters = 12\n",
    "    P0 = I(E)\n",
    "    for i in range(iters): # iteratively solve for P0\n",
    "        KIx = lambda omega, E: ((hbar*E/(D**2+E**2))*kk(omega)+(hbar*D/(D**2+E**2))*kappa(omega))*P0\n",
    "        P0 =  I(E) + integrate.quad(KIx,-5e11,-1e-11,args=(E))[0] + integrate.quad(KIx,1e-11,5e11,args=(E))[0]\n",
    "    P0_0_list.append(P0)\n",
    "    #print(P0)"
   ]
  },
  {
   "cell_type": "code",
   "execution_count": 74,
   "metadata": {},
   "outputs": [
    {
     "data": {
      "text/plain": [
       "Text(0.5, 0, 'E')"
      ]
     },
     "execution_count": 74,
     "metadata": {},
     "output_type": "execute_result"
    },
    {
     "data": {
      "image/png": "[encoded data removed]",
      "text/plain": [
       "<Figure size 600x400 with 1 Axes>"
      ]
     },
     "metadata": {
      "needs_background": "light"
     },
     "output_type": "display_data"
    }
   ],
   "source": [
    "fig, ax = plt.subplots(dpi=100)\n",
    "ax.plot(E_list, P0_0_list, linewidth=1, color='darkred')\n",
    "\n",
    "#ax.set_xlim((-6,6))\n",
    "#ax.set_ylim((-100,100000))\n",
    "#ax.grid()\n",
    "ax.set_ylabel(\"P0(E)\")\n",
    "ax.set_xlabel(\"E\")"
   ]
  },
  {
   "cell_type": "code",
   "execution_count": 79,
   "metadata": {},
   "outputs": [],
   "source": [
    "# Calculating P0 with I(E) at 4.7K at E=0, removing omega=0\n",
    "P0_0_list = []\n",
    "#E_list = np.arange(-0.0001,0.0001,.00001)\n",
    "E_list = np.arange(0.0008,0.0009,.00001)\n",
    "for E in E_list:\n",
    "    iters = 12\n",
    "    P0 = I(E)\n",
    "    for i in range(iters): # iteratively solve for P0\n",
    "        KIx = lambda omega, E: ((hbar*E/(D**2+E**2))*kk(omega)+(hbar*D/(D**2+E**2))*kappa(omega))*P0\n",
    "        P0 =  I(E) + integrate.quad(KIx,-5e12,-1e-12,args=(E))[0] + integrate.quad(KIx,1e-12,5e12,args=(E))[0]\n",
    "    P0_0_list.append(P0)\n",
    "    #print(P0)"
   ]
  },
  {
   "cell_type": "code",
   "execution_count": 80,
   "metadata": {},
   "outputs": [
    {
     "data": {
      "text/plain": [
       "Text(0.5, 0, 'E')"
      ]
     },
     "execution_count": 80,
     "metadata": {},
     "output_type": "execute_result"
    },
    {
     "data": {
      "image/png": "[encoded data removed]",
      "text/plain": [
       "<Figure size 600x400 with 1 Axes>"
      ]
     },
     "metadata": {
      "needs_background": "light"
     },
     "output_type": "display_data"
    }
   ],
   "source": [
    "fig, ax = plt.subplots(dpi=100)\n",
    "ax.plot(E_list, P0_0_list, linewidth=1, color='darkred')\n",
    "\n",
    "#ax.set_xlim((-6,6))\n",
    "#ax.set_ylim((-100,100000))\n",
    "#ax.grid()\n",
    "ax.set_ylabel(\"P0(E)\")\n",
    "ax.set_xlabel(\"E\")"
   ]
  },
  {
   "cell_type": "code",
   "execution_count": null,
   "metadata": {},
   "outputs": [],
   "source": []
  },
  {
   "cell_type": "code",
   "execution_count": null,
   "metadata": {},
   "outputs": [],
   "source": []
  },
  {
   "cell_type": "code",
   "execution_count": null,
   "metadata": {},
   "outputs": [],
   "source": []
  },
  {
   "cell_type": "code",
   "execution_count": null,
   "metadata": {},
   "outputs": [],
   "source": []
  },
  {
   "cell_type": "markdown",
   "metadata": {},
   "source": [
    "### Try doing integral as a sum"
   ]
  },
  {
   "cell_type": "code",
   "execution_count": null,
   "metadata": {},
   "outputs": [],
   "source": [
    "def function_to_integrate(x):\n",
    "    return ((hbar*E/(D**2+E**2))*kk(omega)+(hbar*D/(D**2+E**2))*kappa(omega))*P0\n",
    "\n",
    "def simpsons_rule_integral(a, b, n):\n",
    "    \"\"\"\n",
    "    Calculate the approximate integral of a function using Simpson's rule.\n",
    "\n",
    "    Parameters:\n",
    "        a (float): Lower limit of integration.\n",
    "        b (float): Upper limit of integration.\n",
    "        n (int): Number of intervals (must be an even number).\n",
    "\n",
    "    Returns:\n",
    "        float: Approximate value of the integral.\n",
    "    \"\"\"\n",
    "    if n % 2 != 0:\n",
    "        raise ValueError(\"The number of intervals (n) must be an even number for Simpson's rule.\")\n",
    "\n",
    "    for i in range(n+1):\n",
    "        delta_x = (b - a) / n\n",
    "        x_values = a + i * delta_x\n",
    "\n",
    "    integral_approx = 0\n",
    "    for i in range(0, n, 2):\n",
    "        integral_approx += (delta_x / 3) * (function_to_integrate(x_values[i])\n",
    "                                            + 4 * function_to_integrate(x_values[i+1])\n",
    "                                            + function_to_integrate(x_values[i+2]))\n",
    "\n",
    "    return integral_approx\n",
    "\n",
    "# Example usage:\n",
    "lower_limit = -5e12\n",
    "upper_limit = 5e12\n",
    "num_intervals = int(20e12)\n",
    "result = simpsons_rule_integral(lower_limit, upper_limit, num_intervals)\n",
    "print(\"Approximate integral:\", result)"
   ]
  },
  {
   "cell_type": "code",
   "execution_count": 408,
   "metadata": {},
   "outputs": [
    {
     "data": {
      "text/plain": [
       "-0.0031910597454924226"
      ]
     },
     "execution_count": 408,
     "metadata": {},
     "output_type": "execute_result"
    }
   ],
   "source": [
    ".0001-hbar*5e12"
   ]
  },
  {
   "cell_type": "code",
   "execution_count": 414,
   "metadata": {},
   "outputs": [
    {
     "data": {
      "text/plain": [
       "21.907059849821124"
      ]
     },
     "execution_count": 414,
     "metadata": {},
     "output_type": "execute_result"
    }
   ],
   "source": [
    "D/(D**2+(-.0003)**2)"
   ]
  },
  {
   "cell_type": "code",
   "execution_count": 423,
   "metadata": {},
   "outputs": [
    {
     "data": {
      "text/plain": [
       "161437.62639762316"
      ]
     },
     "execution_count": 423,
     "metadata": {},
     "output_type": "execute_result"
    }
   ],
   "source": [
    "I(0)"
   ]
  },
  {
   "cell_type": "code",
   "execution_count": null,
   "metadata": {},
   "outputs": [],
   "source": []
  },
  {
   "cell_type": "code",
   "execution_count": 199,
   "metadata": {},
   "outputs": [
    {
     "data": {
      "text/plain": [
       "-0.0009631609958585344"
      ]
     },
     "execution_count": 199,
     "metadata": {},
     "output_type": "execute_result"
    }
   ],
   "source": [
    "E=1e-5\n",
    "-E**2/(4*E_C*kB*T)"
   ]
  },
  {
   "cell_type": "code",
   "execution_count": 173,
   "metadata": {},
   "outputs": [
    {
     "data": {
      "text/plain": [
       "0.0005711175327702512"
      ]
     },
     "execution_count": 173,
     "metadata": {},
     "output_type": "execute_result"
    }
   ],
   "source": [
    "(1/(4*pi*E_C*kB*T)**(-1/2))"
   ]
  },
  {
   "cell_type": "code",
   "execution_count": 159,
   "metadata": {},
   "outputs": [],
   "source": [
    "# Define P_N function \n",
    "E_C = joule*(2*el)**2/(2*C)\n",
    "def P_N(E):\n",
    "    return (1/(4*pi*E_C*kB*T)**(-1/2))*e**(-E**2/(4*E_C*kB*T))"
   ]
  },
  {
   "cell_type": "code",
   "execution_count": 160,
   "metadata": {},
   "outputs": [
    {
     "data": {
      "text/plain": [
       "6.408706459544583e-05"
      ]
     },
     "execution_count": 160,
     "metadata": {},
     "output_type": "execute_result"
    }
   ],
   "source": [
    "E_C"
   ]
  },
  {
   "cell_type": "code",
   "execution_count": 176,
   "metadata": {},
   "outputs": [
    {
     "data": {
      "text/plain": [
       "2.5956200580688706e-08"
      ]
     },
     "execution_count": 176,
     "metadata": {},
     "output_type": "execute_result"
    }
   ],
   "source": [
    "E_C*kB*T"
   ]
  },
  {
   "cell_type": "code",
   "execution_count": 163,
   "metadata": {},
   "outputs": [
    {
     "data": {
      "text/plain": [
       "-963.1609958585343"
      ]
     },
     "execution_count": 163,
     "metadata": {},
     "output_type": "execute_result"
    }
   ],
   "source": [
    "E=.01\n",
    "-E**2/(4*E_C*kB*T)"
   ]
  },
  {
   "cell_type": "code",
   "execution_count": 172,
   "metadata": {},
   "outputs": [
    {
     "data": {
      "text/plain": [
       "1.1051709180756477"
      ]
     },
     "execution_count": 172,
     "metadata": {},
     "output_type": "execute_result"
    }
   ],
   "source": [
    "e**(.1)"
   ]
  },
  {
   "cell_type": "code",
   "execution_count": 210,
   "metadata": {},
   "outputs": [
    {
     "data": {
      "text/plain": [
       "3.747748473513571e-08"
      ]
     },
     "execution_count": 210,
     "metadata": {},
     "output_type": "execute_result"
    }
   ],
   "source": [
    "P_N(0.001)"
   ]
  },
  {
   "cell_type": "code",
   "execution_count": 169,
   "metadata": {},
   "outputs": [
    {
     "data": {
      "text/plain": [
       "8.617333159341e-05"
      ]
     },
     "execution_count": 169,
     "metadata": {},
     "output_type": "execute_result"
    }
   ],
   "source": [
    "kB"
   ]
  },
  {
   "cell_type": "markdown",
   "metadata": {},
   "source": [
    "### Calculating P(E)"
   ]
  },
  {
   "cell_type": "code",
   "execution_count": 245,
   "metadata": {},
   "outputs": [],
   "source": [
    "# Calculating P(E)\n",
    "PE_list = []\n",
    "E_list = np.arange(-0.001,0.001,.0001)/E_units\n",
    "i=-1\n",
    "#E_list = [0]\n",
    "for E in E_list:\n",
    "    #for i in range(len(P0_0_list)):\n",
    "    i=i+1\n",
    "    P0PN = lambda E: P0_0_list[i]*P_N(E)\n",
    "    P = integrate.quad(P0PN,-5e11,5.1e11)[0]\n",
    "    PE_list.append(P)"
   ]
  },
  {
   "cell_type": "code",
   "execution_count": 246,
   "metadata": {},
   "outputs": [
    {
     "data": {
      "text/plain": [
       "[4.293846383287497e-07,\n",
       " 5.301044591638165e-07,\n",
       " 6.709134045548682e-07,\n",
       " 8.762949724016322e-07,\n",
       " 1.1927346663676972e-06,\n",
       " 1.7175376026966246e-06,\n",
       " 2.6836517615425124e-06,\n",
       " 4.7709342644569625e-06,\n",
       " 1.0734592192736445e-05,\n",
       " 4.293824994319039e-05,\n",
       " 821568.5006043718,\n",
       " 4.29387252519192e-05,\n",
       " 1.0734651606327553e-05,\n",
       " 4.770951868483956e-06,\n",
       " 2.6836591882414e-06,\n",
       " 1.717541405166455e-06,\n",
       " 1.1927368668710715e-06,\n",
       " 8.762963581413663e-07,\n",
       " 6.709143328922293e-07,\n",
       " 5.301051111648162e-07]"
      ]
     },
     "execution_count": 246,
     "metadata": {},
     "output_type": "execute_result"
    }
   ],
   "source": [
    "P0_0_list"
   ]
  },
  {
   "cell_type": "code",
   "execution_count": 226,
   "metadata": {},
   "outputs": [
    {
     "data": {
      "text/plain": [
       "469.21188916298973"
      ]
     },
     "execution_count": 226,
     "metadata": {},
     "output_type": "execute_result"
    }
   ],
   "source": [
    "P_N(0)*821568"
   ]
  },
  {
   "cell_type": "code",
   "execution_count": 247,
   "metadata": {},
   "outputs": [
    {
     "data": {
      "text/plain": [
       "[0.0,\n",
       " 0.0,\n",
       " 0.0,\n",
       " 0.0,\n",
       " 0.0,\n",
       " 0.0,\n",
       " 0.0,\n",
       " 0.0,\n",
       " 0.0,\n",
       " 0.0,\n",
       " 0.0,\n",
       " 0.0,\n",
       " 0.0,\n",
       " 0.0,\n",
       " 0.0,\n",
       " 0.0,\n",
       " 0.0,\n",
       " 0.0,\n",
       " 0.0,\n",
       " 0.0]"
      ]
     },
     "execution_count": 247,
     "metadata": {},
     "output_type": "execute_result"
    }
   ],
   "source": [
    "PE_list"
   ]
  },
  {
   "cell_type": "code",
   "execution_count": 248,
   "metadata": {},
   "outputs": [
    {
     "data": {
      "text/plain": [
       "Text(0.5, 0, 'E (hbar*omega_s)')"
      ]
     },
     "execution_count": 248,
     "metadata": {},
     "output_type": "execute_result"
    },
    {
     "data": {
      "image/png": "[encoded data removed]",
      "text/plain": [
       "<Figure size 600x400 with 1 Axes>"
      ]
     },
     "metadata": {
      "needs_background": "light"
     },
     "output_type": "display_data"
    }
   ],
   "source": [
    "fig, ax = plt.subplots(dpi=100)\n",
    "ax.plot(E_list*E_units, PE_list, linewidth=1, color='darkred')\n",
    "\n",
    "#ax.set_xlim((-6,6))\n",
    "#ax.set_ylim((-0.05,1.05))\n",
    "#ax.grid()\n",
    "ax.set_ylabel(\"P(E)\")\n",
    "ax.set_xlabel(\"E (hbar*omega_s)\")"
   ]
  },
  {
   "cell_type": "code",
   "execution_count": null,
   "metadata": {},
   "outputs": [],
   "source": []
  },
  {
   "cell_type": "code",
   "execution_count": null,
   "metadata": {},
   "outputs": [],
   "source": []
  },
  {
   "cell_type": "code",
   "execution_count": null,
   "metadata": {},
   "outputs": [],
   "source": []
  },
  {
   "cell_type": "code",
   "execution_count": null,
   "metadata": {},
   "outputs": [],
   "source": []
  },
  {
   "cell_type": "code",
   "execution_count": null,
   "metadata": {},
   "outputs": [],
   "source": []
  },
  {
   "cell_type": "code",
   "execution_count": null,
   "metadata": {},
   "outputs": [],
   "source": []
  },
  {
   "cell_type": "code",
   "execution_count": 33,
   "metadata": {},
   "outputs": [
    {
     "name": "stdout",
     "output_type": "stream",
     "text": [
      "-0.5\n",
      "1.7175395039327639e-12\n",
      "0.0\n",
      "161437.62639762316\n",
      "0.5\n",
      "1.7175395039327639e-12\n",
      "1.0\n",
      "4.2938487598319097e-13\n"
     ]
    }
   ],
   "source": [
    "P0_list = []\n",
    "E_units = hbar*omega_s\n",
    "E_list = np.arange(-0.5,1.5,.5)/E_units\n",
    "#np.arange(-.5,.6,.1)\n",
    "for E in E_list:\n",
    "    iters = 1\n",
    "    P0 = I(E)\n",
    "    for i in range(iters): # iteratively solve for P0\n",
    "        print(E*E_units)\n",
    "        print(P0)\n",
    "        KIx = lambda omega, E: ((hbar*E/(D**2+E**2))*kk(omega) + (hbar*D/(D**2+E**2))*kappa(omega))*P0\n",
    "        P0 = I(E) + integrate.quad(KIx,-5e12,5.5e12,args=(E))[0]\n",
    "    P0_list.append(P0)"
   ]
  },
  {
   "cell_type": "code",
   "execution_count": 196,
   "metadata": {},
   "outputs": [
    {
     "data": {
      "text/plain": [
       "Text(0.5, 0, 'E (hbar*omega_s)')"
      ]
     },
     "execution_count": 196,
     "metadata": {},
     "output_type": "execute_result"
    },
    {
     "data": {
      "image/png": "[encoded data removed]",
      "text/plain": [
       "<Figure size 600x400 with 1 Axes>"
      ]
     },
     "metadata": {
      "needs_background": "light"
     },
     "output_type": "display_data"
    }
   ],
   "source": [
    "\n",
    "fig, ax = plt.subplots(dpi=100)\n",
    "ax.plot(E_list*E_units, P0_list, linewidth=1, color='darkred')\n",
    "\n",
    "#ax.set_xlim((-6,6))\n",
    "#ax.set_ylim((-0.05,1.05))\n",
    "#ax.grid()\n",
    "ax.set_ylabel(\"P(E)\")\n",
    "ax.set_xlabel(\"E (hbar*omega_s)\")"
   ]
  },
  {
   "cell_type": "code",
   "execution_count": null,
   "metadata": {},
   "outputs": [],
   "source": []
  },
  {
   "cell_type": "code",
   "execution_count": null,
   "metadata": {},
   "outputs": [],
   "source": []
  },
  {
   "cell_type": "code",
   "execution_count": null,
   "metadata": {},
   "outputs": [],
   "source": []
  },
  {
   "cell_type": "code",
   "execution_count": null,
   "metadata": {},
   "outputs": [],
   "source": []
  },
  {
   "cell_type": "code",
   "execution_count": 53,
   "metadata": {},
   "outputs": [],
   "source": [
    "\n",
    "P0_list = []\n",
    "E_units = hbar*omega_s\n",
    "E_list = np.arange(-0.01,0.01,.00001)/E_units\n",
    "#np.arange(-.5,.6,.1)\n",
    "for E in E_list:\n",
    "    iters = 1\n",
    "    P0 = I(E)\n",
    "    for i in range(iters): # iteratively solve for P0\n",
    "        #print(E*E_units)\n",
    "        #print(P0)\n",
    "        KIx = lambda omega, E: ((hbar*E/(D**2+E**2))*kk(omega) + (hbar*D/(D**2+E**2))*kappa(omega))*P0\n",
    "        P0 = integrate.quad(KIx,-5e12,5.5e12,args=(E))[0]\n",
    "    P0_list.append(P0)"
   ]
  },
  {
   "cell_type": "code",
   "execution_count": 58,
   "metadata": {},
   "outputs": [
    {
     "data": {
      "text/plain": [
       "Text(0.5, 0, 'E (hbar*omega_s)')"
      ]
     },
     "execution_count": 58,
     "metadata": {},
     "output_type": "execute_result"
    },
    {
     "data": {
      "image/png": "[encoded data removed]",
      "text/plain": [
       "<Figure size 600x400 with 1 Axes>"
      ]
     },
     "metadata": {
      "needs_background": "light"
     },
     "output_type": "display_data"
    }
   ],
   "source": [
    "\n",
    "fig, ax = plt.subplots(dpi=100)\n",
    "ax.plot(E_list*E_units, P0_list, linewidth=1, color='darkred')\n",
    "\n",
    "#ax.set_xlim((-6,6))\n",
    "ax.set_ylim((-.01,.01))\n",
    "#ax.grid()\n",
    "ax.set_ylabel(\"P(E)\")\n",
    "ax.set_xlabel(\"E (hbar*omega_s)\")"
   ]
  },
  {
   "cell_type": "code",
   "execution_count": 35,
   "metadata": {},
   "outputs": [
    {
     "name": "stdout",
     "output_type": "stream",
     "text": [
      "1.9083772220238997e-13\n",
      "1.9083772220238997e-13\n",
      "1.9083772220238997e-13\n",
      "2.1907391575610314e-13\n",
      "2.1907391575610314e-13\n",
      "2.1907391575610314e-13\n",
      "2.5407389041257535e-13\n",
      "2.5407389041257535e-13\n",
      "2.5407389041257535e-13\n",
      "2.981839407627946e-13\n",
      "2.981839407627946e-13\n",
      "2.981839407627946e-13\n",
      "3.548635327120886e-13\n",
      "3.548635327120886e-13\n",
      "3.548635327120886e-13\n",
      "4.2938487444147095e-13\n",
      "4.2938487444147095e-13\n",
      "4.2938487444147095e-13\n",
      "5.301047830495913e-13\n",
      "5.301047830495913e-13\n",
      "5.301047830495913e-13\n",
      "6.709138657125642e-13\n",
      "6.709138657125642e-13\n",
      "6.709138657125642e-13\n",
      "8.762956607770084e-13\n",
      "8.762956607770084e-13\n",
      "8.762956607770084e-13\n",
      "1.1927357594823835e-12\n",
      "1.1927357594823835e-12\n",
      "1.1927357594823835e-12\n",
      "1.7175394915990066e-12\n",
      "1.7175394915990068e-12\n",
      "1.7175394915990068e-12\n",
      "2.6836554508055747e-12\n",
      "2.683655450805575e-12\n",
      "2.683655450805575e-12\n",
      "4.7709430093791756e-12\n",
      "4.770943009379176e-12\n",
      "4.770943009379176e-12\n",
      "1.073462170686484e-11\n",
      "1.0734621706864843e-11\n",
      "1.0734621706864843e-11\n",
      "4.293848605659966e-11\n",
      "4.293848605659972e-11\n",
      "4.293848605659972e-11\n",
      "-383893.15048288903\n",
      "1458215.5502528287\n",
      "-4764364.59594425\n",
      "4.29384891400383e-11\n",
      "4.293848914003836e-11\n",
      "4.293848914003836e-11\n",
      "1.0734622092294666e-11\n",
      "1.0734622092294671e-11\n",
      "1.0734622092294671e-11\n",
      "4.7709431235806066e-12\n",
      "4.770943123580607e-12\n",
      "4.770943123580607e-12\n",
      "2.6836554989843035e-12\n",
      "2.683655498984304e-12\n",
      "2.683655498984304e-12\n",
      "1.7175395162665151e-12\n",
      "1.7175395162665153e-12\n",
      "1.7175395162665153e-12\n",
      "1.1927357737575624e-12\n",
      "1.1927357737575624e-12\n",
      "1.1927357737575624e-12\n",
      "8.762956697666254e-13\n",
      "8.762956697666254e-13\n",
      "8.762956697666254e-13\n",
      "6.709138717349053e-13\n",
      "6.709138717349053e-13\n",
      "6.709138717349053e-13\n",
      "5.301047872792736e-13\n",
      "5.301047872792736e-13\n",
      "5.301047872792736e-13\n",
      "4.2938487752490967e-13\n",
      "4.2938487752490967e-13\n",
      "4.2938487752490967e-13\n",
      "3.5486353502872177e-13\n",
      "3.5486353502872177e-13\n",
      "3.5486353502872177e-13\n",
      "2.98183942547192e-13\n",
      "2.98183942547192e-13\n",
      "2.98183942547192e-13\n",
      "2.540738918160522e-13\n",
      "2.540738918160522e-13\n",
      "2.540738918160522e-13\n",
      "2.190739168798053e-13\n",
      "2.190739168798053e-13\n",
      "2.190739168798053e-13\n",
      "1.908377231160014e-13\n",
      "1.908377231160014e-13\n",
      "1.908377231160014e-13\n",
      "1.6772846755733002e-13\n",
      "1.6772846755733002e-13\n",
      "1.6772846755733002e-13\n",
      "1.4857608196888714e-13\n",
      "1.4857608196888717e-13\n",
      "1.4857608196888717e-13\n",
      "1.3252619655546326e-13\n",
      "1.3252619655546326e-13\n",
      "1.3252619655546326e-13\n",
      "1.1894317916748518e-13\n",
      "1.1894317916748518e-13\n",
      "1.1894317916748518e-13\n"
     ]
    }
   ],
   "source": [
    "P0_list = []\n",
    "E_units = hbar*omega_s\n",
    "E_list = np.arange(-1.5,2,.1)/E_units\n",
    "#np.arange(-.5,.6,.1)\n",
    "for E in E_list:\n",
    "    iters = 3\n",
    "    P0 = I(E)\n",
    "    for i in range(iters): # iteratively solve for P0\n",
    "        #print(E*E_units)\n",
    "        KIx = lambda omega, E: ((hbar*E/(D**2+E**2))*kk(omega) + (hbar*D/(D**2+E**2))*kappa(omega))*P0\n",
    "        P0 = I(E) + integrate.quad(KIx,-5e12,5.1e12,args=(E))[0]\n",
    "        print(P0)\n",
    "    P0_list.append(P0)"
   ]
  },
  {
   "cell_type": "code",
   "execution_count": 213,
   "metadata": {},
   "outputs": [
    {
     "data": {
      "text/plain": [
       "Text(0.5, 0, 'E (hbar*omega_s)')"
      ]
     },
     "execution_count": 213,
     "metadata": {},
     "output_type": "execute_result"
    },
    {
     "data": {
      "image/png": "[encoded data removed]",
      "text/plain": [
       "<Figure size 600x400 with 1 Axes>"
      ]
     },
     "metadata": {
      "needs_background": "light"
     },
     "output_type": "display_data"
    }
   ],
   "source": [
    "\n",
    "fig, ax = plt.subplots(dpi=100)\n",
    "ax.plot(E_list*E_units, P0_list, linewidth=1, color='darkred')\n",
    "\n",
    "#ax.set_xlim((-6,6))\n",
    "#ax.set_ylim((-0.05,1.05))\n",
    "#ax.grid()\n",
    "ax.set_ylabel(\"P(E)\")\n",
    "ax.set_xlabel(\"E (hbar*omega_s)\")"
   ]
  },
  {
   "cell_type": "code",
   "execution_count": null,
   "metadata": {},
   "outputs": [],
   "source": []
  }
 ],
 "metadata": {
  "kernelspec": {
   "display_name": "Python 3 (ipykernel)",
   "language": "python",
   "name": "python3"
  },
  "language_info": {
   "codemirror_mode": {
    "name": "ipython",
    "version": 3
   },
   "file_extension": ".py",
   "mimetype": "text/x-python",
   "name": "python",
   "nbconvert_exporter": "python",
   "pygments_lexer": "ipython3",
   "version": "3.9.6"
  }
 },
 "nbformat": 4,
 "nbformat_minor": 2
}
