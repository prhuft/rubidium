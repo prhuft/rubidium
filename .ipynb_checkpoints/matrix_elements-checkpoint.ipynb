{
 "cells": [
  {
   "cell_type": "markdown",
   "metadata": {},
   "source": [
    "Matrix Elements\n",
    "\n",
    "Preston Huft, May 2019.\n",
    "\n",
    "How to calculate matrix elements with Sympy. Equivalent to my Mathematica code 'dipole_transitions'.\n",
    "\n",
    "https://docs.sympy.org/latest/modules/physics/wigner.html\n",
    "\n",
    "sympy.physics.wigner.clebsch_gordan(j_1, j_2, j_3, m_1, m_2, m_3)[source], ⟨j1m1j2m2|j3m3⟩.\n",
    "sympy.physics.wigner.wigner_3j(j_1, j_2, j_3, m_1, m_2, m_3)[source]\n",
    "sympy.physics.wigner.wigner_6j(j_1, j_2, j_3, j_4, j_5, j_6, prec=None)[source]"
   ]
  },
  {
   "cell_type": "code",
   "execution_count": 35,
   "metadata": {},
   "outputs": [],
   "source": [
    "%matplotlib notebook\n",
    "from sympy.physics.wigner import wigner_6j,wigner_3j,clebsch_gordan\n",
    "from sympy import init_printing,N\n",
    "import numpy as np\n",
    "import math as m\n",
    "from math import sqrt\n",
    "\n",
    "# init_printing(use_unicode=True)"
   ]
  },
  {
   "cell_type": "code",
   "execution_count": 47,
   "metadata": {},
   "outputs": [],
   "source": [
    "def hf_matrix_elem(F,mF,J,q,FF,mFF,JJ,I,RME=None):\n",
    "    \"\"\" Returns the matrix element <F,mF,J|T_q|F',mF',J'>. \n",
    "    \n",
    "        RME is the reduced matrix element (just a number), which can be calculated\n",
    "        externally and passed in to be a multiplier. If RME=None, the \n",
    "        matrix element is in units of [RME].\n",
    "        \n",
    "        I is the nuclear spin of the atom.\n",
    "    \"\"\"\n",
    "    rme = 1\n",
    "    if RME!=None:\n",
    "        rme = RME\n",
    "\n",
    "    mat_elem = pow(-1,2*FF+J+I+mF)*sqrt(2*(2*FF+1)*(2*F+1)*(2*J+1))*wigner_6j(J,JJ,1,FF,F,I)\\\n",
    "                    *wigner_3j(FF,1,F,mFF,q,-mF)\n",
    "    \n",
    "    return mat_elem"
   ]
  },
  {
   "cell_type": "code",
   "execution_count": 53,
   "metadata": {},
   "outputs": [
    {
     "name": "stdout",
     "output_type": "stream",
     "text": [
      "0.129099444873581*sqrt(5)\n",
      "0\n",
      "0\n",
      "0\n",
      "0.500000000000000\n",
      "0\n",
      "0\n",
      "0\n",
      "0\n",
      "-0.258198889747161*sqrt(5)\n",
      "0\n",
      "0\n",
      "0\n",
      "0\n",
      "0\n",
      "0\n",
      "0\n",
      "0\n",
      "0.129099444873581*sqrt(5)\n",
      "0\n",
      "0\n",
      "0\n",
      "-0.500000000000000\n",
      "0\n",
      "sum = 1.00000000000000\n"
     ]
    }
   ],
   "source": [
    "# Rb87: D2 Line, F = 2, mF = 0 decay\n",
    "\n",
    "FF = 2; JJ = 3/2; mFF = 0 # |5p3/2,F=2,mF=0> \n",
    "F_list = [1,2]; J = 1/2 # |5s1/2,F,mF>\n",
    "\n",
    "I = 3/2 # nuclear spin\n",
    "\n",
    "# the transition probability amplitudes for all possible electric \n",
    "# dipole decay paths; multiply by m.sqrt(2*J+1) later to normalize\n",
    "\n",
    "amplitudes = [] # no. of transitions, includes forbidden\n",
    "\n",
    "i = 0\n",
    "for q in [-1,0,1]: # iterate over light polarizations\n",
    "    for F in F_list:\n",
    "        for mF in range(-F,F+1):\n",
    "            amplitudes.append(hf_matrix_elem(F,mF,J,q,FF,mFF,JJ,I))\n",
    "            i+=1\n",
    "        \n",
    "[print(a) for a in amplitudes]\n",
    "print(\"sum = %s\" % sum([a**2 for a in amplitudes]))"
   ]
  },
  {
   "cell_type": "code",
   "execution_count": 50,
   "metadata": {},
   "outputs": [
    {
     "data": {
      "text/plain": [
       "1.00000000000000"
      ]
     },
     "execution_count": 50,
     "metadata": {},
     "output_type": "execute_result"
    }
   ],
   "source": [
    "# Rb87: D2 Line, F = 2, mF = 0 decay\n",
    "\n",
    "JJ = 3/2; FF = 2; mFF = 2; \n",
    "J = 1/2\n",
    "I = 3/2\n",
    "\n",
    "#hf_matrix_elem(F,mF,J,q,FF,mFF,JJ,I)\n",
    "x = hf_matrix_elem(2,2,J,0,FF,mFF,JJ,I)**2 \\\n",
    "+ hf_matrix_elem(2,1,J,-1,FF,mFF,JJ,I)**2 \\\n",
    "+ hf_matrix_elem(1,1,J,-1,FF,mFF,JJ,I)**2 \n",
    "\n",
    "N(x)"
   ]
  },
  {
   "cell_type": "code",
   "execution_count": 21,
   "metadata": {},
   "outputs": [
    {
     "ename": "SyntaxError",
     "evalue": "invalid syntax (<ipython-input-21-c64bcf0fc0b3>, line 18)",
     "output_type": "error",
     "traceback": [
      "\u001b[1;36m  File \u001b[1;32m\"<ipython-input-21-c64bcf0fc0b3>\"\u001b[1;36m, line \u001b[1;32m18\u001b[0m\n\u001b[1;33m    print(amplitude[i]**2 \" for J=%s ,F=%s ,mF=%s \" % (J,F,mF))\u001b[0m\n\u001b[1;37m                                                  ^\u001b[0m\n\u001b[1;31mSyntaxError\u001b[0m\u001b[1;31m:\u001b[0m invalid syntax\n"
     ]
    }
   ],
   "source": [
    "# Rb87: D2 Line, F = 2, mF = 0 decay\n",
    "\n",
    "FF = 2; JJ = 3/2; mFF = 2 # |5p3/2,F=2,mF=2> \n",
    "F_list = [1,2]; J = 1/2 # |5s1/2,F,mF>\n",
    "\n",
    "I = 3/2 # nuclear spin\n",
    "\n",
    "# the transition probability amplitudes for all possible electric \n",
    "# dipole decay paths; multiply by m.sqrt(2*J+1) later to normalize\n",
    "\n",
    "amplitudes = np.empty(3*(2*F+1)) # no. of transitions, includes forbidden\n",
    "\n",
    "i = 0\n",
    "for q in [-1,0,1]: # iterate over light polarizations\n",
    "    for F in F_list:\n",
    "        for mF in range(-F,F+1):\n",
    "            amplitudes[i] = hf_matrix_elem(F,mF,J,q,FF,mFF,JJ,I)\n",
    "            print(amplitude[i]**2 \" for J=%s ,F=%s ,mF=%s\" % (J,F,mF))\n",
    "            i+=1\n",
    "        \n",
    "[print(a) for a in amplitudes]\n",
    "print(\"sum = %s\" % sum([a**2 for a in amplitudes]))"
   ]
  },
  {
   "cell_type": "code",
   "execution_count": null,
   "metadata": {},
   "outputs": [],
   "source": []
  }
 ],
 "metadata": {
  "kernelspec": {
   "display_name": "Python 3",
   "language": "python",
   "name": "python3"
  },
  "language_info": {
   "codemirror_mode": {
    "name": "ipython",
    "version": 3
   },
   "file_extension": ".py",
   "mimetype": "text/x-python",
   "name": "python",
   "nbconvert_exporter": "python",
   "pygments_lexer": "ipython3",
   "version": "3.7.3"
  }
 },
 "nbformat": 4,
 "nbformat_minor": 2
}
