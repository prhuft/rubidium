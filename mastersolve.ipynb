{
 "cells": [
  {
   "cell_type": "code",
   "execution_count": 17,
   "metadata": {},
   "outputs": [
    {
     "data": {
      "text/html": [
       "<style>.container{width:100% !important;}</style>"
      ],
      "text/plain": [
       "<IPython.core.display.HTML object>"
      ]
     },
     "metadata": {},
     "output_type": "display_data"
    }
   ],
   "source": [
    "import numpy as np\n",
    "from numpy import sqrt,exp,cos,sin,transpose,inf\n",
    "from numpy.linalg import eig\n",
    "from matplotlib import pyplot as plt\n",
    "from scipy.integrate import solve_ivp,complex_ode,odeint\n",
    "import sympy\n",
    "from sympy import MatrixSymbol,MatAdd,MatMul,Identity,I,Matrix,symbols\n",
    "from sympy.utilities.lambdify import lambdify, implemented_function\n",
    "from sympy.utilities.iterables import flatten\n",
    "import time\n",
    "from IPython.core.display import display,HTML\n",
    "display(HTML(\"<style>.container{width:100% !important;}</style>\"))\n",
    "\n",
    "from rbconsts import *\n",
    "from physconsts import *"
   ]
  },
  {
   "cell_type": "code",
   "execution_count": 18,
   "metadata": {},
   "outputs": [],
   "source": [
    "def odeintz(func, z0, t,**kwargs):\n",
    "    \"\"\"An odeint-like function for complex valued differential equations.\"\"\"\n",
    "\n",
    "    # Disallow Jacobian-related arguments.\n",
    "    _unsupported_odeint_args = ['Dfun', 'col_deriv', 'ml', 'mu']\n",
    "    bad_args = [arg for arg in kwargs if arg in _unsupported_odeint_args]\n",
    "    if len(bad_args) > 0:\n",
    "        raise ValueError(\"The odeint argument %r is not supported by \"\n",
    "                         \"odeintz.\" % (bad_args[0],))\n",
    "\n",
    "    # Make sure z0 is a numpy array of type np.complex128.\n",
    "    z0 = np.array(z0, dtype=np.complex128, ndmin=1)\n",
    "\n",
    "    def realfunc(x, t, *args):\n",
    "        z = x.view(np.complex128)\n",
    "        dzdt = func(z, t, *args)\n",
    "        # func might return a python list, so convert its return\n",
    "        # value to an array with type np.complex128, and then return\n",
    "        # a np.float64 view of that array.\n",
    "        return np.asarray(dzdt, dtype=np.complex128).view(np.float64)\n",
    "\n",
    "#     def realfunc(x, t, params):\n",
    "#         z = x.view(np.complex128)\n",
    "#         dzdt = func(z, t, params)\n",
    "#         # func might return a python list, so convert its return\n",
    "#         # value to an array with type np.complex128, and then return\n",
    "#         # a np.float64 view of that array.\n",
    "#         return np.asarray(dzdt, dtype=np.complex128).view(np.float64)\n",
    "\n",
    "    stopwatch = time.time() # time the computation \n",
    "    result = odeint(realfunc, z0.view(np.float64), t, **kwargs)\n",
    "    stopwatch = time.time() - stopwatch\n",
    "\n",
    "    if kwargs.get('full_output', False):\n",
    "        z = result[0].view(np.complex128)\n",
    "        infodict = result[1]\n",
    "        return z, infodict#, stopwatch\n",
    "    else:\n",
    "        z = result.view(np.complex128)\n",
    "        return z,stopwatch\n",
    "\n",
    "\n",
    "def cc(z): \n",
    "    return np.conj(z)\n",
    "\n",
    "dt = 0.05 # the timestep for numerical solutions"
   ]
  },
  {
   "cell_type": "code",
   "execution_count": 27,
   "metadata": {},
   "outputs": [],
   "source": [
    "### EVERYTHING IN HERE IS TEST CODE THAT IS INTENDED TO REPRODUCE THE HARD-\n",
    "### CODED VON NEUMANN EQS FROM A SYMBOLIC HAMILTONIAN; \n",
    "\n",
    "###############################################################################\n",
    "## ***** SYMBOLIC SYSTEM SOLVER PROTOTYPE *****\n",
    "## Hamiltonian is wrong but the proof of concept works\n",
    "## Rabi oscillations with no spontaneous emission, for various values\n",
    "## of detuning from the transition resonance\n",
    "###############################################################################\n",
    "\n",
    "# # initial conditions - system starts in ground state\n",
    "# rho_ee = 0 + 0j\n",
    "# rho_gg = 1 + 0j\n",
    "# rho_eg = 0 + 0j # no initial mixing; this is actually rho^tilda_ge\n",
    "# y0 = np.array([rho_gg,rho_ee,rho_eg]) # bundle i.c.\n",
    "\n",
    "### EVERYTHING IN HERE IS TEST CODE THAT IS INTENDED TO REPRODUCE THE HARD-\n",
    "### CODED VON NEUMANN EQS FROM A SYMBOLIC HAMILTONIAN\n",
    "\n",
    "def comm(A,B):\n",
    "    \"\"\"[A,B]=A.B-B.A. Assumes symbolic matrix.\"\"\"\n",
    "    return (MatMul(A,B)-MatMul(B,A)) #.as_mutable\n",
    "\n",
    "# define symbolic matrices which can be made numeric later\n",
    "E1,E2,d,O,t = symbols('E1 E2 d O t') # symbolic variables\n",
    "\n",
    "# Set the parameters of H; arbitrary for now\n",
    "O = 1; E2 = 1; E1 = 0; d = 1;\n",
    "\n",
    "H_a = Matrix([[E1,0],[0,E2]])\n",
    "H_field = Matrix([[0,-cc(O)/2],[-O/2,0]])\n",
    "H = H_a + H_field # the full Hamiltonian\n",
    "r = MatrixSymbol('r',2,2).as_mutable() # density op\n",
    "r[0,1]=cc(r[1,0]) # now we need only solve 3 eqs\n",
    "RHS = 1j*comm(r,H) # RHS of von Neumann eq system\n",
    "# rhs = np.array([x for x in  RHS]) # the rhs expressions of the von Neumann eqs\n",
    "rhs = [x for x in  RHS]\n",
    "\n",
    "# initial conditions - system starts in ground state\n",
    "r0 = [1+0j,0+0j,0+0j,0+0j] # flattened initial dens. op.\n",
    "\n",
    "# generate this derivs function from symbolic Hamiltonian and Lambdify\n",
    "# TODO: include parameters for H as a tuple\n",
    "derivs = lambdify((flatten([flatten(x) for x in RHS.free_symbols]),t),rhs)"
   ]
  },
  {
   "cell_type": "code",
   "execution_count": 60,
   "metadata": {},
   "outputs": [
    {
     "data": {
      "text/plain": [
       "[r[0, 0], r[0, 1], r[1, 0], r[1, 1]]"
      ]
     },
     "execution_count": 60,
     "metadata": {},
     "output_type": "execute_result"
    }
   ],
   "source": [
    "flatten([flatten(x) for x in RHS.free_symbols])"
   ]
  },
  {
   "cell_type": "code",
   "execution_count": 36,
   "metadata": {},
   "outputs": [
    {
     "data": {
      "text/plain": [
       "[1.0*I*(-0.5*conjugate(r[1, 0]) + 0.5*r[1, 0]),\n",
       " 1.0*I*(conjugate(r[1, 0]) - 0.5*r[0, 0] + 0.5*r[1, 1]),\n",
       " 1.0*I*(0.5*r[0, 0] - r[1, 0] - 0.5*r[1, 1]),\n",
       " 1.0*I*(0.5*conjugate(r[1, 0]) - 0.5*r[1, 0])]"
      ]
     },
     "execution_count": 36,
     "metadata": {},
     "output_type": "execute_result"
    }
   ],
   "source": [
    "rhs"
   ]
  },
  {
   "cell_type": "code",
   "execution_count": null,
   "metadata": {},
   "outputs": [],
   "source": [
    "t_exp = 10 # experiment duration\n",
    "ts = np.arange(t_exp,step=dt)\n",
    "\n",
    "fig = plt.figure()\n",
    "ax = fig.add_subplot(111)\n",
    "# ax.set_ylim((0,1))\n",
    "ax.set_xlim((0,t_exp))\n",
    "ax.set_title('Rabi oscillations w/o spontaneous emission')\n",
    "ax.set_xlabel('time [gamma]')\n",
    "ax.set_ylabel('Excitation probability')\n",
    "\n",
    "# this doesn't throw any errors, but the result is wrong. \n",
    "soln,ctime = odeintz(derivs, r0, ts) #, args=(t1,t2,D,Omega))\n",
    "ax.plot(ts,soln[:,1]) # plot rho_ee\n",
    "plt.show()"
   ]
  }
 ],
 "metadata": {
  "kernelspec": {
   "display_name": "Python 3",
   "language": "python",
   "name": "python3"
  },
  "language_info": {
   "codemirror_mode": {
    "name": "ipython",
    "version": 3
   },
   "file_extension": ".py",
   "mimetype": "text/x-python",
   "name": "python",
   "nbconvert_exporter": "python",
   "pygments_lexer": "ipython3",
   "version": "3.7.3"
  }
 },
 "nbformat": 4,
 "nbformat_minor": 2
}
