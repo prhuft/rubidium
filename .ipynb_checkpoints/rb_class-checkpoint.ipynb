{
 "cells": [
  {
   "cell_type": "code",
   "execution_count": 1,
   "metadata": {},
   "outputs": [],
   "source": [
    "# %matplotlib notebook\n",
    "from matplotlib import pyplot as plt\n",
    "import numpy as np\n",
    "from numpy import linspace,sin,cos,log,exp\n",
    "import math as m\n",
    "from math import sqrt,pi,e,exp\n",
    "from random import random as rand\n",
    "from scipy.integrate import solve_ivp\n",
    "\n",
    "## local files\n",
    "from physconsts import *\n",
    "from rbconsts import *"
   ]
  },
  {
   "cell_type": "code",
   "execution_count": 2,
   "metadata": {},
   "outputs": [],
   "source": [
    "## methods\n",
    "\n",
    "def maxboltzv(T,v,normalization=False):\n",
    "    \"\"\" Maxwell-Boltzmann distribution of speeds for 3-dimensional\n",
    "        gas. Returns f(v) for T. \"\"\"\n",
    "    global kB,mRb\n",
    "    m = mRb\n",
    "    \n",
    "    A = 4*pi*(m/(2*pi*kB*T))**(3/2) # normalization consts\n",
    "    meanv = sqrt(2*kB*T/m) # the maximum occurs at the mean\n",
    "    \n",
    "    if normalization is True:\n",
    "        return A\n",
    "    else:\n",
    "        return A*v**2*exp(-m*v**2/(2*kB*T))\n",
    "\n",
    "def sampling_maxboltzv(size,domain,T,vectorial=False,showplot=False):\n",
    "    \"\"\" Sample random speeds with a Maxwell-Boltzmann dist. \n",
    "        'size': sample size\n",
    "        'domain': [v1,v2] the restricted domain of the pdf; e.g.\n",
    "            a Guassian goes to zero well before inf so we could\n",
    "            let the domain be a finite region\n",
    "        'T': temperature\n",
    "        'vectorial': \n",
    "            If False, only return a scalar. \n",
    "            Set to True to return velocity vectors with a \n",
    "            direction from a flat distribution. \n",
    "    \"\"\"\n",
    "    global kB,mRb\n",
    "    m = mRb\n",
    "    \n",
    "    n = size \n",
    "    v1,v2 = domain\n",
    "    \n",
    "    mean = sqrt(2*kB*T/m)\n",
    "    fmax = maxboltzv(T,mean) # the maximum\n",
    "    y_dist = np.empty(n) \n",
    "    f_dist = np.empty(n) \n",
    "    v_dist = np.empty(n) # this is the distribution we want\n",
    "    j = 0 # dist index\n",
    "    while j < n:\n",
    "        v = (v2-v1)*rand() # rand val on domain of f(x)\n",
    "        f = maxboltzv(T,v)\n",
    "        y = rand()*fmax # rand val on range of f(x)\n",
    "        if y <= f:\n",
    "            y_dist[j]=y\n",
    "            f_dist[j]=f\n",
    "            v_dist[j]=v # x vals with approximate gaussian pdf\n",
    "            j+=1\n",
    "            \n",
    "    # plot distribution as a check:\n",
    "    if showplot is not False:\n",
    "        plt.scatter(v_dist,y_dist,c='red',s=10)\n",
    "        plt.scatter(v_dist,f_dist,c='blue',s=10)\n",
    "        plt.show()\n",
    "    \n",
    "    return v_dist"
   ]
  },
  {
   "cell_type": "code",
   "execution_count": 3,
   "metadata": {},
   "outputs": [
    {
     "data": {
      "image/png": "[encoded data removed]",
      "text/plain": [
       "<Figure size 432x288 with 1 Axes>"
      ]
     },
     "metadata": {
      "needs_background": "light"
     },
     "output_type": "display_data"
    },
    {
     "data": {
      "text/plain": [
       "array([0.11974548, 0.11078699, 0.17306568, 0.25179062, 0.10836741,\n",
       "       0.04219438, 0.26518656, 0.08427801, 0.10419666, 0.0573062 ,\n",
       "       0.20334703, 0.16299976, 0.14353683, 0.17605452, 0.20608107,\n",
       "       0.27222303, 0.16092323, 0.14356717, 0.08432656, 0.10339182,\n",
       "       0.04830685, 0.08329415, 0.00859639, 0.21676326, 0.16449097,\n",
       "       0.21257332, 0.18985676, 0.06036353, 0.05703686, 0.25195881,\n",
       "       0.14853862, 0.25621295, 0.14980147, 0.15334414, 0.0864312 ,\n",
       "       0.35664933, 0.15630543, 0.11572618, 0.04626778, 0.20128203,\n",
       "       0.32503789, 0.20622381, 0.26615846, 0.11366291, 0.16384007,\n",
       "       0.24109373, 0.14571028, 0.0991608 , 0.15326969, 0.07042456,\n",
       "       0.08716719, 0.12607598, 0.19008789, 0.11998798, 0.18261404,\n",
       "       0.15912364, 0.14326701, 0.16936147, 0.11948218, 0.08926155,\n",
       "       0.15043995, 0.13919214, 0.08829013, 0.08373904, 0.12765546,\n",
       "       0.21641353, 0.2054233 , 0.2460481 , 0.04856055, 0.22780034,\n",
       "       0.13214097, 0.23995124, 0.12083774, 0.1603678 , 0.11898377,\n",
       "       0.15589556, 0.16616757, 0.17453049, 0.21088982, 0.17069134,\n",
       "       0.0707644 , 0.28257934, 0.14421628, 0.06847333, 0.0920169 ,\n",
       "       0.08369139, 0.09356703, 0.09286899, 0.31202516, 0.08799308,\n",
       "       0.24604044, 0.08284127, 0.09352618, 0.22293791, 0.23430265,\n",
       "       0.27975748, 0.10224049, 0.09204317, 0.05806798, 0.12285537])"
      ]
     },
     "execution_count": 3,
     "metadata": {},
     "output_type": "execute_result"
    }
   ],
   "source": [
    "# maxwboltz test\n",
    "sampling_maxboltzv(100,[0,1],.000100,showplot=True)"
   ]
  },
  {
   "cell_type": "code",
   "execution_count": 4,
   "metadata": {},
   "outputs": [],
   "source": [
    "## classes \n",
    "\n",
    "class RbEnsemble():\n",
    "    \"\"\" Ensemble of Rb atoms with a momentum distribution specified\n",
    "        by temperature. Optional spatial distribution.\n",
    "        \n",
    "        'T'= temperature\n",
    "        'size'= number of atoms\n",
    "        'xdist': optional parameter specifying the initial\n",
    "            position distribution\n",
    "    \"\"\"\n",
    "    global mRb\n",
    "    \n",
    "    \n",
    "    def __init__(self,T,size=None,xdist=None):\n",
    "        \n",
    "        # For efficiency, pre-generate a specified number of atoms\n",
    "        if size is not None:\n",
    "            self.size = size\n",
    "            self.temp = T\n",
    "            self.v = sampling_maxboltzv(self.size,[0,1],self.temp) # rms\n",
    "            self.p = mRb*self.v # rms\n",
    "            self.x = np.empty(self.size)\n",
    "            if xdist is None:\n",
    "                self.x = np.zeros(self.size)\n",
    "            elif xdist is 'normal':\n",
    "                self.x = np.random.normal(0,size=self.size)\n",
    "        else:\n",
    "            self.size = 0\n",
    "            self.temp = T\n",
    "            self.v = np.array([]) # rms\n",
    "            self.p = np.array([]) # rms\n",
    "            self.x = np.array([])\n",
    "            \n",
    "    def phasespace(self):\n",
    "        \"\"\" Plots the ensemble in phase space. 1D x and p only for \n",
    "            now.\n",
    "        \"\"\"\n",
    "        xmax = max(self.x) # like xmas but better\n",
    "        xmin = min(self.x) # because i said so\n",
    "        dx = xmax-xmin\n",
    "        \n",
    "        pmax = max(self.p)/mRb\n",
    "        pmin = min(self.p)/mRb\n",
    "        dp = pmax-pmin\n",
    "        \n",
    "        fig, ax = plt.subplots()\n",
    "        ax.scatter(self.p/mRb,self.x)#,linestyle=None)\n",
    "        ax.set(xlabel='p [m/(s mRb)]', ylabel='r [arb]',\n",
    "               xlim=(pmin-.1*dp,pmax+.1*dp),\n",
    "               ylim=(xmin-.1*dx,xmax*+.1*dx))\n",
    "        plt.show()\n",
    "        \n",
    "    def vpt(self):\n",
    "        \"\"\" Return a speed from Maxwell-Boltzmann dist. \"\"\"\n",
    "        return sampling_maxboltzv(1,[0,1],self.temp)\n",
    "    \n",
    "    def xpt(self,domain):\n",
    "        \"\"\" Return a position from a flat dist by default. \"\"\"\n",
    "        \n",
    "        x1,x2 = domain\n",
    "        x = rand()*(x2-x1) # only works for x1,x2 > 0\n",
    "        return x\n",
    "    \n",
    "    def maxboltzv(self,T,v,normalization=False):\n",
    "        \"\"\" Maxwell-Boltzmann distribution of speeds for 3-dimensional\n",
    "            gas. Returns f(v) for T. \"\"\"\n",
    "        global kB,mRb\n",
    "        m = mRb\n",
    "\n",
    "        A = 4*pi*(m/(2*pi*kB*T))**(3/2) # normalization consts\n",
    "        meanv = sqrt(2*kB*T/m) # the maximum occurs at the mean\n",
    "\n",
    "        if normalization is True:\n",
    "            return A\n",
    "        else:\n",
    "            return A*v**2*exp(-m*v**2/(2*kB*T))\n",
    "\n",
    "    def sampling_maxboltzv(self,size,domain,T,vectorial=False,showplot=False):\n",
    "        \"\"\" Sample random speeds with a Maxwell-Boltzmann dist. \n",
    "            'size': sample size\n",
    "            'domain': [v1,v2] the restricted domain of the pdf; e.g.\n",
    "                a Guassian goes to zero well before inf so we could\n",
    "                let the domain be a finite region\n",
    "            'T': temperature\n",
    "            'vectorial': \n",
    "                If False, only return a scalar. \n",
    "                Set to True to return velocity vectors with a \n",
    "                direction from a flat distribution. \n",
    "        \"\"\"\n",
    "        global kB,mRb\n",
    "        m = mRb\n",
    "\n",
    "        n = size \n",
    "        v1,v2 = domain\n",
    "\n",
    "        mean = sqrt(2*kB*T/m)\n",
    "        fmax = maxboltzv(T,mean) # the maximum\n",
    "        y_dist = np.empty(n) \n",
    "        f_dist = np.empty(n) \n",
    "        v_dist = np.empty(n) # this is the distribution we want\n",
    "        j = 0 # dist index\n",
    "        while j < n:\n",
    "            v = (v2-v1)*rand() # rand val on domain of f(x)\n",
    "            f = maxboltzv(T,v)\n",
    "            y = rand()*fmax # rand val on range of f(x)\n",
    "            if y <= f:\n",
    "                y_dist[j]=y\n",
    "                f_dist[j]=f\n",
    "                v_dist[j]=v # x vals with approximate gaussian pdf\n",
    "                j+=1\n",
    "\n",
    "        # plot distribution as a check:\n",
    "        if showplot is not False:\n",
    "            plt.scatter(v_dist,y_dist,c='red',s=10)\n",
    "            plt.scatter(v_dist,f_dist,c='blue',s=10)\n",
    "            plt.show()\n",
    "\n",
    "        return v_dist"
   ]
  },
  {
   "cell_type": "code",
   "execution_count": 51,
   "metadata": {
    "collapsed": true
   },
   "outputs": [
    {
     "data": {
      "text/plain": [
       "[<matplotlib.lines.Line2D at 0x223cfa0aba8>]"
      ]
     },
     "execution_count": 51,
     "metadata": {},
     "output_type": "execute_result"
    },
    {
     "data": {
      "image/png": "[encoded data removed]",
      "text/plain": [
       "<Figure size 432x288 with 1 Axes>"
      ]
     },
     "metadata": {
      "needs_background": "light"
     },
     "output_type": "display_data"
    }
   ],
   "source": [
    "# maxboltz test\n",
    "vlist = linspace(0,1,50) # [m/s]\n",
    "f = [maxboltzv(.000100,v) for v in vlist]\n",
    "plt.plot(vlist,f)"
   ]
  },
  {
   "cell_type": "code",
   "execution_count": 5,
   "metadata": {},
   "outputs": [
    {
     "data": {
      "image/png": "[encoded data removed]",
      "text/plain": [
       "<Figure size 432x288 with 1 Axes>"
      ]
     },
     "metadata": {
      "needs_background": "light"
     },
     "output_type": "display_data"
    }
   ],
   "source": [
    "# RbEnsemble test\n",
    "atoms = RbEnsemble(5e-5,100,xdist='normal')\n",
    "atoms.phasespace()"
   ]
  }
 ],
 "metadata": {
  "kernelspec": {
   "display_name": "Python 3",
   "language": "python",
   "name": "python3"
  },
  "language_info": {
   "codemirror_mode": {
    "name": "ipython",
    "version": 3
   },
   "file_extension": ".py",
   "mimetype": "text/x-python",
   "name": "python",
   "nbconvert_exporter": "python",
   "pygments_lexer": "ipython3",
   "version": "3.7.3"
  }
 },
 "nbformat": 4,
 "nbformat_minor": 2
}
