{
 "cells": [
  {
   "cell_type": "markdown",
   "metadata": {},
   "source": [
    "Microwave Ramsey Experiment in $^{87}$Rb clock states, with varied AC Stark shift from 780 nm beam in gap time."
   ]
  },
  {
   "cell_type": "code",
   "execution_count": 1,
   "metadata": {},
   "outputs": [
    {
     "data": {
      "text/html": [
       "<style>.container{width:100% !important;}</style>"
      ],
      "text/plain": [
       "<IPython.core.display.HTML object>"
      ]
     },
     "metadata": {},
     "output_type": "display_data"
    }
   ],
   "source": [
    "#### libraries\n",
    "from matplotlib import pyplot as plt\n",
    "from sympy import symbols,N,sympify,lambdify\n",
    "from sympy import MatrixSymbol,MatAdd,MatMul,Identity as eye,Matrix,zeros\n",
    "from sympy.utilities.iterables import flatten\n",
    "import numpy as np\n",
    "from numpy import *\n",
    "from scipy.integrate import solve_ivp\n",
    "\n",
    "#### local files\n",
    "from rbconsts import *\n",
    "from physconsts import *\n",
    "from amophys import * \n",
    "\n",
    "#### layout stuff\n",
    "from IPython.core.display import display,HTML\n",
    "display(HTML(\"<style>.container{width:100% !important;}</style>\"))"
   ]
  },
  {
   "cell_type": "code",
   "execution_count": 6,
   "metadata": {},
   "outputs": [],
   "source": [
    "#### Rb87 5s1/2 \n",
    "L = 0; S = 1/2; J = 1/2;\n",
    "Flist = [2,1] # F = I + J\n",
    "alpha0 = 1.07925e-38 # ground state polarizability [SI]\n",
    "\n",
    "E_5sF2 = eVToJ(GHzToeV(2.56300597908911)) # GHz\n",
    "E_5sF1 = eVToJ(GHzToeV(-4.27167663181519)) # GHz\n",
    "\n",
    "gJ = gJ_fn(J,L,S,gL,gS)\n",
    "\n",
    "# Atom Hamiltonian in {|F,mF>} basis\n",
    "dim = 2\n",
    "H_a = zeros((dim,dim)) # only driving clock transition\n",
    "H_a[0,0] = E_5sF2 # [J]\n",
    "H_a[1,1] = E_5sF1 \n",
    "\n",
    "# Zeeman Hamiltonian for bias field Bz\n",
    "basis = [[2,0],[1,0]]\n",
    "H_Zz = hamiltonian_z1(basis,gI,gJ,Bz=.001,units='Joules')\n",
    "\n",
    "# Diagonalize the static Hamiltonian\n",
    "H = Matrix(H_a + H_Zz)\n",
    "H = diagonal(H) # diagonalized with sorted e-vals\n",
    "    \n",
    "# H_z1 microwave driving field \n",
    "Omega = 2*pi*8.035*1e3 # Rabi freq. from Minho's thesis\n",
    "H_mw = zeros((dim,dim))\n",
    "H_mw[0,1] = H_mw[1,0] = Omega*hbar/2\n",
    "\n",
    "# Parameters for the RWA formulation\n",
    "D_mw = 0 # microwave detuning\n",
    "\n",
    "derivs = lambda t,y: obe_derivs(y,t,D_mw,Omega)"
   ]
  },
  {
   "cell_type": "code",
   "execution_count": 209,
   "metadata": {
    "collapsed": true
   },
   "outputs": [
    {
     "data": {
      "text/plain": [
       "[<matplotlib.lines.Line2D at 0x1db1c9bd828>]"
      ]
     },
     "execution_count": 209,
     "metadata": {},
     "output_type": "execute_result"
    },
    {
     "data": {
      "image/png": "[encoded data removed]",
      "text/plain": [
       "<Figure size 432x288 with 1 Axes>"
      ]
     },
     "metadata": {
      "needs_background": "light"
     },
     "output_type": "display_data"
    }
   ],
   "source": [
    "# test the microwave rfe\n",
    "y0 = array([1+0j,0+0j,0+0j])\n",
    "tpi = (2*pi/Omega)\n",
    "t_exp = tpi\n",
    "soln = solve_ivp(derivs,[0,t_exp],y0,t_eval=linspace(0,t_exp,2000))\n",
    "plt.plot(soln.t,soln.y[0])"
   ]
  },
  {
   "cell_type": "code",
   "execution_count": 187,
   "metadata": {},
   "outputs": [],
   "source": [
    "#### pulse functions\n",
    "\n",
    "def mw_pulse(y0,dt):\n",
    "    \"\"\" return the state after a mw pulse lasting dt.\n",
    "        'y0' initial state\"\"\"\n",
    "\n",
    "    derivs = lambda t,y: obe_derivs(y,t,D_mw,Omega)\n",
    "    soln = solve_ivp(derivs,[0,dt],y0=y0)\n",
    "    \n",
    "    return [y[-1] for y in soln.y] # the final state\n",
    "\n",
    "def gap_evolve(y0,dt):\n",
    "    \"\"\" return the state after gap time evolution \"\"\"\n",
    "    \n",
    "    D = 2*pi*1e3 # 1 kHz -.25*alpha0*efield**2/hbar # detuning from AC stark shift\n",
    "    derivs = lambda t,y: obe_derivs(y,t,D,0)\n",
    "    soln = solve_ivp(derivs,[0,t_exp],y0=y0)\n",
    "    \n",
    "    return [y[-1] for y in soln.y] # the final state"
   ]
  },
  {
   "cell_type": "code",
   "execution_count": 206,
   "metadata": {},
   "outputs": [
    {
     "name": "stderr",
     "output_type": "stream",
     "text": [
      "C:\\Users\\gothr\\Anaconda3\\lib\\site-packages\\ipykernel_launcher.py:18: ComplexWarning: Casting complex values to real discards the imaginary part\n"
     ]
    }
   ],
   "source": [
    "#### the actual ramsey experiment\n",
    "## TODO: look up some experimental gap times and detunings, \n",
    "## try to reproduce to make sure simulation working\n",
    "\n",
    "P = .384 # [W] FORT power at experiment cell\n",
    "A = pi*(2.5e-6)**2 # area at beam waist \n",
    "E0 = sqrt(4*P/(c*e0*A)) # the electric field amplitude\n",
    "\n",
    "y0 = array([1+0j,0+0j,0+0j])\n",
    "y = y0\n",
    "tpi = (2*pi/Omega)\n",
    "pts = 200\n",
    "gsoln = empty(pts) # ground state probabilities\n",
    "t_exp = 1000*tpi\n",
    "t_gaplist = linspace(0,t_exp,pts)\n",
    "for i in range(pts):\n",
    "    \n",
    "    y = mw_pulse(y,tpi/2)\n",
    "    y = gap_evolve(y,t_gaplist[i])\n",
    "    y = mw_pulse(y,tpi/2) \n",
    "    gsoln[i] = y[0]"
   ]
  },
  {
   "cell_type": "code",
   "execution_count": 207,
   "metadata": {},
   "outputs": [
    {
     "data": {
      "text/plain": [
       "[<matplotlib.lines.Line2D at 0x1db1c986e48>]"
      ]
     },
     "execution_count": 207,
     "metadata": {},
     "output_type": "execute_result"
    },
    {
     "data": {
      "image/png": "[encoded data removed]",
      "text/plain": [
       "<Figure size 432x288 with 1 Axes>"
      ]
     },
     "metadata": {
      "needs_background": "light"
     },
     "output_type": "display_data"
    }
   ],
   "source": [
    "plt.plot(t_gaplist,gsoln)"
   ]
  }
 ],
 "metadata": {
  "kernelspec": {
   "display_name": "Python 3",
   "language": "python",
   "name": "python3"
  },
  "language_info": {
   "codemirror_mode": {
    "name": "ipython",
    "version": 3
   },
   "file_extension": ".py",
   "mimetype": "text/x-python",
   "name": "python",
   "nbconvert_exporter": "python",
   "pygments_lexer": "ipython3",
   "version": "3.7.3"
  }
 },
 "nbformat": 4,
 "nbformat_minor": 2
}
