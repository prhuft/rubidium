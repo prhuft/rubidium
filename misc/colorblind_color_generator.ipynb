{
 "cells": [
  {
   "cell_type": "code",
   "execution_count": 2,
   "id": "15f0fc4f-0805-43c4-8eb2-2ab06e65c9fb",
   "metadata": {},
   "outputs": [
    {
     "data": {
      "image/png": "[encoded data removed]",
      "text/plain": [
       "<Figure size 800x200 with 1 Axes>"
      ]
     },
     "metadata": {},
     "output_type": "display_data"
    }
   ],
   "source": [
    "import numpy as np\n",
    "import colorspacious\n",
    "import matplotlib.pyplot as plt\n",
    "\n",
    "def generate_colorblind_friendly_colors(n):\n",
    "    # Generate equally spaced hues in CIELAB color space\n",
    "    hues = np.linspace(0, 360, n+1)[:-1]\n",
    "    \n",
    "    # Convert hues to RGB\n",
    "    lab_colors = np.zeros((n, 3))\n",
    "    lab_colors[:, 0] = 70  # Fixed lightness\n",
    "    lab_colors[:, 1] = 20 * np.cos(np.radians(hues))  # Varying 'a' values\n",
    "    lab_colors[:, 2] = 20 * np.sin(np.radians(hues))  # Varying 'b' values\n",
    "    \n",
    "    # Convert LAB to RGB\n",
    "    rgb_colors = colorspacious.cspace_convert(lab_colors, \"CAM02-UCS\", \"sRGB1\")\n",
    "    \n",
    "    return rgb_colors\n",
    "\n",
    "# Example usage\n",
    "n_colors = 10\n",
    "colors = generate_colorblind_friendly_colors(n_colors)\n",
    "\n",
    "# Display colors\n",
    "fig, ax = plt.subplots(1, 1, figsize=(8, 2))\n",
    "for i in range(n_colors):\n",
    "    ax.bar(i, 1, color=colors[i], edgecolor='black')\n",
    "ax.set_xticks([])\n",
    "ax.set_yticks([])\n",
    "plt.show()\n"
   ]
  },
  {
   "cell_type": "code",
   "execution_count": 3,
   "id": "1752baed-0adc-456d-9118-99ccb79e23f4",
   "metadata": {},
   "outputs": [
    {
     "data": {
      "text/plain": [
       "array([[0.8472556 , 0.53337376, 0.6336182 ],\n",
       "       [0.8565902 , 0.54623814, 0.46081704],\n",
       "       [0.7859072 , 0.59867328, 0.34388168],\n",
       "       [0.645352  , 0.66201655, 0.36338178],\n",
       "       [0.48374193, 0.70391322, 0.48930319],\n",
       "       [0.38525038, 0.7130874 , 0.63775344],\n",
       "       [0.42089562, 0.69373572, 0.76025809],\n",
       "       [0.53807262, 0.65455264, 0.83350808],\n",
       "       [0.66651103, 0.60539858, 0.84230122],\n",
       "       [0.77619334, 0.5591088 , 0.77477562]])"
      ]
     },
     "execution_count": 3,
     "metadata": {},
     "output_type": "execute_result"
    }
   ],
   "source": [
    "colors"
   ]
  },
  {
   "cell_type": "code",
   "execution_count": 5,
   "id": "889e34ed-547d-47e3-8a58-ac7984fc8f90",
   "metadata": {},
   "outputs": [
    {
     "data": {
      "image/png": "[encoded data removed]",
      "text/plain": [
       "<Figure size 800x200 with 1 Axes>"
      ]
     },
     "metadata": {},
     "output_type": "display_data"
    }
   ],
   "source": [
    "import matplotlib.pyplot as plt\n",
    "import matplotlib.colors as mcolors\n",
    "import numpy as np\n",
    "\n",
    "def generate_colorblind_friendly_colors(n):\n",
    "    # Generate equally spaced hues in HSL color space\n",
    "    hues = np.linspace(0, 360, n+1)[:-1]\n",
    "    \n",
    "    # Convert HSL to RGB\n",
    "    rgb_colors = [mcolors.hsv_to_rgb((hue/360, 0.7, 0.8)) for hue in hues]\n",
    "    \n",
    "    return rgb_colors\n",
    "\n",
    "# Example usage\n",
    "n_colors = 10\n",
    "colors = generate_colorblind_friendly_colors(n_colors)\n",
    "\n",
    "# Display colors\n",
    "fig, ax = plt.subplots(1, 1, figsize=(8, 2))\n",
    "for i in range(n_colors):\n",
    "    ax.bar(i, 1, color=colors[i], edgecolor='black')\n",
    "ax.set_xticks([])\n",
    "ax.set_yticks([])\n",
    "plt.show()\n"
   ]
  },
  {
   "cell_type": "code",
   "execution_count": 6,
   "id": "38bf0afb-3c53-4282-95e8-c930eca2f1da",
   "metadata": {},
   "outputs": [
    {
     "data": {
      "text/plain": [
       "[0, 1, 2, 3]"
      ]
     },
     "execution_count": 6,
     "metadata": {},
     "output_type": "execute_result"
    }
   ],
   "source": [
    "[0,1,2,3][0:]"
   ]
  },
  {
   "cell_type": "code",
   "execution_count": null,
   "id": "626e11b5-afd7-4dc5-a23e-d90181d37c09",
   "metadata": {},
   "outputs": [],
   "source": []
  }
 ],
 "metadata": {
  "kernelspec": {
   "display_name": "Python 3 (ipykernel)",
   "language": "python",
   "name": "python3"
  },
  "language_info": {
   "codemirror_mode": {
    "name": "ipython",
    "version": 3
   },
   "file_extension": ".py",
   "mimetype": "text/x-python",
   "name": "python",
   "nbconvert_exporter": "python",
   "pygments_lexer": "ipython3",
   "version": "3.9.6"
  }
 },
 "nbformat": 4,
 "nbformat_minor": 5
}
