{
 "cells": [
  {
   "cell_type": "code",
   "execution_count": 9,
   "metadata": {},
   "outputs": [],
   "source": [
    "from qutip import *\n",
    "import matplotlib.pyplot as plt\n",
    "import numpy as np\n",
    "from arc import *"
   ]
  },
  {
   "cell_type": "markdown",
   "metadata": {},
   "source": [
    "### time-dependent Hamiltonian\n",
    "an example from the Qutip docs"
   ]
  },
  {
   "cell_type": "code",
   "execution_count": 26,
   "metadata": {},
   "outputs": [],
   "source": [
    "ustate = basis(3, 0) # column vector (1, 0, 0)\n",
    "excited = basis(3, 1) # column vector (0, 1, 0)\n",
    "ground = basis(3, 2) # column vector (0, 0, 1)"
   ]
  },
  {
   "cell_type": "code",
   "execution_count": 27,
   "metadata": {},
   "outputs": [
    {
     "data": {
      "text/latex": [
       "Quantum object: dims=[[3], [1]], shape=(3, 1), type='ket', dtype=Dense$$\\left(\\begin{array}{cc}1\\\\0\\\\0\\end{array}\\right)$$"
      ],
      "text/plain": [
       "Quantum object: dims=[[3], [1]], shape=(3, 1), type='ket', dtype=Dense\n",
       "Qobj data =\n",
       "[[1.]\n",
       " [0.]\n",
       " [0.]]"
      ]
     },
     "execution_count": 27,
     "metadata": {},
     "output_type": "execute_result"
    }
   ],
   "source": [
    "ustate"
   ]
  },
  {
   "cell_type": "code",
   "execution_count": 28,
   "metadata": {},
   "outputs": [
    {
     "data": {
      "text/latex": [
       "Quantum object: dims=[[3], [3]], shape=(3, 3), type='oper', dtype=Dense, isherm=False$$\\left(\\begin{array}{cc}0 & 0 & 0\\\\0 & 0 & 0\\\\0 & 1 & 0\\end{array}\\right)$$"
      ],
      "text/plain": [
       "Quantum object: dims=[[3], [3]], shape=(3, 3), type='oper', dtype=Dense, isherm=False\n",
       "Qobj data =\n",
       "[[0. 0. 0.]\n",
       " [0. 0. 0.]\n",
       " [0. 1. 0.]]"
      ]
     },
     "execution_count": 28,
     "metadata": {},
     "output_type": "execute_result"
    }
   ],
   "source": [
    "# this is basically the outer product of the states, which forms a coupling term\n",
    "ground * excited.dag()"
   ]
  },
  {
   "cell_type": "code",
   "execution_count": 36,
   "metadata": {},
   "outputs": [],
   "source": [
    "N = 2 # Set where to truncate Fock state for cavity\n",
    "sigma_ge = tensor(qeye(N), ground * excited.dag())  # |g><e|\n",
    "sigma_ue = tensor(qeye(N), ustate * excited.dag())  # |u><e|\n",
    "a = tensor(destroy(N), qeye(3))\n",
    "ada = tensor(num(N), qeye(3)) # the number op\n",
    "\n",
    "c_ops = []  # Build collapse operators\n",
    "kappa = 1.5 # Cavity decay rate\n",
    "c_ops.append(np.sqrt(kappa) * a)\n",
    "gamma = 6  # Atomic decay rate\n",
    "c_ops.append(np.sqrt(5*gamma/9) * sigma_ue) # Use Rb branching ratio of 5/9 e->u\n",
    "c_ops.append(np.sqrt(4*gamma/9) * sigma_ge) # 4/9 e->g\n",
    "\n",
    "t = np.linspace(-15, 15, 100) # Define time vector\n",
    "psi0 = tensor(basis(N, 0), ustate) # Define initial state\n",
    "\n",
    "state_GG = tensor(basis(N, 1), ground) # Define states on which to project\n",
    "sigma_GG = state_GG * state_GG.dag()\n",
    "state_UU = tensor(basis(N, 0), ustate)\n",
    "sigma_UU = state_UU * state_UU.dag()\n",
    "\n",
    "g = 5  # coupling strength\n",
    "H0 = -g * (sigma_ge.dag() * a + a.dag() * sigma_ge)  # time-independent term: ge transition interaacts with cavity\n",
    "H1 = (sigma_ue.dag() + sigma_ue)  # time-dependent term: ue transition driven externally"
   ]
  },
  {
   "cell_type": "code",
   "execution_count": 46,
   "metadata": {},
   "outputs": [],
   "source": [
    "def H1_coeff(t):\n",
    "    return 9 * np.exp(-(t / 5.) ** 2)\n",
    "\n",
    "H = [H0, [H1, H1_coeff]]\n",
    "output = mesolve(H, psi0, t, c_ops, e_ops=[ada, sigma_UU, sigma_GG])"
   ]
  },
  {
   "cell_type": "code",
   "execution_count": 49,
   "metadata": {},
   "outputs": [
    {
     "data": {
      "text/plain": [
       "Text(0.5, 0, 'Time')"
      ]
     },
     "execution_count": 49,
     "metadata": {},
     "output_type": "execute_result"
    },
    {
     "data": {
      "image/png": "[encoded data removed]",
      "text/plain": [
       "<Figure size 800x500 with 1 Axes>"
      ]
     },
     "metadata": {},
     "output_type": "display_data"
    }
   ],
   "source": [
    "fig, ax = plt.subplots(figsize=(8, 5))\n",
    "ax.plot(t, output.expect[0], label=\"N\")\n",
    "ax.plot(t, output.expect[1], label=\"U\")\n",
    "ax.plot(t, output.expect[2], label=\"G\")\n",
    "ax.legend()\n",
    "ax.set_xlabel(\"Time\")"
   ]
  },
  {
   "cell_type": "markdown",
   "metadata": {},
   "source": [
    "### Emission/absorption of single photons by four-level atom\n",
    "See \"Time-Reversal-Symmetric Single-Photon Wave Packets for Free-Space\n",
    " Quantum Communication\""
   ]
  },
  {
   "cell_type": "code",
   "execution_count": null,
   "metadata": {},
   "outputs": [],
   "source": [
    "# I believe it is assumed in what follows that atomic emission is pi polarizaed,\n",
    "# which is converted to radial polarization by a deep parabolic mirror,\n",
    "# or reciprocally, incident polarization converted into pi emission to\n",
    "# be absorbed by an atom. in this way, we can ignore emission into\n",
    "# unwanted spatial modes, making this cavity-esque. maybe\n",
    "\n",
    "# atomic states (fig. 2 in the paper)\n",
    "g1state = basis(4, 0) # column vector (1, 0, 0, 0)\n",
    "hstate = basis(4, 1) # column vector (0, 1, 0, 0)\n",
    "rstate = basis(4, 2) # column vector (0, 0, 1, 0)\n",
    "g2state = basis(4, 3) # column vector (0, 0, 0, 1)\n",
    "\n",
    "N = 1 # number of photons that can be emitted/absorbed\n",
    "sigma_g1h = tensor(qeye(N), g1state * hstate.dag())  # |g1><h|\n",
    "sigma_rh = tensor(qeye(N), rstate * hstate.dag())  # |r><h|\n",
    "sigma_g2r = tensor(qeye(N), g2state * rstate.dag())  # |g2><r|\n",
    "\n",
    "a = tensor(destroy(N), qeye(3)) # annihilation\n",
    "ada = tensor(num(N), qeye(3)) # the number op\n",
    "\n",
    "gamma = 6  # Atomic decay rate from r to g2\n",
    "c_ops = []  # Build collapse operators\n",
    "c_ops.append(np.sqrt(gamma) * a) # photon collapse on g2->r\n",
    "c_ops.append(np.sqrt(gamma) * sigma_g2r) # assume h is metastable\n",
    "\n",
    "t = np.linspace(-15, 15, 100) # Define time vector\n",
    "psi0 = tensor(basis(N, 0), g1state) # Define initial state\n",
    "\n",
    "# Define atom-photon states on which to project\n",
    "state_g1 = tensor(basis(N, 0), g1state) \n",
    "state_h = tensor(basis(N, 0), hstate) \n",
    "state_r = tensor(basis(N, 0), rstate) \n",
    "state_g2 = tensor(basis(N, 1), g2state)\n",
    "\n",
    "# Projectors\n",
    "proj_g1 = state_g1 * state_g1.dag()\n",
    "proj_h = state_h * state_h.dag()\n",
    "proj_r = state_r * state_r.dag()\n",
    "proj_g2 = state_g2 * state_g2.dag()\n",
    "\n",
    "Edotd = ?\n",
    "H_quantized = Edotd * (sigma_g2r.dag() * a + a.dag() * sigma_g2r)  # time-independent term: ge transition interaacts with cavity\n",
    "H_classical = (sigma_ue.dag() + sigma_ue)  # time-dependent term: ue transition driven externally"
   ]
  },
  {
   "cell_type": "markdown",
   "metadata": {
    "jp-MarkdownHeadingCollapsed": true
   },
   "source": [
    "### 3-level atom STIRAP"
   ]
  },
  {
   "cell_type": "code",
   "execution_count": 26,
   "metadata": {},
   "outputs": [],
   "source": [
    "ustate = basis(3, 0) # column vector (1, 0, 0)\n",
    "excited = basis(3, 1) # column vector (0, 1, 0)\n",
    "ground = basis(3, 2) # column vector (0, 0, 1)"
   ]
  },
  {
   "cell_type": "code",
   "execution_count": 27,
   "metadata": {},
   "outputs": [
    {
     "data": {
      "text/latex": [
       "Quantum object: dims=[[3], [1]], shape=(3, 1), type='ket', dtype=Dense$$\\left(\\begin{array}{cc}1\\\\0\\\\0\\end{array}\\right)$$"
      ],
      "text/plain": [
       "Quantum object: dims=[[3], [1]], shape=(3, 1), type='ket', dtype=Dense\n",
       "Qobj data =\n",
       "[[1.]\n",
       " [0.]\n",
       " [0.]]"
      ]
     },
     "execution_count": 27,
     "metadata": {},
     "output_type": "execute_result"
    }
   ],
   "source": [
    "ustate"
   ]
  },
  {
   "cell_type": "code",
   "execution_count": 28,
   "metadata": {},
   "outputs": [
    {
     "data": {
      "text/latex": [
       "Quantum object: dims=[[3], [3]], shape=(3, 3), type='oper', dtype=Dense, isherm=False$$\\left(\\begin{array}{cc}0 & 0 & 0\\\\0 & 0 & 0\\\\0 & 1 & 0\\end{array}\\right)$$"
      ],
      "text/plain": [
       "Quantum object: dims=[[3], [3]], shape=(3, 3), type='oper', dtype=Dense, isherm=False\n",
       "Qobj data =\n",
       "[[0. 0. 0.]\n",
       " [0. 0. 0.]\n",
       " [0. 1. 0.]]"
      ]
     },
     "execution_count": 28,
     "metadata": {},
     "output_type": "execute_result"
    }
   ],
   "source": [
    "# this is basically the outer product of the states, which forms a coupling term\n",
    "ground * excited.dag()"
   ]
  },
  {
   "cell_type": "code",
   "execution_count": 36,
   "metadata": {},
   "outputs": [],
   "source": [
    "N = 2 # Set where to truncate Fock state for cavity\n",
    "sigma_ge = tensor(qeye(N), ground * excited.dag())  # |g><e|\n",
    "sigma_ue = tensor(qeye(N), ustate * excited.dag())  # |u><e|\n",
    "a = tensor(destroy(N), qeye(3))\n",
    "ada = tensor(num(N), qeye(3)) # the number op\n",
    "\n",
    "c_ops = []  # Build collapse operators\n",
    "kappa = 1.5 # Cavity decay rate\n",
    "c_ops.append(np.sqrt(kappa) * a)\n",
    "gamma = 6  # Atomic decay rate\n",
    "c_ops.append(np.sqrt(5*gamma/9) * sigma_ue) # Use Rb branching ratio of 5/9 e->u\n",
    "c_ops.append(np.sqrt(4*gamma/9) * sigma_ge) # 4/9 e->g\n",
    "\n",
    "t = np.linspace(-15, 15, 100) # Define time vector\n",
    "psi0 = tensor(basis(N, 0), ustate) # Define initial state\n",
    "\n",
    "state_GG = tensor(basis(N, 1), ground) # Define states on which to project\n",
    "sigma_GG = state_GG * state_GG.dag()\n",
    "state_UU = tensor(basis(N, 0), ustate)\n",
    "sigma_UU = state_UU * state_UU.dag()\n",
    "\n",
    "g = 5  # coupling strength\n",
    "H0 = -g * (sigma_ge.dag() * a + a.dag() * sigma_ge)  # time-independent term: ge transition interaacts with cavity\n",
    "H1 = (sigma_ue.dag() + sigma_ue)  # time-dependent term: ue transition driven externally"
   ]
  },
  {
   "cell_type": "code",
   "execution_count": 46,
   "metadata": {},
   "outputs": [],
   "source": [
    "def H1_coeff(t):\n",
    "    return 9 * np.exp(-(t / 5.) ** 2)\n",
    "\n",
    "H = [H0, [H1, H1_coeff]]\n",
    "output = mesolve(H, psi0, t, c_ops, e_ops=[ada, sigma_UU, sigma_GG])"
   ]
  },
  {
   "cell_type": "code",
   "execution_count": 49,
   "metadata": {},
   "outputs": [
    {
     "data": {
      "text/plain": [
       "Text(0.5, 0, 'Time')"
      ]
     },
     "execution_count": 49,
     "metadata": {},
     "output_type": "execute_result"
    },
    {
     "data": {
      "image/png": "[encoded data removed]",
      "text/plain": [
       "<Figure size 800x500 with 1 Axes>"
      ]
     },
     "metadata": {},
     "output_type": "display_data"
    }
   ],
   "source": [
    "fig, ax = plt.subplots(figsize=(8, 5))\n",
    "ax.plot(t, output.expect[0], label=\"N\")\n",
    "ax.plot(t, output.expect[1], label=\"U\")\n",
    "ax.plot(t, output.expect[2], label=\"G\")\n",
    "ax.legend()\n",
    "ax.set_xlabel(\"Time\")"
   ]
  },
  {
   "cell_type": "code",
   "execution_count": 13,
   "metadata": {},
   "outputs": [
    {
     "ename": "TypeError",
     "evalue": "must be real number, not function",
     "output_type": "error",
     "traceback": [
      "\u001b[1;31m---------------------------------------------------------------------------\u001b[0m",
      "\u001b[1;31mTypeError\u001b[0m                                 Traceback (most recent call last)",
      "Cell \u001b[1;32mIn[13], line 12\u001b[0m\n\u001b[0;32m      9\u001b[0m Delta1 \u001b[38;5;241m=\u001b[39m \u001b[38;5;241m0.1\u001b[39m\u001b[38;5;241m*\u001b[39mOmax \u001b[38;5;66;03m# (finite to prevent 1/0 error in D2)\u001b[39;00m\n\u001b[0;32m     10\u001b[0m Delta2 \u001b[38;5;241m=\u001b[39m \u001b[38;5;241m-\u001b[39mDelta1 \n\u001b[1;32m---> 12\u001b[0m H_q \u001b[38;5;241m=\u001b[39m QobjEvo(\u001b[43mnp\u001b[49m\u001b[38;5;241;43m.\u001b[39;49m\u001b[43marray\u001b[49m\u001b[43m(\u001b[49m\u001b[43m[\u001b[49m\u001b[43m[\u001b[49m\u001b[38;5;241;43m0\u001b[39;49m\u001b[43m,\u001b[49m\u001b[43mOmega1\u001b[49m\u001b[43m,\u001b[49m\u001b[38;5;241;43m0\u001b[39;49m\u001b[43m]\u001b[49m\u001b[43m,\u001b[49m\u001b[43m[\u001b[49m\u001b[43mOmega1\u001b[49m\u001b[43m,\u001b[49m\u001b[43mDelta1\u001b[49m\u001b[43m,\u001b[49m\u001b[43m \u001b[49m\u001b[43mOmega2\u001b[49m\u001b[43m]\u001b[49m\u001b[43m,\u001b[49m\u001b[43m[\u001b[49m\u001b[38;5;241;43m0\u001b[39;49m\u001b[43m,\u001b[49m\u001b[43mOmega2\u001b[49m\u001b[43m,\u001b[49m\u001b[43m \u001b[49m\u001b[43mDelta2\u001b[49m\u001b[43m]\u001b[49m\u001b[43m]\u001b[49m\u001b[43m,\u001b[49m\u001b[43mdtype\u001b[49m\u001b[38;5;241;43m=\u001b[39;49m\u001b[38;5;28;43mcomplex\u001b[39;49m\u001b[43m)\u001b[49m)\n\u001b[0;32m     14\u001b[0m psi_0 \u001b[38;5;241m=\u001b[39m basis(\u001b[38;5;241m3\u001b[39m,\u001b[38;5;241m0\u001b[39m)\n\u001b[0;32m     15\u001b[0m t_list \u001b[38;5;241m=\u001b[39m np\u001b[38;5;241m.\u001b[39mlinspace(\u001b[38;5;241m0\u001b[39m,\u001b[38;5;241m10\u001b[39m,\u001b[38;5;241m1000\u001b[39m)\n",
      "\u001b[1;31mTypeError\u001b[0m: must be real number, not function"
     ]
    }
   ],
   "source": [
    "w = 10\n",
    "dt = 20\n",
    "t_exp = 120\n",
    "\n",
    "Omax = 2*np.pi*.4 # this width and amplitude give A = 2*pi\n",
    "Omega2 = lambda t: Omax*e**(-((t+dt/2)/w)**2/2)\n",
    "Omega1 = lambda t: Omax* e**(-((t-dt/2)/w)**2/2)\n",
    "\n",
    "Delta1 = 0.1*Omax # (finite to prevent 1/0 error in D2)\n",
    "Delta2 = -Delta1 \n",
    "\n",
    "# construct the time-dependent Hamiltonian\n",
    "\n",
    "H_q = QobjEvo(np.array([[0,Omega1,0],[Omega1,Delta1, Omega2],[0,Omega2, Delta2]],dtype=complex))\n",
    "\n",
    "psi_0 = basis(3,0)\n",
    "t_list = np.linspace(0,10,1000)\n",
    "\n",
    "gamma1 = 0.3\n",
    "gamma2 = 0.01\n",
    "dec_op1 = np.sqrt(gamma)*Qobj([[0,1,0],[0,0,0],[0,0,0]])\n",
    "dec_op2 = np.sqrt(gamma)*Qobj([[0,0,1],[0,0,0],[0,0,0]])\n",
    "\n",
    "results = mesolve(H_q,psi_0,t_list) #[dec_op1, dec_op2],[])"
   ]
  },
  {
   "cell_type": "code",
   "execution_count": 15,
   "metadata": {},
   "outputs": [
    {
     "data": {
      "text/latex": [
       "Quantum object: dims=[[2], [2]], shape=(2, 2), type='oper', dtype=Dia, isherm=False$$\\left(\\begin{array}{cc}0 & 1\\\\0 & 0\\end{array}\\right)$$"
      ],
      "text/plain": [
       "Quantum object: dims=[[2], [2]], shape=(2, 2), type='oper', dtype=Dia, isherm=False\n",
       "Qobj data =\n",
       "[[0. 1.]\n",
       " [0. 0.]]"
      ]
     },
     "execution_count": 15,
     "metadata": {},
     "output_type": "execute_result"
    }
   ],
   "source": []
  },
  {
   "cell_type": "code",
   "execution_count": 16,
   "metadata": {},
   "outputs": [
    {
     "data": {
      "text/plain": [
       "array([[1, 0, 0],\n",
       "       [0, 0, 0],\n",
       "       [0, 0, 0]])"
      ]
     },
     "execution_count": 16,
     "metadata": {},
     "output_type": "execute_result"
    }
   ],
   "source": [
    "np.outer([1,0,0],[1,0,0])"
   ]
  },
  {
   "cell_type": "code",
   "execution_count": 21,
   "metadata": {},
   "outputs": [
    {
     "data": {
      "text/plain": [
       "array([[0, 0, 0],\n",
       "       [1, 0, 0],\n",
       "       [0, 0, 0]])"
      ]
     },
     "execution_count": 21,
     "metadata": {},
     "output_type": "execute_result"
    }
   ],
   "source": [
    "np.outer([1,0,0],[0,1,0]).transpose()"
   ]
  },
  {
   "cell_type": "code",
   "execution_count": null,
   "metadata": {},
   "outputs": [],
   "source": []
  }
 ],
 "metadata": {
  "kernelspec": {
   "display_name": "Python 3 (ipykernel)",
   "language": "python",
   "name": "python3"
  },
  "language_info": {
   "codemirror_mode": {
    "name": "ipython",
    "version": 3
   },
   "file_extension": ".py",
   "mimetype": "text/x-python",
   "name": "python",
   "nbconvert_exporter": "python",
   "pygments_lexer": "ipython3",
   "version": "3.9.6"
  }
 },
 "nbformat": 4,
 "nbformat_minor": 4
}
