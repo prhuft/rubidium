{
 "cells": [
  {
   "cell_type": "code",
   "execution_count": 2,
   "metadata": {},
   "outputs": [],
   "source": [
    "from numpy import *\n",
    "from matplotlib import pyplot as plt\n",
    "from scipy.integrate import solve_ivp\n",
    "import sympy\n",
    "from sympy.physics.wigner import wigner_6j,wigner_3j,clebsch_gordan\n",
    "import time\n",
    "\n",
    "from physconsts import *\n",
    "from rbconsts import *\n",
    "from amophys import cc"
   ]
  },
  {
   "cell_type": "code",
   "execution_count": 6,
   "metadata": {},
   "outputs": [],
   "source": [
    "#### functions \n",
    "\n",
    "def derivs(y0,t,O1,O2,D1,D2):\n",
    "    \"\"\" Returns RHS of optical bloch eqs for current values at time t\"\"\"\n",
    "    rgg,ree,reg = y0\n",
    "#     O1,2; D1,2= params # Rabi freq, detuning\n",
    "    \n",
    "    # time derivatives of density op elements; non-redundant eqs only\n",
    "    dr11 = .5*1j*O1*(cc(r12) - r12)\n",
    "    dr12 = -.5*1j*(O1*r11 + 2*D1*r12 + O2*r13 - O1*r22)\n",
    "    dr13 = -.5*1j*(O2*r12 + 2*(D1 + D2)*r13 - O1*r23)\n",
    "    dr22 = .5*1j*(-O1*cc(r12) + O2*cc(r23) + O1*r12 - O2*r23)\n",
    "    dr23 = .5*1j*(O1*r13 - O2*r22 - 2*D2*r23 + O2*r33)\n",
    "    dr33 = .5*1j*O2*(r23 - cc(r23))\n",
    "    \n",
    "    return array([dr11,dr12,dr13,dr22,dr23,dr33])"
   ]
  },
  {
   "cell_type": "code",
   "execution_count": null,
   "metadata": {},
   "outputs": [],
   "source": [
    "#### setup the system\n",
    "\n",
    "D1 = 1 # arb units\n",
    "D2 = -1 # two-photon D is 0\n",
    "O1 = 1 # arb units\n",
    "O2 = 1\n",
    "\n",
    "t_exp = 10 # experiment duration\n",
    "t = np.arange(t_exp,step=dt)\n",
    "\n",
    "func = lambda y,t: derivs(y0,t,O1,O2,D1,D2)\n",
    "\n",
    "fig = plt.figure()\n",
    "ax = fig.add_subplot(111)\n",
    "ax.set_ylim((0,1))\n",
    "ax.set_xlim((0,t_exp))\n",
    "ax.set_title('Rabi oscillations w/o spontaneous emission')\n",
    "ax.set_xlabel('time [gamma]')\n",
    "ax.set_ylabel('Excitation probability')\n",
    "ax.legend(loc='upper right')\n",
    "plt.show()"
   ]
  }
 ],
 "metadata": {
  "kernelspec": {
   "display_name": "Python 3",
   "language": "python",
   "name": "python3"
  },
  "language_info": {
   "codemirror_mode": {
    "name": "ipython",
    "version": 3
   },
   "file_extension": ".py",
   "mimetype": "text/x-python",
   "name": "python",
   "nbconvert_exporter": "python",
   "pygments_lexer": "ipython3",
   "version": "3.7.3"
  }
 },
 "nbformat": 4,
 "nbformat_minor": 2
}
