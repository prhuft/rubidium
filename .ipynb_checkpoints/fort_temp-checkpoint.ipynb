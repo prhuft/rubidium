{
 "cells": [
  {
   "cell_type": "markdown",
   "metadata": {},
   "source": [
    "# FORT drop recapture experiment \n",
    "Preston Huft, August 2019\n",
    "\n",
    "Methodology from code by M. Saffman, and Grainger \n",
    " "
   ]
  },
  {
   "cell_type": "code",
   "execution_count": 1,
   "metadata": {},
   "outputs": [
    {
     "data": {
      "text/html": [
       "<style>.container{width:100% !important;}</style>"
      ],
      "text/plain": [
       "<IPython.core.display.HTML object>"
      ]
     },
     "metadata": {},
     "output_type": "display_data"
    }
   ],
   "source": [
    "# %matplotlib notebook\n",
    "\n",
    "## libraries\n",
    "from matplotlib import pyplot as plt\n",
    "import numpy as np\n",
    "from numpy import linspace,empty,sin,cos,log,exp,sqrt,meshgrid,array\n",
    "from numpy.random import normal\n",
    "from scipy.optimize import curve_fit\n",
    "from math import pi,e\n",
    "from random import random as rand\n",
    "\n",
    "## other files\n",
    "from physconsts import *\n",
    "from rbconsts import *\n",
    "from rbensemble import RbEnsemble as ensemble\n",
    "\n",
    "## make the display wide\n",
    "from IPython.core.display import display,HTML\n",
    "display(HTML(\"<style>.container{width:100% !important;}</style>\"))"
   ]
  },
  {
   "cell_type": "code",
   "execution_count": 2,
   "metadata": {},
   "outputs": [],
   "source": [
    "class dipole_trap: # class now lives in amophys.py\n",
    "    \n",
    "    def __init__(self,wx,Tdepth,Tatom,wy=None):\n",
    "        self.wx = wx\n",
    "        self.Tdepth = Tdepth\n",
    "        self.T = Tatom\n",
    "        if wy is None:\n",
    "            self.wy = wx\n",
    "        \n",
    "        # FORT and atom parameter stuff\n",
    "        self.umax = kB*self.Tdepth # the maximum FORT depth\n",
    "        self.lmbda = 1.064e-6 # the trap wavelength\n",
    "\n",
    "        self.zR = pi*wx**2/self.lmbda\n",
    "        self.omega_r = (1/sqrt((self.wx**2+self.wy**2)/2))*sqrt(2*kB*self.Tdepth/mRb) # radial trap frequency \n",
    "        self.omega_z = (1/self.zR)*sqrt(2*kB*self.Tdepth/mRb) # axial trap frequency\n",
    "        print(f\"omega_r = {self.omega_r*1e-3:.3f} kHz, omega_z = {self.omega_z*1e-3:.3f} kHz\")\n",
    "\n",
    "    def U(self,x,y,z):\n",
    "        \"\"\" the potential energy as a function of space in the dipole trap \"\"\"\n",
    "        zR = self.zR\n",
    "        wx = self.wx\n",
    "        wy = self.wy\n",
    "        ww = (1+z**2/zR**2) \n",
    "        umax = self.umax\n",
    "        return -umax*exp(-2*x**2/(wx**2*ww)-2*y**2/(wy**2*ww))/ww \n",
    "    \n",
    "    def xdist(self,events,plane=None):\n",
    "        \"\"\" velocity component distributions \"\"\"\n",
    "        # Grainger group method\n",
    "        omega_r = self.omega_r\n",
    "        omega_z = self.omega_z\n",
    "        T = self.T\n",
    "        dx = dy = sqrt(kB*T/(mRb*omega_r**2))\n",
    "        dz = sqrt(kB*T/(mRb*omega_z**2))\n",
    "        zlist = normal(0,dz,size=events)\n",
    "        xlist = normal(0,dx,size=events)\n",
    "        ylist = normal(0,dy,size=events)\n",
    "        \n",
    "        if plane is 'xz':\n",
    "            return xlist,zlist\n",
    "        else:\n",
    "            return xlist,ylist,zlist\n",
    "    \n",
    "    def vdist(self,events):\n",
    "        \"\"\" maxwell boltzmann speeds \"\"\"\n",
    "        umax = self.umax\n",
    "        atoms = ensemble(self.T)\n",
    "        \n",
    "        vlist = atoms.sampling_maxboltzv(events,[0,2]) # speeds\n",
    "\n",
    "        vxlist = empty(events)\n",
    "        vylist = empty(events)\n",
    "        vzlist = empty(events)\n",
    "        \n",
    "        for i in range(events):\n",
    "            ex = 2*rand()-1\n",
    "            ey = 2*rand()-1\n",
    "            ez = 2*rand()-1\n",
    "            v = vlist[i]\n",
    "            A = sqrt(ex**2+ey**2+ez**2)\n",
    "            vxlist[i] = ex*v/A\n",
    "            vylist[i] = ey*v/A\n",
    "            vzlist[i] = ez*v/A\n",
    "            \n",
    "#         vlist = array([sqrt(vx**2+vy**2+vx**2) for vx,vy,vz in zip(vxlist,vylist,vzlist)])\n",
    "#         plt.hist(vlist, 50, density=True) # show maxwell boltzmann speed dist\n",
    "#         plt.xlabel('v')\n",
    "#         plt.ylabel('occurences')\n",
    "#         plt.show()\n",
    "\n",
    "        return vxlist,vylist,vzlist\n",
    "    \n",
    "    def distplot(self,events):\n",
    "        \"\"\" show atoms in FORT in z = 0 plane before drop and recapture \"\"\"\n",
    "        mu = 1e-6\n",
    "        wx = self.wx\n",
    "        zR = self.zR\n",
    "        print(f\"zr={zR/mu:.0f} [um], wx={wx/mu:.0f} [um]\")\n",
    "        \n",
    "        xlist,ylist = self.xdist(events,plane='xz') # positions in [m]\n",
    "        \n",
    "        s = 1.5 # units waist or rayleigh length\n",
    "        xpts = linspace(-s*wx,s*wx,100)\n",
    "        zpts = linspace(-s*zR,s*zR,100)\n",
    "        xx,zz = meshgrid(xpts,zpts)\n",
    "        fpts = -self.U(xx,0,zz) # the fort intensity eval'd on the meshgrid\n",
    "        plt.contourf(xpts/mu,zpts/mu,fpts)\n",
    "        plt.scatter(xlist/mu,ylist/mu,color='red')\n",
    "        plt.xlabel(\"x\")\n",
    "        plt.ylabel(\"z\")\n",
    "#         plt.axes().set_aspect('equal')\n",
    "        plt.show() \n",
    "\n",
    "    def drop_recap(self,tlist,T=None,events=None,base_retention=None,\n",
    "            progress=False):\n",
    "        \"\"\" Procedure for simulating a release (\"drop\") and recapture experiment\n",
    "            to deduce the temperature of actual atoms in such an experiment. \n",
    "        \n",
    "            Based on code by Mark, with some corrections\n",
    "            'wx': waist\n",
    "            'Tdepth': FORT temperature depth\n",
    "            'T': atom temp\n",
    "            'tmax': max time in units us\n",
    "            'steps': number of FORT drop outs\n",
    "            'events': number of release-recapture events per data pt\n",
    "            'wy': optional waist for eliptical FORT \n",
    "        \"\"\"\n",
    "      \n",
    "        Tdepth = self.Tdepth\n",
    "        wx = self.wx\n",
    "        umax = self.umax\n",
    "        zR = self.zR\n",
    "        tlist = 1e-6*tlist\n",
    "\n",
    "        if T is None:\n",
    "            T = self.T\n",
    "        if events is None:\n",
    "            events = 2000\n",
    "        if base_retention is None:\n",
    "            base_retention = 1 # the retention baseline with no fort drop\n",
    "\n",
    "        retention = empty(len(tlist))\n",
    "   \n",
    "        xlist,ylist,zlist = self.xdist(events)\n",
    "        vzlist,vxlist,vylist = self.vdist(events)\n",
    "\n",
    "        for j,t in enumerate(tlist):\n",
    "\n",
    "            escape = 0 \n",
    "            nhot = 0 # this is an untrapped atom\n",
    "\n",
    "            for i in range(events):     \n",
    "                hot = 0\n",
    "                KE = .5*mRb*((vxlist[i]-g*t)**2+vylist[i]**2\n",
    "                              +vzlist[i]**2)\n",
    "                PE0 = self.U(xlist[i],ylist[i],zlist[i])\n",
    "                PE = self.U(xlist[i]+t*vxlist[i]+.5*g*(t)**2,\n",
    "                       ylist[i]+t*vylist[i],\n",
    "                       zlist[i]+t*vzlist[i])\n",
    "\n",
    "                if KE + PE0 > 0:\n",
    "                    hot = 1\n",
    "                nhot += hot\n",
    "                if KE + PE > 0:\n",
    "                    escape += 1-hot\n",
    "            retention[j] = base_retention*(1 - escape/events)\n",
    "            \n",
    "            if progress is not False:\n",
    "                if j % 10 == 0:\n",
    "                    print(f\"timestep {j}: t = {t*1e6:.0f} [us], ret = {retention[j]:.2f}\")\n",
    "\n",
    "#         plt.plot(tlist*1e6,retention,label=f'{T/1e-6:.0f} uK') # show time in units [us]\n",
    "#         plt.xlabel(\"time [us]\")\n",
    "#         plt.ylabel(\"retention\")\n",
    "#         plt.ylim((0,1))\n",
    "#         plt.legend()\n",
    "#         plt.show()        \n",
    "        \n",
    "        print(f\"finished. T={T*1e6} [uK], r = {base_retention}\")\n",
    "        return tlist*1e6,retention\n",
    "    \n",
    "    def curvefit(self,tdata,rdata):\n",
    "        \"\"\" For using the release_recap procedure to fit real data.\n",
    "            \n",
    "            tdata: time pts from data\n",
    "            rdata: retention pts data\n",
    "        \"\"\"\n",
    "        def f(tlist,T,r):\n",
    "            \"\"\"\n",
    "                tlist: times [s]\n",
    "                T: atom temp [K]\n",
    "                r: baseline retention in (0,1]\n",
    "            \"\"\"\n",
    "            \n",
    "            t,y = self.drop_recap(tlist,T=T,base_retention=r)\n",
    "            return y\n",
    "        \n",
    "        p0=[self.T,1] # scale up the temp \n",
    "        popt,pcov = curve_fit(f,tdata,rdata,p0,\n",
    "                              absolute_sigma=True)\n",
    "        \n",
    "        Topt,ropt = popt # the optimum parameters\n",
    "        \n",
    "        print(f\"T_fit = {Topt*1e6:.0f}\")\n",
    "        tlist,ret=self.drop_recap(tdata,T=Topt,base_retention=ropt)\n",
    "        \n",
    "        plt.plot(tlist,ret,label=f\"T_fit = {Topt*1e6:.0f}\")\n",
    "        plt.scatter(tdata,rdata,label='real live data',color='r')\n",
    "        plt.show()\n",
    "        \n",
    "        return tlist,ret\n",
    "    "
   ]
  },
  {
   "cell_type": "code",
   "execution_count": 3,
   "metadata": {
    "scrolled": false
   },
   "outputs": [
    {
     "name": "stdout",
     "output_type": "stream",
     "text": [
      "omega_r = 216.095 kHz, omega_z = 29.275 kHz\n",
      "finished. T=30.0 [uK], r = 0.95\n"
     ]
    }
   ],
   "source": [
    "# a test with 30 uK atoms\n",
    "w0 = 2.5e-6 # [m]\n",
    "TFORT = 1.5e-3 # [K]\n",
    "Tatom = 3e-5 # [K]\n",
    "steps = 100\n",
    "tlist = linspace(0,160,steps) # time [us]\n",
    "tempexp = dipole_trap(w0,TFORT,Tatom)\n",
    "# tempexp.distplot(100) # example of atoms in xz plane of FORT at t=0\n",
    "tlist,reten = tempexp.drop_recap(tlist,base_retention=.95)"
   ]
  },
  {
   "cell_type": "code",
   "execution_count": 4,
   "metadata": {},
   "outputs": [
    {
     "data": {
      "image/png": "[encoded data removed]",
      "text/plain": [
       "<Figure size 432x288 with 1 Axes>"
      ]
     },
     "metadata": {
      "needs_background": "light"
     },
     "output_type": "display_data"
    }
   ],
   "source": [
    "t_data = array([0.0, 2.0, 4.0, 8.0, 10.0, 12.0, 14.0, 16.0, 18.0, \n",
    "                20.0, 40.0, 60.0, 80.0, 100.0, 120.0, 140.0, 160.0])\n",
    "ret_data = [0.92079207920792083, 0.94999999999999996, 0.93000000000000005, \n",
    "            0.89000000000000001, 0.93999999999999995, 0.90000000000000002, \n",
    "            0.93999999999999995, 0.84999999999999998, 0.85999999999999999, \n",
    "            0.81000000000000005, 0.67000000000000004, 0.39000000000000001, \n",
    "            0.28712871287128711, 0.27000000000000002, 0.16, 0.10000000000000001, \n",
    "            0.089999999999999997]\n",
    "\n",
    "plt.scatter(t_data,ret_data,label='real live data',color='r')\n",
    "plt.plot(tlist,reten,label=f'{tempexp.T/1e-6:.0f} uK') # show time in units [us]\n",
    "plt.xlabel(\"time [us]\")\n",
    "plt.ylabel(\"retention\")\n",
    "plt.ylim((0,1.05))\n",
    "plt.legend()\n",
    "plt.show()"
   ]
  },
  {
   "cell_type": "code",
   "execution_count": 6,
   "metadata": {},
   "outputs": [
    {
     "name": "stdout",
     "output_type": "stream",
     "text": [
      "omega_r = 216.095 kHz, omega_z = 29.275 kHz\n",
      "finished. T=30.0 [uK], r = 1.0\n",
      "finished. T=30.0 [uK], r = 1.0\n",
      "finished. T=30.0 [uK], r = 1.0\n",
      "finished. T=30.000000447034836 [uK], r = 1.0\n",
      "finished. T=30.0 [uK], r = 1.0000000149011612\n",
      "finished. T=30.000000263517236 [uK], r = 1.0000000679269274\n",
      "finished. T=30.000000710552076 [uK], r = 1.0000000679269274\n",
      "finished. T=30.000000263517236 [uK], r = 1.0000000828280897\n",
      "finished. T=29.99999961657306 [uK], r = 1.0000000728400462\n",
      "finished. T=29.99999961657306 [uK], r = 1.0000000728400462\n",
      "T_fit = 30\n",
      "finished. T=29.99999961657306 [uK], r = 1.0000000728400462\n"
     ]
    },
    {
     "data": {
      "image/png": "[encoded data removed]",
      "text/plain": [
       "<Figure size 432x288 with 1 Axes>"
      ]
     },
     "metadata": {
      "needs_background": "light"
     },
     "output_type": "display_data"
    }
   ],
   "source": [
    "# try to fit the datas \n",
    "t_data = array([0.0, 2.0, 4.0, 8.0, 10.0, 12.0, 14.0, 16.0, 18.0, \n",
    "                20.0, 40.0, 60.0, 80.0, 100.0, 120.0, 140.0, 160.0])\n",
    "ret_data = [0.92079207920792083, 0.94999999999999996, 0.93000000000000005, \n",
    "            0.89000000000000001, 0.93999999999999995, 0.90000000000000002, \n",
    "            0.93999999999999995, 0.84999999999999998, 0.85999999999999999, \n",
    "            0.81000000000000005, 0.67000000000000004, 0.39000000000000001, \n",
    "            0.28712871287128711, 0.27000000000000002, 0.16, 0.10000000000000001, \n",
    "            0.089999999999999997]\n",
    "\n",
    "w0 = 2.5e-6 # [m]\n",
    "TFORT = 1.5e-3 # [K]\n",
    "Tatom = 3e-5 # [K] # this will be a fit guess\n",
    "steps = 100\n",
    "tempexp = dipole_trap(w0,TFORT,Tatom) \n",
    "tlist,reten = tempexp.curvefit(t_data,ret_data)"
   ]
  },
  {
   "cell_type": "code",
   "execution_count": null,
   "metadata": {},
   "outputs": [],
   "source": []
  }
 ],
 "metadata": {
  "kernelspec": {
   "display_name": "Python 3",
   "language": "python",
   "name": "python3"
  },
  "language_info": {
   "codemirror_mode": {
    "name": "ipython",
    "version": 3
   },
   "file_extension": ".py",
   "mimetype": "text/x-python",
   "name": "python",
   "nbconvert_exporter": "python",
   "pygments_lexer": "ipython3",
   "version": "3.7.3"
  }
 },
 "nbformat": 4,
 "nbformat_minor": 2
}
