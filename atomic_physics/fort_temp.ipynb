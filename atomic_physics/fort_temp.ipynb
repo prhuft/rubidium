{
 "cells": [
  {
   "cell_type": "markdown",
   "metadata": {},
   "source": [
    "# FORT drop recapture experiment \n",
    "Preston Huft, August 2019\n",
    "\n",
    "Methodology from code by M. Saffman, and Grainger \n",
    " "
   ]
  },
  {
   "cell_type": "markdown",
   "metadata": {},
   "source": [
    "## Setup"
   ]
  },
  {
   "cell_type": "code",
   "execution_count": 3,
   "metadata": {},
   "outputs": [
    {
     "name": "stderr",
     "output_type": "stream",
     "text": [
      "C:\\Users\\prest\\AppData\\Local\\Temp\\ipykernel_19792\\843337590.py:22: DeprecationWarning: Importing display from IPython.core.display is deprecated since IPython 7.14, please import from IPython display\n",
      "  from IPython.core.display import display,HTML\n"
     ]
    },
    {
     "data": {
      "text/html": [
       "<style>.container{width:100% !important;}</style>"
      ],
      "text/plain": [
       "<IPython.core.display.HTML object>"
      ]
     },
     "metadata": {},
     "output_type": "display_data"
    }
   ],
   "source": [
    "# %matplotlib notebook\n",
    "\n",
    "## libraries\n",
    "from matplotlib import pyplot as plt\n",
    "import numpy as np\n",
    "from numpy import linspace,empty,sin,cos,log,exp,sqrt,meshgrid,array\n",
    "from numpy.random import normal\n",
    "from scipy.optimize import curve_fit\n",
    "from math import pi,e\n",
    "from random import random as rand\n",
    "\n",
    "import sys, os\n",
    "sys.path.append('..\\\\')\n",
    "sys.path.append('..\\\\utilities')\n",
    "\n",
    "## other files\n",
    "from physconsts import *\n",
    "from rbconsts import *\n",
    "from rbensemble import RbEnsemble as ensemble\n",
    "\n",
    "## make the display wide\n",
    "from IPython.core.display import display,HTML\n",
    "display(HTML(\"<style>.container{width:100% !important;}</style>\"))"
   ]
  },
  {
   "cell_type": "code",
   "execution_count": 62,
   "metadata": {},
   "outputs": [],
   "source": [
    "class dipole_trap: # class now lives in amophys.py\n",
    "    \n",
    "    def __init__(self,wx,Tdepth,Tatom,lmbda,wy=None):\n",
    "        self.wx = wx\n",
    "        self.Tdepth = Tdepth\n",
    "        self.T = Tatom\n",
    "        if wy == None:\n",
    "            self.wy = wx\n",
    "        \n",
    "        # FORT and atom parameter stuff\n",
    "        self.umax = kB*self.Tdepth # the maximum FORT depth\n",
    "        self.lmbda = lmbda # the trap wavelength\n",
    "\n",
    "        self.zR = pi*wx**2/self.lmbda\n",
    "        self.omega_r = (1/sqrt((self.wx**2+self.wy**2)/2))*sqrt(2*kB*self.Tdepth/mRb) # radial trap frequency \n",
    "        self.omega_z = (1/self.zR)*sqrt(2*kB*self.Tdepth/mRb) # axial trap frequency\n",
    "        print(f\"omega_r = {self.omega_r*1e-3:.3f} kHz, omega_z = {self.omega_z*1e-3:.3f} kHz\")\n",
    "\n",
    "    def U(self,x,y,z):\n",
    "        \"\"\" the potential energy as a function of space in the dipole trap \"\"\"\n",
    "        zR = self.zR\n",
    "        wx = self.wx\n",
    "        wy = self.wy\n",
    "        ww = (1+z**2/zR**2) \n",
    "        umax = self.umax\n",
    "        return -umax*exp(-2*x**2/(wx**2*ww)-2*y**2/(wy**2*ww))/ww \n",
    "    \n",
    "    def xdist(self,events,plane=None):\n",
    "        \"\"\" position component distributions \"\"\"\n",
    "        # Grainger group method\n",
    "        omega_r = self.omega_r\n",
    "        omega_z = self.omega_z\n",
    "        T = self.T\n",
    "        dx = dy = sqrt(kB*T/(mRb*omega_r**2))\n",
    "        dz = sqrt(kB*T/(mRb*omega_z**2))\n",
    "        zlist = normal(0,dz,size=events)\n",
    "        xlist = normal(0,dx,size=events)\n",
    "        ylist = normal(0,dy,size=events)\n",
    "        \n",
    "        if plane == 'xz':\n",
    "            return xlist,zlist\n",
    "        else:\n",
    "            return xlist,ylist,zlist\n",
    "    \n",
    "    def vdist(self,events):\n",
    "        \"\"\" maxwell boltzmann speeds \"\"\"\n",
    "        umax = self.umax\n",
    "        atoms = ensemble(self.T)\n",
    "        \n",
    "        vlist = atoms.sampling_maxboltzv(events,[0,2]) # speeds\n",
    "\n",
    "        vxlist = empty(events)\n",
    "        vylist = empty(events)\n",
    "        vzlist = empty(events)\n",
    "        \n",
    "        for i in range(events):\n",
    "            ex = 2*rand()-1\n",
    "            ey = 2*rand()-1\n",
    "            ez = 2*rand()-1\n",
    "            v = vlist[i]\n",
    "            A = sqrt(ex**2+ey**2+ez**2)\n",
    "            vxlist[i] = ex*v/A\n",
    "            vylist[i] = ey*v/A\n",
    "            vzlist[i] = ez*v/A\n",
    "            \n",
    "#         vlist = array([sqrt(vx**2+vy**2+vx**2) for vx,vy,vz in zip(vxlist,vylist,vzlist)])\n",
    "#         plt.hist(vlist, 50, density=True) # show maxwell boltzmann speed dist\n",
    "#         plt.xlabel('v')\n",
    "#         plt.ylabel('occurences')\n",
    "#         plt.show()\n",
    "\n",
    "        return vxlist,vylist,vzlist\n",
    "    \n",
    "    def distplot(self,events, atoms=True, sx=1.5, sz=1.5, color=\"bone\"):\n",
    "        \"\"\" show atoms in FORT in z = 0 plane before drop and recapture \"\"\"\n",
    "        mu = 1e-6\n",
    "        wx = self.wx\n",
    "        zR = self.zR\n",
    "        print(f\"zr={zR/mu:.0f} [um], wx={wx/mu:.0f} [um]\")\n",
    "        \n",
    "        xlist,ylist = self.xdist(events,plane='xz') # positions in [m]\n",
    "        \n",
    "        xpts = linspace(-sx*wx,sx*wx,100)\n",
    "        zpts = linspace(-sz*zR,sz*zR,100)\n",
    "        xx,zz = meshgrid(xpts,zpts)\n",
    "        fpts = -self.U(xx,0,zz) # the fort intensity eval'd on the meshgrid\n",
    "        \n",
    "        cmap = plt.cm.get_cmap(color)\n",
    "        \n",
    "        plt.contourf(xpts/mu,zpts/mu,fpts, cmap=cmap)\n",
    "        if atoms is True: # otherwise, just a dipole trap plot  \n",
    "            plt.scatter(xlist/mu,ylist/mu,color='red')\n",
    "        plt.xlabel(\"x\")\n",
    "        plt.ylabel(\"z\")\n",
    "#         plt.axes().set_aspect('equal')\n",
    "        plt.show() \n",
    "\n",
    "    def drop_recap(self,tlist,T=None,events=None,base_retention=None,\n",
    "            progress=False,quiet=False):\n",
    "        \"\"\" Procedure for simulating a release (\"drop\") and recapture experiment\n",
    "            to deduce the temperature of actual atoms in such an experiment. \n",
    "        \n",
    "            Based on code by Mark, with some corrections\n",
    "            'wx': waist\n",
    "            'Tdepth': FORT temperature depth\n",
    "            'T': atom temp\n",
    "            'tmax': max time in units us\n",
    "            'steps': number of FORT drop outs\n",
    "            'events': number of release-recapture events per data pt\n",
    "            'wy': optional waist for eliptical FORT \n",
    "        \"\"\"\n",
    "      \n",
    "        Tdepth = self.Tdepth\n",
    "        wx = self.wx\n",
    "        umax = self.umax\n",
    "        zR = self.zR\n",
    "        tlist = 1e-6*tlist\n",
    "\n",
    "        if T == None:\n",
    "            T = self.T\n",
    "        if events == None:\n",
    "            events = 2000\n",
    "        if base_retention == None:\n",
    "            base_retention = 1 # the retention baseline with no fort drop\n",
    "\n",
    "        retention = empty(len(tlist))\n",
    "   \n",
    "        xlist,ylist,zlist = self.xdist(events)\n",
    "        vzlist,vxlist,vylist = self.vdist(events)\n",
    "\n",
    "        for j,t in enumerate(tlist):\n",
    "\n",
    "            escape = 0 \n",
    "            nhot = 0 # this is an untrapped atom\n",
    "\n",
    "            for i in range(events):     \n",
    "                hot = 0\n",
    "                KE = .5*mRb*((vxlist[i]-g*t)**2+vylist[i]**2\n",
    "                              +vzlist[i]**2)\n",
    "                PE0 = self.U(xlist[i],ylist[i],zlist[i])\n",
    "                PE = self.U(xlist[i]+t*vxlist[i]+.5*g*(t)**2,\n",
    "                       ylist[i]+t*vylist[i],\n",
    "                       zlist[i]+t*vzlist[i])\n",
    "\n",
    "                if KE + PE0 > 0:\n",
    "                    hot = 1\n",
    "                nhot += hot\n",
    "                if KE + PE > 0:\n",
    "                    escape += 1-hot\n",
    "            retention[j] = base_retention*(1 - escape/events)\n",
    "            \n",
    "            if progress is not False:\n",
    "                if j % 10 == 0:\n",
    "                    print(f\"timestep {j}: t = {t*1e6:.0f} [us], ret = {retention[j]:.2f}\")\n",
    "\n",
    "#         plt.plot(tlist*1e6,retention,label=f'{T/1e-6:.0f} uK') # show time in units [us]\n",
    "#         plt.xlabel(\"time [us]\")\n",
    "#         plt.ylabel(\"retention\")\n",
    "#         plt.ylim((0,1))\n",
    "#         plt.legend()\n",
    "#         plt.show()        \n",
    "        if not quiet:\n",
    "            print(f\"finished. T={T*1e6} [uK], r = {base_retention}\")\n",
    "        return tlist*1e6,retention\n",
    "    \n",
    "    def curvefit(self,tdata,rdata,quiet=True,kwargs={}):\n",
    "        \"\"\" For using the release_recap procedure to fit real data.\n",
    "            \n",
    "            tdata: time pts from data\n",
    "            rdata: retention pts data\n",
    "\n",
    "            returns tlist, rlist, Tatom, retention\n",
    "        \"\"\"\n",
    "        def f(tlist,T,r):\n",
    "            \"\"\"\n",
    "                tlist: times [s]\n",
    "                T: atom temp [K]\n",
    "                r: baseline retention in (0,1]\n",
    "            \"\"\"\n",
    "            \n",
    "            t,y = self.drop_recap(tlist,T=T,base_retention=r,quiet=quiet)\n",
    "            return y\n",
    "        \n",
    "        popt,pcov = curve_fit(f,tdata,rdata,**kwargs)\n",
    "        \n",
    "        Topt,ropt = popt # the optimum parameters\n",
    "        \n",
    "        print(f\"T_fit = {Topt*1e6:.0f}\")\n",
    "        tlist,ret=self.drop_recap(tdata,T=Topt,base_retention=ropt)\n",
    "        \n",
    "        plt.plot(tlist,ret,label=f\"T_fit = {Topt*1e6:.0f}\")\n",
    "        plt.scatter(tdata,rdata,label='real live data',color='r')\n",
    "        plt.show()\n",
    "        \n",
    "        return tlist,ret,Topt,ropt"
   ]
  },
  {
   "cell_type": "markdown",
   "metadata": {},
   "source": [
    "## Run release-recapture simulation"
   ]
  },
  {
   "cell_type": "code",
   "execution_count": 63,
   "metadata": {},
   "outputs": [
    {
     "name": "stdout",
     "output_type": "stream",
     "text": [
      "omega_r = 216.095 kHz, omega_z = 29.275 kHz\n"
     ]
    }
   ],
   "source": [
    "# a test with 30 uK atoms\n",
    "w0 = 2.5e-6 # [m]\n",
    "TFORT = 1.5e-3 # [K]\n",
    "Tatom = 5e-5 # [K]\n",
    "lmbda = 1.064e-6\n",
    "steps = 100\n",
    "tlist = linspace(0,160,steps) # time [us]\n",
    "tempexp = dipole_trap(w0,TFORT,Tatom,lmbda)"
   ]
  },
  {
   "cell_type": "code",
   "execution_count": 29,
   "metadata": {},
   "outputs": [
    {
     "data": {
      "text/plain": [
       "3.227486121839515e-07"
      ]
     },
     "execution_count": 29,
     "metadata": {},
     "output_type": "execute_result"
    }
   ],
   "source": [
    "sqrt(kB*tempexp.T/(mRb*tempexp.omega_r**2))"
   ]
  },
  {
   "cell_type": "code",
   "execution_count": 56,
   "metadata": {},
   "outputs": [
    {
     "name": "stdout",
     "output_type": "stream",
     "text": [
      "omega_r = 216.095 kHz, omega_z = 29.275 kHz\n",
      "finished. T=50.0 [uK], r = 0.95\n"
     ]
    }
   ],
   "source": [
    "tempexp = dipole_trap(w0,TFORT,Tatom)\n",
    "# tempexp.distplot(100) # example of atoms in xz plane of FORT at t=0\n",
    "tlist,reten = tempexp.drop_recap(tlist,base_retention=.95)"
   ]
  },
  {
   "cell_type": "code",
   "execution_count": 57,
   "metadata": {},
   "outputs": [
    {
     "name": "stdout",
     "output_type": "stream",
     "text": [
      "zr=18 [um], wx=3 [um]\n"
     ]
    },
    {
     "name": "stderr",
     "output_type": "stream",
     "text": [
      "C:\\Users\\prest\\AppData\\Local\\Temp\\ipykernel_19792\\2327757920.py:88: MatplotlibDeprecationWarning: The get_cmap function was deprecated in Matplotlib 3.7 and will be removed two minor releases later. Use ``matplotlib.colormaps[name]`` or ``matplotlib.colormaps.get_cmap(obj)`` instead.\n",
      "  cmap = plt.cm.get_cmap(color)\n"
     ]
    },
    {
     "data": {
      "image/png": "[encoded data removed]",
      "text/plain": [
       "<Figure size 640x480 with 1 Axes>"
      ]
     },
     "metadata": {},
     "output_type": "display_data"
    }
   ],
   "source": [
    "tempexp.distplot(100) # example of atoms in xz plane of FORT at t=0"
   ]
  },
  {
   "cell_type": "code",
   "execution_count": 58,
   "metadata": {},
   "outputs": [
    {
     "data": {
      "image/png": "[encoded data removed]",
      "text/plain": [
       "<Figure size 640x480 with 1 Axes>"
      ]
     },
     "metadata": {},
     "output_type": "display_data"
    }
   ],
   "source": [
    "t_data = array([0.0, 2.0, 4.0, 8.0, 10.0, 12.0, 14.0, 16.0, 18.0, \n",
    "                20.0, 40.0, 60.0, 80.0, 100.0, 120.0, 140.0, 160.0])\n",
    "ret_data = [0.92079207920792083, 0.94999999999999996, 0.93000000000000005, \n",
    "            0.89000000000000001, 0.93999999999999995, 0.90000000000000002, \n",
    "            0.93999999999999995, 0.84999999999999998, 0.85999999999999999, \n",
    "            0.81000000000000005, 0.67000000000000004, 0.39000000000000001, \n",
    "            0.28712871287128711, 0.27000000000000002, 0.16, 0.10000000000000001, \n",
    "            0.089999999999999997]\n",
    "\n",
    "plt.scatter(t_data,ret_data,label='real live data',color='r')\n",
    "plt.plot(tlist,reten,label=f'{tempexp.T/1e-6:.0f} uK') # show time in units [us]\n",
    "plt.xlabel(\"time [us]\")\n",
    "plt.ylabel(\"retention\")\n",
    "plt.ylim((0,1.05))\n",
    "plt.legend()\n",
    "plt.show()"
   ]
  },
  {
   "cell_type": "markdown",
   "metadata": {},
   "source": [
    "## Fit real data"
   ]
  },
  {
   "cell_type": "code",
   "execution_count": 52,
   "metadata": {},
   "outputs": [
    {
     "name": "stdout",
     "output_type": "stream",
     "text": [
      "omega_r = 216.095 kHz, omega_z = 29.275 kHz\n"
     ]
    },
    {
     "ename": "TypeError",
     "evalue": "curvefit() missing 1 required positional argument: 'quiet'",
     "output_type": "error",
     "traceback": [
      "\u001b[1;31m---------------------------------------------------------------------------\u001b[0m",
      "\u001b[1;31mTypeError\u001b[0m                                 Traceback (most recent call last)",
      "Cell \u001b[1;32mIn[52], line 16\u001b[0m\n\u001b[0;32m     14\u001b[0m steps \u001b[38;5;241m=\u001b[39m \u001b[38;5;241m100\u001b[39m\n\u001b[0;32m     15\u001b[0m tempexp \u001b[38;5;241m=\u001b[39m dipole_trap(w0,TFORT,Tatom) \n\u001b[1;32m---> 16\u001b[0m tlist,reten \u001b[38;5;241m=\u001b[39m \u001b[43mtempexp\u001b[49m\u001b[38;5;241;43m.\u001b[39;49m\u001b[43mcurvefit\u001b[49m\u001b[43m(\u001b[49m\u001b[43mt_data\u001b[49m\u001b[43m,\u001b[49m\u001b[43mret_data\u001b[49m\u001b[43m)\u001b[49m\n",
      "\u001b[1;31mTypeError\u001b[0m: curvefit() missing 1 required positional argument: 'quiet'"
     ]
    }
   ],
   "source": [
    "# try to fit the datas \n",
    "t_data = array([0.0, 2.0, 4.0, 8.0, 10.0, 12.0, 14.0, 16.0, 18.0, \n",
    "                20.0, 40.0, 60.0, 80.0, 100.0, 120.0, 140.0, 160.0])\n",
    "ret_data = [0.92079207920792083, 0.94999999999999996, 0.93000000000000005, \n",
    "            0.89000000000000001, 0.93999999999999995, 0.90000000000000002, \n",
    "            0.93999999999999995, 0.84999999999999998, 0.85999999999999999, \n",
    "            0.81000000000000005, 0.67000000000000004, 0.39000000000000001, \n",
    "            0.28712871287128711, 0.27000000000000002, 0.16, 0.10000000000000001, \n",
    "            0.089999999999999997]\n",
    "\n",
    "w0 = 2.5e-6 # [m]\n",
    "TFORT = 1.5e-3 # [K]\n",
    "Tatom = 3e-5 # [K] # this will be a fit guess\n",
    "lmbda = 1.064e-6\n",
    "steps = 100\n",
    "tempexp = dipole_trap(w0,TFORT,Tatom,lmbda) \n",
    "tlist,reten = tempexp.curvefit(t_data,ret_data)"
   ]
  },
  {
   "cell_type": "code",
   "execution_count": 47,
   "metadata": {},
   "outputs": [
    {
     "name": "stdout",
     "output_type": "stream",
     "text": [
      "omega_r = 216.095 kHz, omega_z = 29.275 kHz\n"
     ]
    }
   ],
   "source": [
    "# FORT plot\n",
    "w0 = 2.5e-6 # [m]\n",
    "TFORT = 1.5e-3 # [K]\n",
    "tempexp = dipole_trap(w0,TFORT,Tatom,lmbda)\n",
    "tempexp.lmbda = 7.8e-7"
   ]
  },
  {
   "cell_type": "code",
   "execution_count": 48,
   "metadata": {},
   "outputs": [
    {
     "name": "stdout",
     "output_type": "stream",
     "text": [
      "zr=18 [um], wx=3 [um]\n"
     ]
    },
    {
     "data": {
      "image/png": "[encoded data removed]",
      "text/plain": [
       "<Figure size 432x288 with 1 Axes>"
      ]
     },
     "metadata": {
      "needs_background": "light"
     },
     "output_type": "display_data"
    }
   ],
   "source": [
    "tempexp.distplot(0, sx=5, sz=1, color=\"YlOrRd\")"
   ]
  },
  {
   "cell_type": "code",
   "execution_count": 12,
   "metadata": {},
   "outputs": [
    {
     "name": "stdout",
     "output_type": "stream",
     "text": [
      "Help on method distplot in module __main__:\n",
      "\n",
      "distplot(events, atoms=True) method of __main__.dipole_trap instance\n",
      "    show atoms in FORT in z = 0 plane before drop and recapture\n",
      "\n"
     ]
    }
   ],
   "source": [
    "help(tempexp.distplot)"
   ]
  },
  {
   "cell_type": "code",
   "execution_count": null,
   "metadata": {},
   "outputs": [],
   "source": []
  },
  {
   "cell_type": "markdown",
   "metadata": {},
   "source": [
    "## network experiment"
   ]
  },
  {
   "cell_type": "code",
   "execution_count": 67,
   "metadata": {},
   "outputs": [],
   "source": [
    "# 2023.11.20\n",
    "\n",
    "# try to fit the datas \n",
    "t_data = array([1, 10, 50, 100])\n",
    "ret_data = np.array([0.68,0.381,0.091,0.143]) #/0.68\n",
    "loading_data = np.array([25., 21., 22., 14.]) # the number of atoms loaded"
   ]
  },
  {
   "cell_type": "code",
   "execution_count": 70,
   "metadata": {},
   "outputs": [
    {
     "name": "stdout",
     "output_type": "stream",
     "text": [
      "omega_r = 630.145 kHz, omega_z = 244.136 kHz\n",
      "finished. T=30.0 [uK], r = 0.68\n",
      "omega_r = 630.145 kHz, omega_z = 244.136 kHz\n",
      "finished. T=40.0 [uK], r = 0.68\n",
      "omega_r = 630.145 kHz, omega_z = 244.136 kHz\n",
      "finished. T=50.0 [uK], r = 0.68\n",
      "omega_r = 630.145 kHz, omega_z = 244.136 kHz\n",
      "finished. T=60.0 [uK], r = 0.68\n"
     ]
    },
    {
     "data": {
      "image/png": "[encoded data removed]",
      "text/plain": [
       "<Figure size 640x480 with 1 Axes>"
      ]
     },
     "metadata": {},
     "output_type": "display_data"
    }
   ],
   "source": [
    "w0 = 0.7e-6 # [m]\n",
    "TFORT = 1e-3 # [K]\n",
    "lmbda = 8.52e-7\n",
    "\n",
    "plt.scatter(t_data,ret_data,label='data',color='r')\n",
    "plt.errorbar(t_data,ret_data,1/np.sqrt(loading_data),ls='none',color='r')\n",
    "\n",
    "for Tatom in [3e-5,4e-5,5e-5,6e-5]:\n",
    "    tempexp = dipole_trap(w0,TFORT,Tatom,lmbda)\n",
    "    bounds=[[1e-5,0.8],[1e-4,1]] # lower and upper bounds for the temperature, retention\n",
    "    tlist,reten = tempexp.drop_recap(np.linspace(0,100,100),base_retention=ret_data[0])\n",
    "    plt.plot(tlist,reten,label=f'{tempexp.T/1e-6:.0f} uK') # show time in units [us]\n",
    "plt.xlabel(\"time [us]\")\n",
    "plt.ylabel(\"retention\")\n",
    "# plt.ylim((0,1.05))\n",
    "plt.legend()\n",
    "plt.show()"
   ]
  },
  {
   "cell_type": "code",
   "execution_count": null,
   "metadata": {},
   "outputs": [],
   "source": [
    "w0 = 0.7e-6 # [m]\n",
    "TFORT = 1e-3 # [K]\n",
    "\n",
    "plt.scatter(t_data,ret_data,label='data',color='r')\n",
    "\n",
    "Tatom = 6e-5:\n",
    "tempexp = dipole_trap(w0,TFORT,Tatom)\n",
    "bounds=[[1e-5,0.8],[1e-4,1]] # lower and upper bounds for the temperature, retention\n",
    "tlist,reten = tempexp.drop_recap(np.linspace(0,100,100),base_retention=ret_data[0])\n",
    "plt.plot(tlist,reten,label=f'{tempexp.T/1e-6:.0f} uK') # show time in units [us]\n",
    "plt.xlabel(\"time [us]\")\n",
    "plt.ylabel(\"retention\")\n",
    "# plt.ylim((0,1.05))\n",
    "plt.legend()\n",
    "plt.show()"
   ]
  }
 ],
 "metadata": {
  "kernelspec": {
   "display_name": "Python 3 (ipykernel)",
   "language": "python",
   "name": "python3"
  },
  "language_info": {
   "codemirror_mode": {
    "name": "ipython",
    "version": 3
   },
   "file_extension": ".py",
   "mimetype": "text/x-python",
   "name": "python",
   "nbconvert_exporter": "python",
   "pygments_lexer": "ipython3",
   "version": "3.9.6"
  }
 },
 "nbformat": 4,
 "nbformat_minor": 4
}
