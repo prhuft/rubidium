{
 "cells": [
  {
   "cell_type": "markdown",
   "metadata": {},
   "source": [
    "\"\"\" Multi-level atom solver, 1.00\n",
    "    Preston Huft, April 2019\n",
    "    \n",
    "    Version notes\n",
    "        - can generate a fully symbolic set of ODES and solve them. wooo\n",
    "    \n",
    "    Comments\n",
    "        -  \n",
    "    \n",
    "    To-do\n",
    "        - deprecate hard-coded optical Bloch equations - check\n",
    "        - generate fully symbolic set of ODEs (RHS) - check\n",
    "        - pass set of ODEs to derivs function, then set the ODE values inside the function - check\n",
    "        - make the solver a class. a real frickin class.\n",
    "\"\"\""
   ]
  },
  {
   "cell_type": "code",
   "execution_count": 6,
   "metadata": {
    "scrolled": false
   },
   "outputs": [
    {
     "data": {
      "text/html": [
       "<style>.container{width:100% !important;}</style>"
      ],
      "text/plain": [
       "<IPython.core.display.HTML object>"
      ]
     },
     "metadata": {},
     "output_type": "display_data"
    }
   ],
   "source": [
    "import numpy as np\n",
    "from numpy import sin,cos,exp,empty,linspace,array,sqrt\n",
    "from matplotlib import pyplot as plt\n",
    "from scipy.integrate import solve_ivp\n",
    "import sympy\n",
    "from sympy import MatrixSymbol,MatAdd,MatMul,Identity,I,Matrix,symbols,Function\n",
    "from sympy.utilities.lambdify import lambdify, implemented_function\n",
    "from sympy.utilities.iterables import flatten\n",
    "import time\n",
    "from IPython.core.display import display,HTML\n",
    "display(HTML(\"<style>.container{width:100% !important;}</style>\"))\n",
    "# sympy.init_printing() <-- causes jupyter to freeze"
   ]
  },
  {
   "cell_type": "code",
   "execution_count": 7,
   "metadata": {
    "scrolled": false
   },
   "outputs": [],
   "source": [
    "def cc(z):\n",
    "    \"\"\"np.conj(z)\"\"\"\n",
    "    return np.conj(z)\n",
    "\n",
    "def mdot(a,b):\n",
    "    \"\"\"np.matmul(a,b)\"\"\"\n",
    "    return np.matmul(a,b)\n",
    "\n",
    "def comm(A,B):\n",
    "    \"\"\"[A,B]=A.B-B.A. Assumes symbolic matrix.\"\"\"\n",
    "    return (MatMul(A,B)-MatMul(B,A)) #.as_mutable\n",
    "\n",
    "dt = 0.05 # the timestep for numerical solutions\n",
    "threedB = (1-1/np.e) # \"3dB\" down, or ~ 63 % of an initial amplitude"
   ]
  },
  {
   "cell_type": "code",
   "execution_count": 24,
   "metadata": {
    "scrolled": false
   },
   "outputs": [
    {
     "data": {
      "text/plain": [
       "[0, -0.5*I, 0.5*I, 0]"
      ]
     },
     "execution_count": 24,
     "metadata": {},
     "output_type": "execute_result"
    }
   ],
   "source": [
    "## THIS FRICKIN WORKS WOOOOOOO :D\n",
    "\n",
    "# define symbolic matrices which can be made numeric later\n",
    "E1,E2,d,O,t,o,g = symbols('E1 E2 d O t o g') # symbolic variables\n",
    "\n",
    "# Set the parameters of H\n",
    "O = 1; # Rabi frequency in units of the excited state lifetime\n",
    "E2 = 1; \n",
    "E1 = 0; \n",
    "o = E2-E1; # transition frequency, hbar is unity\n",
    "d = 0 # detuning from w. \n",
    "g = 1 # the upper state lifetime\n",
    "\n",
    "# Build the Hamiltonian\n",
    "H_a = Matrix([[E2,0],[0,E1]])\n",
    "H_field = Matrix([[0,cc(O)/2],[O/2,0]]) # RWA\n",
    "H = H_a + H_field # the full Hamiltonian\n",
    "\n",
    "# RHS of von Neumann\n",
    "r = MatrixSymbol('r',2,2).as_mutable() # density op\n",
    "r[0,1]=cc(r[1,0]) # now we need only solve 3 eqs\n",
    "RHS = -1j*comm(r,H) # RHS of von Neumann eq system; hbar = 1 for now\n",
    "rhs = [x for x in  RHS]\n",
    "r0 = array([1+0j,0+0j,0+0j,0+0j]) # flattened initial dens. op.\n",
    "\n",
    "f = lambdify(RHS.free_symbols,RHS)\n",
    "def derivs(t,y):\n",
    "    \"\"\" takes unraveled or flattened density matrix, returns flattened RHS\n",
    "        of von Neumann equation\n",
    "    \"\"\"\n",
    "    j=int(sqrt(len(y)))\n",
    "    return flatten(f(Matrix(y.reshape((j,j)))))"
   ]
  },
  {
   "cell_type": "code",
   "execution_count": 27,
   "metadata": {},
   "outputs": [],
   "source": [
    "t_exp = 20\n",
    "tpts = 1000\n",
    "soln = solve_ivp(derivs,[0,t_exp],r0,t_eval=np.linspace(0,t_exp,tpts)) # doesn't work because expects 1D state array in/out of derivs"
   ]
  },
  {
   "cell_type": "code",
   "execution_count": 28,
   "metadata": {},
   "outputs": [
    {
     "data": {
      "text/plain": [
       "[<matplotlib.lines.Line2D at 0x180e7a16668>]"
      ]
     },
     "execution_count": 28,
     "metadata": {},
     "output_type": "execute_result"
    },
    {
     "data": {
      "image/png": "[encoded data removed]",
      "text/plain": [
       "<Figure size 432x288 with 1 Axes>"
      ]
     },
     "metadata": {
      "needs_background": "light"
     },
     "output_type": "display_data"
    }
   ],
   "source": [
    "plt.plot(soln.t,soln.y[0])"
   ]
  }
 ],
 "metadata": {
  "kernelspec": {
   "display_name": "Python 3",
   "language": "python",
   "name": "python3"
  },
  "language_info": {
   "codemirror_mode": {
    "name": "ipython",
    "version": 3
   },
   "file_extension": ".py",
   "mimetype": "text/x-python",
   "name": "python",
   "nbconvert_exporter": "python",
   "pygments_lexer": "ipython3",
   "version": "3.7.3"
  }
 },
 "nbformat": 4,
 "nbformat_minor": 2
}
