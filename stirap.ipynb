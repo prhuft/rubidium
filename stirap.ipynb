{
 "cells": [
  {
   "cell_type": "code",
   "execution_count": 2,
   "metadata": {},
   "outputs": [],
   "source": [
    "from numpy import *\n",
    "from matplotlib import pyplot as plt\n",
    "from scipy.integrate import solve_ivp\n",
    "import sympy\n",
    "from sympy.physics.wigner import wigner_6j,wigner_3j,clebsch_gordan\n",
    "import time\n",
    "\n",
    "from physconsts import *\n",
    "from rbconsts import *\n",
    "from amophys import cc"
   ]
  },
  {
   "cell_type": "code",
   "execution_count": 36,
   "metadata": {},
   "outputs": [],
   "source": [
    "#### functions \n",
    "\n",
    "def derivs(y0,t,O1,O2,D1,D2):\n",
    "    \"\"\" Returns RHS of optical bloch eqs for current values at time t\"\"\"\n",
    "    r11,r12,r13,r22,r23,r33 = y0\n",
    "#     O1,2; D1,2= params # Rabi freq, detuning\n",
    "    \n",
    "    # time derivatives of density op elements; non-redundant eqs only\n",
    "    dr11 = .5*1j*O1*(cc(r12) - r12)\n",
    "    dr12 = -.5*1j*(O1*r11 + 2*D1*r12 + O2*r13 - O1*r22)\n",
    "    dr13 = -.5*1j*(O2*r12 + 2*(D1 + D2)*r13 - O1*r23)\n",
    "    dr22 = .5*1j*(-O1*cc(r12) + O2*cc(r23) + O1*r12 - O2*r23)\n",
    "    dr23 = .5*1j*(O1*r13 - O2*r22 - 2*D2*r23 + O2*r33)\n",
    "    dr33 = .5*1j*O2*(r23 - cc(r23))\n",
    "    \n",
    "    return array([dr11,dr12,dr13,dr22,dr23,dr33])"
   ]
  },
  {
   "cell_type": "code",
   "execution_count": 101,
   "metadata": {},
   "outputs": [],
   "source": [
    "#### setup the system\n",
    "\n",
    "D1 = 1 # arb units\n",
    "D2 = -1 # two-photon D is 0\n",
    "O1 = 1 # arb units\n",
    "O2 = 1\n",
    "\n",
    "dt = 0.05\n",
    "t_exp = 10 # experiment duration\n",
    "t = arange(t_exp,step=dt)\n",
    "\n",
    "y0 = zeros(6, complex)\n",
    "y0[0] = 1 + 0j # all population in ground state rho11\n",
    "\n",
    "func = lambda y,t: derivs(y0,t,O1,O2,D1,D2)"
   ]
  },
  {
   "cell_type": "code",
   "execution_count": 102,
   "metadata": {},
   "outputs": [],
   "source": [
    "soln = solve_ivp(func,[0,t_exp],y0) #,t_eval=linspace(0,t_exp,50)"
   ]
  },
  {
   "cell_type": "code",
   "execution_count": 103,
   "metadata": {},
   "outputs": [
    {
     "data": {
      "image/png": "[encoded data removed]",
      "text/plain": [
       "<Figure size 432x288 with 1 Axes>"
      ]
     },
     "metadata": {
      "needs_background": "light"
     },
     "output_type": "display_data"
    }
   ],
   "source": [
    "fig = plt.figure()\n",
    "ax = fig.add_subplot(111)\n",
    "ax.set_ylim((0,1))\n",
    "ax.set_xlim((0,t_exp))\n",
    "ax.set_title('Rabi oscillations w/o spontaneous emission')\n",
    "ax.set_xlabel('time [gamma]')\n",
    "ax.set_ylabel('Excitation probability')\n",
    "ax.plot(soln.t,soln.y[0],label='|c_g|^2')\n",
    "ax.plot(soln.t,soln.y[3],label='|c_e|^2')\n",
    "ax.plot(soln.t,soln.y[5],label='|c_r|^2')\n",
    "ax.legend(loc='upper right')\n",
    "plt.show()"
   ]
  },
  {
   "cell_type": "code",
   "execution_count": 104,
   "metadata": {},
   "outputs": [
    {
     "data": {
      "text/plain": [
       "array([0.+0.j , 0.-0.5j, 0.-0.j , 0.+0.j , 0.+0.j , 0.+0.j ])"
      ]
     },
     "execution_count": 104,
     "metadata": {},
     "output_type": "execute_result"
    }
   ],
   "source": [
    "r11,r12,r13,r22,r23,r33 = y0\n",
    "    \n",
    "# time derivatives of density op elements; non-redundant eqs only\n",
    "dr11 = .5*1j*O1*(cc(r12) - r12)\n",
    "dr12 = -.5*1j*(O1*r11 + 2*D1*r12 + O2*r13 - O1*r22)\n",
    "dr13 = -.5*1j*(O2*r12 + 2*(D1 + D2)*r13 - O1*r23)\n",
    "dr22 = .5*1j*(-O1*cc(r12) + O2*cc(r23) + O1*r12 - O2*r23)\n",
    "dr23 = .5*1j*(O1*r13 - O2*r22 - 2*D2*r23 + O2*r33)\n",
    "dr33 = .5*1j*O2*(r23 - cc(r23))\n",
    "    \n",
    "array([dr11,dr12,dr13,dr22,dr23,dr33])"
   ]
  },
  {
   "cell_type": "code",
   "execution_count": null,
   "metadata": {},
   "outputs": [],
   "source": []
  }
 ],
 "metadata": {
  "kernelspec": {
   "display_name": "Python 3",
   "language": "python",
   "name": "python3"
  },
  "language_info": {
   "codemirror_mode": {
    "name": "ipython",
    "version": 3
   },
   "file_extension": ".py",
   "mimetype": "text/x-python",
   "name": "python",
   "nbconvert_exporter": "python",
   "pygments_lexer": "ipython3",
   "version": "3.7.3"
  }
 },
 "nbformat": 4,
 "nbformat_minor": 2
}
