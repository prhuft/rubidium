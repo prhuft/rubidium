{
 "cells": [
  {
   "cell_type": "code",
   "execution_count": null,
   "metadata": {},
   "outputs": [],
   "source": [
    "\"\"\" Optical pumping simulation\n",
    "    Preston Huft, May 2019\n",
    "\"\"\""
   ]
  },
  {
   "cell_type": "code",
   "execution_count": 20,
   "metadata": {},
   "outputs": [],
   "source": [
    "%matplotlib notebook\n",
    "from sympy.physics.wigner import wigner_6j,wigner_3j,clebsch_gordan\n",
    "from sympy import init_printing,N\n",
    "import numpy as np\n",
    "from random import random as rand\n",
    "import math as m\n",
    "from math import sqrt,pow"
   ]
  },
  {
   "cell_type": "code",
   "execution_count": 23,
   "metadata": {},
   "outputs": [],
   "source": [
    "def populate(num,states):\n",
    "    \"\"\" 'num':length of array\n",
    "        'states': list of states\n",
    "    \"\"\"\n",
    "    arr = np.empty(num)\n",
    "    s = len(states)\n",
    "    for i in range(0,len(arr)):\n",
    "        arr[i] = states[int(rand()*s)] # array of randomly chosen states\n",
    "    return arr\n",
    "\n",
    "f_e = 2; f_g = 1\n",
    "state_e = [x for x in range(-f_e,f_e+1)] # mF states in |e>\n",
    "state_g = [x for x in range(-f_g,f_g+1)] # mF states in |g>\n",
    "\n",
    "probs = [] # prob a transition between |e>,|g> for particular mF levels\n",
    "i = 0;\n",
    "for m_e in state_e:\n",
    "    probs.append([])\n",
    "    for m_g in state_g:\n",
    "        if abs(m_e - m_g) <= 1: & (abs(m_e)+abs(m_g)!=0) # 0 -> 0 is disallowed by parity\n",
    "            probs[i].append(1)\n",
    "        else:\n",
    "            probs[i].append(0)\n",
    "    i+=1\n",
    "    \n",
    "probs = [[p/sum(prob) for p in prob] for prob in probs] # normalize the probs for each decay path\n",
    "    \n",
    "atom_num = 100 # number of atoms\n",
    "\n",
    "# randomized atoms in ground state\n",
    "gnd_arr = population(atom_num,state_g) # store the most recent ground states\n",
    "exc_arr = np.empty(atom_num) # store the most recent excited states\n",
    "\n",
    "# excitation and decay cycle for all atoms\n",
    "q = 0 # linear light\n",
    "\n",
    "cycles = 10\n",
    "gnd_states = np.empty(cycles,dtype=list)\n",
    "\n",
    "for j in range(0,cycles):\n",
    "    gnd_states[j] = gnd_arr\n",
    "    for i in range(0,atom_num):\n",
    "        if gnd_arr[i] != g_e # the mF = 0 sublevel is dark\n",
    "            m_e = gnd_arr[i]\n",
    "            exc_arr[i] = gnd_m+q # excite the atom\n",
    "            p = 0\n",
    "            m_g = 0 \n",
    "            while p = 0: # iterate until an allowed decay path is found\n",
    "                m_g = int(rand()*(2*f_g+1)) # random m_g level index\n",
    "                p = probs[m_e][m_g] \n",
    "            gnd_arr[i] = state_g[m_g] # let the atom decay\n",
    "\n",
    "# for state in gnd_states: # iterate through the atom states over iterations\n",
    "#     for m in range(0,2*f_g+1):\n",
    "\n",
    "\n",
    "for state in gnd_states:\n",
    "    "
   ]
  },
  {
   "cell_type": "code",
   "execution_count": 24,
   "metadata": {},
   "outputs": [
    {
     "data": {
      "text/plain": [
       "2.715578619404129"
      ]
     },
     "execution_count": 24,
     "metadata": {},
     "output_type": "execute_result"
    }
   ],
   "source": [
    "int(rand()*3)"
   ]
  },
  {
   "cell_type": "code",
   "execution_count": 32,
   "metadata": {},
   "outputs": [],
   "source": [
    "x =np.empty(5,dtype=list)"
   ]
  },
  {
   "cell_type": "code",
   "execution_count": 30,
   "metadata": {},
   "outputs": [],
   "source": [
    "a = [1,2]"
   ]
  },
  {
   "cell_type": "code",
   "execution_count": 33,
   "metadata": {},
   "outputs": [],
   "source": [
    "x[0]=a"
   ]
  },
  {
   "cell_type": "code",
   "execution_count": 34,
   "metadata": {},
   "outputs": [
    {
     "data": {
      "text/plain": [
       "array([list([1, 2]), None, None, None, None], dtype=object)"
      ]
     },
     "execution_count": 34,
     "metadata": {},
     "output_type": "execute_result"
    }
   ],
   "source": [
    "x"
   ]
  },
  {
   "cell_type": "code",
   "execution_count": 36,
   "metadata": {},
   "outputs": [
    {
     "data": {
      "text/plain": [
       "[1, 2]"
      ]
     },
     "execution_count": 36,
     "metadata": {},
     "output_type": "execute_result"
    }
   ],
   "source": [
    "x[0]"
   ]
  },
  {
   "cell_type": "code",
   "execution_count": null,
   "metadata": {},
   "outputs": [],
   "source": []
  }
 ],
 "metadata": {
  "kernelspec": {
   "display_name": "Python 3",
   "language": "python",
   "name": "python3"
  },
  "language_info": {
   "codemirror_mode": {
    "name": "ipython",
    "version": 3
   },
   "file_extension": ".py",
   "mimetype": "text/x-python",
   "name": "python",
   "nbconvert_exporter": "python",
   "pygments_lexer": "ipython3",
   "version": "3.7.3"
  }
 },
 "nbformat": 4,
 "nbformat_minor": 2
}
