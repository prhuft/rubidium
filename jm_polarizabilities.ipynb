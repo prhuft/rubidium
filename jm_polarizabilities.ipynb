{
 "cells": [
  {
   "cell_type": "markdown",
   "metadata": {},
   "source": [
    "# Rb87 J-M Polarizability Calcs\n",
    "using formulas from Mark's notes"
   ]
  },
  {
   "cell_type": "markdown",
   "metadata": {},
   "source": [
    "## Dynamic polarizability\n",
    "$\\alpha_0$: scalar shift. no dependence on light polarization <br/>\n",
    "$\\alpha_1$: vector shift. zero for linear light or $j_a=0$ <br/>\n",
    "$\\alpha_2$: tensor shift. non-zero for $j_a\\geq1$ <br/>"
   ]
  },
  {
   "cell_type": "code",
   "execution_count": 1,
   "metadata": {},
   "outputs": [],
   "source": [
    "#### libraries\n",
    "from numpy import *\n",
    "import matplotlib.pyplot as plt\n",
    "from arc import *\n",
    "from sympy.physics.wigner import wigner_6j,wigner_3j,clebsch_gordan\n",
    "\n",
    "#### local files\n",
    "from physconsts import *\n",
    "from rbconsts import *\n",
    "from amophys import *\n",
    "from simfuncs import *\n",
    "\n",
    "s = 0.5 # electron spin to be used throughout the notebook"
   ]
  },
  {
   "cell_type": "code",
   "execution_count": 5,
   "metadata": {
    "scrolled": false
   },
   "outputs": [],
   "source": [
    "def alpha0_jm(state, omega, nbounds, atom, I, printterms=False):\n",
    "    \"\"\"\n",
    "    Returns the scalar polarizability for a fine structure level\n",
    "    \n",
    "    Args:\n",
    "        'state': list of quantum numbers n,l,j\n",
    "        'omega': angular frequency of the applied field in inverse seconds\n",
    "        'nbounds': is a list or two-tuple of the lower and uppper n values to use in the perturbative sum, e.g.\n",
    "            [4,11] will start at 4 and end at 10\n",
    "        'atom': an Atom object from the Alkali Rydberg Calculator module\n",
    "        'I': the nuclear spin\n",
    "    Returns:\n",
    "        'alpha0': scalar polarizability in S.I. units.\n",
    "    \"\"\"\n",
    "    alpha0 = 0\n",
    "    terms = 0\n",
    "    \n",
    "    n_a, l_a, j_a = state\n",
    "    \n",
    "    l_b = l_a + 1 # for dipole-allowed transitions with l_a = 0\n",
    "    j_b_list = [ l_b - .5, l_b + .5]\n",
    "    n_min, n_max = nbounds\n",
    "\n",
    "    # program:\n",
    "    # - loop over levels from nmin to nmax\n",
    "    #  - loop over l\n",
    "    #   - loop over j\n",
    "\n",
    "    for n_b in range(n_min, n_max):\n",
    "        for l_b in range(n_b): # runs through n_b - 1, inclusive\n",
    "            for j_b in j_b_list: \n",
    "\n",
    "                # triangle and dipole-allowed conditions\n",
    "                if abs(j_b - j_a) <= 1 and abs(l_b - l_a) == 1: \n",
    "                    w_ba = 2*pi*(eVToGHz(atom.getEnergy(n_b, l_b, j_b) \\\n",
    "                                        - atom.getEnergy(n_a, l_a, j_a))*1e9)\n",
    "                    matelem = abs(atom.getReducedMatrixElementJ(n_a, l_a, j_a, n_b, l_b, j_b)*ee*a0)\n",
    "#                     print(f\"< n={n_a}, l={l_a}, j={j_a} | x | n'={n_b}, l'={l_b}, j'={j_b} >\")\n",
    "                    alpha0 += (2/(3*hbar*(2*j_a+1)))* \\\n",
    "                                    w_ba*matelem**2/(w_ba**2 - omega**2) # Mark's Notes 9.11a\n",
    "                    terms += 1\n",
    "                    if printterms:\n",
    "                        print(f\"alpha0 ~= {alpha0/(4*pi*e0*1e-30)} [Ang.^3], {terms} terms in sum\")\n",
    "\n",
    "                    \n",
    "    return alpha0"
   ]
  },
  {
   "cell_type": "markdown",
   "metadata": {},
   "source": [
    "## Finite sum for $\\alpha_0(\\omega)$ - J-M basis\n",
    "agrees within a few percent of values given here: https://wiki.physics.wisc.edu/saffmanwiki/Literature/Rb"
   ]
  },
  {
   "cell_type": "code",
   "execution_count": 3,
   "metadata": {},
   "outputs": [],
   "source": [
    "# our atom\n",
    "rb = Rubidium87()\n",
    "\n",
    "# the 5s1/2 state\n",
    "n_a = 5\n",
    "j_a = 1/2 \n",
    "l_a = 0\n",
    "# w_a = 2*pi*level_a[\"E\"]*1e9 # [rad/s], wrt zeropoint at 5s1/2 COM\n",
    "\n",
    "l_b = l_a + 1 # for dipole-allowed transitions with l_a = 0\n",
    "j_b_list = [ l_b - .5, l_b + .5]\n",
    "n_min = 4\n",
    "n_max = 20 # exclusive max\n",
    "\n",
    "f_laser = c/.76e-6"
   ]
  },
  {
   "cell_type": "code",
   "execution_count": 14,
   "metadata": {},
   "outputs": [
    {
     "name": "stdout",
     "output_type": "stream",
     "text": [
      "lambda=7.6e-07 [um], a0=-722.4447850060614 [Ang^3]\n",
      "lambda=7.65e-07 [um], a0=-941.2224621631068 [Ang^3]\n",
      "lambda=7.7e-07 [um], a0=-1356.8936635986395 [Ang^3]\n",
      "lambda=7.75e-07 [um], a0=-2508.3290020420336 [Ang^3]\n",
      "lambda=9.76e-07 [um], a0=125.38739599331232 [Ang^3]\n",
      "lambda=1.01e-06 [um], a0=111.40902210447317 [Ang^3]\n",
      "lambda=1.04e-06 [um], a0=102.22087276469817 [Ang^3]\n",
      "lambda=1.06e-06 [um], a0=96.31995005412985 [Ang^3]\n"
     ]
    }
   ],
   "source": [
    "## reproduce the table on the wiki\n",
    "state_a = [5,0,1/2]\n",
    "\n",
    "wavelengths = array([0.76,.765,.77,.775,.976,1.01,1.04,1.064])*1e-6\n",
    "\n",
    "# for i in range(pts):\n",
    "for w in wavelengths:\n",
    "    alpha = alpha0_jm(state=state_a, omega=2*pi*c/w, nbounds=[n_min,n_max], atom=rb, I=3/2, printterms=False)/(4*pi*e0*1e-30)\n",
    "    print(f'lambda={w:0.3} [um], a0={alpha} [Ang^3]')"
   ]
  },
  {
   "cell_type": "code",
   "execution_count": 20,
   "metadata": {
    "collapsed": true
   },
   "outputs": [
    {
     "name": "stdout",
     "output_type": "stream",
     "text": [
      "lambda=8e-07 [um], a0=1838.6930092089565 [Ang^3]\n",
      "lambda=8.07e-07 [um], a0=989.6638150137601 [Ang^3]\n",
      "lambda=8.14e-07 [um], a0=711.1955054867217 [Ang^3]\n",
      "lambda=8.2e-07 [um], a0=563.9604226179368 [Ang^3]\n",
      "lambda=8.27e-07 [um], a0=470.9646775970992 [Ang^3]\n",
      "lambda=8.34e-07 [um], a0=406.3349143416272 [Ang^3]\n",
      "lambda=8.41e-07 [um], a0=358.6068527428724 [Ang^3]\n",
      "lambda=8.47e-07 [um], a0=321.8327420458348 [Ang^3]\n",
      "lambda=8.54e-07 [um], a0=292.59106796164565 [Ang^3]\n",
      "lambda=8.61e-07 [um], a0=268.7634701057003 [Ang^3]\n",
      "lambda=8.68e-07 [um], a0=248.96386759734014 [Ang^3]\n",
      "lambda=8.74e-07 [um], a0=232.24521761126007 [Ang^3]\n",
      "lambda=8.81e-07 [um], a0=217.93747112162907 [Ang^3]\n",
      "lambda=8.88e-07 [um], a0=205.55270294223803 [Ang^3]\n",
      "lambda=8.95e-07 [um], a0=194.7268989801543 [Ang^3]\n",
      "lambda=9.02e-07 [um], a0=185.18281547701957 [Ang^3]\n",
      "lambda=9.08e-07 [um], a0=176.70548792379455 [Ang^3]\n",
      "lambda=9.15e-07 [um], a0=169.1256179368576 [Ang^3]\n",
      "lambda=9.22e-07 [um], a0=162.30802385019587 [Ang^3]\n",
      "lambda=9.29e-07 [um], a0=156.1434367972561 [Ang^3]\n",
      "lambda=9.35e-07 [um], a0=150.54256110079137 [Ang^3]\n",
      "lambda=9.42e-07 [um], a0=145.43170034279882 [Ang^3]\n",
      "lambda=9.49e-07 [um], a0=140.74948691921838 [Ang^3]\n",
      "lambda=9.56e-07 [um], a0=136.44440279257483 [Ang^3]\n",
      "lambda=9.62e-07 [um], a0=132.47287640508685 [Ang^3]\n",
      "lambda=9.69e-07 [um], a0=128.79780511745943 [Ang^3]\n",
      "lambda=9.76e-07 [um], a0=125.38739599331228 [Ang^3]\n",
      "lambda=9.83e-07 [um], a0=122.21424757281905 [Ang^3]\n",
      "lambda=9.9e-07 [um], a0=119.25461606863362 [Ang^3]\n",
      "lambda=9.96e-07 [um], a0=116.48782411784124 [Ang^3]\n",
      "lambda=1e-06 [um], a0=113.89578075672631 [Ang^3]\n",
      "lambda=1.01e-06 [um], a0=111.46258892467452 [Ang^3]\n",
      "lambda=1.02e-06 [um], a0=109.1742224074674 [Ang^3]\n",
      "lambda=1.02e-06 [um], a0=107.01825828445183 [Ang^3]\n",
      "lambda=1.03e-06 [um], a0=104.98365405404658 [Ang^3]\n",
      "lambda=1.04e-06 [um], a0=103.06056096173205 [Ang^3]\n",
      "lambda=1.04e-06 [um], a0=101.24016684530304 [Ang^3]\n",
      "lambda=1.05e-06 [um], a0=99.51456318784065 [Ang^3]\n",
      "lambda=1.06e-06 [um], a0=97.8766321338195 [Ang^3]\n",
      "lambda=1.06e-06 [um], a0=96.31995005412985 [Ang^3]\n"
     ]
    }
   ],
   "source": [
    "state_a = [5,0,1/2]\n",
    "\n",
    "wmin = 0.8\n",
    "wmax = 1.064\n",
    "steps = 40\n",
    "wavelengths = linspace(wmin,wmax,steps)*1e-6\n",
    "alpha_pts = zeros(len(wavelengths))\n",
    "\n",
    "# for i in range(pts):\n",
    "for i,w in enumerate(wavelengths):\n",
    "    alpha_pts[i] = alpha0_jm(state=state_a, omega=2*pi*c/w, nbounds=[n_min,n_max], atom=rb, I=3/2, printterms=False)/(4*pi*e0*1e-30)\n",
    "    print(f'lambda={w:0.3} [um], a0={alpha_pts[i]} [Ang^3]')\n",
    "    \n",
    "alpha_pts_SI = alpha_pts*4*pi*e0*1e-30"
   ]
  },
  {
   "cell_type": "code",
   "execution_count": 21,
   "metadata": {},
   "outputs": [
    {
     "name": "stdout",
     "output_type": "stream",
     "text": [
      "wrote data to five_s_onehalf_dynamic_alpha0_0.8um_to_1.064um_40steps.csv\n"
     ]
    }
   ],
   "source": [
    "fname = f'five_s_onehalf_dynamic_alpha0_{wmin}um_to_{wmax}um_{steps}steps.csv'\n",
    "soln_to_csv(fname, \n",
    "            [wavelengths, alpha_pts, alpha_pts_SI], \n",
    "            ['lambda [um]','alpha0 [Ang^3]', 'alpha0 [S.I.]']\n",
    "           )"
   ]
  },
  {
   "cell_type": "markdown",
   "metadata": {},
   "source": [
    "## Finite sum for $\\alpha_1(\\omega)$ - J-M basis\n",
    "check this with values from Mark here https://wiki.physics.wisc.edu/saffmanwiki/Literature/Rb"
   ]
  },
  {
   "cell_type": "code",
   "execution_count": 36,
   "metadata": {},
   "outputs": [
    {
     "ename": "NameError",
     "evalue": "name 'hf_levels' is not defined",
     "output_type": "error",
     "traceback": [
      "\u001b[1;31m---------------------------------------------------------------------------\u001b[0m",
      "\u001b[1;31mNameError\u001b[0m                                 Traceback (most recent call last)",
      "\u001b[1;32m<ipython-input-36-ef03fefd9074>\u001b[0m in \u001b[0;36m<module>\u001b[1;34m\u001b[0m\n\u001b[0;32m      3\u001b[0m \u001b[1;33m\u001b[0m\u001b[0m\n\u001b[0;32m      4\u001b[0m \u001b[1;31m# the 5p3/2 state\u001b[0m\u001b[1;33m\u001b[0m\u001b[1;33m\u001b[0m\u001b[1;33m\u001b[0m\u001b[0m\n\u001b[1;32m----> 5\u001b[1;33m \u001b[0mlevel_a\u001b[0m \u001b[1;33m=\u001b[0m \u001b[0mhf_levels\u001b[0m\u001b[1;33m[\u001b[0m\u001b[1;36m6\u001b[0m\u001b[1;33m]\u001b[0m \u001b[1;31m# deprecated\u001b[0m\u001b[1;33m\u001b[0m\u001b[1;33m\u001b[0m\u001b[0m\n\u001b[0m\u001b[0;32m      6\u001b[0m \u001b[0mn_a\u001b[0m \u001b[1;33m=\u001b[0m \u001b[0mlevel_a\u001b[0m\u001b[1;33m[\u001b[0m\u001b[1;34m\"n\"\u001b[0m\u001b[1;33m]\u001b[0m\u001b[1;33m\u001b[0m\u001b[1;33m\u001b[0m\u001b[0m\n\u001b[0;32m      7\u001b[0m \u001b[0mj_a\u001b[0m \u001b[1;33m=\u001b[0m \u001b[0mlevel_a\u001b[0m\u001b[1;33m[\u001b[0m\u001b[1;34m\"J\"\u001b[0m\u001b[1;33m]\u001b[0m\u001b[1;33m\u001b[0m\u001b[1;33m\u001b[0m\u001b[0m\n",
      "\u001b[1;31mNameError\u001b[0m: name 'hf_levels' is not defined"
     ]
    }
   ],
   "source": [
    "# our atom\n",
    "rb = Rubidium87()\n",
    "\n",
    "# the 5p3/2 state\n",
    "level_a = hf_levels[6] # deprecated\n",
    "n_a = level_a[\"n\"]\n",
    "j_a = level_a[\"J\"] \n",
    "l_a = level_a[\"L\"]\n",
    "# w_a = 2*pi*level_a[\"E\"]*1e9 # [rad/s], wrt zeropoint at 5s1/2 COM\n",
    "\n",
    "l_b = l_a + 1 # for dipole-allowed transitions with l_a = 0\n",
    "j_b_list = [ l_b - .5, l_b + .5]\n",
    "n_min = 5\n",
    "n_max = 11 # exclusive max\n",
    "\n",
    "f780A = rb.getTransitionFrequency(5,0,1/2,5,1,3/2) + (-hf_levels[1][\"nu\"] + hf_levels[6][\"nu\"] - 2.1e9)\n",
    "\n",
    "# l_arr = [rb.getTransitionWavelength(\n",
    "#             n_a,l_a,j_a,n_b,l_b,j_b\n",
    "#         )] # 1.064e-6] # selected wavelengths\n",
    "w_arr = array([\n",
    "        2*pi*f780A\n",
    "    ]) #2*pi*c/l for l in l_arr]) # ang. freqs\n",
    "mF_a = 0\n",
    "q = 1\n",
    "mF_b = mF_a + q\n",
    "\n",
    "pts = len(w_arr)\n",
    "alpha1 = zeros(pts) \n",
    "terms = 0\n",
    "\n",
    "for i in range(pts):\n",
    "    for n_b in range(n_min, n_max):\n",
    "        for l_b in range(n_b): # runs through n_b - 1, inclusive\n",
    "            for j_b in j_b_list: \n",
    "                \n",
    "                # triangle and dipole-allowed conditions\n",
    "                if abs(j_b - j_a) <= 1 and abs(l_b - l_a) == 1: \n",
    "                    w_ba = 2*pi*(eVToGHz(rb.getEnergy(n_b, l_b, j_b) \\\n",
    "                                        - rb.getEnergy(n_a, l_a, j_a))*1e9)\n",
    "                    matelem = abs(rb.getReducedMatrixElementJ(n_a, l_a, j_a, n_b, l_b, j_b)*ee*a0)\n",
    "#                     print(f\"< n={n_a}, l={l_a}, j={j_a} | x | n'={n_b}, l'={l_b}, j'={j_b} >\")\n",
    "                    alpha0[i] += (2/(3*hbar*(2*j_a+1)))* \\\n",
    "                                    w_ba*matelem**2/(w_ba**2 - w_arr[i]**2) # Mark's Notes 9.11a\n",
    "                    terms += 1\n",
    "                    print(f\"alpha0 ~= {alpha0[i]/(4*pi*e0*1e-30)} [Ang.^3], {terms} terms in sum\")\n",
    "# alpha as printed is in cubic Angstroms. as it stands, I don't remember how to make it true S.I.\n",
    "#A^3 to cgs: 1e-30 -> 1e-6; cgs to a.u.: EH/(ee*a0)**2"
   ]
  },
  {
   "cell_type": "code",
   "execution_count": null,
   "metadata": {},
   "outputs": [],
   "source": []
  }
 ],
 "metadata": {
  "kernelspec": {
   "display_name": "Python 3",
   "language": "python",
   "name": "python3"
  },
  "language_info": {
   "codemirror_mode": {
    "name": "ipython",
    "version": 3
   },
   "file_extension": ".py",
   "mimetype": "text/x-python",
   "name": "python",
   "nbconvert_exporter": "python",
   "pygments_lexer": "ipython3",
   "version": "3.9.0"
  }
 },
 "nbformat": 4,
 "nbformat_minor": 2
}
