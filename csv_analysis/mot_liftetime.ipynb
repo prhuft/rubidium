{
 "cells": [
  {
   "cell_type": "markdown",
   "metadata": {},
   "source": [
    "# MOT lifetime\n",
    "for making a vacuum pressure estimate"
   ]
  },
  {
   "cell_type": "code",
   "execution_count": 37,
   "metadata": {},
   "outputs": [],
   "source": [
    "import scipy.io\n",
    "import matplotlib.pyplot as plt\n",
    "from numpy import *\n",
    "import sys\n",
    "sys.path.append('../')\n",
    "from simfuncs import *"
   ]
  },
  {
   "cell_type": "code",
   "execution_count": 38,
   "metadata": {},
   "outputs": [],
   "source": [
    "def process_csv(fname, newline='', cols=True, skiprows=1):\n",
    "    rows = []\n",
    "    with open(fname, 'r', newline=newline) as f:\n",
    "        reader = csv.reader(f, delimiter=',')\n",
    "\n",
    "        while skiprows > 0:\n",
    "            reader.__next__()\n",
    "            skiprows -= 1\n",
    "        \n",
    "        for row in reader:\n",
    "            try:\n",
    "                rows.append([float(x) for x in row if x != ''])\n",
    "            except ValueError:\n",
    "                print(f\"row is problematic: \\n {row}\")\n",
    "\n",
    "    if cols:\n",
    "        return array(rows).T\n",
    "    \n",
    "    return rows"
   ]
  },
  {
   "cell_type": "markdown",
   "metadata": {},
   "source": [
    "## Cs 3D MOT loading curves"
   ]
  },
  {
   "cell_type": "code",
   "execution_count": 23,
   "metadata": {},
   "outputs": [],
   "source": [
    "# fpath \n",
    "files = [fpath+name for name in \n",
    "         []\n",
    "        ]"
   ]
  },
  {
   "cell_type": "code",
   "execution_count": 24,
   "metadata": {
    "collapsed": true
   },
   "outputs": [
    {
     "name": "stdout",
     "output_type": "stream",
     "text": [
      "['952.382620', ' -51.8245']\n",
      "['2857.144492', ' -55.1114']\n",
      "['4761.906365', ' -62.2933']\n",
      "['6666.668237', ' -77.7545']\n",
      "['8571.430110', ' -88.2259']\n",
      "['10476.191982', ' -84.5513']\n",
      "['12380.953854', ' -84.4927']\n",
      "['14285.715727', ' -85.6648']\n",
      "['16190.477599', ' -80.7151']\n",
      "['18095.239471', ' -78.2957']\n"
     ]
    }
   ],
   "source": [
    "# sample the file contents, get time increment\n",
    "fname = files[0]\n",
    "newline=''\n",
    "with open(fname, 'r', newline=newline) as f:\n",
    "    reader = csv.reader(f, delimiter=',')\n",
    "    for i,row in enumerate(reader):\n",
    "        if i == 1:\n",
    "            t_incr = float(row[-1])     \n",
    "        if i < 10:\n",
    "            print(row)"
   ]
  },
  {
   "cell_type": "code",
   "execution_count": 16,
   "metadata": {
    "scrolled": true
   },
   "outputs": [
    {
     "data": {
      "text/plain": [
       "(5, 2, 262)"
      ]
     },
     "execution_count": 16,
     "metadata": {},
     "output_type": "execute_result"
    }
   ],
   "source": [
    "data = array([process_csv(f, newline='', cols=True, skiprows=0)\n",
    "             for f in files])\n",
    "data.shape"
   ]
  },
  {
   "cell_type": "code",
   "execution_count": null,
   "metadata": {},
   "outputs": [],
   "source": [
    "gamma_b_per_P = 4.9e7 # cesium-non-cesium collisional losses [Torr^-1 s^-1]\n",
    "beta = 4.013e7 # cesium-(hot)cesium collisional losses [Torr^-1 s^-1]\n",
    "\n",
    "def loading_model(t,ns,tau):\n",
    "    \"\"\"\n",
    "    fit MOT loading curve\n",
    "    \"\"\"    \n",
    "    return ns*(1 - exp(-t/tau))\n",
    "\n",
    "def gamma_model(tau,alpha_over_beta,gamma_b):\n",
    "    \"\"\"\n",
    "    fit a Ns as a function of tau to get alpha/beta and \n",
    "    the background-induced loss rate gamma_b\n",
    "    \"\"\"\n",
    "    return alpha_over_beta*(1 - gamma_b*tau)                "
   ]
  },
  {
   "cell_type": "code",
   "execution_count": null,
   "metadata": {},
   "outputs": [],
   "source": [
    "## fluorescence curves w/ and w/o loading\n",
    "\n",
    "ns_pts = []\n",
    "tau_pts = []\n",
    "\n",
    "for d in data:\n",
    "    \n",
    "    # fit the loading curve to get ns, tau\n",
    "#     popt,popv = ...\n",
    "    ns,tau = popt\n",
    "    ns_pts.append()\n",
    "    tau_pts.append()\n",
    "    \n",
    "# fit the ns,tau tuples to get alpha/beta and gamma_b\n",
    "# popt,popv = ...\n",
    "alpha_over_beta,gamma_b = popt\n",
    "\n",
    "cs_pressure = ns_pts[0]/(alpha_over_beta*beta*tau_pts[0])\n",
    "background_pressure = gamma_b/gamma_b_per_P\n",
    "\n",
    "print(\"Cs background {cs_pressure} Torr\")\n",
    "print(\"non-Cs background {background_pressure} Torr\")"
   ]
  }
 ],
 "metadata": {
  "kernelspec": {
   "display_name": "Python 3",
   "language": "python",
   "name": "python3"
  },
  "language_info": {
   "codemirror_mode": {
    "name": "ipython",
    "version": 3
   },
   "file_extension": ".py",
   "mimetype": "text/x-python",
   "name": "python",
   "nbconvert_exporter": "python",
   "pygments_lexer": "ipython3",
   "version": "3.9.6"
  }
 },
 "nbformat": 4,
 "nbformat_minor": 2
}
