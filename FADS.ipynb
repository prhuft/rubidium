{
 "cells": [
  {
   "cell_type": "markdown",
   "metadata": {},
   "source": [
    "FORT Atom Dynamics Simulators (FADS)\n",
    "Preston Huft, July 2019\n",
    "\n",
    "For simulating atom dynamics in a far-off resonance trap (FORT), including\n",
    "- chopped cooling\n",
    "- release recapture temperature measurements\n",
    "- power modulation resonance searches (parametric heating)"
   ]
  },
  {
   "cell_type": "code",
   "execution_count": null,
   "metadata": {},
   "outputs": [],
   "source": [
    "### pseudocode here\n",
    "\n",
    "# do this with objects. have an atom class, an experiment class to set FORT on off times, etc. \n",
    "# do this for several atoms, say 100: \n",
    "# capture an atom with a random velocity corresponding to a given T, say 25 uK\n",
    "# integrate the differential eq for the FORT being on either continuously or chopped (state machine it?)\n",
    "# the eq should use the dipole force given a gaussian intensity profile in r, and whatever shape the focus is\n",
    "# calculate things like mean squared velocity in the FORT to track temp, kinetic energy"
   ]
  },
  {
   "cell_type": "code",
   "execution_count": null,
   "metadata": {},
   "outputs": [],
   "source": []
  }
 ],
 "metadata": {
  "kernelspec": {
   "display_name": "Python 3",
   "language": "python",
   "name": "python3"
  },
  "language_info": {
   "codemirror_mode": {
    "name": "ipython",
    "version": 3
   },
   "file_extension": ".py",
   "mimetype": "text/x-python",
   "name": "python",
   "nbconvert_exporter": "python",
   "pygments_lexer": "ipython3",
   "version": "3.7.3"
  }
 },
 "nbformat": 4,
 "nbformat_minor": 2
}
