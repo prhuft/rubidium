{
 "cells": [
  {
   "cell_type": "markdown",
   "metadata": {},
   "source": [
    "HF Zeeman Shifts"
   ]
  },
  {
   "cell_type": "code",
   "execution_count": 1,
   "metadata": {},
   "outputs": [
    {
     "data": {
      "text/html": [
       "<style>.container{width:100% !important;}</style>"
      ],
      "text/plain": [
       "<IPython.core.display.HTML object>"
      ]
     },
     "metadata": {},
     "output_type": "display_data"
    }
   ],
   "source": [
    "#### libraries\n",
    "# %matplotlib notebook\n",
    "from matplotlib import pyplot as plt\n",
    "from sympy import symbols,N,lambdify\n",
    "from sympy import Matrix,zeros\n",
    "from sympy.utilities.iterables import flatten\n",
    "import numpy as np\n",
    "from numpy.linalg import eig\n",
    "\n",
    "#### local files\n",
    "from rbconsts import *\n",
    "from physconsts import *\n",
    "from amophys import *\n",
    "from conversions import *\n",
    "\n",
    "#### layout stuff\n",
    "from IPython.core.display import display,HTML\n",
    "display(HTML(\"<style>.container{width:100% !important;}</style>\"))\n",
    "\n",
    "# Inuc = I # prevent weird stuff happening later?\n",
    "# important: 'I' is the nuclear spin, not sympy imaginary i. Use\n",
    "# numpy's 1j for imaginary i. "
   ]
  },
  {
   "cell_type": "code",
   "execution_count": 12,
   "metadata": {
    "collapsed": true
   },
   "outputs": [
    {
     "ename": "KeyboardInterrupt",
     "evalue": "",
     "output_type": "error",
     "traceback": [
      "\u001b[1;31m---------------------------------------------------------------------------\u001b[0m",
      "\u001b[1;31mKeyboardInterrupt\u001b[0m                         Traceback (most recent call last)",
      "\u001b[1;32m<ipython-input-12-d490a9326a78>\u001b[0m in \u001b[0;36m<module>\u001b[1;34m\u001b[0m\n\u001b[0;32m     36\u001b[0m \u001b[1;31m# Diagonalize the full Hamiltonian\u001b[0m\u001b[1;33m\u001b[0m\u001b[1;33m\u001b[0m\u001b[1;33m\u001b[0m\u001b[0m\n\u001b[0;32m     37\u001b[0m \u001b[0mH\u001b[0m \u001b[1;33m=\u001b[0m \u001b[0mMatrix\u001b[0m\u001b[1;33m(\u001b[0m\u001b[0mH_a\u001b[0m \u001b[1;33m+\u001b[0m \u001b[0mH_Zz\u001b[0m\u001b[1;33m)\u001b[0m\u001b[1;33m\u001b[0m\u001b[1;33m\u001b[0m\u001b[0m\n\u001b[1;32m---> 38\u001b[1;33m \u001b[0mP\u001b[0m\u001b[1;33m,\u001b[0m\u001b[0mD\u001b[0m \u001b[1;33m=\u001b[0m \u001b[0mH\u001b[0m\u001b[1;33m.\u001b[0m\u001b[0mdiagonalize\u001b[0m\u001b[1;33m(\u001b[0m\u001b[1;33m)\u001b[0m\u001b[1;33m\u001b[0m\u001b[1;33m\u001b[0m\u001b[0m\n\u001b[0m\u001b[0;32m     39\u001b[0m \u001b[0mevals\u001b[0m \u001b[1;33m=\u001b[0m \u001b[1;33m[\u001b[0m\u001b[0mD\u001b[0m\u001b[1;33m[\u001b[0m\u001b[0mi\u001b[0m\u001b[1;33m,\u001b[0m\u001b[0mi\u001b[0m\u001b[1;33m]\u001b[0m \u001b[1;32mfor\u001b[0m \u001b[0mi\u001b[0m \u001b[1;32min\u001b[0m \u001b[0mrange\u001b[0m\u001b[1;33m(\u001b[0m\u001b[1;36m0\u001b[0m\u001b[1;33m,\u001b[0m\u001b[0mlen\u001b[0m\u001b[1;33m(\u001b[0m\u001b[0mbasis\u001b[0m\u001b[1;33m)\u001b[0m\u001b[1;33m)\u001b[0m\u001b[1;33m]\u001b[0m\u001b[1;33m\u001b[0m\u001b[1;33m\u001b[0m\u001b[0m\n\u001b[0;32m     40\u001b[0m \u001b[1;33m\u001b[0m\u001b[0m\n",
      "\u001b[1;32m~\\Anaconda3\\lib\\site-packages\\sympy\\matrices\\matrices.py\u001b[0m in \u001b[0;36mdiagonalize\u001b[1;34m(self, reals_only, sort, normalize)\u001b[0m\n\u001b[0;32m   1084\u001b[0m             \u001b[1;32mraise\u001b[0m \u001b[0mNonSquareMatrixError\u001b[0m\u001b[1;33m(\u001b[0m\u001b[1;33m)\u001b[0m\u001b[1;33m\u001b[0m\u001b[1;33m\u001b[0m\u001b[0m\n\u001b[0;32m   1085\u001b[0m \u001b[1;33m\u001b[0m\u001b[0m\n\u001b[1;32m-> 1086\u001b[1;33m         \u001b[1;32mif\u001b[0m \u001b[1;32mnot\u001b[0m \u001b[0mself\u001b[0m\u001b[1;33m.\u001b[0m\u001b[0mis_diagonalizable\u001b[0m\u001b[1;33m(\u001b[0m\u001b[0mreals_only\u001b[0m\u001b[1;33m=\u001b[0m\u001b[0mreals_only\u001b[0m\u001b[1;33m,\u001b[0m \u001b[0mclear_cache\u001b[0m\u001b[1;33m=\u001b[0m\u001b[1;32mFalse\u001b[0m\u001b[1;33m)\u001b[0m\u001b[1;33m:\u001b[0m\u001b[1;33m\u001b[0m\u001b[1;33m\u001b[0m\u001b[0m\n\u001b[0m\u001b[0;32m   1087\u001b[0m             \u001b[1;32mraise\u001b[0m \u001b[0mMatrixError\u001b[0m\u001b[1;33m(\u001b[0m\u001b[1;34m\"Matrix is not diagonalizable\"\u001b[0m\u001b[1;33m)\u001b[0m\u001b[1;33m\u001b[0m\u001b[1;33m\u001b[0m\u001b[0m\n\u001b[0;32m   1088\u001b[0m \u001b[1;33m\u001b[0m\u001b[0m\n",
      "\u001b[1;32m~\\Anaconda3\\lib\\site-packages\\sympy\\matrices\\matrices.py\u001b[0m in \u001b[0;36mis_diagonalizable\u001b[1;34m(self, reals_only, **kwargs)\u001b[0m\n\u001b[0;32m   1324\u001b[0m             \u001b[1;32mreturn\u001b[0m \u001b[1;32mTrue\u001b[0m\u001b[1;33m\u001b[0m\u001b[1;33m\u001b[0m\u001b[0m\n\u001b[0;32m   1325\u001b[0m \u001b[1;33m\u001b[0m\u001b[0m\n\u001b[1;32m-> 1326\u001b[1;33m         \u001b[0mself\u001b[0m\u001b[1;33m.\u001b[0m\u001b[0m_cache_eigenvects\u001b[0m \u001b[1;33m=\u001b[0m \u001b[0mself\u001b[0m\u001b[1;33m.\u001b[0m\u001b[0meigenvects\u001b[0m\u001b[1;33m(\u001b[0m\u001b[0msimplify\u001b[0m\u001b[1;33m=\u001b[0m\u001b[1;32mTrue\u001b[0m\u001b[1;33m)\u001b[0m\u001b[1;33m\u001b[0m\u001b[1;33m\u001b[0m\u001b[0m\n\u001b[0m\u001b[0;32m   1327\u001b[0m         \u001b[0mret\u001b[0m \u001b[1;33m=\u001b[0m \u001b[1;32mTrue\u001b[0m\u001b[1;33m\u001b[0m\u001b[1;33m\u001b[0m\u001b[0m\n\u001b[0;32m   1328\u001b[0m         \u001b[1;32mfor\u001b[0m \u001b[0mval\u001b[0m\u001b[1;33m,\u001b[0m \u001b[0mmult\u001b[0m\u001b[1;33m,\u001b[0m \u001b[0mbasis\u001b[0m \u001b[1;32min\u001b[0m \u001b[0mself\u001b[0m\u001b[1;33m.\u001b[0m\u001b[0m_cache_eigenvects\u001b[0m\u001b[1;33m:\u001b[0m\u001b[1;33m\u001b[0m\u001b[1;33m\u001b[0m\u001b[0m\n",
      "\u001b[1;32m~\\Anaconda3\\lib\\site-packages\\sympy\\matrices\\matrices.py\u001b[0m in \u001b[0;36meigenvects\u001b[1;34m(self, error_when_incomplete, iszerofunc, **flags)\u001b[0m\n\u001b[0;32m   1234\u001b[0m                                   **flags)\n\u001b[0;32m   1235\u001b[0m         ret = [(val, mult, eigenspace(val)) for val, mult in\n\u001b[1;32m-> 1236\u001b[1;33m                     sorted(eigenvals.items(), key=default_sort_key)]\n\u001b[0m\u001b[0;32m   1237\u001b[0m         \u001b[1;32mif\u001b[0m \u001b[0mprimitive\u001b[0m\u001b[1;33m:\u001b[0m\u001b[1;33m\u001b[0m\u001b[1;33m\u001b[0m\u001b[0m\n\u001b[0;32m   1238\u001b[0m             \u001b[1;31m# if the primitive flag is set, get rid of any common\u001b[0m\u001b[1;33m\u001b[0m\u001b[1;33m\u001b[0m\u001b[1;33m\u001b[0m\u001b[0m\n",
      "\u001b[1;32m~\\Anaconda3\\lib\\site-packages\\sympy\\matrices\\matrices.py\u001b[0m in \u001b[0;36m<listcomp>\u001b[1;34m(.0)\u001b[0m\n\u001b[0;32m   1233\u001b[0m                                   \u001b[0merror_when_incomplete\u001b[0m\u001b[1;33m=\u001b[0m\u001b[0merror_when_incomplete\u001b[0m\u001b[1;33m,\u001b[0m\u001b[1;33m\u001b[0m\u001b[1;33m\u001b[0m\u001b[0m\n\u001b[0;32m   1234\u001b[0m                                   **flags)\n\u001b[1;32m-> 1235\u001b[1;33m         ret = [(val, mult, eigenspace(val)) for val, mult in\n\u001b[0m\u001b[0;32m   1236\u001b[0m                     sorted(eigenvals.items(), key=default_sort_key)]\n\u001b[0;32m   1237\u001b[0m         \u001b[1;32mif\u001b[0m \u001b[0mprimitive\u001b[0m\u001b[1;33m:\u001b[0m\u001b[1;33m\u001b[0m\u001b[1;33m\u001b[0m\u001b[0m\n",
      "\u001b[1;32m~\\Anaconda3\\lib\\site-packages\\sympy\\matrices\\matrices.py\u001b[0m in \u001b[0;36meigenspace\u001b[1;34m(eigenval)\u001b[0m\n\u001b[0;32m   1219\u001b[0m             \u001b[1;34m\"\"\"Get a basis for the eigenspace for a particular eigenvalue\"\"\"\u001b[0m\u001b[1;33m\u001b[0m\u001b[1;33m\u001b[0m\u001b[0m\n\u001b[0;32m   1220\u001b[0m             \u001b[0mm\u001b[0m \u001b[1;33m=\u001b[0m \u001b[0mmat\u001b[0m \u001b[1;33m-\u001b[0m \u001b[0mself\u001b[0m\u001b[1;33m.\u001b[0m\u001b[0meye\u001b[0m\u001b[1;33m(\u001b[0m\u001b[0mmat\u001b[0m\u001b[1;33m.\u001b[0m\u001b[0mrows\u001b[0m\u001b[1;33m)\u001b[0m \u001b[1;33m*\u001b[0m \u001b[0meigenval\u001b[0m\u001b[1;33m\u001b[0m\u001b[1;33m\u001b[0m\u001b[0m\n\u001b[1;32m-> 1221\u001b[1;33m             \u001b[0mret\u001b[0m \u001b[1;33m=\u001b[0m \u001b[0mm\u001b[0m\u001b[1;33m.\u001b[0m\u001b[0mnullspace\u001b[0m\u001b[1;33m(\u001b[0m\u001b[0miszerofunc\u001b[0m\u001b[1;33m=\u001b[0m\u001b[0miszerofunc\u001b[0m\u001b[1;33m)\u001b[0m\u001b[1;33m\u001b[0m\u001b[1;33m\u001b[0m\u001b[0m\n\u001b[0m\u001b[0;32m   1222\u001b[0m             \u001b[1;31m# the nullspace for a real eigenvalue should be\u001b[0m\u001b[1;33m\u001b[0m\u001b[1;33m\u001b[0m\u001b[1;33m\u001b[0m\u001b[0m\n\u001b[0;32m   1223\u001b[0m             \u001b[1;31m# non-trivial.  If we didn't find an eigenvector, try once\u001b[0m\u001b[1;33m\u001b[0m\u001b[1;33m\u001b[0m\u001b[1;33m\u001b[0m\u001b[0m\n",
      "\u001b[1;32m~\\Anaconda3\\lib\\site-packages\\sympy\\matrices\\matrices.py\u001b[0m in \u001b[0;36mnullspace\u001b[1;34m(self, simplify, iszerofunc)\u001b[0m\n\u001b[0;32m    959\u001b[0m         \"\"\"\n\u001b[0;32m    960\u001b[0m \u001b[1;33m\u001b[0m\u001b[0m\n\u001b[1;32m--> 961\u001b[1;33m         \u001b[0mreduced\u001b[0m\u001b[1;33m,\u001b[0m \u001b[0mpivots\u001b[0m \u001b[1;33m=\u001b[0m \u001b[0mself\u001b[0m\u001b[1;33m.\u001b[0m\u001b[0mrref\u001b[0m\u001b[1;33m(\u001b[0m\u001b[0miszerofunc\u001b[0m\u001b[1;33m=\u001b[0m\u001b[0miszerofunc\u001b[0m\u001b[1;33m,\u001b[0m \u001b[0msimplify\u001b[0m\u001b[1;33m=\u001b[0m\u001b[0msimplify\u001b[0m\u001b[1;33m)\u001b[0m\u001b[1;33m\u001b[0m\u001b[1;33m\u001b[0m\u001b[0m\n\u001b[0m\u001b[0;32m    962\u001b[0m \u001b[1;33m\u001b[0m\u001b[0m\n\u001b[0;32m    963\u001b[0m         \u001b[0mfree_vars\u001b[0m \u001b[1;33m=\u001b[0m \u001b[1;33m[\u001b[0m\u001b[0mi\u001b[0m \u001b[1;32mfor\u001b[0m \u001b[0mi\u001b[0m \u001b[1;32min\u001b[0m \u001b[0mrange\u001b[0m\u001b[1;33m(\u001b[0m\u001b[0mself\u001b[0m\u001b[1;33m.\u001b[0m\u001b[0mcols\u001b[0m\u001b[1;33m)\u001b[0m \u001b[1;32mif\u001b[0m \u001b[0mi\u001b[0m \u001b[1;32mnot\u001b[0m \u001b[1;32min\u001b[0m \u001b[0mpivots\u001b[0m\u001b[1;33m]\u001b[0m\u001b[1;33m\u001b[0m\u001b[1;33m\u001b[0m\u001b[0m\n",
      "\u001b[1;32m~\\Anaconda3\\lib\\site-packages\\sympy\\matrices\\matrices.py\u001b[0m in \u001b[0;36mrref\u001b[1;34m(self, iszerofunc, simplify, pivots, normalize_last)\u001b[0m\n\u001b[0;32m    891\u001b[0m         ret, pivot_cols = self._eval_rref(iszerofunc=iszerofunc,\n\u001b[0;32m    892\u001b[0m                                           \u001b[0msimpfunc\u001b[0m\u001b[1;33m=\u001b[0m\u001b[0msimpfunc\u001b[0m\u001b[1;33m,\u001b[0m\u001b[1;33m\u001b[0m\u001b[1;33m\u001b[0m\u001b[0m\n\u001b[1;32m--> 893\u001b[1;33m                                           normalize_last=normalize_last)\n\u001b[0m\u001b[0;32m    894\u001b[0m         \u001b[1;32mif\u001b[0m \u001b[0mpivots\u001b[0m\u001b[1;33m:\u001b[0m\u001b[1;33m\u001b[0m\u001b[1;33m\u001b[0m\u001b[0m\n\u001b[0;32m    895\u001b[0m             \u001b[0mret\u001b[0m \u001b[1;33m=\u001b[0m \u001b[1;33m(\u001b[0m\u001b[0mret\u001b[0m\u001b[1;33m,\u001b[0m \u001b[0mpivot_cols\u001b[0m\u001b[1;33m)\u001b[0m\u001b[1;33m\u001b[0m\u001b[1;33m\u001b[0m\u001b[0m\n",
      "\u001b[1;32m~\\Anaconda3\\lib\\site-packages\\sympy\\matrices\\matrices.py\u001b[0m in \u001b[0;36m_eval_rref\u001b[1;34m(self, iszerofunc, simpfunc, normalize_last)\u001b[0m\n\u001b[0;32m    546\u001b[0m         reduced, pivot_cols, swaps = self._row_reduce(iszerofunc, simpfunc,\n\u001b[0;32m    547\u001b[0m                                                       \u001b[0mnormalize_last\u001b[0m\u001b[1;33m,\u001b[0m \u001b[0mnormalize\u001b[0m\u001b[1;33m=\u001b[0m\u001b[1;32mTrue\u001b[0m\u001b[1;33m,\u001b[0m\u001b[1;33m\u001b[0m\u001b[1;33m\u001b[0m\u001b[0m\n\u001b[1;32m--> 548\u001b[1;33m                                                       zero_above=True)\n\u001b[0m\u001b[0;32m    549\u001b[0m         \u001b[1;32mreturn\u001b[0m \u001b[0mreduced\u001b[0m\u001b[1;33m,\u001b[0m \u001b[0mpivot_cols\u001b[0m\u001b[1;33m\u001b[0m\u001b[1;33m\u001b[0m\u001b[0m\n\u001b[0;32m    550\u001b[0m \u001b[1;33m\u001b[0m\u001b[0m\n",
      "\u001b[1;32m~\\Anaconda3\\lib\\site-packages\\sympy\\matrices\\matrices.py\u001b[0m in \u001b[0;36m_row_reduce\u001b[1;34m(self, iszerofunc, simpfunc, normalize_last, normalize, zero_above)\u001b[0m\n\u001b[0;32m    662\u001b[0m             \u001b[0mpivot_offset\u001b[0m\u001b[1;33m,\u001b[0m \u001b[0mpivot_val\u001b[0m\u001b[1;33m,\u001b[0m\u001b[0;31m \u001b[0m\u001b[0;31m\\\u001b[0m\u001b[1;33m\u001b[0m\u001b[1;33m\u001b[0m\u001b[0m\n\u001b[0;32m    663\u001b[0m             assumed_nonzero, newly_determined = _find_reasonable_pivot(\n\u001b[1;32m--> 664\u001b[1;33m                 get_col(piv_col)[piv_row:], iszerofunc, simpfunc)\n\u001b[0m\u001b[0;32m    665\u001b[0m \u001b[1;33m\u001b[0m\u001b[0m\n\u001b[0;32m    666\u001b[0m             \u001b[1;31m# _find_reasonable_pivot may have simplified some things\u001b[0m\u001b[1;33m\u001b[0m\u001b[1;33m\u001b[0m\u001b[1;33m\u001b[0m\u001b[0m\n",
      "\u001b[1;32m~\\Anaconda3\\lib\\site-packages\\sympy\\matrices\\matrices.py\u001b[0m in \u001b[0;36m_find_reasonable_pivot\u001b[1;34m(col, iszerofunc, simpfunc)\u001b[0m\n\u001b[0;32m   4240\u001b[0m         \u001b[1;32mif\u001b[0m \u001b[0mpossible_zeros\u001b[0m\u001b[1;33m[\u001b[0m\u001b[0mi\u001b[0m\u001b[1;33m]\u001b[0m \u001b[1;32mis\u001b[0m \u001b[1;32mnot\u001b[0m \u001b[1;32mNone\u001b[0m\u001b[1;33m:\u001b[0m\u001b[1;33m\u001b[0m\u001b[1;33m\u001b[0m\u001b[0m\n\u001b[0;32m   4241\u001b[0m             \u001b[1;32mcontinue\u001b[0m\u001b[1;33m\u001b[0m\u001b[1;33m\u001b[0m\u001b[0m\n\u001b[1;32m-> 4242\u001b[1;33m         \u001b[1;32mif\u001b[0m \u001b[0mx\u001b[0m\u001b[1;33m.\u001b[0m\u001b[0mequals\u001b[0m\u001b[1;33m(\u001b[0m\u001b[0mS\u001b[0m\u001b[1;33m.\u001b[0m\u001b[0mZero\u001b[0m\u001b[1;33m)\u001b[0m\u001b[1;33m:\u001b[0m\u001b[1;33m\u001b[0m\u001b[1;33m\u001b[0m\u001b[0m\n\u001b[0m\u001b[0;32m   4243\u001b[0m             \u001b[1;31m# `.iszero` may return False with\u001b[0m\u001b[1;33m\u001b[0m\u001b[1;33m\u001b[0m\u001b[1;33m\u001b[0m\u001b[0m\n\u001b[0;32m   4244\u001b[0m             \u001b[1;31m# an implicit assumption (e.g., `x.equals(0)`\u001b[0m\u001b[1;33m\u001b[0m\u001b[1;33m\u001b[0m\u001b[1;33m\u001b[0m\u001b[0m\n",
      "\u001b[1;32m~\\Anaconda3\\lib\\site-packages\\sympy\\core\\expr.py\u001b[0m in \u001b[0;36mequals\u001b[1;34m(self, other, failing_expression)\u001b[0m\n\u001b[0;32m    668\u001b[0m         \u001b[1;31m# because if the expression ever goes to 0 then the subsequent\u001b[0m\u001b[1;33m\u001b[0m\u001b[1;33m\u001b[0m\u001b[1;33m\u001b[0m\u001b[0m\n\u001b[0;32m    669\u001b[0m         \u001b[1;31m# simplification steps that are done will be very fast.\u001b[0m\u001b[1;33m\u001b[0m\u001b[1;33m\u001b[0m\u001b[1;33m\u001b[0m\u001b[0m\n\u001b[1;32m--> 670\u001b[1;33m         \u001b[0mdiff\u001b[0m \u001b[1;33m=\u001b[0m \u001b[0mfactor_terms\u001b[0m\u001b[1;33m(\u001b[0m\u001b[0msimplify\u001b[0m\u001b[1;33m(\u001b[0m\u001b[0mself\u001b[0m \u001b[1;33m-\u001b[0m \u001b[0mother\u001b[0m\u001b[1;33m)\u001b[0m\u001b[1;33m,\u001b[0m \u001b[0mradical\u001b[0m\u001b[1;33m=\u001b[0m\u001b[1;32mTrue\u001b[0m\u001b[1;33m)\u001b[0m\u001b[1;33m\u001b[0m\u001b[1;33m\u001b[0m\u001b[0m\n\u001b[0m\u001b[0;32m    671\u001b[0m \u001b[1;33m\u001b[0m\u001b[0m\n\u001b[0;32m    672\u001b[0m         \u001b[1;32mif\u001b[0m \u001b[1;32mnot\u001b[0m \u001b[0mdiff\u001b[0m\u001b[1;33m:\u001b[0m\u001b[1;33m\u001b[0m\u001b[1;33m\u001b[0m\u001b[0m\n",
      "\u001b[1;32m~\\Anaconda3\\lib\\site-packages\\sympy\\simplify\\simplify.py\u001b[0m in \u001b[0;36msimplify\u001b[1;34m(expr, ratio, measure, rational, inverse)\u001b[0m\n\u001b[0;32m    635\u001b[0m             \u001b[0mexpr\u001b[0m \u001b[1;33m=\u001b[0m \u001b[0msignsimp\u001b[0m\u001b[1;33m(\u001b[0m\u001b[1;33m-\u001b[0m\u001b[0mn\u001b[0m\u001b[1;33m/\u001b[0m\u001b[1;33m(\u001b[0m\u001b[1;33m-\u001b[0m\u001b[0md\u001b[0m\u001b[1;33m)\u001b[0m\u001b[1;33m)\u001b[0m\u001b[1;33m\u001b[0m\u001b[1;33m\u001b[0m\u001b[0m\n\u001b[0;32m    636\u001b[0m \u001b[1;33m\u001b[0m\u001b[0m\n\u001b[1;32m--> 637\u001b[1;33m     \u001b[1;32mif\u001b[0m \u001b[0mmeasure\u001b[0m\u001b[1;33m(\u001b[0m\u001b[0mexpr\u001b[0m\u001b[1;33m)\u001b[0m \u001b[1;33m>\u001b[0m \u001b[0mratio\u001b[0m\u001b[1;33m*\u001b[0m\u001b[0mmeasure\u001b[0m\u001b[1;33m(\u001b[0m\u001b[0moriginal_expr\u001b[0m\u001b[1;33m)\u001b[0m\u001b[1;33m:\u001b[0m\u001b[1;33m\u001b[0m\u001b[1;33m\u001b[0m\u001b[0m\n\u001b[0m\u001b[0;32m    638\u001b[0m         \u001b[0mexpr\u001b[0m \u001b[1;33m=\u001b[0m \u001b[0moriginal_expr\u001b[0m\u001b[1;33m\u001b[0m\u001b[1;33m\u001b[0m\u001b[0m\n\u001b[0;32m    639\u001b[0m \u001b[1;33m\u001b[0m\u001b[0m\n",
      "\u001b[1;32m~\\Anaconda3\\lib\\site-packages\\sympy\\core\\function.py\u001b[0m in \u001b[0;36mcount_ops\u001b[1;34m(expr, visual)\u001b[0m\n\u001b[0;32m   2630\u001b[0m                     \u001b[1;32melse\u001b[0m\u001b[1;33m:\u001b[0m\u001b[1;33m\u001b[0m\u001b[1;33m\u001b[0m\u001b[0m\n\u001b[0;32m   2631\u001b[0m                         \u001b[0ma\u001b[0m \u001b[1;33m=\u001b[0m \u001b[1;33m-\u001b[0m\u001b[0ma\u001b[0m\u001b[1;33m\u001b[0m\u001b[1;33m\u001b[0m\u001b[0m\n\u001b[1;32m-> 2632\u001b[1;33m                 \u001b[0mn\u001b[0m\u001b[1;33m,\u001b[0m \u001b[0md\u001b[0m \u001b[1;33m=\u001b[0m \u001b[0mfraction\u001b[0m\u001b[1;33m(\u001b[0m\u001b[0ma\u001b[0m\u001b[1;33m)\u001b[0m\u001b[1;33m\u001b[0m\u001b[1;33m\u001b[0m\u001b[0m\n\u001b[0m\u001b[0;32m   2633\u001b[0m                 \u001b[1;32mif\u001b[0m \u001b[0mn\u001b[0m\u001b[1;33m.\u001b[0m\u001b[0mis_Integer\u001b[0m\u001b[1;33m:\u001b[0m\u001b[1;33m\u001b[0m\u001b[1;33m\u001b[0m\u001b[0m\n\u001b[0;32m   2634\u001b[0m                     \u001b[0mops\u001b[0m\u001b[1;33m.\u001b[0m\u001b[0mappend\u001b[0m\u001b[1;33m(\u001b[0m\u001b[0mDIV\u001b[0m\u001b[1;33m)\u001b[0m\u001b[1;33m\u001b[0m\u001b[1;33m\u001b[0m\u001b[0m\n",
      "\u001b[1;32m~\\Anaconda3\\lib\\site-packages\\sympy\\simplify\\radsimp.py\u001b[0m in \u001b[0;36mfraction\u001b[1;34m(expr, exact)\u001b[0m\n\u001b[0;32m    986\u001b[0m     \u001b[0mexpr\u001b[0m \u001b[1;33m=\u001b[0m \u001b[0msympify\u001b[0m\u001b[1;33m(\u001b[0m\u001b[0mexpr\u001b[0m\u001b[1;33m)\u001b[0m\u001b[1;33m\u001b[0m\u001b[1;33m\u001b[0m\u001b[0m\n\u001b[0;32m    987\u001b[0m \u001b[1;33m\u001b[0m\u001b[0m\n\u001b[1;32m--> 988\u001b[1;33m     \u001b[0mnumer\u001b[0m\u001b[1;33m,\u001b[0m \u001b[0mdenom\u001b[0m \u001b[1;33m=\u001b[0m \u001b[1;33m[\u001b[0m\u001b[1;33m]\u001b[0m\u001b[1;33m,\u001b[0m \u001b[1;33m[\u001b[0m\u001b[1;33m]\u001b[0m\u001b[1;33m\u001b[0m\u001b[1;33m\u001b[0m\u001b[0m\n\u001b[0m\u001b[0;32m    989\u001b[0m \u001b[1;33m\u001b[0m\u001b[0m\n\u001b[0;32m    990\u001b[0m     \u001b[1;32mfor\u001b[0m \u001b[0mterm\u001b[0m \u001b[1;32min\u001b[0m \u001b[0mMul\u001b[0m\u001b[1;33m.\u001b[0m\u001b[0mmake_args\u001b[0m\u001b[1;33m(\u001b[0m\u001b[0mexpr\u001b[0m\u001b[1;33m)\u001b[0m\u001b[1;33m:\u001b[0m\u001b[1;33m\u001b[0m\u001b[1;33m\u001b[0m\u001b[0m\n",
      "\u001b[1;31mKeyboardInterrupt\u001b[0m: "
     ]
    }
   ],
   "source": [
    "#### Rb87 5s1/2 HF Zeeman Shifts:\n",
    "L = 0; S = 1/2; J = 1/2;\n",
    "Flist = [2,1] # F = I + J\n",
    "\n",
    "E_5sF2 = GHzToeV(2.56300597908911) # GHz\n",
    "E_5sF1 = GHzToeV(-4.27167663181519) # GHz\n",
    "\n",
    "gJ = gJ_fn(J,L,S,gL,gS)\n",
    "\n",
    "Bzlist = np.linspace(0,.5,30)\n",
    "\n",
    "# TODO: make hf energies above/below com energy\n",
    "E_hf = GHzToeV(nu_hf) # assign numeric value to ease diagonalization (?)\n",
    "\n",
    "# Rb Hamiltonian for HF ground states in {|F,mF>} basis\n",
    "H_a = zeros((8,8))\n",
    "for i in range(8):\n",
    "    if i < 5:\n",
    "        H_a[i,i] = E_5sF2\n",
    "    else: \n",
    "        H_a[i,i] = E_5sF1\n",
    "\n",
    "# Zeeman Hamiltonian for B = Bz\n",
    "H_Zz = np.empty((8,8),object)\n",
    "basis = jmbasis(Flist)\n",
    "for i,state_i in enumerate(basis):\n",
    "        F,mF = state_i\n",
    "        for j,state_j in enumerate(basis):\n",
    "            FF,mFF = state_j\n",
    "            states = [I,J,F,mF,FF,mFF]\n",
    "            try:\n",
    "                H_Zz[i,j] = hf_zeeman(states,gJ,gI)\n",
    "            except:\n",
    "                print(\"Failed: %s\" % states)\n",
    "\n",
    "# Diagonalize the full Hamiltonian\n",
    "H = Matrix(H_a + H_Zz)\n",
    "P,D = H.diagonalize()\n",
    "evals = [D[i,i] for i in range(0,len(basis))]\n",
    "\n",
    "# The energies as a function of magnetic P.E.\n",
    "shifts = lambdify('U_B',evals)\n",
    "\n",
    "zshifts = np.empty((len(Bzlist),len(basis)))\n",
    "for i,Bz in enumerate(Bzlist):\n",
    "    # make sure units of U_B same as E_hf then convert the whole shift\n",
    "    zshifts[i] = np.sort([eVToGHz(x) for x in shifts(JToeV(uB*Bz))]) \n",
    "    \n",
    "# arranged the shifts by state, not B value\n",
    "zshifts = np.transpose(zshifts)\n",
    "print(\"computed Zeeman shifts\")"
   ]
  },
  {
   "cell_type": "markdown",
   "metadata": {},
   "source": [
    "## solely numerical calculation"
   ]
  },
  {
   "cell_type": "code",
   "execution_count": 50,
   "metadata": {},
   "outputs": [
    {
     "data": {
      "text/plain": [
       "array([list([1, 1]), list([1, 0]), list([1, -1]), list([2, 2]),\n",
       "       list([2, 1]), list([2, 0]), list([2, -1]), list([2, -2])],\n",
       "      dtype=object)"
      ]
     },
     "execution_count": 50,
     "metadata": {},
     "output_type": "execute_result"
    }
   ],
   "source": [
    "basis"
   ]
  },
  {
   "cell_type": "code",
   "execution_count": 35,
   "metadata": {},
   "outputs": [
    {
     "name": "stdout",
     "output_type": "stream",
     "text": [
      "computed Zeeman shifts\n"
     ]
    }
   ],
   "source": [
    "#### Rb87 5s1/2 HF Zeeman Shifts:\n",
    "L = 0; S = 1/2; J = 1/2;\n",
    "Flist = [2,1] # F = I + J\n",
    "\n",
    "E_5sF2 = GHzToeV(2.56300597908911) # GHz\n",
    "E_5sF1 = GHzToeV(-4.27167663181519) # GHz\n",
    "\n",
    "gJ = gJ_fn(J,L,S,gL,gS)\n",
    "\n",
    "steps = 30\n",
    "Bzlist = np.linspace(0,.5,steps)\n",
    "\n",
    "# TODO: make hf energies above/below com energy\n",
    "E_hf = GHzToeV(nu_hf) # assign numeric value to ease diagonalization (?)\n",
    "\n",
    "# Rb Hamiltonian for HF ground states in {|F,mF>} basis\n",
    "dim = 8\n",
    "H_a = zeros((dim,dim))\n",
    "for i in range(dim):\n",
    "    if i < 5:\n",
    "        H_a[i,i] = E_5sF2\n",
    "    else: \n",
    "        H_a[i,i] = E_5sF1\n",
    "\n",
    "solution = empty((dim, steps))        \n",
    "\n",
    "# Zeeman Hamiltonian for B = Bz\n",
    "for sol_idx,Bz in enumerate(Bzlist):\n",
    "    \n",
    "    H_Zz = np.empty((dim,dim))\n",
    "    basis = jmbasis(Flist)\n",
    "    for i,state_i in enumerate(basis):\n",
    "            F,mF = state_i\n",
    "            for j,state_j in enumerate(basis):\n",
    "                FF,mFF = state_j\n",
    "                states = [I,J,F,mF,FF,mFF]\n",
    "                try:\n",
    "                    H_Zz[i,j] = hf_zeeman(states,gJ,gI,JToeV(Bz))\n",
    "                except:\n",
    "                    print(\"Failed: %s\" % states)\n",
    "                    \n",
    "    evals_sorted = empty(dim)\n",
    "    \n",
    "    H_full = H_a + H_Zz\n",
    "    evals,evecs = np.linalg.eigh(H_full)  \n",
    "    \n",
    "    # sort e-vals by overlap of state with previous basis vectors\n",
    "    \n",
    "    # iterating this way leads to using redundant values apparently\n",
    "#     for k in range(dim): \n",
    "#         idx = np.argsort([np.vdot(evecs[:,l],ovecs[:,k]) for l in range(dim)])[-1]\n",
    "#         evals_sorted[k] = evals[idx]\n",
    "    evals_sorted = sort(evals)\n",
    "    solution[:,sol_idx] = evals_sorted\n",
    "    \n",
    "print(\"computed Zeeman shifts\")"
   ]
  },
  {
   "cell_type": "code",
   "execution_count": 51,
   "metadata": {},
   "outputs": [
    {
     "data": {
      "image/png": "[encoded data removed]",
      "text/plain": [
       "<Figure size 432x288 with 1 Axes>"
      ]
     },
     "metadata": {
      "needs_background": "light"
     },
     "output_type": "display_data"
    }
   ],
   "source": [
    "# getting closer but not clear why \n",
    "fig, ax = plt.subplots()\n",
    "for i in range(dim):\n",
    "    ax.plot(Bzlist, solution[i,:])\n",
    "# ax.plot(Bzlist, solution[6,:]-solution[7,:])"
   ]
  },
  {
   "cell_type": "code",
   "execution_count": 7,
   "metadata": {},
   "outputs": [
    {
     "data": {
      "text/plain": [
       "(-2, -2)"
      ]
     },
     "execution_count": 7,
     "metadata": {},
     "output_type": "execute_result"
    }
   ],
   "source": [
    "mF, mFF"
   ]
  },
  {
   "cell_type": "code",
   "execution_count": 14,
   "metadata": {
    "collapsed": true
   },
   "outputs": [
    {
     "name": "stdout",
     "output_type": "stream",
     "text": [
      "Failed: [1.5, 0.5, 1, 1, 1, 1]\n",
      "Failed: [1.5, 0.5, 1, 1, 2, 1]\n",
      "Failed: [1.5, 0.5, 1, 0, 2, 0]\n",
      "Failed: [1.5, 0.5, 1, -1, 1, -1]\n",
      "Failed: [1.5, 0.5, 1, -1, 2, -1]\n",
      "Failed: [1.5, 0.5, 2, 2, 2, 2]\n",
      "Failed: [1.5, 0.5, 2, 1, 1, 1]\n",
      "Failed: [1.5, 0.5, 2, 1, 2, 1]\n",
      "Failed: [1.5, 0.5, 2, 0, 1, 0]\n",
      "Failed: [1.5, 0.5, 2, -1, 1, -1]\n",
      "Failed: [1.5, 0.5, 2, -1, 2, -1]\n",
      "Failed: [1.5, 0.5, 2, -2, 2, -2]\n",
      "Failed: [1.5, 0.5, 1, 1, 1, 1]\n",
      "Failed: [1.5, 0.5, 1, 1, 2, 1]\n",
      "Failed: [1.5, 0.5, 1, 0, 2, 0]\n",
      "Failed: [1.5, 0.5, 1, -1, 1, -1]\n",
      "Failed: [1.5, 0.5, 1, -1, 2, -1]\n",
      "Failed: [1.5, 0.5, 2, 2, 2, 2]\n",
      "Failed: [1.5, 0.5, 2, 1, 1, 1]\n",
      "Failed: [1.5, 0.5, 2, 1, 2, 1]\n",
      "Failed: [1.5, 0.5, 2, 0, 1, 0]\n",
      "Failed: [1.5, 0.5, 2, -1, 1, -1]\n",
      "Failed: [1.5, 0.5, 2, -1, 2, -1]\n",
      "Failed: [1.5, 0.5, 2, -2, 2, -2]\n",
      "Failed: [1.5, 0.5, 1, 1, 1, 1]\n",
      "Failed: [1.5, 0.5, 1, 1, 2, 1]\n",
      "Failed: [1.5, 0.5, 1, 0, 2, 0]\n",
      "Failed: [1.5, 0.5, 1, -1, 1, -1]\n",
      "Failed: [1.5, 0.5, 1, -1, 2, -1]\n",
      "Failed: [1.5, 0.5, 2, 2, 2, 2]\n",
      "Failed: [1.5, 0.5, 2, 1, 1, 1]\n",
      "Failed: [1.5, 0.5, 2, 1, 2, 1]\n",
      "Failed: [1.5, 0.5, 2, 0, 1, 0]\n",
      "Failed: [1.5, 0.5, 2, -1, 1, -1]\n",
      "Failed: [1.5, 0.5, 2, -1, 2, -1]\n",
      "Failed: [1.5, 0.5, 2, -2, 2, -2]\n",
      "Failed: [1.5, 0.5, 1, 1, 1, 1]\n",
      "Failed: [1.5, 0.5, 1, 1, 2, 1]\n",
      "Failed: [1.5, 0.5, 1, 0, 2, 0]\n",
      "Failed: [1.5, 0.5, 1, -1, 1, -1]\n",
      "Failed: [1.5, 0.5, 1, -1, 2, -1]\n",
      "Failed: [1.5, 0.5, 2, 2, 2, 2]\n",
      "Failed: [1.5, 0.5, 2, 1, 1, 1]\n",
      "Failed: [1.5, 0.5, 2, 1, 2, 1]\n",
      "Failed: [1.5, 0.5, 2, 0, 1, 0]\n",
      "Failed: [1.5, 0.5, 2, -1, 1, -1]\n",
      "Failed: [1.5, 0.5, 2, -1, 2, -1]\n",
      "Failed: [1.5, 0.5, 2, -2, 2, -2]\n",
      "Failed: [1.5, 0.5, 1, 1, 1, 1]\n",
      "Failed: [1.5, 0.5, 1, 1, 2, 1]\n",
      "Failed: [1.5, 0.5, 1, 0, 2, 0]\n",
      "Failed: [1.5, 0.5, 1, -1, 1, -1]\n",
      "Failed: [1.5, 0.5, 1, -1, 2, -1]\n",
      "Failed: [1.5, 0.5, 2, 2, 2, 2]\n",
      "Failed: [1.5, 0.5, 2, 1, 1, 1]\n",
      "Failed: [1.5, 0.5, 2, 1, 2, 1]\n",
      "Failed: [1.5, 0.5, 2, 0, 1, 0]\n",
      "Failed: [1.5, 0.5, 2, -1, 1, -1]\n",
      "Failed: [1.5, 0.5, 2, -1, 2, -1]\n",
      "Failed: [1.5, 0.5, 2, -2, 2, -2]\n",
      "Failed: [1.5, 0.5, 1, 1, 1, 1]\n",
      "Failed: [1.5, 0.5, 1, 1, 2, 1]\n",
      "Failed: [1.5, 0.5, 1, 0, 2, 0]\n",
      "Failed: [1.5, 0.5, 1, -1, 1, -1]\n",
      "Failed: [1.5, 0.5, 1, -1, 2, -1]\n",
      "Failed: [1.5, 0.5, 2, 2, 2, 2]\n",
      "Failed: [1.5, 0.5, 2, 1, 1, 1]\n",
      "Failed: [1.5, 0.5, 2, 1, 2, 1]\n",
      "Failed: [1.5, 0.5, 2, 0, 1, 0]\n",
      "Failed: [1.5, 0.5, 2, -1, 1, -1]\n",
      "Failed: [1.5, 0.5, 2, -1, 2, -1]\n",
      "Failed: [1.5, 0.5, 2, -2, 2, -2]\n",
      "Failed: [1.5, 0.5, 1, 1, 1, 1]\n",
      "Failed: [1.5, 0.5, 1, 1, 2, 1]\n",
      "Failed: [1.5, 0.5, 1, 0, 2, 0]\n",
      "Failed: [1.5, 0.5, 1, -1, 1, -1]\n",
      "Failed: [1.5, 0.5, 1, -1, 2, -1]\n",
      "Failed: [1.5, 0.5, 2, 2, 2, 2]\n",
      "Failed: [1.5, 0.5, 2, 1, 1, 1]\n",
      "Failed: [1.5, 0.5, 2, 1, 2, 1]\n",
      "Failed: [1.5, 0.5, 2, 0, 1, 0]\n",
      "Failed: [1.5, 0.5, 2, -1, 1, -1]\n",
      "Failed: [1.5, 0.5, 2, -1, 2, -1]\n",
      "Failed: [1.5, 0.5, 2, -2, 2, -2]\n",
      "Failed: [1.5, 0.5, 1, 1, 1, 1]\n",
      "Failed: [1.5, 0.5, 1, 1, 2, 1]\n",
      "Failed: [1.5, 0.5, 1, 0, 2, 0]\n",
      "Failed: [1.5, 0.5, 1, -1, 1, -1]\n",
      "Failed: [1.5, 0.5, 1, -1, 2, -1]\n",
      "Failed: [1.5, 0.5, 2, 2, 2, 2]\n",
      "Failed: [1.5, 0.5, 2, 1, 1, 1]\n",
      "Failed: [1.5, 0.5, 2, 1, 2, 1]\n",
      "Failed: [1.5, 0.5, 2, 0, 1, 0]\n",
      "Failed: [1.5, 0.5, 2, -1, 1, -1]\n",
      "Failed: [1.5, 0.5, 2, -1, 2, -1]\n",
      "Failed: [1.5, 0.5, 2, -2, 2, -2]\n",
      "Failed: [1.5, 0.5, 1, 1, 1, 1]\n",
      "Failed: [1.5, 0.5, 1, 1, 2, 1]\n",
      "Failed: [1.5, 0.5, 1, 0, 2, 0]\n",
      "Failed: [1.5, 0.5, 1, -1, 1, -1]\n",
      "Failed: [1.5, 0.5, 1, -1, 2, -1]\n",
      "Failed: [1.5, 0.5, 2, 2, 2, 2]\n",
      "Failed: [1.5, 0.5, 2, 1, 1, 1]\n",
      "Failed: [1.5, 0.5, 2, 1, 2, 1]\n",
      "Failed: [1.5, 0.5, 2, 0, 1, 0]\n",
      "Failed: [1.5, 0.5, 2, -1, 1, -1]\n",
      "Failed: [1.5, 0.5, 2, -1, 2, -1]\n",
      "Failed: [1.5, 0.5, 2, -2, 2, -2]\n",
      "Failed: [1.5, 0.5, 1, 1, 1, 1]\n",
      "Failed: [1.5, 0.5, 1, 1, 2, 1]\n",
      "Failed: [1.5, 0.5, 1, 0, 2, 0]\n",
      "Failed: [1.5, 0.5, 1, -1, 1, -1]\n",
      "Failed: [1.5, 0.5, 1, -1, 2, -1]\n",
      "Failed: [1.5, 0.5, 2, 2, 2, 2]\n",
      "Failed: [1.5, 0.5, 2, 1, 1, 1]\n",
      "Failed: [1.5, 0.5, 2, 1, 2, 1]\n",
      "Failed: [1.5, 0.5, 2, 0, 1, 0]\n",
      "Failed: [1.5, 0.5, 2, -1, 1, -1]\n",
      "Failed: [1.5, 0.5, 2, -1, 2, -1]\n",
      "Failed: [1.5, 0.5, 2, -2, 2, -2]\n",
      "Failed: [1.5, 0.5, 1, 1, 1, 1]\n",
      "Failed: [1.5, 0.5, 1, 1, 2, 1]\n",
      "Failed: [1.5, 0.5, 1, 0, 2, 0]\n",
      "Failed: [1.5, 0.5, 1, -1, 1, -1]\n",
      "Failed: [1.5, 0.5, 1, -1, 2, -1]\n",
      "Failed: [1.5, 0.5, 2, 2, 2, 2]\n",
      "Failed: [1.5, 0.5, 2, 1, 1, 1]\n",
      "Failed: [1.5, 0.5, 2, 1, 2, 1]\n",
      "Failed: [1.5, 0.5, 2, 0, 1, 0]\n",
      "Failed: [1.5, 0.5, 2, -1, 1, -1]\n",
      "Failed: [1.5, 0.5, 2, -1, 2, -1]\n",
      "Failed: [1.5, 0.5, 2, -2, 2, -2]\n",
      "Failed: [1.5, 0.5, 1, 1, 1, 1]\n",
      "Failed: [1.5, 0.5, 1, 1, 2, 1]\n",
      "Failed: [1.5, 0.5, 1, 0, 2, 0]\n",
      "Failed: [1.5, 0.5, 1, -1, 1, -1]\n",
      "Failed: [1.5, 0.5, 1, -1, 2, -1]\n",
      "Failed: [1.5, 0.5, 2, 2, 2, 2]\n",
      "Failed: [1.5, 0.5, 2, 1, 1, 1]\n",
      "Failed: [1.5, 0.5, 2, 1, 2, 1]\n",
      "Failed: [1.5, 0.5, 2, 0, 1, 0]\n",
      "Failed: [1.5, 0.5, 2, -1, 1, -1]\n",
      "Failed: [1.5, 0.5, 2, -1, 2, -1]\n",
      "Failed: [1.5, 0.5, 2, -2, 2, -2]\n",
      "Failed: [1.5, 0.5, 1, 1, 1, 1]\n",
      "Failed: [1.5, 0.5, 1, 1, 2, 1]\n",
      "Failed: [1.5, 0.5, 1, 0, 2, 0]\n",
      "Failed: [1.5, 0.5, 1, -1, 1, -1]\n",
      "Failed: [1.5, 0.5, 1, -1, 2, -1]\n",
      "Failed: [1.5, 0.5, 2, 2, 2, 2]\n",
      "Failed: [1.5, 0.5, 2, 1, 1, 1]\n",
      "Failed: [1.5, 0.5, 2, 1, 2, 1]\n",
      "Failed: [1.5, 0.5, 2, 0, 1, 0]\n",
      "Failed: [1.5, 0.5, 2, -1, 1, -1]\n",
      "Failed: [1.5, 0.5, 2, -1, 2, -1]\n",
      "Failed: [1.5, 0.5, 2, -2, 2, -2]\n",
      "Failed: [1.5, 0.5, 1, 1, 1, 1]\n",
      "Failed: [1.5, 0.5, 1, 1, 2, 1]\n",
      "Failed: [1.5, 0.5, 1, 0, 2, 0]\n",
      "Failed: [1.5, 0.5, 1, -1, 1, -1]\n",
      "Failed: [1.5, 0.5, 1, -1, 2, -1]\n",
      "Failed: [1.5, 0.5, 2, 2, 2, 2]\n",
      "Failed: [1.5, 0.5, 2, 1, 1, 1]\n",
      "Failed: [1.5, 0.5, 2, 1, 2, 1]\n",
      "Failed: [1.5, 0.5, 2, 0, 1, 0]\n",
      "Failed: [1.5, 0.5, 2, -1, 1, -1]\n",
      "Failed: [1.5, 0.5, 2, -1, 2, -1]\n",
      "Failed: [1.5, 0.5, 2, -2, 2, -2]\n",
      "Failed: [1.5, 0.5, 1, 1, 1, 1]\n",
      "Failed: [1.5, 0.5, 1, 1, 2, 1]\n",
      "Failed: [1.5, 0.5, 1, 0, 2, 0]\n",
      "Failed: [1.5, 0.5, 1, -1, 1, -1]\n",
      "Failed: [1.5, 0.5, 1, -1, 2, -1]\n",
      "Failed: [1.5, 0.5, 2, 2, 2, 2]\n",
      "Failed: [1.5, 0.5, 2, 1, 1, 1]\n",
      "Failed: [1.5, 0.5, 2, 1, 2, 1]\n",
      "Failed: [1.5, 0.5, 2, 0, 1, 0]\n",
      "Failed: [1.5, 0.5, 2, -1, 1, -1]\n",
      "Failed: [1.5, 0.5, 2, -1, 2, -1]\n",
      "Failed: [1.5, 0.5, 2, -2, 2, -2]\n",
      "Failed: [1.5, 0.5, 1, 1, 1, 1]\n",
      "Failed: [1.5, 0.5, 1, 1, 2, 1]\n",
      "Failed: [1.5, 0.5, 1, 0, 2, 0]\n",
      "Failed: [1.5, 0.5, 1, -1, 1, -1]\n",
      "Failed: [1.5, 0.5, 1, -1, 2, -1]\n",
      "Failed: [1.5, 0.5, 2, 2, 2, 2]\n",
      "Failed: [1.5, 0.5, 2, 1, 1, 1]\n",
      "Failed: [1.5, 0.5, 2, 1, 2, 1]\n",
      "Failed: [1.5, 0.5, 2, 0, 1, 0]\n",
      "Failed: [1.5, 0.5, 2, -1, 1, -1]\n",
      "Failed: [1.5, 0.5, 2, -1, 2, -1]\n",
      "Failed: [1.5, 0.5, 2, -2, 2, -2]\n",
      "Failed: [1.5, 0.5, 1, 1, 1, 1]\n",
      "Failed: [1.5, 0.5, 1, 1, 2, 1]\n",
      "Failed: [1.5, 0.5, 1, 0, 2, 0]\n",
      "Failed: [1.5, 0.5, 1, -1, 1, -1]\n",
      "Failed: [1.5, 0.5, 1, -1, 2, -1]\n",
      "Failed: [1.5, 0.5, 2, 2, 2, 2]\n",
      "Failed: [1.5, 0.5, 2, 1, 1, 1]\n",
      "Failed: [1.5, 0.5, 2, 1, 2, 1]\n",
      "Failed: [1.5, 0.5, 2, 0, 1, 0]\n",
      "Failed: [1.5, 0.5, 2, -1, 1, -1]\n",
      "Failed: [1.5, 0.5, 2, -1, 2, -1]\n",
      "Failed: [1.5, 0.5, 2, -2, 2, -2]\n",
      "Failed: [1.5, 0.5, 1, 1, 1, 1]\n",
      "Failed: [1.5, 0.5, 1, 1, 2, 1]\n",
      "Failed: [1.5, 0.5, 1, 0, 2, 0]\n",
      "Failed: [1.5, 0.5, 1, -1, 1, -1]\n",
      "Failed: [1.5, 0.5, 1, -1, 2, -1]\n",
      "Failed: [1.5, 0.5, 2, 2, 2, 2]\n",
      "Failed: [1.5, 0.5, 2, 1, 1, 1]\n",
      "Failed: [1.5, 0.5, 2, 1, 2, 1]\n",
      "Failed: [1.5, 0.5, 2, 0, 1, 0]\n",
      "Failed: [1.5, 0.5, 2, -1, 1, -1]\n",
      "Failed: [1.5, 0.5, 2, -1, 2, -1]\n",
      "Failed: [1.5, 0.5, 2, -2, 2, -2]\n",
      "Failed: [1.5, 0.5, 1, 1, 1, 1]\n",
      "Failed: [1.5, 0.5, 1, 1, 2, 1]\n",
      "Failed: [1.5, 0.5, 1, 0, 2, 0]\n",
      "Failed: [1.5, 0.5, 1, -1, 1, -1]\n",
      "Failed: [1.5, 0.5, 1, -1, 2, -1]\n",
      "Failed: [1.5, 0.5, 2, 2, 2, 2]\n",
      "Failed: [1.5, 0.5, 2, 1, 1, 1]\n",
      "Failed: [1.5, 0.5, 2, 1, 2, 1]\n",
      "Failed: [1.5, 0.5, 2, 0, 1, 0]\n",
      "Failed: [1.5, 0.5, 2, -1, 1, -1]\n",
      "Failed: [1.5, 0.5, 2, -1, 2, -1]\n",
      "Failed: [1.5, 0.5, 2, -2, 2, -2]\n",
      "Failed: [1.5, 0.5, 1, 1, 1, 1]\n",
      "Failed: [1.5, 0.5, 1, 1, 2, 1]\n",
      "Failed: [1.5, 0.5, 1, 0, 2, 0]\n",
      "Failed: [1.5, 0.5, 1, -1, 1, -1]\n",
      "Failed: [1.5, 0.5, 1, -1, 2, -1]\n",
      "Failed: [1.5, 0.5, 2, 2, 2, 2]\n",
      "Failed: [1.5, 0.5, 2, 1, 1, 1]\n",
      "Failed: [1.5, 0.5, 2, 1, 2, 1]\n",
      "Failed: [1.5, 0.5, 2, 0, 1, 0]\n",
      "Failed: [1.5, 0.5, 2, -1, 1, -1]\n",
      "Failed: [1.5, 0.5, 2, -1, 2, -1]\n",
      "Failed: [1.5, 0.5, 2, -2, 2, -2]\n",
      "Failed: [1.5, 0.5, 1, 1, 1, 1]\n",
      "Failed: [1.5, 0.5, 1, 1, 2, 1]\n",
      "Failed: [1.5, 0.5, 1, 0, 2, 0]\n",
      "Failed: [1.5, 0.5, 1, -1, 1, -1]\n",
      "Failed: [1.5, 0.5, 1, -1, 2, -1]\n",
      "Failed: [1.5, 0.5, 2, 2, 2, 2]\n",
      "Failed: [1.5, 0.5, 2, 1, 1, 1]\n",
      "Failed: [1.5, 0.5, 2, 1, 2, 1]\n",
      "Failed: [1.5, 0.5, 2, 0, 1, 0]\n",
      "Failed: [1.5, 0.5, 2, -1, 1, -1]\n",
      "Failed: [1.5, 0.5, 2, -1, 2, -1]\n",
      "Failed: [1.5, 0.5, 2, -2, 2, -2]\n",
      "Failed: [1.5, 0.5, 1, 1, 1, 1]\n",
      "Failed: [1.5, 0.5, 1, 1, 2, 1]\n",
      "Failed: [1.5, 0.5, 1, 0, 2, 0]\n",
      "Failed: [1.5, 0.5, 1, -1, 1, -1]\n",
      "Failed: [1.5, 0.5, 1, -1, 2, -1]\n",
      "Failed: [1.5, 0.5, 2, 2, 2, 2]\n",
      "Failed: [1.5, 0.5, 2, 1, 1, 1]\n",
      "Failed: [1.5, 0.5, 2, 1, 2, 1]\n",
      "Failed: [1.5, 0.5, 2, 0, 1, 0]\n",
      "Failed: [1.5, 0.5, 2, -1, 1, -1]\n",
      "Failed: [1.5, 0.5, 2, -1, 2, -1]\n",
      "Failed: [1.5, 0.5, 2, -2, 2, -2]\n",
      "Failed: [1.5, 0.5, 1, 1, 1, 1]\n",
      "Failed: [1.5, 0.5, 1, 1, 2, 1]\n",
      "Failed: [1.5, 0.5, 1, 0, 2, 0]\n",
      "Failed: [1.5, 0.5, 1, -1, 1, -1]\n",
      "Failed: [1.5, 0.5, 1, -1, 2, -1]\n",
      "Failed: [1.5, 0.5, 2, 2, 2, 2]\n"
     ]
    },
    {
     "name": "stdout",
     "output_type": "stream",
     "text": [
      "Failed: [1.5, 0.5, 2, 1, 1, 1]\n",
      "Failed: [1.5, 0.5, 2, 1, 2, 1]\n",
      "Failed: [1.5, 0.5, 2, 0, 1, 0]\n",
      "Failed: [1.5, 0.5, 2, -1, 1, -1]\n",
      "Failed: [1.5, 0.5, 2, -1, 2, -1]\n",
      "Failed: [1.5, 0.5, 2, -2, 2, -2]\n",
      "Failed: [1.5, 0.5, 1, 1, 1, 1]\n",
      "Failed: [1.5, 0.5, 1, 1, 2, 1]\n",
      "Failed: [1.5, 0.5, 1, 0, 2, 0]\n",
      "Failed: [1.5, 0.5, 1, -1, 1, -1]\n",
      "Failed: [1.5, 0.5, 1, -1, 2, -1]\n",
      "Failed: [1.5, 0.5, 2, 2, 2, 2]\n",
      "Failed: [1.5, 0.5, 2, 1, 1, 1]\n",
      "Failed: [1.5, 0.5, 2, 1, 2, 1]\n",
      "Failed: [1.5, 0.5, 2, 0, 1, 0]\n",
      "Failed: [1.5, 0.5, 2, -1, 1, -1]\n",
      "Failed: [1.5, 0.5, 2, -1, 2, -1]\n",
      "Failed: [1.5, 0.5, 2, -2, 2, -2]\n",
      "Failed: [1.5, 0.5, 1, 1, 1, 1]\n",
      "Failed: [1.5, 0.5, 1, 1, 2, 1]\n",
      "Failed: [1.5, 0.5, 1, 0, 2, 0]\n",
      "Failed: [1.5, 0.5, 1, -1, 1, -1]\n",
      "Failed: [1.5, 0.5, 1, -1, 2, -1]\n",
      "Failed: [1.5, 0.5, 2, 2, 2, 2]\n",
      "Failed: [1.5, 0.5, 2, 1, 1, 1]\n",
      "Failed: [1.5, 0.5, 2, 1, 2, 1]\n",
      "Failed: [1.5, 0.5, 2, 0, 1, 0]\n",
      "Failed: [1.5, 0.5, 2, -1, 1, -1]\n",
      "Failed: [1.5, 0.5, 2, -1, 2, -1]\n",
      "Failed: [1.5, 0.5, 2, -2, 2, -2]\n",
      "Failed: [1.5, 0.5, 1, 1, 1, 1]\n",
      "Failed: [1.5, 0.5, 1, 1, 2, 1]\n",
      "Failed: [1.5, 0.5, 1, 0, 2, 0]\n",
      "Failed: [1.5, 0.5, 1, -1, 1, -1]\n",
      "Failed: [1.5, 0.5, 1, -1, 2, -1]\n",
      "Failed: [1.5, 0.5, 2, 2, 2, 2]\n",
      "Failed: [1.5, 0.5, 2, 1, 1, 1]\n",
      "Failed: [1.5, 0.5, 2, 1, 2, 1]\n",
      "Failed: [1.5, 0.5, 2, 0, 1, 0]\n",
      "Failed: [1.5, 0.5, 2, -1, 1, -1]\n",
      "Failed: [1.5, 0.5, 2, -1, 2, -1]\n",
      "Failed: [1.5, 0.5, 2, -2, 2, -2]\n",
      "Failed: [1.5, 0.5, 1, 1, 1, 1]\n",
      "Failed: [1.5, 0.5, 1, 1, 2, 1]\n",
      "Failed: [1.5, 0.5, 1, 0, 2, 0]\n",
      "Failed: [1.5, 0.5, 1, -1, 1, -1]\n",
      "Failed: [1.5, 0.5, 1, -1, 2, -1]\n",
      "Failed: [1.5, 0.5, 2, 2, 2, 2]\n",
      "Failed: [1.5, 0.5, 2, 1, 1, 1]\n",
      "Failed: [1.5, 0.5, 2, 1, 2, 1]\n",
      "Failed: [1.5, 0.5, 2, 0, 1, 0]\n",
      "Failed: [1.5, 0.5, 2, -1, 1, -1]\n",
      "Failed: [1.5, 0.5, 2, -1, 2, -1]\n",
      "Failed: [1.5, 0.5, 2, -2, 2, -2]\n",
      "Failed: [1.5, 0.5, 1, 1, 1, 1]\n",
      "Failed: [1.5, 0.5, 1, 1, 2, 1]\n",
      "Failed: [1.5, 0.5, 1, 0, 2, 0]\n",
      "Failed: [1.5, 0.5, 1, -1, 1, -1]\n",
      "Failed: [1.5, 0.5, 1, -1, 2, -1]\n",
      "Failed: [1.5, 0.5, 2, 2, 2, 2]\n",
      "Failed: [1.5, 0.5, 2, 1, 1, 1]\n",
      "Failed: [1.5, 0.5, 2, 1, 2, 1]\n",
      "Failed: [1.5, 0.5, 2, 0, 1, 0]\n",
      "Failed: [1.5, 0.5, 2, -1, 1, -1]\n",
      "Failed: [1.5, 0.5, 2, -1, 2, -1]\n",
      "Failed: [1.5, 0.5, 2, -2, 2, -2]\n",
      "Failed: [1.5, 0.5, 1, 1, 1, 1]\n",
      "Failed: [1.5, 0.5, 1, 1, 2, 1]\n",
      "Failed: [1.5, 0.5, 1, 0, 2, 0]\n",
      "Failed: [1.5, 0.5, 1, -1, 1, -1]\n",
      "Failed: [1.5, 0.5, 1, -1, 2, -1]\n",
      "Failed: [1.5, 0.5, 2, 2, 2, 2]\n",
      "Failed: [1.5, 0.5, 2, 1, 1, 1]\n",
      "Failed: [1.5, 0.5, 2, 1, 2, 1]\n",
      "Failed: [1.5, 0.5, 2, 0, 1, 0]\n",
      "Failed: [1.5, 0.5, 2, -1, 1, -1]\n",
      "Failed: [1.5, 0.5, 2, -1, 2, -1]\n",
      "Failed: [1.5, 0.5, 2, -2, 2, -2]\n",
      "Failed: [1.5, 0.5, 1, 1, 1, 1]\n",
      "Failed: [1.5, 0.5, 1, 1, 2, 1]\n",
      "Failed: [1.5, 0.5, 1, 0, 2, 0]\n",
      "Failed: [1.5, 0.5, 1, -1, 1, -1]\n",
      "Failed: [1.5, 0.5, 1, -1, 2, -1]\n",
      "Failed: [1.5, 0.5, 2, 2, 2, 2]\n",
      "Failed: [1.5, 0.5, 2, 1, 1, 1]\n",
      "Failed: [1.5, 0.5, 2, 1, 2, 1]\n",
      "Failed: [1.5, 0.5, 2, 0, 1, 0]\n",
      "Failed: [1.5, 0.5, 2, -1, 1, -1]\n",
      "Failed: [1.5, 0.5, 2, -1, 2, -1]\n",
      "Failed: [1.5, 0.5, 2, -2, 2, -2]\n",
      "computed solution\n"
     ]
    }
   ],
   "source": [
    "# Zeeman Hamiltonian for B = Bz\n",
    "for sol_idx,Bz in enumerate(Bzlist):\n",
    "#     H_Zz = np.empty((8,8))\n",
    "#     for i,state_i in enumerate(basis):\n",
    "#             F,mF = state_i\n",
    "#             for j,state_j in enumerate(basis):\n",
    "#                 FF,mFF = state_j\n",
    "#                 states = [I,J,F,mF,FF,mFF]\n",
    "#                 try:\n",
    "#                     H_Zz[i,j] = hf_zeeman(states,gJ,gI)\n",
    "#                 except:\n",
    "#                     print(\"Failed: %s\" % states)\n",
    "    evals_sorted = empty(dim)\n",
    "    \n",
    "    H_full = H_a + H_Zz\n",
    "    evals,evecs = np.linalg.eigh(H_full)  \n",
    "    \n",
    "    # sort e-vals by overlap of state with previous basis vectors\n",
    "    for k in range(dim): \n",
    "        idx = np.argsort([np.vdot(evecs[:,l],ovecs[:,k]) for l in range(dim)])[-1]\n",
    "        evals_sorted[k] = evals[idx]\n",
    "        \n",
    "    solution[:,sol_idx] = evals_sorted\n",
    "\n",
    "print(\"computed solution\")"
   ]
  },
  {
   "cell_type": "code",
   "execution_count": 81,
   "metadata": {},
   "outputs": [
    {
     "ename": "NameError",
     "evalue": "name 'mu_B' is not defined",
     "output_type": "error",
     "traceback": [
      "\u001b[1;31m---------------------------------------------------------------------------\u001b[0m",
      "\u001b[1;31mNameError\u001b[0m                                 Traceback (most recent call last)",
      "\u001b[1;32m<ipython-input-81-276f72dc3a74>\u001b[0m in \u001b[0;36m<module>\u001b[1;34m\u001b[0m\n\u001b[1;32m----> 1\u001b[1;33m \u001b[0mmu_B\u001b[0m\u001b[1;33m\u001b[0m\u001b[1;33m\u001b[0m\u001b[0m\n\u001b[0m",
      "\u001b[1;31mNameError\u001b[0m: name 'mu_B' is not defined"
     ]
    }
   ],
   "source": [
    "help()"
   ]
  },
  {
   "cell_type": "code",
   "execution_count": 78,
   "metadata": {},
   "outputs": [
    {
     "data": {
      "text/plain": [
       "(8, 30)"
      ]
     },
     "execution_count": 78,
     "metadata": {},
     "output_type": "execute_result"
    }
   ],
   "source": [
    "solution.shape"
   ]
  },
  {
   "cell_type": "code",
   "execution_count": null,
   "metadata": {},
   "outputs": [],
   "source": [
    "    # diagonalize the full Hamiltonian\n",
    "    H_full = H_a + H_Zz\n",
    "    evals,evecs = np.linalg.eigh(H_full)"
   ]
  },
  {
   "cell_type": "code",
   "execution_count": 61,
   "metadata": {},
   "outputs": [],
   "source": [
    "# sort the e-vals by the overlap of their respective state mixtures\n",
    "# with the basis for the previous diagonalization step\n",
    "\n",
    "evals_sorted = empty(dim)\n",
    "for i in range(dim):\n",
    "    # find max overlap with first evec \n",
    "    \n",
    "    idx = np.argsort([np.vdot(evecs[:,j],ovecs[:,i]) for j in range(dim)])[-1]\n",
    "    evals_sorted[i] = evals[idx]"
   ]
  },
  {
   "cell_type": "code",
   "execution_count": 62,
   "metadata": {},
   "outputs": [
    {
     "data": {
      "text/plain": [
       "array([ 1.05997409e-05,  1.05997409e-05,  1.05997409e-05,  1.05997409e-05,\n",
       "        1.05997409e-05, -1.76662348e-05,  1.05997409e-05, -1.76662348e-05])"
      ]
     },
     "execution_count": 62,
     "metadata": {},
     "output_type": "execute_result"
    }
   ],
   "source": [
    "evals_sorted"
   ]
  },
  {
   "cell_type": "code",
   "execution_count": 51,
   "metadata": {},
   "outputs": [
    {
     "name": "stdout",
     "output_type": "stream",
     "text": [
      "0.0\n",
      "0.0\n",
      "0.0\n",
      "0.0\n",
      "0.0\n",
      "0.0\n",
      "0.0\n",
      "0.0\n"
     ]
    }
   ],
   "source": [
    "for i in range(dim):\n",
    "    print(np.vdot(evecs[:,i],ovecs[:,i]))"
   ]
  },
  {
   "cell_type": "code",
   "execution_count": 44,
   "metadata": {},
   "outputs": [],
   "source": [
    "for i in range(dim):\n",
    "    np.vdot(evecs[:,i],ovecs[:,i])"
   ]
  },
  {
   "cell_type": "code",
   "execution_count": 5,
   "metadata": {},
   "outputs": [
    {
     "data": {
      "text/plain": [
       "8"
      ]
     },
     "execution_count": 5,
     "metadata": {},
     "output_type": "execute_result"
    }
   ],
   "source": [
    "len(basis)"
   ]
  },
  {
   "cell_type": "code",
   "execution_count": 31,
   "metadata": {},
   "outputs": [
    {
     "name": "stdout",
     "output_type": "stream",
     "text": [
      "Help on function transpose in module numpy:\n",
      "\n",
      "transpose(a, axes=None)\n",
      "    Permute the dimensions of an array.\n",
      "    \n",
      "    Parameters\n",
      "    ----------\n",
      "    a : array_like\n",
      "        Input array.\n",
      "    axes : list of ints, optional\n",
      "        By default, reverse the dimensions, otherwise permute the axes\n",
      "        according to the values given.\n",
      "    \n",
      "    Returns\n",
      "    -------\n",
      "    p : ndarray\n",
      "        `a` with its axes permuted.  A view is returned whenever\n",
      "        possible.\n",
      "    \n",
      "    See Also\n",
      "    --------\n",
      "    moveaxis\n",
      "    argsort\n",
      "    \n",
      "    Notes\n",
      "    -----\n",
      "    Use `transpose(a, argsort(axes))` to invert the transposition of tensors\n",
      "    when using the `axes` keyword argument.\n",
      "    \n",
      "    Transposing a 1-D array returns an unchanged view of the original array.\n",
      "    \n",
      "    Examples\n",
      "    --------\n",
      "    >>> x = np.arange(4).reshape((2,2))\n",
      "    >>> x\n",
      "    array([[0, 1],\n",
      "           [2, 3]])\n",
      "    \n",
      "    >>> np.transpose(x)\n",
      "    array([[0, 2],\n",
      "           [1, 3]])\n",
      "    \n",
      "    >>> x = np.ones((1, 2, 3))\n",
      "    >>> np.transpose(x, (1, 0, 2)).shape\n",
      "    (2, 1, 3)\n",
      "\n"
     ]
    }
   ],
   "source": [
    "help(np.transpose"
   ]
  },
  {
   "cell_type": "code",
   "execution_count": null,
   "metadata": {},
   "outputs": [],
   "source": [
    "# Diagonalize the full Hamiltonian\n",
    "H = Matrix(H_a + H_Zz)\n",
    "P,D = H.diagonalize()\n",
    "evals = [D[i,i] for i in range(0,len(basis))]\n",
    "\n",
    "# The energies as a function of magnetic P.E.\n",
    "shifts = lambdify('U_B',evals)\n",
    "\n",
    "zshifts = np.empty((len(Bzlist),len(basis)))\n",
    "for i,Bz in enumerate(Bzlist):\n",
    "    # make sure units of U_B same as E_hf then convert the whole shift\n",
    "    zshifts[i] = np.sort([eVToGHz(x) for x in shifts(JToeV(uB*Bz))]) \n",
    "    \n",
    "# arranged the shifts by state, not B value\n",
    "zshifts = np.transpose(zshifts)\n",
    "print(\"computed Zeeman shifts\")"
   ]
  },
  {
   "cell_type": "code",
   "execution_count": 6,
   "metadata": {},
   "outputs": [
    {
     "data": {
      "image/png": "[encoded data removed]",
      "text/plain": [
       "<Figure size 432x288 with 1 Axes>"
      ]
     },
     "metadata": {
      "needs_background": "light"
     },
     "output_type": "display_data"
    }
   ],
   "source": [
    "# initialize the figure and plot\n",
    "fig = plt.figure()\n",
    "ax = fig.add_subplot(111)\n",
    "ax.set_title(\"Rb87 $5s_{1/2}$ HF Zeeman shifts\")\n",
    "ax.set_xlabel(\"$B_z$ [T]\")\n",
    "ax.set_ylabel(\"$\\Delta E$ [GHz]\")\n",
    "\n",
    "# why is the |2,-1> state omitted?? figure out later\n",
    "for state,shift in zip(basis,zshifts):\n",
    "    F,mF = state\n",
    "    ax.plot(Bzlist,shift,label=f'|{F},{mF}>')\n",
    "\n",
    "ax.legend(loc='upper right')\n",
    "plt.show()"
   ]
  },
  {
   "cell_type": "code",
   "execution_count": 6,
   "metadata": {},
   "outputs": [
    {
     "ename": "NameError",
     "evalue": "name 'Hz_el' is not defined",
     "output_type": "error",
     "traceback": [
      "\u001b[1;31m---------------------------------------------------------------------------\u001b[0m",
      "\u001b[1;31mNameError\u001b[0m                                 Traceback (most recent call last)",
      "\u001b[1;32m<ipython-input-6-5e3f910e2bad>\u001b[0m in \u001b[0;36m<module>\u001b[1;34m\u001b[0m\n\u001b[0;32m      4\u001b[0m \u001b[0mH_bias\u001b[0m \u001b[1;33m=\u001b[0m \u001b[0mzeros\u001b[0m\u001b[1;33m(\u001b[0m\u001b[1;33m(\u001b[0m\u001b[1;36m8\u001b[0m\u001b[1;33m,\u001b[0m\u001b[1;36m8\u001b[0m\u001b[1;33m)\u001b[0m\u001b[1;33m)\u001b[0m\u001b[1;33m\u001b[0m\u001b[1;33m\u001b[0m\u001b[0m\n\u001b[0;32m      5\u001b[0m \u001b[1;32mfor\u001b[0m \u001b[0mi\u001b[0m \u001b[1;32min\u001b[0m \u001b[0mrange\u001b[0m\u001b[1;33m(\u001b[0m\u001b[1;36m8\u001b[0m\u001b[1;33m)\u001b[0m\u001b[1;33m:\u001b[0m\u001b[1;33m\u001b[0m\u001b[1;33m\u001b[0m\u001b[0m\n\u001b[1;32m----> 6\u001b[1;33m     \u001b[0mH_bias\u001b[0m\u001b[1;33m[\u001b[0m\u001b[0mi\u001b[0m\u001b[1;33m,\u001b[0m\u001b[0mi\u001b[0m\u001b[1;33m]\u001b[0m\u001b[1;33m=\u001b[0m\u001b[0mHz_el\u001b[0m\u001b[1;33m[\u001b[0m\u001b[0mi\u001b[0m\u001b[1;33m]\u001b[0m\u001b[1;33m\u001b[0m\u001b[1;33m\u001b[0m\u001b[0m\n\u001b[0m\u001b[0;32m      7\u001b[0m \u001b[1;33m\u001b[0m\u001b[0m\n\u001b[0;32m      8\u001b[0m \u001b[1;31m# H_z1 microwave driving field\u001b[0m\u001b[1;33m\u001b[0m\u001b[1;33m\u001b[0m\u001b[1;33m\u001b[0m\u001b[0m\n",
      "\u001b[1;31mNameError\u001b[0m: name 'Hz_el' is not defined"
     ]
    }
   ],
   "source": [
    "# H_z1: static bias field\n",
    "Bz = 5e-5 # .5 Gauss\n",
    "H_z1_el = np.sort([eVToGHz(x) for x in shifts(JToeV(uB*Bz))]) \n",
    "H_bias = zeros((8,8))\n",
    "for i in range(8):\n",
    "    H_bias[i,i]=Hz_el[i]\n",
    "    \n",
    "# H_z1 microwave driving field\n",
    "H_mw = zeros((8,8))\n",
    "H_mw[1,5] = H_mw[5,1] = 1 # the rabi frequency\n"
   ]
  },
  {
   "cell_type": "code",
   "execution_count": 7,
   "metadata": {},
   "outputs": [
    {
     "name": "stdout",
     "output_type": "stream",
     "text": [
      "Failed: [1.5, 0.5, 2, 0, 2, 0]\n",
      "2.00023 -0.000995 0.00018580000000000002\n",
      "Failed: [1.5, 0.5, 2, 0, 1, 0]\n",
      "2.00023 -0.000995 0.00018580000000000002\n",
      "Failed: [1.5, 0.5, 1, 0, 2, 0]\n",
      "2.00023 -0.000995 0.00018580000000000002\n",
      "Failed: [1.5, 0.5, 1, 0, 1, 0]\n",
      "2.00023 -0.000995 0.00018580000000000002\n"
     ]
    },
    {
     "ename": "TypeError",
     "evalue": "unsupported operand type(s) for +: 'float' and 'NoneType'",
     "output_type": "error",
     "traceback": [
      "\u001b[1;31m---------------------------------------------------------------------------\u001b[0m",
      "\u001b[1;31mTypeError\u001b[0m                                 Traceback (most recent call last)",
      "\u001b[1;32m<ipython-input-7-3b34d3226a03>\u001b[0m in \u001b[0;36m<module>\u001b[1;34m\u001b[0m\n\u001b[0;32m     22\u001b[0m \u001b[1;33m\u001b[0m\u001b[0m\n\u001b[0;32m     23\u001b[0m \u001b[1;31m# Diagonalize the static Hamiltonian\u001b[0m\u001b[1;33m\u001b[0m\u001b[1;33m\u001b[0m\u001b[1;33m\u001b[0m\u001b[0m\n\u001b[1;32m---> 24\u001b[1;33m \u001b[0mH\u001b[0m \u001b[1;33m=\u001b[0m \u001b[0mMatrix\u001b[0m\u001b[1;33m(\u001b[0m\u001b[0mH_a\u001b[0m \u001b[1;33m+\u001b[0m \u001b[0mH_Zz\u001b[0m\u001b[1;33m)\u001b[0m\u001b[1;33m\u001b[0m\u001b[1;33m\u001b[0m\u001b[0m\n\u001b[0m\u001b[0;32m     25\u001b[0m \u001b[0mH\u001b[0m \u001b[1;33m=\u001b[0m \u001b[0mdiagonal\u001b[0m\u001b[1;33m(\u001b[0m\u001b[0mH\u001b[0m\u001b[1;33m)\u001b[0m \u001b[1;31m# diagonalized with sorted e-vals\u001b[0m\u001b[1;33m\u001b[0m\u001b[1;33m\u001b[0m\u001b[0m\n",
      "\u001b[1;31mTypeError\u001b[0m: unsupported operand type(s) for +: 'float' and 'NoneType'"
     ]
    }
   ],
   "source": [
    "#### using my amophys module\n",
    "\n",
    "#### Rb87 5s1/2 \n",
    "L = 0; S = 1/2; J = 1/2;\n",
    "Flist = [2,1] # F = I + J\n",
    "\n",
    "E_5sF2 = 2.56300597908911 # GHz\n",
    "E_5sF1 = -4.27167663181519 # GHz\n",
    "\n",
    "gJ = gJ_fn(J,L,S,gL,gS)\n",
    "\n",
    "# Atom Hamiltonian in {|F,mF>} basis\n",
    "dim = 2\n",
    "H_a = zeros((dim,dim)) # clock states\n",
    "H_a[0,0] = E_5sF2 # [J]\n",
    "H_a[1,1] = E_5sF1 \n",
    "\n",
    "# Zeeman Hamiltonian for bias field Bz\n",
    "basis = [[2,0],[1,0]] # [F',mF'],[F,mF]\n",
    "Bbias = .2*9.29e-4 # [A * G/A] see wiki \n",
    "H_Zz = hamiltonian_z1(basis,gI,gJ,Bz=Bbias,units='GHz')\n",
    "\n",
    "# Diagonalize the static Hamiltonian\n",
    "H = Matrix(H_a + H_Zz)\n",
    "H = diagonal(H) # diagonalized with sorted e-vals"
   ]
  },
  {
   "cell_type": "code",
   "execution_count": 21,
   "metadata": {},
   "outputs": [
    {
     "data": {
      "text/plain": [
       "479083655.659906"
      ]
     },
     "execution_count": 21,
     "metadata": {},
     "output_type": "execute_result"
    }
   ],
   "source": [
    "(eVToGHz((H-H_a)[0,0]) - eVToGHz((H-H_a)[1,1]))*1e9"
   ]
  },
  {
   "cell_type": "code",
   "execution_count": null,
   "metadata": {},
   "outputs": [],
   "source": []
  }
 ],
 "metadata": {
  "kernelspec": {
   "display_name": "Python 3",
   "language": "python",
   "name": "python3"
  },
  "language_info": {
   "codemirror_mode": {
    "name": "ipython",
    "version": 3
   },
   "file_extension": ".py",
   "mimetype": "text/x-python",
   "name": "python",
   "nbconvert_exporter": "python",
   "pygments_lexer": "ipython3",
   "version": "3.7.3"
  }
 },
 "nbformat": 4,
 "nbformat_minor": 2
}
