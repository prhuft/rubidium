{
 "cells": [
  {
   "cell_type": "markdown",
   "metadata": {},
   "source": [
    "# this is the notebook test bed for rbensemble class"
   ]
  },
  {
   "cell_type": "code",
   "execution_count": 1,
   "metadata": {},
   "outputs": [],
   "source": [
    "# %matplotlib notebook\n",
    "from matplotlib import pyplot as plt\n",
    "import numpy as np\n",
    "from numpy import linspace,sin,cos,log,exp\n",
    "import math as m\n",
    "from math import sqrt,pi,e,exp\n",
    "from random import random as rand\n",
    "\n",
    "## local files\n",
    "from physconsts import *\n",
    "from rbconsts import *\n",
    "from rbensemble import RbEnsemble as ensemble"
   ]
  },
  {
   "cell_type": "code",
   "execution_count": 10,
   "metadata": {},
   "outputs": [
    {
     "name": "stderr",
     "output_type": "stream",
     "text": [
      "<>:26: SyntaxWarning: \"is\" with a literal. Did you mean \"==\"?\n",
      "<>:26: SyntaxWarning: \"is\" with a literal. Did you mean \"==\"?\n",
      "C:\\Users\\prest\\AppData\\Local\\Temp/ipykernel_7608/4049586788.py:26: SyntaxWarning: \"is\" with a literal. Did you mean \"==\"?\n",
      "  elif xdist is 'normal':\n"
     ]
    }
   ],
   "source": [
    "## classes \n",
    "\n",
    "class RbEnsemble:\n",
    "    \"\"\" Ensemble of Rb atoms with a momentum distribution specified\n",
    "        by temperature. Optional spatial distribution.\n",
    "        \n",
    "        'T'= temperature\n",
    "        'size'= number of atoms\n",
    "        'xdist': optional parameter specifying the initial\n",
    "            position distribution\n",
    "    \"\"\"\n",
    "    global mRb\n",
    "    \n",
    "    \n",
    "    def __init__(self,T,size=None,xdist=None):\n",
    "        \n",
    "        # For efficiency, pre-generate a specified number of atoms\n",
    "        if size is not None:\n",
    "            self.size = size\n",
    "            self.temp = T\n",
    "            self.v = self.sampling_maxboltzv(self.size,[0,1],self.temp) # rms\n",
    "            self.p = mRb*self.v # rms\n",
    "            self.x = np.empty(self.size)\n",
    "            if xdist is None:\n",
    "                self.x = np.zeros(self.size)\n",
    "            elif xdist is 'normal':\n",
    "                self.x = np.random.normal(0,size=self.size)\n",
    "        else:\n",
    "            self.size = 0\n",
    "            self.temp = T\n",
    "            self.v = np.array([]) # rms\n",
    "            self.p = np.array([]) # rms\n",
    "            self.x = np.array([])\n",
    "            \n",
    "    def phasespace(self):\n",
    "        \"\"\" Plots the ensemble in phase space. 1D x and p only for \n",
    "            now.\n",
    "        \"\"\"\n",
    "        xmax = max(self.x) # like xmas but better\n",
    "        xmin = min(self.x) # because i said so\n",
    "        dx = xmax-xmin\n",
    "        \n",
    "        pmax = max(self.p)/mRb\n",
    "        pmin = min(self.p)/mRb\n",
    "        dp = pmax-pmin\n",
    "        \n",
    "        fig, ax = plt.subplots()\n",
    "        ax.scatter(self.p/mRb,self.x)#,linestyle=None)\n",
    "        ax.set(xlabel='p [m/(s mRb)]', ylabel='r [arb]',\n",
    "               xlim=(pmin-.1*dp,pmax+.1*dp),\n",
    "               ylim=(xmin-.1*dx,xmax*+.1*dx))\n",
    "        plt.show()\n",
    "        \n",
    "    def vpt(self):\n",
    "        \"\"\" Return a speed from Maxwell-Boltzmann dist. \"\"\"\n",
    "        return sampling_maxboltzv(1,[0,1],self.temp)\n",
    "    \n",
    "    def xpt(self,domain):\n",
    "        \"\"\" Return a position from a flat dist by default. \"\"\"\n",
    "        \n",
    "        x1,x2 = domain\n",
    "        x = rand()*(x2-x1) # only works for x1,x2 > 0\n",
    "        return x\n",
    "    \n",
    "    def maxboltzv(self,T,v,normalization=False):\n",
    "        \"\"\" Maxwell-Boltzmann distribution of speeds for 3-dimensional\n",
    "            gas. Returns f(v) for T. \"\"\"\n",
    "        global kB,mRb\n",
    "        m = mRb\n",
    "\n",
    "        A = 4*pi*(m/(2*pi*kB*T))**(3/2) # normalization consts\n",
    "        meanv = sqrt(2*kB*T/m) # the maximum occurs at the mean\n",
    "\n",
    "        if normalization is True:\n",
    "            return A\n",
    "        else:\n",
    "            return A*v**2*exp(-m*v**2/(2*kB*T))\n",
    "\n",
    "    def sampling_maxboltzv(self,size,domain,T,vectorial=False,showplot=False):\n",
    "        \"\"\" Sample random speeds with a Maxwell-Boltzmann dist. \n",
    "            'size': sample size\n",
    "            'domain': [v1,v2] the restricted domain of the pdf; e.g.\n",
    "                a Guassian goes to zero well before inf so we could\n",
    "                let the domain be a finite region\n",
    "            'T': temperature\n",
    "            'vectorial': \n",
    "                If False, only return a scalar. \n",
    "                Set to True to return velocity vectors with a \n",
    "                direction from a flat distribution. \n",
    "        \"\"\"\n",
    "        global kB,mRb\n",
    "        m = mRb\n",
    "\n",
    "        n = size \n",
    "        v1,v2 = domain\n",
    "\n",
    "        mean = sqrt(2*kB*T/m)\n",
    "        fmax = self.maxboltzv(T,mean) # the maximum\n",
    "        y_dist = np.empty(n) \n",
    "        f_dist = np.empty(n) \n",
    "        v_dist = np.empty(n) # this is the distribution we want\n",
    "        j = 0 # dist index\n",
    "        while j < n:\n",
    "            v = (v2-v1)*rand() # rand val on domain of f(x)\n",
    "            f = self.maxboltzv(T,v)\n",
    "            y = rand()*fmax # rand val on range of f(x)\n",
    "            if y <= f:\n",
    "                y_dist[j]=y\n",
    "                f_dist[j]=f\n",
    "                v_dist[j]=v # x vals with approximate gaussian pdf\n",
    "                j+=1\n",
    "\n",
    "        # plot distribution as a check:\n",
    "        if showplot is not False:\n",
    "            plt.scatter(v_dist,y_dist,c='red',s=10)\n",
    "            plt.scatter(v_dist,f_dist,c='blue',s=10)\n",
    "            plt.show()\n",
    "\n",
    "        return v_dist"
   ]
  },
  {
   "cell_type": "code",
   "execution_count": 11,
   "metadata": {
    "collapsed": true,
    "jupyter": {
     "outputs_hidden": true
    }
   },
   "outputs": [
    {
     "data": {
      "image/png": "[encoded data removed]",
      "text/plain": [
       "<Figure size 432x288 with 1 Axes>"
      ]
     },
     "metadata": {
      "needs_background": "light"
     },
     "output_type": "display_data"
    },
    {
     "data": {
      "text/plain": [
       "array([0.06104312, 0.10795562, 0.17833405, 0.14125527, 0.20401805,\n",
       "       0.12173379, 0.20142458, 0.22965417, 0.16580642, 0.12247536,\n",
       "       0.1578913 , 0.09812029, 0.1336917 , 0.21026497, 0.32095067,\n",
       "       0.14471429, 0.08544568, 0.18151601, 0.0660091 , 0.09579254,\n",
       "       0.28599717, 0.14695637, 0.1982479 , 0.10488009, 0.08399364,\n",
       "       0.22383274, 0.14664333, 0.15077276, 0.18750139, 0.14189121,\n",
       "       0.18429581, 0.07246422, 0.25723566, 0.20290783, 0.22933518,\n",
       "       0.21276583, 0.0825426 , 0.16296633, 0.13798998, 0.08192365,\n",
       "       0.03440721, 0.03432701, 0.16714501, 0.07101018, 0.3394543 ,\n",
       "       0.02839583, 0.11196282, 0.02901333, 0.12327698, 0.1707069 ,\n",
       "       0.20036049, 0.06605882, 0.05673661, 0.18341851, 0.32549077,\n",
       "       0.14405879, 0.13583093, 0.03905671, 0.24248853, 0.23334448,\n",
       "       0.09284655, 0.0265044 , 0.07935454, 0.09512162, 0.09284284,\n",
       "       0.0715493 , 0.12804628, 0.12125076, 0.24442254, 0.23130122,\n",
       "       0.14672224, 0.10746971, 0.10156879, 0.12490608, 0.18099417,\n",
       "       0.14774706, 0.15968408, 0.17686474, 0.16934899, 0.07432651,\n",
       "       0.20141833, 0.13460048, 0.20234771, 0.12051195, 0.28548905,\n",
       "       0.107927  , 0.12278084, 0.24488266, 0.27899809, 0.24933288,\n",
       "       0.22197973, 0.06924081, 0.17307948, 0.08120772, 0.21152349,\n",
       "       0.22560775, 0.17235874, 0.16389717, 0.10545499, 0.06451545])"
      ]
     },
     "execution_count": 11,
     "metadata": {},
     "output_type": "execute_result"
    }
   ],
   "source": [
    "# maxwboltz test\n",
    "atoms = RbEnsemble(1) # the temp here actually doesn't matter\n",
    "atoms.sampling_maxboltzv(100,[0,1],.000100,showplot=True)"
   ]
  },
  {
   "cell_type": "code",
   "execution_count": 6,
   "metadata": {
    "scrolled": true
   },
   "outputs": [
    {
     "data": {
      "image/png": "[encoded data removed]",
      "text/plain": [
       "<Figure size 432x288 with 1 Axes>"
      ]
     },
     "metadata": {
      "needs_background": "light"
     },
     "output_type": "display_data"
    }
   ],
   "source": [
    "# RbEnsemble test\n",
    "atoms = RbEnsemble(5e-5,100,xdist='normal')\n",
    "atoms.phasespace()"
   ]
  },
  {
   "cell_type": "code",
   "execution_count": 22,
   "metadata": {},
   "outputs": [
    {
     "data": {
      "image/png": "[encoded data removed]",
      "text/plain": [
       "<Figure size 432x288 with 1 Axes>"
      ]
     },
     "metadata": {
      "needs_background": "light"
     },
     "output_type": "display_data"
    },
    {
     "data": {
      "text/plain": [
       "array([159214.9633272 , 206157.15657503, 150201.85613594,  82252.18036997,\n",
       "       171419.42993189, 150572.19737593, 140746.54366819,  46941.94347335,\n",
       "       136352.81032639, 223640.06855158, 127416.98604565, 176042.40576267,\n",
       "        96298.74501098, 116250.00652021, 169869.75685879, 134464.53500416,\n",
       "       149573.62455489, 210978.7156555 ,  81006.904382  , 129989.56794574,\n",
       "        64364.85481189, 183750.79163818, 156373.4867844 , 175753.77152909,\n",
       "       146277.31836658, 153921.75476971, 143158.70160594, 150394.08407733,\n",
       "       112191.58833543, 108984.12835008, 304992.75747093, 129432.63671416,\n",
       "       149756.08755957, 143197.80089066,  35956.71552072, 417960.0956149 ,\n",
       "        88973.17247879, 144517.57567743, 216937.31683617, 189301.64439393,\n",
       "       109041.01981092, 155149.63505645, 206058.51094635, 210907.65069824,\n",
       "       158093.72792702, 332341.12450366,  48514.06022256,  99410.79359934,\n",
       "       190452.61548013,  90758.62573363,  77877.32580253, 128946.02277464,\n",
       "       131302.77400164,  81809.33497096,  72946.95542601, 131957.7073124 ,\n",
       "       225129.04306077, 164493.51825185,  39978.96102952, 199503.15289216,\n",
       "       153683.79980513, 212130.46858395,  72497.2429411 , 197457.49933519,\n",
       "       259600.81366214, 138558.61480483, 228406.50681513, 135017.37742891,\n",
       "       122316.71999996, 130267.62575169, 114596.94627496, 198126.53907445,\n",
       "       138914.6001175 ,  98824.72877099, 144089.0244459 , 227087.2774552 ,\n",
       "       194037.36110034, 111609.16585665,  76879.75972648, 194552.36778568,\n",
       "       125131.49377783, 172333.94453224, 120524.00954401, 182985.50056462,\n",
       "       140643.01668969, 207147.31592234, 153750.66674185, 204143.05872452,\n",
       "        84525.44106154, 144147.9895103 , 158841.78839519,  29007.39638198,\n",
       "       194288.78025701, 148498.62194241, 171345.53196406,  68350.24709696,\n",
       "       211841.01353755, 158565.23561826, 250048.36948787, 158231.25522505])"
      ]
     },
     "execution_count": 22,
     "metadata": {},
     "output_type": "execute_result"
    }
   ],
   "source": [
    "## test the class imported from the python script\n",
    "\n",
    "# maxwboltz test\n",
    "units=1e-6\n",
    "atoms = ensemble(1,units=1e-6) # the temp here actually doesn't matter\n",
    "atoms.sampling_maxboltzv(100,[0,1/units],.000100,showplot=True)"
   ]
  },
  {
   "cell_type": "code",
   "execution_count": null,
   "metadata": {},
   "outputs": [],
   "source": []
  }
 ],
 "metadata": {
  "kernelspec": {
   "display_name": "Python 3 (ipykernel)",
   "language": "python",
   "name": "python3"
  },
  "language_info": {
   "codemirror_mode": {
    "name": "ipython",
    "version": 3
   },
   "file_extension": ".py",
   "mimetype": "text/x-python",
   "name": "python",
   "nbconvert_exporter": "python",
   "pygments_lexer": "ipython3",
   "version": "3.9.6"
  }
 },
 "nbformat": 4,
 "nbformat_minor": 4
}
