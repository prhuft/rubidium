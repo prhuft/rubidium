{
 "cells": [
  {
   "cell_type": "markdown",
   "metadata": {},
   "source": [
    "# Rb87 Polarizability Calcs"
   ]
  },
  {
   "cell_type": "code",
   "execution_count": 4,
   "metadata": {},
   "outputs": [],
   "source": [
    "#### libraries\n",
    "from numpy import *\n",
    "import matplotlib.pyplot as plt\n",
    "from arc import *\n",
    "from sympy.physics.wigner import wigner_6j,wigner_3j,clebsch_gordan\n",
    "\n",
    "#### local files\n",
    "from physconsts import *\n",
    "from rbconsts import *\n",
    "from amophys import *"
   ]
  },
  {
   "cell_type": "code",
   "execution_count": 5,
   "metadata": {},
   "outputs": [],
   "source": [
    "# a dictionary of hf levels through 5p3/2. \"nu\" in [GHz], w.r.t. 5s1/2 COM\n",
    "hf_levels = [\n",
    "    {'n': 5, 'L': 0, 'J': 0.5, 'F': 1, 'nu': -4.271676631815196},\n",
    "    {'n': 5, 'L': 0, 'J': 0.5, 'F': 2, 'nu': 2.563005979089114},\n",
    "    {'n': 5, 'L': 1, 'J': 0.5, 'F': 1, 'nu': 377106.953053064},\n",
    "    {'n': 5, 'L': 1, 'J': 0.5, 'F': 2, 'nu': 377107.769709364},\n",
    "    {'n': 5, 'L': 1, 'J': 1.5, 'F': 0, 'nu': 384230.1823946245},\n",
    "    {'n': 5, 'L': 1, 'J': 1.5, 'F': 1, 'nu': 384230.2546166565},\n",
    "    {'n': 5, 'L': 1, 'J': 1.5, 'F': 2, 'nu': 384230.4115571805},\n",
    "    {'n': 5, 'L': 1, 'J': 1.5, 'F': 3, 'nu': 384230.6782093585}\n",
    "]"
   ]
  },
  {
   "cell_type": "code",
   "execution_count": 6,
   "metadata": {},
   "outputs": [],
   "source": [
    "## example syntax for arc matrix element calcs\n",
    "# #Radial Matrix element R_{nlj\\rightarrown'l'j'}\n",
    "# atom.getRadialMatrixElement(n1,l1,j1,n2,l2,j2)\n",
    "# #Reduced Matrix Element <l||er||l'>\n",
    "# atom.getReducedMatrixElementL(n1,l1,j1,n2,l2,j2)\n",
    "# #Reduced Matrix Element <j||er||j'>\n",
    "# atom.getReducedMatrixElementJ(n1,l1,j1,n2,l2,j2)\n",
    "# #Angular Coupling <nljmj|er|n'l'j'mj'>\n",
    "# atom.getDipoleMatrixElement(n1,l1,j1,mj1,n2,l2,j2,mj2,q)"
   ]
  },
  {
   "cell_type": "code",
   "execution_count": 7,
   "metadata": {},
   "outputs": [
    {
     "data": {
      "text/plain": [
       "5.956"
      ]
     },
     "execution_count": 7,
     "metadata": {},
     "output_type": "execute_result"
    }
   ],
   "source": [
    "rb = Rubidium(87)\n",
    "# D2 line dipole matrix element, HF basis\n",
    "n1,l1,j1,f1,mf1 = [5,0,1/2,2,0] \n",
    "n2,l2,j2,f2,mf2 = [5,1,3/2,3,0]\n",
    "rb.getReducedMatrixElementJ(n1,l1,j1,n2,l2,j2)"
   ]
  },
  {
   "cell_type": "code",
   "execution_count": 8,
   "metadata": {},
   "outputs": [
    {
     "data": {
      "text/plain": [
       "377107.769709364"
      ]
     },
     "execution_count": 8,
     "metadata": {},
     "output_type": "execute_result"
    }
   ],
   "source": [
    "# 5p1/2\n",
    "(omega_D1/(2*pi) + 306246110)/1e9 # "
   ]
  },
  {
   "cell_type": "code",
   "execution_count": 9,
   "metadata": {},
   "outputs": [
    {
     "data": {
      "text/plain": [
       "384230.6782093585"
      ]
     },
     "execution_count": 9,
     "metadata": {},
     "output_type": "execute_result"
    }
   ],
   "source": [
    "# 5p3/2\n",
    "(omega_D2/(2*pi) - 302073888)/1e9 # F\n",
    "(omega_D2/(2*pi) - 229851856)/1e9 # F1\n",
    "(omega_D2/(2*pi) - 72911332)/1e9 # F2\n",
    "(omega_D2/(2*pi) + 193740846)/1e9 # F3"
   ]
  },
  {
   "cell_type": "code",
   "execution_count": 10,
   "metadata": {},
   "outputs": [
    {
     "ename": "NameError",
     "evalue": "name 'w_list' is not defined",
     "output_type": "error",
     "traceback": [
      "\u001b[1;31m---------------------------------------------------------------------------\u001b[0m",
      "\u001b[1;31mNameError\u001b[0m                                 Traceback (most recent call last)",
      "\u001b[1;32m<ipython-input-10-d82ada8ee6d8>\u001b[0m in \u001b[0;36m<module>\u001b[1;34m\u001b[0m\n\u001b[1;32m----> 1\u001b[1;33m \u001b[0mlambda_list\u001b[0m \u001b[1;33m=\u001b[0m \u001b[0marray\u001b[0m\u001b[1;33m(\u001b[0m\u001b[1;33m[\u001b[0m\u001b[1;36m2\u001b[0m\u001b[1;33m*\u001b[0m\u001b[0mpi\u001b[0m\u001b[1;33m*\u001b[0m\u001b[0mc\u001b[0m\u001b[1;33m/\u001b[0m\u001b[0mw\u001b[0m \u001b[1;32mfor\u001b[0m \u001b[0mw\u001b[0m \u001b[1;32min\u001b[0m \u001b[0mw_list\u001b[0m\u001b[1;33m]\u001b[0m\u001b[1;33m)\u001b[0m\u001b[1;33m/\u001b[0m\u001b[1;33m(\u001b[0m\u001b[1;36m1e-6\u001b[0m\u001b[1;33m)\u001b[0m\u001b[1;33m\u001b[0m\u001b[1;33m\u001b[0m\u001b[0m\n\u001b[0m\u001b[0;32m      2\u001b[0m \u001b[0mplt\u001b[0m\u001b[1;33m.\u001b[0m\u001b[0mplot\u001b[0m\u001b[1;33m(\u001b[0m\u001b[0mlambda_list\u001b[0m\u001b[1;33m,\u001b[0m\u001b[0malpha0\u001b[0m\u001b[1;33m*\u001b[0m\u001b[1;33m(\u001b[0m\u001b[0mee\u001b[0m\u001b[1;33m*\u001b[0m\u001b[0ma0\u001b[0m\u001b[1;33m)\u001b[0m\u001b[1;33m**\u001b[0m\u001b[1;36m2\u001b[0m\u001b[1;33m/\u001b[0m\u001b[0mEH\u001b[0m\u001b[1;33m)\u001b[0m\u001b[1;33m\u001b[0m\u001b[1;33m\u001b[0m\u001b[0m\n\u001b[0;32m      3\u001b[0m \u001b[0mplt\u001b[0m\u001b[1;33m.\u001b[0m\u001b[0mylabel\u001b[0m\u001b[1;33m(\u001b[0m\u001b[1;34m\"arb\"\u001b[0m\u001b[1;33m)\u001b[0m\u001b[1;33m\u001b[0m\u001b[1;33m\u001b[0m\u001b[0m\n\u001b[0;32m      4\u001b[0m \u001b[0mplt\u001b[0m\u001b[1;33m.\u001b[0m\u001b[0mxlabel\u001b[0m\u001b[1;33m(\u001b[0m\u001b[1;34m\"$\\lambda$ [$\\mu$m]\"\u001b[0m\u001b[1;33m)\u001b[0m\u001b[1;33m\u001b[0m\u001b[1;33m\u001b[0m\u001b[0m\n\u001b[0;32m      5\u001b[0m \u001b[0mplt\u001b[0m\u001b[1;33m.\u001b[0m\u001b[0mshow\u001b[0m\u001b[1;33m(\u001b[0m\u001b[1;33m)\u001b[0m\u001b[1;33m\u001b[0m\u001b[1;33m\u001b[0m\u001b[0m\n",
      "\u001b[1;31mNameError\u001b[0m: name 'w_list' is not defined"
     ]
    }
   ],
   "source": [
    "lambda_list = array([2*pi*c/w for w in w_list])/(1e-6)\n",
    "plt.plot(lambda_list,alpha0*(ee*a0)**2/EH)\n",
    "plt.ylabel(\"arb\")\n",
    "plt.xlabel(\"$\\lambda$ [$\\mu$m]\")\n",
    "plt.show()"
   ]
  },
  {
   "cell_type": "code",
   "execution_count": 11,
   "metadata": {
    "scrolled": false
   },
   "outputs": [
    {
     "data": {
      "text/plain": [
       "1.6487772743567905e-41"
      ]
     },
     "execution_count": 11,
     "metadata": {},
     "output_type": "execute_result"
    }
   ],
   "source": [
    "(ee*a0)**2/EH"
   ]
  },
  {
   "cell_type": "code",
   "execution_count": 12,
   "metadata": {
    "scrolled": true
   },
   "outputs": [
    {
     "data": {
      "text/plain": [
       "13.605693122994017"
      ]
     },
     "execution_count": 12,
     "metadata": {},
     "output_type": "execute_result"
    }
   ],
   "source": [
    "JToeV(EH)/2"
   ]
  },
  {
   "cell_type": "markdown",
   "metadata": {},
   "source": [
    "## Finite sum for $\\alpha_0(\\omega)$, 5s1/2 - J-M basis"
   ]
  },
  {
   "cell_type": "code",
   "execution_count": 13,
   "metadata": {
    "scrolled": true
   },
   "outputs": [
    {
     "name": "stdout",
     "output_type": "stream",
     "text": [
      "alpha0 ~= 3.4759639929090103e-23, 1 terms in sum\n",
      "alpha0 ~= 9.96711146008394e-23, 2 terms in sum\n",
      "alpha0 ~= 9.973125053227138e-23, 3 terms in sum\n",
      "alpha0 ~= 9.988926502720403e-23, 4 terms in sum\n",
      "alpha0 ~= 9.989507856768734e-23, 5 terms in sum\n",
      "alpha0 ~= 9.991298709777032e-23, 6 terms in sum\n",
      "alpha0 ~= 9.991439129742578e-23, 7 terms in sum\n",
      "alpha0 ~= 9.991935763412712e-23, 8 terms in sum\n",
      "alpha0 ~= 9.992079611727748e-23, 9 terms in sum\n",
      "alpha0 ~= 9.992516423715544e-23, 10 terms in sum\n",
      "alpha0 ~= 9.992591731989442e-23, 11 terms in sum\n",
      "alpha0 ~= 9.992826185051465e-23, 12 terms in sum\n"
     ]
    }
   ],
   "source": [
    "# our atom\n",
    "rb = Rubidium(87)\n",
    "\n",
    "# the 5s1/2 state\n",
    "level_a = hf_levels[1] \n",
    "n_a = level_a[\"n\"]\n",
    "j_a = level_a[\"J\"] \n",
    "l_a = level_a[\"L\"]\n",
    "# w_a = 2*pi*level_a[\"E\"]*1e9 # [rad/s], wrt zeropoint at 5s1/2 COM\n",
    "\n",
    "l_b = l_a + 1 # for dipole-allowed transitions with l_a = 0\n",
    "j_b_list = [ l_b - .5, l_b + .5] \n",
    "n_min = 5\n",
    "n_max = 11 # exclusive max\n",
    "\n",
    "# pts = 20\n",
    "l_arr = [1.064e-6] # 1.064e-6] # selected wavelengths\n",
    "w_arr = array([2*pi*c/l for l in l_arr]) # ang. freqs\n",
    "mF_a = 0\n",
    "q = 0\n",
    "mF_b = mF_a + q\n",
    "\n",
    "pts = len(l_arr)\n",
    "alpha0 = zeros(pts) \n",
    "terms = 0\n",
    "for i in range(pts):\n",
    "    for n_b in range(n_min, n_max):\n",
    "        for l_b in range(n_b): # runs through n_b - 1, inclusive\n",
    "            for j_b in j_b_list: \n",
    "                \n",
    "                # triangle and dipole-allowed conditions\n",
    "                if abs(j_b - j_a) <= 1 and abs(l_b - l_a) == 1: \n",
    "                    w_ba = 2*pi*(eVToGHz(rb.getEnergy(n_b, l_b, j_b) \\\n",
    "                                        - rb.getEnergy(n_a, l_a, j_a))*1e9)\n",
    "                    matelem = abs(rb.getReducedMatrixElementJ(n_a, l_a, j_a, n_b, l_b, j_b)*ee*a0)\n",
    "#                     print(f\"< n={n_a}, l={l_a}, j={j_a} | x | n'={n_b}, l'={l_b}, j'={j_b} >\")\n",
    "                    alpha0[i] += (2/(3*hbar*(2*j_a+1)))* \\\n",
    "                                    w_ba*matelem**2/(w_ba**2 - w_arr[i]**2) # Mark's Notes 9.11a\n",
    "                    terms += 1\n",
    "                    print(f\"alpha0 ~= {alpha0[i]/(4*pi*e0*1e-6)}, {terms} terms in sum\")\n",
    "# until now, alpha0 is in SI units\n",
    "# alpha0 # [Angst.**3] 1/(4*pi*e0*1e-6) # [cgs] to a.u.: EH/(ee*a0)**2"
   ]
  },
  {
   "cell_type": "code",
   "execution_count": 14,
   "metadata": {
    "scrolled": false
   },
   "outputs": [
    {
     "name": "stdout",
     "output_type": "stream",
     "text": [
      "9.992826185051465e-23 9.7e-23\n",
      "0.03018826650015094\n"
     ]
    }
   ],
   "source": [
    "mine = alpha0[0]/(4*pi*e0*1e-6) # cgs\n",
    "marks = 97e-24 # for 1064nm\n",
    "print(mine,marks)\n",
    "print(mine/marks-1)"
   ]
  },
  {
   "cell_type": "code",
   "execution_count": null,
   "metadata": {},
   "outputs": [],
   "source": [
    "# n_a = level_a[\"n\"]\n",
    "# j_a = level_a[\"J\"] \n",
    "# l_a = level_a[\"L\"]\n",
    "# f_a = level_a[\"F\"]\n",
    "# mf_a = 0 \n",
    "# mf_b = 0\n",
    "\n",
    "\n",
    "# def hf_alpha0(state_a, wavelengths):\n",
    "#     \"\"\"\n",
    "#     return the polarizability alpha0 of a hyperfine state in Rb(87)\n",
    "    \n",
    "#     'state_a': a tuple of quantum numbers: (n_a, j_a, l_a, f_a, mf_a)\n",
    "#         describing the state of interest\n",
    "#     ''\n",
    "#     \"\"\"\n",
    "#     rb = Rubidium(87)\n",
    "    \n",
    "#     n_a,j_a,l_a,f_a,mf_a,mf_b = state_a\n",
    "#     l_arr = wavelengths\n",
    "#     if wavelengths\n",
    "    \n",
    "#     mf\n",
    "    \n",
    "#     # for the L-S coupling part (states beyond 5p3/2)\n",
    "#     l_b = l_a + 1 # for dipole-allowed transitions with l_a = 0\n",
    "#     j_b_list = [ l_b - .5, l_b + .5] \n",
    "\n",
    "#     n_min = 5\n",
    "#     n_mid = 6\n",
    "#     n_max = 11 # exclusive max\n",
    "\n",
    "#     l_arr = [1.064e-6] # selected wavelengths, [m]\n",
    "#     w_arr = array([2*pi*c/l for l in l_arr]) # ang. freqs\n",
    "#     mF_a = 0\n",
    "#     q = 0\n",
    "#     mF_b = mF_a + q\n",
    "\n",
    "\n",
    "#     pts = len(l_arr)\n",
    "#     alpha0 = zeros(pts) \n",
    "#     terms = 0\n",
    "#     for i in range(pts):\n",
    "\n",
    "#         for level_b in hf_levels: # loop over states up through 5p3/2 band (inclusive)\n",
    "\n",
    "#             n_b = level_b[\"n\"]\n",
    "#             j_b = level_b[\"J\"] \n",
    "#             l_b = level_b[\"L\"]\n",
    "#             f_b = level_b[\"F\"]\n",
    "\n",
    "#             # triangle and dipole-allowed conditions\n",
    "#             if abs(j_b - j_a) <= 1 and abs(l_b - l_a) == 1 and abs(f_b - f_a) == q: \n",
    "\n",
    "#                 w_ba = 2*pi*(level_b[\"nu\"] - level_a[\"nu\"])*1e9\n",
    "\n",
    "#                 # matrix elems squared for hyperfine terms (Mark's notes, after 9.17)\n",
    "#                 h0 = (2*f_a + 1)**2*sum([abs(rb.getReducedMatrixElementJ(n_a, l_a, j_a, n_b, l_b, j_b))**2 \\\n",
    "#                         *wigner_6j(j_b,f_a,I,f_a,j_a,1)**2 for j_b in j_b_list])*(ee*a0)**2\n",
    "\n",
    "#     #            print(f\"<n={n_a},l={l_a},j={j_a},f={f_a}|x|n'={n_b},l'={l_b},j'={j_b},f'={f_b}>\")\n",
    "#                 alpha0[i] += (2/(3*hbar*(2*f_a+1)))*w_ba*h0 \\\n",
    "#                                 /(w_ba**2 - w_arr[i]**2) # Mark's Notes 9.16\n",
    "#                 terms += 1\n",
    "#                 print(f\"alpha0 ~= {alpha0[i]/(4*pi*e0*1e-6)}, {terms} terms in sum\")\n",
    "\n",
    "#         for n_b in range(n_mid, n_max):\n",
    "#             for l_b in range(n_b): # runs through n_b - 1, inclusive\n",
    "#                 for j_b in j_b_list: \n",
    "\n",
    "#                     # triangle and dipole-allowed conditions\n",
    "#                     if abs(j_b - j_a) <= 1 and abs(l_b - l_a) == 1: \n",
    "#                         w_ba = 2*pi*(eVToGHz(rb.getEnergy(n_b, l_b, j_b) \\\n",
    "#                                             - rb.getEnergy(n_a, l_a, j_a))*1e9)\n",
    "#                         matelem = abs(rb.getReducedMatrixElementJ(n_a, l_a, j_a, n_b, l_b, j_b)*ee*a0)\n",
    "#     #                     print(f\"< n={n_a}, l={l_a}, j={j_a} | x | n'={n_b}, l'={l_b}, j'={j_b} >\")\n",
    "#                         alpha0[i] += (2/(3*hbar*(2*j_a+1)))* \\\n",
    "#                                         w_ba*matelem**2/(w_ba**2 - w_arr[i]**2) # for q = 0. \n",
    "\n",
    "#                         terms += 1\n",
    "#                         print(f\"alpha0 ~= {alpha0[i]/(4*pi*e0*1e-6)}, {terms} terms in sum\")\n",
    "#     print(f\"for {level_a}\")"
   ]
  },
  {
   "cell_type": "markdown",
   "metadata": {},
   "source": [
    "## Finite sum for $\\alpha_0(\\omega)$, 5s1/2 - Hyperfine basis"
   ]
  },
  {
   "cell_type": "code",
   "execution_count": 15,
   "metadata": {
    "scrolled": true
   },
   "outputs": [
    {
     "name": "stdout",
     "output_type": "stream",
     "text": [
      "alpha0 ~= 3.468244812542488e-23, 1 terms in sum\n",
      "alpha0 ~= 6.721196582390219e-23, 2 terms in sum\n",
      "alpha0 ~= 6.727210175533415e-23, 3 terms in sum\n",
      "alpha0 ~= 6.74301162502668e-23, 4 terms in sum\n",
      "alpha0 ~= 6.743592979075012e-23, 5 terms in sum\n",
      "alpha0 ~= 6.745383832083311e-23, 6 terms in sum\n",
      "alpha0 ~= 6.745524252048857e-23, 7 terms in sum\n",
      "alpha0 ~= 6.746020885718991e-23, 8 terms in sum\n",
      "alpha0 ~= 6.746164734034026e-23, 9 terms in sum\n",
      "alpha0 ~= 6.746601546021822e-23, 10 terms in sum\n",
      "alpha0 ~= 6.74667685429572e-23, 11 terms in sum\n",
      "alpha0 ~= 6.746911307357744e-23, 12 terms in sum\n",
      "for {'n': 5, 'L': 0, 'J': 0.5, 'F': 2, 'nu': 2.563005979089114}\n"
     ]
    }
   ],
   "source": [
    "#TODO: refactor this to make it much more user friendly\n",
    "# - define a function withs args for state (n, l, j, f), \n",
    "# the uppermost state (n', l', j', f'), and wavelengths\n",
    "# and polarization of the incident light\n",
    "\n",
    "# our atom\n",
    "rb = Rubidium(87)\n",
    "\n",
    "# the 5s1/2,F=2,mF=0 state \n",
    "level_a = hf_levels[1] \n",
    "n_a = level_a[\"n\"]\n",
    "j_a = level_a[\"J\"] \n",
    "l_a = level_a[\"L\"]\n",
    "f_a = level_a[\"F\"]\n",
    "mf_a = 0 # I'm not sure these ever get used.. might be defined below\n",
    "mf_b = 0\n",
    "\n",
    "\n",
    "\n",
    "# for the L-S coupling part (states beyond 5p3/2)\n",
    "l_b = l_a + 1 # for dipole-allowed transitions with l_a = 0\n",
    "j_b_list = [ l_b - .5, l_b + .5] \n",
    "\n",
    "n_min = 5\n",
    "n_mid = 6\n",
    "n_max = 11 # exclusive max\n",
    "\n",
    "l_arr = [1.064e-6] # selected wavelengths, [m]\n",
    "w_arr = array([2*pi*c/l for l in l_arr]) # ang. freqs\n",
    "mF_a = 0\n",
    "q = 0\n",
    "mF_b = mF_a + q\n",
    "\n",
    "\n",
    "pts = len(l_arr)\n",
    "alpha0 = zeros(pts) \n",
    "terms = 0\n",
    "for i in range(pts):\n",
    "\n",
    "    for level_b in hf_levels: # loop over states up through 5p3/2 band (inclusive)\n",
    "        \n",
    "        n_b = level_b[\"n\"]\n",
    "        j_b = level_b[\"J\"] \n",
    "        l_b = level_b[\"L\"]\n",
    "        f_b = level_b[\"F\"]\n",
    "        \n",
    "        # triangle and dipole-allowed conditions\n",
    "        if abs(j_b - j_a) <= 1 and abs(l_b - l_a) == 1 and abs(f_b - f_a) == q: \n",
    "            \n",
    "            w_ba = 2*pi*(level_b[\"nu\"] - level_a[\"nu\"])*1e9\n",
    "                        \n",
    "            # matrix elems squared for hyperfine terms (Mark's notes, after 9.17)\n",
    "            h0 = (2*f_a + 1)**2*sum([abs(rb.getReducedMatrixElementJ(n_a, l_a, j_a, n_b, l_b, j_b))**2 \\\n",
    "                    *wigner_6j(j_b,f_a,I,f_a,j_a,1)**2 for j_b in j_b_list])*(ee*a0)**2\n",
    "            \n",
    "#            print(f\"<n={n_a},l={l_a},j={j_a},f={f_a}|x|n'={n_b},l'={l_b},j'={j_b},f'={f_b}>\")\n",
    "            alpha0[i] += (2/(3*hbar*(2*f_a+1)))*w_ba*h0 \\\n",
    "                            /(w_ba**2 - w_arr[i]**2) # Mark's Notes 9.16\n",
    "            terms += 1\n",
    "            print(f\"alpha0 ~= {alpha0[i]/(4*pi*e0*1e-6)}, {terms} terms in sum\")\n",
    "            \n",
    "    for n_b in range(n_mid, n_max):\n",
    "        for l_b in range(n_b): # runs through n_b - 1, inclusive\n",
    "            for j_b in j_b_list: \n",
    "\n",
    "                # triangle and dipole-allowed conditions\n",
    "                if abs(j_b - j_a) <= 1 and abs(l_b - l_a) == 1: \n",
    "                    w_ba = 2*pi*(eVToGHz(rb.getEnergy(n_b, l_b, j_b) \\\n",
    "                                        - rb.getEnergy(n_a, l_a, j_a))*1e9)\n",
    "                    matelem = abs(rb.getReducedMatrixElementJ(n_a, l_a, j_a, n_b, l_b, j_b)*ee*a0)\n",
    "#                     print(f\"< n={n_a}, l={l_a}, j={j_a} | x | n'={n_b}, l'={l_b}, j'={j_b} >\")\n",
    "                    alpha0[i] += (2/(3*hbar*(2*j_a+1)))* \\\n",
    "                                    w_ba*matelem**2/(w_ba**2 - w_arr[i]**2) # for q = 0. \n",
    "                    \n",
    "                    terms += 1\n",
    "                    print(f\"alpha0 ~= {alpha0[i]/(4*pi*e0*1e-6)}, {terms} terms in sum\")\n",
    "print(f\"for {level_a}\")"
   ]
  },
  {
   "cell_type": "code",
   "execution_count": 70,
   "metadata": {},
   "outputs": [],
   "source": [
    "# 5s1/2,F=2: alpha0 ~= 6.746911307357744e-23, 12 terms in sum (with F=F')\n",
    "# 5s1/2,F=1: alpha0 ~= 6.736462307586051e-23, 12 terms in sum (with F=F')"
   ]
  },
  {
   "cell_type": "code",
   "execution_count": 52,
   "metadata": {},
   "outputs": [
    {
     "data": {
      "text/plain": [
       "0.5"
      ]
     },
     "execution_count": 52,
     "metadata": {},
     "output_type": "execute_result"
    }
   ],
   "source": [
    "3.682966809168338e-23, 16 terms in sum"
   ]
  },
  {
   "cell_type": "code",
   "execution_count": 37,
   "metadata": {},
   "outputs": [
    {
     "data": {
      "text/plain": [
       "384234454071256.3"
      ]
     },
     "execution_count": 37,
     "metadata": {},
     "output_type": "execute_result"
    }
   ],
   "source": [
    "(hf_levels[4][\"nu\"] - hf_levels[0][\"nu\"])*1e9"
   ]
  },
  {
   "cell_type": "code",
   "execution_count": 40,
   "metadata": {},
   "outputs": [
    {
     "data": {
      "text/plain": [
       "<function amophys.hf_coupling(F, mF, J, q, FF, mFF, JJ, I, RME=None)>"
      ]
     },
     "execution_count": 40,
     "metadata": {},
     "output_type": "execute_result"
    }
   ],
   "source": [
    "help(hf_coupling)"
   ]
  },
  {
   "cell_type": "code",
   "execution_count": 57,
   "metadata": {},
   "outputs": [
    {
     "name": "stdout",
     "output_type": "stream",
     "text": [
      "6j-Symbol is not triangular!\n",
      "6j-Symbol is not triangular!\n"
     ]
    }
   ],
   "source": [
    "h0 = (2*f_a + 1)**2*sum([\n",
    "        rb.getReducedMatrixElementJ(\n",
    "            n_a, l_a, j_a, n_b, l_b, j_b\n",
    "            )*wigner_6j(j_b,f_a,I,f_a,j_a,1)*ee*a0\n",
    "        for j_b in j_b_list])**2"
   ]
  },
  {
   "cell_type": "code",
   "execution_count": 58,
   "metadata": {},
   "outputs": [],
   "source": [
    "del h0"
   ]
  },
  {
   "cell_type": "code",
   "execution_count": null,
   "metadata": {},
   "outputs": [],
   "source": []
  }
 ],
 "metadata": {
  "kernelspec": {
   "display_name": "Python 3",
   "language": "python",
   "name": "python3"
  },
  "language_info": {
   "codemirror_mode": {
    "name": "ipython",
    "version": 3
   },
   "file_extension": ".py",
   "mimetype": "text/x-python",
   "name": "python",
   "nbconvert_exporter": "python",
   "pygments_lexer": "ipython3",
   "version": "3.7.3"
  }
 },
 "nbformat": 4,
 "nbformat_minor": 2
}
