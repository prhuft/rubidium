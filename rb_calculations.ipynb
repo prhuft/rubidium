{
 "cells": [
  {
   "cell_type": "markdown",
   "metadata": {},
   "source": [
    "Rb Calculations (formerly known as Matrix Elements)\n",
    "\n",
    "Preston Huft, May 2019.\n",
    "\n",
    "https://docs.sympy.org/latest/modules/physics/wigner.html\n",
    "\n",
    "sympy.physics.wigner.clebsch_gordan(j_1, j_2, j_3, m_1, m_2, m_3)[source], ⟨j1m1j2m2|j3m3⟩.\n",
    "sympy.physics.wigner.wigner_3j(j_1, j_2, j_3, m_1, m_2, m_3)[source]\n",
    "sympy.physics.wigner.wigner_6j(j_1, j_2, j_3, j_4, j_5, j_6, prec=None)[source]"
   ]
  },
  {
   "cell_type": "code",
   "execution_count": 7,
   "metadata": {},
   "outputs": [],
   "source": [
    "%matplotlib notebook\n",
    "from matplotlib import pyplot as plt\n",
    "from sympy.physics.wigner import wigner_6j,wigner_3j,clebsch_gordan\n",
    "from sympy import init_printing,symbols,N\n",
    "from sympy import MatrixSymbol,MatAdd,MatMul,Identity,I,Matrix,symbols\n",
    "import numpy as np\n",
    "import math as m\n",
    "from math import sqrt,pi\n",
    "\n",
    "# init_printing(use_unicode=True)"
   ]
  },
  {
   "cell_type": "code",
   "execution_count": 17,
   "metadata": {},
   "outputs": [],
   "source": [
    "## physical constants\n",
    "ee = 1.60217662e-19 # [C]\n",
    "a0 = 5.22e-11 # [m]\n",
    "hbar = 1.0545718e-34 # [J s]\n",
    "c = 299792458 # [m/s]\n",
    "e0 = 8.85418782e-12 # [m^-3 kg^-1 s^4 A^2]\n",
    "u0 = 1.25663706e-6 # [m kg s^-2 A^-2]\n",
    "me = 9.10938356e-31 # [kg]\n",
    "uB = 9.274e-24 # [J/T]\n",
    "\n",
    "## other constants\n",
    "i = 3/2 # nuclear spin\n",
    "\n",
    "## reduced matrix elements from Steck\n",
    "D2_MatElem = 3.584e-29 # <J=1/2||er||J'=3/2> [C*m]\n",
    "D1_MatElem = 2.537e-29 # <J=1/2||er||J'=1/2> [C*m]\n",
    "\n",
    "def hf_matrix_elem(F,mF,J,q,FF,mFF,JJ,I,RME=None):\n",
    "    \"\"\" Returns the matrix element <F,mF,J|T_q|F',mF',J'>. \n",
    "    \n",
    "        RME is the reduced matrix element (just a number), which can be calculated\n",
    "        externally and passed in to be a multiplier. If RME=None, the \n",
    "        matrix element is in units of [RME].\n",
    "        \n",
    "        I is the nuclear spin of the atom.\n",
    "    \"\"\"\n",
    "\n",
    "    rme = 1\n",
    "    if RME!=None:\n",
    "        rme = RME\n",
    "\n",
    "    ## From Mark's notes, eqs. A-50,51\n",
    "    mat_elem = rme*pow(-1,F+JJ+1+I)*sqrt((2*F+1)*(2*JJ+1)) \\\n",
    "                *wigner_6j(J,I,F,FF,1,JJ) \\\n",
    "                *clebsch_gordan(1,F,FF,q,mF,mFF)\n",
    "    \n",
    "    return mat_elem\n",
    "\n",
    "def eff_rabi(O,D):\n",
    "    \"\"\" the effective rabi frequency, given a rabi freq O, and \n",
    "        detuning D from the transition frequency\"\"\"\n",
    "    return sqrt(O**2+D**2)\n",
    "\n",
    "def cc(z):\n",
    "    return np.conj(z)\n",
    "\n",
    "def radToTHz(w):\n",
    "    return w/(2*pi*1e12)\n",
    "\n",
    "def radToGHz(w):\n",
    "    return w/(2*pi*1e9)\n",
    "\n",
    "def radToMhz(w):\n",
    "    return w/(2*pi*1e6)\n",
    "\n",
    "def radTokHz(w):\n",
    "    return w/(2*pi*1e3)\n",
    "\n",
    "def JToeV(u):\n",
    "    global ee\n",
    "    return u/ee\n",
    "\n",
    "def GHzToeV(nu):\n",
    "    global hbar\n",
    "    return JToeV(2*pi*hbar*nu*1e9)\n",
    "\n",
    "# def alpha(w_ab,w,RME,I):\n",
    "#     \"\"\" the polarizability of a two-level atom in an AC electric field\n",
    "#     \"\"\"\n",
    "#     return "
   ]
  },
  {
   "cell_type": "code",
   "execution_count": 9,
   "metadata": {},
   "outputs": [
    {
     "name": "stdout",
     "output_type": "stream",
     "text": [
      "Two-photon Rabi frequency = 2*pi*284.24 kHz\n"
     ]
    }
   ],
   "source": [
    "###################################################################\n",
    "# calculate 2 photon Rabi frequency for the ground state hyperfine \n",
    "# Raman transition\n",
    "###################################################################\n",
    "\n",
    "P = 3.5e-6 # [W] light power at experiment cell\n",
    "a = 6e-6 # [m]\n",
    "b = 8e-6 # [m], in y direction\n",
    "A = a*b*pi # area at beam waist \n",
    "E0 = sqrt(4*P/(c*e0*A)) # the electric field amplitude\n",
    "d = 2*pi*4.5e10 # [Hz] Single photon detuning\n",
    "\n",
    "#       hf_matrix_elem(F,mF,J,q,FF,mFF,JJ,I,RME=None):\n",
    "O1 = E0*hf_matrix_elem(2,0,1/2,1,2,1,3/2,i,D2_MatElem)/hbar\n",
    "O2 = E0*hf_matrix_elem(1,0,1/2,1,2,1,3/2,i,D2_MatElem)/hbar\n",
    "\n",
    "# Ignoring a.c. stark shifts, etc:\n",
    "\n",
    "# O1 /= 1e9 # [GHz]\n",
    "# O2 /= 1e9 #\n",
    "# print(N(O1),N(O2))\n",
    "\n",
    "O = N(abs(O1*O2/(2*d))/1e3)/(2*pi) # [kHz]\n",
    "print(f\"Two-photon Rabi frequency = 2*pi*{O:.2f} kHz\")"
   ]
  },
  {
   "cell_type": "code",
   "execution_count": 10,
   "metadata": {},
   "outputs": [
    {
     "name": "stdout",
     "output_type": "stream",
     "text": [
      "-1.79200000000000e-29 1.79200000000000e-29\n"
     ]
    }
   ],
   "source": [
    "## for the raman pulse notebook\n",
    "o1 = hf_matrix_elem(2,0,1/2,1,2,1,3/2,i,D2_MatElem)\n",
    "o2 = hf_matrix_elem(1,0,1/2,1,2,1,3/2,i,D2_MatElem)\n",
    "print(N(o1),N(o2))"
   ]
  },
  {
   "cell_type": "code",
   "execution_count": 11,
   "metadata": {},
   "outputs": [],
   "source": [
    "###################################################################\n",
    "# Differential AC Stark Shifts\n",
    "###################################################################\n",
    "\n",
    "def scalar_ls(w_ab,w,I,RME=None):\n",
    "    \"\"\" the scalar AC Stark shift, or light shift, seen by a two \n",
    "        level atom in an oscillating electric field.\n",
    "        w_ab is the freq difference between a,b\n",
    "        w is the applied light frequency\n",
    "        I is the intensity of the light \n",
    "        RME is the reduced matrix element <J||r||J'>. Careful! This\n",
    "        does not include the electron charge.\n",
    "    \"\"\"\n",
    "    \n",
    "    if RME is None:\n",
    "        RME = 1 # the light shift is now in units of the RME\n",
    "    \n",
    "    return -(ee**2)*w_ab*cc(RME)*RME*I/(2*hbar*(w_ab**2-w**2))"
   ]
  },
  {
   "cell_type": "code",
   "execution_count": 12,
   "metadata": {},
   "outputs": [],
   "source": [
    "# The D2 line differential light shift of Rb87 in a far-off-resonance\n",
    "# trap (FORT)\n",
    "\n",
    "w0 = 2*pi*384.2304844685e12 # D2 line transition frequency\n",
    "wFORT = 2*pi*c/(1064e-9)\n",
    "\n",
    "waist = 2.5e-6 # gaussian waist of the FORT\n",
    "P = .5 # [W] approx at center site (e.g. during PGC phase)\n",
    "I = P/(pi*waist**2)"
   ]
  },
  {
   "cell_type": "code",
   "execution_count": 13,
   "metadata": {},
   "outputs": [
    {
     "data": {
      "text/plain": [
       "281.7598289473684"
      ]
     },
     "execution_count": 13,
     "metadata": {},
     "output_type": "execute_result"
    }
   ],
   "source": [
    "radToTHz(wFORT)"
   ]
  },
  {
   "cell_type": "code",
   "execution_count": 26,
   "metadata": {},
   "outputs": [],
   "source": [
    "###################################################################\n",
    "# HF Zeeman Shifts, small B field\n",
    "###################################################################\n",
    "\n",
    "def gF(F,J,I,gJ,gI):\n",
    "    \n",
    "    return (gJ*(F*(F+1)+J*(J+1)-I*(I+1))\n",
    "            +gI*(F*(F+1)-J*(J+1)+I*(I+1)))/(2*F*(F+1))\n",
    "\n",
    "def gJ(J,L,S,gL,gS):\n",
    "    \n",
    "    return gF(J,L,S,gL,gS)\n",
    "\n",
    "def zeeman(Bz,mF,gF):\n",
    "    \"\"\" Mark's notes, eq 4.21 gives <aJIFM|HZz|aJIFM> = uB*Bz*gF*M \"\"\"\n",
    "    global uB\n",
    "    return uB*Bz*gF*mF\n",
    "\n",
    "# def zeeman(Bz,F,mF,FF,mFF,gF):\n",
    "#     \"\"\"See Mark's notes for the general hf Zeeman matrix elements\"\"\"\n",
    "#     global uB\n",
    "#     return \n",
    "\n",
    "# Rb87 ground state 5s1/2:\n",
    "L = 0; S = 1/2; J = 1/2;\n",
    "Flist = [1,2] # F = I + J\n",
    "nu_hf = 6.83468261090429 # [GHz]\n",
    "E_hf = GHzToeV(nu_hf)\n",
    "\n",
    "# Rb 87 Lande g factors\n",
    "gS = 2.00023; gL = 1; gI = -0.000995\n",
    "gj = gJ(J,L,S,gL,gS)\n",
    "\n",
    "Bzlist = np.linspace(0,.10,10)\n",
    "\n",
    "# ## initialize the figure\n",
    "# fig = plt.figure()\n",
    "# ax = fig.add_subplot(111)\n",
    "\n",
    "## First order calculation for low B field\n",
    "# for F in Flist:\n",
    "#     gf = gF(F,J,i,gj,gI)\n",
    "#     zshifts = np.empty(len(Bzlist))\n",
    "#     for mF in range(-F,F+1): # the hyperfine states\n",
    "#         for i,Bz in enumerate(Bzlist): \n",
    "#             zshifts[i] = JToeV(zeeman(Bz,mF,gf))\n",
    "#         ax.plot(Bzlist,zshifts,label=f'|{F},{mF}>')\n",
    "# ax.set_title(\"Rb87 |5s1/2> Hyperfine Zeeman Shifts (O(1))\")\n",
    "\n",
    "## General calculation for different field strength regimes\n",
    "\n",
    "# Rb Hamiltonian for HF ground states in {|F,mF>} basis\n",
    "H_a = E_hf*Matrix([[1,0,0,0,0,0,0,0],\n",
    "                   [0,1,0,0,0,0,0,0],\n",
    "                   [0,0,1,0,0,0,0,0],\n",
    "                   [0,0,0,1,0,0,0,0],\n",
    "                   [0,0,0,0,1,0,0,0],\n",
    "                   [0,0,0,0,0,0,0,0],\n",
    "                   [0,0,0,0,0,0,0,0],\n",
    "                   [0,0,0,0,0,0,0,0]])\n",
    "\n",
    "# Zeeman Hamiltonian for B = Bz\n",
    "H_Zz = np.empty((8,8))\n",
    "\n",
    "\n",
    "\n",
    "# Diagonalize the full Hamiltonian various B field strengths:\n",
    "B = symbols('B')\n",
    "zshifts = np.empty((8,len(Bzlist)))\n",
    "\n",
    "\n",
    "for F in Flist:\n",
    "    gf = gF(F,J,i,gj,gI)\n",
    "    \n",
    "    \n",
    "\n",
    "# ax.set_xlabel(\"B_z [T]\")\n",
    "# ax.set_ylabel(\"energy shift [eV]\")\n",
    "# ax.legend(loc='upper right')\n",
    "# plt.show()"
   ]
  },
  {
   "cell_type": "code",
   "execution_count": 27,
   "metadata": {},
   "outputs": [
    {
     "data": {
      "text/plain": [
       "10"
      ]
     },
     "execution_count": 27,
     "metadata": {},
     "output_type": "execute_result"
    }
   ],
   "source": []
  },
  {
   "cell_type": "code",
   "execution_count": null,
   "metadata": {},
   "outputs": [],
   "source": []
  }
 ],
 "metadata": {
  "kernelspec": {
   "display_name": "Python 3",
   "language": "python",
   "name": "python3"
  },
  "language_info": {
   "codemirror_mode": {
    "name": "ipython",
    "version": 3
   },
   "file_extension": ".py",
   "mimetype": "text/x-python",
   "name": "python",
   "nbconvert_exporter": "python",
   "pygments_lexer": "ipython3",
   "version": "3.6.1"
  }
 },
 "nbformat": 4,
 "nbformat_minor": 2
}
