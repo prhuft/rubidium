{
 "cells": [
  {
   "cell_type": "markdown",
   "metadata": {},
   "source": [
    "\"\"\" Multi-level atom solver, 1.00\n",
    "    Preston Huft, April 2019\n",
    "    \n",
    "    Version notes\n",
    "        - can generate a fully symbolic set of ODES, but cannot solve them.\n",
    "    \n",
    "    Comments\n",
    "        -  it appears that\n",
    "        the lambdifygenerated derivs function causes a memory error in the odeint method. \n",
    "        Checking the memory isn't tractable. sys.getsizeof(object) only returns the pointer\n",
    "        size which is 72 bytes by default. \n",
    "    \n",
    "    To-do\n",
    "        - deprecate hard-coded optical Bloch equations, check\n",
    "        - generate fully symbolic set of ODEs (RHS), check\n",
    "        - pass set of ODEs to derivs function, then set the ODE values inside the function\n",
    "\"\"\""
   ]
  },
  {
   "cell_type": "code",
   "execution_count": 134,
   "metadata": {},
   "outputs": [],
   "source": [
    "import numpy as np\n",
    "from matplotlib import pyplot as plt\n",
    "from scipy.integrate import complex_ode,odeint\n",
    "import sympy\n",
    "from sympy import MatrixSymbol,MatAdd,MatMul,Identity,I,Matrix,symbols\n",
    "from sympy.utilities.lambdify import lambdify, implemented_function\n",
    "from sympy.utilities.iterables import flatten\n",
    "import time\n",
    "from sys import getsizeof"
   ]
  },
  {
   "cell_type": "code",
   "execution_count": 135,
   "metadata": {},
   "outputs": [],
   "source": [
    "###############################################################################\n",
    "## METHODS and GLOBAL PARAMETERS\n",
    "###############################################################################\n",
    "\n",
    "# def odeintz(func, z0, t,params,**kwargs):\n",
    "def odeintz(func, z0, t,**kwargs):\n",
    "    \"\"\"An odeint-like function for complex valued differential equations.\"\"\"\n",
    "\n",
    "    # Disallow Jacobian-related arguments.\n",
    "    _unsupported_odeint_args = ['Dfun', 'col_deriv', 'ml', 'mu']\n",
    "    bad_args = [arg for arg in kwargs if arg in _unsupported_odeint_args]\n",
    "    if len(bad_args) > 0:\n",
    "        raise ValueError(\"The odeint argument %r is not supported by \"\n",
    "                         \"odeintz.\" % (bad_args[0],))\n",
    "\n",
    "    # Make sure z0 is a numpy array of type np.complex128.\n",
    "    z0 = np.array(z0, dtype=np.complex128, ndmin=1)\n",
    "\n",
    "    def realfunc(x, t, *args):\n",
    "        z = x.view(np.complex128)\n",
    "        dzdt = func(z, t, *args)\n",
    "        # func might return a python list, so convert its return\n",
    "        # value to an array with type np.complex128, and then return\n",
    "        # a np.float64 view of that array.\n",
    "        return np.asarray(dzdt, dtype=np.complex128).view(np.float64)\n",
    "\n",
    "    stopwatch = time.time() # time the computation \n",
    "    result = odeint(realfunc, z0.view(np.float64), t, **kwargs)\n",
    "    stopwatch = time.time() - stopwatch\n",
    "\n",
    "    if kwargs.get('full_output', False):\n",
    "        z = result[0].view(np.complex128)\n",
    "        infodict = result[1]\n",
    "        return z, infodict#, stopwatch\n",
    "    else:\n",
    "        z = result.view(np.complex128)\n",
    "        return z,stopwatch\n",
    "\n",
    "def cc(z):\n",
    "    \"\"\"np.conj(z)\"\"\"\n",
    "    return np.conj(z)\n",
    "\n",
    "def mdot(a,b):\n",
    "    \"\"\"np.matmul(a,b)\"\"\"\n",
    "    return np.matmul(a,b)\n",
    "\n",
    "def comm(A,B):\n",
    "    \"\"\"[A,B]=A.B-B.A. Assumes symbolic matrix.\"\"\"\n",
    "    return (MatMul(A,B)-MatMul(B,A)) #.as_mutable\n",
    "\n",
    "# ## \"GLOBAL\" VARIABLES (scope excludes method bodies)\n",
    "\n",
    "pauliX = np.array([[0,1],[1,0]])\n",
    "pauliY = np.array([[0,-1j],[1j,0]])\n",
    "pauliZ = np.array([[1,0],[0,-1]])\n",
    "\n",
    "dt = 0.05 # the timestep for numerical solutions\n",
    "threedB = (1-1/np.e) # \"3dB\" down, or ~ 63 % of an initial amplitude"
   ]
  },
  {
   "cell_type": "code",
   "execution_count": 191,
   "metadata": {},
   "outputs": [],
   "source": [
    "###############################################################################\n",
    "## ***** SYMBOLIC SYSTEM SOLVER PROTOTYPE *****\n",
    "## Hamiltonian is wrong but the method is a proof of concept\n",
    "## Rabi oscillations with no spontaneous emission, for various values\n",
    "## of detuning from the transition resonance\n",
    "###############################################################################\n",
    "\n",
    "# define symbolic matrices which can be made numeric later\n",
    "E1,E2,d,O,t,o,g = symbols('E1 E2 d O t o g') # symbolic variables\n",
    "\n",
    "# Set the parameters of H\n",
    "O = 1; # Rabi frequency in units of the excited state lifetime\n",
    "E2 = 1; \n",
    "E1 = 0; \n",
    "o = E2-E1; # transition frequency, hbar is unity\n",
    "# d = 0; # detuning from w. \n",
    "# g = # the upper state lifetime\n",
    "\n",
    "# Build the Hamiltonian\n",
    "H_a = Matrix([[E2,0],[0,E1]])\n",
    "# H_field = Matrix([[-d,cc(O)/2],[O/2,0]]) # RWA\n",
    "H_field = Matrix([[-d,cc(O)/2],[O/2+g,0]])\n",
    "H = H_a + H_field # the full Hamiltonian\n",
    "r = MatrixSymbol('r',2,2).as_mutable() # density op\n",
    "r[0,1]=cc(r[1,0]) # now we need only solve 3 eqs\n",
    "RHS = -1j*comm(r,H) # RHS of von Neumann eq system\n",
    "rhs = [x for x in  RHS]\n",
    "r0 = [1+0j,0+0j,0+0j,0+0j] # flattened initial dens. op.; system in E1"
   ]
  },
  {
   "cell_type": "code",
   "execution_count": 192,
   "metadata": {
    "scrolled": true
   },
   "outputs": [
    {
     "data": {
      "text/plain": [
       "[-1.0*I*((g + 0.5)*conjugate(r[1, 0]) - 0.5*r[1, 0]),\n",
       " -1.0*I*(-(1 - d)*conjugate(r[1, 0]) + 0.5*r[0, 0] - 0.5*r[1, 1]),\n",
       " -1.0*I*((1 - d)*r[1, 0] - (g + 0.5)*r[0, 0] + (g + 0.5)*r[1, 1]),\n",
       " -1.0*I*(-(g + 0.5)*conjugate(r[1, 0]) + 0.5*r[1, 0])]"
      ]
     },
     "execution_count": 192,
     "metadata": {},
     "output_type": "execute_result"
    }
   ],
   "source": [
    "rhs"
   ]
  },
  {
   "cell_type": "code",
   "execution_count": 182,
   "metadata": {},
   "outputs": [
    {
     "name": "stderr",
     "output_type": "stream",
     "text": [
      "c:\\program files (x86)\\lib\\site-packages\\numpy\\core\\numeric.py:538: ComplexWarning: Casting complex values to real discards the imaginary part\n",
      "  return array(a, dtype, copy=False, order=order)\n"
     ]
    },
    {
     "data": {
      "image/png": "[encoded data removed]",
      "text/plain": [
       "<Figure size 432x288 with 1 Axes>"
      ]
     },
     "metadata": {},
     "output_type": "display_data"
    }
   ],
   "source": [
    "# the free variables for our deriv function\n",
    "freesyms = flatten([flatten(x) for x in RHS.free_symbols])\n",
    "\n",
    "# # Prune unwanted terms from the system; the solver doesn't like this\n",
    "# i = 2\n",
    "# del rhs[i]\n",
    "# del r0[i]\n",
    "# del freesyms[i]\n",
    "\n",
    "# args = (flatten([flatten(x) for x in RHS.free_symbols]),t) #the deriv function args\n",
    "args = (freesyms,t) #the deriv function args\n",
    "\n",
    "# generate this derivs function from symbolic Hamiltonian and Lambdify\n",
    "# TODO: include parameters for H as a tuple\n",
    "# derivs = lambdify((flatten([flatten(x) for x in RHS.free_symbols]),t),rhs)\n",
    "derivs = lambdify(args,rhs)\n",
    "            \n",
    "t_exp = 10 # experiment duration\n",
    "ts = np.arange(t_exp,step=dt)\n",
    "\n",
    "fig = plt.figure()\n",
    "ax = fig.add_subplot(111)\n",
    "# ax.set_ylim((0,1))\n",
    "ax.set_xlim((0,t_exp))\n",
    "ax.set_title('Rabi oscillations w/o spontaneous emission')\n",
    "ax.set_xlabel('time [gamma]')\n",
    "ax.set_ylabel('Excitation probability')\n",
    "\n",
    "# this doesn't throw any errors\n",
    "soln,ctime = odeintz(derivs, r0, ts) #, args=(t1,t2,D,Omega))\n",
    "ax.plot(ts,soln[:,1]) # plot rho_ee\n",
    "plt.show()\n",
    "# comp_time = 0\n",
    "# for D in D_arr: # solve and plot for each detuning value\n",
    "#     soln,ctime = odeintz(derivs, y0, t, args=(t1,t2,D,Omega))\n",
    "#     ax.plot(t,soln[:,1],label=\"Detuning = %s \"%D) # plot rho_ee\n",
    "#     comp_time += ctime\n",
    "# print(\"computation time = %f [s]\" % comp_time)\n",
    "\n",
    "# ax.legend(loc='upper right')\n",
    "# plt.show()"
   ]
  },
  {
   "cell_type": "code",
   "execution_count": 179,
   "metadata": {},
   "outputs": [
    {
     "data": {
      "text/plain": [
       "[1.0*I*(0.5*conjugate(r[1, 0]) - 0.5*r[1, 0]),\n",
       " 1.0*I*(-conjugate(r[1, 0]) + 0.5*r[0, 0] - 0.5*r[1, 1]),\n",
       " 1.0*I*(-0.5*r[0, 0] + r[1, 0] + 0.5*r[1, 1]),\n",
       " 1.0*I*(-0.5*conjugate(r[1, 0]) + 0.5*r[1, 0])]"
      ]
     },
     "execution_count": 179,
     "metadata": {},
     "output_type": "execute_result"
    }
   ],
   "source": [
    "rhs"
   ]
  },
  {
   "cell_type": "code",
   "execution_count": null,
   "metadata": {},
   "outputs": [],
   "source": []
  }
 ],
 "metadata": {
  "kernelspec": {
   "display_name": "Python 3",
   "language": "python",
   "name": "python3"
  },
  "language_info": {
   "codemirror_mode": {
    "name": "ipython",
    "version": 3
   },
   "file_extension": ".py",
   "mimetype": "text/x-python",
   "name": "python",
   "nbconvert_exporter": "python",
   "pygments_lexer": "ipython3",
   "version": "3.6.1"
  }
 },
 "nbformat": 4,
 "nbformat_minor": 2
}
