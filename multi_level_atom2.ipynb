{
 "cells": [
  {
   "cell_type": "markdown",
   "metadata": {},
   "source": [
    "\"\"\"\n",
    "    this one works. not a class though.\n",
    "    \n",
    "    try to reproduce Mark's four level atom simulation\n",
    "    \n",
    "    so far: no programmatic errors, but physics is wrong. \n",
    "\"\"\""
   ]
  },
  {
   "cell_type": "code",
   "execution_count": 1,
   "metadata": {
    "scrolled": false
   },
   "outputs": [
    {
     "data": {
      "text/html": [
       "<style>.container{width:100% !important;}</style>"
      ],
      "text/plain": [
       "<IPython.core.display.HTML object>"
      ]
     },
     "metadata": {},
     "output_type": "display_data"
    }
   ],
   "source": [
    "# libraries\n",
    "import numpy as np\n",
    "from numpy import *\n",
    "from matplotlib import pyplot as plt\n",
    "from scipy.integrate import solve_ivp\n",
    "import sympy\n",
    "from sympy import MatrixSymbol,MatAdd,MatMul,Identity,I,Matrix,symbols,Function\n",
    "from sympy.utilities.lambdify import lambdify, implemented_function\n",
    "from sympy.utilities.iterables import flatten\n",
    "from sympy.functions import exp\n",
    "from sympy.physics.wigner import wigner_6j,wigner_3j,clebsch_gordan\n",
    "import time\n",
    "\n",
    "# files\n",
    "from rbconsts import *\n",
    "from physconsts import *\n",
    "\n",
    "# layout stuff\n",
    "from IPython.core.display import display,HTML\n",
    "display(HTML(\"<style>.container{width:100% !important;}</style>\"))\n",
    "\n",
    "# Inuc = I # prevent weird stuff happening later?\n",
    "# important: 'I' is the nuclear spin, not sympy imaginary i. Use\n",
    "# numpy's 1j for imaginary i. "
   ]
  },
  {
   "cell_type": "code",
   "execution_count": 2,
   "metadata": {
    "scrolled": false
   },
   "outputs": [],
   "source": [
    "# misc functions\n",
    "def cc(z):\n",
    "    \"\"\"np.conj(z)\"\"\"\n",
    "    return np.conj(z)\n",
    "\n",
    "def comm(A,B):\n",
    "    \"\"\"[A,B]=A.B-B.A. Assumes symbolic matrix.\"\"\"\n",
    "    return (MatMul(A,B)-MatMul(B,A)) #.as_mutable\n",
    "\n",
    "def hf_coupling(F,mF,J,q,FF,mFF,JJ,I,RME=None):\n",
    "    \"\"\" Returns the matrix element <F,mF,J|T_q|F',mF',J'>. \n",
    "    \n",
    "        'RME': the reduced matrix element, e.g. the D2 line matrix\n",
    "        element. If RME=None, the \n",
    "        matrix element is in units of [RME].\n",
    "        \n",
    "        I is the nuclear spin of the atom.\n",
    "    \"\"\"\n",
    "\n",
    "    rme = 1\n",
    "    if RME!=None:\n",
    "        rme = RME\n",
    "\n",
    "    ## From Mark's notes, eqs. A-50,51\n",
    "    mat_elem = rme*pow(-1,F+JJ+1+I)*sqrt((2*F+1)*(2*JJ+1)) \\\n",
    "                *wigner_6j(J,I,F,FF,1,JJ) \\\n",
    "                *clebsch_gordan(1,F,FF,q,mF,mFF)\n",
    "    \n",
    "    return mat_elem\n",
    "\n",
    "def jmbasis(jlist):\n",
    "    \"\"\" returns a numpy array of basis vectors {|J,mJ>} given a list of \n",
    "        J vals. Output J order will be the same as the input order.\n",
    "    \"\"\"\n",
    "    basis = empty(sum([2*j+1 for j in jlist]),list)\n",
    "    i = 0\n",
    "    for j in jlist:\n",
    "        for m in range(-j,j+1):\n",
    "            basis[i] = [j,m]\n",
    "            i+=1 \n",
    "    return array(basis) \n",
    "\n",
    "def zerosz(num):\n",
    "    \"\"\" return array of complex zeros \"\"\"\n",
    "    c = empty(num,complex)\n",
    "    for i in range(num):\n",
    "        c[i] = 0+0j\n",
    "    return c\n",
    "\n",
    "# def hfbasis(jlist,Inuc):\n",
    "    \n",
    "#     # see my notebook. "
   ]
  },
  {
   "cell_type": "code",
   "execution_count": 39,
   "metadata": {
    "collapsed": true
   },
   "outputs": [
    {
     "data": {
      "text/plain": [
       "Matrix([\n",
       "[                                                                   U1, d2*(0.5*E2*ee**(-1.0*I*o12*t) + 0.5*ee**(-1.0*I*o12*t)*conjugate(E2)),                                                                     0,                                                                     0],\n",
       "[d2*(0.5*E2*ee**(-1.0*I*o12*t) + 0.5*ee**(-1.0*I*o12*t)*conjugate(E2)),                                                                    U2, d3*(0.5*E3*ee**(-1.0*I*o23*t) + 0.5*ee**(-1.0*I*o23*t)*conjugate(E3)),                                                                     0],\n",
       "[                                                                    0, d3*(0.5*E3*ee**(-1.0*I*o23*t) + 0.5*ee**(-1.0*I*o23*t)*conjugate(E3)),                                                                    U3, d4*(0.5*E4*ee**(-1.0*I*o34*t) + 0.5*ee**(-1.0*I*o34*t)*conjugate(E4))],\n",
       "[                                                                    0,                                                                     0, d4*(0.5*E4*ee**(-1.0*I*o34*t) + 0.5*ee**(-1.0*I*o34*t)*conjugate(E4)),                                                                    U4]])"
      ]
     },
     "execution_count": 39,
     "metadata": {},
     "output_type": "execute_result"
    }
   ],
   "source": [
    "## try to reproduce Mark's von nuemann eqs for 4 level system\n",
    "## this cell symbolic for reading the output eqs\n",
    "\n",
    "# energies = symbols('U1 U2 U3 U4')\n",
    "# H_a = MatrixSymbol('H',4,4).as_mutable()\n",
    "# for i in range(4):\n",
    "#     for j in range(4):\n",
    "#         if i != j:\n",
    "#             H_a[i,j] = 0\n",
    "#         else:\n",
    "#             H_a[i,j] = energies[i]\n",
    "\n",
    "# fields = symbols('E2 E3 E4')\n",
    "# dipoles = symbols('d2 d3 d4')\n",
    "# freqs = symbols('o12 o23 o34')\n",
    "# ee,t = symbols('ee,t')\n",
    "# H_E1 = MatrixSymbol('H',4,4).as_mutable()\n",
    "# for i in range(4):\n",
    "#     for j in range(4):\n",
    "#         if i - j == 1:\n",
    "#             el =  (1/2)*(fields[i-1]*ee**(-1j*freqs[i-1]*t)+cc(fields[i-1])*ee**(-1j*freqs[i-1]*t))*dipoles[i-1]\n",
    "#             H_E1[i,j] = el\n",
    "# #             H_E1[i,j] = fields[i-1]*dipoles[i-1]\n",
    "#         elif j - i == 1:\n",
    "#             el =  (1/2)*(fields[j-1]*ee**(-1j*freqs[j-1]*t)+cc(fields[j-1])*ee**(-1j*freqs[j-1]*t))*dipoles[j-1]\n",
    "#             H_E1[i,j] = el\n",
    "# #             H_E1[i,j] = fields[j-1]*cc(dipoles[j-1])\n",
    "#         else:\n",
    "#             H_E1[i,j] = 0\n",
    "            \n",
    "# H = H_a+H_E1\n",
    "# H"
   ]
  },
  {
   "cell_type": "code",
   "execution_count": 24,
   "metadata": {},
   "outputs": [],
   "source": [
    "## try to reproduce Mark's von nuemann eqs for 4 level system\n",
    "## this cell numeric for actually solving the system\n",
    "\n",
    "# careful! if Matrix type uses numpy's exp instead of sympy's exp, it freaks out. \n",
    "energies = [0,1,2,3]\n",
    "H_a = MatrixSymbol('H',4,4).as_mutable()\n",
    "for i in range(4):\n",
    "    for j in range(4):\n",
    "        if i != j:\n",
    "            H_a[i,j] = 0\n",
    "        else:\n",
    "            H_a[i,j] = energies[i]\n",
    "\n",
    "rabis = [2*pi,2*pi,2*pi] # Omega = d*E/hbar\n",
    "deltas = array([.5,.6,.1]) # detuning\n",
    "\n",
    "deltas += array([energies[i+1]-energies[i] for i in range(len(deltas))])\n",
    "\n",
    "ee,t = symbols('ee,t')\n",
    "H_E1 = MatrixSymbol('H',4,4).as_mutable()\n",
    "for i in range(4):\n",
    "    for j in range(4):\n",
    "        if i - j == 1:\n",
    "            el =  (1/2)*(rabis[i-1]*exp(-1j*deltas[i-1]*t)+cc(rabis[i-1])*exp(-1j*deltas[i-1]*t))\n",
    "            H_E1[i,j] = el\n",
    "        elif j - i == 1:\n",
    "            el = (1/2)*(rabis[j-1]*exp(-1j*deltas[j-1]*t)+cc(rabis[j-1])*exp(-1j*deltas[j-1]*t))\n",
    "            H_E1[i,j] = el\n",
    "        else:\n",
    "            H_E1[i,j] = 0"
   ]
  },
  {
   "cell_type": "code",
   "execution_count": 25,
   "metadata": {
    "collapsed": true
   },
   "outputs": [
    {
     "data": {
      "text/plain": [
       "Matrix([\n",
       "[                             0, 6.28318530717959*exp(-1.5*I*t),                              0,                              0],\n",
       "[6.28318530717959*exp(-1.5*I*t),                              1, 6.28318530717959*exp(-1.6*I*t),                              0],\n",
       "[                             0, 6.28318530717959*exp(-1.6*I*t),                              2, 6.28318530717959*exp(-1.1*I*t)],\n",
       "[                             0,                              0, 6.28318530717959*exp(-1.1*I*t),                              3]])"
      ]
     },
     "execution_count": 25,
     "metadata": {},
     "output_type": "execute_result"
    }
   ],
   "source": [
    "H = H_a + H_E1\n",
    "H"
   ]
  },
  {
   "cell_type": "code",
   "execution_count": 28,
   "metadata": {},
   "outputs": [],
   "source": [
    "H = H_a + H_E1 # if H_E1 is included then I get:\n",
    "               # TypeError: _lambdifygenerated() missing 1 required positional argument: 'r'\n",
    "    \n",
    "dim = H.shape[0]\n",
    "\n",
    "# RHS of von Neumann\n",
    "r = MatrixSymbol('r',dim,dim).as_mutable() # density op\n",
    "RHS = -1j*comm(H,r)/hbar # RHS of von Neumann eq system; hbar = 1 for now\n",
    "r0 = zerosz(int(dim**2)) # flattened initial dens. op.\n",
    "r0[0] = 1 # all population in ground state, no coherences\n",
    "\n",
    "f = lambdify(RHS.free_symbols,RHS)\n",
    "def derivs(t,y):\n",
    "    \"\"\" takes unraveled or flattened density matrix, returns flattened RHS\n",
    "        of von Neumann equation\n",
    "    \"\"\"\n",
    "    j=int(sqrt(len(y)))\n",
    "    return flatten(f(Matrix(y.reshape((j,j))),t))\n"
   ]
  },
  {
   "cell_type": "code",
   "execution_count": 29,
   "metadata": {},
   "outputs": [],
   "source": [
    "t_exp = 10\n",
    "tpts = 1000\n",
    "soln = solve_ivp(derivs,[0,t_exp],r0,t_eval=np.linspace(0,t_exp,tpts))"
   ]
  },
  {
   "cell_type": "code",
   "execution_count": 34,
   "metadata": {},
   "outputs": [
    {
     "data": {
      "text/plain": [
       "<matplotlib.legend.Legend at 0x2963ab076a0>"
      ]
     },
     "execution_count": 34,
     "metadata": {},
     "output_type": "execute_result"
    },
    {
     "data": {
      "image/png": "[encoded data removed]",
      "text/plain": [
       "<Figure size 432x288 with 1 Axes>"
      ]
     },
     "metadata": {
      "needs_background": "light"
     },
     "output_type": "display_data"
    }
   ],
   "source": [
    "for i in range(len(soln.y)):\n",
    "    plt.plot(soln.t,soln.y[i],label=f\"{i}\")\n",
    "    plt.xlim((0,10))\n",
    "plt.legend(loc='right')"
   ]
  },
  {
   "cell_type": "code",
   "execution_count": null,
   "metadata": {},
   "outputs": [],
   "source": [
    "## make E1 hamiltonian a better way. smart way to make the RWA \n",
    "## when building the hamiltonian?"
   ]
  },
  {
   "cell_type": "code",
   "execution_count": null,
   "metadata": {},
   "outputs": [],
   "source": []
  }
 ],
 "metadata": {
  "kernelspec": {
   "display_name": "Python 3",
   "language": "python",
   "name": "python3"
  },
  "language_info": {
   "codemirror_mode": {
    "name": "ipython",
    "version": 3
   },
   "file_extension": ".py",
   "mimetype": "text/x-python",
   "name": "python",
   "nbconvert_exporter": "python",
   "pygments_lexer": "ipython3",
   "version": "3.7.3"
  }
 },
 "nbformat": 4,
 "nbformat_minor": 2
}
