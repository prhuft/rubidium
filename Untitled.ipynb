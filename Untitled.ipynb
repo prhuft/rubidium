{
 "cells": [
  {
   "cell_type": "code",
   "execution_count": 6,
   "id": "2f85037d",
   "metadata": {},
   "outputs": [
    {
     "name": "stdout",
     "output_type": "stream",
     "text": [
      "['step, zt, x, y, zb']\n",
      "[0, 0, 0, 0, 0]\n",
      "[1, 0, 0, 0, 1]\n",
      "[2, 0, 0, 1, 0]\n",
      "[3, 0, 0, 1, 1]\n",
      "[4, 0, 1, 0, 0]\n",
      "[5, 0, 1, 0, 1]\n",
      "[6, 0, 1, 1, 0]\n",
      "[7, 0, 1, 1, 1]\n",
      "[8, 1, 0, 0, 0]\n",
      "[9, 1, 0, 0, 1]\n",
      "[10, 1, 0, 1, 0]\n",
      "[11, 1, 0, 1, 1]\n",
      "[12, 1, 1, 0, 0]\n",
      "[13, 1, 1, 0, 1]\n",
      "[14, 1, 1, 1, 0]\n",
      "[15, 1, 1, 1, 1]\n"
     ]
    }
   ],
   "source": [
    "ztopsteps = range(2)\n",
    "zbotsteps = range(2)\n",
    "xsteps = range(2)\n",
    "ysteps = range(2)\n",
    "data = []\n",
    "\n",
    "step = 0\n",
    "for zt in ztopsteps:\n",
    "    for x in xsteps:\n",
    "        for y in ysteps:\n",
    "            for zb in zbotsteps:\n",
    "                data.append([step,zt,x,y,zb])\n",
    "                step+=1\n",
    "print([\"step, zt, x, y, zb\"])\n",
    "for row in data:\n",
    "    print(row)"
   ]
  },
  {
   "cell_type": "code",
   "execution_count": 7,
   "id": "f7b0da71",
   "metadata": {},
   "outputs": [
    {
     "data": {
      "text/plain": [
       "[[0, 0, 0, 0, 0],\n",
       " [2, 0, 0, 1, 0],\n",
       " [4, 0, 1, 0, 0],\n",
       " [6, 0, 1, 1, 0],\n",
       " [1, 0, 0, 0, 1],\n",
       " [3, 0, 0, 1, 1],\n",
       " [5, 0, 1, 0, 1],\n",
       " [7, 0, 1, 1, 1],\n",
       " [8, 1, 0, 0, 0],\n",
       " [10, 1, 0, 1, 0],\n",
       " [12, 1, 1, 0, 0],\n",
       " [14, 1, 1, 1, 0],\n",
       " [9, 1, 0, 0, 1],\n",
       " [11, 1, 0, 1, 1],\n",
       " [13, 1, 1, 0, 1],\n",
       " [15, 1, 1, 1, 1]]"
      ]
     },
     "execution_count": 7,
     "metadata": {},
     "output_type": "execute_result"
    }
   ],
   "source": [
    "data=sorted(data,key=lambda x: x[4])\n",
    "sorted(data,key=lambda x: x[1])"
   ]
  },
  {
   "cell_type": "code",
   "execution_count": null,
   "id": "040b9a48",
   "metadata": {},
   "outputs": [],
   "source": []
  }
 ],
 "metadata": {
  "kernelspec": {
   "display_name": "Python 3 (ipykernel)",
   "language": "python",
   "name": "python3"
  },
  "language_info": {
   "codemirror_mode": {
    "name": "ipython",
    "version": 3
   },
   "file_extension": ".py",
   "mimetype": "text/x-python",
   "name": "python",
   "nbconvert_exporter": "python",
   "pygments_lexer": "ipython3",
   "version": "3.9.6"
  }
 },
 "nbformat": 4,
 "nbformat_minor": 5
}
