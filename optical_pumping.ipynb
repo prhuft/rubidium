{
 "cells": [
  {
   "cell_type": "markdown",
   "id": "handed-arnold",
   "metadata": {},
   "source": [
    "examples from Thad's book, and maybe more.\n",
    "\n",
    "some key differences in python to look out for:\n",
    "* use a row vector in place of a column vector for, e.g., rho in A.rho. numpy doesn't really \"recognize\" column vectors as we use in linear algebra. the default 1d array, call it 'a', of shape (n,) can be multiplied by a matrix A of shape (n,n) with dot(A,a). note also that the transpose of a is still a, so it is not specifically a row or column.\n",
    "* boolean index L used to get population elements of a matrix G as in G(L,L) (MATLAB), is done in python as G[L][:,L]."
   ]
  },
  {
   "cell_type": "code",
   "execution_count": 76,
   "id": "minor-stack",
   "metadata": {},
   "outputs": [],
   "source": [
    "from numpy import *\n",
    "from scipy.linalg import expm\n",
    "from scipy.integrate import solve_ivp\n",
    "import matplotlib.pyplot as plt"
   ]
  },
  {
   "cell_type": "code",
   "execution_count": 29,
   "id": "52a88a0e",
   "metadata": {},
   "outputs": [],
   "source": [
    "def kd(i,j):\n",
    "    \"the kronecker delta\"\n",
    "    if i==j:\n",
    "        return 1\n",
    "    else:\n",
    "        return 0"
   ]
  },
  {
   "cell_type": "code",
   "execution_count": 127,
   "id": "319a144f",
   "metadata": {
    "scrolled": true
   },
   "outputs": [
    {
     "name": "stderr",
     "output_type": "stream",
     "text": [
      "C:\\Users\\prest\\AppData\\Local\\Temp\\ipykernel_25740\\1776113085.py:29: ComplexWarning: Casting complex values to real discards the imaginary part\n",
      "  rho[:,k]=dot(expm(-G*t[k]),rPS/2) # initial condition is rho = rPS/2, i.e. a mixed state (1/2,0,0,1/2)\n"
     ]
    },
    {
     "data": {
      "text/plain": [
       "<matplotlib.legend.Legend at 0x1d1c81d7c40>"
      ]
     },
     "execution_count": 127,
     "metadata": {},
     "output_type": "execute_result"
    },
    {
     "data": {
      "image/png": "[encoded data removed]",
      "text/plain": [
       "<Figure size 432x288 with 1 Axes>"
      ]
     },
     "metadata": {
      "needs_background": "light"
     },
     "output_type": "display_data"
    }
   ],
   "source": [
    "# CODE 1.3\n",
    "\n",
    "Gmp = 1 # pumping rate\n",
    "Gmc = 0.1 # collisional relaxation rate\n",
    "f = 0.4 # fractional transfer rate\n",
    "w = 5 # rotation rate about y\n",
    "PS = array([[1,0],[0,1]]) # Schrod. space unit matrix\n",
    "rPS = PS.ravel()\n",
    "cPS = rPS[...,None]\n",
    "Ap = array([[0,0,0,-2*f],[0,1,0,0],[0,0,1,0],[0,0,0,2*f]]) # pumping\n",
    "Ac = array([[1,0,0,-1],[0,2,0,0],[0,0,2,0],[-1,0,0,1]])/2 # collisions\n",
    "# spin ops in Schrodinger space\n",
    "Sx = array([[0,1],[1,0]])/2\n",
    "Sy = array([[0,1],[-1,0]])/(2*1j)\n",
    "Sz = array([[1,0],[0,-1]])/2\n",
    "# spin op column and row vectors\n",
    "rSx = Sx.ravel()\n",
    "rSy = Sy.ravel()\n",
    "rSz = Sz.ravel()\n",
    "cSx = rSx[...,None]\n",
    "cSy = rSy[...,None]\n",
    "cSz = rSz[...,None]\n",
    "SyC = array([[0,1,1,0],[-1,0,0,1],[-1,0,0,1],[0,-1,-1,0]])/(2*1j) # spin superop\n",
    "G = Gmp*Ap + Gmc*Ac + 1j*w*SyC # damping superop\n",
    "nt = 100\n",
    "t = linspace(0,5,nt)\n",
    "rho = zeros((4,nt))\n",
    "for k in range(nt):\n",
    "    rho[:,k]=dot(expm(-G*t[k]),rPS/2) # initial condition is rho = rPS/2, i.e. a mixed state (1/2,0,0,1/2)\n",
    "    \n",
    "plt.plot(t,real(dot(rSz,rho)),'-b',label=r'$\\langle S_z \\rangle$')\n",
    "plt.plot(t,real(dot(rSx,rho)),'r:',label=r'$\\langle S_x \\rangle$')\n",
    "plt.legend()"
   ]
  },
  {
   "cell_type": "code",
   "execution_count": 128,
   "id": "aa78a6e7",
   "metadata": {},
   "outputs": [
    {
     "name": "stdout",
     "output_type": "stream",
     "text": [
      "done\n"
     ]
    },
    {
     "data": {
      "text/plain": [
       "<matplotlib.legend.Legend at 0x1d1c8261310>"
      ]
     },
     "execution_count": 128,
     "metadata": {},
     "output_type": "execute_result"
    },
    {
     "data": {
      "image/png": "[encoded data removed]",
      "text/plain": [
       "<Figure size 432x288 with 1 Axes>"
      ]
     },
     "metadata": {
      "needs_background": "light"
     },
     "output_type": "display_data"
    }
   ],
   "source": [
    "# CODE 1.6 and modified 1.3 solution\n",
    "\n",
    "# compactification of the Louiville space into subspaces.\n",
    "# when there is no transverse B field. in this case, \n",
    "# populations only couple to other populations, and likewise for coherences\n",
    "\n",
    "L = rPS > 0 # logical variable to get populations\n",
    "\n",
    "G = Gmp*Ap + Gmc*Ac # damping superop, no transverse B field\n",
    "Gpop = G[L][:,L]\n",
    "nt = 100\n",
    "t = linspace(0,5,nt)\n",
    "rho = zeros((4,nt))[L,:] # populations only \n",
    "for k in range(nt):\n",
    "    rho[:,k]=dot(expm(-Gpop*t[k]),rPS[L]/2) # initial condition is rho = rPS/2, i.e. a mixed state (1/2,0,0,1/2)\n",
    "plt.plot(t,real(dot(rSz[L],rho)),'-b',label=r'$\\langle S_z \\rangle$')\n",
    "plt.plot(t,real(dot(rSx[L],rho)),'r:',label=r'$\\langle S_x \\rangle$')\n",
    "plt.legend()"
   ]
  },
  {
   "cell_type": "code",
   "execution_count": 119,
   "id": "8ad69124",
   "metadata": {
    "scrolled": true
   },
   "outputs": [
    {
     "data": {
      "text/plain": [
       "(array([[ 0.05,  0.  ,  0.  , -0.85],\n",
       "        [ 0.  ,  1.1 ,  0.  ,  0.  ],\n",
       "        [ 0.  ,  0.  ,  1.1 ,  0.  ],\n",
       "        [-0.05,  0.  ,  0.  ,  0.85]]),\n",
       " array([[ 0.05, -0.85],\n",
       "        [-0.05,  0.85]]))"
      ]
     },
     "execution_count": 119,
     "metadata": {},
     "output_type": "execute_result"
    }
   ],
   "source": [
    "G,G[L][:,L]"
   ]
  },
  {
   "cell_type": "code",
   "execution_count": 115,
   "id": "29d70c86",
   "metadata": {},
   "outputs": [
    {
     "data": {
      "text/plain": [
       "array([1, 6])"
      ]
     },
     "execution_count": 115,
     "metadata": {},
     "output_type": "execute_result"
    }
   ],
   "source": [
    "a = array([[1, 2, 3],\n",
    "              [4, 5, 6]])\n",
    "b = array([[True, False, False],\n",
    "           [False, False, True]])\n",
    "a[b]"
   ]
  },
  {
   "cell_type": "code",
   "execution_count": 101,
   "id": "d6019bb3",
   "metadata": {},
   "outputs": [
    {
     "data": {
      "text/plain": [
       "array([ True, False, False,  True])"
      ]
     },
     "execution_count": 101,
     "metadata": {},
     "output_type": "execute_result"
    }
   ],
   "source": [
    "rho[:,0][L]"
   ]
  },
  {
   "cell_type": "code",
   "execution_count": 53,
   "id": "fe640ad6",
   "metadata": {},
   "outputs": [
    {
     "data": {
      "text/plain": [
       "((4, 1), (4,))"
      ]
     },
     "execution_count": 53,
     "metadata": {},
     "output_type": "execute_result"
    }
   ],
   "source": [
    "eyeR=eye.ravel()\n",
    "eyeC=eyeR[...,None]\n",
    "eyeC.shape,eyeR.shape"
   ]
  },
  {
   "cell_type": "code",
   "execution_count": 57,
   "id": "b3065ab2",
   "metadata": {},
   "outputs": [
    {
     "data": {
      "text/plain": [
       "array([2])"
      ]
     },
     "execution_count": 57,
     "metadata": {},
     "output_type": "execute_result"
    }
   ],
   "source": [
    "dot(eyeR,eyeC)"
   ]
  },
  {
   "cell_type": "code",
   "execution_count": null,
   "id": "1bf7b3c6",
   "metadata": {},
   "outputs": [],
   "source": []
  }
 ],
 "metadata": {
  "kernelspec": {
   "display_name": "Python 3 (ipykernel)",
   "language": "python",
   "name": "python3"
  },
  "language_info": {
   "codemirror_mode": {
    "name": "ipython",
    "version": 3
   },
   "file_extension": ".py",
   "mimetype": "text/x-python",
   "name": "python",
   "nbconvert_exporter": "python",
   "pygments_lexer": "ipython3",
   "version": "3.9.6"
  }
 },
 "nbformat": 4,
 "nbformat_minor": 5
}
