{
 "cells": [
  {
   "cell_type": "code",
   "execution_count": 2,
   "id": "8b46d9a3-99df-4e80-941f-47f44de2a306",
   "metadata": {},
   "outputs": [],
   "source": [
    "import numpy as np\n",
    "\n",
    "#### local files\n",
    "import sys, os\n",
    "sys.path.append('..\\\\')\n",
    "sys.path.append('..\\\\utilities')\n",
    "from physconsts import *\n",
    "from rbconsts import *"
   ]
  },
  {
   "cell_type": "code",
   "execution_count": 4,
   "id": "db59e516-4315-4c6f-9595-e9cf1ca468d8",
   "metadata": {},
   "outputs": [
    {
     "name": "stdout",
     "output_type": "stream",
     "text": [
      "diff. shift ~ 4814.841492582989\n"
     ]
    }
   ],
   "source": [
    "# compute the differential shift between F=1,F=2 ground states in a simple-minded way\n",
    "\n",
    "TFORT = 1e-3\n",
    "\n",
    "d1 = 2*pi*c*(1/794.978850e-9 - 1/852e-9)\n",
    "d2 = 2*pi*c*(1/780.241209e-9 - 1/852e-9)\n",
    "d_eff = 1/((1/d1 + 2/d2)/3) # weighted average of D lines. \n",
    "# see Oscillator strengths of the principal series lines of Rb\", table 3\n",
    "\n",
    "omega_hfs = 2*pi*6.834682e9\n",
    "\n",
    "eta = omega_hfs/d_eff # see \"Analysis of dephasing mechanisms in a standing-wave dipole trap\" by Meschede group\n",
    "diff_shift = eta*TFORT*kB/hbar\n",
    "print(\"diff. shift ~\",diff_shift/(2*pi))"
   ]
  },
  {
   "cell_type": "code",
   "execution_count": 20,
   "id": "f1002f14-3254-423f-ae55-2b7ce01a4fed",
   "metadata": {},
   "outputs": [
    {
     "name": "stdout",
     "output_type": "stream",
     "text": [
      "motional and magnetic decoherence (bare states, B0=3.23G) (s):\n",
      "0.006435930903836122 10\n",
      "total decoherence (s):\n",
      "0.006435929570916417\n"
     ]
    }
   ],
   "source": [
    "T_atom = 1e-5 \n",
    "T2star_motion = np.sqrt(np.e**(2/3)-1)*2*hbar/(eta*kB*T_atom)\n",
    "\n",
    "# see \"zeeman_shifts_and_microwave_dressing.nnb/Effect of magnetic fluctuations\n",
    "# on coherence in the presence of microwave dressing\". \n",
    "# this assumes a few mG magnetic noise\n",
    "T2star_B = 10\n",
    "\n",
    "print(\"motional and magnetic decoherence (bare states, B0=3.23G) (s):\")\n",
    "print(T2star_motion,T2star_B)\n",
    "\n",
    "print(\"total decoherence (s):\")\n",
    "# compute combined T2star value (Gaussian approx. see \"Multi-qubit entanglement and algorithms\"...)\n",
    "print((T2star_B*T2star_motion)/(T2star_B**2+T2star_motion**2)**(1/2))"
   ]
  },
  {
   "cell_type": "code",
   "execution_count": 22,
   "id": "90521f93-3412-484a-bbdd-2fea822a8e6e",
   "metadata": {},
   "outputs": [
    {
     "name": "stdout",
     "output_type": "stream",
     "text": [
      "motional and magnetic decoherence (dressed states, B0=2.7G) (s):\n",
      "0.006435930903836122 1000\n",
      "total decoherence (s):\n",
      "0.00643593090370283\n"
     ]
    }
   ],
   "source": [
    "# with microwave dressing we can improve the magnetic-induced decoherence by a few orders of magnitude,\n",
    "# but it doesn't matter. as T2star_i for noise source i goes to inf, the total T2star approaches the remaining T2star_j\n",
    "\n",
    "# see \"zeeman_shifts_and_microwave_dressing.nnb/Effect of magnetic fluctuations\n",
    "# on coherence in the presence of microwave dressing\". \n",
    "# this assumes a few mG magnetic noise\n",
    "T2star_B = 1000 # assumes a few mG noise and microwave dressing\n",
    "\n",
    "print(\"motional and magnetic decoherence (dressed states, B0=2.7G) (s):\")\n",
    "print(T2star_motion,T2star_B)\n",
    "\n",
    "print(\"total decoherence (s):\")\n",
    "# compute combined T2star value (Gaussian approx. see \"Multi-qubit entanglement and algorithms\"...)\n",
    "print((T2star_B*T2star_motion)/(T2star_B**2+T2star_motion**2)**(1/2))"
   ]
  },
  {
   "cell_type": "code",
   "execution_count": null,
   "id": "13aca674-9cea-487b-88a6-bb92c53160ac",
   "metadata": {},
   "outputs": [],
   "source": []
  }
 ],
 "metadata": {
  "kernelspec": {
   "display_name": "Python 3 (ipykernel)",
   "language": "python",
   "name": "python3"
  },
  "language_info": {
   "codemirror_mode": {
    "name": "ipython",
    "version": 3
   },
   "file_extension": ".py",
   "mimetype": "text/x-python",
   "name": "python",
   "nbconvert_exporter": "python",
   "pygments_lexer": "ipython3",
   "version": "3.9.6"
  }
 },
 "nbformat": 4,
 "nbformat_minor": 5
}
