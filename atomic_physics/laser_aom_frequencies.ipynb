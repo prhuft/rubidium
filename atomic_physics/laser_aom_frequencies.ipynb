{
 "cells": [
  {
   "cell_type": "code",
   "execution_count": 2,
   "metadata": {},
   "outputs": [],
   "source": [
    "from matplotlib import pyplot as plt\n",
    "from numpy import *\n",
    "\n",
    "from rbconsts import *"
   ]
  },
  {
   "cell_type": "code",
   "execution_count": 3,
   "metadata": {
    "scrolled": true
   },
   "outputs": [
    {
     "data": {
      "text/plain": [
       "{5: {0: {0.5: {1: -4.271676631815196, 2: 2.563005979089114}},\n",
       "  1: {0.5: {1: 377106.953053064, 2: 377107.769709364},\n",
       "   1.5: {0: 384230.1823946245,\n",
       "    1: 384230.2546166565,\n",
       "    2: 384230.4115571805,\n",
       "    3: 384230.6782093585}}}}"
      ]
     },
     "execution_count": 3,
     "metadata": {},
     "output_type": "execute_result"
    }
   ],
   "source": [
    "# dictionary of hf state energies up through 5P3/2 states. \n",
    "# energies are in GHz, w.r.t. 5S1/2 center of mass\n",
    "hf_states"
   ]
  },
  {
   "cell_type": "code",
   "execution_count": null,
   "metadata": {},
   "outputs": [],
   "source": [
    "# laser field object\n",
    "class LaserField():\n",
    "    def __init__(self, lock_freq_GHz, AOM_freqs):\n",
    "        self.lock_freq = lock_freq_GHz\n",
    "        self.AOM_freqs = AOM_freqs_MHz\n",
    "        self.freq = lock_freq_GHz + sum(AOM_freqs_MHz)/1000\n",
    "\n",
    "    def nearest_transition(self):"
   ]
  },
  {
   "cell_type": "markdown",
   "metadata": {},
   "source": [
    "## quantum network\n",
    "as of 2023.02.13"
   ]
  },
  {
   "cell_type": "code",
   "execution_count": null,
   "metadata": {},
   "outputs": [],
   "source": [
    "\n",
    "        \n",
    "        \n",
    "# define locking points and state labels for that locking point\n",
    "\n",
    "# define frequencies of the AOMs\n",
    "\n",
    "# for a given beam, calculate a list of AOMs that it passes through in order"
   ]
  },
  {
   "cell_type": "markdown",
   "metadata": {},
   "source": [
    "## grating MOT setup\n",
    "as of 2022.09.28"
   ]
  },
  {
   "cell_type": "code",
   "execution_count": 6,
   "metadata": {},
   "outputs": [
    {
     "name": "stdout",
     "output_type": "stream",
     "text": [
      "MOT: need single pass AOM correction 121.32608896354213 MHz\n",
      "RP: need single pass AOM correction 66.47026201244444 MHz\n"
     ]
    }
   ],
   "source": [
    "# cooling on F=2 -> F'=3, lock on 2-3 crossover. frequencies in GHz\n",
    "fMOT_lock = ((hf_states[5][1][1.5][3] - hf_states[5][0][0.5][2]) + (hf_states[5][1][1.5][2] - hf_states[5][0][0.5][2]))/2\n",
    "fMOT = hf_states[5][1][1.5][3] - hf_states[5][0][0.5][2]\n",
    "fMOTDetuning = -2*6/1e3 # roughly 2 linewidths of the 5P3/2 level\n",
    "print(f\"MOT: need single pass AOM correction {-(fMOT_lock - (fMOT + fMOTDetuning))*1e3} MHz\")\n",
    "\n",
    "# repump on F=1 -> F'=2. lock to 1-2 crossover\n",
    "fRP_lock = ((hf_states[5][1][1.5][2] - hf_states[5][0][0.5][1])\n",
    "            + (hf_states[5][1][1.5][1] - hf_states[5][0][0.5][1]))/2 # the crossover is the average of the two lines\n",
    "fRP = hf_states[5][1][1.5][2] - hf_states[5][0][0.5][1]\n",
    "fRPDetuning = -2*6/1e3 # roughly 2 linewidths of the 5P3/2 level\n",
    "# fRPPreshiftAOM =\n",
    "print(f\"RP: need single pass AOM correction {-(fRP_lock - (fRP + fRPDetuning))*1e3} MHz\")"
   ]
  },
  {
   "cell_type": "code",
   "execution_count": 3,
   "metadata": {},
   "outputs": [
    {
     "name": "stdout",
     "output_type": "stream",
     "text": [
      "MOT: need double pass AOM correction 127.32608898659237 MHz\n",
      "RP: need single pass AOM correction 66.47026201244444 MHz\n",
      "RP - Bell state pick-off: need single pass AOM correction -150.6922940025106 MHz\n"
     ]
    }
   ],
   "source": [
    "## calculate AOM frequencies for MOT and RP frequencies\n",
    "\n",
    "# cooling on F=2 -> F'=3, lock on 2-2. frequencies in GHz\n",
    "fMOT_lock = hf_states[5][1][1.5][2] - hf_states[5][0][0.5][2]\n",
    "fMOT = hf_states[5][1][1.5][3] - hf_states[5][0][0.5][2]\n",
    "fMOTDetuning = -2*6/1e3 # roughly a few linewidths of the 5P3/2 level\n",
    "print(f\"MOT: need double pass AOM correction {-(fMOT_lock - (fMOT + fMOTDetuning))*1e3/2} MHz\")\n",
    "\n",
    "# repump on F=1 -> F'=2. lock to 1-2 crossover\n",
    "fRP_lock = ((hf_states[5][1][1.5][2] - hf_states[5][0][0.5][1]) \n",
    "            + (hf_states[5][1][1.5][1] - hf_states[5][0][0.5][1]))/2\n",
    "fRP = hf_states[5][1][1.5][2] - hf_states[5][0][0.5][1]\n",
    "fRPDetuning = -2*6/1e3 # roughly a few linewidths of the 5P3/2 level\n",
    "# fRPPreshiftAOM =\n",
    "print(f\"RP: need single pass AOM correction {-(fRP_lock - (fRP + fRPDetuning))*1e3} MHz\")\n",
    "\n",
    "# Bell state preparation on F=1 -> F'=0. create from RP pick off\n",
    "fBSP = hf_states[5][1][1.5][0] - hf_states[5][0][0.5][1]\n",
    "# fBSPshift = fBSP - fRP_lock\n",
    "print(f\"RP - Bell state pick-off: need single pass AOM correction {-(fRP_lock - fBSP)*1e3} MHz\")"
   ]
  },
  {
   "cell_type": "code",
   "execution_count": 12,
   "metadata": {},
   "outputs": [
    {
     "data": {
      "text/plain": [
       "384228.11520337936"
      ]
     },
     "execution_count": 12,
     "metadata": {},
     "output_type": "execute_result"
    }
   ],
   "source": [
    "# D2 line F=2->F'=3 transition frequency\n",
    "hf_states[5][1][1.5][3] - hf_states[5][0][.5][2]"
   ]
  },
  {
   "cell_type": "code",
   "execution_count": null,
   "metadata": {},
   "outputs": [],
   "source": []
  }
 ],
 "metadata": {
  "kernelspec": {
   "display_name": "Python 3 (ipykernel)",
   "language": "python",
   "name": "python3"
  },
  "language_info": {
   "codemirror_mode": {
    "name": "ipython",
    "version": 3
   },
   "file_extension": ".py",
   "mimetype": "text/x-python",
   "name": "python",
   "nbconvert_exporter": "python",
   "pygments_lexer": "ipython3",
   "version": "3.9.6"
  }
 },
 "nbformat": 4,
 "nbformat_minor": 2
}
