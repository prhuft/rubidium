{
 "cells": [
  {
   "cell_type": "code",
   "execution_count": 4,
   "metadata": {},
   "outputs": [],
   "source": [
    "\"\"\" 715 Assignment 8, Margaret Fortman\"\"\"\n",
    "import numpy as np\n",
    "import math as m\n",
    "import matplotlib.pyplot as plot "
   ]
  },
  {
   "cell_type": "code",
   "execution_count": 5,
   "metadata": {},
   "outputs": [],
   "source": [
    "# 2A \n",
    "def Zpbc(n):\n",
    "    \"\"\"returns ln(Zpbc(n))\"\"\"\n",
    "    Cpj = np.empty(int(n/2))\n",
    "    for j in range(0,int(n/2)):\n",
    "        Cpj[j]=4*m.sin(2*m.pi*j/n)**2\n",
    "    Cpl = np.empty(int(n/2))\n",
    "    for l in range(0,int(n/2)):\n",
    "        Cpl[l]=4*m.sin(2*m.pi*l/n)**2\n",
    "    z = 0\n",
    "    for j in Cpj:\n",
    "        for l in Cpl:\n",
    "            if l+j != 0:\n",
    "                z+=m.log(j+l)\n",
    "    return z\n",
    "\n",
    "def Zd(n):\n",
    "    \"\"\"returns ln(Zd(n))\"\"\"\n",
    "    Cdj = np.empty(int(n/2))\n",
    "    for j in range(1,int(n/2)+1):\n",
    "        Cdj[j-1]=4*m.sin(m.pi*(j-.5)/(n+1))**2\n",
    "    Cdl = np.empty(int(n/2))\n",
    "    for l in range(1,int(n/2)+1):\n",
    "        Cdl[l-1]=4*m.sin(m.pi*(l-.5)/(n+1))**2\n",
    "    z=0\n",
    "    for j in Cdj:\n",
    "        for l in Cdl:\n",
    "            if l+j != 0:\n",
    "                z+=m.log(j+l)\n",
    "    return z\n",
    "    "
   ]
  },
  {
   "cell_type": "code",
   "execution_count": 15,
   "metadata": {},
   "outputs": [
    {
     "name": "stdout",
     "output_type": "stream",
     "text": [
      "n = 4, zpbc = 0.9526939145078258, z2 = 0.7036222981908505\n",
      "n = 8, zpbc = 0.9982820196543071, z2 = 0.8040316973927841\n",
      "n = 16, zpbc = 0.9539574311435015, z2 = 0.8586801368739070\n",
      "n = 32, zpbc = 0.9297361454585013, z2 = 0.8870023512443940\n",
      "n = 64, zpbc = 0.9204726537111962, z2 = 0.9014044849370128\n",
      "n = 128, zpbc = 0.9173582484204982, z2 = 0.9086652105043209\n"
     ]
    },
    {
     "data": {
      "image/png": "[encoded data removed]",
      "text/plain": [
       "<matplotlib.figure.Figure at 0xf64b30>"
      ]
     },
     "metadata": {},
     "output_type": "display_data"
    }
   ],
   "source": [
    "n_arr = [2**n for n in range(2,8)] \n",
    "z1_arr = np.empty(6)\n",
    "z2_arr = np.empty(6)\n",
    "i = 0\n",
    "for n in n_arr:\n",
    "    z1 = m.pi*Zpbc(n)/n**2\n",
    "    z2 = m.pi*Zd(n)/n**2\n",
    "    z1_arr[i],z2_arr[i] = z1,z2\n",
    "    i+=1\n",
    "    print('n = %s, zpbc = %.16f, z2 = %.16f' % (n,z1,z2))\n",
    "\n",
    "plot.scatter(n_arr,z1_arr,c='r')\n",
    "plot.scatter(n_arr,z2_arr,c='g')\n",
    "\n",
    "plot.show()"
   ]
  },
  {
   "cell_type": "code",
   "execution_count": null,
   "metadata": {},
   "outputs": [],
   "source": []
  }
 ],
 "metadata": {
  "kernelspec": {
   "display_name": "Python 3",
   "language": "python",
   "name": "python3"
  },
  "language_info": {
   "codemirror_mode": {
    "name": "ipython",
    "version": 3
   },
   "file_extension": ".py",
   "mimetype": "text/x-python",
   "name": "python",
   "nbconvert_exporter": "python",
   "pygments_lexer": "ipython3",
   "version": "3.6.1"
  }
 },
 "nbformat": 4,
 "nbformat_minor": 2
}
