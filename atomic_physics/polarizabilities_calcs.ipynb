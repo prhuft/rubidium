{
 "cells": [
  {
   "cell_type": "markdown",
   "metadata": {},
   "source": [
    "# Rb87 Polarizability Calcs\n",
    "\n",
    "The tensor polarizability function uses Mark's derived result for linear light (to be extended for other polarizations). The vector polarizability is from \"Dynamical polarizability of atoms in arbitrary light fields: \n",
    "general theory and application to cesiu\"  by Rauscenbeutel.\n",
    "\n",
    "#### Rules to remember:\n",
    "Scalar shift: no dependence on light polarization <br/>\n",
    "Vector shift: zero for linear light or $j_a=0$ <br/>\n",
    "Tensor shift: non-zero iff $j_a\\geq1$ <br/>"
   ]
  },
  {
   "cell_type": "code",
   "execution_count": 1,
   "metadata": {},
   "outputs": [],
   "source": [
    "# %matplotlib inline\n",
    "\n",
    "#### libraries\n",
    "from numpy import *\n",
    "import matplotlib.pyplot as plt\n",
    "import matplotlib as mpl\n",
    "from arc import *\n",
    "from sympy.physics.wigner import wigner_6j,wigner_3j,clebsch_gordan\n",
    "\n",
    "#### local files\n",
    "import sys, os\n",
    "sys.path.append('..\\\\')\n",
    "sys.path.append('..\\\\utilities')\n",
    "from physconsts import *\n",
    "from rbconsts import *\n",
    "from amophys import * # polarizability functions live here\n",
    "from simfuncs import *\n",
    "\n",
    "#### other\n",
    "mpl.rcParams.update(mpl.rcParamsDefault)"
   ]
  },
  {
   "cell_type": "code",
   "execution_count": 2,
   "metadata": {},
   "outputs": [],
   "source": [
    "def smart_pts(func, domain, default_res=10, alpha=1, dx_test=None):\n",
    "    \"\"\"\n",
    "    Get list of func and pts at which func is evaluated.\n",
    "    \n",
    "    Evaluates more points in region where func is changing rapidly than where\n",
    "    the derivative is small, to avoid the need to use high resolution steps \n",
    "    over the whole domain.\n",
    "    \n",
    "    Args:\n",
    "        func(x: float):->float\n",
    "        domain: two element list-like of floats [xmin, xmax]\n",
    "        default_res: the number of points to use when the derivative is near zero\n",
    "        alpha: a tuning parameter. higher is better for sharply changing functions\n",
    "    Return\n",
    "        xpts,func_pts,: the points at which func was evaluated and func evaluated at those points\n",
    "    \"\"\"\n",
    "    xmin,xmax = domain\n",
    "    dx = (xmax-xmin)/default_res\n",
    "    \n",
    "    if dx_test == None:\n",
    "        dx_test = dx/1000 # very small step to approximate derivative using next step\n",
    "\n",
    "    x = xmin\n",
    "    xpts = [x]\n",
    "    func_pts = [func(x)] # can't use np array because don't know size in advance\n",
    "    last_df = 0\n",
    "    \n",
    "    while x < xmax:\n",
    "        \n",
    "        df = abs((func(x+dx_test) - func(x))/(dx_test))\n",
    "        # TODO: add in code to check if probe is small enough\n",
    "        \n",
    "        \n",
    "        x += dx*exp(-alpha*df) # should go to dx when slope zero\n",
    "        xpts.append(x)\n",
    "        func_pts.append(func(x))\n",
    "    \n",
    "    return array(xpts),array(func_pts)"
   ]
  },
  {
   "cell_type": "code",
   "execution_count": null,
   "metadata": {},
   "outputs": [],
   "source": [
    "x,f = smart_pts(lambda x: 1/(1+(100*x)**2),[-10,10],default_res=30,alpha=1)"
   ]
  },
  {
   "cell_type": "code",
   "execution_count": null,
   "metadata": {},
   "outputs": [],
   "source": [
    "plt.scatter(x,f,linewidths=0.5)\n",
    "plt.plot(x,f)\n",
    "plt.show()"
   ]
  },
  {
   "cell_type": "markdown",
   "metadata": {},
   "source": [
    "## todo: update this. \n",
    "the correct definitions for polarizabilities can be found in \"Dynamical polarizability of atoms in arbitrary light fields: \n",
    "general theory and application to cesiu\" by Rauschenbeutel. I use their definitions with some \n",
    "combination of the expressions as they are presented in Mark's notes.\"\n",
    "\n",
    "## Dynamic polarizabilities for hyperfine states\n",
    "\n",
    "#### Definitions - the expressions here are from Daniel Steck, and he admits that the vector, tensor expressions may be incorrect (they are). \n",
    "\n",
    "Below, the labels $F,F'$ refer to hyperfine levels $|n,L,J,F\\rangle,|n',L',J',F'\\rangle$, where the quantum numbers $I,S$ are the same between the two states and hence have been suppressed. Therefore the sums over F' are sums over such levels, rather than over just the quantum number F. \n",
    "\n",
    "The AC Stark shift on a level F is:\n",
    "\n",
    "$U_{AC}(\\omega) = -\\alpha_F(\\omega)\\frac{|E|^2}{4}$\n",
    "\n",
    "The total hyperfine polarizability, using scalar (S), vector (V), and tensor (T) polarizabilities which are decoupled from the projection $m_F$, is given by:\n",
    "\n",
    "$\\alpha_{F,m_F}(\\omega) = \\alpha_F^{(S)}(\\omega) + \\hat{k}\\cdot\\hat{B}A\\frac{A m_F}{2F}\\alpha_F^{(V)}(\\omega) + \\left(3|\\hat{\\eta}\\cdot \\hat{B}|^2-1\\right)\\frac{3m_F^2-F(F+1)}{2F(2F-1)}\\alpha_F^{(T)}(\\omega)$\n",
    "\n",
    "where $\\hat{B}$ is the quantization axis unit vector, $\\hat{\\eta}$ is the laser polarization unit vector, $A=0,\\pm1$ corresponds to linear and right/left-handed light polarization, and the $m_F$-independent polarizabilities are\n",
    "\n",
    "$\\alpha_F^{(S)} = \\sum_{F'}\\frac{2\\omega_{F,F'}|\\langle F || \\hat{d} || F'\\rangle|^2}{3\\hbar(\\omega_{F',F}^2-\\omega^2)}$\n",
    "\n",
    "$\\alpha_F^{(V)} = \\sum_{F'}(-1)^{F+F'+1}\\sqrt{\\frac{6F(2F+1)}{F+1}}S_{F,F,F'}^{1,1,1}\\frac{\\omega_{F,F'}|\\langle F || \\hat{d} || F'\\rangle|^2}{\\hbar(\\omega_{F',F}^2-\\omega^2)}$\n",
    "\n",
    "$\\alpha_F^{(T)} = \\sum_{F'}(-1)^{F+F'}\\sqrt{\\frac{40F(2F+1)(2F-1)}{3(F+1)(2F+3)}}S_{F,F,F'}^{1,1,2}\\frac{\\omega_{F,F'}|\\langle F || \\hat{d} || F'\\rangle|^2}{\\hbar(\\omega_{F',F}^2-\\omega^2)}$\n",
    "\n",
    "Hyperfine reduced matrix element expressed in the fine-structure basis:\n",
    "\n",
    "$\\langle F || \\hat{d} || F'\\rangle = (-1)^{1+I+J+F'}\\sqrt{(2F'+1)(2F+1)}S_{F1J}^{J'IF'}\\langle J || \\hat{d} || J'\\rangle$\n",
    "\n",
    "Depending on the convention used to evaluate the fine structure matrix element, it may need to be divided by $\\sqrt{2J+1}$ to yield the correct result.  \n",
    "\n",
    "#### Rules to remember:\n",
    "Scalar shift: no dependence on light polarization <br/>\n",
    "Vector shift: zero for linear light or $j_a=0$ <br/>\n",
    "Tensor shift: non-zero for $j_a\\geq1$ <br/>"
   ]
  },
  {
   "cell_type": "markdown",
   "metadata": {},
   "source": [
    "## Tests\n",
    "summarized from test notebook, with corrections/additions"
   ]
  },
  {
   "cell_type": "code",
   "execution_count": 2,
   "metadata": {},
   "outputs": [
    {
     "data": {
      "image/png": "[encoded data removed]",
      "text/plain": [
       "<Figure size 640x480 with 1 Axes>"
      ]
     },
     "metadata": {},
     "output_type": "display_data"
    }
   ],
   "source": [
    "# reproduce values from Kurtseifer PGC paper fig. 1a (PHYSICAL REVIEW A 96, 033406 (2017))\n",
    "\n",
    "rb = Rubidium87()\n",
    "nlist = range(4,20)\n",
    "omega = 2*pi*c/851e-9\n",
    "TFORT = 1e-3\n",
    "\n",
    "# state g = 5S1/2,f=2\n",
    "n=5; l=0; j=1/2; f=2; mf=0;\n",
    "a05S = alpha0_hf([n,l,j,f], omega, nlist, atom=rb, I=I) #alpha_0\n",
    "\n",
    "E = sqrt(4*kB*TFORT/a05S) # get field from ground state shift, which defines trap depth\n",
    "mfg_list = arange(-f,f+1)\n",
    "scalar_g = [-(1/4)*a05S*E**2/(hbar*1e6*2*pi) for mf in mfg_list]\n",
    "\n",
    "\n",
    "# state e = 5P3/2,f=3\n",
    "n=5; l=1; j=3/2; f=3;\n",
    "a05P = alpha0_hf([n,l,j,f], omega, nlist, atom=rb, I=I)  \n",
    "a25P = alpha2_hf([n,l,j,f], omega, nlist, atom=rb, I=I)\n",
    "\n",
    "mfe_list = [mf for mf in arange(-f,f+1)]\n",
    "tensor_e = [-1/4*( a05P+ (3*mf**2-f*(f+1))/(1*f*(2*f-1))*a25P)*E**2/hbar/1e6/2/pi for mf in mfe_list]\n",
    "\n",
    "fig, ax = plt.subplots()\n",
    "ax.scatter(mfe_list, tensor_e, marker='^',linewidths=0.3)\n",
    "ax.scatter(mfg_list, scalar_g, marker='^',linewidths=0.3)\n",
    "ax.set_ylim(-25,20)\n",
    "ax.set_ylabel('MHz')\n",
    "ax.set_xlabel('mf')\n",
    "plt.show()"
   ]
  },
  {
   "cell_type": "code",
   "execution_count": 14,
   "metadata": {},
   "outputs": [
    {
     "ename": "NameError",
     "evalue": "name 'F' is not defined",
     "output_type": "error",
     "traceback": [
      "\u001b[1;31m---------------------------------------------------------------------------\u001b[0m",
      "\u001b[1;31mNameError\u001b[0m                                 Traceback (most recent call last)",
      "Cell \u001b[1;32mIn[14], line 19\u001b[0m\n\u001b[0;32m     17\u001b[0m n\u001b[38;5;241m=\u001b[39m\u001b[38;5;241m5\u001b[39m; l\u001b[38;5;241m=\u001b[39m\u001b[38;5;241m0\u001b[39m; j\u001b[38;5;241m=\u001b[39m\u001b[38;5;241m1\u001b[39m\u001b[38;5;241m/\u001b[39m\u001b[38;5;241m2\u001b[39m; f\u001b[38;5;241m=\u001b[39m\u001b[38;5;241m2\u001b[39m; mf\u001b[38;5;241m=\u001b[39m\u001b[38;5;241m0\u001b[39m;\n\u001b[0;32m     18\u001b[0m a0_5S12 \u001b[38;5;241m=\u001b[39m alpha0_hf([n,l,j,f], omega, nlist, atom\u001b[38;5;241m=\u001b[39mrb, I\u001b[38;5;241m=\u001b[39mI)\n\u001b[1;32m---> 19\u001b[0m a1_5S12 \u001b[38;5;241m=\u001b[39m \u001b[43malpha1_hf\u001b[49m\u001b[43m(\u001b[49m\u001b[43m[\u001b[49m\u001b[43mn\u001b[49m\u001b[43m,\u001b[49m\u001b[43ml\u001b[49m\u001b[43m,\u001b[49m\u001b[43mj\u001b[49m\u001b[43m,\u001b[49m\u001b[43mf\u001b[49m\u001b[43m]\u001b[49m\u001b[43m,\u001b[49m\u001b[43m \u001b[49m\u001b[43momega\u001b[49m\u001b[43m,\u001b[49m\u001b[43m \u001b[49m\u001b[43mnlist\u001b[49m\u001b[43m,\u001b[49m\u001b[43m \u001b[49m\u001b[43matom\u001b[49m\u001b[38;5;241;43m=\u001b[39;49m\u001b[43mrb\u001b[49m\u001b[43m,\u001b[49m\u001b[43m \u001b[49m\u001b[43mI\u001b[49m\u001b[38;5;241;43m=\u001b[39;49m\u001b[43mI\u001b[49m\u001b[43m)\u001b[49m\n\u001b[0;32m     20\u001b[0m E \u001b[38;5;241m=\u001b[39m sqrt(\u001b[38;5;241m4\u001b[39m\u001b[38;5;241m*\u001b[39mkB\u001b[38;5;241m*\u001b[39mTFORT\u001b[38;5;241m/\u001b[39ma0_5S12) \u001b[38;5;66;03m# get field from ground state shift, which defines trap depth\u001b[39;00m\n\u001b[0;32m     21\u001b[0m mfg_list \u001b[38;5;241m=\u001b[39m arange(\u001b[38;5;241m-\u001b[39mf,f\u001b[38;5;241m+\u001b[39m\u001b[38;5;241m1\u001b[39m)\n",
      "File \u001b[1;32m~\\Documents\\Python\\rubidium\\atomic_physics\\..\\utilities\\amophys.py:311\u001b[0m, in \u001b[0;36malpha1_hf\u001b[1;34m(state, omega, nlist, atom, I, hf_states)\u001b[0m\n\u001b[0;32m    306\u001b[0m n_a, l_a, j_a, f_a \u001b[38;5;241m=\u001b[39m state\n\u001b[0;32m    308\u001b[0m \u001b[38;5;66;03m# the prefactor is from eqs. 18 and 16, where I eliminate alpha^(1)_nJ which is\u001b[39;00m\n\u001b[0;32m    309\u001b[0m \u001b[38;5;66;03m# the static polarizbility, in favor of alpha^v_nJ which is the dynamic one, \u001b[39;00m\n\u001b[0;32m    310\u001b[0m \u001b[38;5;66;03m# which is given by the function alpha1_f below\u001b[39;00m\n\u001b[1;32m--> 311\u001b[0m prefactor \u001b[38;5;241m=\u001b[39m (\u001b[38;5;241m-\u001b[39m\u001b[38;5;241m1\u001b[39m\u001b[38;5;241m*\u001b[39m(\u001b[38;5;241m-\u001b[39m\u001b[38;5;241m1\u001b[39m)\u001b[38;5;241m*\u001b[39m\u001b[38;5;241m*\u001b[39m(j_a\u001b[38;5;241m+\u001b[39mI\u001b[38;5;241m+\u001b[39m\u001b[43mF\u001b[49m)\u001b[38;5;241m*\u001b[39msqrt(\u001b[38;5;241m2\u001b[39m\u001b[38;5;241m*\u001b[39mf_a\u001b[38;5;241m*\u001b[39m(\u001b[38;5;241m2\u001b[39m\u001b[38;5;241m*\u001b[39mf_a\u001b[38;5;241m+\u001b[39m\u001b[38;5;241m1\u001b[39m)\u001b[38;5;241m/\u001b[39m(f_a\u001b[38;5;241m+\u001b[39m\u001b[38;5;241m1\u001b[39m))\n\u001b[0;32m    312\u001b[0m              \u001b[38;5;241m*\u001b[39mwigner_6j(f_a,\u001b[38;5;241m1\u001b[39m,f_a,j_a,I,j_a)\u001b[38;5;241m*\u001b[39msqrt((j_a\u001b[38;5;241m+\u001b[39m\u001b[38;5;241m1\u001b[39m)\u001b[38;5;241m*\u001b[39m(\u001b[38;5;241m2\u001b[39m\u001b[38;5;241m*\u001b[39mj_a\u001b[38;5;241m+\u001b[39m\u001b[38;5;241m1\u001b[39m)\u001b[38;5;241m/\u001b[39m(\u001b[38;5;241m2\u001b[39m\u001b[38;5;241m*\u001b[39mj_a)))\n\u001b[0;32m    313\u001b[0m alpha1 \u001b[38;5;241m=\u001b[39m prefactor\u001b[38;5;241m*\u001b[39malpha1_f(state, omega, nlist, atom, I)\n\u001b[0;32m    315\u001b[0m \u001b[38;5;28;01mreturn\u001b[39;00m alpha1\n",
      "\u001b[1;31mNameError\u001b[0m: name 'F' is not defined"
     ]
    }
   ],
   "source": [
    "# reproduce values from Kurtseifer PGC paper fig. 1a (PHYSICAL REVIEW A 96, 033406 (2017))\n",
    "\n",
    "rb = Rubidium87()\n",
    "nlist = range(4,20)\n",
    "omega = 2*pi*c/851e-9\n",
    "TFORT = 1e-3\n",
    "\n",
    "# ux,uy = (1+0j,0+1j)/sqrt(2) # sigma+ light?\n",
    "ux,uy = (1+0j,0+0j)/sqrt(2) # x polarized\n",
    "uz = 0 # the dipole trap light is propagating along z\n",
    "\n",
    "# coefficients with account for the polarization in the Stark shift\n",
    "C = 2*(ux.conjugate()*uy).imag\n",
    "D = 1 - 3*abs(uz)**2\n",
    "\n",
    "# state g = 5S1/2,f=2\n",
    "n=5; l=0; j=1/2; f=2; mf=0;\n",
    "a0_5S12 = alpha0_hf([n,l,j,f], omega, nlist, atom=rb, I=I)\n",
    "a1_5S12 = alpha1_hf([n,l,j,f], omega, nlist, atom=rb, I=I)\n",
    "E = sqrt(4*kB*TFORT/a0_5S12) # get field from ground state shift, which defines trap depth\n",
    "mfg_list = arange(-f,f+1)\n",
    "shifts_g = [-(1/4)*(a0_5S12 + C*(mf/(2*f))*a1_5S12)*E**2/(hbar*1e6*2*pi) for mf in mfg_list]\n",
    "\n",
    "# state e = 5P3/2,f=3\n",
    "n=5; l=1; j=3/2; f=3;\n",
    "a0_5P32 = alpha0_hf([n,l,j,f], omega, nlist, atom=rb, I=I)  \n",
    "a1_5P32 = alpha2_hf([n,l,j,f], omega, nlist, atom=rb, I=I)\n",
    "a2_5P32 = alpha2_hf([n,l,j,f], omega, nlist, atom=rb, I=I)\n",
    "\n",
    "mfe_list = [mf for mf in arange(-f,f+1)]\n",
    "\n",
    "# scalar, vector, tensor AC Stark shift\n",
    "shifts_e = [-1/4*(a0_5P32 + C*(mf/(2*f))*a1_5P32 - D*(3*mf**2-f*(f+1))/(2*f*(2*f-1))*a2_5P32)*E**2/hbar/1e6/2/pi for mf in mfe_list]\n",
    "\n",
    "fig, ax = plt.subplots()\n",
    "ax.scatter(mfe_list, shifts_e, marker='^',linewidths=0.3)\n",
    "ax.scatter(mfg_list, scalar_g, marker='^',linewidths=0.3)\n",
    "ax.set_ylim(-25,20)\n",
    "ax.set_ylabel('MHz')\n",
    "ax.set_xlabel('mf')\n",
    "plt.show()"
   ]
  },
  {
   "cell_type": "code",
   "execution_count": 13,
   "metadata": {},
   "outputs": [
    {
     "data": {
      "text/plain": [
       "(1-1j)"
      ]
     },
     "execution_count": 13,
     "metadata": {},
     "output_type": "execute_result"
    }
   ],
   "source": [
    "(1+1j).conjugate()"
   ]
  },
  {
   "cell_type": "code",
   "execution_count": 4,
   "metadata": {},
   "outputs": [
    {
     "name": "stdout",
     "output_type": "stream",
     "text": [
      "dipole trap power 0.84mW for waist 0.75um\n",
      "mean differential shift = 30.41MHz blue of 5S1/2,F=2 - 5P3/2,F=3\n"
     ]
    },
    {
     "data": {
      "image/png": "[encoded data removed]",
      "text/plain": [
       "<Figure size 640x480 with 1 Axes>"
      ]
     },
     "metadata": {},
     "output_type": "display_data"
    }
   ],
   "source": [
    "# quantum network experiment, circa Sept. 2023\n",
    "rb = Rubidium87()\n",
    "nlist = range(4,20)\n",
    "omega = 2*pi*c/852e-9\n",
    "TFORT = 1e-3\n",
    "\n",
    "# state g = 5S1/2,f=2\n",
    "n=5; l=0; j=1/2; f=2; mf=0;\n",
    "a05S = alpha0_hf([n,l,j,f], omega, nlist, atom=rb, I=I) #alpha_0\n",
    "E = sqrt(4*kB*TFORT/a05S) # get field from ground state shift, which defines trap depth\n",
    "w0 = 7.5e-7\n",
    "I0 = 0.5*e0*c*E**2\n",
    "P = 0.5*I0*pi*w0**2\n",
    "print(f\"dipole trap power {P*1e3:.2f}mW for waist {w0*1e6:.2f}um\")\n",
    "mfg_list = arange(-f,f+1)\n",
    "scalar_g = [-(1/4)*a05S*E**2/(hbar*1e6*2*pi) for mf in mfg_list]\n",
    "\n",
    "# state e = 5P3/2,f=3\n",
    "n=5; l=1; j=3/2; f=3;\n",
    "a05P = alpha0_hf([n,l,j,f], omega, nlist, atom=rb, I=I)  \n",
    "a25P = alpha2_hf([n,l,j,f], omega, nlist, atom=rb, I=I)\n",
    "\n",
    "mfe_list = [mf for mf in arange(-f,f+1)]\n",
    "tensor_e = [-1/4*( a05P + (3*mf**2-f*(f+1))/(1*f*(2*f-1))*a25P)*E**2/hbar/1e6/2/pi for mf in mfe_list]\n",
    "\n",
    "mean_diff_shift_MHz = np.mean(tensor_e) - np.mean(scalar_g)\n",
    "print(f\"mean differential shift = {mean_diff_shift_MHz:.2f}MHz blue of 5S1/2,F=2 - 5P3/2,F=3\")\n",
    "\n",
    "fig, ax = plt.subplots()\n",
    "ax.scatter(mfe_list, tensor_e, marker='_',linewidths=2,label=r'$5P_{3/2},F=3$')\n",
    "ax.scatter(mfg_list, scalar_g, marker='_',linewidths=2,label=r'$5S_{1/2},F=2$')\n",
    "# ax.set_ylim(-25,20)\n",
    "ax.set_ylabel('MHz')\n",
    "ax.set_xlabel('mf')\n",
    "ax.legend()\n",
    "plt.show()"
   ]
  },
  {
   "cell_type": "code",
   "execution_count": 34,
   "metadata": {},
   "outputs": [
    {
     "name": "stdout",
     "output_type": "stream",
     "text": [
      "dipole trap power 2.30mW for waist 0.75um\n",
      "mean differential shift = 30.56MHz blue of 5S1/2,F=2 - 5P3/2,F=3\n"
     ]
    },
    {
     "data": {
      "image/png": "[encoded data removed]",
      "text/plain": [
       "<Figure size 640x480 with 1 Axes>"
      ]
     },
     "metadata": {},
     "output_type": "display_data"
    }
   ],
   "source": [
    "# we don't know exactly how much 852 power couples into the fiber, so let's say it's 50% +30%/-20%\n",
    "rb = Rubidium87()\n",
    "nlist = range(4,20)\n",
    "omega = 2*pi*c/852e-9\n",
    "TFORT = 1e-3\n",
    "\n",
    "# state g = 5S1/2,f=2\n",
    "n=5; l=0; j=1/2; f=2; mf=0;\n",
    "a05S = alpha0_hf([n,l,j,f], omega, nlist, atom=rb, I=I) #alpha_0\n",
    "\n",
    "E = sqrt(4*kB*TFORT/a05S) # get field from ground state shift, which defines trap depth\n",
    "w0 = 7.5e-7\n",
    "I0 = 0.5*e0*c*E**2\n",
    "P = 0.5*I0*pi*w0**2\n",
    "print(f\"dipole trap power {P*1e3:.2f}mW for waist {w0*1e6:.2f}um\")\n",
    "mfg_list = arange(-f,f+1)\n",
    "scalar_g = [-(1/4)*a05S*E**2/(hbar*1e6*2*pi) for mf in mfg_list]\n",
    "\n",
    "# state e = 5P3/2,f=3\n",
    "n=5; l=1; j=3/2; f=3;\n",
    "a05P = alpha0_hf([n,l,j,f], omega, nlist, atom=rb, I=I)  \n",
    "a25P = alpha2_hf([n,l,j,f], omega, nlist, atom=rb, I=I)\n",
    "\n",
    "mfe_list = [mf for mf in arange(-f,f+1)]\n",
    "tensor_e = [-1/4*( a05P + (3*mf**2-f*(f+1))/(1*f*(2*f-1))*a25P)*E**2/hbar/1e6/2/pi for mf in mfe_list]\n",
    "\n",
    "mean_diff_shift_MHz = np.mean(tensor_e) - np.mean(scalar_g)\n",
    "print(f\"mean differential shift = {mean_diff_shift_MHz:.2f}MHz blue of 5S1/2,F=2 - 5P3/2,F=3\")\n",
    "\n",
    "fig, ax = plt.subplots()\n",
    "ax.scatter(mfe_list, tensor_e, marker='_',linewidths=2,label=r'$5P_{3/2},F=3$')\n",
    "ax.scatter(mfg_list, scalar_g, marker='_',linewidths=2,label=r'$5S_{1/2},F=2$')\n",
    "# ax.set_ylim(-25,20)\n",
    "ax.set_ylabel('MHz')\n",
    "ax.set_xlabel('mf')\n",
    "ax.legend()\n",
    "plt.show()"
   ]
  },
  {
   "cell_type": "markdown",
   "metadata": {
    "jp-MarkdownHeadingCollapsed": true
   },
   "source": [
    "## misc Rb "
   ]
  },
  {
   "cell_type": "code",
   "execution_count": 112,
   "metadata": {},
   "outputs": [],
   "source": [
    "# atom\n",
    "rb = Rubidium87()"
   ]
  },
  {
   "cell_type": "code",
   "execution_count": 132,
   "metadata": {
    "scrolled": true
   },
   "outputs": [
    {
     "data": {
      "image/png": "[encoded data removed]",
      "text/plain": [
       "<Figure size 640x480 with 1 Axes>"
      ]
     },
     "metadata": {},
     "output_type": "display_data"
    }
   ],
   "source": [
    "# 5S1/2,f=0\n",
    "n=5; l=0; j=1/2; f=1; mf=0;\n",
    "\n",
    "nlist = range(4,50)\n",
    "a0 = lambda l: alpha0_hf([n,l,j,f], (2*pi*c/l*1e-9), nlist, atom=rb, I=I)\n",
    "lambda_arr,a0_pts = smart_pts(a0,[600,1000],default_res=1000,alpha=2,dx_test=0.00001)\n",
    "\n",
    "fig, ax = plt.subplots()\n",
    "ax.scatter(lambda_arr,a0_pts/(4*pi*e0*1e-30))\n",
    "# ax.set_ylim((-6000,6000))\n",
    "ax.set_ylabel(\"alpha0 5S1/2 [Angstrom^3]\")\n",
    "ax.set_xlabel(\"lambda [nm]\")\n",
    "plt.show()"
   ]
  },
  {
   "cell_type": "code",
   "execution_count": 133,
   "metadata": {},
   "outputs": [
    {
     "data": {
      "text/plain": [
       "1002"
      ]
     },
     "execution_count": 133,
     "metadata": {},
     "output_type": "execute_result"
    }
   ],
   "source": [
    "len(lambda_arr)"
   ]
  },
  {
   "cell_type": "code",
   "execution_count": 1,
   "metadata": {},
   "outputs": [
    {
     "ename": "NameError",
     "evalue": "name 'linspace' is not defined",
     "output_type": "error",
     "traceback": [
      "\u001b[1;31m---------------------------------------------------------------------------\u001b[0m",
      "\u001b[1;31mNameError\u001b[0m                                 Traceback (most recent call last)",
      "\u001b[1;32m<ipython-input-1-106b24829ebe>\u001b[0m in \u001b[0;36m<module>\u001b[1;34m\u001b[0m\n\u001b[0;32m      2\u001b[0m \u001b[1;33m\u001b[0m\u001b[0m\n\u001b[0;32m      3\u001b[0m \u001b[0mnlist\u001b[0m \u001b[1;33m=\u001b[0m \u001b[0mrange\u001b[0m\u001b[1;33m(\u001b[0m\u001b[1;36m4\u001b[0m\u001b[1;33m,\u001b[0m\u001b[1;36m50\u001b[0m\u001b[1;33m)\u001b[0m\u001b[1;33m\u001b[0m\u001b[1;33m\u001b[0m\u001b[0m\n\u001b[1;32m----> 4\u001b[1;33m \u001b[0momega_list\u001b[0m \u001b[1;33m=\u001b[0m \u001b[1;33m[\u001b[0m\u001b[1;36m2\u001b[0m\u001b[1;33m*\u001b[0m\u001b[0mpi\u001b[0m\u001b[1;33m*\u001b[0m\u001b[0mc\u001b[0m\u001b[1;33m/\u001b[0m\u001b[1;33m(\u001b[0m\u001b[0ml\u001b[0m\u001b[1;33m*\u001b[0m\u001b[1;36m1e-9\u001b[0m\u001b[1;33m)\u001b[0m \u001b[1;32mfor\u001b[0m \u001b[0ml\u001b[0m \u001b[1;32min\u001b[0m \u001b[0mlinspace\u001b[0m\u001b[1;33m(\u001b[0m\u001b[1;36m800\u001b[0m\u001b[1;33m,\u001b[0m\u001b[1;36m1000\u001b[0m\u001b[1;33m,\u001b[0m\u001b[1;36m300\u001b[0m\u001b[1;33m)\u001b[0m\u001b[1;33m]\u001b[0m\u001b[1;33m\u001b[0m\u001b[1;33m\u001b[0m\u001b[0m\n\u001b[0m\u001b[0;32m      5\u001b[0m \u001b[1;33m\u001b[0m\u001b[0m\n\u001b[0;32m      6\u001b[0m \u001b[1;31m# 5S1/2,f=1\u001b[0m\u001b[1;33m\u001b[0m\u001b[1;33m\u001b[0m\u001b[1;33m\u001b[0m\u001b[0m\n",
      "\u001b[1;31mNameError\u001b[0m: name 'linspace' is not defined"
     ]
    }
   ],
   "source": [
    "## polarizability plot\n",
    "\n",
    "nlist = range(4,50)\n",
    "omega_list = [2*pi*c/(l*1e-9) for l in linspace(800,1000,300)]\n",
    "\n",
    "# 5S1/2,f=1\n",
    "n=5; l=0; j=1/2; f=1; mf=0;\n",
    "a05Spts = [alpha0_hf([n,l,j,f], omega, nlist, atom=rb, I=I) for omega in omega_list] #alpha_0"
   ]
  },
  {
   "cell_type": "code",
   "execution_count": 2,
   "metadata": {},
   "outputs": [
    {
     "ename": "NameError",
     "evalue": "name 'plt' is not defined",
     "output_type": "error",
     "traceback": [
      "\u001b[1;31m---------------------------------------------------------------------------\u001b[0m",
      "\u001b[1;31mNameError\u001b[0m                                 Traceback (most recent call last)",
      "\u001b[1;32m<ipython-input-2-42e32c505229>\u001b[0m in \u001b[0;36m<module>\u001b[1;34m\u001b[0m\n\u001b[1;32m----> 1\u001b[1;33m \u001b[0mfig\u001b[0m\u001b[1;33m,\u001b[0m \u001b[0max\u001b[0m \u001b[1;33m=\u001b[0m \u001b[0mplt\u001b[0m\u001b[1;33m.\u001b[0m\u001b[0msubplots\u001b[0m\u001b[1;33m(\u001b[0m\u001b[1;33m)\u001b[0m\u001b[1;33m\u001b[0m\u001b[1;33m\u001b[0m\u001b[0m\n\u001b[0m\u001b[0;32m      2\u001b[0m \u001b[0mlambda_arr\u001b[0m \u001b[1;33m=\u001b[0m \u001b[0marray\u001b[0m\u001b[1;33m(\u001b[0m\u001b[1;33m[\u001b[0m\u001b[1;36m2\u001b[0m\u001b[1;33m*\u001b[0m\u001b[0mpi\u001b[0m\u001b[1;33m*\u001b[0m\u001b[0mc\u001b[0m\u001b[1;33m/\u001b[0m\u001b[0momega\u001b[0m \u001b[1;32mfor\u001b[0m \u001b[0momega\u001b[0m \u001b[1;32min\u001b[0m \u001b[0momega_list\u001b[0m\u001b[1;33m]\u001b[0m\u001b[1;33m)\u001b[0m\u001b[1;33m\u001b[0m\u001b[1;33m\u001b[0m\u001b[0m\n\u001b[0;32m      3\u001b[0m \u001b[0max\u001b[0m\u001b[1;33m.\u001b[0m\u001b[0mplot\u001b[0m\u001b[1;33m(\u001b[0m\u001b[0mlambda_arr\u001b[0m\u001b[1;33m/\u001b[0m\u001b[1;36m1e-9\u001b[0m\u001b[1;33m,\u001b[0m\u001b[0marray\u001b[0m\u001b[1;33m(\u001b[0m\u001b[0ma05Spts\u001b[0m\u001b[1;33m)\u001b[0m\u001b[1;33m/\u001b[0m\u001b[1;33m(\u001b[0m\u001b[1;36m4\u001b[0m\u001b[1;33m*\u001b[0m\u001b[0mpi\u001b[0m\u001b[1;33m*\u001b[0m\u001b[0me0\u001b[0m\u001b[1;33m*\u001b[0m\u001b[1;36m1e-30\u001b[0m\u001b[1;33m)\u001b[0m\u001b[1;33m)\u001b[0m\u001b[1;33m\u001b[0m\u001b[1;33m\u001b[0m\u001b[0m\n\u001b[0;32m      4\u001b[0m \u001b[1;31m#ax.set_ylim((-200,200))\u001b[0m\u001b[1;33m\u001b[0m\u001b[1;33m\u001b[0m\u001b[1;33m\u001b[0m\u001b[0m\n\u001b[0;32m      5\u001b[0m \u001b[0mplt\u001b[0m\u001b[1;33m.\u001b[0m\u001b[0mshow\u001b[0m\u001b[1;33m(\u001b[0m\u001b[1;33m)\u001b[0m\u001b[1;33m\u001b[0m\u001b[1;33m\u001b[0m\u001b[0m\n",
      "\u001b[1;31mNameError\u001b[0m: name 'plt' is not defined"
     ]
    }
   ],
   "source": [
    "fig, ax = plt.subplots()\n",
    "lambda_arr = array([2*pi*c/omega for omega in omega_list])\n",
    "ax.plot(lambda_arr/1e-9,array(a05Spts)/(4*pi*e0*1e-30))\n",
    "#ax.set_ylim((-200,200))\n",
    "plt.show()"
   ]
  },
  {
   "cell_type": "code",
   "execution_count": 34,
   "metadata": {},
   "outputs": [],
   "source": [
    "## polarizability plot\n",
    "\n",
    "nlist = range(5,50)\n",
    "omega_list = [2*pi*c/(l*1e-9) for l in linspace(800,1000,300)]\n",
    "\n",
    "# 5P3/2,f=0\n",
    "n=5; l=1; j=3/2; f=0; mf=0;\n",
    "a05Spts = [alpha0_hf([n,l,j,f], omega, nlist, atom=rb, I=I) for omega in omega_list]"
   ]
  },
  {
   "cell_type": "code",
   "execution_count": 35,
   "metadata": {},
   "outputs": [
    {
     "data": {
      "image/png": "[encoded data removed]",
      "text/plain": [
       "<Figure size 640x480 with 1 Axes>"
      ]
     },
     "metadata": {},
     "output_type": "display_data"
    }
   ],
   "source": [
    "fig, ax = plt.subplots()\n",
    "lambda_arr = array([2*pi*c/omega for omega in omega_list])\n",
    "ax.plot(lambda_arr/1e-9,array(a05Spts)/(4*pi*e0*1e-30))\n",
    "# ax.set_ylim((-300,300))\n",
    "plt.show()"
   ]
  },
  {
   "cell_type": "code",
   "execution_count": 37,
   "metadata": {},
   "outputs": [],
   "source": [
    "## polarizability plot\n",
    "\n",
    "nlist = range(5,50)\n",
    "omega_list = [2*pi*c/(l*1e-9) for l in linspace(800,1000,300)]\n",
    "\n",
    "# 5S1/2,f=1\n",
    "n=5; l=0; j=1/2; f=1; mf=0;\n",
    "a05Spts1 = [alpha0_hf([n,l,j,f], omega, nlist, atom=rb, I=I) for omega in omega_list] #alpha_0\n",
    "\n",
    "# 5P3/2,f=0\n",
    "n=5; l=1; j=3/2; f=0; mf=0;\n",
    "a05Spts2 = [alpha0_hf([n,l,j,f], omega, nlist, atom=rb, I=I) for omega in omega_list]"
   ]
  },
  {
   "cell_type": "code",
   "execution_count": 38,
   "metadata": {},
   "outputs": [
    {
     "data": {
      "image/png": "[encoded data removed]",
      "text/plain": [
       "<Figure size 640x480 with 1 Axes>"
      ]
     },
     "metadata": {},
     "output_type": "display_data"
    }
   ],
   "source": [
    "fig, ax = plt.subplots()\n",
    "lambda_arr = array([2*pi*c/omega for omega in omega_list])\n",
    "ax.plot(lambda_arr/1e-9,array(a05Spts1)/(4*pi*e0*1e-30)-array(a05Spts2)/(4*pi*e0*1e-30))\n",
    "# ax.set_ylim((-300,300))\n",
    "plt.show()"
   ]
  },
  {
   "cell_type": "code",
   "execution_count": 4,
   "metadata": {},
   "outputs": [],
   "source": [
    "## polarizability plot 5S1/2,f=1 to 5P1/2,f=1\n",
    "\n",
    "nlist = range(4,9)\n",
    "omega_list = [2*pi*c/(l*1e-9) for l in linspace(852,900,100)] # rad/s\n",
    "\n",
    "# 5S1/2,f=1\n",
    "n=5; l=0; j=1/2; f=1; mf=1;\n",
    "a05S0 = [alpha0_hf([n,l,j,f], omega, nlist, atom=rb, I=I) for omega in omega_list] #alpha_0\n",
    "a05S2 = [alpha2_hf([n,l,j,f], omega, nlist, atom=rb, I=I) for omega in omega_list] #alpha_2\n",
    "a05St = a05S0 + multiply(2*(3*mf**2-f*(f+1))/(2*f*(2*f-1)),a05S2)\n",
    "# 5P1/2,f=1\n",
    "n=5; l=1; j=1/2; f=1; mf=0;\n",
    "a05P0 = [alpha0_hf([n,l,j,f], omega, nlist, atom=rb, I=I) for omega in omega_list] #alpha_0\n",
    "a05P2 = [alpha2_hf([n,l,j,f], omega, nlist, atom=rb, I=I) for omega in omega_list] #alpha_2\n",
    "a05Pt = a05S0 + multiply(2*(3*mf**2-f*(f+1))/(2*f*(2*f-1)),a05S2)"
   ]
  },
  {
   "cell_type": "code",
   "execution_count": 5,
   "metadata": {},
   "outputs": [
    {
     "data": {
      "image/png": "[encoded data removed]",
      "text/plain": [
       "<Figure size 640x480 with 1 Axes>"
      ]
     },
     "metadata": {},
     "output_type": "display_data"
    },
    {
     "name": "stdout",
     "output_type": "stream",
     "text": [
      "The minimum blue detuning is 32.489008205670984 MHz at a dipole trap frequency 351.8690821596244 THz, wavelength 852.0 nm\n",
      "The powe of dipole trap should be 24.94542175488668 mW\n",
      "Preparation of Bell states has a blue detuning of 90.51058754469986 MHz\n"
     ]
    }
   ],
   "source": [
    "w0 = 1.65e-6\n",
    "Ufort = kB*1e-3\n",
    "P_list = sqrt(divide(4*Ufort*e0*c*pi*w0**2/2,a05S0))\n",
    "E_list = sqrt(divide(4*Ufort,a05S0))\n",
    "energydiff = multiply(-1/4,multiply(a05P0-a05Pt,E_list**2))\n",
    "enefreq = energydiff/(hbar*2*pi)/1e6\n",
    "lambda_arr = array([2*pi*c/omega for omega in omega_list]) # in Hz\n",
    "fig, ax = plt.subplots()\n",
    "ax.plot(lambda_arr/1e-9, array(enefreq))\n",
    "ax.set_xlabel('nm')\n",
    "ax.set_ylabel('MHz')\n",
    "ax.set_title('Blue detuning plot 5S1/2,f=1 to 5P1/2,f=1')\n",
    "plt.show()\n",
    "minenergy = min(enefreq)\n",
    "minwave = lambda_arr[argmin(enefreq)] # in Hz\n",
    "omega = omega_list[argmin(enefreq)] #rad/s\n",
    "# 5S1/2,f=1\n",
    "n=5; l=0; j=1/2; f=1; mf=0;\n",
    "a05S0fix = alpha0_hf([n,l,j,f], omega, nlist, atom=rb, I=I) #alpha_0\n",
    "# 5P3/2,f=0\n",
    "n=5; l=1; j=3/2; f=0; mf=0;\n",
    "a05P0fix = alpha0_hf([n,l,j,f], omega, nlist, atom=rb, I=I)  #alpha_0\n",
    "E_fix = sqrt(4*Ufort/abs(a05P0fix))\n",
    "P_fix = 4*Ufort*e0*c*pi*w0**2/2/a05S0fix\n",
    "detun = -1/4*(a05P0fix-a05S0fix)*E_fix**2/(hbar*2*pi)/1e6\n",
    "print('The minimum blue detuning is',minenergy,'MHz at a dipole trap frequency',c/minwave/1e12,'THz, wavelength',minwave/1e-9,'nm')\n",
    "print('The powe of dipole trap should be',P_fix*1000,'mW')\n",
    "print('Preparation of Bell states has a blue detuning of',detun,'MHz')"
   ]
  },
  {
   "cell_type": "code",
   "execution_count": 4,
   "metadata": {},
   "outputs": [
    {
     "name": "stdout",
     "output_type": "stream",
     "text": [
      "  5S1/2,f=2,mf=0:\n",
      "    scalar = -3.863073734163827e-75\n",
      "  5P3/2,f=3,mf=1:\n",
      "    scalar = 1.1426236852848684e-75\n",
      "    vector = -1.7730550494904606e-38\n",
      "    tensor = -4.646776330746171e-76\n"
     ]
    }
   ],
   "source": [
    "omega = 2*pi*c/(7.7e-7)\n",
    "\n",
    "print(\"  5S1/2,f=2,mf=0:\")\n",
    "nlist = range(5,12)\n",
    "n=5; l=0; j=1/2; f=2; mf=0;\n",
    "print(f\"    scalar = {alpha0_hf([n,l,j,f], omega, nlist, atom=rb, I=I)}\")\n",
    "# vector is zero for mf=0\n",
    "# tensor is zero for j<1\n",
    "\n",
    "print(\"  5P3/2,f=3,mf=1:\")\n",
    "n=5; l=1; j=3/2; f=3; mf=1; A = 1;\n",
    "print(f\"    scalar = {alpha0_hf([n,l,j,f], omega, nlist, atom=rb, I=I)}\")\n",
    "print(f\"    vector = {A*mf*alpha1_hf([n,l,j,f], omega, nlist, atom=rb, I=I)/(2*f)}\")\n",
    "print(f\"    tensor = {-1*((3*mf**2 - f*(f+1))/(2*f*(2*f-1)))*alpha2_hf([n,l,j,f], omega, nlist, atom=rb, I=I)}\")"
   ]
  },
  {
   "cell_type": "markdown",
   "metadata": {
    "jp-MarkdownHeadingCollapsed": true
   },
   "source": [
    "## Polarizabilities for Rydberg addressing"
   ]
  },
  {
   "cell_type": "code",
   "execution_count": null,
   "metadata": {},
   "outputs": [],
   "source": []
  },
  {
   "cell_type": "code",
   "execution_count": 5,
   "metadata": {},
   "outputs": [],
   "source": [
    "# atom\n",
    "rb = Rubidium87()\n",
    "\n",
    "# lasers\n",
    "omega780A = 2*pi*(hf_states[5][1][3/2][3] - hf_states[5][0][1/2][2] - 2.1)*1e9\n",
    "omega780B = 2*pi*(hf_states[5][1][3/2][3] - hf_states[5][0][1/2][2] - 2.1 + 6.834682)*1e9\n",
    "omega480 = 2*pi*(eVToGHz(rb.getEnergy(84,2,5/2) - rb.getEnergy(5,1,3/2)) - .266651 + 2.1)*1e9"
   ]
  },
  {
   "cell_type": "code",
   "execution_count": 57,
   "metadata": {},
   "outputs": [
    {
     "name": "stdout",
     "output_type": "stream",
     "text": [
      "Laser frequencies\n",
      " 780A: 2*pi*384226015203379.4\n",
      " 780B: 2*pi*384232849885379.44\n",
      " 480: 2*pi*625314831618150.4\n",
      "780A polarizabilities\n",
      "  5S1/2,f=2,mf=0:\n",
      "    scalar = 3.20346392953120E-34\n",
      "  5P3/2,f=3,mf=1:\n",
      "    scalar = 1.52739309640219E-34\n",
      "    vector = -3.817491143122172e-35\n",
      "    tensor = -4.581457685120631e-35\n",
      "480 polarizabilities\n",
      "  5S1/2,f=2,mf=0:\n",
      "    scalar = -2.90311524481040E-39\n",
      "  5P3/2,f=3,mf=1:\n",
      "    scalar = -4.82150951678205E-39\n",
      "    vector = 1.696626924053701e-40\n",
      "    tensor = 4.557481703934684e-40\n"
     ]
    }
   ],
   "source": [
    "print(\"Laser frequencies\")\n",
    "print(f\" 780A: 2*pi*{omega780A/(2*pi)}\")\n",
    "print(f\" 780B: 2*pi*{omega780B/(2*pi)}\")\n",
    "print(f\" 480: 2*pi*{omega480/(2*pi)}\")\n",
    "\n",
    "print(\"780A polarizabilities\")\n",
    "\n",
    "nlist = range(5,8)\n",
    "\n",
    "print(\"  5S1/2,f=2,mf=0:\")\n",
    "n=5; l=0; j=1/2; f=2; mf=0;\n",
    "print(f\"    scalar = {alpha0_hf([n,l,j,f], omega780A, nlist, atom=rb, I=I)}\")\n",
    "# vector is zero for mf=0\n",
    "# tensor is zero for j<1\n",
    "\n",
    "print(\"  5P3/2,f=3,mf=1:\")\n",
    "n=5; l=1; j=3/2; f=3; mf=1; A = 1;\n",
    "print(f\"    scalar = {alpha0_hf([n,l,j,f], omega780A, nlist, atom=rb, I=I)}\")\n",
    "print(f\"    vector = {A*mf*alpha1_hf([n,l,j,f], omega780A, nlist, atom=rb, I=I)/(2*f)}\")\n",
    "print(f\"    tensor = {-1*((3*mf**2 - f*(f+1))/(2*f*(2*f-1)))*alpha2_hf([n,l,j,f], omega780A, nlist, atom=rb, I=I)}\")\n",
    "\n",
    "print(\"480 polarizabilities\")\n",
    "\n",
    "print(\"  5S1/2,f=2,mf=0:\")\n",
    "n=5; l=0; j=1/2; f=2; mf=0;\n",
    "nmax = 100; nmin = 5;\n",
    "nlist = [int(x) for x in linspace(nmax,nmin,nmax-nmin+1)]\n",
    "print(f\"    scalar = {alpha0_hf([n,l,j,f], omega480, nlist, atom=rb, I=I)}\")\n",
    "# vector is zero for mf=0\n",
    "# tensor is zero for j<1\n",
    "\n",
    "print(\"  5P3/2,f=3,mf=1:\")\n",
    "n=5; l=1; j=3/2; f=3; mf=1; A = 1;\n",
    "print(f\"    scalar = {alpha0_hf([n,l,j,f], omega480, nlist, atom=rb, I=I)}\")\n",
    "print(f\"    vector = {-A*mf*alpha1_hf([n,l,j,f], omega480, nlist, atom=rb, I=I)/(2*f)}\") # overall minus sign because dot(k,B_bias)=\n",
    "print(f\"    tensor = {-1*((3*mf**2 - f*(f+1))/(2*f*(2*f-1)))*alpha2_hf([n,l,j,f], omega480, nlist, atom=rb, I=I)}\")"
   ]
  },
  {
   "cell_type": "code",
   "execution_count": 54,
   "metadata": {},
   "outputs": [
    {
     "data": {
      "text/plain": [
       "6.874982135779098e-35"
      ]
     },
     "execution_count": 54,
     "metadata": {},
     "output_type": "execute_result"
    }
   ],
   "source": [
    "alpha780excited = scalar = 1.52739309640219E-34 + -3.817491143122172e-35 + -4.581457685120631e-35\n",
    "alpha780excited"
   ]
  },
  {
   "cell_type": "code",
   "execution_count": 60,
   "metadata": {},
   "outputs": [
    {
     "data": {
      "text/plain": [
       "3.231654777083384e-39"
      ]
     },
     "execution_count": 60,
     "metadata": {},
     "output_type": "execute_result"
    }
   ],
   "source": [
    "alpha480excited = 3.53496801131378E-39 + 4.27727148997324e-40 + -7.310403832277205e-40\n",
    "alpha480excited"
   ]
  },
  {
   "cell_type": "code",
   "execution_count": 6,
   "metadata": {},
   "outputs": [],
   "source": [
    "## ponderomotive shifts, S.I. units\n",
    "\n",
    "alphaPond = lambda omega: -ee**2/(me*omega**2)"
   ]
  },
  {
   "cell_type": "code",
   "execution_count": 7,
   "metadata": {},
   "outputs": [
    {
     "data": {
      "text/plain": [
       "-4.8350228219114005e-39"
      ]
     },
     "execution_count": 7,
     "metadata": {},
     "output_type": "execute_result"
    }
   ],
   "source": [
    "alphaPond(omega780A)"
   ]
  },
  {
   "cell_type": "code",
   "execution_count": 8,
   "metadata": {},
   "outputs": [
    {
     "data": {
      "text/plain": [
       "-1.825469589864302e-39"
      ]
     },
     "execution_count": 8,
     "metadata": {},
     "output_type": "execute_result"
    }
   ],
   "source": [
    "alphaPond(omega480)"
   ]
  },
  {
   "cell_type": "markdown",
   "metadata": {
    "jp-MarkdownHeadingCollapsed": true
   },
   "source": [
    "## Ramsey frequency\n",
    "Clock state Ramsey experiment with 780A on in gap time gives a fringe frequency equal to the differential AC Stark shift from the 780A plus the differential Zeeman shift. The latter is 4 kHz at 3 G. This can be used to determine the electric field that the atom sees. We can also estimate the Rabi frequency directly."
   ]
  },
  {
   "cell_type": "code",
   "execution_count": 10,
   "metadata": {},
   "outputs": [
    {
     "data": {
      "text/plain": [
       "3797.8949279380545"
      ]
     },
     "execution_count": 10,
     "metadata": {},
     "output_type": "execute_result"
    }
   ],
   "source": [
    "rb = Rubidium87()\n",
    "\n",
    "# lasers\n",
    "omega780A = 2*pi*(hf_states[5][1][3/2][3] - hf_states[5][0][1/2][2] - 2.1)*1e9\n",
    "\n",
    "# clock states differential AC stark shift = ramsey frequency - Zeeman shift\n",
    "dU_ac = 2*pi*hbar*(1.34e6 - 4e3)\n",
    "\n",
    "nlist = range(5,8)\n",
    "efield = 2*sqrt(dU_ac/(alpha0_hf([5,0,1/2,2],omega780A,nlist,atom=rb,I=I)-alpha0_hf([5,0,1/2,1],omega780A,nlist,atom=rb,I=I)))\n",
    "efield"
   ]
  },
  {
   "cell_type": "code",
   "execution_count": 12,
   "metadata": {},
   "outputs": [
    {
     "data": {
      "text/plain": [
       "7.80250285346538e-07"
      ]
     },
     "execution_count": 12,
     "metadata": {},
     "output_type": "execute_result"
    }
   ],
   "source": [
    "2*pi*c/omega780A"
   ]
  },
  {
   "cell_type": "code",
   "execution_count": 13,
   "metadata": {},
   "outputs": [
    {
     "data": {
      "text/plain": [
       "4.794264310414898e-07"
      ]
     },
     "execution_count": 13,
     "metadata": {},
     "output_type": "execute_result"
    }
   ],
   "source": [
    "2*pi*c/omega480"
   ]
  },
  {
   "cell_type": "code",
   "execution_count": 14,
   "metadata": {},
   "outputs": [
    {
     "data": {
      "text/plain": [
       "<arc.alkali_atom_data.Rubidium87 at 0x20847b75a90>"
      ]
     },
     "execution_count": 14,
     "metadata": {},
     "output_type": "execute_result"
    }
   ],
   "source": []
  },
  {
   "cell_type": "code",
   "execution_count": 22,
   "metadata": {},
   "outputs": [
    {
     "data": {
      "text/plain": [
       "2414176448051179.0"
      ]
     },
     "execution_count": 22,
     "metadata": {},
     "output_type": "execute_result"
    }
   ],
   "source": [
    "2*pi*(hf_states[5][1][3/2][3] - hf_states[5][0][1/2][2])*1e9"
   ]
  },
  {
   "cell_type": "code",
   "execution_count": 23,
   "metadata": {},
   "outputs": [
    {
     "data": {
      "text/plain": [
       "3928955767695494.5"
      ]
     },
     "execution_count": 23,
     "metadata": {},
     "output_type": "execute_result"
    }
   ],
   "source": [
    "2*pi*(eVToGHz(rb.getEnergy(84,2,5/2) - rb.getEnergy(5,1,3/2)) - .266651)*1e9"
   ]
  },
  {
   "cell_type": "code",
   "execution_count": null,
   "metadata": {},
   "outputs": [],
   "source": []
  }
 ],
 "metadata": {
  "kernelspec": {
   "display_name": "Python 3 (ipykernel)",
   "language": "python",
   "name": "python3"
  },
  "language_info": {
   "codemirror_mode": {
    "name": "ipython",
    "version": 3
   },
   "file_extension": ".py",
   "mimetype": "text/x-python",
   "name": "python",
   "nbconvert_exporter": "python",
   "pygments_lexer": "ipython3",
   "version": "3.9.6"
  }
 },
 "nbformat": 4,
 "nbformat_minor": 4
}
