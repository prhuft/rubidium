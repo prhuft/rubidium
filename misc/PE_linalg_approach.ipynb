{
 "cells": [
  {
   "cell_type": "code",
   "execution_count": null,
   "metadata": {},
   "outputs": [],
   "source": [
    "# Notes\n",
    "# using C_J = C in P_N function (somewhere else too)"
   ]
  },
  {
   "cell_type": "code",
   "execution_count": 8,
   "metadata": {},
   "outputs": [],
   "source": [
    "import scipy.integrate as integrate\n",
    "from scipy.optimize import curve_fit\n",
    "import numpy as np\n",
    "from numpy import *\n",
    "import matplotlib.pyplot as plt\n",
    "import csv\n",
    "from scipy.ndimage import gaussian_filter\n",
    "from numpy import e, pi\n",
    "from scipy import constants\n",
    "#plt.rcParams.update({'font.size': 16})"
   ]
  },
  {
   "cell_type": "markdown",
   "metadata": {},
   "source": [
    "## define variables in mixed SI and eV units\n",
    "it's intriguing that the constants are in units eV while the temp and electrical stuff are in SI units"
   ]
  },
  {
   "cell_type": "code",
   "execution_count": 125,
   "metadata": {},
   "outputs": [],
   "source": [
    "## constants\n",
    "eVperJoule = 6.241509e18 # 1J = 6.24e18eV\n",
    "h = 6.62607015e-34*eVperJoule # (eV*s)\n",
    "hbar = h/(2*pi)\n",
    "el = -1.602176634e-19 # (C)\n",
    "kB = 1.380649e-23*eVperJoule # (eV/K)\n",
    "\n",
    "## Define our values\n",
    "T = 4.7\n",
    "R = 40\n",
    "L = 5e-9\n",
    "C = 5e-15\n",
    "R_Q = (h/eVperJoule)/(2*el**2) # put h back in SI units so R_Q is units ohms"
   ]
  },
  {
   "cell_type": "markdown",
   "metadata": {},
   "source": [
    "## define variables strictly in SI"
   ]
  },
  {
   "cell_type": "code",
   "execution_count": 128,
   "metadata": {},
   "outputs": [
    {
     "name": "stdout",
     "output_type": "stream",
     "text": [
      "Q = 25.0\n"
     ]
    }
   ],
   "source": [
    "## constants\n",
    "h = 6.62607015e-34 # (J*s)\n",
    "hbar = h/(2*pi)\n",
    "el = -1.602176634e-19 # (C)\n",
    "kB = 1.380649e-23 # (J/K)\n",
    "\n",
    "## Define our values\n",
    "T = 4.7\n",
    "R = 40\n",
    "L = 5e-9\n",
    "C = 5e-15\n",
    "R_Q = h/(2*el**2) # ohms\n",
    "\n",
    "Ec = el**2/(2*C)\n",
    "\n",
    "print(f\"Q = {np.sqrt(L/C)/R}\")"
   ]
  },
  {
   "cell_type": "markdown",
   "metadata": {},
   "source": [
    "## define functions"
   ]
  },
  {
   "cell_type": "code",
   "execution_count": 129,
   "metadata": {},
   "outputs": [],
   "source": [
    "# Define Z_T\n",
    "alpha = R/R_Q\n",
    "omega_c = 1/(R*C)\n",
    "omega_s = (L*C)**(-1/2)\n",
    "Q = omega_c / omega_s\n",
    "def Z_T(omega):\n",
    "    return R_Q*alpha*(1 + 1j*Q**2*omega/omega_c)/(1+1j*(omega/omega_c)-Q**2*(omega/omega_c)**2)\n",
    "\n",
    "# define Z_TT\n",
    "def Z_TT(omega):\n",
    "    return 1/(1j*omega*C+(Z_T(omega))**(-1))\n",
    "\n",
    "# Define D \n",
    "beta = (kB*T)**-1\n",
    "D = (pi/beta)*(Z_TT(0).real/R_Q)\n",
    "\n",
    "# Define I \n",
    "def I(E):\n",
    "    return (1/pi)*(D/(D**2+E**2))\n",
    "\n",
    "# Define little k\n",
    "def kk(omega):\n",
    "    return (1/(1-e**(-beta*hbar*omega)))*(Z_TT(omega).real/R_Q)-(1/(beta*hbar*omega))*(Z_TT(0).real/R_Q)\n",
    "\n",
    "# Define kappa \n",
    "def kappa(omega):\n",
    "    summand_list = []\n",
    "    for n in range(1000):\n",
    "        summand = ((2*n*pi/(beta*hbar))/((2*n*pi/(beta*hbar))**2+omega**2)) * (Z_TT(-1j*(2*n*pi/(beta*hbar))))/R_Q\n",
    "        summand_list.append(summand)\n",
    "    summ = np.sum(summand_list)\n",
    "    return np.real((1/(1-e**(-beta*hbar*omega)))*Z_TT(omega).imag/R_Q - (2/(beta*hbar))*summ)\n",
    "\n",
    "def K(E, omega):\n",
    "    return (hbar*E/(D**2+E**2))*kk(omega)+(hbar*D/(D**2+E**2))*kappa(omega)"
   ]
  },
  {
   "cell_type": "code",
   "execution_count": 64,
   "metadata": {},
   "outputs": [],
   "source": [
    "nansum?"
   ]
  },
  {
   "cell_type": "markdown",
   "metadata": {},
   "source": [
    "## matrix method"
   ]
  },
  {
   "cell_type": "code",
   "execution_count": 12,
   "metadata": {},
   "outputs": [
    {
     "data": {
      "text/plain": [
       "25.0"
      ]
     },
     "execution_count": 12,
     "metadata": {},
     "output_type": "execute_result"
    }
   ],
   "source": [
    "omega_max/omega_s"
   ]
  },
  {
   "cell_type": "code",
   "execution_count": 131,
   "metadata": {},
   "outputs": [
    {
     "name": "stdout",
     "output_type": "stream",
     "text": [
      "integration range is omega_min = -5e+12 to omega_max = 5e+12\n",
      "imin,imax=(-4, 12)\n"
     ]
    },
    {
     "name": "stderr",
     "output_type": "stream",
     "text": [
      "C:\\Users\\prest\\AppData\\Local\\Temp\\ipykernel_11612\\1040232476.py:23: RuntimeWarning: divide by zero encountered in scalar divide\n",
      "  return (1/(1-e**(-beta*hbar*omega)))*(Z_TT(omega).real/R_Q)-(1/(beta*hbar*omega))*(Z_TT(0).real/R_Q)\n",
      "C:\\Users\\prest\\AppData\\Local\\Temp\\ipykernel_11612\\1040232476.py:32: RuntimeWarning: divide by zero encountered in scalar divide\n",
      "  return np.real((1/(1-e**(-beta*hbar*omega)))*Z_TT(omega).imag/R_Q - (2/(beta*hbar))*summ)\n",
      "C:\\Users\\prest\\AppData\\Local\\Temp\\ipykernel_11612\\1040232476.py:35: RuntimeWarning: invalid value encountered in scalar add\n",
      "  return (hbar*E/(D**2+E**2))*kk(omega)+(hbar*D/(D**2+E**2))*kappa(omega)\n",
      "C:\\Users\\prest\\AppData\\Local\\Temp\\ipykernel_11612\\1040232476.py:35: RuntimeWarning: invalid value encountered in scalar multiply\n",
      "  return (hbar*E/(D**2+E**2))*kk(omega)+(hbar*D/(D**2+E**2))*kappa(omega)\n"
     ]
    },
    {
     "name": "stdout",
     "output_type": "stream",
     "text": [
      "CPU times: total: 27min 47s\n",
      "Wall time: 27min 48s\n"
     ]
    }
   ],
   "source": [
    "%%time\n",
    "n = 100 # integral goes from -n*d_omega to n*d_omega\n",
    "omega_min = -25*omega_s # this is -5e12 if using SI units\n",
    "omega_max = -omega_min\n",
    "print(f\"integration range is omega_min = {omega_min:.0e} to omega_max = {omega_max:.0e}\")\n",
    "d_omega = (omega_max - omega_min)/(2*n)\n",
    "omega_pts = array([i*d_omega for i in range(-n,n+1)])\n",
    "omega_pts[omega_pts == 0] = 1e-6 # replace the zero with a small finite value\n",
    "assert omega_min == omega_pts[0]\n",
    "assert omega_max == omega_pts[-1]\n",
    "\n",
    "N = 3 # recursion steps\n",
    "\n",
    "# the bounds for the domain of the final P(E) we want to compute\n",
    "Emin = -1*hbar*d_omega*int(omega_s/d_omega+0.5) # E[i] is by definition integer*hbar*d_omega\n",
    "imin = int(Emin/(hbar*d_omega))\n",
    "Emax = 3*hbar*d_omega*int(omega_s/d_omega+0.5)\n",
    "imax = int(Emax/(hbar*d_omega))\n",
    "print(f\"imin,imax={imin,imax}\") # these are min,max indices of the energy for the final P(E) \n",
    "\n",
    "# E to cover the range we need for shifting (the effective convolution at each iteration)\n",
    "E_pts = array([i*hbar*d_omega for i in range(imin-N*n,imax+N*n+1)])\n",
    "\n",
    "# these should all be true\n",
    "assert Emin in E_pts\n",
    "assert Emax in E_pts\n",
    "assert E_pts[0] == Emin - N*n*hbar*d_omega\n",
    "assert E_pts[-1] == Emax + N*n*hbar*d_omega\n",
    "\n",
    "num_E_pts = len(E_pts)\n",
    "\n",
    "# this gives a divide by zero warning. Not an error. We can use nansum later.\n",
    "Kmat = np.array([[K(E,omega) for omega in omega_pts] for E in E_pts])"
   ]
  },
  {
   "cell_type": "code",
   "execution_count": 132,
   "metadata": {},
   "outputs": [
    {
     "data": {
      "text/plain": [
       "(617, 1001)"
      ]
     },
     "execution_count": 132,
     "metadata": {},
     "output_type": "execute_result"
    }
   ],
   "source": [
    "num_E_pts, num_omega_pts"
   ]
  },
  {
   "cell_type": "code",
   "execution_count": 133,
   "metadata": {},
   "outputs": [
    {
     "data": {
      "text/plain": [
       "(-2.5361332850902114e-17, -2.5361332850902114e-17)"
      ]
     },
     "execution_count": 133,
     "metadata": {},
     "output_type": "execute_result"
    }
   ],
   "source": [
    "Kmat[0,1], K(E_pts[0],omega_pts[1])"
   ]
  },
  {
   "cell_type": "code",
   "execution_count": 238,
   "metadata": {},
   "outputs": [
    {
     "ename": "ValueError",
     "evalue": "operands could not be broadcast together with shapes (201,) (117,) ",
     "output_type": "error",
     "traceback": [
      "\u001b[1;31m---------------------------------------------------------------------------\u001b[0m",
      "\u001b[1;31mValueError\u001b[0m                                Traceback (most recent call last)",
      "Cell \u001b[1;32mIn[238], line 15\u001b[0m\n\u001b[0;32m     12\u001b[0m         Pprev[i] \u001b[38;5;241m=\u001b[39m I(E_pts[i])\n\u001b[0;32m     13\u001b[0m     \u001b[38;5;28;01melse\u001b[39;00m:\n\u001b[0;32m     14\u001b[0m         \u001b[38;5;66;03m# the indexing in Pprev is wrong but that's what it would be if E_i = i*hbar*d_omega\u001b[39;00m\n\u001b[1;32m---> 15\u001b[0m         Pnext[i] \u001b[38;5;241m=\u001b[39m nansum(\u001b[43mx\u001b[49m\u001b[43m[\u001b[49m\u001b[43mi\u001b[49m\u001b[43m,\u001b[49m\u001b[43m:\u001b[49m\u001b[43m]\u001b[49m\u001b[38;5;241;43m*\u001b[39;49m\u001b[43mflip\u001b[49m\u001b[43m(\u001b[49m\u001b[43mPprev\u001b[49m\u001b[43m[\u001b[49m\u001b[43mi\u001b[49m\u001b[38;5;241;43m+\u001b[39;49m\u001b[38;5;241;43m2\u001b[39;49m\u001b[38;5;241;43m*\u001b[39;49m\u001b[43mn\u001b[49m\u001b[38;5;241;43m*\u001b[39;49m\u001b[43mN\u001b[49m\u001b[38;5;241;43m-\u001b[39;49m\u001b[43m(\u001b[49m\u001b[43mN\u001b[49m\u001b[38;5;241;43m-\u001b[39;49m\u001b[43mj\u001b[49m\u001b[43m)\u001b[49m\u001b[38;5;241;43m*\u001b[39;49m\u001b[43mn\u001b[49m\u001b[43m:\u001b[49m\u001b[43mi\u001b[49m\u001b[38;5;241;43m+\u001b[39;49m\u001b[38;5;241;43m2\u001b[39;49m\u001b[38;5;241;43m*\u001b[39;49m\u001b[43mn\u001b[49m\u001b[38;5;241;43m*\u001b[39;49m\u001b[43mN\u001b[49m\u001b[38;5;241;43m+\u001b[39;49m\u001b[43m(\u001b[49m\u001b[43mN\u001b[49m\u001b[38;5;241;43m-\u001b[39;49m\u001b[43mj\u001b[49m\u001b[43m)\u001b[49m\u001b[38;5;241;43m*\u001b[39;49m\u001b[43mn\u001b[49m\u001b[43m]\u001b[49m\u001b[43m)\u001b[49m)\u001b[38;5;241m*\u001b[39md_omega \u001b[38;5;241m+\u001b[39m I(E_pts[i])\n\u001b[0;32m     16\u001b[0m P_list\u001b[38;5;241m.\u001b[39mappend(Pprev)\n\u001b[0;32m     18\u001b[0m Pprev \u001b[38;5;241m=\u001b[39m Pnext\n",
      "\u001b[1;31mValueError\u001b[0m: operands could not be broadcast together with shapes (201,) (117,) "
     ]
    }
   ],
   "source": [
    "# %%time\n",
    "x = Kmat # copies Kmat\n",
    "x[x==inf] = nan\n",
    "Pnext = zeros(num_E_pts,complex)\n",
    "Pprev = zeros(num_E_pts,complex)\n",
    "E_index_list = list(range(num_E_pts))\n",
    "P_list = []\n",
    "for j in range(N):\n",
    "    Pnext = zeros(num_E_pts,complex)\n",
    "    for i in E_index_list[n*j:n*(2*N-j)]: # include only the energies we need\n",
    "        if j == 0:\n",
    "            Pprev[i] = I(E_pts[i])\n",
    "        else:\n",
    "            # the indexing in Pprev is wrong but that's what it would be if E_i = i*hbar*d_omega\n",
    "            Pnext[i] = nansum(x[i,:]*flip(Pprev[i-(N-j)*n:i+(N-j)*n]))*d_omega + I(E_pts[i])\n",
    "    P_list.append(Pprev)\n",
    "            \n",
    "    Pprev = Pnext"
   ]
  },
  {
   "cell_type": "code",
   "execution_count": null,
   "metadata": {},
   "outputs": [],
   "source": [
    "for j in range(N):\n",
    "    Pnext = zeros(num_E_pts,complex)\n",
    "    for ii,i in enumerate(E_index_list[n*j:n*(2*N-j)]): # include only the energies we need\n",
    "        if j == 0:\n",
    "            Pprev[i] = I(E_pts[i])\n",
    "        else:\n",
    "            Pnext[i] = nansum(x[i,:]*flip(Pprev[i-(N-j)*n:i+(N-j)*n]))*d_omega + I(E_pts[i])\n",
    "    P_list.append(Pprev)\n",
    "            \n",
    "    Pprev = Pnext"
   ]
  },
  {
   "cell_type": "code",
   "execution_count": 230,
   "metadata": {},
   "outputs": [
    {
     "data": {
      "text/plain": [
       "((201,), (200,), 201)"
      ]
     },
     "execution_count": 230,
     "metadata": {},
     "output_type": "execute_result"
    }
   ],
   "source": [
    "x[i,:].shape, Pprev[i:2*n+1+i].shape, 2*n+1"
   ]
  },
  {
   "cell_type": "code",
   "execution_count": 229,
   "metadata": {},
   "outputs": [
    {
     "data": {
      "text/plain": [
       "(417, 500, 1)"
      ]
     },
     "execution_count": 229,
     "metadata": {},
     "output_type": "execute_result"
    }
   ],
   "source": [
    "i, n*(2*N-j), j"
   ]
  },
  {
   "cell_type": "code",
   "execution_count": 235,
   "metadata": {},
   "outputs": [
    {
     "data": {
      "text/plain": [
       "(500, 617, 617)"
      ]
     },
     "execution_count": 235,
     "metadata": {},
     "output_type": "execute_result"
    }
   ],
   "source": [
    "n*(2*N-j), len(Pprev), len(E_pts)"
   ]
  },
  {
   "cell_type": "code",
   "execution_count": 188,
   "metadata": {},
   "outputs": [
    {
     "data": {
      "image/png": "[encoded data removed]",
      "text/plain": [
       "<Figure size 640x480 with 1 Axes>"
      ]
     },
     "metadata": {},
     "output_type": "display_data"
    },
    {
     "data": {
      "image/png": "[encoded data removed]",
      "text/plain": [
       "<Figure size 640x480 with 1 Axes>"
      ]
     },
     "metadata": {},
     "output_type": "display_data"
    },
    {
     "data": {
      "image/png": "[encoded data removed]",
      "text/plain": [
       "<Figure size 640x480 with 1 Axes>"
      ]
     },
     "metadata": {},
     "output_type": "display_data"
    },
    {
     "data": {
      "image/png": "[encoded data removed]",
      "text/plain": [
       "<Figure size 640x480 with 1 Axes>"
      ]
     },
     "metadata": {},
     "output_type": "display_data"
    }
   ],
   "source": [
    "for P in P_list:\n",
    "    plt.plot(P)\n",
    "    plt.show()"
   ]
  },
  {
   "cell_type": "code",
   "execution_count": 169,
   "metadata": {},
   "outputs": [
    {
     "data": {
      "text/plain": [
       "312"
      ]
     },
     "execution_count": 169,
     "metadata": {},
     "output_type": "execute_result"
    }
   ],
   "source": [
    "len(Kmat[Kmat==inf])"
   ]
  },
  {
   "cell_type": "code",
   "execution_count": 176,
   "metadata": {},
   "outputs": [],
   "source": [
    "x = Kmat"
   ]
  },
  {
   "cell_type": "code",
   "execution_count": 178,
   "metadata": {},
   "outputs": [],
   "source": [
    "x[x==inf] = nan"
   ]
  },
  {
   "cell_type": "code",
   "execution_count": 179,
   "metadata": {},
   "outputs": [
    {
     "data": {
      "text/plain": [
       "(617, 201)"
      ]
     },
     "execution_count": 179,
     "metadata": {},
     "output_type": "execute_result"
    }
   ],
   "source": [
    "x.shape"
   ]
  },
  {
   "cell_type": "code",
   "execution_count": 193,
   "metadata": {},
   "outputs": [
    {
     "name": "stdout",
     "output_type": "stream",
     "text": [
      "601\n",
      "401\n",
      "201\n"
     ]
    }
   ],
   "source": [
    "for j in range(N):\n",
    "    print(len(E_index_list[n*j:n*(2*N-j)+1]))"
   ]
  },
  {
   "cell_type": "code",
   "execution_count": 182,
   "metadata": {},
   "outputs": [
    {
     "data": {
      "text/plain": [
       "[<matplotlib.lines.Line2D at 0x21096c60ac0>]"
      ]
     },
     "execution_count": 182,
     "metadata": {},
     "output_type": "execute_result"
    },
    {
     "data": {
      "image/png": "[encoded data removed]",
      "text/plain": [
       "<Figure size 640x480 with 1 Axes>"
      ]
     },
     "metadata": {},
     "output_type": "display_data"
    }
   ],
   "source": [
    "plt.plot(E_pts[imin:imax],Pprev[imin:imax])"
   ]
  },
  {
   "cell_type": "code",
   "execution_count": 143,
   "metadata": {},
   "outputs": [
    {
     "data": {
      "text/plain": [
       "array([], dtype=complex128)"
      ]
     },
     "execution_count": 143,
     "metadata": {},
     "output_type": "execute_result"
    }
   ],
   "source": [
    "Pprev[imin:imax]"
   ]
  },
  {
   "cell_type": "code",
   "execution_count": 140,
   "metadata": {},
   "outputs": [
    {
     "data": {
      "text/plain": [
       "(-4, 12)"
      ]
     },
     "execution_count": 140,
     "metadata": {},
     "output_type": "execute_result"
    }
   ],
   "source": [
    "imin,imax"
   ]
  },
  {
   "cell_type": "code",
   "execution_count": 99,
   "metadata": {},
   "outputs": [
    {
     "data": {
      "text/plain": [
       "(45, 45, 23, 23)"
      ]
     },
     "execution_count": 99,
     "metadata": {},
     "output_type": "execute_result"
    }
   ],
   "source": [
    "2*n+1+2*n*(N-1), len(E_pts), len(omega_pts), 2*n+1"
   ]
  },
  {
   "cell_type": "code",
   "execution_count": 89,
   "metadata": {},
   "outputs": [
    {
     "data": {
      "text/plain": [
       "44"
      ]
     },
     "execution_count": 89,
     "metadata": {},
     "output_type": "execute_result"
    }
   ],
   "source": [
    "j=0\n",
    "len(list(range(len(E_pts))[n*j:2*n*N*(1-j)]))"
   ]
  },
  {
   "cell_type": "code",
   "execution_count": 108,
   "metadata": {},
   "outputs": [
    {
     "data": {
      "text/plain": [
       "array([4, 3, 2, 1])"
      ]
     },
     "execution_count": 108,
     "metadata": {},
     "output_type": "execute_result"
    }
   ],
   "source": [
    "x = array([1,2,3,4])\n",
    "np.flip(x)"
   ]
  },
  {
   "cell_type": "code",
   "execution_count": 109,
   "metadata": {},
   "outputs": [
    {
     "data": {
      "text/plain": [
       "array([1, 2, 3, 4])"
      ]
     },
     "execution_count": 109,
     "metadata": {},
     "output_type": "execute_result"
    }
   ],
   "source": [
    "x"
   ]
  },
  {
   "cell_type": "code",
   "execution_count": 68,
   "metadata": {},
   "outputs": [
    {
     "data": {
      "text/plain": [
       "[<matplotlib.lines.Line2D at 0x231b73bcf70>]"
      ]
     },
     "execution_count": 68,
     "metadata": {},
     "output_type": "execute_result"
    },
    {
     "data": {
      "image/png": "[encoded data removed]",
      "text/plain": [
       "<Figure size 640x480 with 1 Axes>"
      ]
     },
     "metadata": {},
     "output_type": "display_data"
    }
   ],
   "source": [
    "plt.plot(E_pts/(hbar*omega_s),Pnext)"
   ]
  },
  {
   "cell_type": "code",
   "execution_count": 72,
   "metadata": {},
   "outputs": [
    {
     "data": {
      "text/plain": [
       "array([[2, 2],\n",
       "       [2, 2]])"
      ]
     },
     "execution_count": 72,
     "metadata": {},
     "output_type": "execute_result"
    }
   ],
   "source": [
    "a = np.array([[1,1],[1,1]])\n",
    "b = np.array([[2,2],[2,2]])\n",
    "a*b"
   ]
  },
  {
   "cell_type": "code",
   "execution_count": 73,
   "metadata": {},
   "outputs": [
    {
     "data": {
      "text/plain": [
       "matrix([[4, 4],\n",
       "        [4, 4]])"
      ]
     },
     "execution_count": 73,
     "metadata": {},
     "output_type": "execute_result"
    }
   ],
   "source": [
    "a = np.mat([[1,1],[1,1]])\n",
    "b = np.mat([[2,2],[2,2]])\n",
    "a*b"
   ]
  },
  {
   "cell_type": "code",
   "execution_count": 75,
   "metadata": {},
   "outputs": [
    {
     "data": {
      "text/plain": [
       "(1, 2)"
      ]
     },
     "execution_count": 75,
     "metadata": {},
     "output_type": "execute_result"
    }
   ],
   "source": [
    "np.matrix([1,1]).shape"
   ]
  },
  {
   "cell_type": "code",
   "execution_count": 85,
   "metadata": {},
   "outputs": [
    {
     "data": {
      "text/plain": [
       "(array([1, 1]), array([1, 1]))"
      ]
     },
     "execution_count": 85,
     "metadata": {},
     "output_type": "execute_result"
    }
   ],
   "source": [
    "np.array([1,1]).T, np.array([1,1])"
   ]
  },
  {
   "cell_type": "code",
   "execution_count": 84,
   "metadata": {},
   "outputs": [
    {
     "data": {
      "text/plain": [
       "(matrix([[1],\n",
       "         [1]]),\n",
       " matrix([[1, 1]]))"
      ]
     },
     "execution_count": 84,
     "metadata": {},
     "output_type": "execute_result"
    }
   ],
   "source": [
    "np.matrix([1,1]).T,np.matrix([1,1])"
   ]
  },
  {
   "cell_type": "code",
   "execution_count": 91,
   "metadata": {},
   "outputs": [
    {
     "data": {
      "text/plain": [
       "array([[1.+0.j, 0.+0.j],\n",
       "       [0.+0.j, 0.+0.j]])"
      ]
     },
     "execution_count": 91,
     "metadata": {},
     "output_type": "execute_result"
    }
   ],
   "source": [
    "one = np.array([1j,0])\n",
    "np.outer(one.conjugate(),one)"
   ]
  }
 ],
 "metadata": {
  "kernelspec": {
   "display_name": "Python 3 (ipykernel)",
   "language": "python",
   "name": "python3"
  },
  "language_info": {
   "codemirror_mode": {
    "name": "ipython",
    "version": 3
   },
   "file_extension": ".py",
   "mimetype": "text/x-python",
   "name": "python",
   "nbconvert_exporter": "python",
   "pygments_lexer": "ipython3",
   "version": "3.9.6"
  }
 },
 "nbformat": 4,
 "nbformat_minor": 2
}
