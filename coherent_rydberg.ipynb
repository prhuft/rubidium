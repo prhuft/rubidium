{
 "cells": [
  {
   "cell_type": "code",
   "execution_count": null,
   "metadata": {
    "scrolled": false
   },
   "outputs": [],
   "source": [
    "\"\"\"\n",
    "    Effect of External Electric Fields on Ground-Rydberg Oscillations\n",
    "    \n",
    "    Simulate Rabi oscillations between |5s1/2,F=1(2),mF=0> and each of two Rydberg states, \n",
    "    |87d5/2> and |6d5/2>. Oscillations to high n states would see significant dephasing, \n",
    "    relative to lower n states, if external electric fields were present. This is because\n",
    "    the light shift ~(n^7). I think.\n",
    "    \n",
    "    Plan:\n",
    "    - calculate matrix elements for the Rydberg transitions\n",
    "    - calculate dc stark shift (and guess \"realistic\" stray electric field values)\n",
    "    - get the frequencies we're using, and the detunings\n",
    "\n",
    "    Mark's notes, possibly relevant sections:\n",
    "    - 5 interactions with static electromagnetic fields\n",
    "    - 6 transition rates\n",
    "    - 9 polarizability\n",
    "    - 10 coherent interactions\n",
    "    - 11.1 two-photon Rabi oscillations <-- \n",
    "\"\"\""
   ]
  },
  {
   "cell_type": "code",
   "execution_count": 4,
   "metadata": {},
   "outputs": [],
   "source": [
    "## LIBRARIES\n",
    "import numpy as np\n",
    "from matplotlib import pyplot as plt\n",
    "import math as m\n",
    "#import sympy # this is written for python 2.7 :/"
   ]
  },
  {
   "cell_type": "code",
   "execution_count": null,
   "metadata": {},
   "outputs": [],
   "source": [
    "# EXPERIMENTAL PARAMETERS\n",
    "# omega1 = \n",
    "# omega2 = \n",
    "# Delta1 =\n",
    "# Delta2 = \n",
    "# Omega1 = \n",
    "# Omega2 =\n"
   ]
  }
 ],
 "metadata": {
  "kernelspec": {
   "display_name": "Python 3",
   "language": "python",
   "name": "python3"
  },
  "language_info": {
   "codemirror_mode": {
    "name": "ipython",
    "version": 3
   },
   "file_extension": ".py",
   "mimetype": "text/x-python",
   "name": "python",
   "nbconvert_exporter": "python",
   "pygments_lexer": "ipython3",
   "version": "3.7.3"
  }
 },
 "nbformat": 4,
 "nbformat_minor": 2
}
