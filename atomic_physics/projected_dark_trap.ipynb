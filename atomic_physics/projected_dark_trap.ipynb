{
 "cells": [
  {
   "cell_type": "markdown",
   "id": "a5979670",
   "metadata": {},
   "source": [
    "test nb for my projected dark trap class\n",
    "\n",
    "P. Huft"
   ]
  },
  {
   "cell_type": "code",
   "execution_count": 2,
   "id": "e5bbaedf",
   "metadata": {},
   "outputs": [],
   "source": [
    "from numpy import *\n",
    "import matplotlib.pyplot as plt\n",
    "from numpy.random import normal\n",
    "\n",
    "# local imports\n",
    "from physconsts import *\n",
    "from rbconsts import mRb"
   ]
  },
  {
   "cell_type": "code",
   "execution_count": 3,
   "id": "01d4fc3f",
   "metadata": {},
   "outputs": [],
   "source": [
    "class projected_dark_trap:\n",
    "    \"\"\"\n",
    "    a trap with profile U ~ |1 - E_gaussian|^2\n",
    "    \"\"\"\n",
    "    \n",
    "    def __init__(self,lmbda,wx,Tdepth,Tatom,m):\n",
    "        \"\"\" A dipole trap object with the beams potential and distribution of \n",
    "            atoms specified by Tatom. \n",
    "            'wx': x beam waist in focal plane (z=0); wy = wx\n",
    "            'Tdepth': [K]\n",
    "            'Tatom': [K]\n",
    "            'm': atomic mass\n",
    "        \"\"\"\n",
    "        self.wx = wx\n",
    "        self.wy = wx\n",
    "        self.Tdepth = Tdepth\n",
    "        self.T = Tatom\n",
    "        self.m = m\n",
    "        \n",
    "        # FORT and atom parameter stuff\n",
    "        self.umax = kB*self.Tdepth # the maximum FORT depth\n",
    "        self.lmbda = lmbda # the trap wavelength [m]\n",
    "\n",
    "        self.zR = pi*wx**2/self.lmbda\n",
    "#         self.omega_r = (1/sqrt((self.wx**2+self.wy**2)/2))*sqrt(2*kB*self.Tdepth/m) # radial trap frequency \n",
    "        self.omega_z = (1/self.zR)*sqrt(2*kB*self.Tdepth/m) # axial trap frequency\n",
    "        # print(f\"omega_r = {self.omega_r*1e-3:.3f} kHz, omega_z = {self.omega_z*1e-3:.3f} kHz\")\n",
    "\n",
    "    def U(self,x,y,z):\n",
    "        \"\"\" \n",
    "        \n",
    "        \"\"\"\n",
    "        zR = self.zR\n",
    "        w0 = self.wx\n",
    "        w = w0*sqrt(1+(z/zR)**2) \n",
    "        rr = x**2+y**2 # rho squared\n",
    "        umax = self.umax\n",
    "        lmbda = self.lmbda\n",
    "        \n",
    "        eta = arctan2(z,zR)\n",
    "        R = z*(1+(zR/z)**2)\n",
    "        \n",
    "        uxyz = -umax*(1 - 2*(w0/w)*cos(eta-pi*rr/(R*lmbda))\n",
    "                     *exp(-rr/w**2)\n",
    "                     +(w0/w)**2*exp(-2*rr/w**2))\n",
    "        \n",
    "        return uxyz\n",
    "    \n",
    "    def Uforce(self):\n",
    "        \"\"\"\n",
    "        returns list of force components lambda x,y,z [fx,fy,fz]\n",
    "        \"\"\"\n",
    "        zR = self.zR\n",
    "        lmbda = self.lmbda\n",
    "        w0 = self.wx\n",
    "        w = lambda z: w0*sqrt(1+(z/zR)**2)\n",
    "        umax = self.umax\n",
    "                            \n",
    "        fx = lambda x,y,z: -umax*(4/(w0**2*(z**2+zR**2)**2)\n",
    "            *exp(-2*(x**2+y**2)*zR**2/(w0**2*(z**2+zR**2)))\n",
    "            *x*(-zR**4+(1/lmbda)*exp((x**2+y**2)*zR**2/(w0**2*(z**2+zR**2)))\n",
    "                *sqrt(1+(z/zR)**2)*zR**2*(\n",
    "                    zR**2*lmbda*cos(pi*(x**2+y**2)*z/(lmbda*(z**2+zR**2))-arctan2(z,zR))\n",
    "                    +pi*w0**2*z*sin(pi*(x**2+y**2)*z/(lmbda*(z**2+zR**2))-arctan2(z,zR))\n",
    "                    )\n",
    "                )\n",
    "            )\n",
    "                \n",
    "        fy = lambda x,y,z: -umax*(4/(w0**2*(z**2+zR**2)**2)\n",
    "            *exp(-2*(x**2+y**2)*zR**2/(w0**2*(z**2+zR**2)))\n",
    "            *y*(-zR**4+(1/lmbda)*exp((x**2+y**2)*zR**2/(w0**2*(z**2+zR**2)))\n",
    "                *sqrt(1+(z/zR)**2)*zR**2*(\n",
    "                    zR**2*lmbda*cos(pi*(x**2+y**2)*z/(lmbda*(z**2+zR**2))-arctan2(z,zR))\n",
    "                    +pi*w0**2*z*sin(pi*(x**2+y**2)*z/(lmbda*(z**2+zR**2))-arctan2(z,zR))\n",
    "                    )\n",
    "                )\n",
    "            )\n",
    "        fz = lambda x,y,z: umax*(2/(w0**2*(z**2+zR**2)**3)\n",
    "            *exp(-2*(x**2+y**2)*zR**2/(w0**2*(z**2+zR**2)))*zR**2*(\n",
    "            -2*(x**2+y**2)*z*zR**2+w0**2*z*(z**2+zR**2)\n",
    "            +(1/lmbda)*exp((x**2+y**2)*zR**2/(w0**2*(z**2+zR**2)))\n",
    "            *sqrt(1+(z/zR)**2)*(-z*(-2*(x**2+y**2)*zR**2+w0**2\n",
    "                                         *(z**2+zR**2))*lmbda\n",
    "                                      *cos(pi*(x**2+y**2)*z/(lmbda*(z**2+zR**2))-arctan2(z,zR))\n",
    "                                      +w0**2*(pi*(x**2+y**2)*(z-zR)*(z+zR)\n",
    "                                      +zR*(z**2+zR**2)*lmbda)\n",
    "                    *sin(pi*(x**2+y**2)*z/(lmbda*(z**2+zR**2))-arctan2(z,zR))\n",
    "                )\n",
    "            ) \n",
    "        )\n",
    "    \n",
    "        \n",
    "        return fx,fy,fz\n",
    "        \n",
    "    \n",
    "    def xdist(self,events=None,plane=None):\n",
    "        \"\"\" \n",
    "        position and velocity component distributions \n",
    "        \n",
    "        the trap is harmonic along z, rho=0 but quartic along rho,z=0.\n",
    "        the quartic radial distribution is derived in Isenhower et al\n",
    "        \"Atom trapping in an interferometrically generated bottle beam trap\"\n",
    "        \"\"\"\n",
    "        \n",
    "        omega_z = self.omega_z\n",
    "        T = self.T # atom temp\n",
    "        Tdepth = self.Tdepth\n",
    "        m = self.m\n",
    "        \n",
    "        dx = dy = (2/sqrt(3))*w0*(T/Tdepth)**(1/4)\n",
    "        dz = sqrt(kB*T/(m*omega_z**2))\n",
    "        zlist = normal(0,dz,size=events)\n",
    "        xlist = normal(0,dx,size=events)\n",
    "        ylist = normal(0,dy,size=events)\n",
    "        \n",
    "        if plane == 'xz':\n",
    "            return xlist,zlist\n",
    "        else:\n",
    "            if events is None:\n",
    "                return xlist[0],ylist[0],zlist[0]\n",
    "            return xlist,ylist,zlist\n",
    "    \n",
    "    def vdist(self,events):\n",
    "        \"\"\" maxwell boltzmann speeds \"\"\"\n",
    "        umax = self.umax\n",
    "        atoms = ensemble(self.T)\n",
    "        \n",
    "        vlist = atoms.sampling_maxboltzv(events,[0,2],self.m) # speeds\n",
    "\n",
    "        vxlist = empty(events)\n",
    "        vylist = empty(events)\n",
    "        vzlist = empty(events)\n",
    "        \n",
    "        for i in range(events):\n",
    "            ex = 2*rand()-1\n",
    "            ey = 2*rand()-1\n",
    "            ez = 2*rand()-1\n",
    "            v = vlist[i]\n",
    "            A = sqrt(ex**2+ey**2+ez**2)\n",
    "            vxlist[i] = ex*v/A\n",
    "            vylist[i] = ey*v/A\n",
    "            vzlist[i] = ez*v/A\n",
    "\n",
    "        return vxlist,vylist,vzlist\n",
    "    \n",
    "    def distplot(self,events, atoms=True, sx=1.5, sz=1.5, color=\"bone\"):\n",
    "        \"\"\" show atoms in FORT in z = 0 plane before drop and recapture \"\"\"\n",
    "        mu = 1e-6\n",
    "        wx = self.wx\n",
    "        zR = self.zR\n",
    "        print(f\"zr={zR/mu:.2f} [um], wx={wx/mu:.2f} [um]\")\n",
    "        \n",
    "        xlist,ylist = self.xdist(events,plane='xz') # positions in [m]\n",
    "        \n",
    "        xpts = linspace(-sx*wx,sx*wx,100)\n",
    "        zpts = linspace(-sz*zR,sz*zR,100)\n",
    "        xx,zz = meshgrid(xpts,zpts)\n",
    "        fpts = -self.U(xx,0,zz) # the fort intensity eval'd on the meshgrid\n",
    "        \n",
    "        cmap = plt.cm.get_cmap(color)\n",
    "        \n",
    "        plt.contourf(xpts/mu,zpts/mu,fpts, cmap=cmap)\n",
    "        if atoms is True: # otherwise, just a dipole trap plot  \n",
    "            plt.scatter(xlist/mu,ylist/mu,color='red')\n",
    "        plt.xlabel(\"x\")\n",
    "        plt.ylabel(\"z\")\n",
    "#         plt.axes().set_aspect('equal')\n",
    "        plt.show()"
   ]
  },
  {
   "cell_type": "code",
   "execution_count": 10,
   "id": "177a7261",
   "metadata": {
    "scrolled": false
   },
   "outputs": [
    {
     "name": "stdout",
     "output_type": "stream",
     "text": [
      "zr=3888109.72 [um], wx=1000000.00 [um]\n"
     ]
    },
    {
     "data": {
      "image/png": "[encoded data removed]",
      "text/plain": [
       "<Figure size 432x288 with 1 Axes>"
      ]
     },
     "metadata": {
      "needs_background": "light"
     },
     "output_type": "display_data"
    }
   ],
   "source": [
    "w0 = 1e-6 # 1/e electric field Gaussian waist [um]\n",
    "T_trap = 5e-4 # energy depth [K]\n",
    "T_atom = 2e-5\n",
    "lmbda_trap = .808e-6 # [um]\n",
    "m = mRb\n",
    "\n",
    "# my dipole trap object for getting atom dists\n",
    "trap = projected_dark_trap(lmbda_trap,w0,T_trap,T_atom,m)\n",
    "trap.distplot(1000)"
   ]
  },
  {
   "cell_type": "code",
   "execution_count": 9,
   "id": "1d204ccd",
   "metadata": {
    "scrolled": false
   },
   "outputs": [
    {
     "data": {
      "text/plain": [
       "<matplotlib.legend.Legend at 0x1694dc746d0>"
      ]
     },
     "execution_count": 9,
     "metadata": {},
     "output_type": "execute_result"
    },
    {
     "data": {
      "image/png": "[encoded data removed]",
      "text/plain": [
       "<Figure size 432x288 with 2 Axes>"
      ]
     },
     "metadata": {
      "needs_background": "light"
     },
     "output_type": "display_data"
    }
   ],
   "source": [
    "# forces in x,y,z - \"normalized units\"\n",
    "fx,fy,fz = trap.Uforce()\n",
    "\n",
    "xpts = ypts = zpts = linspace(-4*w0,4*w0,50)\n",
    "# zpts = linspace(-100*trap.zR,100*trap.zR,50)\n",
    "\n",
    "fig,ax = plt.subplots()\n",
    "ax.plot(xpts,fx(xpts,0,0),'--',label='x')\n",
    "ax.plot(ypts,fy(0,ypts,0),'o',label='y')\n",
    "ax.set_ylabel(\"x,y force\",c='orangered')\n",
    "ax2 = ax.twinx()\n",
    "ax2.plot(zpts,fz(0,0,zpts),label='z',c='blue')\n",
    "# ax.plot(zpts,fz(0,0,zpts),label='z',c='blue')\n",
    "\n",
    "ax2.set_ylabel(\"z force\",c='blue')\n",
    "plt.legend()"
   ]
  },
  {
   "cell_type": "code",
   "execution_count": 6,
   "id": "728cfb70",
   "metadata": {},
   "outputs": [
    {
     "data": {
      "text/plain": [
       "<matplotlib.legend.Legend at 0x1693c7b8310>"
      ]
     },
     "execution_count": 6,
     "metadata": {},
     "output_type": "execute_result"
    },
    {
     "data": {
      "image/png": "[encoded data removed]",
      "text/plain": [
       "<Figure size 432x288 with 1 Axes>"
      ]
     },
     "metadata": {
      "needs_background": "light"
     },
     "output_type": "display_data"
    }
   ],
   "source": [
    "# forces in x,y,z - \"normalized units\"\n",
    "\n",
    "lmbda_trap = w0 = 1\n",
    "T_trap = 1/kB\n",
    "trap = projected_dark_trap(lmbda_trap,w0,T_trap,T_atom,m)\n",
    "\n",
    "fx,fy,fz = trap.Uforce()\n",
    "\n",
    "xpts = ypts = zpts = linspace(-2*w0,2*w0,50)\n",
    "plt.plot(xpts,fx(xpts,0,0),'--',label='x')\n",
    "plt.plot(ypts,fy(0,ypts,0),'o',label='y')\n",
    "plt.plot(zpts,fz(0,0,zpts),label='z')\n",
    "plt.legend()"
   ]
  },
  {
   "cell_type": "code",
   "execution_count": null,
   "id": "ef85dc7e",
   "metadata": {},
   "outputs": [],
   "source": []
  }
 ],
 "metadata": {
  "kernelspec": {
   "display_name": "Python 3 (ipykernel)",
   "language": "python",
   "name": "python3"
  },
  "language_info": {
   "codemirror_mode": {
    "name": "ipython",
    "version": 3
   },
   "file_extension": ".py",
   "mimetype": "text/x-python",
   "name": "python",
   "nbconvert_exporter": "python",
   "pygments_lexer": "ipython3",
   "version": "3.9.6"
  }
 },
 "nbformat": 4,
 "nbformat_minor": 5
}
