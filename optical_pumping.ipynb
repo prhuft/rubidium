{
 "cells": [
  {
   "cell_type": "code",
   "execution_count": 1,
   "metadata": {},
   "outputs": [],
   "source": [
    "# %matplotlib notebook\n",
    "from matplotlib import pyplot as plt\n",
    "import numpy as np\n",
    "from numpy import linspace,sin,cos,log,exp\n",
    "import math as m\n",
    "from math import sqrt,pi,e,exp\n",
    "from random import random as rand\n",
    "from scipy.integrate import solve_ivp"
   ]
  },
  {
   "cell_type": "code",
   "execution_count": 2,
   "metadata": {},
   "outputs": [],
   "source": [
    "## physical constants\n",
    "ee = 1.60217662e-19 # [C]\n",
    "a0 = 5.22e-11 # [m]\n",
    "hbar = 1.0545718e-34 # [J s]\n",
    "c = 299792458 # [m/s]\n",
    "e0 = 8.85418782e-12 # [m^-3 kg^-1 s^4 A^2]\n",
    "u0 = 1.25663706e-6 # [m kg s^-2 A^-2]\n",
    "me = 9.10938356e-31 # [kg]\n",
    "uB = 9.274e-24 # [J/T]\n",
    "kB = 1.3807e-23 # [J/K]\n",
    "\n",
    "## Rb87 constants\n",
    "mRb = 1.4192261e-25 # [kg]\n",
    "I = 3/2 # nuclear spin\n",
    "nu_hf = 6.83468261090429 # [GHz]\n",
    "gamma_D2 =2*pi*6.0659e6 ; # [rad/s]\n",
    "lambda_D2 = 7.8e-7 # [m]\n",
    "omega_D2 = 2*pi*c/lambda_D2\n",
    "gS = 2.00023\n",
    "gL = 1 # for ground state?\n",
    "gI = -0.000995\n",
    "Isat = (5/7)*(hbar*gamma_D2*omega_D2**3\n",
    "             /(12*pi*c**2)) \n",
    "    # saturation intensity for D2 cooling W/m^2\n",
    "\n",
    "## reduced matrix elements from Steck\n",
    "D2_MatElem = 3.584e-29 # <J=1/2||er||J'=3/2> [C*m]\n",
    "D1_MatElem = 2.537e-29 # <J=1/2||er||J'=1/2> [C*m]"
   ]
  },
  {
   "cell_type": "code",
   "execution_count": null,
   "metadata": {},
   "outputs": [],
   "source": []
  }
 ],
 "metadata": {
  "kernelspec": {
   "display_name": "Python 3",
   "language": "python",
   "name": "python3"
  },
  "language_info": {
   "codemirror_mode": {
    "name": "ipython",
    "version": 3
   },
   "file_extension": ".py",
   "mimetype": "text/x-python",
   "name": "python",
   "nbconvert_exporter": "python",
   "pygments_lexer": "ipython3",
   "version": "3.7.3"
  }
 },
 "nbformat": 4,
 "nbformat_minor": 2
}
