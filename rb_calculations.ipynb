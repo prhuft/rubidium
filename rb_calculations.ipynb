{
 "cells": [
  {
   "cell_type": "markdown",
   "metadata": {},
   "source": [
    "Rb Calculations (formerly known as Matrix Elements)\n",
    "\n",
    "Preston Huft, May 2019.\n",
    "\n",
    "https://docs.sympy.org/latest/modules/physics/wigner.html\n",
    "\n",
    "sympy.physics.wigner.clebsch_gordan(j_1, j_2, j_3, m_1, m_2, m_3)[source], ⟨j1m1j2m2|j3m3⟩.\n",
    "sympy.physics.wigner.wigner_3j(j_1, j_2, j_3, m_1, m_2, m_3)[source]\n",
    "sympy.physics.wigner.wigner_6j(j_1, j_2, j_3, j_4, j_5, j_6, prec=None)[source]"
   ]
  },
  {
   "cell_type": "code",
   "execution_count": 351,
   "metadata": {},
   "outputs": [],
   "source": [
    "#%matplotlib notebook\n",
    "from matplotlib import pyplot as plt\n",
    "from sympy.physics.wigner import wigner_6j,wigner_3j,clebsch_gordan\n",
    "from sympy import symbols,N\n",
    "from sympy import MatrixSymbol,MatAdd,MatMul,Identity as eye,Matrix,zeros\n",
    "from sympy.utilities.iterables import flatten\n",
    "import numpy as np\n",
    "from numpy import transpose,inf\n",
    "from numpy.linalg import eig\n",
    "import math as m\n",
    "from math import sqrt,pi"
   ]
  },
  {
   "cell_type": "code",
   "execution_count": 264,
   "metadata": {},
   "outputs": [],
   "source": [
    "## physical constants\n",
    "ee = 1.60217662e-19 # [C]\n",
    "a0 = 5.22e-11 # [m]\n",
    "hbar = 1.0545718e-34 # [J s]\n",
    "c = 299792458 # [m/s]\n",
    "e0 = 8.85418782e-12 # [m^-3 kg^-1 s^4 A^2]\n",
    "u0 = 1.25663706e-6 # [m kg s^-2 A^-2]\n",
    "me = 9.10938356e-31 # [kg]\n",
    "uB = 9.274e-24 # [J/T]\n",
    "\n",
    "## other constants\n",
    "I = 3/2 # nuclear spin\n",
    "\n",
    "## reduced matrix elements from Steck\n",
    "D2_MatElem = 3.584e-29 # <J=1/2||er||J'=3/2> [C*m]\n",
    "D1_MatElem = 2.537e-29 # <J=1/2||er||J'=1/2> [C*m]\n",
    "\n",
    "def hf_matrix_elem(F,mF,J,q,FF,mFF,JJ,I,RME=None):\n",
    "    \"\"\" Returns the matrix element <F,mF,J|T_q|F',mF',J'>. \n",
    "    \n",
    "        RME is the reduced matrix element (just a number), which can be calculated\n",
    "        externally and passed in to be a multiplier. If RME=None, the \n",
    "        matrix element is in units of [RME].\n",
    "        \n",
    "        I is the nuclear spin of the atom.\n",
    "    \"\"\"\n",
    "\n",
    "    rme = 1\n",
    "    if RME!=None:\n",
    "        rme = RME\n",
    "\n",
    "    ## From Mark's notes, eqs. A-50,51\n",
    "    mat_elem = rme*pow(-1,F+JJ+1+I)*sqrt((2*F+1)*(2*JJ+1)) \\\n",
    "                *wigner_6j(J,I,F,FF,1,JJ) \\\n",
    "                *clebsch_gordan(1,F,FF,q,mF,mFF)\n",
    "    \n",
    "    return mat_elem\n",
    "\n",
    "def eff_rabi(O,D):\n",
    "    \"\"\" the effective rabi frequency, given a rabi freq O, and \n",
    "        detuning D from the transition frequency\"\"\"\n",
    "    return sqrt(O**2+D**2)\n",
    "\n",
    "def jmbasis(jlist):\n",
    "    \"\"\" returns a numpy array of basis vectors {|J,mJ>} given a list of \n",
    "        J vals\"\"\"\n",
    "    basis = np.empty(sum([2*j+1 for j in jlist]),list)\n",
    "    i = 0\n",
    "    for j in jlist:\n",
    "        for m in range(-j,j+1):\n",
    "            basis[i] = [j,m]\n",
    "            i+=1 \n",
    "    return basis\n",
    "\n",
    "def cc(z):\n",
    "    return np.conj(z)\n",
    "\n",
    "def radToTHz(w):\n",
    "    return w/(2*pi*1e12)\n",
    "\n",
    "def radToGHz(w):\n",
    "    return w/(2*pi*1e9)\n",
    "\n",
    "def radToMhz(w):\n",
    "    return w/(2*pi*1e6)\n",
    "\n",
    "def radTokHz(w):\n",
    "    return w/(2*pi*1e3)\n",
    "\n",
    "def JToeV(u):\n",
    "    global ee\n",
    "    return u/ee\n",
    "\n",
    "def eVToJ(u):\n",
    "    global ee\n",
    "    return u*ee\n",
    "\n",
    "def GHzToeV(nu):\n",
    "    global hbar\n",
    "    return JToeV(2*pi*hbar*nu*1e9)\n",
    "\n",
    "def eVToGHz(u):\n",
    "    global hbar\n",
    "    return eVToJ(u)/(2*pi*hbar*1e9)\n",
    "\n",
    "\n",
    "# def alpha(w_ab,w,RME,I):\n",
    "#     \"\"\" the polarizability of a two-level atom in an AC electric field\n",
    "#     \"\"\"\n",
    "#     return "
   ]
  },
  {
   "cell_type": "code",
   "execution_count": 179,
   "metadata": {},
   "outputs": [
    {
     "name": "stdout",
     "output_type": "stream",
     "text": [
      "Two-photon Rabi frequency = 2*pi*284.24 kHz\n"
     ]
    }
   ],
   "source": [
    "###################################################################\n",
    "# calculate 2 photon Rabi frequency for the ground state hyperfine \n",
    "# Raman transition\n",
    "###################################################################\n",
    "\n",
    "P = 3.5e-6 # [W] light power at experiment cell\n",
    "a = 6e-6 # [m]\n",
    "b = 8e-6 # [m], in y direction\n",
    "A = a*b*pi # area at beam waist \n",
    "E0 = sqrt(4*P/(c*e0*A)) # the electric field amplitude\n",
    "d = 2*pi*4.5e10 # [Hz] Single photon detuning\n",
    "\n",
    "#       hf_matrix_elem(F,mF,J,q,FF,mFF,JJ,I,RME=None):\n",
    "O1 = E0*hf_matrix_elem(2,0,1/2,1,2,1,3/2,I,D2_MatElem)/hbar\n",
    "O2 = E0*hf_matrix_elem(1,0,1/2,1,2,1,3/2,I,D2_MatElem)/hbar\n",
    "\n",
    "# Ignoring a.c. stark shifts, etc:\n",
    "\n",
    "# O1 /= 1e9 # [GHz]\n",
    "# O2 /= 1e9 #\n",
    "# print(N(O1),N(O2))\n",
    "\n",
    "O = N(abs(O1*O2/(2*d))/1e3)/(2*pi) # [kHz]\n",
    "print(f\"Two-photon Rabi frequency = 2*pi*{O:.2f} kHz\")"
   ]
  },
  {
   "cell_type": "code",
   "execution_count": 180,
   "metadata": {},
   "outputs": [
    {
     "name": "stdout",
     "output_type": "stream",
     "text": [
      "-1.79200000000000e-29 1.79200000000000e-29\n"
     ]
    }
   ],
   "source": [
    "## for the raman pulse notebook\n",
    "o1 = hf_matrix_elem(2,0,1/2,1,2,1,3/2,I,D2_MatElem)\n",
    "o2 = hf_matrix_elem(1,0,1/2,1,2,1,3/2,I,D2_MatElem)\n",
    "print(N(o1),N(o2))"
   ]
  },
  {
   "cell_type": "code",
   "execution_count": 181,
   "metadata": {},
   "outputs": [],
   "source": [
    "###################################################################\n",
    "# Differential AC Stark Shifts\n",
    "###################################################################\n",
    "\n",
    "def scalar_ls(w_ab,w,I,RME=None):\n",
    "    \"\"\" the scalar AC Stark shift, or light shift, seen by a two \n",
    "        level atom in an oscillating electric field.\n",
    "        w_ab is the freq difference between a,b\n",
    "        w is the applied light frequency\n",
    "        I is the intensity of the light \n",
    "        RME is the reduced matrix element <J||r||J'>. Careful! This\n",
    "        does not include the electron charge.\n",
    "    \"\"\"\n",
    "    \n",
    "    if RME is None:\n",
    "        RME = 1 # the light shift is now in units of the RME\n",
    "    \n",
    "    return -(ee**2)*w_ab*cc(RME)*RME*I/(2*hbar*(w_ab**2-w**2))"
   ]
  },
  {
   "cell_type": "code",
   "execution_count": 182,
   "metadata": {},
   "outputs": [],
   "source": [
    "# The D2 line differential light shift of Rb87 in a far-off-resonance\n",
    "# trap (FORT)\n",
    "\n",
    "w0 = 2*pi*384.2304844685e12 # D2 line transition frequency\n",
    "wFORT = 2*pi*c/(1064e-9)\n",
    "\n",
    "waist = 2.5e-6 # gaussian waist of the FORT\n",
    "P = .5 # [W] approx at center site (e.g. during PGC phase)\n",
    "Int = P/(pi*waist**2)"
   ]
  },
  {
   "cell_type": "code",
   "execution_count": 183,
   "metadata": {},
   "outputs": [
    {
     "data": {
      "text/plain": [
       "281.7598289473684"
      ]
     },
     "execution_count": 183,
     "metadata": {},
     "output_type": "execute_result"
    }
   ],
   "source": [
    "radToTHz(wFORT)"
   ]
  },
  {
   "cell_type": "code",
   "execution_count": 408,
   "metadata": {
    "scrolled": true
   },
   "outputs": [
    {
     "ename": "MatrixError",
     "evalue": "Could not compute eigenvalues for Matrix([[215720020756649*sqrt(6)*B_z*(-6124428585259*sqrt(5)/25000000000000 + 578042764421457*sqrt(2)/1000000000000000000)/5000000000000000000 + 141329879333303/5000000000000000000, 0, 0, 0, 0, 0, 0, 0], [0, 215720020756649*sqrt(6)*B_z*(-6124428585259*sqrt(5)/25000000000000 + 578042764421457*sqrt(2)/1000000000000000000)/10000000000000000000 + 141329879333303/5000000000000000000, 0, 0, 0, 129432012453989*sqrt(30)*B_z*(642269738246063*sqrt(30)/10000000000000000000 + 204147619508633*sqrt(3)/500000000000000)/10000000000000000000, 0, 0], [0, 0, 141329879333303/5000000000000000000, 0, 0, 0, 258864024907979*sqrt(10)*B_z*(642269738246063*sqrt(30)/10000000000000000000 + 204147619508633*sqrt(3)/500000000000000)/10000000000000000000, 0], [0, 0, 0, -215720020756649*sqrt(6)*B_z*(-6124428585259*sqrt(5)/25000000000000 + 578042764421457*sqrt(2)/1000000000000000000)/10000000000000000000 + 141329879333303/5000000000000000000, 0, 0, 0, 129432012453989*sqrt(30)*B_z*(642269738246063*sqrt(30)/10000000000000000000 + 204147619508633*sqrt(3)/500000000000000)/10000000000000000000], [0, 0, 0, 0, -215720020756649*sqrt(6)*B_z*(-6124428585259*sqrt(5)/25000000000000 + 578042764421457*sqrt(2)/1000000000000000000)/5000000000000000000 + 141329879333303/5000000000000000000, 0, 0, 0], [0, -125322007175103*sqrt(2)*B_z*(-204147619508633*sqrt(3)/500000000000000 - 642269738246063*sqrt(30)/10000000000000000000)/2500000000000000000, 0, 0, 0, 125322007175103*sqrt(2)*B_z*(40141858640379*sqrt(10)/125000000000000000 + 204147619508633/500000000000000)/2500000000000000000, 0, 0], [0, 0, -41774002391701*sqrt(6)*B_z*(-204147619508633*sqrt(3)/500000000000000 - 642269738246063*sqrt(30)/10000000000000000000)/1250000000000000000, 0, 0, 0, 0, 0], [0, 0, 0, -125322007175103*sqrt(2)*B_z*(-204147619508633*sqrt(3)/500000000000000 - 642269738246063*sqrt(30)/10000000000000000000)/2500000000000000000, 0, 0, 0, -125322007175103*sqrt(2)*B_z*(40141858640379*sqrt(10)/125000000000000000 + 204147619508633/500000000000000)/2500000000000000000]])",
     "output_type": "error",
     "traceback": [
      "\u001b[1;31m---------------------------------------------------------------------------\u001b[0m",
      "\u001b[1;31mMatrixError\u001b[0m                               Traceback (most recent call last)",
      "\u001b[1;32m<ipython-input-408-99bc9b18683a>\u001b[0m in \u001b[0;36m<module>\u001b[1;34m()\u001b[0m\n\u001b[0;32m     88\u001b[0m \u001b[1;33m\u001b[0m\u001b[0m\n\u001b[0;32m     89\u001b[0m \u001b[1;31m# Symbolically diagonalize the full Hamiltonian\u001b[0m\u001b[1;33m\u001b[0m\u001b[1;33m\u001b[0m\u001b[0m\n\u001b[1;32m---> 90\u001b[1;33m \u001b[0mU\u001b[0m\u001b[1;33m,\u001b[0m\u001b[0mH\u001b[0m \u001b[1;33m=\u001b[0m \u001b[0mMatrix\u001b[0m\u001b[1;33m(\u001b[0m\u001b[0mH_a\u001b[0m \u001b[1;33m+\u001b[0m \u001b[0mH_Zz\u001b[0m\u001b[1;33m)\u001b[0m\u001b[1;33m.\u001b[0m\u001b[0mdiagonalize\u001b[0m\u001b[1;33m(\u001b[0m\u001b[1;33m)\u001b[0m\u001b[1;33m\u001b[0m\u001b[0m\n\u001b[0m\u001b[0;32m     91\u001b[0m \u001b[1;33m\u001b[0m\u001b[0m\n\u001b[0;32m     92\u001b[0m \u001b[1;31m# Array to store the Zeeman shifts by hf state\u001b[0m\u001b[1;33m\u001b[0m\u001b[1;33m\u001b[0m\u001b[0m\n",
      "\u001b[1;32mc:\\program files (x86)\\lib\\site-packages\\sympy\\matrices\\matrices.py\u001b[0m in \u001b[0;36mdiagonalize\u001b[1;34m(self, reals_only, sort, normalize)\u001b[0m\n\u001b[0;32m   1145\u001b[0m             \u001b[1;32mraise\u001b[0m \u001b[0mNonSquareMatrixError\u001b[0m\u001b[1;33m(\u001b[0m\u001b[1;33m)\u001b[0m\u001b[1;33m\u001b[0m\u001b[0m\n\u001b[0;32m   1146\u001b[0m \u001b[1;33m\u001b[0m\u001b[0m\n\u001b[1;32m-> 1147\u001b[1;33m         \u001b[1;32mif\u001b[0m \u001b[1;32mnot\u001b[0m \u001b[0mself\u001b[0m\u001b[1;33m.\u001b[0m\u001b[0mis_diagonalizable\u001b[0m\u001b[1;33m(\u001b[0m\u001b[0mreals_only\u001b[0m\u001b[1;33m=\u001b[0m\u001b[0mreals_only\u001b[0m\u001b[1;33m)\u001b[0m\u001b[1;33m:\u001b[0m\u001b[1;33m\u001b[0m\u001b[0m\n\u001b[0m\u001b[0;32m   1148\u001b[0m             \u001b[1;32mraise\u001b[0m \u001b[0mMatrixError\u001b[0m\u001b[1;33m(\u001b[0m\u001b[1;34m\"Matrix is not diagonalizable\"\u001b[0m\u001b[1;33m)\u001b[0m\u001b[1;33m\u001b[0m\u001b[0m\n\u001b[0;32m   1149\u001b[0m \u001b[1;33m\u001b[0m\u001b[0m\n",
      "\u001b[1;32mc:\\program files (x86)\\lib\\site-packages\\sympy\\matrices\\matrices.py\u001b[0m in \u001b[0;36mis_diagonalizable\u001b[1;34m(self, reals_only, **kwargs)\u001b[0m\n\u001b[0;32m   1453\u001b[0m             \u001b[1;32mreturn\u001b[0m \u001b[1;32mTrue\u001b[0m\u001b[1;33m\u001b[0m\u001b[0m\n\u001b[0;32m   1454\u001b[0m \u001b[1;33m\u001b[0m\u001b[0m\n\u001b[1;32m-> 1455\u001b[1;33m         \u001b[0meigenvecs\u001b[0m \u001b[1;33m=\u001b[0m \u001b[0mself\u001b[0m\u001b[1;33m.\u001b[0m\u001b[0meigenvects\u001b[0m\u001b[1;33m(\u001b[0m\u001b[0msimplify\u001b[0m\u001b[1;33m=\u001b[0m\u001b[1;32mTrue\u001b[0m\u001b[1;33m)\u001b[0m\u001b[1;33m\u001b[0m\u001b[0m\n\u001b[0m\u001b[0;32m   1456\u001b[0m \u001b[1;33m\u001b[0m\u001b[0m\n\u001b[0;32m   1457\u001b[0m         \u001b[0mret\u001b[0m \u001b[1;33m=\u001b[0m \u001b[1;32mTrue\u001b[0m\u001b[1;33m\u001b[0m\u001b[0m\n",
      "\u001b[1;32mc:\\program files (x86)\\lib\\site-packages\\sympy\\matrices\\matrices.py\u001b[0m in \u001b[0;36meigenvects\u001b[1;34m(self, error_when_incomplete, iszerofunc, **flags)\u001b[0m\n\u001b[0;32m   1368\u001b[0m         eigenvals = mat.eigenvals(rational=False,\n\u001b[0;32m   1369\u001b[0m                                   \u001b[0merror_when_incomplete\u001b[0m\u001b[1;33m=\u001b[0m\u001b[0merror_when_incomplete\u001b[0m\u001b[1;33m,\u001b[0m\u001b[1;33m\u001b[0m\u001b[0m\n\u001b[1;32m-> 1370\u001b[1;33m                                   **flags)\n\u001b[0m\u001b[0;32m   1371\u001b[0m         ret = [(val, mult, eigenspace(val)) for val, mult in\n\u001b[0;32m   1372\u001b[0m                     sorted(eigenvals.items(), key=default_sort_key)]\n",
      "\u001b[1;32mc:\\program files (x86)\\lib\\site-packages\\sympy\\matrices\\matrices.py\u001b[0m in \u001b[0;36meigenvals\u001b[1;34m(self, error_when_incomplete, **flags)\u001b[0m\n\u001b[0;32m   1263\u001b[0m         if error_when_incomplete and (sum(eigs.values()) if\n\u001b[0;32m   1264\u001b[0m             isinstance(eigs, dict) else len(eigs)) != self.cols:\n\u001b[1;32m-> 1265\u001b[1;33m             \u001b[1;32mraise\u001b[0m \u001b[0mMatrixError\u001b[0m\u001b[1;33m(\u001b[0m\u001b[1;34m\"Could not compute eigenvalues for {}\"\u001b[0m\u001b[1;33m.\u001b[0m\u001b[0mformat\u001b[0m\u001b[1;33m(\u001b[0m\u001b[0mself\u001b[0m\u001b[1;33m)\u001b[0m\u001b[1;33m)\u001b[0m\u001b[1;33m\u001b[0m\u001b[0m\n\u001b[0m\u001b[0;32m   1266\u001b[0m \u001b[1;33m\u001b[0m\u001b[0m\n\u001b[0;32m   1267\u001b[0m         \u001b[1;31m# Since 'simplify' flag is unsupported in roots()\u001b[0m\u001b[1;33m\u001b[0m\u001b[1;33m\u001b[0m\u001b[0m\n",
      "\u001b[1;31mMatrixError\u001b[0m: Could not compute eigenvalues for Matrix([[215720020756649*sqrt(6)*B_z*(-6124428585259*sqrt(5)/25000000000000 + 578042764421457*sqrt(2)/1000000000000000000)/5000000000000000000 + 141329879333303/5000000000000000000, 0, 0, 0, 0, 0, 0, 0], [0, 215720020756649*sqrt(6)*B_z*(-6124428585259*sqrt(5)/25000000000000 + 578042764421457*sqrt(2)/1000000000000000000)/10000000000000000000 + 141329879333303/5000000000000000000, 0, 0, 0, 129432012453989*sqrt(30)*B_z*(642269738246063*sqrt(30)/10000000000000000000 + 204147619508633*sqrt(3)/500000000000000)/10000000000000000000, 0, 0], [0, 0, 141329879333303/5000000000000000000, 0, 0, 0, 258864024907979*sqrt(10)*B_z*(642269738246063*sqrt(30)/10000000000000000000 + 204147619508633*sqrt(3)/500000000000000)/10000000000000000000, 0], [0, 0, 0, -215720020756649*sqrt(6)*B_z*(-6124428585259*sqrt(5)/25000000000000 + 578042764421457*sqrt(2)/1000000000000000000)/10000000000000000000 + 141329879333303/5000000000000000000, 0, 0, 0, 129432012453989*sqrt(30)*B_z*(642269738246063*sqrt(30)/10000000000000000000 + 204147619508633*sqrt(3)/500000000000000)/10000000000000000000], [0, 0, 0, 0, -215720020756649*sqrt(6)*B_z*(-6124428585259*sqrt(5)/25000000000000 + 578042764421457*sqrt(2)/1000000000000000000)/5000000000000000000 + 141329879333303/5000000000000000000, 0, 0, 0], [0, -125322007175103*sqrt(2)*B_z*(-204147619508633*sqrt(3)/500000000000000 - 642269738246063*sqrt(30)/10000000000000000000)/2500000000000000000, 0, 0, 0, 125322007175103*sqrt(2)*B_z*(40141858640379*sqrt(10)/125000000000000000 + 204147619508633/500000000000000)/2500000000000000000, 0, 0], [0, 0, -41774002391701*sqrt(6)*B_z*(-204147619508633*sqrt(3)/500000000000000 - 642269738246063*sqrt(30)/10000000000000000000)/1250000000000000000, 0, 0, 0, 0, 0], [0, 0, 0, -125322007175103*sqrt(2)*B_z*(-204147619508633*sqrt(3)/500000000000000 - 642269738246063*sqrt(30)/10000000000000000000)/2500000000000000000, 0, 0, 0, -125322007175103*sqrt(2)*B_z*(40141858640379*sqrt(10)/125000000000000000 + 204147619508633/500000000000000)/2500000000000000000]])"
     ]
    }
   ],
   "source": [
    "###################################################################\n",
    "# HF Zeeman Shifts\n",
    "###################################################################\n",
    "\n",
    "# Chris mentioned the quadrupole term.. I think I/Mark dropped that \n",
    "\n",
    "\n",
    "def gF_fn(F,J,I,gJ,gI):\n",
    "    \n",
    "    return (gJ*(F*(F+1)+J*(J+1)-I*(I+1))\n",
    "            +gI*(F*(F+1)-J*(J+1)+I*(I+1)))/(2*F*(F+1))\n",
    "\n",
    "def gJ_fn(J,L,S,gL,gS):\n",
    "    \n",
    "    return (gL*(J*(J+1)+L*(L+1)-S*(S+1)) \n",
    "            +gS*(J*(J+1)-L*(L+1)+S*(S+1)))/(2*J*(J+1))\n",
    "\n",
    "# def hf_zeeman(Bz,mF,gF):\n",
    "#     \"\"\" Mark's notes, eq 4.21 gives <aJIFM|HZz|aJIFM> = uB*Bz*gF*M \"\"\"\n",
    "#     global uB\n",
    "#     return uB*Bz*gF*mF\n",
    "\n",
    "def hf_zeeman(states,Bz,gJ,gI):\n",
    "    \"\"\"See Mark's notes for the general hf Zeeman matrix elements\"\"\"\n",
    "    global uB\n",
    "    UB = uB*Bz # magnetic field potential energy\n",
    "    \n",
    "    I,J,F,mF,FF,mFF = states\n",
    "    q = 0 # assume B = Bz for now\n",
    "    \n",
    "    elem = 0\n",
    "    if mF == mFF:\n",
    "        elem += clebsch_gordan(F,1,FF,mF,q,mFF) \\\n",
    "                *sqrt(2*F+1)*(-1)**(1+J+I) \\\n",
    "                *(gJ*(-1)**F*sqrt(J*(J+1)*(2*J+1)) \\\n",
    "                *wigner_6j(J,I,F,FF,1,J) \\\n",
    "                +gI*(-1)**FF*sqrt(I*(I+1)*(2*I+1)) \\\n",
    "                *wigner_6j(I,J,F,FF,1,I))\n",
    "    \n",
    "    return UB*elem\n",
    "\n",
    "# Rb87 ground state 5s1/2:\n",
    "L = 0; S = 1/2; J = 1/2;\n",
    "Flist = [2,1] # F = I + J\n",
    "nu_hf = 6.83468261090429 # [GHz]\n",
    "E_hf = GHzToeV(nu_hf)\n",
    "\n",
    "# Rb 87 Lande g factors\n",
    "gS = 2.00023; gL = 1; gI = -0.000995\n",
    "gJ = gJ_fn(J,L,S,gL,gS)\n",
    "\n",
    "Bzlist = np.linspace(0,.50,8)\n",
    "\n",
    "# ## initialize the figure\n",
    "# fig = plt.figure()\n",
    "# ax = fig.add_subplot(111)\n",
    "\n",
    "## First order calculation for low B field\n",
    "# for F in Flist:\n",
    "#     gF = gF_fn(F,J,i,gj,gI)\n",
    "#     zshifts = np.empty(len(Bzlist))\n",
    "#     for mF in range(-F,F+1): # the hyperfine states\n",
    "#         for i,Bz in enumerate(Bzlist): \n",
    "#             zshifts[i] = JToeV(hf_zeeman(Bz,mF,gF))\n",
    "#         ax.plot(Bzlist,zshifts,label=f'|{F},{mF}>')\n",
    "# ax.set_title(\"Rb87 |5s1/2> Hyperfine Zeeman Shifts (O(1))\")\n",
    "\n",
    "## General calculation for different field strength regimes\n",
    "\n",
    "# Rb Hamiltonian for HF ground states in {|F,mF>} basis\n",
    "H_a = E_hf*np.array([[1,0,0,0,0,0,0,0],\n",
    "                    [0,1,0,0,0,0,0,0],\n",
    "                    [0,0,1,0,0,0,0,0],\n",
    "                    [0,0,0,1,0,0,0,0],\n",
    "                    [0,0,0,0,1,0,0,0],\n",
    "                    [0,0,0,0,0,0,0,0],\n",
    "                    [0,0,0,0,0,0,0,0],\n",
    "                    [0,0,0,0,0,0,0,0]])\n",
    "\n",
    "# Zeeman Hamiltonian for B = Bz\n",
    "H_Zz = np.empty((8,8),object)\n",
    "basis = jmbasis(Flist)\n",
    "Bz = symbols('B_z')\n",
    "for i,state_i in enumerate(basis):\n",
    "        F,mF = state_i\n",
    "        for j,state_j in enumerate(basis):\n",
    "            FF,mFF = state_j\n",
    "            states = [I,J,F,mF,FF,mFF]\n",
    "            try:\n",
    "                H_Zz[i,j] = JToeV(hf_zeeman(states,Bz,gJ,gI))\n",
    "            except:\n",
    "                print(\"Failed: %s\" % states)\n",
    "\n",
    "# Symbolically diagonalize the full Hamiltonian -- \"can't compute eigvals for this matrix\" Try unit conversions later\n",
    "U,H = Matrix(H_a + H_Zz).diagonalize()\n",
    "evals = [H[i,i] for i range(0,8)]\n",
    "    \n",
    "# Store the Zeeman shifts by hf state for different B strengths\n",
    "zshifts = np.empty((len(Bzlist),len(basis)))\n",
    "\n",
    "\n",
    "# This way diagonalizes the numeric H each step of the way and scrambles the eval ordering\n",
    "# # Diagonalize the full Hamiltonian various B field strengths:\n",
    "# for k,Bz in enumerate(Bzlist):\n",
    "    \n",
    "#     # Build the Zeeman Hamiltonian\n",
    "#     for i,state_i in enumerate(basis):\n",
    "#         F,mF = state_i\n",
    "#         for j,state_j in enumerate(basis):\n",
    "#             FF,mFF = state_j\n",
    "#             states = [I,J,F,mF,FF,mFF]\n",
    "#             try:\n",
    "#                 H_Zz[i,j] = JToeV(hf_zeeman(states,Bz,gJ,gI))\n",
    "#             except:\n",
    "#                 print(\"Failed: %s\" % states)\n",
    "    \n",
    "#     # Diagonalize the full Hamiltonian\n",
    "#     H = H_a + H_Zz \n",
    "#     evals,evecs = eig(H)\n",
    "    \n",
    "#     zshifts[k] = np.array([eVToGHz(u) for u in evals])\n",
    "\n",
    "# zshifts = transpose(zshifts)\n",
    "    \n",
    "# # initialize the figure and plot\n",
    "# fig = plt.figure()\n",
    "# ax = fig.add_subplot(111)\n",
    "\n",
    "# # the curves are incorrect. hypothesis: the eig function does not consistently spit out\n",
    "# # states in the same order\n",
    "# for shift in zshifts:\n",
    "# #     ax.plot(Bzlist,shift)\n",
    "#     ax.scatter(Bzlist,shift)\n",
    "\n",
    "# ax.set_xlabel(\"B_z [T]\")\n",
    "# ax.set_ylabel(\"energy shift [GHz]\")\n",
    "# # ax.legend(loc='upper right')\n",
    "# plt.show()"
   ]
  },
  {
   "cell_type": "code",
   "execution_count": 406,
   "metadata": {},
   "outputs": [
    {
     "data": {
      "text/plain": [
       "array([[4.31440041513298e-5*sqrt(6)*B_z*(-0.24497714341036*sqrt(5) + 0.000578042764421457*sqrt(2)),\n",
       "        0, 0, 0, 0, 0, 0, 0],\n",
       "       [0,\n",
       "        2.15720020756649e-5*sqrt(6)*B_z*(-0.24497714341036*sqrt(5) + 0.000578042764421457*sqrt(2)),\n",
       "        0, 0, 0,\n",
       "        1.29432012453989e-5*sqrt(30)*B_z*(6.42269738246063e-5*sqrt(30) + 0.408295239017266*sqrt(3)),\n",
       "        0, 0],\n",
       "       [0, 0, 0, 0, 0, 0,\n",
       "        2.58864024907979e-5*sqrt(10)*B_z*(6.42269738246063e-5*sqrt(30) + 0.408295239017266*sqrt(3)),\n",
       "        0],\n",
       "       [0, 0, 0,\n",
       "        -2.15720020756649e-5*sqrt(6)*B_z*(-0.24497714341036*sqrt(5) + 0.000578042764421457*sqrt(2)),\n",
       "        0, 0, 0,\n",
       "        1.29432012453989e-5*sqrt(30)*B_z*(6.42269738246063e-5*sqrt(30) + 0.408295239017266*sqrt(3))],\n",
       "       [0, 0, 0, 0,\n",
       "        -4.31440041513298e-5*sqrt(6)*B_z*(-0.24497714341036*sqrt(5) + 0.000578042764421457*sqrt(2)),\n",
       "        0, 0, 0],\n",
       "       [0,\n",
       "        -5.01288028700412e-5*sqrt(2)*B_z*(-0.408295239017266*sqrt(3) - 6.42269738246063e-5*sqrt(30)),\n",
       "        0, 0, 0,\n",
       "        5.01288028700412e-5*sqrt(2)*B_z*(0.000321134869123032*sqrt(10) + 0.408295239017266),\n",
       "        0, 0],\n",
       "       [0, 0,\n",
       "        -3.34192019133608e-5*sqrt(6)*B_z*(-0.408295239017266*sqrt(3) - 6.42269738246063e-5*sqrt(30)),\n",
       "        0, 0, 0, 0, 0],\n",
       "       [0, 0, 0,\n",
       "        -5.01288028700412e-5*sqrt(2)*B_z*(-0.408295239017266*sqrt(3) - 6.42269738246063e-5*sqrt(30)),\n",
       "        0, 0, 0,\n",
       "        -5.01288028700412e-5*sqrt(2)*B_z*(0.000321134869123032*sqrt(10) + 0.408295239017266)]],\n",
       "      dtype=object)"
      ]
     },
     "execution_count": 406,
     "metadata": {},
     "output_type": "execute_result"
    }
   ],
   "source": [
    "H_Zz"
   ]
  },
  {
   "cell_type": "code",
   "execution_count": 68,
   "metadata": {},
   "outputs": [
    {
     "data": {
      "text/latex": [
       "$\\displaystyle 1.73291240376208$"
      ],
      "text/plain": [
       "1.73291240376208"
      ]
     },
     "execution_count": 68,
     "metadata": {},
     "output_type": "execute_result"
    }
   ],
   "source": [
    "# Test the Zeeman fn -- this agrees with Mark's result for i=3/2 alkalis\n",
    "J=1/2; F=2; mF=1; FF=1; mFF=1;\n",
    "states = [i,J,F,mF,FF,mFF]\n",
    "\n",
    "gS = 2.00023; gL = 1; gI = -0.000995\n",
    "gJ = gJ_fn(J,L,S,gL,gS)\n",
    "\n",
    "(4/gS)*N(hf_zeeman(states,1,gJ,gI))"
   ]
  },
  {
   "cell_type": "code",
   "execution_count": 359,
   "metadata": {},
   "outputs": [],
   "source": [
    "## this scheme breaks down when the energy curves cross, unless i also keep a running derivative\n",
    "def sort_by_dif(nvals,ovals):\n",
    "    \"\"\"Sorts list nvals by minimizing the difference with the list ovals.\"\"\"\n",
    "    nvals_cp = np.copy(nvals) # we'll sort the copy, not the original\n",
    "    for nval in nvals:\n",
    "#         minval = 0 # the value of nvals \n",
    "        mindex = prevmindif = inf # index of ovals when dif is minimum, prev lowest dif\n",
    "        for i,oval in enumerate(ovals):\n",
    "            dif = abs(nval-oval)\n",
    "            if dif < prevmindif:\n",
    "                prevmindif = dif\n",
    "                mindex = i\n",
    "        nvals_cp[mindex] = nval\n",
    "        \n",
    "    return nvals_cp"
   ]
  },
  {
   "cell_type": "code",
   "execution_count": 360,
   "metadata": {},
   "outputs": [
    {
     "data": {
      "text/plain": [
       "array([2, 1, 2])"
      ]
     },
     "execution_count": 360,
     "metadata": {},
     "output_type": "execute_result"
    }
   ],
   "source": [
    "a = [3,1,2]; b = [4,5,6]\n",
    "sort_by_dif(a,b)"
   ]
  },
  {
   "cell_type": "code",
   "execution_count": 346,
   "metadata": {},
   "outputs": [
    {
     "name": "stdout",
     "output_type": "stream",
     "text": [
      "0 1 4\n",
      "1 2 5\n",
      "2 3 6\n"
     ]
    },
    {
     "data": {
      "text/plain": [
       "[None, None, None]"
      ]
     },
     "execution_count": 346,
     "metadata": {},
     "output_type": "execute_result"
    }
   ],
   "source": [
    "a = [1,2,3]; b = [4,5,6]\n",
    "[print(i,x,y) for i,(x,y) in enumerate(zip(a,b))]"
   ]
  },
  {
   "cell_type": "code",
   "execution_count": 353,
   "metadata": {},
   "outputs": [
    {
     "data": {
      "text/plain": [
       "True"
      ]
     },
     "execution_count": 353,
     "metadata": {},
     "output_type": "execute_result"
    }
   ],
   "source": [
    "1 < inf"
   ]
  },
  {
   "cell_type": "code",
   "execution_count": null,
   "metadata": {},
   "outputs": [],
   "source": []
  },
  {
   "cell_type": "code",
   "execution_count": 364,
   "metadata": {},
   "outputs": [],
   "source": [
    "a,b = symbols('a b')\n",
    "x = np.array([a,b])"
   ]
  },
  {
   "cell_type": "code",
   "execution_count": 365,
   "metadata": {},
   "outputs": [
    {
     "data": {
      "text/plain": [
       "array([a, b], dtype=object)"
      ]
     },
     "execution_count": 365,
     "metadata": {},
     "output_type": "execute_result"
    }
   ],
   "source": [
    "x"
   ]
  },
  {
   "cell_type": "code",
   "execution_count": 366,
   "metadata": {},
   "outputs": [
    {
     "data": {
      "text/plain": [
       "array([2*a, 2*b], dtype=object)"
      ]
     },
     "execution_count": 366,
     "metadata": {},
     "output_type": "execute_result"
    }
   ],
   "source": [
    "x+x"
   ]
  },
  {
   "cell_type": "code",
   "execution_count": 374,
   "metadata": {},
   "outputs": [],
   "source": [
    "H = np.array([[0,a],[b,0]])"
   ]
  },
  {
   "cell_type": "code",
   "execution_count": 375,
   "metadata": {},
   "outputs": [],
   "source": [
    "Hmat = Matrix(H)"
   ]
  },
  {
   "cell_type": "code",
   "execution_count": 376,
   "metadata": {},
   "outputs": [
    {
     "data": {
      "text/latex": [
       "$\\displaystyle \\left[\\begin{matrix}0 & a\\\\b & 0\\end{matrix}\\right]$"
      ],
      "text/plain": [
       "Matrix([\n",
       "[0, a],\n",
       "[b, 0]])"
      ]
     },
     "execution_count": 376,
     "metadata": {},
     "output_type": "execute_result"
    }
   ],
   "source": [
    "Hmat"
   ]
  },
  {
   "cell_type": "code",
   "execution_count": 377,
   "metadata": {},
   "outputs": [],
   "source": [
    "P,D = Hmat.diagonalize()"
   ]
  },
  {
   "cell_type": "code",
   "execution_count": 378,
   "metadata": {},
   "outputs": [
    {
     "data": {
      "text/latex": [
       "$\\displaystyle \\left[\\begin{matrix}- \\sqrt{a b} & 0\\\\0 & \\sqrt{a b}\\end{matrix}\\right]$"
      ],
      "text/plain": [
       "Matrix([\n",
       "[-sqrt(a*b),         0],\n",
       "[         0, sqrt(a*b)]])"
      ]
     },
     "execution_count": 378,
     "metadata": {},
     "output_type": "execute_result"
    }
   ],
   "source": [
    "D"
   ]
  },
  {
   "cell_type": "code",
   "execution_count": 379,
   "metadata": {},
   "outputs": [],
   "source": [
    "def foo(a,b):\n",
    "    return a*b"
   ]
  },
  {
   "cell_type": "code",
   "execution_count": 380,
   "metadata": {},
   "outputs": [
    {
     "data": {
      "text/latex": [
       "$\\displaystyle a$"
      ],
      "text/plain": [
       "a"
      ]
     },
     "execution_count": 380,
     "metadata": {},
     "output_type": "execute_result"
    }
   ],
   "source": [
    "a"
   ]
  },
  {
   "cell_type": "code",
   "execution_count": 381,
   "metadata": {},
   "outputs": [
    {
     "data": {
      "text/latex": [
       "$\\displaystyle 5 a$"
      ],
      "text/plain": [
       "5*a"
      ]
     },
     "execution_count": 381,
     "metadata": {},
     "output_type": "execute_result"
    }
   ],
   "source": [
    "foo(a,5)"
   ]
  },
  {
   "cell_type": "code",
   "execution_count": 390,
   "metadata": {},
   "outputs": [
    {
     "data": {
      "text/latex": [
       "$\\displaystyle \\mu$"
      ],
      "text/plain": [
       "mu"
      ]
     },
     "execution_count": 390,
     "metadata": {},
     "output_type": "execute_result"
    }
   ],
   "source": [
    "mu = symbols('mu')\n",
    "mu"
   ]
  },
  {
   "cell_type": "code",
   "execution_count": 387,
   "metadata": {},
   "outputs": [
    {
     "data": {
      "text/latex": [
       "$\\displaystyle B_{z}$"
      ],
      "text/plain": [
       "B_z"
      ]
     },
     "execution_count": 387,
     "metadata": {},
     "output_type": "execute_result"
    }
   ],
   "source": [
    "Bz"
   ]
  },
  {
   "cell_type": "code",
   "execution_count": 400,
   "metadata": {},
   "outputs": [],
   "source": [
    "z = np.empty(4,object)"
   ]
  },
  {
   "cell_type": "code",
   "execution_count": 403,
   "metadata": {},
   "outputs": [],
   "source": [
    "z[1]=5"
   ]
  },
  {
   "cell_type": "code",
   "execution_count": 402,
   "metadata": {},
   "outputs": [],
   "source": [
    "z[0]=a"
   ]
  },
  {
   "cell_type": "code",
   "execution_count": 404,
   "metadata": {},
   "outputs": [
    {
     "data": {
      "text/plain": [
       "array([a, 5, None, None], dtype=object)"
      ]
     },
     "execution_count": 404,
     "metadata": {},
     "output_type": "execute_result"
    }
   ],
   "source": [
    "z"
   ]
  },
  {
   "cell_type": "code",
   "execution_count": null,
   "metadata": {},
   "outputs": [],
   "source": []
  }
 ],
 "metadata": {
  "kernelspec": {
   "display_name": "Python 3",
   "language": "python",
   "name": "python3"
  },
  "language_info": {
   "codemirror_mode": {
    "name": "ipython",
    "version": 3
   },
   "file_extension": ".py",
   "mimetype": "text/x-python",
   "name": "python",
   "nbconvert_exporter": "python",
   "pygments_lexer": "ipython3",
   "version": "3.6.1"
  }
 },
 "nbformat": 4,
 "nbformat_minor": 2
}
