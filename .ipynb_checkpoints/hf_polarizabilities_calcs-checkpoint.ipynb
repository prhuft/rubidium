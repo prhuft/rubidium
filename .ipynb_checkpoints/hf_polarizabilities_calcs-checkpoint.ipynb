{
 "cells": [
  {
   "cell_type": "markdown",
   "metadata": {},
   "source": [
    "# Rb87 Polarizability Calcs"
   ]
  },
  {
   "cell_type": "code",
   "execution_count": 1,
   "metadata": {},
   "outputs": [
    {
     "name": "stderr",
     "output_type": "stream",
     "text": [
      "C:\\Users\\gothr\\Documents\\Python\\rubidium\\amophys.py:516: SyntaxWarning: \"is\" with a literal. Did you mean \"==\"?\n",
      "  if plane is 'xz':\n"
     ]
    }
   ],
   "source": [
    "# %matplotlib inline\n",
    "\n",
    "#### libraries\n",
    "from numpy import *\n",
    "import matplotlib.pyplot as plt\n",
    "from arc import *\n",
    "from sympy.physics.wigner import wigner_6j,wigner_3j,clebsch_gordan\n",
    "\n",
    "#### local files\n",
    "from physconsts import *\n",
    "from rbconsts import *\n",
    "from amophys import * # polarizability functions live here\n",
    "from simfuncs import *\n",
    "\n",
    "#### other\n",
    "mpl.rcParams.update(mpl.rcParamsDefault)"
   ]
  },
  {
   "cell_type": "markdown",
   "metadata": {},
   "source": [
    "## Dynamic polarizabilities for hyperfine states\n",
    "\n",
    "#### Definitions\n",
    "\n",
    "Below, the labels $F,F'$ refer to hyperfine levels $|n,L,J,F\\rangle,|n',L',J',F'\\rangle$, where the quantum numbers $I,S$ are the same between the two states and hence have been suppressed. Therefore the sums over F' are sums over such levels, rather than over just the quantum number F. \n",
    "\n",
    "The AC Stark shift on a level F is:\n",
    "\n",
    "$U_{AC}(\\omega) = -\\alpha_F(\\omega)\\frac{|E|^2}{4}$\n",
    "\n",
    "The total hyperfine polarizability, using scalar (S), vector (V), and tensor (T) polarizabilities which are decoupled from the projection $m_F$, is given by:\n",
    "\n",
    "$\\alpha_{F,m_F}(\\omega) = \\alpha_F^{(S)}(\\omega) + \\hat{k}\\cdot\\hat{B}A\\frac{A m_F}{2F}\\alpha_F^{(V)}(\\omega) + \\left(3|\\hat{\\eta}\\cdot \\hat{B}|^2-1\\right)\\frac{3m_F^2-F(F+1)}{2F(2F-1)}\\alpha_F^{(T)}(\\omega)$\n",
    "\n",
    "where $\\hat{B}$ is the quantization axis unit vector, $\\hat{\\eta}$ is the laser polarization unit vector, $A=0,\\pm1$ corresponds to linear and right/left-handed light polarization, and the $m_F$-independent polarizabilities are\n",
    "\n",
    "$\\alpha_F^{(S)} = \\sum_{F'}\\frac{2\\omega_{F,F'}|\\langle F || \\hat{d} || F'\\rangle|^2}{3\\hbar(\\omega_{F',F}^2-\\omega^2)}$\n",
    "\n",
    "$\\alpha_F^{(V)} = \\sum_{F'}(-1)^{F+F'+1}\\sqrt{\\frac{6F(2F+1)}{F+1}}S_{F,F,F'}^{1,1,1}\\frac{\\omega_{F,F'}|\\langle F || \\hat{d} || F'\\rangle|^2}{\\hbar(\\omega_{F',F}^2-\\omega^2)}$\n",
    "\n",
    "$\\alpha_F^{(T)} = \\sum_{F'}(-1)^{F+F'}\\sqrt{\\frac{40F(2F+1)(2F-1)}{3(F+1)(2F+3)}}S_{F,F,F'}^{1,1,2}\\frac{\\omega_{F,F'}|\\langle F || \\hat{d} || F'\\rangle|^2}{\\hbar(\\omega_{F',F}^2-\\omega^2)}$\n",
    "\n",
    "Hyperfine reduced matrix element expressed in the fine-structure basis:\n",
    "\n",
    "$\\langle F || \\hat{d} || F'\\rangle = (-1)^{1+I+J+F'}\\sqrt{(2F'+1)(2F+1)}S_{F1J}^{J'IF'}\\langle J || \\hat{d} || J'\\rangle$\n",
    "\n",
    "Depending on the convention used to evaluate the fine structure matrix element, it may need to be divided by $\\sqrt{2J+1}$ to yield the correct result.  \n",
    "\n",
    "#### Rules to remember:\n",
    "Scalar shift: no dependence on light polarization, non-zero for all states<br/>\n",
    "Vector shift: zero for linear light or $j_a=0$ <br/>\n",
    "Tensor shift: non-zero for $j_a\\geq1$ <br/>"
   ]
  },
  {
   "cell_type": "code",
   "execution_count": 12,
   "metadata": {},
   "outputs": [
    {
     "data": {
      "text/plain": [
       "1.2929368982698401e+40"
      ]
     },
     "execution_count": 12,
     "metadata": {},
     "output_type": "execute_result"
    }
   ],
   "source": [
    "(omega_D2**3*ee**2/(3*pi*e0*hbar*c**3))*(D2_MatElem/(ee*a0))**2*(lambda_D2/1e-10)**3"
   ]
  },
  {
   "cell_type": "code",
   "execution_count": 11,
   "metadata": {},
   "outputs": [
    {
     "data": {
      "text/plain": [
       "7802.4120968613"
      ]
     },
     "execution_count": 11,
     "metadata": {},
     "output_type": "execute_result"
    }
   ],
   "source": [
    "lambda_D2/1e-10"
   ]
  },
  {
   "cell_type": "markdown",
   "metadata": {},
   "source": [
    "## Tests\n",
    "summarized from test notebook"
   ]
  },
  {
   "cell_type": "code",
   "execution_count": 2,
   "metadata": {},
   "outputs": [
    {
     "data": {
      "text/plain": [
       "13.070748659091166"
      ]
     },
     "execution_count": 2,
     "metadata": {},
     "output_type": "execute_result"
    }
   ],
   "source": [
    "# definitions from Peters paper\n",
    "rb = Rubidium87()\n",
    "\n",
    "w01 = 2*pi*(hf_states[5][1][3/2][0] - hf_states[5][0][1/2][1])*1e9\n",
    "w11 = 2*pi*(hf_states[5][1][3/2][1] - hf_states[5][0][1/2][1])*1e9\n",
    "w21 = 2*pi*(hf_states[5][1][3/2][2] - hf_states[5][0][1/2][1])*1e9\n",
    "w12 = 2*pi*(hf_states[5][1][3/2][1] - hf_states[5][0][1/2][2])*1e9\n",
    "w22 = 2*pi*(hf_states[5][1][3/2][2] - hf_states[5][0][1/2][2])*1e9\n",
    "w32 = 2*pi*(hf_states[5][1][3/2][3] - hf_states[5][0][1/2][2])*1e9\n",
    "\n",
    "# analytical expression for alphaS for the 5S1/2,F=1 levels\n",
    "aS1 = lambda w: (2*1+1)*(w01/(9*(w01**2-w**2)) + 5*w11/(18*(w01**2-w**2)) +\n",
    "                 + 5*w21/(18*(w21**2-w**2)))* \\\n",
    "                (rb.getReducedMatrixElementJ(5, 0, .5, 5, 1, 1.5)*ee*a0)**2/(2*pi*hbar)\n",
    "\n",
    "aS1(w12 - 2*pi*7e8 + 2*pi*6.834*1e9)/(2*pi*hbar*1e3*1e-4)"
   ]
  },
  {
   "cell_type": "code",
   "execution_count": 3,
   "metadata": {},
   "outputs": [
    {
     "name": "stdout",
     "output_type": "stream",
     "text": [
      "n=5, l=0, j=0.5, f=2, mf=0\n",
      "alpha0  9.545283689886459 [h*kHz*cm^2/V^2]\n"
     ]
    }
   ],
   "source": [
    "## scalar polarizability test\n",
    "# agrees with Peters paper to within about a percent. Compare with Table 1 values. \n",
    "\n",
    "# the hf state of interest\n",
    "n = 5\n",
    "j = 1/2 \n",
    "l = 0\n",
    "f = 2\n",
    "mf = 0\n",
    "q = 1\n",
    "nmin = 5\n",
    "nmax = 8 # exclusive max\n",
    "nlist = range(nmin,nmax)\n",
    "\n",
    "delta = 7e8\n",
    "omega = w12 - 2*pi*delta # omega_1 in Peters paper\n",
    "# omega += 2*pi*6.834*1e9 # omega_2 \" \" \"\n",
    "\n",
    "alpha0 = alpha0_hf([n,l,j,f], omega, nlist, atom=rb, I=I)\n",
    "print(f\"n={n}, l={l}, j={j}, f={f}, mf={mf}\")\n",
    "print(\"alpha0 \", alpha0/(2*pi*hbar*1e3*1e-4),\"[h*kHz*cm^2/V^2]\")"
   ]
  },
  {
   "cell_type": "code",
   "execution_count": 4,
   "metadata": {},
   "outputs": [
    {
     "name": "stdout",
     "output_type": "stream",
     "text": [
      "n=5, l=0, j=0.5, f=2, mf=0\n",
      "alpha1  -0.8651136938801328 [h*kHz*cm^2/V^2]\n"
     ]
    }
   ],
   "source": [
    "## vector polarizability test\n",
    "# agrees with Peters paper to within about a percent. Compare with Table 1 values. \n",
    "\n",
    "# the hf state of interest\n",
    "n = 5\n",
    "j = 1/2\n",
    "l = 0\n",
    "f = 2\n",
    "mf = 0\n",
    "q = 1\n",
    "nmin = 5\n",
    "nmax = 8 # exclusive max\n",
    "nlist = range(nmin,nmax)\n",
    "\n",
    "delta = 7e8\n",
    "omega = w12 - 2*pi*delta # omega_1 in Peters paper\n",
    "omega += 2*pi*6.834*1e9 # omega_2 \" \" \"\n",
    "\n",
    "alpha1 = alpha1_hf([n,l,j,f], omega, nlist, atom=rb, I=I)\n",
    "print(f\"n={n}, l={l}, j={j}, f={f}, mf={mf}\")\n",
    "print(\"alpha1 \", alpha1/(2*pi*hbar*1e3*1e-4),\"[h*kHz*cm^2/V^2]\")"
   ]
  },
  {
   "cell_type": "code",
   "execution_count": 5,
   "metadata": {
    "scrolled": true
   },
   "outputs": [
    {
     "name": "stdout",
     "output_type": "stream",
     "text": [
      "n=5, l=0, j=0.5, f=2, mf=0\n",
      "alpha2  0.013052983248486926 [h*kHz*cm^2/V^2]\n"
     ]
    }
   ],
   "source": [
    "## tensor polarizability test\n",
    "# agrees with Peters paper to within about a percent. Compare with Table 1 values. \n",
    "\n",
    "# the hf state of interest\n",
    "n = 5\n",
    "j = 1/2 \n",
    "l = 0\n",
    "f = 2\n",
    "mf = 0\n",
    "q = 1\n",
    "nmin = 5\n",
    "nmax = 8 # exclusive max\n",
    "nlist = range(nmin,nmax)\n",
    "\n",
    "delta = 7e8\n",
    "omega = w12 - 2*pi*delta # omega_1 in Peters paper\n",
    "omega += 2*pi*6.834*1e9 # omega_2 \" \" \"\n",
    "\n",
    "alpha2 = alpha2_hf([n,l,j,f], omega, nlist, atom=rb, I=I)\n",
    "print(f\"n={n}, l={l}, j={j}, f={f}, mf={mf}\")\n",
    "print(\"alpha2 \", alpha2/(2*pi*hbar*1e3*1e-4),\"[h*kHz*cm^2/V^2]\")"
   ]
  },
  {
   "cell_type": "markdown",
   "metadata": {},
   "source": [
    "## FORT AC Stark shifts"
   ]
  },
  {
   "cell_type": "code",
   "execution_count": 7,
   "metadata": {},
   "outputs": [
    {
     "data": {
      "image/png": "[encoded data removed]",
      "text/plain": [
       "<Figure size 640x480 with 1 Axes>"
      ]
     },
     "metadata": {},
     "output_type": "display_data"
    }
   ],
   "source": [
    "rb = Rubidium87()\n",
    "\n",
    "T = 1.88e-3 #[K] trap depth\n",
    "omega = 2*pi*c/(8.51e-7) # light freq [rad/s]\n",
    "w = 1.4e-6 # beam radius [m]\n",
    "\n",
    "level_g = [5,0,1/2,2]\n",
    "level_e = [5,1,3/2,3]\n",
    "\n",
    "a0_g = alpha0_hf(level_g, omega, range(5,12), atom=rb, I=I)\n",
    "\n",
    "field = sqrt(4*kB*T/a0_g)\n",
    "\n",
    "a2_e = alpha2_hf(level_e, omega, range(5,12), atom=rb, I=I)\n",
    "\n",
    "f = level_e[-1]\n",
    "# tensor shift for each state in 5P3/2,F=3\n",
    "unitB = [0,0,0] # bias field direction\n",
    "unitP = [1,0,0] # FORT polarization\n",
    "mf_states = range(-f,f+1)\n",
    "tensor_shift = [(3*abs(dot(unitP,unitB))**2-1)*\n",
    "                ((3*mf**2 - f*(f+1))/(2*f*(2*f-1)))*a2_e\n",
    "                for mf in mf_states]\n",
    "\n",
    "tensor_shift = -0.25*(array(tensor_shift)+a0_g)*field**2/(1e6*hbar)\n",
    "\n",
    "fig, ax = plt.subplots()\n",
    "ax.scatter(mf_states,tensor_shift,marker='^')\n",
    "plt.show()"
   ]
  },
  {
   "cell_type": "markdown",
   "metadata": {},
   "source": [
    "## misc"
   ]
  },
  {
   "cell_type": "code",
   "execution_count": 6,
   "metadata": {},
   "outputs": [],
   "source": [
    "# atom\n",
    "rb = Rubidium87()"
   ]
  },
  {
   "cell_type": "code",
   "execution_count": 7,
   "metadata": {},
   "outputs": [
    {
     "name": "stdout",
     "output_type": "stream",
     "text": [
      "  5S1/2,f=2,mf=0:\n",
      "    scalar = -1.5049158285936265e-37\n",
      "  5P3/2,f=3,mf=1:\n",
      "    scalar = -8.01085604242002e-38\n",
      "    vector = 1.3424726092880113e-38\n",
      "    tensor = 1.9284147651828397e-38\n"
     ]
    }
   ],
   "source": [
    "omega = 2*pi*c/(7.7e-7)\n",
    "\n",
    "print(\"  5S1/2,f=2,mf=0:\")\n",
    "nlist = range(5,12)\n",
    "n=5; l=0; j=1/2; f=2; mf=0;\n",
    "print(f\"    scalar = {alpha0_hf([n,l,j,f], omega, nlist, atom=rb, I=I)}\")\n",
    "# vector is zero for mf=0\n",
    "# tensor is zero for j<1\n",
    "\n",
    "print(\"  5P3/2,f=3,mf=1:\")\n",
    "n=5; l=1; j=3/2; f=3; mf=1; A = 1;\n",
    "print(f\"    scalar = {alpha0_hf([n,l,j,f], omega, nlist, atom=rb, I=I)}\")\n",
    "print(f\"    vector = {A*mf*alpha1_hf([n,l,j,f], omega, nlist, atom=rb, I=I)/(2*f)}\")\n",
    "print(f\"    tensor = {-1*((3*mf**2 - f*(f+1))/(2*f*(2*f-1)))*alpha2_hf([n,l,j,f], omega, nlist, atom=rb, I=I)}\")"
   ]
  },
  {
   "cell_type": "code",
   "execution_count": 34,
   "metadata": {},
   "outputs": [],
   "source": [
    "## polarizability plot\n",
    "\n",
    "nlist = range(5,50)\n",
    "omega_list = [2*pi*c/(l*1e-9) for l in linspace(400,1000,400)]\n",
    "\n",
    "# 5S1/2,f=2\n",
    "n=5; l=0; j=1/2; f=2; mf=0;\n",
    "a05Spts = [alpha0_hf([n,l,j,f], omega, nlist, atom=rb, I=I) for omega in omega_list]"
   ]
  },
  {
   "cell_type": "code",
   "execution_count": 40,
   "metadata": {
    "scrolled": false
   },
   "outputs": [
    {
     "data": {
      "text/plain": [
       "(-300, 300)"
      ]
     },
     "execution_count": 40,
     "metadata": {},
     "output_type": "execute_result"
    },
    {
     "data": {
      "image/png": "[encoded data removed]",
      "text/plain": [
       "<Figure size 640x480 with 1 Axes>"
      ]
     },
     "metadata": {},
     "output_type": "display_data"
    }
   ],
   "source": [
    "fig, ax = plt.subplots()\n",
    "lambda_arr = array([2*pi*c/omega for omega in omega_list])\n",
    "ax.plot(lambda_arr/1e-9,array(a05Spts)/(4*pi*e0*1e-30))\n",
    "ax.set_ylim((-300,300))\n",
    "ax.set_ylabel(\"alpha0 5S1/2 [Angstrom^3]\")\n",
    "ax.set_xlabel(\"lambda [nm]\")"
   ]
  },
  {
   "cell_type": "code",
   "execution_count": 50,
   "metadata": {},
   "outputs": [],
   "source": [
    "## polarizability plot\n",
    "\n",
    "nlist = range(5,50)\n",
    "omega_list = [2*pi*c/(l*1e-9) for l in linspace(400,500,200)]\n",
    "\n",
    "# 5S1/2,f=2\n",
    "n=5; l=0; j=1/2; f=2; mf=0;\n",
    "a05Spts = [alpha0_hf([n,l,j,f], omega, nlist, atom=rb, I=I) for omega in omega_list]"
   ]
  },
  {
   "cell_type": "code",
   "execution_count": 51,
   "metadata": {},
   "outputs": [
    {
     "data": {
      "text/plain": [
       "(-200, 200)"
      ]
     },
     "execution_count": 51,
     "metadata": {},
     "output_type": "execute_result"
    },
    {
     "data": {
      "image/png": "[encoded data removed]",
      "text/plain": [
       "<Figure size 640x480 with 1 Axes>"
      ]
     },
     "metadata": {},
     "output_type": "display_data"
    }
   ],
   "source": [
    "fig, ax = plt.subplots()\n",
    "lambda_arr = array([2*pi*c/omega for omega in omega_list])\n",
    "ax.plot(lambda_arr/1e-9,array(a05Spts)/(4*pi*e0*1e-30))\n",
    "ax.set_ylim((-200,200))"
   ]
  },
  {
   "cell_type": "code",
   "execution_count": 52,
   "metadata": {},
   "outputs": [],
   "source": [
    "## polarizability plot\n",
    "\n",
    "nlist = range(5,50)\n",
    "omega_list = [2*pi*c/(l*1e-9) for l in linspace(750,850,200)]\n",
    "\n",
    "# 5S1/2,f=2\n",
    "n=5; l=0; j=1/2; f=2; mf=0;\n",
    "a05Spts = [alpha0_hf([n,l,j,f], omega, nlist, atom=rb, I=I) for omega in omega_list]"
   ]
  },
  {
   "cell_type": "code",
   "execution_count": 54,
   "metadata": {
    "scrolled": true
   },
   "outputs": [
    {
     "data": {
      "text/plain": [
       "[<matplotlib.lines.Line2D at 0x1c582f816a0>]"
      ]
     },
     "execution_count": 54,
     "metadata": {},
     "output_type": "execute_result"
    },
    {
     "data": {
      "image/png": "[encoded data removed]",
      "text/plain": [
       "<Figure size 640x480 with 1 Axes>"
      ]
     },
     "metadata": {},
     "output_type": "display_data"
    }
   ],
   "source": [
    "fig, ax = plt.subplots()\n",
    "lambda_arr = array([2*pi*c/omega for omega in omega_list])\n",
    "ax.plot(lambda_arr/1e-9,array(a05Spts)/(4*pi*e0*1e-30))\n",
    "# ax.set_ylim((-300,300))"
   ]
  },
  {
   "cell_type": "code",
   "execution_count": 32,
   "metadata": {
    "collapsed": true
   },
   "outputs": [
    {
     "data": {
      "text/plain": [
       "array([-1352.54510175055, -1394.99347242380, -1440.30536923955,\n",
       "       -1488.78996691333, -1540.80321678318, -1596.75708959052,\n",
       "       -1657.13110473201, -1722.48683479520, -1793.48632208284,\n",
       "       -1870.91569682101, -1955.71579680180, -2049.02233701692,\n",
       "       -2152.21929639377, -2267.01089167977, -2395.52015598890,\n",
       "       -2540.42635184155, -2705.16032567113, -2894.18846752716,\n",
       "       -3113.43600355822, -3370.93649767044, -3677.86240149982,\n",
       "       -4050.22575038665, -4511.81924751729, -5099.59927493708,\n",
       "       -5874.25619564544, -6942.91970229946, -8514.09847243919,\n",
       "       -11054.7921282111, -15871.0306318539, -28528.8885802444,\n",
       "       -152985.149518854, 44245.2720446802, 19071.7573465629,\n",
       "       12041.9650567001, 8731.68333638013, 6803.03881742519,\n",
       "       5537.79276685423, 4641.80746959499, 3972.26333151124,\n",
       "       3451.42100179564, 3033.32356071316, 2689.04191493148,\n",
       "       2399.43848659753, 2151.32899973335, 1935.31520399731,\n",
       "       1744.49658573551, 1573.67070819506, 1418.81791880791,\n",
       "       1276.75799834812, 1144.91410241514, 1021.14532875030,\n",
       "       903.623904880556, 790.741500748760, 681.034189229807,\n",
       "       573.118509968490, 465.632685298579, 357.177662040711,\n",
       "       246.252434003538, 131.176951792126, 9.99351544087255], dtype=object)"
      ]
     },
     "execution_count": 32,
     "metadata": {},
     "output_type": "execute_result"
    }
   ],
   "source": []
  },
  {
   "cell_type": "code",
   "execution_count": null,
   "metadata": {},
   "outputs": [],
   "source": [
    "omega_list = [2*pi*c/l for l in ]"
   ]
  },
  {
   "cell_type": "markdown",
   "metadata": {},
   "source": [
    "## Polarizabilities for Rydberg addressing"
   ]
  },
  {
   "cell_type": "code",
   "execution_count": 5,
   "metadata": {},
   "outputs": [],
   "source": [
    "# atom\n",
    "rb = Rubidium87()\n",
    "\n",
    "# lasers\n",
    "omega780A = 2*pi*(hf_states[5][1][3/2][3] - hf_states[5][0][1/2][2] - 2.1)*1e9\n",
    "omega780B = 2*pi*(hf_states[5][1][3/2][3] - hf_states[5][0][1/2][2] - 2.1 + 6.834682)*1e9\n",
    "omega480 = 2*pi*(eVToGHz(rb.getEnergy(84,2,5/2) - rb.getEnergy(5,1,3/2)) - .266651 + 2.1)*1e9"
   ]
  },
  {
   "cell_type": "code",
   "execution_count": 57,
   "metadata": {
    "scrolled": false
   },
   "outputs": [
    {
     "name": "stdout",
     "output_type": "stream",
     "text": [
      "Laser frequencies\n",
      " 780A: 2*pi*384226015203379.4\n",
      " 780B: 2*pi*384232849885379.44\n",
      " 480: 2*pi*625314831618150.4\n",
      "780A polarizabilities\n",
      "  5S1/2,f=2,mf=0:\n",
      "    scalar = 3.20346392953120E-34\n",
      "  5P3/2,f=3,mf=1:\n",
      "    scalar = 1.52739309640219E-34\n",
      "    vector = -3.817491143122172e-35\n",
      "    tensor = -4.581457685120631e-35\n",
      "480 polarizabilities\n",
      "  5S1/2,f=2,mf=0:\n",
      "    scalar = -2.90311524481040E-39\n",
      "  5P3/2,f=3,mf=1:\n",
      "    scalar = -4.82150951678205E-39\n",
      "    vector = 1.696626924053701e-40\n",
      "    tensor = 4.557481703934684e-40\n"
     ]
    }
   ],
   "source": [
    "print(\"Laser frequencies\")\n",
    "print(f\" 780A: 2*pi*{omega780A/(2*pi)}\")\n",
    "print(f\" 780B: 2*pi*{omega780B/(2*pi)}\")\n",
    "print(f\" 480: 2*pi*{omega480/(2*pi)}\")\n",
    "\n",
    "print(\"780A polarizabilities\")\n",
    "\n",
    "nlist = range(5,8)\n",
    "\n",
    "print(\"  5S1/2,f=2,mf=0:\")\n",
    "n=5; l=0; j=1/2; f=2; mf=0;\n",
    "print(f\"    scalar = {alpha0_hf([n,l,j,f], omega780A, nlist, atom=rb, I=I)}\")\n",
    "# vector is zero for mf=0\n",
    "# tensor is zero for j<1\n",
    "\n",
    "print(\"  5P3/2,f=3,mf=1:\")\n",
    "n=5; l=1; j=3/2; f=3; mf=1; A = 1;\n",
    "print(f\"    scalar = {alpha0_hf([n,l,j,f], omega780A, nlist, atom=rb, I=I)}\")\n",
    "print(f\"    vector = {A*mf*alpha1_hf([n,l,j,f], omega780A, nlist, atom=rb, I=I)/(2*f)}\")\n",
    "print(f\"    tensor = {-1*((3*mf**2 - f*(f+1))/(2*f*(2*f-1)))*alpha2_hf([n,l,j,f], omega780A, nlist, atom=rb, I=I)}\")\n",
    "\n",
    "print(\"480 polarizabilities\")\n",
    "\n",
    "print(\"  5S1/2,f=2,mf=0:\")\n",
    "n=5; l=0; j=1/2; f=2; mf=0;\n",
    "nmax = 100; nmin = 5;\n",
    "nlist = [int(x) for x in linspace(nmax,nmin,nmax-nmin+1)]\n",
    "print(f\"    scalar = {alpha0_hf([n,l,j,f], omega480, nlist, atom=rb, I=I)}\")\n",
    "# vector is zero for mf=0\n",
    "# tensor is zero for j<1\n",
    "\n",
    "print(\"  5P3/2,f=3,mf=1:\")\n",
    "n=5; l=1; j=3/2; f=3; mf=1; A = 1;\n",
    "print(f\"    scalar = {alpha0_hf([n,l,j,f], omega480, nlist, atom=rb, I=I)}\")\n",
    "print(f\"    vector = {-A*mf*alpha1_hf([n,l,j,f], omega480, nlist, atom=rb, I=I)/(2*f)}\") # overall minus sign because dot(k,B_bias)=\n",
    "print(f\"    tensor = {-1*((3*mf**2 - f*(f+1))/(2*f*(2*f-1)))*alpha2_hf([n,l,j,f], omega480, nlist, atom=rb, I=I)}\")"
   ]
  },
  {
   "cell_type": "code",
   "execution_count": 54,
   "metadata": {},
   "outputs": [
    {
     "data": {
      "text/plain": [
       "6.874982135779098e-35"
      ]
     },
     "execution_count": 54,
     "metadata": {},
     "output_type": "execute_result"
    }
   ],
   "source": [
    "alpha780excited = scalar = 1.52739309640219E-34 + -3.817491143122172e-35 + -4.581457685120631e-35\n",
    "alpha780excited"
   ]
  },
  {
   "cell_type": "code",
   "execution_count": 60,
   "metadata": {},
   "outputs": [
    {
     "data": {
      "text/plain": [
       "3.231654777083384e-39"
      ]
     },
     "execution_count": 60,
     "metadata": {},
     "output_type": "execute_result"
    }
   ],
   "source": [
    "alpha480excited = 3.53496801131378E-39 + 4.27727148997324e-40 + -7.310403832277205e-40\n",
    "alpha480excited"
   ]
  },
  {
   "cell_type": "code",
   "execution_count": 6,
   "metadata": {},
   "outputs": [],
   "source": [
    "## ponderomotive shifts, S.I. units\n",
    "\n",
    "alphaPond = lambda omega: -ee**2/(me*omega**2)"
   ]
  },
  {
   "cell_type": "code",
   "execution_count": 7,
   "metadata": {},
   "outputs": [
    {
     "data": {
      "text/plain": [
       "-4.8350228219114005e-39"
      ]
     },
     "execution_count": 7,
     "metadata": {},
     "output_type": "execute_result"
    }
   ],
   "source": [
    "alphaPond(omega780A)"
   ]
  },
  {
   "cell_type": "code",
   "execution_count": 8,
   "metadata": {},
   "outputs": [
    {
     "data": {
      "text/plain": [
       "-1.825469589864302e-39"
      ]
     },
     "execution_count": 8,
     "metadata": {},
     "output_type": "execute_result"
    }
   ],
   "source": [
    "alphaPond(omega480)"
   ]
  },
  {
   "cell_type": "markdown",
   "metadata": {},
   "source": [
    "## Ramsey frequency\n",
    "Clock state Ramsey experiment with 780A on in gap time gives a fringe frequency equal to the differential AC Stark shift from the 780A plus the differential Zeeman shift. The latter is 4 kHz at 3 G. This can be used to determine the electric field that the atom sees. We can also estimate the Rabi frequency directly."
   ]
  },
  {
   "cell_type": "code",
   "execution_count": 10,
   "metadata": {},
   "outputs": [
    {
     "data": {
      "text/plain": [
       "3797.8949279380545"
      ]
     },
     "execution_count": 10,
     "metadata": {},
     "output_type": "execute_result"
    }
   ],
   "source": [
    "rb = Rubidium87()\n",
    "\n",
    "# lasers\n",
    "omega780A = 2*pi*(hf_states[5][1][3/2][3] - hf_states[5][0][1/2][2] - 2.1)*1e9\n",
    "\n",
    "# clock states differential AC stark shift = ramsey frequency - Zeeman shift\n",
    "dU_ac = 2*pi*hbar*(1.34e6 - 4e3)\n",
    "\n",
    "nlist = range(5,8)\n",
    "efield = 2*sqrt(dU_ac/(alpha0_hf([5,0,1/2,2],omega780A,nlist,atom=rb,I=I)-alpha0_hf([5,0,1/2,1],omega780A,nlist,atom=rb,I=I)))\n",
    "efield"
   ]
  },
  {
   "cell_type": "code",
   "execution_count": 12,
   "metadata": {},
   "outputs": [
    {
     "data": {
      "text/plain": [
       "7.80250285346538e-07"
      ]
     },
     "execution_count": 12,
     "metadata": {},
     "output_type": "execute_result"
    }
   ],
   "source": [
    "2*pi*c/omega780A"
   ]
  },
  {
   "cell_type": "code",
   "execution_count": 13,
   "metadata": {},
   "outputs": [
    {
     "data": {
      "text/plain": [
       "4.794264310414898e-07"
      ]
     },
     "execution_count": 13,
     "metadata": {},
     "output_type": "execute_result"
    }
   ],
   "source": [
    "2*pi*c/omega480"
   ]
  },
  {
   "cell_type": "code",
   "execution_count": 14,
   "metadata": {},
   "outputs": [
    {
     "data": {
      "text/plain": [
       "<arc.alkali_atom_data.Rubidium87 at 0x20847b75a90>"
      ]
     },
     "execution_count": 14,
     "metadata": {},
     "output_type": "execute_result"
    }
   ],
   "source": []
  },
  {
   "cell_type": "code",
   "execution_count": 22,
   "metadata": {},
   "outputs": [
    {
     "data": {
      "text/plain": [
       "2414176448051179.0"
      ]
     },
     "execution_count": 22,
     "metadata": {},
     "output_type": "execute_result"
    }
   ],
   "source": [
    "2*pi*(hf_states[5][1][3/2][3] - hf_states[5][0][1/2][2])*1e9"
   ]
  },
  {
   "cell_type": "code",
   "execution_count": 23,
   "metadata": {},
   "outputs": [
    {
     "data": {
      "text/plain": [
       "3928955767695494.5"
      ]
     },
     "execution_count": 23,
     "metadata": {},
     "output_type": "execute_result"
    }
   ],
   "source": [
    "2*pi*(eVToGHz(rb.getEnergy(84,2,5/2) - rb.getEnergy(5,1,3/2)) - .266651)*1e9"
   ]
  },
  {
   "cell_type": "code",
   "execution_count": null,
   "metadata": {},
   "outputs": [],
   "source": []
  }
 ],
 "metadata": {
  "kernelspec": {
   "display_name": "Python 3",
   "language": "python",
   "name": "python3"
  },
  "language_info": {
   "codemirror_mode": {
    "name": "ipython",
    "version": 3
   },
   "file_extension": ".py",
   "mimetype": "text/x-python",
   "name": "python",
   "nbconvert_exporter": "python",
   "pygments_lexer": "ipython3",
   "version": "3.9.0"
  }
 },
 "nbformat": 4,
 "nbformat_minor": 2
}
