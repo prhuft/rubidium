{
 "cells": [
  {
   "cell_type": "markdown",
   "metadata": {},
   "source": [
    "# Rb87 Polarizability Calcs"
   ]
  },
  {
   "cell_type": "code",
   "execution_count": 1,
   "metadata": {},
   "outputs": [],
   "source": [
    "#### libraries\n",
    "from numpy import *\n",
    "import matplotlib.pyplot as plt\n",
    "from arc import *\n",
    "from sympy.physics.wigner import wigner_6j,wigner_3j,clebsch_gordan\n",
    "\n",
    "#### local files\n",
    "from physconsts import *\n",
    "from rbconsts import *\n",
    "from amophys import * # polarizability functions live here"
   ]
  },
  {
   "cell_type": "markdown",
   "metadata": {},
   "source": [
    "## Dynamic polarizabilities for hyperfine states\n",
    "\n",
    "#### Definitions\n",
    "\n",
    "Below, the labels $F,F'$ refer to hyperfine levels $|n,L,J,F\\rangle,|n',L',J',F'\\rangle$, where the quantum numbers $I,S$ are the same between the two states and hence have been suppressed. Therefore the sums over F' are sums over such levels, rather than over just the quantum number F. \n",
    "\n",
    "The AC Stark shift on a level F is:\n",
    "\n",
    "$U_{AC}(\\omega) = \\alpha_F(\\omega)\\frac{|E|^2}{4}$\n",
    "\n",
    "The total hyperfine polarizability, using scalar (S), vector (V), and tensor (T) polarizabilities which are decoupled from the projection $m_F$, is given by:\n",
    "\n",
    "$\\alpha_{F,m_F}(\\omega) = \\alpha_F^{(S)}(\\omega) + \\hat{k}\\cdot\\hat{B}A\\frac{A m_F}{2F}\\alpha_F^{(V)}(\\omega) + \\left(3|\\hat{\\eta}\\cdot \\hat{B}|^2-1\\right)\\frac{3m_F^2-F(F+1)}{2F(2F-1)}\\alpha_F^{(T)}(\\omega)$\n",
    "\n",
    "where $\\hat{B}$ is the quantization axis unit vector, $\\hat{\\eta}$ is the laser polarization unit vector, $A=0,\\pm1$ corresponds to linear and right/left-handed light polarization, and the $m_F$-independent polarizabilities are\n",
    "\n",
    "$\\alpha_F^{(S)} = \\sum_{F'}\\frac{2\\omega_{F,F'}|\\langle F || \\hat{d} || F'\\rangle|^2}{3\\hbar(\\omega_{F',F}^2-\\omega^2)}$\n",
    "\n",
    "$\\alpha_F^{(V)} = \\sum_{F'}(-1)^{F+F'+1}\\sqrt{\\frac{6F(2F+1)}{F+1}}S_{F,F,F'}^{1,1,1}\\frac{\\omega_{F,F'}|\\langle F || \\hat{d} || F'\\rangle|^2}{\\hbar(\\omega_{F',F}^2-\\omega^2)}$\n",
    "\n",
    "$\\alpha_F^{(T)} = \\sum_{F'}(-1)^{F+F'}\\sqrt{\\frac{40F(2F+1)(2F-1)}{3(F+1)(2F+3)}}S_{F,F,F'}^{1,1,2}\\frac{\\omega_{F,F'}|\\langle F || \\hat{d} || F'\\rangle|^2}{\\hbar(\\omega_{F',F}^2-\\omega^2)}$\n",
    "\n",
    "Hyperfine reduced matrix element expressed in the fine-structure basis:\n",
    "\n",
    "$\\langle F || \\hat{d} || F'\\rangle = (-1)^{1+I+J+F'}\\sqrt{(2F'+1)(2F+1)}S_{F1J}^{J'IF'}\\langle J || \\hat{d} || J'\\rangle$\n",
    "\n",
    "Depending on the convention used to evaluate the fine structure matrix element, it may need to be divided by $\\sqrt{2J+1}$ to yield the correct result.  \n",
    "\n",
    "#### Rules to remember:\n",
    "Scalar shift: no dependence on light polarization <br/>\n",
    "Vector shift: zero for linear light or $j_a=0$ <br/>\n",
    "Tensor shift: non-zero for $j_a\\geq1$ <br/>"
   ]
  },
  {
   "cell_type": "markdown",
   "metadata": {},
   "source": [
    "## Tests\n",
    "summarized from test notebook"
   ]
  },
  {
   "cell_type": "code",
   "execution_count": 2,
   "metadata": {},
   "outputs": [
    {
     "data": {
      "text/plain": [
       "13.070748659091166"
      ]
     },
     "execution_count": 2,
     "metadata": {},
     "output_type": "execute_result"
    }
   ],
   "source": [
    "# definitions from Peters paper\n",
    "rb = Rubidium87()\n",
    "\n",
    "w01 = 2*pi*(hf_states[5][1][3/2][0] - hf_states[5][0][1/2][1])*1e9\n",
    "w11 = 2*pi*(hf_states[5][1][3/2][1] - hf_states[5][0][1/2][1])*1e9\n",
    "w21 = 2*pi*(hf_states[5][1][3/2][2] - hf_states[5][0][1/2][1])*1e9\n",
    "w12 = 2*pi*(hf_states[5][1][3/2][1] - hf_states[5][0][1/2][2])*1e9\n",
    "w22 = 2*pi*(hf_states[5][1][3/2][2] - hf_states[5][0][1/2][2])*1e9\n",
    "w32 = 2*pi*(hf_states[5][1][3/2][3] - hf_states[5][0][1/2][2])*1e9\n",
    "\n",
    "# analytical expression for alphaS for the 5S1/2,F=1 levels\n",
    "aS1 = lambda w: (2*1+1)*(w01/(9*(w01**2-w**2)) + 5*w11/(18*(w01**2-w**2)) +\n",
    "                 + 5*w21/(18*(w21**2-w**2)))* \\\n",
    "                (rb.getReducedMatrixElementJ(5, 0, .5, 5, 1, 1.5)*ee*a0)**2/(2*pi*hbar)\n",
    "\n",
    "aS1(w12 - 2*pi*7e8 + 2*pi*6.834*1e9)/(2*pi*hbar*1e3*1e-4)"
   ]
  },
  {
   "cell_type": "code",
   "execution_count": 3,
   "metadata": {},
   "outputs": [
    {
     "name": "stdout",
     "output_type": "stream",
     "text": [
      "n=5, l=0, j=0.5, f=2, mf=0\n",
      "alpha0  9.54528368988646 [h*kHz*cm^2/V^2]\n"
     ]
    }
   ],
   "source": [
    "## scalar polarizability test\n",
    "# agrees with Peters paper to within about a percent. Compare with Table 1 values. \n",
    "\n",
    "# the hf state of interest\n",
    "n = 5\n",
    "j = 1/2 \n",
    "l = 0\n",
    "f = 2\n",
    "mf = 0\n",
    "q = 1\n",
    "nmin = 5\n",
    "nmax = 8 # exclusive max\n",
    "nlist = range(nmin,nmax)\n",
    "\n",
    "delta = 7e8\n",
    "omega = w12 - 2*pi*delta # omega_1 in Peters paper\n",
    "# omega += 2*pi*6.834*1e9 # omega_2 \" \" \"\n",
    "\n",
    "alpha0 = alpha0_hf([n,l,j,f], omega, nlist, atom=rb, I=I)\n",
    "print(f\"n={n}, l={l}, j={j}, f={f}, mf={mf}\")\n",
    "print(\"alpha0 \", alpha0/(2*pi*hbar*1e3*1e-4),\"[h*kHz*cm^2/V^2]\")"
   ]
  },
  {
   "cell_type": "code",
   "execution_count": 4,
   "metadata": {},
   "outputs": [
    {
     "name": "stdout",
     "output_type": "stream",
     "text": [
      "n=5, l=0, j=0.5, f=2, mf=0\n",
      "alpha1  -0.8651136938801328 [h*kHz*cm^2/V^2]\n"
     ]
    }
   ],
   "source": [
    "## vector polarizability test\n",
    "# agrees with Peters paper to within about a percent. Compare with Table 1 values. \n",
    "\n",
    "# the hf state of interest\n",
    "n = 5\n",
    "j = 1/2\n",
    "l = 0\n",
    "f = 2\n",
    "mf = 0\n",
    "q = 1\n",
    "nmin = 5\n",
    "nmax = 8 # exclusive max\n",
    "nlist = range(nmin,nmax)\n",
    "\n",
    "delta = 7e8\n",
    "omega = w12 - 2*pi*delta # omega_1 in Peters paper\n",
    "omega += 2*pi*6.834*1e9 # omega_2 \" \" \"\n",
    "\n",
    "alpha1 = alpha1_hf([n,l,j,f], omega, nlist, atom=rb, I=I)\n",
    "print(f\"n={n}, l={l}, j={j}, f={f}, mf={mf}\")\n",
    "print(\"alpha1 \", alpha1/(2*pi*hbar*1e3*1e-4),\"[h*kHz*cm^2/V^2]\")"
   ]
  },
  {
   "cell_type": "code",
   "execution_count": 5,
   "metadata": {},
   "outputs": [
    {
     "name": "stdout",
     "output_type": "stream",
     "text": [
      "n=5, l=0, j=0.5, f=2, mf=0\n",
      "alpha2  0.013052983248486926 [h*kHz*cm^2/V^2]\n"
     ]
    }
   ],
   "source": [
    "## tensor polarizability test\n",
    "# agrees with Peters paper to within about a percent. Compare with Table 1 values. \n",
    "\n",
    "# the hf state of interest\n",
    "n = 5\n",
    "j = 1/2 \n",
    "l = 0\n",
    "f = 2\n",
    "mf = 0\n",
    "q = 1\n",
    "nmin = 5\n",
    "nmax = 8 # exclusive max\n",
    "nlist = range(nmin,nmax)\n",
    "\n",
    "delta = 7e8\n",
    "omega = w12 - 2*pi*delta # omega_1 in Peters paper\n",
    "omega += 2*pi*6.834*1e9 # omega_2 \" \" \"\n",
    "\n",
    "alpha2 = alpha2_hf([n,l,j,f], omega, nlist, atom=rb, I=I)\n",
    "print(f\"n={n}, l={l}, j={j}, f={f}, mf={mf}\")\n",
    "print(\"alpha2 \", alpha2/(2*pi*hbar*1e3*1e-4),\"[h*kHz*cm^2/V^2]\")"
   ]
  },
  {
   "cell_type": "markdown",
   "metadata": {},
   "source": [
    "## Polarizabilities for Rydberg addressing"
   ]
  },
  {
   "cell_type": "code",
   "execution_count": 6,
   "metadata": {},
   "outputs": [],
   "source": [
    "# atom\n",
    "rb = Rubidium87()\n",
    "\n",
    "# lasers\n",
    "omega780A = 2*pi*(hf_states[5][1][3/2][3] - hf_states[5][0][1/2][2] - 2.1)*1e9\n",
    "omega780B = 2*pi*(hf_states[5][1][3/2][3] - hf_states[5][0][1/2][2] - 2.1 + 6.834682)*1e9\n",
    "omega480 = 2*pi*(eVToGHz(rb.getEnergy(84,2,5/2) - rb.getEnergy(5,1,3/2)) - .266651 + 2.1)*1e9/2"
   ]
  },
  {
   "cell_type": "code",
   "execution_count": 7,
   "metadata": {
    "scrolled": false
   },
   "outputs": [
    {
     "name": "stdout",
     "output_type": "stream",
     "text": [
      "Laser frequencies\n",
      " 780A: 2*pi*384226015203379.4\n",
      " 780B: 2*pi*384232849885379.44\n",
      " 480: 2*pi*312657415809075.2\n",
      "780A polarizabilities\n",
      "  5S1/2,f=2,mf=0:\n",
      "    scalar = 3.20346392953120E-34\n",
      "  5P3/2,f=3,mf=1:\n",
      "    scalar = 1.52739309640219E-34\n",
      "    vector = -3.817491143122172e-35\n",
      "    tensor = -4.581457685120631e-35\n",
      "480 polarizabilities\n",
      "  5S1/2,f=2,mf=0:\n",
      "    scalar = 1.53782756858333E-38\n",
      "  5P3/2,f=3,mf=1:\n",
      "    scalar = 3.53496801131378E-39\n",
      "    vector = 4.27727148997324e-40\n",
      "    tensor = -7.310403832277205e-40\n"
     ]
    }
   ],
   "source": [
    "print(\"Laser frequencies\")\n",
    "print(f\" 780A: 2*pi*{omega780A/(2*pi)}\")\n",
    "print(f\" 780B: 2*pi*{omega780B/(2*pi)}\")\n",
    "print(f\" 480: 2*pi*{omega480/(2*pi)}\")\n",
    "\n",
    "print(\"780A polarizabilities\")\n",
    "\n",
    "nlist = range(5,8)\n",
    "\n",
    "print(\"  5S1/2,f=2,mf=0:\")\n",
    "n=5; l=0; j=1/2; f=2; mf=0;\n",
    "print(f\"    scalar = {alpha0_hf([n,l,j,f], omega780A, nlist, atom=rb, I=I)}\")\n",
    "# vector is zero for mf=0\n",
    "# tensor is zero for j<1\n",
    "\n",
    "print(\"  5P3/2,f=3,mf=1:\")\n",
    "n=5; l=1; j=3/2; f=3; mf=1; A = 1;\n",
    "print(f\"    scalar = {alpha0_hf([n,l,j,f], omega780A, nlist, atom=rb, I=I)}\")\n",
    "print(f\"    vector = {A*mf*alpha1_hf([n,l,j,f], omega780A, nlist, atom=rb, I=I)/(2*f)}\")\n",
    "print(f\"    tensor = {-1*((3*mf**2 - f*(f+1))/(2*f*(2*f-1)))*alpha2_hf([n,l,j,f], omega780A, nlist, atom=rb, I=I)}\")\n",
    "\n",
    "print(\"480 polarizabilities\")\n",
    "\n",
    "print(\"  5S1/2,f=2,mf=0:\")\n",
    "n=5; l=0; j=1/2; f=2; mf=0;\n",
    "nmax = 100; nmin = 5;\n",
    "nlist = [int(x) for x in linspace(nmax,nmin,nmax-nmin+1)]\n",
    "print(f\"    scalar = {alpha0_hf([n,l,j,f], omega480, nlist, atom=rb, I=I)}\")\n",
    "# vector is zero for mf=0\n",
    "# tensor is zero for j<1\n",
    "\n",
    "print(\"  5P3/2,f=3,mf=1:\")\n",
    "n=5; l=1; j=3/2; f=3; mf=1; A = 1;\n",
    "print(f\"    scalar = {alpha0_hf([n,l,j,f], omega480, nlist, atom=rb, I=I)}\")\n",
    "print(f\"    vector = {-A*mf*alpha1_hf([n,l,j,f], omega480, nlist, atom=rb, I=I)/(2*f)}\") # overall minus sign because dot(k,B_bias)=\n",
    "print(f\"    tensor = {-1*((3*mf**2 - f*(f+1))/(2*f*(2*f-1)))*alpha2_hf([n,l,j,f], omega480, nlist, atom=rb, I=I)}\")"
   ]
  },
  {
   "cell_type": "code",
   "execution_count": 60,
   "metadata": {},
   "outputs": [
    {
     "data": {
      "text/plain": [
       "3.231654777083384e-39"
      ]
     },
     "execution_count": 60,
     "metadata": {},
     "output_type": "execute_result"
    }
   ],
   "source": [
    "alpha480excited = 3.53496801131378E-39 + 4.27727148997324e-40 + -7.310403832277205e-40\n",
    "alpha480excited"
   ]
  },
  {
   "cell_type": "code",
   "execution_count": 54,
   "metadata": {},
   "outputs": [
    {
     "data": {
      "text/plain": [
       "6.874982135779098e-35"
      ]
     },
     "execution_count": 54,
     "metadata": {},
     "output_type": "execute_result"
    }
   ],
   "source": [
    "alpha780excited = scalar = 1.52739309640219E-34 + -3.817491143122172e-35 + -4.581457685120631e-35\n",
    "alpha780excited"
   ]
  },
  {
   "cell_type": "code",
   "execution_count": null,
   "metadata": {},
   "outputs": [],
   "source": []
  }
 ],
 "metadata": {
  "kernelspec": {
   "display_name": "Python 3",
   "language": "python",
   "name": "python3"
  },
  "language_info": {
   "codemirror_mode": {
    "name": "ipython",
    "version": 3
   },
   "file_extension": ".py",
   "mimetype": "text/x-python",
   "name": "python",
   "nbconvert_exporter": "python",
   "pygments_lexer": "ipython3",
   "version": "3.7.3"
  }
 },
 "nbformat": 4,
 "nbformat_minor": 2
}
