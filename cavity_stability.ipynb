{
 "cells": [
  {
   "cell_type": "code",
   "execution_count": null,
   "id": "d6bd1c24",
   "metadata": {},
   "outputs": [],
   "source": [
    "#there's a bug when d"
   ]
  },
  {
   "cell_type": "code",
   "execution_count": 2,
   "id": "11faa8f8",
   "metadata": {},
   "outputs": [
    {
     "ename": "ImportError",
     "evalue": "cannot import name '_docstring' from partially initialized module 'matplotlib' (most likely due to a circular import) (C:\\Users\\prest\\.virtualenvs\\rubidium-6bgZCrz4\\lib\\site-packages\\matplotlib\\__init__.py)",
     "output_type": "error",
     "traceback": [
      "\u001b[1;31m---------------------------------------------------------------------------\u001b[0m",
      "\u001b[1;31mImportError\u001b[0m                               Traceback (most recent call last)",
      "Cell \u001b[1;32mIn[2], line 2\u001b[0m\n\u001b[0;32m      1\u001b[0m \u001b[38;5;28;01mfrom\u001b[39;00m \u001b[38;5;21;01mnumpy\u001b[39;00m \u001b[38;5;28;01mimport\u001b[39;00m \u001b[38;5;241m*\u001b[39m\n\u001b[1;32m----> 2\u001b[0m \u001b[38;5;28;01mfrom\u001b[39;00m \u001b[38;5;21;01mmatplotlib\u001b[39;00m \u001b[38;5;28;01mimport\u001b[39;00m pyplot \u001b[38;5;28;01mas\u001b[39;00m plt\n\u001b[0;32m      3\u001b[0m \u001b[38;5;28;01mfrom\u001b[39;00m \u001b[38;5;21;01mscipy\u001b[39;00m\u001b[38;5;21;01m.\u001b[39;00m\u001b[38;5;21;01moptimize\u001b[39;00m \u001b[38;5;28;01mimport\u001b[39;00m newton \u001b[38;5;66;03m# the Newton-Raphson numerical solver\u001b[39;00m\n\u001b[0;32m      5\u001b[0m \u001b[38;5;28;01mfrom\u001b[39;00m \u001b[38;5;21;01msimfuncs\u001b[39;00m \u001b[38;5;28;01mimport\u001b[39;00m \u001b[38;5;241m*\u001b[39m\n",
      "File \u001b[1;32m~\\.virtualenvs\\rubidium-6bgZCrz4\\lib\\site-packages\\matplotlib\\__init__.py:113\u001b[0m\n\u001b[0;32m    109\u001b[0m \u001b[38;5;28;01mfrom\u001b[39;00m \u001b[38;5;21;01mpackaging\u001b[39;00m\u001b[38;5;21;01m.\u001b[39;00m\u001b[38;5;21;01mversion\u001b[39;00m \u001b[38;5;28;01mimport\u001b[39;00m parse \u001b[38;5;28;01mas\u001b[39;00m parse_version\n\u001b[0;32m    111\u001b[0m \u001b[38;5;66;03m# cbook must import matplotlib only within function\u001b[39;00m\n\u001b[0;32m    112\u001b[0m \u001b[38;5;66;03m# definitions, so it is safe to import from it here.\u001b[39;00m\n\u001b[1;32m--> 113\u001b[0m \u001b[38;5;28;01mfrom\u001b[39;00m \u001b[38;5;21;01m.\u001b[39;00m \u001b[38;5;28;01mimport\u001b[39;00m _api, _version, cbook, _docstring, rcsetup\n\u001b[0;32m    114\u001b[0m \u001b[38;5;28;01mfrom\u001b[39;00m \u001b[38;5;21;01mmatplotlib\u001b[39;00m\u001b[38;5;21;01m.\u001b[39;00m\u001b[38;5;21;01mcbook\u001b[39;00m \u001b[38;5;28;01mimport\u001b[39;00m sanitize_sequence\n\u001b[0;32m    115\u001b[0m \u001b[38;5;28;01mfrom\u001b[39;00m \u001b[38;5;21;01mmatplotlib\u001b[39;00m\u001b[38;5;21;01m.\u001b[39;00m\u001b[38;5;21;01m_api\u001b[39;00m \u001b[38;5;28;01mimport\u001b[39;00m MatplotlibDeprecationWarning\n",
      "\u001b[1;31mImportError\u001b[0m: cannot import name '_docstring' from partially initialized module 'matplotlib' (most likely due to a circular import) (C:\\Users\\prest\\.virtualenvs\\rubidium-6bgZCrz4\\lib\\site-packages\\matplotlib\\__init__.py)"
     ]
    }
   ],
   "source": [
    "from numpy import *\n",
    "from matplotlib import pyplot as plt\n",
    "from scipy.optimize import newton # the Newton-Raphson numerical solver\n",
    "\n",
    "from simfuncs import *"
   ]
  },
  {
   "cell_type": "markdown",
   "id": "bac67b9d",
   "metadata": {},
   "source": [
    "## Ray tracing in a cavity"
   ]
  },
  {
   "cell_type": "code",
   "execution_count": 3,
   "id": "92c473a0",
   "metadata": {},
   "outputs": [],
   "source": [
    "Mm = lambda th,mslope: array([[1,0],[0, (th+2*atan(1/mslope))/th]])\n",
    "Md = lambda d: array([[1,d],[0,1]])\n",
    "\n",
    "class Mirror:\n",
    "        \n",
    "    def __init__(self,RoC,r,z0,refl=1,tilt=0,x0=0):\n",
    "        \"\"\"\n",
    "        Args:\n",
    "            'RoC': surface radius of curvature. Positive if center of curvature to the \"right\"\n",
    "            'r': the transverse radius, i.e. the clear aperture\n",
    "            'z0': the location of the center of the surface along the optical axis z\n",
    "            'refl': the reflection of the mirror. currently unused\n",
    "            'tilt': the tilt of the mirror about an axis which bisects the surface profile and is\n",
    "                perpendicular to the optical axis, in radians\n",
    "            'x0': the position of the mirror wrt the x axis. x0=0 by default, so the mirror is on axis.\n",
    "        \"\"\"\n",
    "        self.RoC = RoC\n",
    "        self.r = r # radius\n",
    "        self.refl = refl # not used yet\n",
    "        self.tilt = tilt # measured as the angle between the mirror normal (at x=0) and the optical axis\n",
    "        self.z0 = z0 # the location of the mirror center along the optical axis\n",
    "        self.x0 = x0\n",
    "        self._x = self.RoC*cos(self.tilt) # it doesn't look like this gets used\n",
    "        self._y = self.RoC*sin(self.tilt) # it doesn't look like this gets used\n",
    "        \n",
    "    \n",
    "    def surf(self, pts=20):\n",
    "        \"\"\"\n",
    "        pts for plotting the surface vs z.\n",
    "        \n",
    "        note this is different from the sag, because it is plotted as a \"function\" (not 1 to 1)\n",
    "        of z.\n",
    "        \n",
    "        # todo account for tilt\n",
    "        \n",
    "        returns:\n",
    "            zpts: list of points in z\n",
    "            xpts: the height of the mirror from the optical axis\n",
    "        \"\"\"\n",
    "        \n",
    "#         if self.RoC > 0:\n",
    "#             zmax = -sqrt(self.RoC**2 - self.r**2) + self.z0 + self.RoC\n",
    "#             zmin = self.z0\n",
    "#         else:\n",
    "#             zmin = sqrt(self.RoC**2 - self.r**2) + self.z0 + self.RoC\n",
    "#             zmax = self.z0\n",
    "#         zpts = linspace(zmin, zmax, pts)\n",
    "#         xpts_top = sqrt(self.RoC**2 - (zpts-self.z0-self.RoC)**2)\n",
    "#         if self.RoC > 0:\n",
    "#             xpts = concatenate((flip(xpts_top),-xpts_top))\n",
    "#             zpts = concatenate((flip(zpts),zpts))\n",
    "#         else:\n",
    "#             xpts = concatenate((xpts_top,flip(-xpts_top)))\n",
    "#             zpts = concatenate((zpts,flip(zpts)))\n",
    "\n",
    "        # todo: account for surface tilt\n",
    "\n",
    "        if self.RoC > 0:\n",
    "            zmax = -sqrt(self.RoC**2 - self.r**2) + self.z0 + self.RoC\n",
    "            zmin = self.z0\n",
    "        else:\n",
    "            zmin = sqrt(self.RoC**2 - self.r**2) + self.z0 + self.RoC\n",
    "            zmax = self.z0\n",
    "        zpts = linspace(zmin, zmax, pts)\n",
    "        xpts_top = sqrt(self.RoC**2 - (zpts-self.z0-self.RoC)**2)\n",
    "        if self.RoC > 0:\n",
    "            xpts = concatenate((flip(xpts_top),-xpts_top)) + self.x0\n",
    "            zpts = concatenate((flip(zpts),zpts))\n",
    "        else:\n",
    "            xpts = concatenate((xpts_top,flip(-xpts_top))) + self.x0\n",
    "            zpts = concatenate((zpts,flip(zpts)))\n",
    "            \n",
    "        # todo\n",
    "#         if self.tilt != 0:\n",
    "#             zpts *= \n",
    "            \n",
    "        return zpts,xpts\n",
    "    \n",
    "    def sag(self, x):\n",
    "        \"\"\"\n",
    "        the function defining the height (z) of the surface as a function of x\n",
    "        \n",
    "        x is the transverse coordinate\n",
    "        \"\"\"\n",
    "\n",
    "        # todo: account for surface tilt\n",
    "        \n",
    "        return -1*sign(self.RoC)*sqrt(self.RoC**2 - (x-self.x0)**2) + self.z0 + self.RoC # if abs(x) <= r else 0\n",
    "    \n",
    "    def M(self,ray):\n",
    "        \"\"\"\n",
    "        matrix for reflection (paraxial approximation)\n",
    "        \n",
    "        'ray': (x,th) with x the ray height and th angle of incidence wrt to the optical axis in radians\n",
    "        \"\"\"\n",
    "            \n",
    "        x,th = ray\n",
    "#         return array([[1,0],[0,(th+2*arctan2(self.slope(x),1))/th]])\n",
    "        Re = sign(self.RoC)*self.RoC*cos(self.tilt)\n",
    "        return array([[1,0],[-2/Re,1]])\n",
    "    \n",
    "    def slope(self,x):\n",
    "        \"\"\"\n",
    "        return the slope of the mirror dx/dz at x\n",
    "        \"\"\"\n",
    "        \n",
    "        # todo: account for surface tilt\n",
    "        \n",
    "        return -1*sign(self.RoC)*(x-self.x0)/sqrt(self.RoC**2 - (x-self.x0)**2)\n",
    "    \n",
    "#     def plot(self,ax=None):\n",
    "#         \"\"\"\n",
    "#         plot the surface\n",
    "#         \"\"\"\n",
    "#         if ax == None:\n",
    "#             fig,ax = plt.subplots()\n",
    "            \n",
    "            \n",
    "#         ax.plot(*self.surf())"
   ]
  },
  {
   "cell_type": "code",
   "execution_count": 167,
   "id": "8185bc73",
   "metadata": {},
   "outputs": [
    {
     "data": {
      "text/plain": [
       "<ufunc 'sign'>"
      ]
     },
     "execution_count": 167,
     "metadata": {},
     "output_type": "execute_result"
    }
   ],
   "source": [
    "sign"
   ]
  },
  {
   "cell_type": "code",
   "execution_count": 170,
   "id": "b37a9641",
   "metadata": {},
   "outputs": [
    {
     "data": {
      "text/plain": [
       "<matplotlib.legend.Legend at 0x133e1395be0>"
      ]
     },
     "execution_count": 170,
     "metadata": {},
     "output_type": "execute_result"
    },
    {
     "data": {
      "image/png": "[encoded data removed]",
      "text/plain": [
       "<Figure size 432x288 with 1 Axes>"
      ]
     },
     "metadata": {
      "needs_background": "light"
     },
     "output_type": "display_data"
    }
   ],
   "source": [
    "m1 = Mirror(RoC=5,r=2,z0=0)\n",
    "m2 = Mirror(RoC=-5,r=2,z0=10,tilt=0.1)\n",
    "\n",
    "plt.plot(*m1.surf(),label='m1')\n",
    "plt.plot(*m2.surf(),label='m2')\n",
    "plt.legend()"
   ]
  },
  {
   "cell_type": "code",
   "execution_count": 192,
   "id": "2080ef23",
   "metadata": {
    "scrolled": false
   },
   "outputs": [
    {
     "data": {
      "text/plain": [
       "<matplotlib.legend.Legend at 0x133e28c41c0>"
      ]
     },
     "execution_count": 192,
     "metadata": {},
     "output_type": "execute_result"
    },
    {
     "data": {
      "image/png": "[encoded data removed]",
      "text/plain": [
       "<Figure size 432x288 with 1 Axes>"
      ]
     },
     "metadata": {
      "needs_background": "light"
     },
     "output_type": "display_data"
    }
   ],
   "source": [
    "xpts = linspace(-r,r,20)\n",
    "plt.plot(xpts, m1.sag(xpts),label='m1')\n",
    "plt.plot(xpts, m2.sag(xpts),label='m2')\n",
    "plt.legend()"
   ]
  },
  {
   "cell_type": "code",
   "execution_count": 333,
   "id": "8a97e9b0",
   "metadata": {},
   "outputs": [
    {
     "name": "stdout",
     "output_type": "stream",
     "text": [
      "guess 0: 1.0\n",
      "0.9866914762704517 9.901677256884142\n",
      "[ 0.98669148 -0.19728416]\n",
      "guess 1: -0.9861501079229364\n"
     ]
    },
    {
     "data": {
      "text/plain": [
       "<matplotlib.legend.Legend at 0x133e8cdeca0>"
      ]
     },
     "execution_count": 333,
     "metadata": {},
     "output_type": "execute_result"
    },
    {
     "data": {
      "image/png": "[encoded data removed]",
      "text/plain": [
       "<Figure size 432x288 with 1 Axes>"
      ]
     },
     "metadata": {
      "needs_background": "light"
     },
     "output_type": "display_data"
    }
   ],
   "source": [
    "m1 = Mirror(RoC=5,r=2,z0=0)\n",
    "m2 = Mirror(RoC=-5,r=2,z0=10)\n",
    "\n",
    "plt.plot(*m1.surf(),label='m1')\n",
    "plt.plot(*m2.surf(),label='m2')\n",
    "\n",
    "# starting parameter for a ray\n",
    "w1=-1\n",
    "th1=.2\n",
    "chi0 = array([w1,th1])\n",
    "\n",
    "# \n",
    "def wz_next(ray, mirrors, guess):\n",
    "    \"\"\"\n",
    "    w2, z2 where the ray will impinge on the next surface\n",
    "    \n",
    "    mirrors: a two-tuple of mirror objects that have the function sag(x). \n",
    "        the first (second) entry is the staring (ending) surface\n",
    "    \"\"\"\n",
    "    w1,th1 = ray\n",
    "    m1,m2 = mirrors\n",
    "    f = lambda w2: (w2 - w1)/abs(m2.sag(w2) - m1.sag(w1)) - tan(th1)\n",
    "    w2 = newton(f, guess)\n",
    "    z2 = m2.sag(w2)\n",
    "    return w2, z2\n",
    "\n",
    "guess = chi0[0] + chi0[1]*L\n",
    "print('guess 0:',guess)\n",
    "w2,z2 = wz_next(chi0, (m1,m2), guess=guess)\n",
    "print(w2,z2)\n",
    "chi1 = array([w2,th1])\n",
    "\n",
    "# reflect\n",
    "chi2 = dot(m2.M(chi1),chi1)\n",
    "print(chi2)\n",
    "# print(chi1)\n",
    "# print(chi2)\n",
    "\n",
    "guess = chi2[0] + chi2[1]*L\n",
    "print('guess 1:',guess)\n",
    "w3,z3 = wz_next(chi2,(m2,m1), guess=guess)\n",
    "\n",
    "# chi1 = dot(array([[1,d],[0,1]]),chi0)\n",
    "rayx = [chi0[0], chi1[0], w3]\n",
    "z1 = m1.sag(w1)\n",
    "rayz = [z1,z2,z3]\n",
    "plt.plot(rayz,rayx)\n",
    "# plt.scatter([m2.sag(chi1[0])],[chi1[0]])\n",
    "plt.legend()"
   ]
  },
  {
   "cell_type": "code",
   "execution_count": 320,
   "id": "def76e07",
   "metadata": {},
   "outputs": [
    {
     "data": {
      "text/plain": [
       "1.0"
      ]
     },
     "execution_count": 320,
     "metadata": {},
     "output_type": "execute_result"
    }
   ],
   "source": [
    "chi0[0] + chi0[1]*L"
   ]
  },
  {
   "cell_type": "code",
   "execution_count": 307,
   "id": "2cea5d97",
   "metadata": {},
   "outputs": [
    {
     "name": "stdout",
     "output_type": "stream",
     "text": [
      "[-1.0, 0.9866914762704506, -0.9733756749108328]\n"
     ]
    },
    {
     "data": {
      "text/plain": [
       "(-1, 1.0, -0.9861501079229331)"
      ]
     },
     "execution_count": 307,
     "metadata": {},
     "output_type": "execute_result"
    }
   ],
   "source": [
    "print(rayx)\n",
    "# starting w, w after trip 1, before refl, w after trip 2\n",
    "w1, chi0[0] + 10*chi0[1], chi2[0] + 10*chi2[1]"
   ]
  },
  {
   "cell_type": "code",
   "execution_count": 304,
   "id": "4141c404",
   "metadata": {},
   "outputs": [
    {
     "data": {
      "text/plain": [
       "0.2"
      ]
     },
     "execution_count": 304,
     "metadata": {},
     "output_type": "execute_result"
    }
   ],
   "source": [
    "chi1[1]"
   ]
  },
  {
   "cell_type": "code",
   "execution_count": 222,
   "id": "44120998",
   "metadata": {},
   "outputs": [
    {
     "data": {
      "text/plain": [
       "[<matplotlib.lines.Line2D at 0x133e475e4f0>]"
      ]
     },
     "execution_count": 222,
     "metadata": {},
     "output_type": "execute_result"
    },
    {
     "data": {
      "image/png": "[encoded data removed]",
      "text/plain": [
       "<Figure size 432x288 with 1 Axes>"
      ]
     },
     "metadata": {
      "needs_background": "light"
     },
     "output_type": "display_data"
    }
   ],
   "source": [
    "xpts = linspace(-r,r,20)\n",
    "plt.plot(xpts, m1.slope(xpts))\n",
    "plt.plot(xpts, m1.sag(xpts))"
   ]
  },
  {
   "cell_type": "code",
   "execution_count": 12,
   "id": "3b17ed30",
   "metadata": {},
   "outputs": [
    {
     "data": {
      "image/png": "[encoded data removed]",
      "text/plain": [
       "<Figure size 1080x1728 with 1 Axes>"
      ]
     },
     "metadata": {
      "needs_background": "light"
     },
     "output_type": "display_data"
    }
   ],
   "source": [
    "L = 15 # cavity length\n",
    "m1 = Mirror(RoC=0.6*L,r=0.5,z0=0,tilt=0)\n",
    "m2 = Mirror(RoC=-0.6*L,r=0.5,z0=m1.z0+L,x0=0)\n",
    "ML = Md(L) # propagation over distance L in free space\n",
    "\n",
    "fig, ax = plt.subplots(figsize=(15,24))\n",
    "ax.plot(*m1.surf(),label='m1',lw='4')\n",
    "ax.plot(*m2.surf(),label='m2',lw='4')\n",
    "\n",
    "def wz_next(ray, mirrors, guess):\n",
    "    \"\"\"\n",
    "    w2, z2 where the ray will impinge on the next surface\n",
    "    \n",
    "    mirrors: a two-tuple of mirror objects that have the function sag(x). \n",
    "        the first (second) entry is the staring (ending) surface\n",
    "    guess: a guess for w2, i.e. the ray height at surface 2\n",
    "    \"\"\"\n",
    "    w1, th1 = ray\n",
    "    m1,m2 = mirrors\n",
    "    f = lambda w2: (w2 - w1)/abs(m2.sag(w2) - m1.sag(w1)) - tan(th1)\n",
    "    w2 = newton(f, guess)\n",
    "    z2 = m2.sag(w2)\n",
    "    return w2, z2\n",
    "\n",
    "trips = 100 # number of one-way trips in the cavity\n",
    "\n",
    "# starting parameter for a marginal ray\n",
    "lmbda = 7.8e-7\n",
    "w0 = 5e-5\n",
    "zR = pi*w0**2/lmbda\n",
    "w1 = -w0*sqrt(1+((L/2)/zR)**2)\n",
    "th1 = arctan2(sqrt(2)*w0,zR)\n",
    "chi = array([w1,th1])\n",
    "xpts = [w1]\n",
    "zpts = [m1.sag(w1)]\n",
    "w2_guess = dot(ML,chi)[0]\n",
    "# print(f\"initial ray. w={w1},th={th1}\")\n",
    "\n",
    "for i in range(trips):\n",
    "    \n",
    "    # propagate to next surface\n",
    "    mirrors = (m2,m1) if i % 2 else (m1,m2)\n",
    "#     print(f\"guess {i}:\",w2_guess)\n",
    "    \n",
    "    try:\n",
    "        w2,z2 = wz_next(chi, mirrors, guess=w2_guess)\n",
    "    except RuntimeError:\n",
    "        break\n",
    "        \n",
    "#     print(w2,z2)\n",
    "    xpts.append(w2) #xpts[i+1] = w2\n",
    "    zpts.append(z2) #zpts[i+1] = z2\n",
    "    \n",
    "    # update waist after propagation\n",
    "    chi = array([w2,chi[1]])\n",
    "    \n",
    "    # reflection\n",
    "    chi = dot(mirrors[1].M(chi),chi)\n",
    "#     print(f\"after prop and refl. w={chi[0]},th={chi[1]}\")\n",
    "    \n",
    "    w2_guess = dot(ML,chi)[0]\n",
    "        \n",
    "    if chi[0] > mirrors[1].r:\n",
    "        print(f\"the ray left the cavity at trip {i}\")\n",
    "        break\n",
    "    \n",
    "ax.plot(zpts,xpts,color='crimson',lw=0.2)\n",
    "ax.set_aspect('equal')"
   ]
  },
  {
   "cell_type": "code",
   "execution_count": 341,
   "id": "f7e0a1ec",
   "metadata": {},
   "outputs": [
    {
     "data": {
      "text/plain": [
       "0.07010957526420673"
      ]
     },
     "execution_count": 341,
     "metadata": {},
     "output_type": "execute_result"
    }
   ],
   "source": [
    "lmbda = 7.8e-7\n",
    "w0 = 5e-6\n",
    "zR = pi*w0**2/lmbda\n",
    "arctan2(sqrt(2)*w0,zR)"
   ]
  }
 ],
 "metadata": {
  "kernelspec": {
   "display_name": "Python 3 (ipykernel)",
   "language": "python",
   "name": "python3"
  },
  "language_info": {
   "codemirror_mode": {
    "name": "ipython",
    "version": 3
   },
   "file_extension": ".py",
   "mimetype": "text/x-python",
   "name": "python",
   "nbconvert_exporter": "python",
   "pygments_lexer": "ipython3",
   "version": "3.9.6"
  }
 },
 "nbformat": 4,
 "nbformat_minor": 5
}
