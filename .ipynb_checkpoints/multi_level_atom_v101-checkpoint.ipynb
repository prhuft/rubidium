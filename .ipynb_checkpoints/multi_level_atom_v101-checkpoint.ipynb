{
 "cells": [
  {
   "cell_type": "markdown",
   "metadata": {},
   "source": [
    "\"\"\" Multi-level atom solver, 1.01\n",
    "    Preston Huft, September 2019\n",
    "    \n",
    "    Version notes\n",
    "        - can generate a fully symbolic set of ODES and solve them. wooo\n",
    "    \n",
    "    Comments\n",
    "        -  \n",
    "    \n",
    "    To-do\n",
    "        - deprecate hard-coded optical Bloch equations - check\n",
    "        - generate fully symbolic set of ODEs (RHS) - check\n",
    "        - pass set of ODEs to derivs function, then set the ODE values inside the function - check\n",
    "        - make the solver a class? hmm\n",
    "\"\"\""
   ]
  },
  {
   "cell_type": "code",
   "execution_count": 3,
   "metadata": {
    "scrolled": false
   },
   "outputs": [
    {
     "data": {
      "text/html": [
       "<style>.container{width:100% !important;}</style>"
      ],
      "text/plain": [
       "<IPython.core.display.HTML object>"
      ]
     },
     "metadata": {},
     "output_type": "display_data"
    }
   ],
   "source": [
    "import numpy as np\n",
    "from numpy import sin,cos,exp,empty,linspace,array,sqrt\n",
    "from matplotlib import pyplot as plt\n",
    "from scipy.integrate import solve_ivp\n",
    "import sympy\n",
    "from sympy import MatrixSymbol,MatAdd,MatMul,Identity,I,Matrix,symbols,Function\n",
    "from sympy.utilities.lambdify import lambdify, implemented_function\n",
    "from sympy.utilities.iterables import flatten\n",
    "import time\n",
    "from IPython.core.display import display,HTML\n",
    "display(HTML(\"<style>.container{width:100% !important;}</style>\"))\n",
    "# sympy.init_printing() <-- causes jupyter to freeze"
   ]
  },
  {
   "cell_type": "code",
   "execution_count": 4,
   "metadata": {
    "scrolled": false
   },
   "outputs": [],
   "source": [
    "# misc functions\n",
    "def cc(z):\n",
    "    \"\"\"np.conj(z)\"\"\"\n",
    "    return np.conj(z)\n",
    "\n",
    "def comm(A,B):\n",
    "    \"\"\"[A,B]=A.B-B.A. Assumes symbolic matrix.\"\"\"\n",
    "    return (MatMul(A,B)-MatMul(B,A)) #.as_mutable"
   ]
  },
  {
   "cell_type": "code",
   "execution_count": null,
   "metadata": {},
   "outputs": [],
   "source": [
    "class von_neumann:\n",
    "    \n",
    "    # TODO:\n",
    "    # - make a labeling system for the plot lines so density matrix indices are \n",
    "    #   shown in legend. \n",
    "    # - option to pass in basis to create rho from basis and label plotlines with\n",
    "    #   basis entries\n",
    "    \n",
    "    def __init__(self,H,r0):\n",
    "        \"\"\" yup \"\"\"\n",
    "        \n",
    "        Hd1,Hd2 = H.shape\n",
    "        assert Hd1 == Hd2\n",
    "        assert r0.shape[0] == r0.shape[1] && r0.shape == H.shape\n",
    "        \n",
    "        self.r0 = flatten(r0) # flattened initial density matrix\n",
    "        self.r = MatrixSymbol('r',Hd1,Hd2).as_mutable() # density op\n",
    "        self.RHS -1j*comm(self.H,self.r)\n",
    "#         self.soln = empty()\n",
    "         \n",
    "    def solve(self,t_exp,steps):\n",
    "        \"\"\" solve the von Neumann eq for the given Hamiltonian \n",
    "            't_exp': experiment duration in [s]\n",
    "            'steps': number of time points to solve ODE\n",
    "        \"\"\"\n",
    "        \n",
    "        RHS = self.RHS\n",
    "        \n",
    "        # build the derivative function for the ODE solver\n",
    "        f = lambdify(RHS.free_symbols,RHS)\n",
    "        def derivs(t,y):\n",
    "            \"\"\" takes unraveled or flattened density matrix, returns flattened RHS\n",
    "                of von Neumann equation\n",
    "            \"\"\"\n",
    "            j=int(sqrt(len(y)))\n",
    "            return flatten(f(Matrix(y.reshape((j,j)))))\n",
    "        \n",
    "        soln = solve_ivp(derivs,[0,t_exp],r0,t_eval=np.linspace(0,t_exp,tpts)) # update to self.soln \n",
    "        \n",
    "        plt.plot(soln.t,soln.y[0]) # plot ground state evolution as test. update to soln.showplot()? <-- nicely formatted \n",
    "        \n",
    "#     def showplot(self):\n",
    "#         \"\"\" nothing yet \"\"\"\n",
    "        \n",
    "#         plt.plot(x,y)\n",
    "#         plt.fancy('true')\n",
    "        "
   ]
  },
  {
   "cell_type": "code",
   "execution_count": 8,
   "metadata": {
    "scrolled": false
   },
   "outputs": [],
   "source": [
    "## THIS FRICKIN WORKS WOOOOOOO :D\n",
    "\n",
    "# define symbolic matrices which can be made numeric later\n",
    "E1,E2,d,O,t,o,g = symbols('E1 E2 d O t o g') # symbolic variables\n",
    "\n",
    "# Set the parameters of H\n",
    "O = 1; # Rabi frequency in units of the excited state lifetime\n",
    "E2 = 1; \n",
    "E1 = 0; \n",
    "o = E2-E1; # transition frequency, hbar is unity\n",
    "d = 0 # detuning from w. \n",
    "g = 1 # the upper state lifetime\n",
    "\n",
    "# Build the Hamiltonian\n",
    "H_a = Matrix([[E2,0],[0,E1]])\n",
    "H_field = Matrix([[0,cc(O)/2],[O/2,0]]) # RWA\n",
    "H = H_a + H_field # the full Hamiltonian\n",
    "\n",
    "# RHS of von Neumann\n",
    "r = MatrixSymbol('r',2,2).as_mutable() # density op\n",
    "r[0,1]=cc(r[1,0]) # now we need only solve 3 eqs\n",
    "RHS = -1j*comm(r,H) # RHS of von Neumann eq system; hbar = 1 for now\n",
    "r0 = array([1+0j,0+0j,0+0j,0+0j]) # flattened initial dens. op.\n",
    "\n",
    "f = lambdify(RHS.free_symbols,RHS)\n",
    "def derivs(t,y):\n",
    "    \"\"\" takes unraveled or flattened density matrix, returns flattened RHS\n",
    "        of von Neumann equation\n",
    "    \"\"\"\n",
    "    j=int(sqrt(len(y)))\n",
    "    return flatten(f(Matrix(y.reshape((j,j)))))"
   ]
  },
  {
   "cell_type": "code",
   "execution_count": 21,
   "metadata": {},
   "outputs": [
    {
     "ename": "AssertionError",
     "evalue": "",
     "output_type": "error",
     "traceback": [
      "\u001b[1;31m---------------------------------------------------------------------------\u001b[0m",
      "\u001b[1;31mAssertionError\u001b[0m                            Traceback (most recent call last)",
      "\u001b[1;32m<ipython-input-21-48b93a4e051d>\u001b[0m in \u001b[0;36m<module>\u001b[1;34m\u001b[0m\n\u001b[1;32m----> 1\u001b[1;33m \u001b[1;32massert\u001b[0m \u001b[0mH\u001b[0m\u001b[1;33m.\u001b[0m\u001b[0mshape\u001b[0m\u001b[1;33m[\u001b[0m\u001b[1;36m0\u001b[0m\u001b[1;33m]\u001b[0m\u001b[1;33m==\u001b[0m \u001b[1;33m[\u001b[0m\u001b[1;36m0\u001b[0m\u001b[1;33m,\u001b[0m\u001b[1;36m1\u001b[0m\u001b[1;33m]\u001b[0m\u001b[1;31m#H.shape[1]\u001b[0m\u001b[1;33m\u001b[0m\u001b[1;33m\u001b[0m\u001b[0m\n\u001b[0m",
      "\u001b[1;31mAssertionError\u001b[0m: "
     ]
    }
   ],
   "source": []
  },
  {
   "cell_type": "code",
   "execution_count": 27,
   "metadata": {},
   "outputs": [],
   "source": [
    "t_exp = 20\n",
    "tpts = 1000\n",
    "soln = solve_ivp(derivs,[0,t_exp],r0,t_eval=np.linspace(0,t_exp,tpts)) # doesn't work because expects 1D state array in/out of derivs"
   ]
  }
 ],
 "metadata": {
  "kernelspec": {
   "display_name": "Python 3",
   "language": "python",
   "name": "python3"
  },
  "language_info": {
   "codemirror_mode": {
    "name": "ipython",
    "version": 3
   },
   "file_extension": ".py",
   "mimetype": "text/x-python",
   "name": "python",
   "nbconvert_exporter": "python",
   "pygments_lexer": "ipython3",
   "version": "3.7.3"
  }
 },
 "nbformat": 4,
 "nbformat_minor": 2
}
