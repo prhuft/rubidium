{
 "cells": [
  {
   "cell_type": "code",
   "execution_count": null,
   "metadata": {},
   "outputs": [],
   "source": [
    "\"\"\"\n",
    "1D Magneto-optical trap (MOT) simulation. Est. March 2019\n",
    "Preston Huft\n",
    "\n",
    "\"\"\""
   ]
  },
  {
   "cell_type": "markdown",
   "metadata": {},
   "source": [
    "# notes and todo\n",
    "no "
   ]
  },
  {
   "cell_type": "code",
   "execution_count": null,
   "metadata": {},
   "outputs": [],
   "source": [
    "# pseudocode here\n",
    "\n",
    "atoms = ensemble(size) # generate atom dist with x,v,|c_i|^2\n",
    "dt ~ lifetime\n",
    "steps = 100\n",
    "\n",
    "# first, some sanity checks\n",
    "vstd = std(atoms.v)\n",
    "xstd = std(atoms.x)\n",
    "\n",
    "vavg = empty(len(steps),object)\n",
    "xavg = empty(len(steps),object)\n",
    "\n",
    "for a in atoms:\n",
    "    \n",
    "    vlist = empty(steps) \n",
    "    xlist = empty(steps)\n",
    "    \n",
    "    for i in range(steps):\n",
    "        \n",
    "        cg,ce,v,x = a.state # the current atom state\n",
    "\n",
    "        tlist = linspace(0,dt,100) # dt ~ pi time\n",
    "        solg,sole = master_eq(a.state,v,x) # the population dist\n",
    "        plot(tlist,sol) # sanity check\n",
    "\n",
    "        cg = accept_reject({tlist,solg},dt) # 1 or 0\n",
    "        ce = 1-c_g\n",
    "\n",
    "        x = v*dt\n",
    "        k_eff = (omega+k*v)/c\n",
    "        v = v-(hbar*k_eff/mRb)*c_e\n",
    "        \n",
    "        xlist[i]=x\n",
    "        vlist[i]=v\n",
    "        \n",
    "        # update the atom state\n",
    "        a.state = [cg,ce,v,x]\n",
    "    \n",
    "    # sanity checks\n",
    "    plot(range(steps),xlist) \n",
    "    plot(range(steps),vlist)\n",
    "    \n",
    "    # update the lists to-be-averaged, el-wise addition\n",
    "    xavg += xlist #\n",
    "    vavg += vlist\n",
    "    \n",
    "# finish the averages\n",
    "xavg /= len(atoms)\n",
    "vavg /= len(atoms)\n",
    "\n",
    "# plot temp \n",
    "temps = [(.5*mRb*v**2)/kB for v in vavg]\n",
    "plot(range(steps),temps/1e-6)"
   ]
  },
  {
   "cell_type": "code",
   "execution_count": 26,
   "metadata": {},
   "outputs": [],
   "source": [
    "## LIBRARIES \n",
    "import matplotlib.pyplot as plt\n",
    "from math import e,pi\n",
    "import numpy as np\n",
    "from numpy import linspace,arange,sin,cos,exp\n",
    "from random import random as rand\n",
    "## LOCAL FILES\n",
    "from physconsts import *\n",
    "from rbconsts import *\n",
    "from rb"
   ]
  },
  {
   "cell_type": "code",
   "execution_count": 299,
   "metadata": {},
   "outputs": [],
   "source": [
    "## METHODS \n",
    "def state_init(n,showplot=False):\n",
    "    # TODO add initial density matrix for the ensemble\n",
    "    \"\"\"intiliaze the ensemble of atoms. \n",
    "    n = number of atoms\n",
    "    \"\"\"\n",
    "    state = np.empty((3,n)) # state[0]=x, state[1]=p\n",
    "    \n",
    "    # initial positions with gaussian dist\n",
    "    state[0] = gaussian_rands(n,0,10,1000)\n",
    "    \n",
    "    # initial momenta with gaussian dist \n",
    "    state[1] = gaussian_rands(n,0,10,100)\n",
    "    \n",
    "    # initial energy states. for now, only two levels and no rules\n",
    "    for i in range(0,n):\n",
    "        state[2,i]= m.floor(rand()+.5) # state is 0 or 1\n",
    "    \n",
    "    if showplot is not False:\n",
    "        state_plot(state)\n",
    "    \n",
    "    return state\n",
    "\n",
    "def gaussian_rands(n,mean,sigma,domain,showplot=False):\n",
    "    \"\"\"return a 1D array of randoms with a gaussian pdf. \n",
    "       mean: the average value\n",
    "       sigma: the std\n",
    "       domain: the dist's domain. e.g. domain = 100 would\n",
    "       generate a gaussian dist f(x) for x on (mean-domain/2,mean+domain/2)\n",
    "    \"\"\"\n",
    "    var = sigma**2\n",
    "    f0 = (1/m.sqrt(2*m.pi*var)) # the normalization const\n",
    "    y_dist = np.empty(n) # the\n",
    "    f_dist = np.empty(n) \n",
    "    x_dist = np.empty(n) # this is the distribution we want\n",
    "    j = 0 # dist index\n",
    "    while j < n:\n",
    "        x = domain*(rand()-.5)+mean # rand val on domain of f(x)\n",
    "        f = f0*m.exp(-(x-mean)**2/(2*var))\n",
    "        y = rand()*f0 # rand val on range of f(x)\n",
    "        if y <= f:\n",
    "            y_dist[j]=y\n",
    "            f_dist[j]=f\n",
    "            x_dist[j]=x # x vals with approximate gaussian pdf\n",
    "            j+=1\n",
    "            \n",
    "    # plot distribution as a check:\n",
    "    if showplot is not False:\n",
    "        plt.scatter(x_dist,y_dist,c='red',s=10)\n",
    "        plt.scatter(x_dist,f_dist,c='blue',s=10)\n",
    "        plt.show()\n",
    "    \n",
    "    return x_dist\n",
    "    \n",
    "\n",
    "def state_plot(state):\n",
    "    #TODO:\n",
    "    # set aspect ratio = 1 for the phase space plot,\n",
    "    # draw a gaussian waist fit on the the p.s. plot\n",
    "    # add this state plot function to the rb ensemble class\n",
    "    \"\"\"plot the ensemble in phase space and a level histogram\"\"\"\n",
    "    x,p,e = state\n",
    "    levels = [0,1] # the energy levels. not numpy because i'm lazy\n",
    "    \n",
    "    # phase space\n",
    "    plt.subplot(221)\n",
    "    plt.scatter(x,p,s=1)\n",
    "\n",
    "    # level population\n",
    "    plt.subplot(222)\n",
    "    plt.hist(e,bins=2,histtype='step')\n",
    "    plt.xticks(levels)\n",
    "\n",
    "    plt.show()"
   ]
  },
  {
   "cell_type": "code",
   "execution_count": 300,
   "metadata": {},
   "outputs": [
    {
     "data": {
      "image/png": "[encoded data removed]",
      "text/plain": [
       "<matplotlib.figure.Figure at 0x1297230>"
      ]
     },
     "metadata": {},
     "output_type": "display_data"
    }
   ],
   "source": [
    "# test gaussian rands\n",
    "n=gaussian_rands(100,0,20,100,True)"
   ]
  },
  {
   "cell_type": "code",
   "execution_count": 301,
   "metadata": {},
   "outputs": [
    {
     "data": {
      "image/png": "[encoded data removed]",
      "text/plain": [
       "<matplotlib.figure.Figure at 0x14333d0>"
      ]
     },
     "metadata": {},
     "output_type": "display_data"
    }
   ],
   "source": [
    "# test state generation and plot\n",
    "atoms = state_init(500,True)"
   ]
  },
  {
   "cell_type": "code",
   "execution_count": 29,
   "metadata": {},
   "outputs": [
    {
     "data": {
      "text/plain": [
       "3.584e-29"
      ]
     },
     "execution_count": 29,
     "metadata": {},
     "output_type": "execute_result"
    }
   ],
   "source": [
    "D2_MatElem"
   ]
  },
  {
   "cell_type": "code",
   "execution_count": null,
   "metadata": {},
   "outputs": [],
   "source": []
  }
 ],
 "metadata": {
  "kernelspec": {
   "display_name": "Python 3",
   "language": "python",
   "name": "python3"
  },
  "language_info": {
   "codemirror_mode": {
    "name": "ipython",
    "version": 3
   },
   "file_extension": ".py",
   "mimetype": "text/x-python",
   "name": "python",
   "nbconvert_exporter": "python",
   "pygments_lexer": "ipython3",
   "version": "3.7.3"
  }
 },
 "nbformat": 4,
 "nbformat_minor": 2
}
